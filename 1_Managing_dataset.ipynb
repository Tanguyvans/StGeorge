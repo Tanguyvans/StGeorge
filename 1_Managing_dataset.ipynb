{
  "nbformat": 4,
  "nbformat_minor": 0,
  "metadata": {
    "colab": {
      "provenance": [],
      "authorship_tag": "ABX9TyP53xVNuB6gwofdZEw5oOBR",
      "include_colab_link": true
    },
    "kernelspec": {
      "name": "python3",
      "display_name": "Python 3"
    },
    "language_info": {
      "name": "python"
    }
  },
  "cells": [
    {
      "cell_type": "markdown",
      "metadata": {
        "id": "view-in-github",
        "colab_type": "text"
      },
      "source": [
        "<a href=\"https://colab.research.google.com/github/Tanguyvans/StGeorge/blob/main/Adding_Data.ipynb\" target=\"_parent\"><img src=\"https://colab.research.google.com/assets/colab-badge.svg\" alt=\"Open In Colab\"/></a>"
      ]
    },
    {
      "cell_type": "code",
      "execution_count": 1,
      "metadata": {
        "id": "zKFzK3pB96bV"
      },
      "outputs": [],
      "source": [
        "!pip install -q kaggle\n",
        "\n",
        "import urllib\n",
        "import os\n",
        "import pandas as pd\n",
        "\n",
        "from google.colab import files\n",
        "from google.colab import drive\n",
        "\n",
        "from os import listdir\n",
        "from os.path import isfile, join"
      ]
    },
    {
      "cell_type": "code",
      "source": [
        "files.upload()"
      ],
      "metadata": {
        "colab": {
          "base_uri": "https://localhost:8080/",
          "height": 92
        },
        "id": "BdvxBngy-84Q",
        "outputId": "f1b4c9f2-e8e8-4dd5-9cf2-da371f89e716"
      },
      "execution_count": 12,
      "outputs": [
        {
          "output_type": "display_data",
          "data": {
            "text/plain": [
              "<IPython.core.display.HTML object>"
            ],
            "text/html": [
              "\n",
              "     <input type=\"file\" id=\"files-1f93f097-0a0b-43c8-a956-07864bff9751\" name=\"files[]\" multiple disabled\n",
              "        style=\"border:none\" />\n",
              "     <output id=\"result-1f93f097-0a0b-43c8-a956-07864bff9751\">\n",
              "      Upload widget is only available when the cell has been executed in the\n",
              "      current browser session. Please rerun this cell to enable.\n",
              "      </output>\n",
              "      <script>// Copyright 2017 Google LLC\n",
              "//\n",
              "// Licensed under the Apache License, Version 2.0 (the \"License\");\n",
              "// you may not use this file except in compliance with the License.\n",
              "// You may obtain a copy of the License at\n",
              "//\n",
              "//      http://www.apache.org/licenses/LICENSE-2.0\n",
              "//\n",
              "// Unless required by applicable law or agreed to in writing, software\n",
              "// distributed under the License is distributed on an \"AS IS\" BASIS,\n",
              "// WITHOUT WARRANTIES OR CONDITIONS OF ANY KIND, either express or implied.\n",
              "// See the License for the specific language governing permissions and\n",
              "// limitations under the License.\n",
              "\n",
              "/**\n",
              " * @fileoverview Helpers for google.colab Python module.\n",
              " */\n",
              "(function(scope) {\n",
              "function span(text, styleAttributes = {}) {\n",
              "  const element = document.createElement('span');\n",
              "  element.textContent = text;\n",
              "  for (const key of Object.keys(styleAttributes)) {\n",
              "    element.style[key] = styleAttributes[key];\n",
              "  }\n",
              "  return element;\n",
              "}\n",
              "\n",
              "// Max number of bytes which will be uploaded at a time.\n",
              "const MAX_PAYLOAD_SIZE = 100 * 1024;\n",
              "\n",
              "function _uploadFiles(inputId, outputId) {\n",
              "  const steps = uploadFilesStep(inputId, outputId);\n",
              "  const outputElement = document.getElementById(outputId);\n",
              "  // Cache steps on the outputElement to make it available for the next call\n",
              "  // to uploadFilesContinue from Python.\n",
              "  outputElement.steps = steps;\n",
              "\n",
              "  return _uploadFilesContinue(outputId);\n",
              "}\n",
              "\n",
              "// This is roughly an async generator (not supported in the browser yet),\n",
              "// where there are multiple asynchronous steps and the Python side is going\n",
              "// to poll for completion of each step.\n",
              "// This uses a Promise to block the python side on completion of each step,\n",
              "// then passes the result of the previous step as the input to the next step.\n",
              "function _uploadFilesContinue(outputId) {\n",
              "  const outputElement = document.getElementById(outputId);\n",
              "  const steps = outputElement.steps;\n",
              "\n",
              "  const next = steps.next(outputElement.lastPromiseValue);\n",
              "  return Promise.resolve(next.value.promise).then((value) => {\n",
              "    // Cache the last promise value to make it available to the next\n",
              "    // step of the generator.\n",
              "    outputElement.lastPromiseValue = value;\n",
              "    return next.value.response;\n",
              "  });\n",
              "}\n",
              "\n",
              "/**\n",
              " * Generator function which is called between each async step of the upload\n",
              " * process.\n",
              " * @param {string} inputId Element ID of the input file picker element.\n",
              " * @param {string} outputId Element ID of the output display.\n",
              " * @return {!Iterable<!Object>} Iterable of next steps.\n",
              " */\n",
              "function* uploadFilesStep(inputId, outputId) {\n",
              "  const inputElement = document.getElementById(inputId);\n",
              "  inputElement.disabled = false;\n",
              "\n",
              "  const outputElement = document.getElementById(outputId);\n",
              "  outputElement.innerHTML = '';\n",
              "\n",
              "  const pickedPromise = new Promise((resolve) => {\n",
              "    inputElement.addEventListener('change', (e) => {\n",
              "      resolve(e.target.files);\n",
              "    });\n",
              "  });\n",
              "\n",
              "  const cancel = document.createElement('button');\n",
              "  inputElement.parentElement.appendChild(cancel);\n",
              "  cancel.textContent = 'Cancel upload';\n",
              "  const cancelPromise = new Promise((resolve) => {\n",
              "    cancel.onclick = () => {\n",
              "      resolve(null);\n",
              "    };\n",
              "  });\n",
              "\n",
              "  // Wait for the user to pick the files.\n",
              "  const files = yield {\n",
              "    promise: Promise.race([pickedPromise, cancelPromise]),\n",
              "    response: {\n",
              "      action: 'starting',\n",
              "    }\n",
              "  };\n",
              "\n",
              "  cancel.remove();\n",
              "\n",
              "  // Disable the input element since further picks are not allowed.\n",
              "  inputElement.disabled = true;\n",
              "\n",
              "  if (!files) {\n",
              "    return {\n",
              "      response: {\n",
              "        action: 'complete',\n",
              "      }\n",
              "    };\n",
              "  }\n",
              "\n",
              "  for (const file of files) {\n",
              "    const li = document.createElement('li');\n",
              "    li.append(span(file.name, {fontWeight: 'bold'}));\n",
              "    li.append(span(\n",
              "        `(${file.type || 'n/a'}) - ${file.size} bytes, ` +\n",
              "        `last modified: ${\n",
              "            file.lastModifiedDate ? file.lastModifiedDate.toLocaleDateString() :\n",
              "                                    'n/a'} - `));\n",
              "    const percent = span('0% done');\n",
              "    li.appendChild(percent);\n",
              "\n",
              "    outputElement.appendChild(li);\n",
              "\n",
              "    const fileDataPromise = new Promise((resolve) => {\n",
              "      const reader = new FileReader();\n",
              "      reader.onload = (e) => {\n",
              "        resolve(e.target.result);\n",
              "      };\n",
              "      reader.readAsArrayBuffer(file);\n",
              "    });\n",
              "    // Wait for the data to be ready.\n",
              "    let fileData = yield {\n",
              "      promise: fileDataPromise,\n",
              "      response: {\n",
              "        action: 'continue',\n",
              "      }\n",
              "    };\n",
              "\n",
              "    // Use a chunked sending to avoid message size limits. See b/62115660.\n",
              "    let position = 0;\n",
              "    do {\n",
              "      const length = Math.min(fileData.byteLength - position, MAX_PAYLOAD_SIZE);\n",
              "      const chunk = new Uint8Array(fileData, position, length);\n",
              "      position += length;\n",
              "\n",
              "      const base64 = btoa(String.fromCharCode.apply(null, chunk));\n",
              "      yield {\n",
              "        response: {\n",
              "          action: 'append',\n",
              "          file: file.name,\n",
              "          data: base64,\n",
              "        },\n",
              "      };\n",
              "\n",
              "      let percentDone = fileData.byteLength === 0 ?\n",
              "          100 :\n",
              "          Math.round((position / fileData.byteLength) * 100);\n",
              "      percent.textContent = `${percentDone}% done`;\n",
              "\n",
              "    } while (position < fileData.byteLength);\n",
              "  }\n",
              "\n",
              "  // All done.\n",
              "  yield {\n",
              "    response: {\n",
              "      action: 'complete',\n",
              "    }\n",
              "  };\n",
              "}\n",
              "\n",
              "scope.google = scope.google || {};\n",
              "scope.google.colab = scope.google.colab || {};\n",
              "scope.google.colab._files = {\n",
              "  _uploadFiles,\n",
              "  _uploadFilesContinue,\n",
              "};\n",
              "})(self);\n",
              "</script> "
            ]
          },
          "metadata": {}
        },
        {
          "output_type": "stream",
          "name": "stdout",
          "text": [
            "Saving kaggle.json to kaggle.json\n"
          ]
        },
        {
          "output_type": "execute_result",
          "data": {
            "text/plain": [
              "{'kaggle.json': b'{\"username\":\"tanguyvansnick\",\"key\":\"a2825ca20b6db75af047cd19500b7f0a\"}'}"
            ]
          },
          "metadata": {},
          "execution_count": 12
        }
      ]
    },
    {
      "cell_type": "code",
      "source": [
        "drive.mount('/content/gdrive')\n",
        "\n",
        "!rm -r ~/.kaggle\n",
        "!mkdir ~/.kaggle\n",
        "!mv ./kaggle.json ~/.kaggle/\n",
        "!chmod 600 ~/.kaggle/kaggle.json\n",
        "!kaggle datasets list\n",
        "!kaggle datasets download -d gobsan/st-george-or-not\n",
        "!unzip st-george-or-not.zip\n",
        "!mkdir /content/gdrive/MyDrive/george_ds\n",
        "!mkdir /content/gdrive/MyDrive/george_ds/george\n",
        "!mkdir /content/gdrive/MyDrive/george_ds/no_george"
      ],
      "metadata": {
        "id": "Sf8QgUwF-iLd",
        "outputId": "fe73e46b-ec99-4d74-fab5-10097428cd91",
        "colab": {
          "base_uri": "https://localhost:8080/"
        }
      },
      "execution_count": 13,
      "outputs": [
        {
          "output_type": "stream",
          "name": "stdout",
          "text": [
            "Drive already mounted at /content/gdrive; to attempt to forcibly remount, call drive.mount(\"/content/gdrive\", force_remount=True).\n",
            "ref                                                           title                                             size  lastUpdated          downloadCount  voteCount  usabilityRating  \n",
            "------------------------------------------------------------  -----------------------------------------------  -----  -------------------  -------------  ---------  ---------------  \n",
            "salvatorerastelli/spotify-and-youtube                         Spotify and Youtube                                9MB  2023-03-20 15:43:25           3754        145  1.0              \n",
            "ashishraut64/global-methane-emissions                         Global Emissions.                                 31KB  2023-03-27 09:02:51           1005         31  1.0              \n",
            "thitiwat/top-100-most-expensive-football-transfers            ⚽ Top 100 most expensive football transfers        2KB  2023-03-27 04:06:28            626         25  1.0              \n",
            "davidms8/product-sales-detail                                 Product Sales - Detail 2023                        2MB  2023-03-15 14:50:30           1496         42  0.8235294        \n",
            "dgoenrique/netflix-movies-and-tv-shows                        Netflix Movies and TV Shows                        2MB  2023-03-13 18:49:00           2449         66  1.0              \n",
            "lamiatabassum/top-50-us-tech-companies-2022-2023-dataset      USA Tech Companies Stats                           2KB  2023-03-25 06:06:20            815         30  1.0              \n",
            "arnabchaki/popular-video-games-1980-2023                      Popular Video Games 1980 - 2023 🎮                  1MB  2023-03-23 16:16:51           2017         68  1.0              \n",
            "rkiattisak/student-performance-in-mathematics                 Student performance prediction                     9KB  2023-03-12 04:32:56           4975        107  1.0              \n",
            "usamabuttar/world-happiness-report-2005-present               World Happiness Report, 2005-Present             123KB  2023-03-25 17:38:26           1188         35  1.0              \n",
            "datascientistanna/customers-dataset                           Shop Customer Data                                23KB  2023-02-07 18:42:21          17713        369  1.0              \n",
            "kylegraupe/ukrainerussia-conflict-dataset                     Ukraine/Russia Conflict Dataset                    4MB  2023-03-27 16:51:19            619         33  0.9411765        \n",
            "mehmettahiraslan/customer-shopping-dataset                    Customer Shopping Dataset - Retail Sales Data      2MB  2023-03-09 07:44:35           3293         73  1.0              \n",
            "ulrikthygepedersen/meat-consumption                           Meat Consumption                                 137KB  2023-03-02 09:59:13            976         24  1.0              \n",
            "rajkumarpandey02/list-of-countries-by-gdp-sector-composition  List of Countries by GDP Sector Composition        8KB  2023-03-20 04:42:10           1654         57  1.0              \n",
            "ajaypalsinghlo/world-happiness-report-2023                    World Happiness Report 2023                        7KB  2023-03-22 07:29:42           1403         41  0.9411765        \n",
            "amaanansari09/most-streamed-songs-all-time                    Most Streamed Songs (All Time)                     8KB  2023-03-08 10:56:24           3711         82  1.0              \n",
            "mazlumi/mbti-personality-type-twitter-dataset                 MBTI Personality Type Twitter Dataset             33MB  2023-03-22 12:11:45            425         34  1.0              \n",
            "shreyajagani13/used-car-dataset                               Used Car Dataset                                  12KB  2023-03-19 06:38:54           1510         34  1.0              \n",
            "hrokrin/the-largest-diamond-dataset-currely-on-kaggle         The largest diamond dataset currently on Kaggle    4MB  2023-03-16 20:29:04            501         23  1.0              \n",
            "dansbecker/melbourne-housing-snapshot                         Melbourne Housing Snapshot                       451KB  2018-06-05 12:52:24         111651       1236  0.7058824        \n",
            "Downloading st-george-or-not.zip to /content\n",
            " 11% 67.0M/595M [00:03<00:30, 18.1MB/s]\n",
            "User cancelled operation\n",
            "Archive:  st-george-or-not.zip\n",
            "  End-of-central-directory signature not found.  Either this file is not\n",
            "  a zipfile, or it constitutes one disk of a multi-part archive.  In the\n",
            "  latter case the central directory and zipfile comment will be found on\n",
            "  the last disk(s) of this archive.\n",
            "unzip:  cannot find zipfile directory in one of st-george-or-not.zip or\n",
            "        st-george-or-not.zip.zip, and cannot find st-george-or-not.zip.ZIP, period.\n",
            "mkdir: cannot create directory ‘/content/gdrive/MyDrive/george_ds’: File exists\n",
            "mkdir: cannot create directory ‘/content/gdrive/MyDrive/george_ds/george’: File exists\n",
            "mkdir: cannot create directory ‘/content/gdrive/MyDrive/george_ds/no_george’: File exists\n"
          ]
        }
      ]
    },
    {
      "cell_type": "code",
      "source": [
        "add_data = False\n",
        "\n",
        "def adding_data(source, target): \n",
        "  files = [f for f in listdir(source) if isfile(join(source, f))]\n",
        "  targetfiles = [f for f in listdir(target) if isfile(join(target, f))]\n",
        "\n",
        "  for file in files: \n",
        "    if file not in target: \n",
        "      dirpath = source+file\n",
        "      !cp {dirpath} {targetpath}\n",
        "\n",
        "if add_data: \n",
        "  # For the george data\n",
        "  sourcepath = '/content/data/g/'\n",
        "  targetpath = '/content/gdrive/MyDrive/george_ds/george/'\n",
        "  adding_data(sourcepath, targetpath)\n",
        "\n",
        "  # for no_george data \n",
        "  sourcepath = '/content/data/n_g/'\n",
        "  targetpath = '/content/gdrive/MyDrive/george_ds/no_george/'\n",
        "  adding_data(sourcepath, targetpath)"
      ],
      "metadata": {
        "id": "Cz9H09iOA6tr"
      },
      "execution_count": 2,
      "outputs": []
    },
    {
      "cell_type": "code",
      "source": [
        "get_images = False\n",
        "\n",
        "source_path = '/content/gdrive/MyDrive/test_assignment_cv/'\n",
        "dataset_path = '/content/gdrive/MyDrive/george_ds/'\n",
        "\n",
        "if get_images: \n",
        "  if os.path.exists(dataset_path) == False:\n",
        "    os.mkdir(dataset_path+'george')\n",
        "    os.mkdir(dataset_path+'no_george')\n",
        "\n",
        "  george = pd.read_csv(source_path+'georges.csv', header = None)\n",
        "  non_george = pd.read_csv(source_path+'non_georges.csv', header = None)\n",
        "\n",
        "  for index, row in george.iterrows(): \n",
        "    urllib.request.urlretrieve(row[0], dataset_path+'george/'+str(index)+'.jpg')\n",
        "\n",
        "  for index, row in non_george.iterrows():\n",
        "    urllib.request.urlretrieve(row[0], dataset_path+'no_george/'+str(index)+'.jpg')"
      ],
      "metadata": {
        "id": "smF_VCpGsf1a"
      },
      "execution_count": 3,
      "outputs": []
    },
    {
      "cell_type": "code",
      "source": [
        "!pip install ImageHash\n",
        "\n",
        "import imagehash\n",
        "from tqdm import tqdm\n",
        "from PIL import Image\n",
        "\n",
        "from traitlets.traitlets import default\n",
        "classes = ['george/', 'no_george/']\n",
        "\n",
        "hash_dict = {}\n",
        "for classe in classes:\n",
        "  path = dataset_path + classe\n",
        "  for image in tqdm(os.listdir(path)):\n",
        "    path_image = path + image\n",
        "    if 'jpg' not in image: \n",
        "      os.remove(path_image)\n",
        "      continue\n",
        "    hash = imagehash.dhash(Image.open(path_image))\n",
        "    if hash not in hash_dict:\n",
        "      hash_dict[hash] = path_image\n",
        "\n",
        "    else:\n",
        "      #print(f'{hash_dict[hash]} is equal to {path_image}')\n",
        "      os.remove(path_image)\n",
        "      print(f'{path_image} removed')"
      ],
      "metadata": {
        "id": "CjpsJTkxs5_o",
        "outputId": "89e86800-2edb-465e-d76e-f98c19daeca0",
        "colab": {
          "base_uri": "https://localhost:8080/"
        }
      },
      "execution_count": 5,
      "outputs": [
        {
          "output_type": "stream",
          "name": "stdout",
          "text": [
            "Looking in indexes: https://pypi.org/simple, https://us-python.pkg.dev/colab-wheels/public/simple/\n",
            "Requirement already satisfied: ImageHash in /usr/local/lib/python3.9/dist-packages (4.3.1)\n",
            "Requirement already satisfied: PyWavelets in /usr/local/lib/python3.9/dist-packages (from ImageHash) (1.4.1)\n",
            "Requirement already satisfied: pillow in /usr/local/lib/python3.9/dist-packages (from ImageHash) (8.4.0)\n",
            "Requirement already satisfied: numpy in /usr/local/lib/python3.9/dist-packages (from ImageHash) (1.22.4)\n",
            "Requirement already satisfied: scipy in /usr/local/lib/python3.9/dist-packages (from ImageHash) (1.10.1)\n"
          ]
        },
        {
          "output_type": "stream",
          "name": "stderr",
          "text": [
            " 40%|███▉      | 1925/4842 [00:51<01:21, 35.72it/s]"
          ]
        },
        {
          "output_type": "stream",
          "name": "stdout",
          "text": [
            "/content/gdrive/MyDrive/george_ds/george/44fb1c2ec351a4657e66e327657d37c0.jpg removed\n",
            "/content/gdrive/MyDrive/george_ds/george/08437793e1a373e08f2e958befc6eef1.jpg.1 removed\n"
          ]
        },
        {
          "output_type": "stream",
          "name": "stderr",
          "text": [
            " 40%|███▉      | 1936/4842 [00:51<01:16, 37.87it/s]"
          ]
        },
        {
          "output_type": "stream",
          "name": "stdout",
          "text": [
            "/content/gdrive/MyDrive/george_ds/george/ae6e0a08a0c28a794852534c1ce56251.jpg.2 removed\n",
            "/content/gdrive/MyDrive/george_ds/george/01fa6f6ee89e05957cb30a23b17db813.jpg removed\n",
            "/content/gdrive/MyDrive/george_ds/george/558b5cbf61510adc5d3b4b54396a0759.jpg.1 removed\n"
          ]
        },
        {
          "output_type": "stream",
          "name": "stderr",
          "text": [
            "\r 40%|████      | 1941/4842 [00:51<01:22, 34.97it/s]"
          ]
        },
        {
          "output_type": "stream",
          "name": "stdout",
          "text": [
            "/content/gdrive/MyDrive/george_ds/george/01dcea291ddc7ce0fd04d17c9007198a.jpg removed\n",
            "/content/gdrive/MyDrive/george_ds/george/856c96b255440a17965ebe4c45214b78.jpg.1 removed\n"
          ]
        },
        {
          "output_type": "stream",
          "name": "stderr",
          "text": [
            " 40%|████      | 1950/4842 [00:52<01:22, 35.15it/s]"
          ]
        },
        {
          "output_type": "stream",
          "name": "stdout",
          "text": [
            "/content/gdrive/MyDrive/george_ds/george/7242ced755a4c352afde3ae53f126e67.jpg.1 removed\n",
            "/content/gdrive/MyDrive/george_ds/george/2f47c728a81c588f5af8c03f531b941f.jpg.1 removed\n",
            "/content/gdrive/MyDrive/george_ds/george/153311a3697f0602feb46968e5323488.jpg removed\n",
            "/content/gdrive/MyDrive/george_ds/george/bee476a984ca80d3a32d8aa407b98ce2.jpg removed\n",
            "/content/gdrive/MyDrive/george_ds/george/c349b58da07f55071bfadf416c959e91.jpg removed\n"
          ]
        },
        {
          "output_type": "stream",
          "name": "stderr",
          "text": [
            " 40%|████      | 1958/4842 [00:52<01:23, 34.61it/s]"
          ]
        },
        {
          "output_type": "stream",
          "name": "stdout",
          "text": [
            "/content/gdrive/MyDrive/george_ds/george/be6609113e10af79fa9cf27f2d531ed2.jpg removed\n",
            "/content/gdrive/MyDrive/george_ds/george/ded142c274c8ccf9fbaf0b602f168f3a.jpg.1 removed\n",
            "/content/gdrive/MyDrive/george_ds/george/11a115f3ca9319f6345e613d95056e84.jpg.1 removed\n",
            "/content/gdrive/MyDrive/george_ds/george/c157f06b60aedb7e0a36845780679d30.jpg removed\n"
          ]
        },
        {
          "output_type": "stream",
          "name": "stderr",
          "text": [
            "\r 41%|████      | 1962/4842 [00:52<01:27, 32.82it/s]"
          ]
        },
        {
          "output_type": "stream",
          "name": "stdout",
          "text": [
            "/content/gdrive/MyDrive/george_ds/george/2d6a78423ea41caa7104dc52cd9ed667.jpg.1 removed\n",
            "/content/gdrive/MyDrive/george_ds/george/ce553352bb62b0c4c53458339a5151ea.jpg removed\n",
            "/content/gdrive/MyDrive/george_ds/george/75dde8dcc1b5b72fcdebeff851692c83.jpg removed\n",
            "/content/gdrive/MyDrive/george_ds/george/062d975263a0e18a2f32b43b0ae86611.jpg removed\n"
          ]
        },
        {
          "output_type": "stream",
          "name": "stderr",
          "text": [
            " 41%|████      | 1970/4842 [00:52<01:41, 28.34it/s]"
          ]
        },
        {
          "output_type": "stream",
          "name": "stdout",
          "text": [
            "/content/gdrive/MyDrive/george_ds/george/ac5add3d1b7b7a2cc1258c510f31643a.jpg removed\n",
            "/content/gdrive/MyDrive/george_ds/george/9548fa06aeb39c5bdece8f7699ecd5f2.jpg removed\n",
            "/content/gdrive/MyDrive/george_ds/george/0d52dc9f1c11c9c8c101ce3399cee8b5.jpg.1 removed\n"
          ]
        },
        {
          "output_type": "stream",
          "name": "stderr",
          "text": [
            " 41%|████      | 1982/4842 [00:53<01:25, 33.27it/s]"
          ]
        },
        {
          "output_type": "stream",
          "name": "stdout",
          "text": [
            "/content/gdrive/MyDrive/george_ds/george/0170c0b56f8e4726aba50cfd7bf22ec1.jpg removed\n",
            "/content/gdrive/MyDrive/george_ds/george/4770cc5a31717a4105a419d96da4f271.jpg removed\n",
            "/content/gdrive/MyDrive/george_ds/george/42b38432540634e371d0b9706a44df11.jpg removed\n",
            "/content/gdrive/MyDrive/george_ds/george/a0d59ad1d2172aa81ea8413233b7795a.jpg removed\n",
            "/content/gdrive/MyDrive/george_ds/george/4cc8ab27f3cc6e36a9da0ee950c8ee2b.jpg.1 removed\n"
          ]
        },
        {
          "output_type": "stream",
          "name": "stderr",
          "text": [
            "\r 41%|████      | 1986/4842 [00:53<01:29, 32.07it/s]"
          ]
        },
        {
          "output_type": "stream",
          "name": "stdout",
          "text": [
            "/content/gdrive/MyDrive/george_ds/george/fd838bf321069205ba525dc488441928.jpg removed\n",
            "/content/gdrive/MyDrive/george_ds/george/b4cb1056afa694e406486e893c34c427.jpg.1 removed\n",
            "/content/gdrive/MyDrive/george_ds/george/0fd3d0123749b109db3a7fd94ea21924.jpg removed\n"
          ]
        },
        {
          "output_type": "stream",
          "name": "stderr",
          "text": [
            " 41%|████      | 1993/4842 [00:53<01:42, 27.72it/s]"
          ]
        },
        {
          "output_type": "stream",
          "name": "stdout",
          "text": [
            "/content/gdrive/MyDrive/george_ds/george/176f4554ab543a96c3953c57d89b51af.jpg removed\n",
            "/content/gdrive/MyDrive/george_ds/george/aaa9df1a50952c22c429ff6a8096a24c.jpg.2 removed\n",
            "/content/gdrive/MyDrive/george_ds/george/9e7c51332c22107b0227425f40c9c87a.jpg removed\n",
            "/content/gdrive/MyDrive/george_ds/george/a59621b960bc4db307f733a2cd79a4f5.jpg removed\n"
          ]
        },
        {
          "output_type": "stream",
          "name": "stderr",
          "text": [
            " 41%|████▏     | 2000/4842 [00:53<01:40, 28.19it/s]"
          ]
        },
        {
          "output_type": "stream",
          "name": "stdout",
          "text": [
            "/content/gdrive/MyDrive/george_ds/george/c1d0192f23141103de07db6a50c79cfb.jpg.1 removed\n",
            "/content/gdrive/MyDrive/george_ds/george/e8fe9d7aa8468ac9a805c581c535bb02.jpg removed\n"
          ]
        },
        {
          "output_type": "stream",
          "name": "stderr",
          "text": [
            " 42%|████▏     | 2012/4842 [00:54<01:18, 36.05it/s]"
          ]
        },
        {
          "output_type": "stream",
          "name": "stdout",
          "text": [
            "/content/gdrive/MyDrive/george_ds/george/f4ce5a71b86b25c4d2dc67423e805857.jpg removed\n",
            "/content/gdrive/MyDrive/george_ds/george/9edbda23ae70ba8237d142f6b956a109.jpg removed\n",
            "/content/gdrive/MyDrive/george_ds/george/b1c0d0e014d79ccd5cc1dcf8558336be.jpg.1 removed\n",
            "/content/gdrive/MyDrive/george_ds/george/92f04ea993da153b5c7c88ac48814510.jpg removed\n"
          ]
        },
        {
          "output_type": "stream",
          "name": "stderr",
          "text": [
            " 42%|████▏     | 2024/4842 [00:54<01:19, 35.28it/s]"
          ]
        },
        {
          "output_type": "stream",
          "name": "stdout",
          "text": [
            "/content/gdrive/MyDrive/george_ds/george/9da10b82bfc2e8bc1b95b1f6eefcdf10.jpg.1 removed\n",
            "/content/gdrive/MyDrive/george_ds/george/de4dfca78c0afa5b711dbf503a36b8aa.jpg removed\n",
            "/content/gdrive/MyDrive/george_ds/george/26eb5abeff7d7f515d0096fb960aa471.jpg removed\n",
            "/content/gdrive/MyDrive/george_ds/george/a0889aa8e2d52dd64781a16c3fa95781.jpg.1 removed\n",
            "/content/gdrive/MyDrive/george_ds/george/20593873f3ef036045b47f55da9db511.jpg removed\n",
            "/content/gdrive/MyDrive/george_ds/george/7cbb6d2d92da6687e305f0115a1aa4e4.jpg.1 removed\n"
          ]
        },
        {
          "output_type": "stream",
          "name": "stderr",
          "text": [
            " 42%|████▏     | 2034/4842 [00:54<01:09, 40.32it/s]"
          ]
        },
        {
          "output_type": "stream",
          "name": "stdout",
          "text": [
            "/content/gdrive/MyDrive/george_ds/george/1271775552990a97e9cd0f80da984430.jpg removed\n",
            "/content/gdrive/MyDrive/george_ds/george/231d700e35f0dc5102be777d9da73774.jpg removed\n",
            "/content/gdrive/MyDrive/george_ds/george/6cdf843bc5885e4cb10bf60748998c93.jpg removed\n",
            "/content/gdrive/MyDrive/george_ds/george/7ba83af77e48e3fdde0ff9a45701300e.jpg removed\n"
          ]
        },
        {
          "output_type": "stream",
          "name": "stderr",
          "text": [
            "\r 42%|████▏     | 2039/4842 [00:54<01:16, 36.59it/s]"
          ]
        },
        {
          "output_type": "stream",
          "name": "stdout",
          "text": [
            "/content/gdrive/MyDrive/george_ds/george/7093d1d508c67e936469a33aae40cc65.jpg.1 removed\n",
            "/content/gdrive/MyDrive/george_ds/george/99d47e509ce15c5c4f30d770233a0500.jpg.3 removed\n",
            "/content/gdrive/MyDrive/george_ds/george/35a50c18de3bcc4f2f51958a049ac318.jpg removed\n"
          ]
        },
        {
          "output_type": "stream",
          "name": "stderr",
          "text": [
            " 42%|████▏     | 2049/4842 [00:55<01:10, 39.84it/s]"
          ]
        },
        {
          "output_type": "stream",
          "name": "stdout",
          "text": [
            "/content/gdrive/MyDrive/george_ds/george/8d5e650d46d2b46dc3e1a749a808f005.jpg removed\n",
            "/content/gdrive/MyDrive/george_ds/george/91f076174135950d4bb2b5276dac5b04.jpg removed\n",
            "/content/gdrive/MyDrive/george_ds/george/4cc8ab27f3cc6e36a9da0ee950c8ee2b.jpg.2 removed\n"
          ]
        },
        {
          "output_type": "stream",
          "name": "stderr",
          "text": [
            " 43%|████▎     | 2066/4842 [00:55<01:00, 45.93it/s]"
          ]
        },
        {
          "output_type": "stream",
          "name": "stdout",
          "text": [
            "/content/gdrive/MyDrive/george_ds/george/e6600470d9ec26853f1ee8285aaa0773.jpg removed\n",
            "/content/gdrive/MyDrive/george_ds/george/96032231be55a0a62ca3c3fa623a2d69.jpg removed\n",
            "/content/gdrive/MyDrive/george_ds/george/648e295603ac78df7288749b5296617c.jpg removed\n",
            "/content/gdrive/MyDrive/george_ds/george/d251c0ad08a5ba2ba163217f91ab7e9f.jpg.1 removed\n",
            "/content/gdrive/MyDrive/george_ds/george/622e8e7a10b907def975bd0ef558a9b0.jpg.2 removed\n",
            "/content/gdrive/MyDrive/george_ds/george/54a2f09993f9f5bd16ecab7bf3a1fd62.jpg.1 removed\n"
          ]
        },
        {
          "output_type": "stream",
          "name": "stderr",
          "text": [
            " 43%|████▎     | 2076/4842 [00:55<01:03, 43.42it/s]"
          ]
        },
        {
          "output_type": "stream",
          "name": "stdout",
          "text": [
            "/content/gdrive/MyDrive/george_ds/george/88fb883aaa20a859e8b460a9104bf783.jpg removed\n",
            "/content/gdrive/MyDrive/george_ds/george/7ea5221109eef7a9ec7d2894c2396025.jpg removed\n",
            "/content/gdrive/MyDrive/george_ds/george/cb352d180b8243bd3738a4310fe8b426.jpg.1 removed\n",
            "/content/gdrive/MyDrive/george_ds/george/64284d362db7048223aca6b96a4ef915.jpg removed\n",
            "/content/gdrive/MyDrive/george_ds/george/ff07c427a8c246e4bfa48b44be2ae13e.jpg removed\n"
          ]
        },
        {
          "output_type": "stream",
          "name": "stderr",
          "text": [
            " 43%|████▎     | 2087/4842 [00:55<00:58, 46.75it/s]"
          ]
        },
        {
          "output_type": "stream",
          "name": "stdout",
          "text": [
            "/content/gdrive/MyDrive/george_ds/george/96ef0d549eab98c42929a6572fabdaf8.jpg.1 removed\n",
            "/content/gdrive/MyDrive/george_ds/george/11c277f08b0e62527a491863597cae46.jpg.1 removed\n",
            "/content/gdrive/MyDrive/george_ds/george/76bd00aa0c671914f988ea0d6f8d9861.jpg removed\n",
            "/content/gdrive/MyDrive/george_ds/george/bb880a95cd7b39a4cfd9faaeaeb5fbf6.jpg.1 removed\n"
          ]
        },
        {
          "output_type": "stream",
          "name": "stderr",
          "text": [
            " 43%|████▎     | 2100/4842 [00:56<00:55, 49.70it/s]"
          ]
        },
        {
          "output_type": "stream",
          "name": "stdout",
          "text": [
            "/content/gdrive/MyDrive/george_ds/george/0018b7f3006c03e479018e609629d226.jpg.2 removed\n",
            "/content/gdrive/MyDrive/george_ds/george/b105240ddbf58401497b8605df69cd35.jpg.1 removed\n",
            "/content/gdrive/MyDrive/george_ds/george/3e9edf67925bcadaf26f7270942dbe89.jpg removed\n"
          ]
        },
        {
          "output_type": "stream",
          "name": "stderr",
          "text": [
            " 44%|████▎     | 2112/4842 [00:56<00:51, 53.42it/s]"
          ]
        },
        {
          "output_type": "stream",
          "name": "stdout",
          "text": [
            "/content/gdrive/MyDrive/george_ds/george/5672272a9e6f8b4614e820fd748ff33f.jpg removed\n",
            "/content/gdrive/MyDrive/george_ds/george/21e6c98c4359b8fea39336afae1f1be3.jpg removed\n",
            "/content/gdrive/MyDrive/george_ds/george/5d786ae388b875ca69b39f1b79f538a1.jpg removed\n",
            "/content/gdrive/MyDrive/george_ds/george/3ffa430bf1e635c1e57ee7b1b94cbbc3.jpg removed\n",
            "/content/gdrive/MyDrive/george_ds/george/f74b3b7682d10560bbefc973b80eb33e.jpg removed\n",
            "/content/gdrive/MyDrive/george_ds/george/cae321df7a99ec4aedf245ec89360977.jpg.1 removed\n"
          ]
        },
        {
          "output_type": "stream",
          "name": "stderr",
          "text": [
            " 44%|████▍     | 2124/4842 [00:56<00:49, 54.84it/s]"
          ]
        },
        {
          "output_type": "stream",
          "name": "stdout",
          "text": [
            "/content/gdrive/MyDrive/george_ds/george/00f07d4b277a6de64488cb1137347db6.jpg removed\n",
            "/content/gdrive/MyDrive/george_ds/george/ddaada1ddd04e05a0799424326521a80.jpg removed\n",
            "/content/gdrive/MyDrive/george_ds/george/715cf128b1e6389d9f3a4564f9e71373.jpg removed\n",
            "/content/gdrive/MyDrive/george_ds/george/4445b0ebb65222c7c8b0b873727c3a55.jpg.1 removed\n",
            "/content/gdrive/MyDrive/george_ds/george/ced20142629c2472682e6ff3f46a5b61.jpg removed\n",
            "/content/gdrive/MyDrive/george_ds/george/0ae6d5b5d8e6069cb52060b5fe9f7eba.jpg removed\n"
          ]
        },
        {
          "output_type": "stream",
          "name": "stderr",
          "text": [
            " 44%|████▍     | 2139/4842 [00:56<00:44, 60.55it/s]"
          ]
        },
        {
          "output_type": "stream",
          "name": "stdout",
          "text": [
            "/content/gdrive/MyDrive/george_ds/george/91113ed1c3dc8a37386d99b1d1ce2dcb.jpg removed\n",
            "/content/gdrive/MyDrive/george_ds/george/9f1aebb94101e5b0edf6a6fc4a116c49.jpg removed\n",
            "/content/gdrive/MyDrive/george_ds/george/8bb2927b00cf527f8bfbc328ec992a52.jpg removed\n",
            "/content/gdrive/MyDrive/george_ds/george/8e4a9a0d33af39d674dbc6cbfbaad1b7.jpg removed\n",
            "/content/gdrive/MyDrive/george_ds/george/7377240989e000cf9fca977380252d86.jpg removed\n"
          ]
        },
        {
          "output_type": "stream",
          "name": "stderr",
          "text": [
            " 44%|████▍     | 2153/4842 [00:57<00:48, 55.64it/s]"
          ]
        },
        {
          "output_type": "stream",
          "name": "stdout",
          "text": [
            "/content/gdrive/MyDrive/george_ds/george/17389ea81544f2fa4f7b99a0ec3e1454.jpg removed\n",
            "/content/gdrive/MyDrive/george_ds/george/49513690ad00c8cf4107ce1355be6412.jpg removed\n",
            "/content/gdrive/MyDrive/george_ds/george/caa39dff44d57fd8b920dd3c747a1808.jpg removed\n",
            "/content/gdrive/MyDrive/george_ds/george/2fbb797cd3bfbb06425021e0ac6aae0c.jpg removed\n",
            "/content/gdrive/MyDrive/george_ds/george/dd298d4eac9a8e2afebe6922f3f5ab8e.jpg removed\n"
          ]
        },
        {
          "output_type": "stream",
          "name": "stderr",
          "text": [
            " 45%|████▍     | 2165/4842 [00:57<00:51, 51.80it/s]"
          ]
        },
        {
          "output_type": "stream",
          "name": "stdout",
          "text": [
            "/content/gdrive/MyDrive/george_ds/george/633914d5d9bdfda411bf2c37abcfd080.jpg.1 removed\n",
            "/content/gdrive/MyDrive/george_ds/george/133.jpg removed\n",
            "/content/gdrive/MyDrive/george_ds/george/140.jpg removed\n",
            "/content/gdrive/MyDrive/george_ds/george/115.jpg removed\n",
            "/content/gdrive/MyDrive/george_ds/george/117.jpg removed\n",
            "/content/gdrive/MyDrive/george_ds/george/114.jpg removed\n",
            "/content/gdrive/MyDrive/george_ds/george/142.jpg removed\n",
            "/content/gdrive/MyDrive/george_ds/george/137.jpg removed\n"
          ]
        },
        {
          "output_type": "stream",
          "name": "stderr",
          "text": [
            " 45%|████▍     | 2176/4842 [00:57<00:59, 44.76it/s]"
          ]
        },
        {
          "output_type": "stream",
          "name": "stdout",
          "text": [
            "/content/gdrive/MyDrive/george_ds/george/135.jpg removed\n",
            "/content/gdrive/MyDrive/george_ds/george/136.jpg removed\n",
            "/content/gdrive/MyDrive/george_ds/george/134.jpg removed\n",
            "/content/gdrive/MyDrive/george_ds/george/102.jpg removed\n",
            "/content/gdrive/MyDrive/george_ds/george/103.jpg removed\n",
            "/content/gdrive/MyDrive/george_ds/george/100.jpg removed\n",
            "/content/gdrive/MyDrive/george_ds/george/97.jpg removed\n",
            "/content/gdrive/MyDrive/george_ds/george/95.jpg removed\n"
          ]
        },
        {
          "output_type": "stream",
          "name": "stderr",
          "text": [
            "\r 45%|████▌     | 2181/4842 [00:57<01:04, 41.15it/s]"
          ]
        },
        {
          "output_type": "stream",
          "name": "stdout",
          "text": [
            "/content/gdrive/MyDrive/george_ds/george/105.jpg removed\n",
            "/content/gdrive/MyDrive/george_ds/george/110.jpg removed\n",
            "/content/gdrive/MyDrive/george_ds/george/106.jpg removed\n",
            "/content/gdrive/MyDrive/george_ds/george/111.jpg removed\n",
            "/content/gdrive/MyDrive/george_ds/george/146.jpg removed\n",
            "/content/gdrive/MyDrive/george_ds/george/118.jpg removed\n",
            "/content/gdrive/MyDrive/george_ds/george/113.jpg removed\n"
          ]
        },
        {
          "output_type": "stream",
          "name": "stderr",
          "text": [
            " 45%|████▌     | 2191/4842 [00:58<01:08, 38.86it/s]"
          ]
        },
        {
          "output_type": "stream",
          "name": "stdout",
          "text": [
            "/content/gdrive/MyDrive/george_ds/george/116.jpg removed\n",
            "/content/gdrive/MyDrive/george_ds/george/145.jpg removed\n",
            "/content/gdrive/MyDrive/george_ds/george/157.jpg removed\n",
            "/content/gdrive/MyDrive/george_ds/george/141.jpg removed\n",
            "/content/gdrive/MyDrive/george_ds/george/139.jpg removed\n",
            "/content/gdrive/MyDrive/george_ds/george/138.jpg removed\n",
            "/content/gdrive/MyDrive/george_ds/george/188.jpg removed\n",
            "/content/gdrive/MyDrive/george_ds/george/182.jpg removed\n",
            "/content/gdrive/MyDrive/george_ds/george/167.jpg removed\n"
          ]
        },
        {
          "output_type": "stream",
          "name": "stderr",
          "text": [
            " 45%|████▌     | 2201/4842 [00:58<01:03, 41.77it/s]"
          ]
        },
        {
          "output_type": "stream",
          "name": "stdout",
          "text": [
            "/content/gdrive/MyDrive/george_ds/george/144.jpg removed\n",
            "/content/gdrive/MyDrive/george_ds/george/90.jpg removed\n",
            "/content/gdrive/MyDrive/george_ds/george/93.jpg removed\n",
            "/content/gdrive/MyDrive/george_ds/george/68.jpg removed\n",
            "/content/gdrive/MyDrive/george_ds/george/63.jpg removed\n",
            "/content/gdrive/MyDrive/george_ds/george/69.jpg removed\n",
            "/content/gdrive/MyDrive/george_ds/george/61.jpg removed\n",
            "/content/gdrive/MyDrive/george_ds/george/94.jpg removed\n",
            "/content/gdrive/MyDrive/george_ds/george/119.jpg removed\n"
          ]
        },
        {
          "output_type": "stream",
          "name": "stderr",
          "text": [
            "\r 46%|████▌     | 2206/4842 [00:58<01:08, 38.55it/s]"
          ]
        },
        {
          "output_type": "stream",
          "name": "stdout",
          "text": [
            "/content/gdrive/MyDrive/george_ds/george/104.jpg removed\n",
            "/content/gdrive/MyDrive/george_ds/george/89.jpg removed\n",
            "/content/gdrive/MyDrive/george_ds/george/112.jpg removed\n",
            "/content/gdrive/MyDrive/george_ds/george/91.jpg removed\n",
            "/content/gdrive/MyDrive/george_ds/george/77.jpg removed\n",
            "/content/gdrive/MyDrive/george_ds/george/79.jpg removed\n",
            "/content/gdrive/MyDrive/george_ds/george/83.jpg removed\n",
            "/content/gdrive/MyDrive/george_ds/george/81.jpg removed\n"
          ]
        },
        {
          "output_type": "stream",
          "name": "stderr",
          "text": [
            " 46%|████▌     | 2216/4842 [00:58<01:01, 42.63it/s]"
          ]
        },
        {
          "output_type": "stream",
          "name": "stdout",
          "text": [
            "/content/gdrive/MyDrive/george_ds/george/80.jpg removed\n",
            "/content/gdrive/MyDrive/george_ds/george/143.jpg removed\n",
            "/content/gdrive/MyDrive/george_ds/george/92.jpg removed\n",
            "/content/gdrive/MyDrive/george_ds/george/120.jpg removed\n",
            "/content/gdrive/MyDrive/george_ds/george/87.jpg removed\n",
            "/content/gdrive/MyDrive/george_ds/george/78.jpg removed\n",
            "/content/gdrive/MyDrive/george_ds/george/84.jpg removed\n",
            "/content/gdrive/MyDrive/george_ds/george/86.jpg removed\n",
            "/content/gdrive/MyDrive/george_ds/george/82.jpg removed\n",
            "/content/gdrive/MyDrive/george_ds/george/85.jpg removed\n",
            "/content/gdrive/MyDrive/george_ds/george/121.jpg removed\n"
          ]
        },
        {
          "output_type": "stream",
          "name": "stderr",
          "text": [
            " 46%|████▌     | 2226/4842 [00:58<00:58, 44.62it/s]"
          ]
        },
        {
          "output_type": "stream",
          "name": "stdout",
          "text": [
            "/content/gdrive/MyDrive/george_ds/george/101.jpg removed\n",
            "/content/gdrive/MyDrive/george_ds/george/98.jpg removed\n",
            "/content/gdrive/MyDrive/george_ds/george/99.jpg removed\n",
            "/content/gdrive/MyDrive/george_ds/george/96.jpg removed\n",
            "/content/gdrive/MyDrive/george_ds/george/107.jpg removed\n",
            "/content/gdrive/MyDrive/george_ds/george/109.jpg removed\n",
            "/content/gdrive/MyDrive/george_ds/george/108.jpg removed\n",
            "/content/gdrive/MyDrive/george_ds/george/181.jpg removed\n",
            "/content/gdrive/MyDrive/george_ds/george/73.jpg removed\n",
            "/content/gdrive/MyDrive/george_ds/george/37.jpg removed\n"
          ]
        },
        {
          "output_type": "stream",
          "name": "stderr",
          "text": [
            " 46%|████▌     | 2236/4842 [00:59<01:05, 39.87it/s]"
          ]
        },
        {
          "output_type": "stream",
          "name": "stdout",
          "text": [
            "/content/gdrive/MyDrive/george_ds/george/27.jpg removed\n",
            "/content/gdrive/MyDrive/george_ds/george/26.jpg removed\n",
            "/content/gdrive/MyDrive/george_ds/george/54.jpg removed\n",
            "/content/gdrive/MyDrive/george_ds/george/57.jpg removed\n",
            "/content/gdrive/MyDrive/george_ds/george/56.jpg removed\n",
            "/content/gdrive/MyDrive/george_ds/george/51.jpg removed\n",
            "/content/gdrive/MyDrive/george_ds/george/53.jpg removed\n"
          ]
        },
        {
          "output_type": "stream",
          "name": "stderr",
          "text": [
            "\r 46%|████▋     | 2241/4842 [00:59<01:06, 39.02it/s]"
          ]
        },
        {
          "output_type": "stream",
          "name": "stdout",
          "text": [
            "/content/gdrive/MyDrive/george_ds/george/58.jpg removed\n",
            "/content/gdrive/MyDrive/george_ds/george/52.jpg removed\n",
            "/content/gdrive/MyDrive/george_ds/george/55.jpg removed\n",
            "/content/gdrive/MyDrive/george_ds/george/50.jpg removed\n",
            "/content/gdrive/MyDrive/george_ds/george/49.jpg removed\n",
            "/content/gdrive/MyDrive/george_ds/george/48.jpg removed\n",
            "/content/gdrive/MyDrive/george_ds/george/35.jpg removed\n",
            "/content/gdrive/MyDrive/george_ds/george/25.jpg removed\n",
            "/content/gdrive/MyDrive/george_ds/george/31.jpg removed\n"
          ]
        },
        {
          "output_type": "stream",
          "name": "stderr",
          "text": [
            " 47%|████▋     | 2252/4842 [00:59<01:01, 41.93it/s]"
          ]
        },
        {
          "output_type": "stream",
          "name": "stdout",
          "text": [
            "/content/gdrive/MyDrive/george_ds/george/24.jpg removed\n",
            "/content/gdrive/MyDrive/george_ds/george/30.jpg removed\n",
            "/content/gdrive/MyDrive/george_ds/george/33.jpg removed\n",
            "/content/gdrive/MyDrive/george_ds/george/36.jpg removed\n",
            "/content/gdrive/MyDrive/george_ds/george/76.jpg removed\n",
            "/content/gdrive/MyDrive/george_ds/george/64.jpg removed\n",
            "/content/gdrive/MyDrive/george_ds/george/67.jpg removed\n",
            "/content/gdrive/MyDrive/george_ds/george/65.jpg removed\n",
            "/content/gdrive/MyDrive/george_ds/george/62.jpg removed\n",
            "/content/gdrive/MyDrive/george_ds/george/66.jpg removed\n"
          ]
        },
        {
          "output_type": "stream",
          "name": "stderr",
          "text": [
            " 47%|████▋     | 2262/4842 [00:59<01:00, 42.39it/s]"
          ]
        },
        {
          "output_type": "stream",
          "name": "stdout",
          "text": [
            "/content/gdrive/MyDrive/george_ds/george/60.jpg removed\n",
            "/content/gdrive/MyDrive/george_ds/george/88.jpg removed\n",
            "/content/gdrive/MyDrive/george_ds/george/75.jpg removed\n",
            "/content/gdrive/MyDrive/george_ds/george/74.jpg removed\n",
            "/content/gdrive/MyDrive/george_ds/george/72.jpg removed\n",
            "/content/gdrive/MyDrive/george_ds/george/71.jpg removed\n",
            "/content/gdrive/MyDrive/george_ds/george/5.jpg removed\n",
            "/content/gdrive/MyDrive/george_ds/george/4.jpg removed\n",
            "/content/gdrive/MyDrive/george_ds/george/16.jpg removed\n",
            "/content/gdrive/MyDrive/george_ds/george/22.jpg removed\n",
            "/content/gdrive/MyDrive/george_ds/george/20.jpg removed\n"
          ]
        },
        {
          "output_type": "stream",
          "name": "stderr",
          "text": [
            " 47%|████▋     | 2273/4842 [00:59<01:02, 41.02it/s]"
          ]
        },
        {
          "output_type": "stream",
          "name": "stdout",
          "text": [
            "/content/gdrive/MyDrive/george_ds/george/19.jpg removed\n",
            "/content/gdrive/MyDrive/george_ds/george/18.jpg removed\n",
            "/content/gdrive/MyDrive/george_ds/george/17.jpg removed\n",
            "/content/gdrive/MyDrive/george_ds/george/38.jpg removed\n",
            "/content/gdrive/MyDrive/george_ds/george/23.jpg removed\n",
            "/content/gdrive/MyDrive/george_ds/george/21.jpg removed\n",
            "/content/gdrive/MyDrive/george_ds/george/39.jpg removed\n",
            "/content/gdrive/MyDrive/george_ds/george/11.jpg removed\n"
          ]
        },
        {
          "output_type": "stream",
          "name": "stderr",
          "text": [
            " 47%|████▋     | 2283/4842 [01:00<01:01, 41.78it/s]"
          ]
        },
        {
          "output_type": "stream",
          "name": "stdout",
          "text": [
            "/content/gdrive/MyDrive/george_ds/george/10.jpg removed\n",
            "/content/gdrive/MyDrive/george_ds/george/42.jpg removed\n",
            "/content/gdrive/MyDrive/george_ds/george/41.jpg removed\n",
            "/content/gdrive/MyDrive/george_ds/george/47.jpg removed\n",
            "/content/gdrive/MyDrive/george_ds/george/8.jpg removed\n",
            "/content/gdrive/MyDrive/george_ds/george/13.jpg removed\n",
            "/content/gdrive/MyDrive/george_ds/george/9.jpg removed\n",
            "/content/gdrive/MyDrive/george_ds/george/12.jpg removed\n"
          ]
        },
        {
          "output_type": "stream",
          "name": "stderr",
          "text": [
            "\r 47%|████▋     | 2288/4842 [01:00<01:02, 40.63it/s]"
          ]
        },
        {
          "output_type": "stream",
          "name": "stdout",
          "text": [
            "/content/gdrive/MyDrive/george_ds/george/14.jpg removed\n",
            "/content/gdrive/MyDrive/george_ds/george/15.jpg removed\n",
            "/content/gdrive/MyDrive/george_ds/george/7.jpg removed\n",
            "/content/gdrive/MyDrive/george_ds/george/6.jpg removed\n",
            "/content/gdrive/MyDrive/george_ds/george/40.jpg removed\n",
            "/content/gdrive/MyDrive/george_ds/george/44.jpg removed\n",
            "/content/gdrive/MyDrive/george_ds/george/43.jpg removed\n",
            "/content/gdrive/MyDrive/george_ds/george/45.jpg removed\n",
            "/content/gdrive/MyDrive/george_ds/george/59.jpg removed\n"
          ]
        },
        {
          "output_type": "stream",
          "name": "stderr",
          "text": [
            " 47%|████▋     | 2297/4842 [01:00<01:07, 37.44it/s]"
          ]
        },
        {
          "output_type": "stream",
          "name": "stdout",
          "text": [
            "/content/gdrive/MyDrive/george_ds/george/70.jpg removed\n",
            "/content/gdrive/MyDrive/george_ds/george/46.jpg removed\n",
            "/content/gdrive/MyDrive/george_ds/george/32.jpg removed\n",
            "/content/gdrive/MyDrive/george_ds/george/29.jpg removed\n",
            "/content/gdrive/MyDrive/george_ds/george/34.jpg removed\n",
            "/content/gdrive/MyDrive/george_ds/george/28.jpg removed\n",
            "/content/gdrive/MyDrive/george_ds/george/3.jpg removed\n",
            "/content/gdrive/MyDrive/george_ds/george/1.jpg removed\n"
          ]
        },
        {
          "output_type": "stream",
          "name": "stderr",
          "text": [
            " 48%|████▊     | 2306/4842 [01:00<01:10, 35.94it/s]"
          ]
        },
        {
          "output_type": "stream",
          "name": "stdout",
          "text": [
            "/content/gdrive/MyDrive/george_ds/george/2.jpg removed\n",
            "/content/gdrive/MyDrive/george_ds/george/0.jpg removed\n",
            "/content/gdrive/MyDrive/george_ds/george/1497.jpg removed\n",
            "/content/gdrive/MyDrive/george_ds/george/1492.jpg removed\n",
            "/content/gdrive/MyDrive/george_ds/george/1501.jpg removed\n",
            "/content/gdrive/MyDrive/george_ds/george/1491.jpg removed\n",
            "/content/gdrive/MyDrive/george_ds/george/1487.jpg removed\n",
            "/content/gdrive/MyDrive/george_ds/george/1486.jpg removed\n"
          ]
        },
        {
          "output_type": "stream",
          "name": "stderr",
          "text": [
            " 48%|████▊     | 2314/4842 [01:01<01:07, 37.20it/s]"
          ]
        },
        {
          "output_type": "stream",
          "name": "stdout",
          "text": [
            "/content/gdrive/MyDrive/george_ds/george/1480.jpg removed\n",
            "/content/gdrive/MyDrive/george_ds/george/1484.jpg removed\n",
            "/content/gdrive/MyDrive/george_ds/george/1489.jpg removed\n",
            "/content/gdrive/MyDrive/george_ds/george/1478.jpg removed\n",
            "/content/gdrive/MyDrive/george_ds/george/1479.jpg removed\n",
            "/content/gdrive/MyDrive/george_ds/george/1481.jpg removed\n",
            "/content/gdrive/MyDrive/george_ds/george/1488.jpg removed\n",
            "/content/gdrive/MyDrive/george_ds/george/1485.jpg removed\n",
            "/content/gdrive/MyDrive/george_ds/george/1483.jpg removed\n"
          ]
        },
        {
          "output_type": "stream",
          "name": "stderr",
          "text": [
            " 48%|████▊     | 2325/4842 [01:01<01:01, 41.17it/s]"
          ]
        },
        {
          "output_type": "stream",
          "name": "stdout",
          "text": [
            "/content/gdrive/MyDrive/george_ds/george/1482.jpg removed\n",
            "/content/gdrive/MyDrive/george_ds/george/1477.jpg removed\n",
            "/content/gdrive/MyDrive/george_ds/george/1476.jpg removed\n",
            "/content/gdrive/MyDrive/george_ds/george/1495.jpg removed\n",
            "/content/gdrive/MyDrive/george_ds/george/1502.jpg removed\n",
            "/content/gdrive/MyDrive/george_ds/george/1494.jpg removed\n",
            "/content/gdrive/MyDrive/george_ds/george/1498.jpg removed\n",
            "/content/gdrive/MyDrive/george_ds/george/1499.jpg removed\n",
            "/content/gdrive/MyDrive/george_ds/george/1500.jpg removed\n",
            "/content/gdrive/MyDrive/george_ds/george/1496.jpg removed\n",
            "/content/gdrive/MyDrive/george_ds/george/1504.jpg removed\n"
          ]
        },
        {
          "output_type": "stream",
          "name": "stderr",
          "text": [
            " 48%|████▊     | 2336/4842 [01:01<00:57, 43.35it/s]"
          ]
        },
        {
          "output_type": "stream",
          "name": "stdout",
          "text": [
            "/content/gdrive/MyDrive/george_ds/george/1493.jpg removed\n",
            "/content/gdrive/MyDrive/george_ds/george/1503.jpg removed\n",
            "/content/gdrive/MyDrive/george_ds/george/1565.jpg removed\n",
            "/content/gdrive/MyDrive/george_ds/george/1595.jpg removed\n",
            "/content/gdrive/MyDrive/george_ds/george/1580.jpg removed\n",
            "/content/gdrive/MyDrive/george_ds/george/1446.jpg removed\n",
            "/content/gdrive/MyDrive/george_ds/george/1449.jpg removed\n",
            "/content/gdrive/MyDrive/george_ds/george/1459.jpg removed\n",
            "/content/gdrive/MyDrive/george_ds/george/1458.jpg removed\n"
          ]
        },
        {
          "output_type": "stream",
          "name": "stderr",
          "text": [
            " 48%|████▊     | 2346/4842 [01:01<01:00, 41.30it/s]"
          ]
        },
        {
          "output_type": "stream",
          "name": "stdout",
          "text": [
            "/content/gdrive/MyDrive/george_ds/george/1448.jpg removed\n",
            "/content/gdrive/MyDrive/george_ds/george/1456.jpg removed\n",
            "/content/gdrive/MyDrive/george_ds/george/1450.jpg removed\n",
            "/content/gdrive/MyDrive/george_ds/george/1457.jpg removed\n",
            "/content/gdrive/MyDrive/george_ds/george/1454.jpg removed\n",
            "/content/gdrive/MyDrive/george_ds/george/1440.jpg removed\n",
            "/content/gdrive/MyDrive/george_ds/george/1434.jpg removed\n",
            "/content/gdrive/MyDrive/george_ds/george/1436.jpg removed\n",
            "/content/gdrive/MyDrive/george_ds/george/1439.jpg removed\n"
          ]
        },
        {
          "output_type": "stream",
          "name": "stderr",
          "text": [
            "\r 49%|████▊     | 2351/4842 [01:01<01:05, 37.74it/s]"
          ]
        },
        {
          "output_type": "stream",
          "name": "stdout",
          "text": [
            "/content/gdrive/MyDrive/george_ds/george/1442.jpg removed\n",
            "/content/gdrive/MyDrive/george_ds/george/1437.jpg removed\n",
            "/content/gdrive/MyDrive/george_ds/george/1438.jpg removed\n",
            "/content/gdrive/MyDrive/george_ds/george/1444.jpg removed\n",
            "/content/gdrive/MyDrive/george_ds/george/1451.jpg removed\n",
            "/content/gdrive/MyDrive/george_ds/george/1452.jpg removed\n",
            "/content/gdrive/MyDrive/george_ds/george/1453.jpg removed\n"
          ]
        },
        {
          "output_type": "stream",
          "name": "stderr",
          "text": [
            " 49%|████▊     | 2360/4842 [01:02<01:04, 38.23it/s]"
          ]
        },
        {
          "output_type": "stream",
          "name": "stdout",
          "text": [
            "/content/gdrive/MyDrive/george_ds/george/1455.jpg removed\n",
            "/content/gdrive/MyDrive/george_ds/george/1447.jpg removed\n",
            "/content/gdrive/MyDrive/george_ds/george/1535.jpg removed\n",
            "/content/gdrive/MyDrive/george_ds/george/1421.jpg removed\n",
            "/content/gdrive/MyDrive/george_ds/george/1423.jpg removed\n",
            "/content/gdrive/MyDrive/george_ds/george/1427.jpg removed\n",
            "/content/gdrive/MyDrive/george_ds/george/1422.jpg removed\n",
            "/content/gdrive/MyDrive/george_ds/george/1424.jpg removed\n",
            "/content/gdrive/MyDrive/george_ds/george/1417.jpg removed\n",
            "/content/gdrive/MyDrive/george_ds/george/1419.jpg removed\n",
            "/content/gdrive/MyDrive/george_ds/george/1429.jpg removed\n"
          ]
        },
        {
          "output_type": "stream",
          "name": "stderr",
          "text": [
            " 49%|████▉     | 2371/4842 [01:02<00:57, 42.82it/s]"
          ]
        },
        {
          "output_type": "stream",
          "name": "stdout",
          "text": [
            "/content/gdrive/MyDrive/george_ds/george/1441.jpg removed\n",
            "/content/gdrive/MyDrive/george_ds/george/1443.jpg removed\n",
            "/content/gdrive/MyDrive/george_ds/george/1435.jpg removed\n",
            "/content/gdrive/MyDrive/george_ds/george/1433.jpg removed\n",
            "/content/gdrive/MyDrive/george_ds/george/1432.jpg removed\n",
            "/content/gdrive/MyDrive/george_ds/george/1431.jpg removed\n",
            "/content/gdrive/MyDrive/george_ds/george/1426.jpg removed\n",
            "/content/gdrive/MyDrive/george_ds/george/1428.jpg removed\n"
          ]
        },
        {
          "output_type": "stream",
          "name": "stderr",
          "text": [
            " 49%|████▉     | 2381/4842 [01:02<00:57, 42.46it/s]"
          ]
        },
        {
          "output_type": "stream",
          "name": "stdout",
          "text": [
            "/content/gdrive/MyDrive/george_ds/george/1420.jpg removed\n",
            "/content/gdrive/MyDrive/george_ds/george/1418.jpg removed\n",
            "/content/gdrive/MyDrive/george_ds/george/1425.jpg removed\n",
            "/content/gdrive/MyDrive/george_ds/george/1416.jpg removed\n",
            "/content/gdrive/MyDrive/george_ds/george/1393.jpg removed\n",
            "/content/gdrive/MyDrive/george_ds/george/1392.jpg removed\n",
            "/content/gdrive/MyDrive/george_ds/george/1397.jpg removed\n",
            "/content/gdrive/MyDrive/george_ds/george/1396.jpg removed\n",
            "/content/gdrive/MyDrive/george_ds/george/1387.jpg removed\n",
            "/content/gdrive/MyDrive/george_ds/george/1411.jpg removed\n"
          ]
        },
        {
          "output_type": "stream",
          "name": "stderr",
          "text": [
            "\r 49%|████▉     | 2387/4842 [01:02<00:52, 47.03it/s]"
          ]
        },
        {
          "output_type": "stream",
          "name": "stdout",
          "text": [
            "/content/gdrive/MyDrive/george_ds/george/1410.jpg removed\n",
            "/content/gdrive/MyDrive/george_ds/george/1403.jpg removed\n",
            "/content/gdrive/MyDrive/george_ds/george/1405.jpg removed\n",
            "/content/gdrive/MyDrive/george_ds/george/1404.jpg removed\n",
            "/content/gdrive/MyDrive/george_ds/george/1414.jpg removed\n",
            "/content/gdrive/MyDrive/george_ds/george/1363.jpg removed\n",
            "/content/gdrive/MyDrive/george_ds/george/1520.jpg removed\n",
            "/content/gdrive/MyDrive/george_ds/george/1359.jpg removed\n",
            "/content/gdrive/MyDrive/george_ds/george/1356.jpg removed\n"
          ]
        },
        {
          "output_type": "stream",
          "name": "stderr",
          "text": [
            " 50%|████▉     | 2397/4842 [01:03<00:56, 43.44it/s]"
          ]
        },
        {
          "output_type": "stream",
          "name": "stdout",
          "text": [
            "/content/gdrive/MyDrive/george_ds/george/1362.jpg removed\n",
            "/content/gdrive/MyDrive/george_ds/george/1407.jpg removed\n",
            "/content/gdrive/MyDrive/george_ds/george/1402.jpg removed\n",
            "/content/gdrive/MyDrive/george_ds/george/1550.jpg removed\n",
            "/content/gdrive/MyDrive/george_ds/george/1406.jpg removed\n",
            "/content/gdrive/MyDrive/george_ds/george/1413.jpg removed\n",
            "/content/gdrive/MyDrive/george_ds/george/1412.jpg removed\n",
            "/content/gdrive/MyDrive/george_ds/george/1409.jpg removed\n",
            "/content/gdrive/MyDrive/george_ds/george/1408.jpg removed\n"
          ]
        },
        {
          "output_type": "stream",
          "name": "stderr",
          "text": [
            " 50%|████▉     | 2409/4842 [01:03<00:50, 48.45it/s]"
          ]
        },
        {
          "output_type": "stream",
          "name": "stdout",
          "text": [
            "/content/gdrive/MyDrive/george_ds/george/1401.jpg removed\n",
            "/content/gdrive/MyDrive/george_ds/george/1388.jpg removed\n",
            "/content/gdrive/MyDrive/george_ds/george/1389.jpg removed\n",
            "/content/gdrive/MyDrive/george_ds/george/1381.jpg removed\n",
            "/content/gdrive/MyDrive/george_ds/george/1376.jpg removed\n",
            "/content/gdrive/MyDrive/george_ds/george/1380.jpg removed\n",
            "/content/gdrive/MyDrive/george_ds/george/1383.jpg removed\n",
            "/content/gdrive/MyDrive/george_ds/george/1379.jpg removed\n",
            "/content/gdrive/MyDrive/george_ds/george/1373.jpg removed\n",
            "/content/gdrive/MyDrive/george_ds/george/1371.jpg removed\n",
            "/content/gdrive/MyDrive/george_ds/george/1353.jpg removed\n"
          ]
        },
        {
          "output_type": "stream",
          "name": "stderr",
          "text": [
            " 50%|████▉     | 2419/4842 [01:03<00:58, 41.16it/s]"
          ]
        },
        {
          "output_type": "stream",
          "name": "stdout",
          "text": [
            "/content/gdrive/MyDrive/george_ds/george/1346.jpg removed\n",
            "/content/gdrive/MyDrive/george_ds/george/1351.jpg removed\n",
            "/content/gdrive/MyDrive/george_ds/george/1348.jpg removed\n",
            "/content/gdrive/MyDrive/george_ds/george/1344.jpg removed\n",
            "/content/gdrive/MyDrive/george_ds/george/1354.jpg removed\n",
            "/content/gdrive/MyDrive/george_ds/george/1342.jpg removed\n",
            "/content/gdrive/MyDrive/george_ds/george/1349.jpg removed\n",
            "/content/gdrive/MyDrive/george_ds/george/1339.jpg removed\n"
          ]
        },
        {
          "output_type": "stream",
          "name": "stderr",
          "text": [
            " 50%|█████     | 2431/4842 [01:03<00:49, 48.83it/s]"
          ]
        },
        {
          "output_type": "stream",
          "name": "stdout",
          "text": [
            "/content/gdrive/MyDrive/george_ds/george/1327.jpg removed\n",
            "/content/gdrive/MyDrive/george_ds/george/1475.jpg removed\n",
            "/content/gdrive/MyDrive/george_ds/george/1490.jpg removed\n",
            "/content/gdrive/MyDrive/george_ds/george/1334.jpg removed\n",
            "/content/gdrive/MyDrive/george_ds/george/1332.jpg removed\n",
            "/content/gdrive/MyDrive/george_ds/george/1335.jpg removed\n",
            "/content/gdrive/MyDrive/george_ds/george/1328.jpg removed\n",
            "/content/gdrive/MyDrive/george_ds/george/1372.jpg removed\n",
            "/content/gdrive/MyDrive/george_ds/george/1375.jpg removed\n",
            "/content/gdrive/MyDrive/george_ds/george/1382.jpg removed\n",
            "/content/gdrive/MyDrive/george_ds/george/1378.jpg removed\n",
            "/content/gdrive/MyDrive/george_ds/george/1377.jpg removed\n",
            "/content/gdrive/MyDrive/george_ds/george/1384.jpg removed\n"
          ]
        },
        {
          "output_type": "stream",
          "name": "stderr",
          "text": [
            "\r 50%|█████     | 2437/4842 [01:03<00:47, 50.94it/s]"
          ]
        },
        {
          "output_type": "stream",
          "name": "stdout",
          "text": [
            "/content/gdrive/MyDrive/george_ds/george/1374.jpg removed\n",
            "/content/gdrive/MyDrive/george_ds/george/1505.jpg removed\n",
            "/content/gdrive/MyDrive/george_ds/george/1460.jpg removed\n",
            "/content/gdrive/MyDrive/george_ds/george/1394.jpg removed\n",
            "/content/gdrive/MyDrive/george_ds/george/1395.jpg removed\n",
            "/content/gdrive/MyDrive/george_ds/george/1390.jpg removed\n",
            "/content/gdrive/MyDrive/george_ds/george/1391.jpg removed\n",
            "/content/gdrive/MyDrive/george_ds/george/1399.jpg removed\n",
            "/content/gdrive/MyDrive/george_ds/george/1398.jpg removed\n",
            "/content/gdrive/MyDrive/george_ds/george/1386.jpg removed\n"
          ]
        },
        {
          "output_type": "stream",
          "name": "stderr",
          "text": [
            " 51%|█████     | 2448/4842 [01:04<00:50, 47.41it/s]"
          ]
        },
        {
          "output_type": "stream",
          "name": "stdout",
          "text": [
            "/content/gdrive/MyDrive/george_ds/george/1369.jpg removed\n",
            "/content/gdrive/MyDrive/george_ds/george/1365.jpg removed\n",
            "/content/gdrive/MyDrive/george_ds/george/1366.jpg removed\n",
            "/content/gdrive/MyDrive/george_ds/george/1358.jpg removed\n",
            "/content/gdrive/MyDrive/george_ds/george/1360.jpg removed\n",
            "/content/gdrive/MyDrive/george_ds/george/1361.jpg removed\n",
            "/content/gdrive/MyDrive/george_ds/george/1357.jpg removed\n",
            "/content/gdrive/MyDrive/george_ds/george/1367.jpg removed\n",
            "/content/gdrive/MyDrive/george_ds/george/1368.jpg removed\n",
            "/content/gdrive/MyDrive/george_ds/george/1364.jpg removed\n",
            "/content/gdrive/MyDrive/george_ds/george/1319.jpg removed\n",
            "/content/gdrive/MyDrive/george_ds/george/1318.jpg removed"
          ]
        },
        {
          "output_type": "stream",
          "name": "stderr",
          "text": [
            " 51%|█████     | 2461/4842 [01:04<00:44, 53.86it/s]"
          ]
        },
        {
          "output_type": "stream",
          "name": "stdout",
          "text": [
            "\n",
            "/content/gdrive/MyDrive/george_ds/george/1316.jpg removed\n",
            "/content/gdrive/MyDrive/george_ds/george/1317.jpg removed\n",
            "/content/gdrive/MyDrive/george_ds/george/1315.jpg removed\n",
            "/content/gdrive/MyDrive/george_ds/george/1445.jpg removed\n",
            "/content/gdrive/MyDrive/george_ds/george/1306.jpg removed\n",
            "/content/gdrive/MyDrive/george_ds/george/1298.jpg removed\n",
            "/content/gdrive/MyDrive/george_ds/george/1299.jpg removed\n",
            "/content/gdrive/MyDrive/george_ds/george/1304.jpg removed\n",
            "/content/gdrive/MyDrive/george_ds/george/1297.jpg removed\n",
            "/content/gdrive/MyDrive/george_ds/george/1307.jpg removed\n",
            "/content/gdrive/MyDrive/george_ds/george/1321.jpg removed\n"
          ]
        },
        {
          "output_type": "stream",
          "name": "stderr",
          "text": [
            " 51%|█████     | 2473/4842 [01:04<00:48, 48.86it/s]"
          ]
        },
        {
          "output_type": "stream",
          "name": "stdout",
          "text": [
            "/content/gdrive/MyDrive/george_ds/george/1323.jpg removed\n",
            "/content/gdrive/MyDrive/george_ds/george/1322.jpg removed\n",
            "/content/gdrive/MyDrive/george_ds/george/1324.jpg removed\n",
            "/content/gdrive/MyDrive/george_ds/george/1320.jpg removed\n",
            "/content/gdrive/MyDrive/george_ds/george/1314.jpg removed\n",
            "/content/gdrive/MyDrive/george_ds/george/1313.jpg removed\n",
            "/content/gdrive/MyDrive/george_ds/george/1311.jpg removed\n",
            "/content/gdrive/MyDrive/george_ds/george/1312.jpg removed\n",
            "/content/gdrive/MyDrive/george_ds/george/1350.jpg removed\n"
          ]
        },
        {
          "output_type": "stream",
          "name": "stderr",
          "text": [
            " 51%|█████▏    | 2483/4842 [01:04<00:53, 43.74it/s]"
          ]
        },
        {
          "output_type": "stream",
          "name": "stdout",
          "text": [
            "/content/gdrive/MyDrive/george_ds/george/1347.jpg removed\n",
            "/content/gdrive/MyDrive/george_ds/george/1343.jpg removed\n",
            "/content/gdrive/MyDrive/george_ds/george/1345.jpg removed\n",
            "/content/gdrive/MyDrive/george_ds/george/1352.jpg removed\n",
            "/content/gdrive/MyDrive/george_ds/george/1341.jpg removed\n",
            "/content/gdrive/MyDrive/george_ds/george/1338.jpg removed\n",
            "/content/gdrive/MyDrive/george_ds/george/1329.jpg removed\n",
            "/content/gdrive/MyDrive/george_ds/george/1336.jpg removed\n",
            "/content/gdrive/MyDrive/george_ds/george/1330.jpg removed\n"
          ]
        },
        {
          "output_type": "stream",
          "name": "stderr",
          "text": [
            "\r 51%|█████▏    | 2488/4842 [01:04<00:58, 40.45it/s]"
          ]
        },
        {
          "output_type": "stream",
          "name": "stdout",
          "text": [
            "/content/gdrive/MyDrive/george_ds/george/1337.jpg removed\n",
            "/content/gdrive/MyDrive/george_ds/george/1333.jpg removed\n",
            "/content/gdrive/MyDrive/george_ds/george/1331.jpg removed\n",
            "/content/gdrive/MyDrive/george_ds/george/1326.jpg removed\n",
            "/content/gdrive/MyDrive/george_ds/george/1430.jpg removed\n",
            "/content/gdrive/MyDrive/george_ds/george/1290.jpg removed\n",
            "/content/gdrive/MyDrive/george_ds/george/1291.jpg removed\n"
          ]
        },
        {
          "output_type": "stream",
          "name": "stderr",
          "text": [
            "\r 51%|█████▏    | 2493/4842 [01:05<01:10, 33.19it/s]"
          ]
        },
        {
          "output_type": "stream",
          "name": "stdout",
          "text": [
            "/content/gdrive/MyDrive/george_ds/george/1282.jpg removed\n",
            "/content/gdrive/MyDrive/george_ds/george/1415.jpg removed\n",
            "/content/gdrive/MyDrive/george_ds/george/1270.jpg removed\n",
            "/content/gdrive/MyDrive/george_ds/george/1266.jpg removed\n",
            "/content/gdrive/MyDrive/george_ds/george/1309.jpg removed\n"
          ]
        },
        {
          "output_type": "stream",
          "name": "stderr",
          "text": [
            " 52%|█████▏    | 2502/4842 [01:05<01:09, 33.75it/s]"
          ]
        },
        {
          "output_type": "stream",
          "name": "stdout",
          "text": [
            "/content/gdrive/MyDrive/george_ds/george/1305.jpg removed\n",
            "/content/gdrive/MyDrive/george_ds/george/1303.jpg removed\n",
            "/content/gdrive/MyDrive/george_ds/george/1301.jpg removed\n",
            "/content/gdrive/MyDrive/george_ds/george/1302.jpg removed\n",
            "/content/gdrive/MyDrive/george_ds/george/1308.jpg removed\n",
            "/content/gdrive/MyDrive/george_ds/george/1300.jpg removed\n",
            "/content/gdrive/MyDrive/george_ds/george/1296.jpg removed\n",
            "/content/gdrive/MyDrive/george_ds/george/1277.jpg removed\n"
          ]
        },
        {
          "output_type": "stream",
          "name": "stderr",
          "text": [
            " 52%|█████▏    | 2511/4842 [01:05<01:03, 36.91it/s]"
          ]
        },
        {
          "output_type": "stream",
          "name": "stdout",
          "text": [
            "/content/gdrive/MyDrive/george_ds/george/1276.jpg removed\n",
            "/content/gdrive/MyDrive/george_ds/george/1278.jpg removed\n",
            "/content/gdrive/MyDrive/george_ds/george/1279.jpg removed\n",
            "/content/gdrive/MyDrive/george_ds/george/1293.jpg removed\n",
            "/content/gdrive/MyDrive/george_ds/george/1294.jpg removed\n",
            "/content/gdrive/MyDrive/george_ds/george/1289.jpg removed\n",
            "/content/gdrive/MyDrive/george_ds/george/1292.jpg removed\n",
            "/content/gdrive/MyDrive/george_ds/george/1281.jpg removed\n",
            "/content/gdrive/MyDrive/george_ds/george/1287.jpg removed\n",
            "/content/gdrive/MyDrive/george_ds/george/1286.jpg removed\n"
          ]
        },
        {
          "output_type": "stream",
          "name": "stderr",
          "text": [
            " 52%|█████▏    | 2521/4842 [01:05<00:59, 38.82it/s]"
          ]
        },
        {
          "output_type": "stream",
          "name": "stdout",
          "text": [
            "/content/gdrive/MyDrive/george_ds/george/1288.jpg removed\n",
            "/content/gdrive/MyDrive/george_ds/george/1285.jpg removed\n",
            "/content/gdrive/MyDrive/george_ds/george/1283.jpg removed\n",
            "/content/gdrive/MyDrive/george_ds/george/1284.jpg removed\n",
            "/content/gdrive/MyDrive/george_ds/george/1275.jpg removed\n",
            "/content/gdrive/MyDrive/george_ds/george/1272.jpg removed\n",
            "/content/gdrive/MyDrive/george_ds/george/1273.jpg removed\n",
            "/content/gdrive/MyDrive/george_ds/george/1269.jpg removed\n",
            "/content/gdrive/MyDrive/george_ds/george/1271.jpg removed\n"
          ]
        },
        {
          "output_type": "stream",
          "name": "stderr",
          "text": [
            "\r 52%|█████▏    | 2525/4842 [01:06<01:01, 37.40it/s]"
          ]
        },
        {
          "output_type": "stream",
          "name": "stdout",
          "text": [
            "/content/gdrive/MyDrive/george_ds/george/1274.jpg removed\n",
            "/content/gdrive/MyDrive/george_ds/george/1268.jpg removed\n",
            "/content/gdrive/MyDrive/george_ds/george/1267.jpg removed\n",
            "/content/gdrive/MyDrive/george_ds/george/1385.jpg removed\n",
            "/content/gdrive/MyDrive/george_ds/george/1355.jpg removed\n",
            "/content/gdrive/MyDrive/george_ds/george/1245.jpg removed\n"
          ]
        },
        {
          "output_type": "stream",
          "name": "stderr",
          "text": [
            " 52%|█████▏    | 2533/4842 [01:06<01:10, 32.64it/s]"
          ]
        },
        {
          "output_type": "stream",
          "name": "stdout",
          "text": [
            "/content/gdrive/MyDrive/george_ds/george/1263.jpg removed\n",
            "/content/gdrive/MyDrive/george_ds/george/1259.jpg removed\n",
            "/content/gdrive/MyDrive/george_ds/george/1257.jpg removed\n",
            "/content/gdrive/MyDrive/george_ds/george/1254.jpg removed\n",
            "/content/gdrive/MyDrive/george_ds/george/1258.jpg removed\n",
            "/content/gdrive/MyDrive/george_ds/george/1255.jpg removed\n",
            "/content/gdrive/MyDrive/george_ds/george/1256.jpg removed\n",
            "/content/gdrive/MyDrive/george_ds/george/1251.jpg removed\n",
            "/content/gdrive/MyDrive/george_ds/george/1237.jpg removed\n",
            "/content/gdrive/MyDrive/george_ds/george/1247.jpg removed\n"
          ]
        },
        {
          "output_type": "stream",
          "name": "stderr",
          "text": [
            " 53%|█████▎    | 2544/4842 [01:06<00:58, 39.53it/s]"
          ]
        },
        {
          "output_type": "stream",
          "name": "stdout",
          "text": [
            "/content/gdrive/MyDrive/george_ds/george/1249.jpg removed\n",
            "/content/gdrive/MyDrive/george_ds/george/1239.jpg removed\n",
            "/content/gdrive/MyDrive/george_ds/george/1238.jpg removed\n",
            "/content/gdrive/MyDrive/george_ds/george/1400.jpg removed\n",
            "/content/gdrive/MyDrive/george_ds/george/1252.jpg removed\n",
            "/content/gdrive/MyDrive/george_ds/george/1253.jpg removed\n",
            "/content/gdrive/MyDrive/george_ds/george/1260.jpg removed\n",
            "/content/gdrive/MyDrive/george_ds/george/1261.jpg removed\n",
            "/content/gdrive/MyDrive/george_ds/george/1264.jpg removed\n"
          ]
        },
        {
          "output_type": "stream",
          "name": "stderr",
          "text": [
            " 53%|█████▎    | 2554/4842 [01:06<00:58, 39.20it/s]"
          ]
        },
        {
          "output_type": "stream",
          "name": "stdout",
          "text": [
            "/content/gdrive/MyDrive/george_ds/george/1262.jpg removed\n",
            "/content/gdrive/MyDrive/george_ds/george/1243.jpg removed\n",
            "/content/gdrive/MyDrive/george_ds/george/1242.jpg removed\n",
            "/content/gdrive/MyDrive/george_ds/george/1240.jpg removed\n",
            "/content/gdrive/MyDrive/george_ds/george/1244.jpg removed\n",
            "/content/gdrive/MyDrive/george_ds/george/1241.jpg removed\n",
            "/content/gdrive/MyDrive/george_ds/george/1248.jpg removed\n",
            "/content/gdrive/MyDrive/george_ds/george/1246.jpg removed\n"
          ]
        },
        {
          "output_type": "stream",
          "name": "stderr",
          "text": [
            " 53%|█████▎    | 2564/4842 [01:07<00:54, 41.60it/s]"
          ]
        },
        {
          "output_type": "stream",
          "name": "stdout",
          "text": [
            "/content/gdrive/MyDrive/george_ds/george/1236.jpg removed\n",
            "/content/gdrive/MyDrive/george_ds/george/1166.jpg removed\n",
            "/content/gdrive/MyDrive/george_ds/george/1167.jpg removed\n",
            "/content/gdrive/MyDrive/george_ds/george/1169.jpg removed\n",
            "/content/gdrive/MyDrive/george_ds/george/1164.jpg removed\n",
            "/content/gdrive/MyDrive/george_ds/george/1211.jpg removed\n",
            "/content/gdrive/MyDrive/george_ds/george/1217.jpg removed\n",
            "/content/gdrive/MyDrive/george_ds/george/1216.jpg removed\n",
            "/content/gdrive/MyDrive/george_ds/george/1215.jpg removed\n",
            "/content/gdrive/MyDrive/george_ds/george/1218.jpg removed\n"
          ]
        },
        {
          "output_type": "stream",
          "name": "stderr",
          "text": [
            "\r 53%|█████▎    | 2569/4842 [01:07<00:51, 43.73it/s]"
          ]
        },
        {
          "output_type": "stream",
          "name": "stdout",
          "text": [
            "/content/gdrive/MyDrive/george_ds/george/1206.jpg removed\n",
            "/content/gdrive/MyDrive/george_ds/george/1196.jpg removed\n",
            "/content/gdrive/MyDrive/george_ds/george/1310.jpg removed\n",
            "/content/gdrive/MyDrive/george_ds/george/1228.jpg removed\n",
            "/content/gdrive/MyDrive/george_ds/george/1229.jpg removed\n",
            "/content/gdrive/MyDrive/george_ds/george/1227.jpg removed\n",
            "/content/gdrive/MyDrive/george_ds/george/1231.jpg removed\n"
          ]
        },
        {
          "output_type": "stream",
          "name": "stderr",
          "text": [
            " 53%|█████▎    | 2578/4842 [01:07<01:06, 34.21it/s]"
          ]
        },
        {
          "output_type": "stream",
          "name": "stdout",
          "text": [
            "/content/gdrive/MyDrive/george_ds/george/1234.jpg removed\n",
            "/content/gdrive/MyDrive/george_ds/george/1233.jpg removed\n",
            "/content/gdrive/MyDrive/george_ds/george/1224.jpg removed\n",
            "/content/gdrive/MyDrive/george_ds/george/1219.jpg removed\n",
            "/content/gdrive/MyDrive/george_ds/george/1213.jpg removed\n",
            "/content/gdrive/MyDrive/george_ds/george/1201.jpg removed\n"
          ]
        },
        {
          "output_type": "stream",
          "name": "stderr",
          "text": [
            "\r 53%|█████▎    | 2582/4842 [01:07<01:11, 31.81it/s]"
          ]
        },
        {
          "output_type": "stream",
          "name": "stdout",
          "text": [
            "/content/gdrive/MyDrive/george_ds/george/1191.jpg removed\n",
            "/content/gdrive/MyDrive/george_ds/george/1197.jpg removed\n",
            "/content/gdrive/MyDrive/george_ds/george/1198.jpg removed\n",
            "/content/gdrive/MyDrive/george_ds/george/1212.jpg removed\n",
            "/content/gdrive/MyDrive/george_ds/george/1340.jpg removed\n",
            "/content/gdrive/MyDrive/george_ds/george/1214.jpg removed\n",
            "/content/gdrive/MyDrive/george_ds/george/1209.jpg removed\n",
            "/content/gdrive/MyDrive/george_ds/george/1210.jpg removed\n"
          ]
        },
        {
          "output_type": "stream",
          "name": "stderr",
          "text": [
            " 54%|█████▎    | 2591/4842 [01:07<01:08, 32.68it/s]"
          ]
        },
        {
          "output_type": "stream",
          "name": "stdout",
          "text": [
            "/content/gdrive/MyDrive/george_ds/george/1207.jpg removed\n",
            "/content/gdrive/MyDrive/george_ds/george/1208.jpg removed\n",
            "/content/gdrive/MyDrive/george_ds/george/813.jpg removed\n",
            "/content/gdrive/MyDrive/george_ds/george/1325.jpg removed\n",
            "/content/gdrive/MyDrive/george_ds/george/1223.jpg removed\n",
            "/content/gdrive/MyDrive/george_ds/george/1222.jpg removed\n"
          ]
        },
        {
          "output_type": "stream",
          "name": "stderr",
          "text": [
            "\r 54%|█████▎    | 2595/4842 [01:08<01:13, 30.68it/s]"
          ]
        },
        {
          "output_type": "stream",
          "name": "stdout",
          "text": [
            "/content/gdrive/MyDrive/george_ds/george/1225.jpg removed\n",
            "/content/gdrive/MyDrive/george_ds/george/1226.jpg removed\n",
            "/content/gdrive/MyDrive/george_ds/george/1232.jpg removed\n",
            "/content/gdrive/MyDrive/george_ds/george/1221.jpg removed\n",
            "/content/gdrive/MyDrive/george_ds/george/1230.jpg removed\n",
            "/content/gdrive/MyDrive/george_ds/george/1370.jpg removed\n"
          ]
        },
        {
          "output_type": "stream",
          "name": "stderr",
          "text": [
            " 54%|█████▎    | 2602/4842 [01:08<01:18, 28.36it/s]"
          ]
        },
        {
          "output_type": "stream",
          "name": "stdout",
          "text": [
            "/content/gdrive/MyDrive/george_ds/george/1171.jpg removed\n",
            "/content/gdrive/MyDrive/george_ds/george/1161.jpg removed\n",
            "/content/gdrive/MyDrive/george_ds/george/1174.jpg removed\n",
            "/content/gdrive/MyDrive/george_ds/george/1163.jpg removed\n",
            "/content/gdrive/MyDrive/george_ds/george/1172.jpg removed\n",
            "/content/gdrive/MyDrive/george_ds/george/1168.jpg removed\n"
          ]
        },
        {
          "output_type": "stream",
          "name": "stderr",
          "text": [
            " 54%|█████▍    | 2610/4842 [01:08<01:09, 32.22it/s]"
          ]
        },
        {
          "output_type": "stream",
          "name": "stdout",
          "text": [
            "/content/gdrive/MyDrive/george_ds/george/1165.jpg removed\n",
            "/content/gdrive/MyDrive/george_ds/george/1162.jpg removed\n",
            "/content/gdrive/MyDrive/george_ds/george/1170.jpg removed\n",
            "/content/gdrive/MyDrive/george_ds/george/1173.jpg removed\n",
            "/content/gdrive/MyDrive/george_ds/george/1141.jpg removed\n",
            "/content/gdrive/MyDrive/george_ds/george/1133.jpg removed\n",
            "/content/gdrive/MyDrive/george_ds/george/1137.jpg removed\n",
            "/content/gdrive/MyDrive/george_ds/george/1149.jpg removed\n",
            "/content/gdrive/MyDrive/george_ds/george/1150.jpg removed\n",
            "/content/gdrive/MyDrive/george_ds/george/1155.jpg removed\n"
          ]
        },
        {
          "output_type": "stream",
          "name": "stderr",
          "text": [
            " 54%|█████▍    | 2619/4842 [01:08<01:03, 34.98it/s]"
          ]
        },
        {
          "output_type": "stream",
          "name": "stdout",
          "text": [
            "/content/gdrive/MyDrive/george_ds/george/1117.jpg removed\n",
            "/content/gdrive/MyDrive/george_ds/george/1124.jpg removed\n",
            "/content/gdrive/MyDrive/george_ds/george/1120.jpg removed\n",
            "/content/gdrive/MyDrive/george_ds/george/1116.jpg removed\n",
            "/content/gdrive/MyDrive/george_ds/george/1126.jpg removed\n",
            "/content/gdrive/MyDrive/george_ds/george/1127.jpg removed\n"
          ]
        },
        {
          "output_type": "stream",
          "name": "stderr",
          "text": [
            " 54%|█████▍    | 2627/4842 [01:09<01:09, 31.93it/s]"
          ]
        },
        {
          "output_type": "stream",
          "name": "stdout",
          "text": [
            "/content/gdrive/MyDrive/george_ds/george/1121.jpg removed\n",
            "/content/gdrive/MyDrive/george_ds/george/1184.jpg removed\n",
            "/content/gdrive/MyDrive/george_ds/george/1280.jpg removed\n",
            "/content/gdrive/MyDrive/george_ds/george/1295.jpg removed\n",
            "/content/gdrive/MyDrive/george_ds/george/1265.jpg removed\n",
            "/content/gdrive/MyDrive/george_ds/george/1136.jpg removed\n",
            "/content/gdrive/MyDrive/george_ds/george/1135.jpg removed\n"
          ]
        },
        {
          "output_type": "stream",
          "name": "stderr",
          "text": [
            "\r 54%|█████▍    | 2632/4842 [01:09<01:05, 33.49it/s]"
          ]
        },
        {
          "output_type": "stream",
          "name": "stdout",
          "text": [
            "/content/gdrive/MyDrive/george_ds/george/1140.jpg removed\n",
            "/content/gdrive/MyDrive/george_ds/george/1134.jpg removed\n",
            "/content/gdrive/MyDrive/george_ds/george/1144.jpg removed\n",
            "/content/gdrive/MyDrive/george_ds/george/1143.jpg removed\n",
            "/content/gdrive/MyDrive/george_ds/george/1131.jpg removed\n",
            "/content/gdrive/MyDrive/george_ds/george/1154.jpg removed\n",
            "/content/gdrive/MyDrive/george_ds/george/1156.jpg removed\n",
            "/content/gdrive/MyDrive/george_ds/george/1159.jpg removed\n"
          ]
        },
        {
          "output_type": "stream",
          "name": "stderr",
          "text": [
            " 55%|█████▍    | 2640/4842 [01:09<01:01, 35.92it/s]"
          ]
        },
        {
          "output_type": "stream",
          "name": "stdout",
          "text": [
            "/content/gdrive/MyDrive/george_ds/george/1181.jpg removed\n",
            "/content/gdrive/MyDrive/george_ds/george/1178.jpg removed\n",
            "/content/gdrive/MyDrive/george_ds/george/1183.jpg removed\n",
            "/content/gdrive/MyDrive/george_ds/george/1185.jpg removed\n",
            "/content/gdrive/MyDrive/george_ds/george/1199.jpg removed\n",
            "/content/gdrive/MyDrive/george_ds/george/1204.jpg removed\n",
            "/content/gdrive/MyDrive/george_ds/george/1195.jpg removed\n",
            "/content/gdrive/MyDrive/george_ds/george/1202.jpg removed\n",
            "/content/gdrive/MyDrive/george_ds/george/1192.jpg removed\n"
          ]
        },
        {
          "output_type": "stream",
          "name": "stderr",
          "text": [
            " 55%|█████▍    | 2649/4842 [01:09<01:03, 34.47it/s]"
          ]
        },
        {
          "output_type": "stream",
          "name": "stdout",
          "text": [
            "/content/gdrive/MyDrive/george_ds/george/1193.jpg removed\n",
            "/content/gdrive/MyDrive/george_ds/george/1194.jpg removed\n",
            "/content/gdrive/MyDrive/george_ds/george/1203.jpg removed\n",
            "/content/gdrive/MyDrive/george_ds/george/1200.jpg removed\n",
            "/content/gdrive/MyDrive/george_ds/george/1187.jpg removed\n",
            "/content/gdrive/MyDrive/george_ds/george/1182.jpg removed\n",
            "/content/gdrive/MyDrive/george_ds/george/1189.jpg removed\n"
          ]
        },
        {
          "output_type": "stream",
          "name": "stderr",
          "text": [
            " 55%|█████▍    | 2662/4842 [01:09<00:47, 45.78it/s]"
          ]
        },
        {
          "output_type": "stream",
          "name": "stdout",
          "text": [
            "/content/gdrive/MyDrive/george_ds/george/1180.jpg removed\n",
            "/content/gdrive/MyDrive/george_ds/george/1188.jpg removed\n",
            "/content/gdrive/MyDrive/george_ds/george/1186.jpg removed\n",
            "/content/gdrive/MyDrive/george_ds/george/1179.jpg removed\n",
            "/content/gdrive/MyDrive/george_ds/george/1177.jpg removed\n",
            "/content/gdrive/MyDrive/george_ds/george/1176.jpg removed\n",
            "/content/gdrive/MyDrive/george_ds/george/1122.jpg removed\n",
            "/content/gdrive/MyDrive/george_ds/george/1118.jpg removed\n",
            "/content/gdrive/MyDrive/george_ds/george/1129.jpg removed\n",
            "/content/gdrive/MyDrive/george_ds/george/1153.jpg removed\n",
            "/content/gdrive/MyDrive/george_ds/george/1148.jpg removed\n",
            "/content/gdrive/MyDrive/george_ds/george/1152.jpg removed\n",
            "/content/gdrive/MyDrive/george_ds/george/1157.jpg removed\n"
          ]
        },
        {
          "output_type": "stream",
          "name": "stderr",
          "text": [
            " 55%|█████▌    | 2672/4842 [01:10<00:48, 44.85it/s]"
          ]
        },
        {
          "output_type": "stream",
          "name": "stdout",
          "text": [
            "/content/gdrive/MyDrive/george_ds/george/1158.jpg removed\n",
            "/content/gdrive/MyDrive/george_ds/george/1151.jpg removed\n",
            "/content/gdrive/MyDrive/george_ds/george/1147.jpg removed\n",
            "/content/gdrive/MyDrive/george_ds/george/1146.jpg removed\n",
            "/content/gdrive/MyDrive/george_ds/george/1142.jpg removed\n",
            "/content/gdrive/MyDrive/george_ds/george/1139.jpg removed\n",
            "/content/gdrive/MyDrive/george_ds/george/1138.jpg removed\n",
            "/content/gdrive/MyDrive/george_ds/george/1132.jpg removed\n",
            "/content/gdrive/MyDrive/george_ds/george/1087.jpg removed\n",
            "/content/gdrive/MyDrive/george_ds/george/1086.jpg removed\n",
            "/content/gdrive/MyDrive/george_ds/george/1099.jpg removed\n"
          ]
        },
        {
          "output_type": "stream",
          "name": "stderr",
          "text": [
            "\r 55%|█████▌    | 2678/4842 [01:10<00:45, 47.79it/s]"
          ]
        },
        {
          "output_type": "stream",
          "name": "stdout",
          "text": [
            "/content/gdrive/MyDrive/george_ds/george/1097.jpg removed\n",
            "/content/gdrive/MyDrive/george_ds/george/1079.jpg removed\n",
            "/content/gdrive/MyDrive/george_ds/george/1073.jpg removed\n",
            "/content/gdrive/MyDrive/george_ds/george/1078.jpg removed\n",
            "/content/gdrive/MyDrive/george_ds/george/1077.jpg removed\n",
            "/content/gdrive/MyDrive/george_ds/george/1075.jpg removed\n"
          ]
        },
        {
          "output_type": "stream",
          "name": "stderr",
          "text": [
            " 56%|█████▌    | 2688/4842 [01:10<00:53, 40.25it/s]"
          ]
        },
        {
          "output_type": "stream",
          "name": "stdout",
          "text": [
            "/content/gdrive/MyDrive/george_ds/george/1072.jpg removed\n",
            "/content/gdrive/MyDrive/george_ds/george/1076.jpg removed\n",
            "/content/gdrive/MyDrive/george_ds/george/1084.jpg removed\n",
            "/content/gdrive/MyDrive/george_ds/george/1083.jpg removed\n",
            "/content/gdrive/MyDrive/george_ds/george/1082.jpg removed\n",
            "/content/gdrive/MyDrive/george_ds/george/1113.jpg removed\n",
            "/content/gdrive/MyDrive/george_ds/george/1114.jpg removed\n",
            "/content/gdrive/MyDrive/george_ds/george/1107.jpg removed\n",
            "/content/gdrive/MyDrive/george_ds/george/1104.jpg removed\n"
          ]
        },
        {
          "output_type": "stream",
          "name": "stderr",
          "text": [
            " 56%|█████▌    | 2700/4842 [01:10<00:44, 48.28it/s]"
          ]
        },
        {
          "output_type": "stream",
          "name": "stdout",
          "text": [
            "/content/gdrive/MyDrive/george_ds/george/1109.jpg removed\n",
            "/content/gdrive/MyDrive/george_ds/george/1101.jpg removed\n",
            "/content/gdrive/MyDrive/george_ds/george/1071.jpg removed\n",
            "/content/gdrive/MyDrive/george_ds/george/1080.jpg removed\n",
            "/content/gdrive/MyDrive/george_ds/george/1081.jpg removed\n",
            "/content/gdrive/MyDrive/george_ds/george/1074.jpg removed\n",
            "/content/gdrive/MyDrive/george_ds/george/1235.jpg removed\n",
            "/content/gdrive/MyDrive/george_ds/george/1250.jpg removed\n",
            "/content/gdrive/MyDrive/george_ds/george/1108.jpg removed\n",
            "/content/gdrive/MyDrive/george_ds/george/1105.jpg removed\n",
            "/content/gdrive/MyDrive/george_ds/george/1112.jpg removed\n",
            "/content/gdrive/MyDrive/george_ds/george/1106.jpg removed\n",
            "/content/gdrive/MyDrive/george_ds/george/1111.jpg removed\n"
          ]
        },
        {
          "output_type": "stream",
          "name": "stderr",
          "text": [
            "\r 56%|█████▌    | 2706/4842 [01:10<00:50, 42.10it/s]"
          ]
        },
        {
          "output_type": "stream",
          "name": "stdout",
          "text": [
            "/content/gdrive/MyDrive/george_ds/george/1102.jpg removed\n",
            "/content/gdrive/MyDrive/george_ds/george/1103.jpg removed\n",
            "/content/gdrive/MyDrive/george_ds/george/1110.jpg removed\n",
            "/content/gdrive/MyDrive/george_ds/george/1123.jpg removed\n",
            "/content/gdrive/MyDrive/george_ds/george/1119.jpg removed\n",
            "/content/gdrive/MyDrive/george_ds/george/1128.jpg removed\n",
            "/content/gdrive/MyDrive/george_ds/george/1125.jpg removed\n",
            "/content/gdrive/MyDrive/george_ds/george/1220.jpg removed\n"
          ]
        },
        {
          "output_type": "stream",
          "name": "stderr",
          "text": [
            " 56%|█████▌    | 2717/4842 [01:11<00:50, 42.27it/s]"
          ]
        },
        {
          "output_type": "stream",
          "name": "stdout",
          "text": [
            "/content/gdrive/MyDrive/george_ds/george/1060.jpg removed\n",
            "/content/gdrive/MyDrive/george_ds/george/1061.jpg removed\n",
            "/content/gdrive/MyDrive/george_ds/george/1064.jpg removed\n",
            "/content/gdrive/MyDrive/george_ds/george/1066.jpg removed\n",
            "/content/gdrive/MyDrive/george_ds/george/1059.jpg removed\n",
            "/content/gdrive/MyDrive/george_ds/george/1190.jpg removed\n",
            "/content/gdrive/MyDrive/george_ds/george/1048.jpg removed\n",
            "/content/gdrive/MyDrive/george_ds/george/1042.jpg removed\n"
          ]
        },
        {
          "output_type": "stream",
          "name": "stderr",
          "text": [
            " 56%|█████▋    | 2727/4842 [01:11<00:49, 43.08it/s]"
          ]
        },
        {
          "output_type": "stream",
          "name": "stdout",
          "text": [
            "/content/gdrive/MyDrive/george_ds/george/1054.jpg removed\n",
            "/content/gdrive/MyDrive/george_ds/george/1051.jpg removed\n",
            "/content/gdrive/MyDrive/george_ds/george/1052.jpg removed\n",
            "/content/gdrive/MyDrive/george_ds/george/1047.jpg removed\n",
            "/content/gdrive/MyDrive/george_ds/george/1205.jpg removed\n",
            "/content/gdrive/MyDrive/george_ds/george/1063.jpg removed\n",
            "/content/gdrive/MyDrive/george_ds/george/1069.jpg removed\n",
            "/content/gdrive/MyDrive/george_ds/george/1067.jpg removed\n",
            "/content/gdrive/MyDrive/george_ds/george/1057.jpg removed\n",
            "/content/gdrive/MyDrive/george_ds/george/1058.jpg removed\n",
            "/content/gdrive/MyDrive/george_ds/george/1065.jpg removed\n"
          ]
        },
        {
          "output_type": "stream",
          "name": "stderr",
          "text": [
            " 57%|█████▋    | 2737/4842 [01:11<00:50, 41.82it/s]"
          ]
        },
        {
          "output_type": "stream",
          "name": "stdout",
          "text": [
            "/content/gdrive/MyDrive/george_ds/george/1068.jpg removed\n",
            "/content/gdrive/MyDrive/george_ds/george/1056.jpg removed\n",
            "/content/gdrive/MyDrive/george_ds/george/1062.jpg removed\n",
            "/content/gdrive/MyDrive/george_ds/george/1091.jpg removed\n",
            "/content/gdrive/MyDrive/george_ds/george/1093.jpg removed\n",
            "/content/gdrive/MyDrive/george_ds/george/1094.jpg removed\n",
            "/content/gdrive/MyDrive/george_ds/george/1095.jpg removed\n",
            "/content/gdrive/MyDrive/george_ds/george/1096.jpg removed\n",
            "/content/gdrive/MyDrive/george_ds/george/1092.jpg removed\n",
            "/content/gdrive/MyDrive/george_ds/george/1098.jpg removed\n",
            "/content/gdrive/MyDrive/george_ds/george/1090.jpg removed\n"
          ]
        },
        {
          "output_type": "stream",
          "name": "stderr",
          "text": [
            " 57%|█████▋    | 2750/4842 [01:11<00:41, 50.73it/s]"
          ]
        },
        {
          "output_type": "stream",
          "name": "stdout",
          "text": [
            "/content/gdrive/MyDrive/george_ds/george/1089.jpg removed\n",
            "/content/gdrive/MyDrive/george_ds/george/1088.jpg removed\n",
            "/content/gdrive/MyDrive/george_ds/george/1044.jpg removed\n",
            "/content/gdrive/MyDrive/george_ds/george/1049.jpg removed\n",
            "/content/gdrive/MyDrive/george_ds/george/1046.jpg removed\n",
            "/content/gdrive/MyDrive/george_ds/george/1053.jpg removed\n",
            "/content/gdrive/MyDrive/george_ds/george/1050.jpg removed\n",
            "/content/gdrive/MyDrive/george_ds/george/1045.jpg removed\n",
            "/content/gdrive/MyDrive/george_ds/george/1041.jpg removed\n",
            "/content/gdrive/MyDrive/george_ds/george/1036.jpg removed\n"
          ]
        },
        {
          "output_type": "stream",
          "name": "stderr",
          "text": [
            " 57%|█████▋    | 2763/4842 [01:12<00:39, 52.53it/s]"
          ]
        },
        {
          "output_type": "stream",
          "name": "stdout",
          "text": [
            "/content/gdrive/MyDrive/george_ds/george/1030.jpg removed\n",
            "/content/gdrive/MyDrive/george_ds/george/1031.jpg removed\n",
            "/content/gdrive/MyDrive/george_ds/george/1033.jpg removed\n",
            "/content/gdrive/MyDrive/george_ds/george/1037.jpg removed\n",
            "/content/gdrive/MyDrive/george_ds/george/1032.jpg removed\n",
            "/content/gdrive/MyDrive/george_ds/george/1028.jpg removed\n",
            "/content/gdrive/MyDrive/george_ds/george/1027.jpg removed\n",
            "/content/gdrive/MyDrive/george_ds/george/929.jpg removed\n",
            "/content/gdrive/MyDrive/george_ds/george/1004.jpg removed\n",
            "/content/gdrive/MyDrive/george_ds/george/1003.jpg removed\n",
            "/content/gdrive/MyDrive/george_ds/george/1024.jpg removed\n",
            "/content/gdrive/MyDrive/george_ds/george/994.jpg removed\n"
          ]
        },
        {
          "output_type": "stream",
          "name": "stderr",
          "text": [
            "\r 57%|█████▋    | 2769/4842 [01:12<00:40, 50.72it/s]"
          ]
        },
        {
          "output_type": "stream",
          "name": "stdout",
          "text": [
            "/content/gdrive/MyDrive/george_ds/george/985.jpg removed\n",
            "/content/gdrive/MyDrive/george_ds/george/1130.jpg removed\n",
            "/content/gdrive/MyDrive/george_ds/george/1115.jpg removed\n",
            "/content/gdrive/MyDrive/george_ds/george/1175.jpg removed\n",
            "/content/gdrive/MyDrive/george_ds/george/1145.jpg removed\n",
            "/content/gdrive/MyDrive/george_ds/george/1013.jpg removed\n",
            "/content/gdrive/MyDrive/george_ds/george/1014.jpg removed\n",
            "/content/gdrive/MyDrive/george_ds/george/1017.jpg removed\n",
            "/content/gdrive/MyDrive/george_ds/george/1039.jpg removed\n",
            "/content/gdrive/MyDrive/george_ds/george/1035.jpg removed\n"
          ]
        },
        {
          "output_type": "stream",
          "name": "stderr",
          "text": [
            " 57%|█████▋    | 2780/4842 [01:12<00:44, 46.71it/s]"
          ]
        },
        {
          "output_type": "stream",
          "name": "stdout",
          "text": [
            "/content/gdrive/MyDrive/george_ds/george/992.jpg removed\n",
            "/content/gdrive/MyDrive/george_ds/george/983.jpg removed\n",
            "/content/gdrive/MyDrive/george_ds/george/989.jpg removed\n",
            "/content/gdrive/MyDrive/george_ds/george/991.jpg removed\n",
            "/content/gdrive/MyDrive/george_ds/george/1160.jpg removed\n",
            "/content/gdrive/MyDrive/george_ds/george/1038.jpg removed\n",
            "/content/gdrive/MyDrive/george_ds/george/1029.jpg removed\n",
            "/content/gdrive/MyDrive/george_ds/george/1034.jpg removed\n"
          ]
        },
        {
          "output_type": "stream",
          "name": "stderr",
          "text": [
            " 58%|█████▊    | 2790/4842 [01:12<00:47, 43.46it/s]"
          ]
        },
        {
          "output_type": "stream",
          "name": "stdout",
          "text": [
            "/content/gdrive/MyDrive/george_ds/george/1026.jpg removed\n",
            "/content/gdrive/MyDrive/george_ds/george/993.jpg removed\n",
            "/content/gdrive/MyDrive/george_ds/george/986.jpg removed\n",
            "/content/gdrive/MyDrive/george_ds/george/987.jpg removed\n",
            "/content/gdrive/MyDrive/george_ds/george/988.jpg removed\n",
            "/content/gdrive/MyDrive/george_ds/george/990.jpg removed\n",
            "/content/gdrive/MyDrive/george_ds/george/984.jpg removed\n",
            "/content/gdrive/MyDrive/george_ds/george/982.jpg removed\n",
            "/content/gdrive/MyDrive/george_ds/george/981.jpg removed\n"
          ]
        },
        {
          "output_type": "stream",
          "name": "stderr",
          "text": [
            " 58%|█████▊    | 2801/4842 [01:12<00:44, 45.89it/s]"
          ]
        },
        {
          "output_type": "stream",
          "name": "stdout",
          "text": [
            "/content/gdrive/MyDrive/george_ds/george/975.jpg removed\n",
            "/content/gdrive/MyDrive/george_ds/george/1085.jpg removed\n",
            "/content/gdrive/MyDrive/george_ds/george/1070.jpg removed\n",
            "/content/gdrive/MyDrive/george_ds/george/928.jpg removed\n",
            "/content/gdrive/MyDrive/george_ds/george/930.jpg removed\n",
            "/content/gdrive/MyDrive/george_ds/george/927.jpg removed\n",
            "/content/gdrive/MyDrive/george_ds/george/926.jpg removed\n",
            "/content/gdrive/MyDrive/george_ds/george/925.jpg removed\n",
            "/content/gdrive/MyDrive/george_ds/george/924.jpg removed\n",
            "/content/gdrive/MyDrive/george_ds/george/933.jpg removed\n"
          ]
        },
        {
          "output_type": "stream",
          "name": "stderr",
          "text": [
            " 58%|█████▊    | 2812/4842 [01:13<00:42, 47.50it/s]"
          ]
        },
        {
          "output_type": "stream",
          "name": "stdout",
          "text": [
            "/content/gdrive/MyDrive/george_ds/george/932.jpg removed\n",
            "/content/gdrive/MyDrive/george_ds/george/934.jpg removed\n",
            "/content/gdrive/MyDrive/george_ds/george/931.jpg removed\n",
            "/content/gdrive/MyDrive/george_ds/george/923.jpg removed\n",
            "/content/gdrive/MyDrive/george_ds/george/922.jpg removed\n",
            "/content/gdrive/MyDrive/george_ds/george/921.jpg removed\n",
            "/content/gdrive/MyDrive/george_ds/george/957.jpg removed\n",
            "/content/gdrive/MyDrive/george_ds/george/952.jpg removed\n",
            "/content/gdrive/MyDrive/george_ds/george/956.jpg removed\n",
            "/content/gdrive/MyDrive/george_ds/george/958.jpg removed\n",
            "/content/gdrive/MyDrive/george_ds/george/1100.jpg removed\n"
          ]
        },
        {
          "output_type": "stream",
          "name": "stderr",
          "text": [
            "\r 58%|█████▊    | 2817/4842 [01:13<00:43, 46.65it/s]"
          ]
        },
        {
          "output_type": "stream",
          "name": "stdout",
          "text": [
            "/content/gdrive/MyDrive/george_ds/george/1007.jpg removed\n",
            "/content/gdrive/MyDrive/george_ds/george/1001.jpg removed\n",
            "/content/gdrive/MyDrive/george_ds/george/1009.jpg removed\n",
            "/content/gdrive/MyDrive/george_ds/george/1006.jpg removed\n",
            "/content/gdrive/MyDrive/george_ds/george/998.jpg removed\n",
            "/content/gdrive/MyDrive/george_ds/george/999.jpg removed\n",
            "/content/gdrive/MyDrive/george_ds/george/1000.jpg removed\n",
            "/content/gdrive/MyDrive/george_ds/george/1005.jpg removed\n",
            "/content/gdrive/MyDrive/george_ds/george/1008.jpg removed\n",
            "/content/gdrive/MyDrive/george_ds/george/1002.jpg removed\n",
            "/content/gdrive/MyDrive/george_ds/george/997.jpg removed\n"
          ]
        },
        {
          "output_type": "stream",
          "name": "stderr",
          "text": [
            " 58%|█████▊    | 2828/4842 [01:13<00:41, 48.07it/s]"
          ]
        },
        {
          "output_type": "stream",
          "name": "stdout",
          "text": [
            "/content/gdrive/MyDrive/george_ds/george/996.jpg removed\n",
            "/content/gdrive/MyDrive/george_ds/george/1023.jpg removed\n",
            "/content/gdrive/MyDrive/george_ds/george/1022.jpg removed\n",
            "/content/gdrive/MyDrive/george_ds/george/1021.jpg removed\n",
            "/content/gdrive/MyDrive/george_ds/george/1019.jpg removed\n",
            "/content/gdrive/MyDrive/george_ds/george/1016.jpg removed\n",
            "/content/gdrive/MyDrive/george_ds/george/1020.jpg removed\n",
            "/content/gdrive/MyDrive/george_ds/george/1015.jpg removed\n",
            "/content/gdrive/MyDrive/george_ds/george/1018.jpg removed\n",
            "/content/gdrive/MyDrive/george_ds/george/1012.jpg removed\n"
          ]
        },
        {
          "output_type": "stream",
          "name": "stderr",
          "text": [
            " 59%|█████▊    | 2839/4842 [01:13<00:42, 47.38it/s]"
          ]
        },
        {
          "output_type": "stream",
          "name": "stdout",
          "text": [
            "/content/gdrive/MyDrive/george_ds/george/1011.jpg removed\n",
            "/content/gdrive/MyDrive/george_ds/george/942.jpg removed\n",
            "/content/gdrive/MyDrive/george_ds/george/947.jpg removed\n",
            "/content/gdrive/MyDrive/george_ds/george/944.jpg removed\n",
            "/content/gdrive/MyDrive/george_ds/george/943.jpg removed\n",
            "/content/gdrive/MyDrive/george_ds/george/945.jpg removed\n",
            "/content/gdrive/MyDrive/george_ds/george/940.jpg removed\n",
            "/content/gdrive/MyDrive/george_ds/george/946.jpg removed\n",
            "/content/gdrive/MyDrive/george_ds/george/941.jpg removed\n",
            "/content/gdrive/MyDrive/george_ds/george/936.jpg removed\n"
          ]
        },
        {
          "output_type": "stream",
          "name": "stderr",
          "text": [
            " 59%|█████▉    | 2850/4842 [01:13<00:42, 46.86it/s]"
          ]
        },
        {
          "output_type": "stream",
          "name": "stdout",
          "text": [
            "/content/gdrive/MyDrive/george_ds/george/962.jpg removed\n",
            "/content/gdrive/MyDrive/george_ds/george/959.jpg removed\n",
            "/content/gdrive/MyDrive/george_ds/george/960.jpg removed\n",
            "/content/gdrive/MyDrive/george_ds/george/953.jpg removed\n",
            "/content/gdrive/MyDrive/george_ds/george/954.jpg removed\n",
            "/content/gdrive/MyDrive/george_ds/george/961.jpg removed\n",
            "/content/gdrive/MyDrive/george_ds/george/964.jpg removed\n",
            "/content/gdrive/MyDrive/george_ds/george/963.jpg removed\n",
            "/content/gdrive/MyDrive/george_ds/george/955.jpg removed\n",
            "/content/gdrive/MyDrive/george_ds/george/951.jpg removed\n"
          ]
        },
        {
          "output_type": "stream",
          "name": "stderr",
          "text": [
            " 59%|█████▉    | 2861/4842 [01:14<00:40, 49.43it/s]"
          ]
        },
        {
          "output_type": "stream",
          "name": "stdout",
          "text": [
            "/content/gdrive/MyDrive/george_ds/george/978.jpg removed\n",
            "/content/gdrive/MyDrive/george_ds/george/979.jpg removed\n",
            "/content/gdrive/MyDrive/george_ds/george/976.jpg removed\n",
            "/content/gdrive/MyDrive/george_ds/george/977.jpg removed\n",
            "/content/gdrive/MyDrive/george_ds/george/970.jpg removed\n",
            "/content/gdrive/MyDrive/george_ds/george/974.jpg removed\n",
            "/content/gdrive/MyDrive/george_ds/george/973.jpg removed\n",
            "/content/gdrive/MyDrive/george_ds/george/969.jpg removed\n",
            "/content/gdrive/MyDrive/george_ds/george/972.jpg removed\n",
            "/content/gdrive/MyDrive/george_ds/george/971.jpg removed\n",
            "/content/gdrive/MyDrive/george_ds/george/968.jpg removed\n",
            "/content/gdrive/MyDrive/george_ds/george/967.jpg removed\n",
            "/content/gdrive/MyDrive/george_ds/george/966.jpg removed\n"
          ]
        },
        {
          "output_type": "stream",
          "name": "stderr",
          "text": [
            " 59%|█████▉    | 2874/4842 [01:14<00:39, 49.80it/s]"
          ]
        },
        {
          "output_type": "stream",
          "name": "stdout",
          "text": [
            "/content/gdrive/MyDrive/george_ds/george/1010.jpg removed\n",
            "/content/gdrive/MyDrive/george_ds/george/995.jpg removed\n",
            "/content/gdrive/MyDrive/george_ds/george/980.jpg removed\n",
            "/content/gdrive/MyDrive/george_ds/george/806.jpg removed\n",
            "/content/gdrive/MyDrive/george_ds/george/811.jpg removed\n",
            "/content/gdrive/MyDrive/george_ds/george/810.jpg removed\n",
            "/content/gdrive/MyDrive/george_ds/george/802.jpg removed\n",
            "/content/gdrive/MyDrive/george_ds/george/801.jpg removed\n",
            "/content/gdrive/MyDrive/george_ds/george/876.jpg removed\n",
            "/content/gdrive/MyDrive/george_ds/george/882.jpg removed\n"
          ]
        },
        {
          "output_type": "stream",
          "name": "stderr",
          "text": [
            "\r 59%|█████▉    | 2880/4842 [01:14<00:38, 50.86it/s]"
          ]
        },
        {
          "output_type": "stream",
          "name": "stdout",
          "text": [
            "/content/gdrive/MyDrive/george_ds/george/870.jpg removed\n",
            "/content/gdrive/MyDrive/george_ds/george/855.jpg removed\n",
            "/content/gdrive/MyDrive/george_ds/george/852.jpg removed\n",
            "/content/gdrive/MyDrive/george_ds/george/854.jpg removed\n",
            "/content/gdrive/MyDrive/george_ds/george/851.jpg removed\n",
            "/content/gdrive/MyDrive/george_ds/george/853.jpg removed\n",
            "/content/gdrive/MyDrive/george_ds/george/849.jpg removed\n",
            "/content/gdrive/MyDrive/george_ds/george/856.jpg removed\n"
          ]
        },
        {
          "output_type": "stream",
          "name": "stderr",
          "text": [
            " 60%|█████▉    | 2892/4842 [01:14<00:39, 48.75it/s]"
          ]
        },
        {
          "output_type": "stream",
          "name": "stdout",
          "text": [
            "/content/gdrive/MyDrive/george_ds/george/1025.jpg removed\n",
            "/content/gdrive/MyDrive/george_ds/george/881.jpg removed\n",
            "/content/gdrive/MyDrive/george_ds/george/885.jpg removed\n",
            "/content/gdrive/MyDrive/george_ds/george/888.jpg removed\n",
            "/content/gdrive/MyDrive/george_ds/george/887.jpg removed\n",
            "/content/gdrive/MyDrive/george_ds/george/878.jpg removed\n",
            "/content/gdrive/MyDrive/george_ds/george/877.jpg removed\n",
            "/content/gdrive/MyDrive/george_ds/george/903.jpg removed\n",
            "/content/gdrive/MyDrive/george_ds/george/899.jpg removed\n",
            "/content/gdrive/MyDrive/george_ds/george/896.jpg removed\n"
          ]
        },
        {
          "output_type": "stream",
          "name": "stderr",
          "text": [
            " 60%|█████▉    | 2903/4842 [01:15<00:40, 47.99it/s]"
          ]
        },
        {
          "output_type": "stream",
          "name": "stdout",
          "text": [
            "/content/gdrive/MyDrive/george_ds/george/891.jpg removed\n",
            "/content/gdrive/MyDrive/george_ds/george/909.jpg removed\n",
            "/content/gdrive/MyDrive/george_ds/george/911.jpg removed\n",
            "/content/gdrive/MyDrive/george_ds/george/908.jpg removed\n",
            "/content/gdrive/MyDrive/george_ds/george/916.jpg removed\n",
            "/content/gdrive/MyDrive/george_ds/george/914.jpg removed\n",
            "/content/gdrive/MyDrive/george_ds/george/907.jpg removed\n",
            "/content/gdrive/MyDrive/george_ds/george/1040.jpg removed\n",
            "/content/gdrive/MyDrive/george_ds/george/894.jpg removed\n",
            "/content/gdrive/MyDrive/george_ds/george/898.jpg removed\n"
          ]
        },
        {
          "output_type": "stream",
          "name": "stderr",
          "text": [
            " 60%|██████    | 2913/4842 [01:15<00:41, 46.76it/s]"
          ]
        },
        {
          "output_type": "stream",
          "name": "stdout",
          "text": [
            "/content/gdrive/MyDrive/george_ds/george/901.jpg removed\n",
            "/content/gdrive/MyDrive/george_ds/george/893.jpg removed\n",
            "/content/gdrive/MyDrive/george_ds/george/902.jpg removed\n",
            "/content/gdrive/MyDrive/george_ds/george/900.jpg removed\n",
            "/content/gdrive/MyDrive/george_ds/george/892.jpg removed\n",
            "/content/gdrive/MyDrive/george_ds/george/904.jpg removed\n",
            "/content/gdrive/MyDrive/george_ds/george/897.jpg removed\n",
            "/content/gdrive/MyDrive/george_ds/george/895.jpg removed\n",
            "/content/gdrive/MyDrive/george_ds/george/1055.jpg removed\n",
            "/content/gdrive/MyDrive/george_ds/george/910.jpg removed\n"
          ]
        },
        {
          "output_type": "stream",
          "name": "stderr",
          "text": [
            " 60%|██████    | 2924/4842 [01:15<00:42, 45.63it/s]"
          ]
        },
        {
          "output_type": "stream",
          "name": "stdout",
          "text": [
            "/content/gdrive/MyDrive/george_ds/george/906.jpg removed\n",
            "/content/gdrive/MyDrive/george_ds/george/918.jpg removed\n",
            "/content/gdrive/MyDrive/george_ds/george/919.jpg removed\n",
            "/content/gdrive/MyDrive/george_ds/george/913.jpg removed\n",
            "/content/gdrive/MyDrive/george_ds/george/912.jpg removed\n",
            "/content/gdrive/MyDrive/george_ds/george/915.jpg removed\n",
            "/content/gdrive/MyDrive/george_ds/george/917.jpg removed\n",
            "/content/gdrive/MyDrive/george_ds/george/949.jpg removed\n",
            "/content/gdrive/MyDrive/george_ds/george/937.jpg removed\n",
            "/content/gdrive/MyDrive/george_ds/george/938.jpg removed\n"
          ]
        },
        {
          "output_type": "stream",
          "name": "stderr",
          "text": [
            " 61%|██████    | 2936/4842 [01:15<00:37, 50.60it/s]"
          ]
        },
        {
          "output_type": "stream",
          "name": "stdout",
          "text": [
            "/content/gdrive/MyDrive/george_ds/george/948.jpg removed\n",
            "/content/gdrive/MyDrive/george_ds/george/939.jpg removed\n",
            "/content/gdrive/MyDrive/george_ds/george/858.jpg removed\n",
            "/content/gdrive/MyDrive/george_ds/george/859.jpg removed\n",
            "/content/gdrive/MyDrive/george_ds/george/850.jpg removed\n",
            "/content/gdrive/MyDrive/george_ds/george/920.jpg removed\n",
            "/content/gdrive/MyDrive/george_ds/george/884.jpg removed\n",
            "/content/gdrive/MyDrive/george_ds/george/879.jpg removed\n",
            "/content/gdrive/MyDrive/george_ds/george/880.jpg removed\n",
            "/content/gdrive/MyDrive/george_ds/george/886.jpg removed\n",
            "/content/gdrive/MyDrive/george_ds/george/883.jpg removed\n",
            "/content/gdrive/MyDrive/george_ds/george/889.jpg removed\n"
          ]
        },
        {
          "output_type": "stream",
          "name": "stderr",
          "text": [
            "\r 61%|██████    | 2942/4842 [01:15<00:43, 43.54it/s]"
          ]
        },
        {
          "output_type": "stream",
          "name": "stdout",
          "text": [
            "/content/gdrive/MyDrive/george_ds/george/831.jpg removed\n",
            "/content/gdrive/MyDrive/george_ds/george/832.jpg removed\n",
            "/content/gdrive/MyDrive/george_ds/george/837.jpg removed\n",
            "/content/gdrive/MyDrive/george_ds/george/840.jpg removed\n",
            "/content/gdrive/MyDrive/george_ds/george/838.jpg removed\n",
            "/content/gdrive/MyDrive/george_ds/george/839.jpg removed\n",
            "/content/gdrive/MyDrive/george_ds/george/867.jpg removed\n"
          ]
        },
        {
          "output_type": "stream",
          "name": "stderr",
          "text": [
            " 61%|██████    | 2952/4842 [01:16<00:44, 42.04it/s]"
          ]
        },
        {
          "output_type": "stream",
          "name": "stdout",
          "text": [
            "/content/gdrive/MyDrive/george_ds/george/857.jpg removed\n",
            "/content/gdrive/MyDrive/george_ds/george/847.jpg removed\n",
            "/content/gdrive/MyDrive/george_ds/george/846.jpg removed\n",
            "/content/gdrive/MyDrive/george_ds/george/848.jpg removed\n",
            "/content/gdrive/MyDrive/george_ds/george/873.jpg removed\n",
            "/content/gdrive/MyDrive/george_ds/george/874.jpg removed\n",
            "/content/gdrive/MyDrive/george_ds/george/872.jpg removed\n",
            "/content/gdrive/MyDrive/george_ds/george/868.jpg removed\n",
            "/content/gdrive/MyDrive/george_ds/george/864.jpg removed\n"
          ]
        },
        {
          "output_type": "stream",
          "name": "stderr",
          "text": [
            "\r 61%|██████    | 2957/4842 [01:16<00:45, 41.78it/s]"
          ]
        },
        {
          "output_type": "stream",
          "name": "stdout",
          "text": [
            "/content/gdrive/MyDrive/george_ds/george/865.jpg removed\n",
            "/content/gdrive/MyDrive/george_ds/george/866.jpg removed\n",
            "/content/gdrive/MyDrive/george_ds/george/869.jpg removed\n",
            "/content/gdrive/MyDrive/george_ds/george/863.jpg removed\n",
            "/content/gdrive/MyDrive/george_ds/george/862.jpg removed\n",
            "/content/gdrive/MyDrive/george_ds/george/861.jpg removed\n",
            "/content/gdrive/MyDrive/george_ds/george/825.jpg removed\n"
          ]
        },
        {
          "output_type": "stream",
          "name": "stderr",
          "text": [
            " 61%|██████▏   | 2966/4842 [01:16<00:49, 37.73it/s]"
          ]
        },
        {
          "output_type": "stream",
          "name": "stdout",
          "text": [
            "/content/gdrive/MyDrive/george_ds/george/817.jpg removed\n",
            "/content/gdrive/MyDrive/george_ds/george/828.jpg removed\n",
            "/content/gdrive/MyDrive/george_ds/george/829.jpg removed\n",
            "/content/gdrive/MyDrive/george_ds/george/827.jpg removed\n",
            "/content/gdrive/MyDrive/george_ds/george/816.jpg removed\n",
            "/content/gdrive/MyDrive/george_ds/george/835.jpg removed\n",
            "/content/gdrive/MyDrive/george_ds/george/843.jpg removed\n",
            "/content/gdrive/MyDrive/george_ds/george/836.jpg removed\n"
          ]
        },
        {
          "output_type": "stream",
          "name": "stderr",
          "text": [
            " 61%|██████▏   | 2976/4842 [01:16<00:48, 38.83it/s]"
          ]
        },
        {
          "output_type": "stream",
          "name": "stdout",
          "text": [
            "/content/gdrive/MyDrive/george_ds/george/834.jpg removed\n",
            "/content/gdrive/MyDrive/george_ds/george/841.jpg removed\n",
            "/content/gdrive/MyDrive/george_ds/george/833.jpg removed\n",
            "/content/gdrive/MyDrive/george_ds/george/844.jpg removed\n",
            "/content/gdrive/MyDrive/george_ds/george/842.jpg removed\n",
            "/content/gdrive/MyDrive/george_ds/george/772.jpg removed\n",
            "/content/gdrive/MyDrive/george_ds/george/778.jpg removed\n",
            "/content/gdrive/MyDrive/george_ds/george/773.jpg removed\n"
          ]
        },
        {
          "output_type": "stream",
          "name": "stderr",
          "text": [
            "\r 62%|██████▏   | 2984/4842 [01:16<00:38, 47.76it/s]"
          ]
        },
        {
          "output_type": "stream",
          "name": "stdout",
          "text": [
            "/content/gdrive/MyDrive/george_ds/george/782.jpg removed\n",
            "/content/gdrive/MyDrive/george_ds/george/783.jpg removed\n",
            "/content/gdrive/MyDrive/george_ds/george/777.jpg removed\n",
            "/content/gdrive/MyDrive/george_ds/george/787.jpg removed\n",
            "/content/gdrive/MyDrive/george_ds/george/797.jpg removed\n",
            "/content/gdrive/MyDrive/george_ds/george/799.jpg removed\n",
            "/content/gdrive/MyDrive/george_ds/george/807.jpg removed\n",
            "/content/gdrive/MyDrive/george_ds/george/812.jpg removed\n",
            "/content/gdrive/MyDrive/george_ds/george/809.jpg removed\n",
            "/content/gdrive/MyDrive/george_ds/george/805.jpg removed\n",
            "/content/gdrive/MyDrive/george_ds/george/814.jpg removed\n",
            "/content/gdrive/MyDrive/george_ds/george/804.jpg removed\n"
          ]
        },
        {
          "output_type": "stream",
          "name": "stderr",
          "text": [
            " 62%|██████▏   | 2995/4842 [01:17<00:40, 46.12it/s]"
          ]
        },
        {
          "output_type": "stream",
          "name": "stdout",
          "text": [
            "/content/gdrive/MyDrive/george_ds/george/808.jpg removed\n",
            "/content/gdrive/MyDrive/george_ds/george/803.jpg removed\n",
            "/content/gdrive/MyDrive/george_ds/george/788.jpg removed\n",
            "/content/gdrive/MyDrive/george_ds/george/795.jpg removed\n",
            "/content/gdrive/MyDrive/george_ds/george/794.jpg removed\n",
            "/content/gdrive/MyDrive/george_ds/george/793.jpg removed\n",
            "/content/gdrive/MyDrive/george_ds/george/792.jpg removed\n",
            "/content/gdrive/MyDrive/george_ds/george/791.jpg removed\n",
            "/content/gdrive/MyDrive/george_ds/george/790.jpg removed\n"
          ]
        },
        {
          "output_type": "stream",
          "name": "stderr",
          "text": [
            " 62%|██████▏   | 3005/4842 [01:17<00:44, 41.00it/s]"
          ]
        },
        {
          "output_type": "stream",
          "name": "stdout",
          "text": [
            "/content/gdrive/MyDrive/george_ds/george/798.jpg removed\n",
            "/content/gdrive/MyDrive/george_ds/george/965.jpg removed\n",
            "/content/gdrive/MyDrive/george_ds/george/950.jpg removed\n",
            "/content/gdrive/MyDrive/george_ds/george/796.jpg removed\n",
            "/content/gdrive/MyDrive/george_ds/george/789.jpg removed\n",
            "/content/gdrive/MyDrive/george_ds/george/786.jpg removed\n",
            "/content/gdrive/MyDrive/george_ds/george/779.jpg removed\n"
          ]
        },
        {
          "output_type": "stream",
          "name": "stderr",
          "text": [
            "\r 62%|██████▏   | 3010/4842 [01:17<00:46, 39.40it/s]"
          ]
        },
        {
          "output_type": "stream",
          "name": "stdout",
          "text": [
            "/content/gdrive/MyDrive/george_ds/george/774.jpg removed\n",
            "/content/gdrive/MyDrive/george_ds/george/780.jpg removed\n",
            "/content/gdrive/MyDrive/george_ds/george/776.jpg removed\n",
            "/content/gdrive/MyDrive/george_ds/george/781.jpg removed\n",
            "/content/gdrive/MyDrive/george_ds/george/775.jpg removed\n",
            "/content/gdrive/MyDrive/george_ds/george/784.jpg removed\n",
            "/content/gdrive/MyDrive/george_ds/george/771.jpg removed\n",
            "/content/gdrive/MyDrive/george_ds/george/818.jpg removed\n"
          ]
        },
        {
          "output_type": "stream",
          "name": "stderr",
          "text": [
            " 62%|██████▏   | 3019/4842 [01:17<00:48, 37.35it/s]"
          ]
        },
        {
          "output_type": "stream",
          "name": "stdout",
          "text": [
            "/content/gdrive/MyDrive/george_ds/george/824.jpg removed\n",
            "/content/gdrive/MyDrive/george_ds/george/822.jpg removed\n",
            "/content/gdrive/MyDrive/george_ds/george/823.jpg removed\n",
            "/content/gdrive/MyDrive/george_ds/george/821.jpg removed\n",
            "/content/gdrive/MyDrive/george_ds/george/819.jpg removed\n",
            "/content/gdrive/MyDrive/george_ds/george/820.jpg removed\n",
            "/content/gdrive/MyDrive/george_ds/george/826.jpg removed\n",
            "/content/gdrive/MyDrive/george_ds/george/684.jpg removed\n",
            "/content/gdrive/MyDrive/george_ds/george/690.jpg removed\n"
          ]
        },
        {
          "output_type": "stream",
          "name": "stderr",
          "text": [
            " 63%|██████▎   | 3031/4842 [01:18<00:40, 44.67it/s]"
          ]
        },
        {
          "output_type": "stream",
          "name": "stdout",
          "text": [
            "/content/gdrive/MyDrive/george_ds/george/685.jpg removed\n",
            "/content/gdrive/MyDrive/george_ds/george/689.jpg removed\n",
            "/content/gdrive/MyDrive/george_ds/george/691.jpg removed\n",
            "/content/gdrive/MyDrive/george_ds/george/686.jpg removed\n",
            "/content/gdrive/MyDrive/george_ds/george/693.jpg removed\n",
            "/content/gdrive/MyDrive/george_ds/george/662.jpg removed\n",
            "/content/gdrive/MyDrive/george_ds/george/652.jpg removed\n",
            "/content/gdrive/MyDrive/george_ds/george/860.jpg removed\n",
            "/content/gdrive/MyDrive/george_ds/george/845.jpg removed\n",
            "/content/gdrive/MyDrive/george_ds/george/664.jpg removed\n",
            "/content/gdrive/MyDrive/george_ds/george/660.jpg removed\n"
          ]
        },
        {
          "output_type": "stream",
          "name": "stderr",
          "text": [
            " 63%|██████▎   | 3043/4842 [01:18<00:37, 47.77it/s]"
          ]
        },
        {
          "output_type": "stream",
          "name": "stdout",
          "text": [
            "/content/gdrive/MyDrive/george_ds/george/663.jpg removed\n",
            "/content/gdrive/MyDrive/george_ds/george/651.jpg removed\n",
            "/content/gdrive/MyDrive/george_ds/george/656.jpg removed\n",
            "/content/gdrive/MyDrive/george_ds/george/645.jpg removed\n",
            "/content/gdrive/MyDrive/george_ds/george/644.jpg removed\n",
            "/content/gdrive/MyDrive/george_ds/george/648.jpg removed\n",
            "/content/gdrive/MyDrive/george_ds/george/636.jpg removed\n",
            "/content/gdrive/MyDrive/george_ds/george/637.jpg removed\n",
            "/content/gdrive/MyDrive/george_ds/george/641.jpg removed\n",
            "/content/gdrive/MyDrive/george_ds/george/715.jpg removed\n"
          ]
        },
        {
          "output_type": "stream",
          "name": "stderr",
          "text": [
            "\r 63%|██████▎   | 3049/4842 [01:18<00:36, 48.81it/s]"
          ]
        },
        {
          "output_type": "stream",
          "name": "stdout",
          "text": [
            "/content/gdrive/MyDrive/george_ds/george/719.jpg removed\n",
            "/content/gdrive/MyDrive/george_ds/george/875.jpg removed\n",
            "/content/gdrive/MyDrive/george_ds/george/734.jpg removed\n",
            "/content/gdrive/MyDrive/george_ds/george/736.jpg removed\n",
            "/content/gdrive/MyDrive/george_ds/george/726.jpg removed\n",
            "/content/gdrive/MyDrive/george_ds/george/730.jpg removed\n",
            "/content/gdrive/MyDrive/george_ds/george/735.jpg removed\n",
            "/content/gdrive/MyDrive/george_ds/george/733.jpg removed\n"
          ]
        },
        {
          "output_type": "stream",
          "name": "stderr",
          "text": [
            " 63%|██████▎   | 3059/4842 [01:18<00:44, 40.32it/s]"
          ]
        },
        {
          "output_type": "stream",
          "name": "stdout",
          "text": [
            "/content/gdrive/MyDrive/george_ds/george/728.jpg removed\n",
            "/content/gdrive/MyDrive/george_ds/george/729.jpg removed\n",
            "/content/gdrive/MyDrive/george_ds/george/732.jpg removed\n",
            "/content/gdrive/MyDrive/george_ds/george/753.jpg removed\n",
            "/content/gdrive/MyDrive/george_ds/george/747.jpg removed\n",
            "/content/gdrive/MyDrive/george_ds/george/746.jpg removed\n",
            "/content/gdrive/MyDrive/george_ds/george/752.jpg removed\n",
            "/content/gdrive/MyDrive/george_ds/george/751.jpg removed\n"
          ]
        },
        {
          "output_type": "stream",
          "name": "stderr",
          "text": [
            " 63%|██████▎   | 3070/4842 [01:18<00:41, 42.48it/s]"
          ]
        },
        {
          "output_type": "stream",
          "name": "stdout",
          "text": [
            "/content/gdrive/MyDrive/george_ds/george/749.jpg removed\n",
            "/content/gdrive/MyDrive/george_ds/george/742.jpg removed\n",
            "/content/gdrive/MyDrive/george_ds/george/769.jpg removed\n",
            "/content/gdrive/MyDrive/george_ds/george/766.jpg removed\n",
            "/content/gdrive/MyDrive/george_ds/george/757.jpg removed\n",
            "/content/gdrive/MyDrive/george_ds/george/761.jpg removed\n",
            "/content/gdrive/MyDrive/george_ds/george/759.jpg removed\n",
            "/content/gdrive/MyDrive/george_ds/george/754.jpg removed\n",
            "/content/gdrive/MyDrive/george_ds/george/745.jpg removed\n",
            "/content/gdrive/MyDrive/george_ds/george/750.jpg removed\n",
            "/content/gdrive/MyDrive/george_ds/george/744.jpg removed\n"
          ]
        },
        {
          "output_type": "stream",
          "name": "stderr",
          "text": [
            "\r 64%|██████▎   | 3075/4842 [01:19<00:41, 42.42it/s]"
          ]
        },
        {
          "output_type": "stream",
          "name": "stdout",
          "text": [
            "/content/gdrive/MyDrive/george_ds/george/741.jpg removed\n",
            "/content/gdrive/MyDrive/george_ds/george/743.jpg removed\n",
            "/content/gdrive/MyDrive/george_ds/george/748.jpg removed\n",
            "/content/gdrive/MyDrive/george_ds/george/890.jpg removed\n",
            "/content/gdrive/MyDrive/george_ds/george/758.jpg removed\n",
            "/content/gdrive/MyDrive/george_ds/george/756.jpg removed\n",
            "/content/gdrive/MyDrive/george_ds/george/768.jpg removed\n",
            "/content/gdrive/MyDrive/george_ds/george/765.jpg removed\n",
            "/content/gdrive/MyDrive/george_ds/george/905.jpg removed\n"
          ]
        },
        {
          "output_type": "stream",
          "name": "stderr",
          "text": [
            " 64%|██████▎   | 3086/4842 [01:19<00:39, 44.86it/s]"
          ]
        },
        {
          "output_type": "stream",
          "name": "stdout",
          "text": [
            "/content/gdrive/MyDrive/george_ds/george/760.jpg removed\n",
            "/content/gdrive/MyDrive/george_ds/george/762.jpg removed\n",
            "/content/gdrive/MyDrive/george_ds/george/763.jpg removed\n",
            "/content/gdrive/MyDrive/george_ds/george/764.jpg removed\n",
            "/content/gdrive/MyDrive/george_ds/george/767.jpg removed\n",
            "/content/gdrive/MyDrive/george_ds/george/704.jpg removed\n",
            "/content/gdrive/MyDrive/george_ds/george/706.jpg removed\n",
            "/content/gdrive/MyDrive/george_ds/george/698.jpg removed\n",
            "/content/gdrive/MyDrive/george_ds/george/646.jpg removed\n",
            "/content/gdrive/MyDrive/george_ds/george/649.jpg removed\n",
            "/content/gdrive/MyDrive/george_ds/george/643.jpg removed\n",
            "/content/gdrive/MyDrive/george_ds/george/642.jpg removed\n",
            "/content/gdrive/MyDrive/george_ds/george/647.jpg removed\n"
          ]
        },
        {
          "output_type": "stream",
          "name": "stderr",
          "text": [
            " 64%|██████▍   | 3098/4842 [01:19<00:39, 43.92it/s]"
          ]
        },
        {
          "output_type": "stream",
          "name": "stdout",
          "text": [
            "/content/gdrive/MyDrive/george_ds/george/640.jpg removed\n",
            "/content/gdrive/MyDrive/george_ds/george/639.jpg removed\n",
            "/content/gdrive/MyDrive/george_ds/george/638.jpg removed\n",
            "/content/gdrive/MyDrive/george_ds/george/624.jpg removed\n",
            "/content/gdrive/MyDrive/george_ds/george/623.jpg removed\n",
            "/content/gdrive/MyDrive/george_ds/george/627.jpg removed\n"
          ]
        },
        {
          "output_type": "stream",
          "name": "stderr",
          "text": [
            "\r 64%|██████▍   | 3103/4842 [01:19<00:49, 35.31it/s]"
          ]
        },
        {
          "output_type": "stream",
          "name": "stdout",
          "text": [
            "/content/gdrive/MyDrive/george_ds/george/633.jpg removed\n",
            "/content/gdrive/MyDrive/george_ds/george/634.jpg removed\n",
            "/content/gdrive/MyDrive/george_ds/george/628.jpg removed\n",
            "/content/gdrive/MyDrive/george_ds/george/701.jpg removed\n",
            "/content/gdrive/MyDrive/george_ds/george/709.jpg removed\n",
            "/content/gdrive/MyDrive/george_ds/george/815.jpg removed\n",
            "/content/gdrive/MyDrive/george_ds/george/785.jpg removed\n"
          ]
        },
        {
          "output_type": "stream",
          "name": "stderr",
          "text": [
            " 64%|██████▍   | 3111/4842 [01:20<00:50, 33.97it/s]"
          ]
        },
        {
          "output_type": "stream",
          "name": "stdout",
          "text": [
            "/content/gdrive/MyDrive/george_ds/george/770.jpg removed\n",
            "/content/gdrive/MyDrive/george_ds/george/830.jpg removed\n",
            "/content/gdrive/MyDrive/george_ds/george/800.jpg removed\n",
            "/content/gdrive/MyDrive/george_ds/george/675.jpg removed\n",
            "/content/gdrive/MyDrive/george_ds/george/677.jpg removed\n",
            "/content/gdrive/MyDrive/george_ds/george/669.jpg removed\n",
            "/content/gdrive/MyDrive/george_ds/george/670.jpg removed\n",
            "/content/gdrive/MyDrive/george_ds/george/674.jpg removed\n"
          ]
        },
        {
          "output_type": "stream",
          "name": "stderr",
          "text": [
            " 64%|██████▍   | 3119/4842 [01:20<00:54, 31.73it/s]"
          ]
        },
        {
          "output_type": "stream",
          "name": "stdout",
          "text": [
            "/content/gdrive/MyDrive/george_ds/george/667.jpg removed\n",
            "/content/gdrive/MyDrive/george_ds/george/694.jpg removed\n",
            "/content/gdrive/MyDrive/george_ds/george/682.jpg removed\n",
            "/content/gdrive/MyDrive/george_ds/george/692.jpg removed\n",
            "/content/gdrive/MyDrive/george_ds/george/687.jpg removed\n",
            "/content/gdrive/MyDrive/george_ds/george/722.jpg removed\n"
          ]
        },
        {
          "output_type": "stream",
          "name": "stderr",
          "text": [
            " 65%|██████▍   | 3127/4842 [01:20<00:57, 30.07it/s]"
          ]
        },
        {
          "output_type": "stream",
          "name": "stdout",
          "text": [
            "/content/gdrive/MyDrive/george_ds/george/723.jpg removed\n",
            "/content/gdrive/MyDrive/george_ds/george/724.jpg removed\n",
            "/content/gdrive/MyDrive/george_ds/george/717.jpg removed\n",
            "/content/gdrive/MyDrive/george_ds/george/714.jpg removed\n",
            "/content/gdrive/MyDrive/george_ds/george/716.jpg removed\n",
            "/content/gdrive/MyDrive/george_ds/george/720.jpg removed\n",
            "/content/gdrive/MyDrive/george_ds/george/718.jpg removed\n"
          ]
        },
        {
          "output_type": "stream",
          "name": "stderr",
          "text": [
            "\r 65%|██████▍   | 3131/4842 [01:20<00:57, 29.67it/s]"
          ]
        },
        {
          "output_type": "stream",
          "name": "stdout",
          "text": [
            "/content/gdrive/MyDrive/george_ds/george/721.jpg removed\n",
            "/content/gdrive/MyDrive/george_ds/george/713.jpg removed\n",
            "/content/gdrive/MyDrive/george_ds/george/712.jpg removed\n",
            "/content/gdrive/MyDrive/george_ds/george/711.jpg removed\n",
            "/content/gdrive/MyDrive/george_ds/george/738.jpg removed\n",
            "/content/gdrive/MyDrive/george_ds/george/739.jpg removed\n",
            "/content/gdrive/MyDrive/george_ds/george/737.jpg removed\n"
          ]
        },
        {
          "output_type": "stream",
          "name": "stderr",
          "text": [
            " 65%|██████▍   | 3140/4842 [01:21<00:50, 33.40it/s]"
          ]
        },
        {
          "output_type": "stream",
          "name": "stdout",
          "text": [
            "/content/gdrive/MyDrive/george_ds/george/731.jpg removed\n",
            "/content/gdrive/MyDrive/george_ds/george/727.jpg removed\n",
            "/content/gdrive/MyDrive/george_ds/george/626.jpg removed\n",
            "/content/gdrive/MyDrive/george_ds/george/629.jpg removed\n",
            "/content/gdrive/MyDrive/george_ds/george/632.jpg removed\n",
            "/content/gdrive/MyDrive/george_ds/george/700.jpg removed\n",
            "/content/gdrive/MyDrive/george_ds/george/708.jpg removed\n",
            "/content/gdrive/MyDrive/george_ds/george/702.jpg removed\n"
          ]
        },
        {
          "output_type": "stream",
          "name": "stderr",
          "text": [
            " 65%|██████▌   | 3148/4842 [01:21<00:54, 31.34it/s]"
          ]
        },
        {
          "output_type": "stream",
          "name": "stdout",
          "text": [
            "/content/gdrive/MyDrive/george_ds/george/707.jpg removed\n",
            "/content/gdrive/MyDrive/george_ds/george/705.jpg removed\n",
            "/content/gdrive/MyDrive/george_ds/george/699.jpg removed\n",
            "/content/gdrive/MyDrive/george_ds/george/703.jpg removed\n",
            "/content/gdrive/MyDrive/george_ds/george/697.jpg removed\n",
            "/content/gdrive/MyDrive/george_ds/george/696.jpg removed\n",
            "/content/gdrive/MyDrive/george_ds/george/683.jpg removed\n"
          ]
        },
        {
          "output_type": "stream",
          "name": "stderr",
          "text": [
            "\r 65%|██████▌   | 3152/4842 [01:21<01:05, 25.74it/s]"
          ]
        },
        {
          "output_type": "stream",
          "name": "stdout",
          "text": [
            "/content/gdrive/MyDrive/george_ds/george/688.jpg removed\n",
            "/content/gdrive/MyDrive/george_ds/george/681.jpg removed\n",
            "/content/gdrive/MyDrive/george_ds/george/657.jpg removed\n",
            "/content/gdrive/MyDrive/george_ds/george/661.jpg removed\n",
            "/content/gdrive/MyDrive/george_ds/george/658.jpg removed\n",
            "/content/gdrive/MyDrive/george_ds/george/659.jpg removed\n",
            "/content/gdrive/MyDrive/george_ds/george/655.jpg removed\n"
          ]
        },
        {
          "output_type": "stream",
          "name": "stderr",
          "text": [
            " 65%|██████▌   | 3162/4842 [01:21<00:50, 33.06it/s]"
          ]
        },
        {
          "output_type": "stream",
          "name": "stdout",
          "text": [
            "/content/gdrive/MyDrive/george_ds/george/654.jpg removed\n",
            "/content/gdrive/MyDrive/george_ds/george/653.jpg removed\n",
            "/content/gdrive/MyDrive/george_ds/george/678.jpg removed\n",
            "/content/gdrive/MyDrive/george_ds/george/676.jpg removed\n",
            "/content/gdrive/MyDrive/george_ds/george/673.jpg removed\n",
            "/content/gdrive/MyDrive/george_ds/george/668.jpg removed\n",
            "/content/gdrive/MyDrive/george_ds/george/671.jpg removed\n",
            "/content/gdrive/MyDrive/george_ds/george/672.jpg removed\n",
            "/content/gdrive/MyDrive/george_ds/george/679.jpg removed\n"
          ]
        },
        {
          "output_type": "stream",
          "name": "stderr",
          "text": [
            " 65%|██████▌   | 3171/4842 [01:21<00:48, 34.23it/s]"
          ]
        },
        {
          "output_type": "stream",
          "name": "stdout",
          "text": [
            "/content/gdrive/MyDrive/george_ds/george/666.jpg removed\n",
            "/content/gdrive/MyDrive/george_ds/george/591.jpg removed\n",
            "/content/gdrive/MyDrive/george_ds/george/755.jpg removed\n",
            "/content/gdrive/MyDrive/george_ds/george/609.jpg removed\n",
            "/content/gdrive/MyDrive/george_ds/george/610.jpg removed\n",
            "/content/gdrive/MyDrive/george_ds/george/606.jpg removed\n"
          ]
        },
        {
          "output_type": "stream",
          "name": "stderr",
          "text": [
            "\r 66%|██████▌   | 3175/4842 [01:22<00:54, 30.38it/s]"
          ]
        },
        {
          "output_type": "stream",
          "name": "stdout",
          "text": [
            "/content/gdrive/MyDrive/george_ds/george/611.jpg removed\n",
            "/content/gdrive/MyDrive/george_ds/george/615.jpg removed\n",
            "/content/gdrive/MyDrive/george_ds/george/617.jpg removed\n",
            "/content/gdrive/MyDrive/george_ds/george/630.jpg removed\n",
            "/content/gdrive/MyDrive/george_ds/george/625.jpg removed\n",
            "/content/gdrive/MyDrive/george_ds/george/622.jpg removed\n",
            "/content/gdrive/MyDrive/george_ds/george/621.jpg removed\n"
          ]
        },
        {
          "output_type": "stream",
          "name": "stderr",
          "text": [
            " 66%|██████▌   | 3185/4842 [01:22<00:49, 33.25it/s]"
          ]
        },
        {
          "output_type": "stream",
          "name": "stdout",
          "text": [
            "/content/gdrive/MyDrive/george_ds/george/593.jpg removed\n",
            "/content/gdrive/MyDrive/george_ds/george/596.jpg removed\n",
            "/content/gdrive/MyDrive/george_ds/george/595.jpg removed\n",
            "/content/gdrive/MyDrive/george_ds/george/600.jpg removed\n",
            "/content/gdrive/MyDrive/george_ds/george/529.jpg removed\n",
            "/content/gdrive/MyDrive/george_ds/george/535.jpg removed\n",
            "/content/gdrive/MyDrive/george_ds/george/530.jpg removed\n",
            "/content/gdrive/MyDrive/george_ds/george/536.jpg removed\n",
            "/content/gdrive/MyDrive/george_ds/george/534.jpg removed\n"
          ]
        },
        {
          "output_type": "stream",
          "name": "stderr",
          "text": [
            " 66%|██████▌   | 3195/4842 [01:22<00:44, 37.12it/s]"
          ]
        },
        {
          "output_type": "stream",
          "name": "stdout",
          "text": [
            "/content/gdrive/MyDrive/george_ds/george/528.jpg removed\n",
            "/content/gdrive/MyDrive/george_ds/george/526.jpg removed\n",
            "/content/gdrive/MyDrive/george_ds/george/533.jpg removed\n",
            "/content/gdrive/MyDrive/george_ds/george/576.jpg removed\n",
            "/content/gdrive/MyDrive/george_ds/george/577.jpg removed\n",
            "/content/gdrive/MyDrive/george_ds/george/579.jpg removed\n",
            "/content/gdrive/MyDrive/george_ds/george/710.jpg removed\n",
            "/content/gdrive/MyDrive/george_ds/george/523.jpg removed\n"
          ]
        },
        {
          "output_type": "stream",
          "name": "stderr",
          "text": [
            "\r 66%|██████▌   | 3199/4842 [01:22<00:45, 36.50it/s]"
          ]
        },
        {
          "output_type": "stream",
          "name": "stdout",
          "text": [
            "/content/gdrive/MyDrive/george_ds/george/516.jpg removed\n",
            "/content/gdrive/MyDrive/george_ds/george/511.jpg removed\n",
            "/content/gdrive/MyDrive/george_ds/george/512.jpg removed\n",
            "/content/gdrive/MyDrive/george_ds/george/513.jpg removed\n",
            "/content/gdrive/MyDrive/george_ds/george/546.jpg removed\n",
            "/content/gdrive/MyDrive/george_ds/george/551.jpg removed\n",
            "/content/gdrive/MyDrive/george_ds/george/549.jpg removed\n",
            "/content/gdrive/MyDrive/george_ds/george/539.jpg removed\n"
          ]
        },
        {
          "output_type": "stream",
          "name": "stderr",
          "text": [
            " 66%|██████▋   | 3211/4842 [01:23<00:45, 35.95it/s]"
          ]
        },
        {
          "output_type": "stream",
          "name": "stdout",
          "text": [
            "/content/gdrive/MyDrive/george_ds/george/541.jpg removed\n",
            "/content/gdrive/MyDrive/george_ds/george/547.jpg removed\n",
            "/content/gdrive/MyDrive/george_ds/george/586.jpg removed\n",
            "/content/gdrive/MyDrive/george_ds/george/584.jpg removed\n",
            "/content/gdrive/MyDrive/george_ds/george/583.jpg removed\n",
            "/content/gdrive/MyDrive/george_ds/george/587.jpg removed\n",
            "/content/gdrive/MyDrive/george_ds/george/725.jpg removed\n",
            "/content/gdrive/MyDrive/george_ds/george/574.jpg removed\n"
          ]
        },
        {
          "output_type": "stream",
          "name": "stderr",
          "text": [
            "\r 66%|██████▋   | 3215/4842 [01:23<00:45, 35.64it/s]"
          ]
        },
        {
          "output_type": "stream",
          "name": "stdout",
          "text": [
            "/content/gdrive/MyDrive/george_ds/george/566.jpg removed\n",
            "/content/gdrive/MyDrive/george_ds/george/565.jpg removed\n",
            "/content/gdrive/MyDrive/george_ds/george/573.jpg removed\n",
            "/content/gdrive/MyDrive/george_ds/george/570.jpg removed\n",
            "/content/gdrive/MyDrive/george_ds/george/604.jpg removed\n"
          ]
        },
        {
          "output_type": "stream",
          "name": "stderr",
          "text": [
            " 67%|██████▋   | 3224/4842 [01:23<00:44, 36.11it/s]"
          ]
        },
        {
          "output_type": "stream",
          "name": "stdout",
          "text": [
            "/content/gdrive/MyDrive/george_ds/george/603.jpg removed\n",
            "/content/gdrive/MyDrive/george_ds/george/601.jpg removed\n",
            "/content/gdrive/MyDrive/george_ds/george/597.jpg removed\n",
            "/content/gdrive/MyDrive/george_ds/george/602.jpg removed\n",
            "/content/gdrive/MyDrive/george_ds/george/599.jpg removed\n",
            "/content/gdrive/MyDrive/george_ds/george/594.jpg removed\n",
            "/content/gdrive/MyDrive/george_ds/george/598.jpg removed\n",
            "/content/gdrive/MyDrive/george_ds/george/592.jpg removed\n",
            "/content/gdrive/MyDrive/george_ds/george/740.jpg removed\n",
            "/content/gdrive/MyDrive/george_ds/george/616.jpg removed\n"
          ]
        },
        {
          "output_type": "stream",
          "name": "stderr",
          "text": [
            " 67%|██████▋   | 3232/4842 [01:23<00:48, 33.19it/s]"
          ]
        },
        {
          "output_type": "stream",
          "name": "stdout",
          "text": [
            "/content/gdrive/MyDrive/george_ds/george/619.jpg removed\n",
            "/content/gdrive/MyDrive/george_ds/george/614.jpg removed\n",
            "/content/gdrive/MyDrive/george_ds/george/618.jpg removed\n",
            "/content/gdrive/MyDrive/george_ds/george/612.jpg removed\n",
            "/content/gdrive/MyDrive/george_ds/george/613.jpg removed\n",
            "/content/gdrive/MyDrive/george_ds/george/608.jpg removed\n",
            "/content/gdrive/MyDrive/george_ds/george/607.jpg removed\n"
          ]
        },
        {
          "output_type": "stream",
          "name": "stderr",
          "text": [
            " 67%|██████▋   | 3240/4842 [01:24<00:54, 29.61it/s]"
          ]
        },
        {
          "output_type": "stream",
          "name": "stdout",
          "text": [
            "/content/gdrive/MyDrive/george_ds/george/569.jpg removed\n",
            "/content/gdrive/MyDrive/george_ds/george/568.jpg removed\n",
            "/content/gdrive/MyDrive/george_ds/george/567.jpg removed\n",
            "/content/gdrive/MyDrive/george_ds/george/571.jpg removed\n",
            "/content/gdrive/MyDrive/george_ds/george/572.jpg removed\n",
            "/content/gdrive/MyDrive/george_ds/george/564.jpg removed\n",
            "/content/gdrive/MyDrive/george_ds/george/620.jpg removed\n"
          ]
        },
        {
          "output_type": "stream",
          "name": "stderr",
          "text": [
            "\r 67%|██████▋   | 3244/4842 [01:24<00:54, 29.22it/s]"
          ]
        },
        {
          "output_type": "stream",
          "name": "stdout",
          "text": [
            "/content/gdrive/MyDrive/george_ds/george/605.jpg removed\n",
            "/content/gdrive/MyDrive/george_ds/george/580.jpg removed\n",
            "/content/gdrive/MyDrive/george_ds/george/578.jpg removed\n",
            "/content/gdrive/MyDrive/george_ds/george/544.jpg removed\n",
            "/content/gdrive/MyDrive/george_ds/george/542.jpg removed\n"
          ]
        },
        {
          "output_type": "stream",
          "name": "stderr",
          "text": [
            " 67%|██████▋   | 3252/4842 [01:24<00:48, 32.71it/s]"
          ]
        },
        {
          "output_type": "stream",
          "name": "stdout",
          "text": [
            "/content/gdrive/MyDrive/george_ds/george/550.jpg removed\n",
            "/content/gdrive/MyDrive/george_ds/george/543.jpg removed\n",
            "/content/gdrive/MyDrive/george_ds/george/552.jpg removed\n",
            "/content/gdrive/MyDrive/george_ds/george/540.jpg removed\n",
            "/content/gdrive/MyDrive/george_ds/george/486.jpg removed\n",
            "/content/gdrive/MyDrive/george_ds/george/485.jpg removed\n",
            "/content/gdrive/MyDrive/george_ds/george/484.jpg removed\n",
            "/content/gdrive/MyDrive/george_ds/george/492.jpg removed\n",
            "/content/gdrive/MyDrive/george_ds/george/635.jpg removed\n",
            "/content/gdrive/MyDrive/george_ds/george/650.jpg removed\n"
          ]
        },
        {
          "output_type": "stream",
          "name": "stderr",
          "text": [
            " 67%|██████▋   | 3261/4842 [01:24<00:44, 35.64it/s]"
          ]
        },
        {
          "output_type": "stream",
          "name": "stdout",
          "text": [
            "/content/gdrive/MyDrive/george_ds/george/680.jpg removed\n",
            "/content/gdrive/MyDrive/george_ds/george/665.jpg removed\n",
            "/content/gdrive/MyDrive/george_ds/george/695.jpg removed\n",
            "/content/gdrive/MyDrive/george_ds/george/531.jpg removed\n",
            "/content/gdrive/MyDrive/george_ds/george/527.jpg removed\n",
            "/content/gdrive/MyDrive/george_ds/george/505.jpg removed\n",
            "/content/gdrive/MyDrive/george_ds/george/507.jpg removed\n",
            "/content/gdrive/MyDrive/george_ds/george/498.jpg removed\n"
          ]
        },
        {
          "output_type": "stream",
          "name": "stderr",
          "text": [
            " 68%|██████▊   | 3273/4842 [01:24<00:34, 45.88it/s]"
          ]
        },
        {
          "output_type": "stream",
          "name": "stdout",
          "text": [
            "/content/gdrive/MyDrive/george_ds/george/500.jpg removed\n",
            "/content/gdrive/MyDrive/george_ds/george/506.jpg removed\n",
            "/content/gdrive/MyDrive/george_ds/george/502.jpg removed\n",
            "/content/gdrive/MyDrive/george_ds/george/497.jpg removed\n",
            "/content/gdrive/MyDrive/george_ds/george/509.jpg removed\n",
            "/content/gdrive/MyDrive/george_ds/george/503.jpg removed\n",
            "/content/gdrive/MyDrive/george_ds/george/518.jpg removed\n",
            "/content/gdrive/MyDrive/george_ds/george/517.jpg removed\n",
            "/content/gdrive/MyDrive/george_ds/george/548.jpg removed\n",
            "/content/gdrive/MyDrive/george_ds/george/545.jpg removed\n",
            "/content/gdrive/MyDrive/george_ds/george/589.jpg removed\n",
            "/content/gdrive/MyDrive/george_ds/george/585.jpg removed\n",
            "/content/gdrive/MyDrive/george_ds/george/588.jpg removed\n"
          ]
        },
        {
          "output_type": "stream",
          "name": "stderr",
          "text": [
            " 68%|██████▊   | 3283/4842 [01:25<00:35, 43.43it/s]"
          ]
        },
        {
          "output_type": "stream",
          "name": "stdout",
          "text": [
            "/content/gdrive/MyDrive/george_ds/george/582.jpg removed\n",
            "/content/gdrive/MyDrive/george_ds/george/489.jpg removed\n",
            "/content/gdrive/MyDrive/george_ds/george/490.jpg removed\n",
            "/content/gdrive/MyDrive/george_ds/george/575.jpg removed\n",
            "/content/gdrive/MyDrive/george_ds/george/499.jpg removed\n",
            "/content/gdrive/MyDrive/george_ds/george/508.jpg removed\n",
            "/content/gdrive/MyDrive/george_ds/george/504.jpg removed\n",
            "/content/gdrive/MyDrive/george_ds/george/501.jpg removed\n"
          ]
        },
        {
          "output_type": "stream",
          "name": "stderr",
          "text": [
            " 68%|██████▊   | 3293/4842 [01:25<00:34, 44.38it/s]"
          ]
        },
        {
          "output_type": "stream",
          "name": "stdout",
          "text": [
            "/content/gdrive/MyDrive/george_ds/george/496.jpg removed\n",
            "/content/gdrive/MyDrive/george_ds/george/532.jpg removed\n",
            "/content/gdrive/MyDrive/george_ds/george/537.jpg removed\n",
            "/content/gdrive/MyDrive/george_ds/george/514.jpg removed\n",
            "/content/gdrive/MyDrive/george_ds/george/515.jpg removed\n",
            "/content/gdrive/MyDrive/george_ds/george/521.jpg removed\n",
            "/content/gdrive/MyDrive/george_ds/george/519.jpg removed\n",
            "/content/gdrive/MyDrive/george_ds/george/524.jpg removed\n",
            "/content/gdrive/MyDrive/george_ds/george/520.jpg removed\n",
            "/content/gdrive/MyDrive/george_ds/george/522.jpg removed\n"
          ]
        },
        {
          "output_type": "stream",
          "name": "stderr",
          "text": [
            " 68%|██████▊   | 3304/4842 [01:25<00:33, 46.05it/s]"
          ]
        },
        {
          "output_type": "stream",
          "name": "stdout",
          "text": [
            "/content/gdrive/MyDrive/george_ds/george/563.jpg removed\n",
            "/content/gdrive/MyDrive/george_ds/george/558.jpg removed\n",
            "/content/gdrive/MyDrive/george_ds/george/493.jpg removed\n",
            "/content/gdrive/MyDrive/george_ds/george/491.jpg removed\n",
            "/content/gdrive/MyDrive/george_ds/george/483.jpg removed\n",
            "/content/gdrive/MyDrive/george_ds/george/488.jpg removed\n",
            "/content/gdrive/MyDrive/george_ds/george/494.jpg removed\n",
            "/content/gdrive/MyDrive/george_ds/george/487.jpg removed\n",
            "/content/gdrive/MyDrive/george_ds/george/482.jpg removed\n",
            "/content/gdrive/MyDrive/george_ds/george/481.jpg removed\n"
          ]
        },
        {
          "output_type": "stream",
          "name": "stderr",
          "text": [
            " 68%|██████▊   | 3314/4842 [01:25<00:32, 47.20it/s]"
          ]
        },
        {
          "output_type": "stream",
          "name": "stdout",
          "text": [
            "/content/gdrive/MyDrive/george_ds/george/451.jpg removed\n",
            "/content/gdrive/MyDrive/george_ds/george/470.jpg removed\n",
            "/content/gdrive/MyDrive/george_ds/george/468.jpg removed\n",
            "/content/gdrive/MyDrive/george_ds/george/471.jpg removed\n",
            "/content/gdrive/MyDrive/george_ds/george/475.jpg removed\n",
            "/content/gdrive/MyDrive/george_ds/george/442.jpg removed\n",
            "/content/gdrive/MyDrive/george_ds/george/438.jpg removed\n",
            "/content/gdrive/MyDrive/george_ds/george/581.jpg removed\n",
            "/content/gdrive/MyDrive/george_ds/george/590.jpg removed\n",
            "/content/gdrive/MyDrive/george_ds/george/562.jpg removed\n"
          ]
        },
        {
          "output_type": "stream",
          "name": "stderr",
          "text": [
            " 69%|██████▊   | 3325/4842 [01:26<00:31, 48.37it/s]"
          ]
        },
        {
          "output_type": "stream",
          "name": "stdout",
          "text": [
            "/content/gdrive/MyDrive/george_ds/george/560.jpg removed\n",
            "/content/gdrive/MyDrive/george_ds/george/559.jpg removed\n",
            "/content/gdrive/MyDrive/george_ds/george/561.jpg removed\n",
            "/content/gdrive/MyDrive/george_ds/george/436.jpg removed\n",
            "/content/gdrive/MyDrive/george_ds/george/447.jpg removed\n",
            "/content/gdrive/MyDrive/george_ds/george/439.jpg removed\n",
            "/content/gdrive/MyDrive/george_ds/george/299.jpg removed\n",
            "/content/gdrive/MyDrive/george_ds/george/295.jpg removed\n",
            "/content/gdrive/MyDrive/george_ds/george/297.jpg removed\n",
            "/content/gdrive/MyDrive/george_ds/george/408.jpg removed\n",
            "/content/gdrive/MyDrive/george_ds/george/415.jpg removed\n"
          ]
        },
        {
          "output_type": "stream",
          "name": "stderr",
          "text": [
            " 69%|██████▉   | 3336/4842 [01:26<00:30, 49.62it/s]"
          ]
        },
        {
          "output_type": "stream",
          "name": "stdout",
          "text": [
            "/content/gdrive/MyDrive/george_ds/george/412.jpg removed\n",
            "/content/gdrive/MyDrive/george_ds/george/538.jpg removed\n",
            "/content/gdrive/MyDrive/george_ds/george/553.jpg removed\n",
            "/content/gdrive/MyDrive/george_ds/george/254.jpg removed\n",
            "/content/gdrive/MyDrive/george_ds/george/244.jpg removed\n",
            "/content/gdrive/MyDrive/george_ds/george/241.jpg removed\n",
            "/content/gdrive/MyDrive/george_ds/george/283.jpg removed\n",
            "/content/gdrive/MyDrive/george_ds/george/278.jpg removed\n",
            "/content/gdrive/MyDrive/george_ds/george/274.jpg removed\n",
            "/content/gdrive/MyDrive/george_ds/george/273.jpg removed\n",
            "/content/gdrive/MyDrive/george_ds/george/280.jpg removed\n"
          ]
        },
        {
          "output_type": "stream",
          "name": "stderr",
          "text": [
            "\r 69%|██████▉   | 3341/4842 [01:26<00:32, 46.25it/s]"
          ]
        },
        {
          "output_type": "stream",
          "name": "stdout",
          "text": [
            "/content/gdrive/MyDrive/george_ds/george/410.jpg removed\n",
            "/content/gdrive/MyDrive/george_ds/george/416.jpg removed\n",
            "/content/gdrive/MyDrive/george_ds/george/417.jpg removed\n",
            "/content/gdrive/MyDrive/george_ds/george/418.jpg removed\n",
            "/content/gdrive/MyDrive/george_ds/george/406.jpg removed\n",
            "/content/gdrive/MyDrive/george_ds/george/312.jpg removed\n",
            "/content/gdrive/MyDrive/george_ds/george/314.jpg removed\n",
            "/content/gdrive/MyDrive/george_ds/george/367.jpg removed\n",
            "/content/gdrive/MyDrive/george_ds/george/368.jpg removed\n",
            "/content/gdrive/MyDrive/george_ds/george/557.jpg removed\n"
          ]
        },
        {
          "output_type": "stream",
          "name": "stderr",
          "text": [
            " 69%|██████▉   | 3352/4842 [01:26<00:32, 45.65it/s]"
          ]
        },
        {
          "output_type": "stream",
          "name": "stdout",
          "text": [
            "/content/gdrive/MyDrive/george_ds/george/554.jpg removed\n",
            "/content/gdrive/MyDrive/george_ds/george/267.jpg removed\n",
            "/content/gdrive/MyDrive/george_ds/george/262.jpg removed\n",
            "/content/gdrive/MyDrive/george_ds/george/269.jpg removed\n",
            "/content/gdrive/MyDrive/george_ds/george/268.jpg removed\n",
            "/content/gdrive/MyDrive/george_ds/george/258.jpg removed\n",
            "/content/gdrive/MyDrive/george_ds/george/264.jpg removed\n",
            "/content/gdrive/MyDrive/george_ds/george/256.jpg removed\n",
            "/content/gdrive/MyDrive/george_ds/george/373.jpg removed\n"
          ]
        },
        {
          "output_type": "stream",
          "name": "stderr",
          "text": [
            " 69%|██████▉   | 3363/4842 [01:26<00:32, 45.42it/s]"
          ]
        },
        {
          "output_type": "stream",
          "name": "stdout",
          "text": [
            "/content/gdrive/MyDrive/george_ds/george/371.jpg removed\n",
            "/content/gdrive/MyDrive/george_ds/george/369.jpg removed\n",
            "/content/gdrive/MyDrive/george_ds/george/423.jpg removed\n",
            "/content/gdrive/MyDrive/george_ds/george/427.jpg removed\n",
            "/content/gdrive/MyDrive/george_ds/george/429.jpg removed\n",
            "/content/gdrive/MyDrive/george_ds/george/476.jpg removed\n",
            "/content/gdrive/MyDrive/george_ds/george/469.jpg removed\n",
            "/content/gdrive/MyDrive/george_ds/george/479.jpg removed\n",
            "/content/gdrive/MyDrive/george_ds/george/473.jpg removed\n",
            "/content/gdrive/MyDrive/george_ds/george/472.jpg removed\n"
          ]
        },
        {
          "output_type": "stream",
          "name": "stderr",
          "text": [
            " 70%|██████▉   | 3374/4842 [01:27<00:32, 45.09it/s]"
          ]
        },
        {
          "output_type": "stream",
          "name": "stdout",
          "text": [
            "/content/gdrive/MyDrive/george_ds/george/478.jpg removed\n",
            "/content/gdrive/MyDrive/george_ds/george/467.jpg removed\n",
            "/content/gdrive/MyDrive/george_ds/george/466.jpg removed\n",
            "/content/gdrive/MyDrive/george_ds/george/432.jpg removed\n",
            "/content/gdrive/MyDrive/george_ds/george/425.jpg removed\n",
            "/content/gdrive/MyDrive/george_ds/george/556.jpg removed\n",
            "/content/gdrive/MyDrive/george_ds/george/555.jpg removed\n",
            "/content/gdrive/MyDrive/george_ds/george/449.jpg removed\n",
            "/content/gdrive/MyDrive/george_ds/george/446.jpg removed\n"
          ]
        },
        {
          "output_type": "stream",
          "name": "stderr",
          "text": [
            " 70%|██████▉   | 3385/4842 [01:27<00:30, 47.62it/s]"
          ]
        },
        {
          "output_type": "stream",
          "name": "stdout",
          "text": [
            "/content/gdrive/MyDrive/george_ds/george/448.jpg removed\n",
            "/content/gdrive/MyDrive/george_ds/george/440.jpg removed\n",
            "/content/gdrive/MyDrive/george_ds/george/443.jpg removed\n",
            "/content/gdrive/MyDrive/george_ds/george/444.jpg removed\n",
            "/content/gdrive/MyDrive/george_ds/george/445.jpg removed\n",
            "/content/gdrive/MyDrive/george_ds/george/441.jpg removed\n",
            "/content/gdrive/MyDrive/george_ds/george/437.jpg removed\n",
            "/content/gdrive/MyDrive/george_ds/george/477.jpg removed\n",
            "/content/gdrive/MyDrive/george_ds/george/474.jpg removed\n",
            "/content/gdrive/MyDrive/george_ds/george/463.jpg removed\n",
            "/content/gdrive/MyDrive/george_ds/george/462.jpg removed\n",
            "/content/gdrive/MyDrive/george_ds/george/454.jpg removed\n"
          ]
        },
        {
          "output_type": "stream",
          "name": "stderr",
          "text": [
            "\r 70%|███████   | 3391/4842 [01:27<00:28, 50.39it/s]"
          ]
        },
        {
          "output_type": "stream",
          "name": "stdout",
          "text": [
            "/content/gdrive/MyDrive/george_ds/george/456.jpg removed\n",
            "/content/gdrive/MyDrive/george_ds/george/459.jpg removed\n",
            "/content/gdrive/MyDrive/george_ds/george/455.jpg removed\n",
            "/content/gdrive/MyDrive/george_ds/george/458.jpg removed\n",
            "/content/gdrive/MyDrive/george_ds/george/460.jpg removed\n",
            "/content/gdrive/MyDrive/george_ds/george/457.jpg removed\n"
          ]
        },
        {
          "output_type": "stream",
          "name": "stderr",
          "text": [
            "\r 70%|███████   | 3397/4842 [01:27<00:45, 31.71it/s]"
          ]
        },
        {
          "output_type": "stream",
          "name": "stdout",
          "text": [
            "/content/gdrive/MyDrive/george_ds/george/464.jpg removed\n",
            "/content/gdrive/MyDrive/george_ds/george/461.jpg removed\n",
            "/content/gdrive/MyDrive/george_ds/george/453.jpg removed\n",
            "/content/gdrive/MyDrive/george_ds/george/452.jpg removed\n",
            "/content/gdrive/MyDrive/george_ds/george/388.jpg removed\n",
            "/content/gdrive/MyDrive/george_ds/george/381.jpg removed\n"
          ]
        },
        {
          "output_type": "stream",
          "name": "stderr",
          "text": [
            " 70%|███████   | 3407/4842 [01:27<00:40, 35.35it/s]"
          ]
        },
        {
          "output_type": "stream",
          "name": "stdout",
          "text": [
            "/content/gdrive/MyDrive/george_ds/george/383.jpg removed\n",
            "/content/gdrive/MyDrive/george_ds/george/379.jpg removed\n",
            "/content/gdrive/MyDrive/george_ds/george/387.jpg removed\n",
            "/content/gdrive/MyDrive/george_ds/george/332.jpg removed\n",
            "/content/gdrive/MyDrive/george_ds/george/344.jpg removed\n",
            "/content/gdrive/MyDrive/george_ds/george/338.jpg removed\n",
            "/content/gdrive/MyDrive/george_ds/george/341.jpg removed\n",
            "/content/gdrive/MyDrive/george_ds/george/339.jpg removed\n",
            "/content/gdrive/MyDrive/george_ds/george/340.jpg removed\n"
          ]
        },
        {
          "output_type": "stream",
          "name": "stderr",
          "text": [
            " 71%|███████   | 3417/4842 [01:28<00:37, 38.50it/s]"
          ]
        },
        {
          "output_type": "stream",
          "name": "stdout",
          "text": [
            "/content/gdrive/MyDrive/george_ds/george/335.jpg removed\n",
            "/content/gdrive/MyDrive/george_ds/george/333.jpg removed\n",
            "/content/gdrive/MyDrive/george_ds/george/290.jpg removed\n",
            "/content/gdrive/MyDrive/george_ds/george/287.jpg removed\n",
            "/content/gdrive/MyDrive/george_ds/george/298.jpg removed\n",
            "/content/gdrive/MyDrive/george_ds/george/281.jpg removed\n",
            "/content/gdrive/MyDrive/george_ds/george/428.jpg removed\n",
            "/content/gdrive/MyDrive/george_ds/george/434.jpg removed\n",
            "/content/gdrive/MyDrive/george_ds/george/430.jpg removed\n",
            "/content/gdrive/MyDrive/george_ds/george/424.jpg removed\n"
          ]
        },
        {
          "output_type": "stream",
          "name": "stderr",
          "text": [
            " 71%|███████   | 3427/4842 [01:28<00:33, 41.67it/s]"
          ]
        },
        {
          "output_type": "stream",
          "name": "stdout",
          "text": [
            "/content/gdrive/MyDrive/george_ds/george/431.jpg removed\n",
            "/content/gdrive/MyDrive/george_ds/george/433.jpg removed\n",
            "/content/gdrive/MyDrive/george_ds/george/426.jpg removed\n",
            "/content/gdrive/MyDrive/george_ds/george/422.jpg removed\n",
            "/content/gdrive/MyDrive/george_ds/george/421.jpg removed\n",
            "/content/gdrive/MyDrive/george_ds/george/365.jpg removed\n",
            "/content/gdrive/MyDrive/george_ds/george/374.jpg removed\n",
            "/content/gdrive/MyDrive/george_ds/george/364.jpg removed\n",
            "/content/gdrive/MyDrive/george_ds/george/370.jpg removed\n",
            "/content/gdrive/MyDrive/george_ds/george/366.jpg removed\n"
          ]
        },
        {
          "output_type": "stream",
          "name": "stderr",
          "text": [
            "\r 71%|███████   | 3432/4842 [01:28<00:35, 39.20it/s]"
          ]
        },
        {
          "output_type": "stream",
          "name": "stdout",
          "text": [
            "/content/gdrive/MyDrive/george_ds/george/372.jpg removed\n",
            "/content/gdrive/MyDrive/george_ds/george/363.jpg removed\n",
            "/content/gdrive/MyDrive/george_ds/george/362.jpg removed\n",
            "/content/gdrive/MyDrive/george_ds/george/361.jpg removed\n",
            "/content/gdrive/MyDrive/george_ds/george/401.jpg removed\n",
            "/content/gdrive/MyDrive/george_ds/george/403.jpg removed\n",
            "/content/gdrive/MyDrive/george_ds/george/404.jpg removed\n",
            "/content/gdrive/MyDrive/george_ds/george/402.jpg removed\n",
            "/content/gdrive/MyDrive/george_ds/george/393.jpg removed\n",
            "/content/gdrive/MyDrive/george_ds/george/395.jpg removed\n",
            "/content/gdrive/MyDrive/george_ds/george/397.jpg removed\n"
          ]
        },
        {
          "output_type": "stream",
          "name": "stderr",
          "text": [
            " 71%|███████   | 3443/4842 [01:28<00:31, 43.87it/s]"
          ]
        },
        {
          "output_type": "stream",
          "name": "stdout",
          "text": [
            "/content/gdrive/MyDrive/george_ds/george/495.jpg removed\n",
            "/content/gdrive/MyDrive/george_ds/george/321.jpg removed\n",
            "/content/gdrive/MyDrive/george_ds/george/319.jpg removed\n",
            "/content/gdrive/MyDrive/george_ds/george/323.jpg removed\n",
            "/content/gdrive/MyDrive/george_ds/george/326.jpg removed\n",
            "/content/gdrive/MyDrive/george_ds/george/324.jpg removed\n",
            "/content/gdrive/MyDrive/george_ds/george/320.jpg removed\n",
            "/content/gdrive/MyDrive/george_ds/george/525.jpg removed\n",
            "/content/gdrive/MyDrive/george_ds/george/377.jpg removed\n"
          ]
        },
        {
          "output_type": "stream",
          "name": "stderr",
          "text": [
            " 71%|███████▏  | 3454/4842 [01:29<00:30, 45.41it/s]"
          ]
        },
        {
          "output_type": "stream",
          "name": "stdout",
          "text": [
            "/content/gdrive/MyDrive/george_ds/george/510.jpg removed\n",
            "/content/gdrive/MyDrive/george_ds/george/394.jpg removed\n",
            "/content/gdrive/MyDrive/george_ds/george/399.jpg removed\n",
            "/content/gdrive/MyDrive/george_ds/george/396.jpg removed\n",
            "/content/gdrive/MyDrive/george_ds/george/392.jpg removed\n",
            "/content/gdrive/MyDrive/george_ds/george/391.jpg removed\n",
            "/content/gdrive/MyDrive/george_ds/george/398.jpg removed\n",
            "/content/gdrive/MyDrive/george_ds/george/348.jpg removed\n",
            "/content/gdrive/MyDrive/george_ds/george/358.jpg removed\n",
            "/content/gdrive/MyDrive/george_ds/george/355.jpg removed\n"
          ]
        },
        {
          "output_type": "stream",
          "name": "stderr",
          "text": [
            " 72%|███████▏  | 3465/4842 [01:29<00:28, 49.16it/s]"
          ]
        },
        {
          "output_type": "stream",
          "name": "stdout",
          "text": [
            "/content/gdrive/MyDrive/george_ds/george/353.jpg removed\n",
            "/content/gdrive/MyDrive/george_ds/george/359.jpg removed\n",
            "/content/gdrive/MyDrive/george_ds/george/354.jpg removed\n",
            "/content/gdrive/MyDrive/george_ds/george/301.jpg removed\n",
            "/content/gdrive/MyDrive/george_ds/george/400.jpg removed\n",
            "/content/gdrive/MyDrive/george_ds/george/414.jpg removed\n",
            "/content/gdrive/MyDrive/george_ds/george/413.jpg removed\n",
            "/content/gdrive/MyDrive/george_ds/george/419.jpg removed\n",
            "/content/gdrive/MyDrive/george_ds/george/409.jpg removed\n",
            "/content/gdrive/MyDrive/george_ds/george/411.jpg removed\n"
          ]
        },
        {
          "output_type": "stream",
          "name": "stderr",
          "text": [
            " 72%|███████▏  | 3477/4842 [01:29<00:25, 52.54it/s]"
          ]
        },
        {
          "output_type": "stream",
          "name": "stdout",
          "text": [
            "/content/gdrive/MyDrive/george_ds/george/407.jpg removed\n",
            "/content/gdrive/MyDrive/george_ds/george/384.jpg removed\n",
            "/content/gdrive/MyDrive/george_ds/george/389.jpg removed\n",
            "/content/gdrive/MyDrive/george_ds/george/378.jpg removed\n",
            "/content/gdrive/MyDrive/george_ds/george/386.jpg removed\n",
            "/content/gdrive/MyDrive/george_ds/george/380.jpg removed\n",
            "/content/gdrive/MyDrive/george_ds/george/382.jpg removed\n",
            "/content/gdrive/MyDrive/george_ds/george/385.jpg removed\n",
            "/content/gdrive/MyDrive/george_ds/george/376.jpg removed\n",
            "/content/gdrive/MyDrive/george_ds/george/336.jpg removed\n",
            "/content/gdrive/MyDrive/george_ds/george/334.jpg removed\n",
            "/content/gdrive/MyDrive/george_ds/george/343.jpg removed\n"
          ]
        },
        {
          "output_type": "stream",
          "name": "stderr",
          "text": [
            " 72%|███████▏  | 3488/4842 [01:29<00:29, 45.31it/s]"
          ]
        },
        {
          "output_type": "stream",
          "name": "stdout",
          "text": [
            "/content/gdrive/MyDrive/george_ds/george/342.jpg removed\n",
            "/content/gdrive/MyDrive/george_ds/george/337.jpg removed\n",
            "/content/gdrive/MyDrive/george_ds/george/331.jpg removed\n",
            "/content/gdrive/MyDrive/george_ds/george/435.jpg removed\n",
            "/content/gdrive/MyDrive/george_ds/george/450.jpg removed\n",
            "/content/gdrive/MyDrive/george_ds/george/465.jpg removed\n",
            "/content/gdrive/MyDrive/george_ds/george/480.jpg removed\n",
            "/content/gdrive/MyDrive/george_ds/george/351.jpg removed\n",
            "/content/gdrive/MyDrive/george_ds/george/352.jpg removed\n"
          ]
        },
        {
          "output_type": "stream",
          "name": "stderr",
          "text": [
            "\r 72%|███████▏  | 3494/4842 [01:29<00:28, 47.38it/s]"
          ]
        },
        {
          "output_type": "stream",
          "name": "stdout",
          "text": [
            "/content/gdrive/MyDrive/george_ds/george/357.jpg removed\n",
            "/content/gdrive/MyDrive/george_ds/george/356.jpg removed\n",
            "/content/gdrive/MyDrive/george_ds/george/349.jpg removed\n",
            "/content/gdrive/MyDrive/george_ds/george/350.jpg removed\n",
            "/content/gdrive/MyDrive/george_ds/george/347.jpg removed\n",
            "/content/gdrive/MyDrive/george_ds/george/346.jpg removed\n",
            "/content/gdrive/MyDrive/george_ds/george/322.jpg removed\n",
            "/content/gdrive/MyDrive/george_ds/george/327.jpg removed\n",
            "/content/gdrive/MyDrive/george_ds/george/328.jpg removed\n"
          ]
        },
        {
          "output_type": "stream",
          "name": "stderr",
          "text": [
            " 72%|███████▏  | 3504/4842 [01:30<00:33, 40.28it/s]"
          ]
        },
        {
          "output_type": "stream",
          "name": "stdout",
          "text": [
            "/content/gdrive/MyDrive/george_ds/george/325.jpg removed\n",
            "/content/gdrive/MyDrive/george_ds/george/318.jpg removed\n",
            "/content/gdrive/MyDrive/george_ds/george/316.jpg removed\n",
            "/content/gdrive/MyDrive/george_ds/george/317.jpg removed\n",
            "/content/gdrive/MyDrive/george_ds/george/360.jpg removed\n",
            "/content/gdrive/MyDrive/george_ds/george/311.jpg removed\n",
            "/content/gdrive/MyDrive/george_ds/george/302.jpg removed\n"
          ]
        },
        {
          "output_type": "stream",
          "name": "stderr",
          "text": [
            " 73%|███████▎  | 3514/4842 [01:30<00:33, 39.47it/s]"
          ]
        },
        {
          "output_type": "stream",
          "name": "stdout",
          "text": [
            "/content/gdrive/MyDrive/george_ds/george/306.jpg removed\n",
            "/content/gdrive/MyDrive/george_ds/george/309.jpg removed\n",
            "/content/gdrive/MyDrive/george_ds/george/303.jpg removed\n",
            "/content/gdrive/MyDrive/george_ds/george/305.jpg removed\n",
            "/content/gdrive/MyDrive/george_ds/george/304.jpg removed\n",
            "/content/gdrive/MyDrive/george_ds/george/313.jpg removed\n",
            "/content/gdrive/MyDrive/george_ds/george/310.jpg removed\n",
            "/content/gdrive/MyDrive/george_ds/george/308.jpg removed\n",
            "/content/gdrive/MyDrive/george_ds/george/307.jpg removed\n"
          ]
        },
        {
          "output_type": "stream",
          "name": "stderr",
          "text": [
            "\r 73%|███████▎  | 3519/4842 [01:30<00:32, 40.96it/s]"
          ]
        },
        {
          "output_type": "stream",
          "name": "stdout",
          "text": [
            "/content/gdrive/MyDrive/george_ds/george/405.jpg removed\n",
            "/content/gdrive/MyDrive/george_ds/george/420.jpg removed\n",
            "/content/gdrive/MyDrive/george_ds/george/293.jpg removed\n",
            "/content/gdrive/MyDrive/george_ds/george/292.jpg removed\n",
            "/content/gdrive/MyDrive/george_ds/george/288.jpg removed\n",
            "/content/gdrive/MyDrive/george_ds/george/296.jpg removed\n",
            "/content/gdrive/MyDrive/george_ds/george/289.jpg removed\n",
            "/content/gdrive/MyDrive/george_ds/george/291.jpg removed\n",
            "/content/gdrive/MyDrive/george_ds/george/294.jpg removed\n"
          ]
        },
        {
          "output_type": "stream",
          "name": "stderr",
          "text": [
            " 73%|███████▎  | 3529/4842 [01:30<00:32, 40.97it/s]"
          ]
        },
        {
          "output_type": "stream",
          "name": "stdout",
          "text": [
            "/content/gdrive/MyDrive/george_ds/george/286.jpg removed\n",
            "/content/gdrive/MyDrive/george_ds/george/252.jpg removed\n",
            "/content/gdrive/MyDrive/george_ds/george/248.jpg removed\n",
            "/content/gdrive/MyDrive/george_ds/george/253.jpg removed\n",
            "/content/gdrive/MyDrive/george_ds/george/249.jpg removed\n",
            "/content/gdrive/MyDrive/george_ds/george/251.jpg removed\n",
            "/content/gdrive/MyDrive/george_ds/george/243.jpg removed\n",
            "/content/gdrive/MyDrive/george_ds/george/250.jpg removed\n",
            "/content/gdrive/MyDrive/george_ds/george/247.jpg removed\n"
          ]
        },
        {
          "output_type": "stream",
          "name": "stderr",
          "text": [
            " 73%|███████▎  | 3538/4842 [01:31<00:33, 38.58it/s]"
          ]
        },
        {
          "output_type": "stream",
          "name": "stdout",
          "text": [
            "/content/gdrive/MyDrive/george_ds/george/246.jpg removed\n",
            "/content/gdrive/MyDrive/george_ds/george/245.jpg removed\n",
            "/content/gdrive/MyDrive/george_ds/george/242.jpg removed\n",
            "/content/gdrive/MyDrive/george_ds/george/260.jpg removed\n",
            "/content/gdrive/MyDrive/george_ds/george/261.jpg removed\n",
            "/content/gdrive/MyDrive/george_ds/george/265.jpg removed\n",
            "/content/gdrive/MyDrive/george_ds/george/266.jpg removed\n",
            "/content/gdrive/MyDrive/george_ds/george/259.jpg removed\n"
          ]
        },
        {
          "output_type": "stream",
          "name": "stderr",
          "text": [
            " 73%|███████▎  | 3548/4842 [01:31<00:30, 42.17it/s]"
          ]
        },
        {
          "output_type": "stream",
          "name": "stdout",
          "text": [
            "/content/gdrive/MyDrive/george_ds/george/257.jpg removed\n",
            "/content/gdrive/MyDrive/george_ds/george/263.jpg removed\n",
            "/content/gdrive/MyDrive/george_ds/george/276.jpg removed\n",
            "/content/gdrive/MyDrive/george_ds/george/282.jpg removed\n",
            "/content/gdrive/MyDrive/george_ds/george/277.jpg removed\n",
            "/content/gdrive/MyDrive/george_ds/george/284.jpg removed\n",
            "/content/gdrive/MyDrive/george_ds/george/272.jpg removed\n",
            "/content/gdrive/MyDrive/george_ds/george/275.jpg removed\n",
            "/content/gdrive/MyDrive/george_ds/george/279.jpg removed\n",
            "/content/gdrive/MyDrive/george_ds/george/271.jpg removed\n"
          ]
        },
        {
          "output_type": "stream",
          "name": "stderr",
          "text": [
            " 73%|███████▎  | 3558/4842 [01:31<00:32, 39.26it/s]"
          ]
        },
        {
          "output_type": "stream",
          "name": "stdout",
          "text": [
            "/content/gdrive/MyDrive/george_ds/george/227.jpg removed\n",
            "/content/gdrive/MyDrive/george_ds/george/233.jpg removed\n",
            "/content/gdrive/MyDrive/george_ds/george/226.jpg removed\n",
            "/content/gdrive/MyDrive/george_ds/george/229.jpg removed\n",
            "/content/gdrive/MyDrive/george_ds/george/235.jpg removed\n",
            "/content/gdrive/MyDrive/george_ds/george/390.jpg removed\n",
            "/content/gdrive/MyDrive/george_ds/george/375.jpg removed\n",
            "/content/gdrive/MyDrive/george_ds/george/239.jpg removed\n"
          ]
        },
        {
          "output_type": "stream",
          "name": "stderr",
          "text": [
            " 74%|███████▎  | 3568/4842 [01:31<00:29, 43.62it/s]"
          ]
        },
        {
          "output_type": "stream",
          "name": "stdout",
          "text": [
            "/content/gdrive/MyDrive/george_ds/george/237.jpg removed\n",
            "/content/gdrive/MyDrive/george_ds/george/228.jpg removed\n",
            "/content/gdrive/MyDrive/george_ds/george/232.jpg removed\n",
            "/content/gdrive/MyDrive/george_ds/george/231.jpg removed\n",
            "/content/gdrive/MyDrive/george_ds/george/238.jpg removed\n",
            "/content/gdrive/MyDrive/george_ds/george/234.jpg removed\n",
            "/content/gdrive/MyDrive/george_ds/george/230.jpg removed\n",
            "/content/gdrive/MyDrive/george_ds/george/214.jpg removed\n",
            "/content/gdrive/MyDrive/george_ds/george/209.jpg removed\n",
            "/content/gdrive/MyDrive/george_ds/george/217.jpg removed\n",
            "/content/gdrive/MyDrive/george_ds/george/212.jpg removed\n"
          ]
        },
        {
          "output_type": "stream",
          "name": "stderr",
          "text": [
            " 74%|███████▍  | 3578/4842 [01:32<00:33, 37.81it/s]"
          ]
        },
        {
          "output_type": "stream",
          "name": "stdout",
          "text": [
            "/content/gdrive/MyDrive/george_ds/george/216.jpg removed\n",
            "/content/gdrive/MyDrive/george_ds/george/213.jpg removed\n",
            "/content/gdrive/MyDrive/george_ds/george/207.jpg removed\n",
            "/content/gdrive/MyDrive/george_ds/george/171.jpg removed\n",
            "/content/gdrive/MyDrive/george_ds/george/205.jpg removed\n",
            "/content/gdrive/MyDrive/george_ds/george/195.jpg removed\n",
            "/content/gdrive/MyDrive/george_ds/george/345.jpg removed\n",
            "/content/gdrive/MyDrive/george_ds/george/194.jpg removed\n"
          ]
        },
        {
          "output_type": "stream",
          "name": "stderr",
          "text": [
            "\r 74%|███████▍  | 3584/4842 [01:32<00:30, 41.26it/s]"
          ]
        },
        {
          "output_type": "stream",
          "name": "stdout",
          "text": [
            "/content/gdrive/MyDrive/george_ds/george/201.jpg removed\n",
            "/content/gdrive/MyDrive/george_ds/george/197.jpg removed\n",
            "/content/gdrive/MyDrive/george_ds/george/202.jpg removed\n",
            "/content/gdrive/MyDrive/george_ds/george/196.jpg removed\n",
            "/content/gdrive/MyDrive/george_ds/george/199.jpg removed\n",
            "/content/gdrive/MyDrive/george_ds/george/210.jpg removed\n",
            "/content/gdrive/MyDrive/george_ds/george/218.jpg removed\n",
            "/content/gdrive/MyDrive/george_ds/george/208.jpg removed\n",
            "/content/gdrive/MyDrive/george_ds/george/219.jpg removed\n"
          ]
        },
        {
          "output_type": "stream",
          "name": "stderr",
          "text": [
            " 74%|███████▍  | 3595/4842 [01:32<00:28, 43.84it/s]"
          ]
        },
        {
          "output_type": "stream",
          "name": "stdout",
          "text": [
            "/content/gdrive/MyDrive/george_ds/george/220.jpg removed\n",
            "/content/gdrive/MyDrive/george_ds/george/211.jpg removed\n",
            "/content/gdrive/MyDrive/george_ds/george/215.jpg removed\n",
            "/content/gdrive/MyDrive/george_ds/george/203.jpg removed\n",
            "/content/gdrive/MyDrive/george_ds/george/198.jpg removed\n",
            "/content/gdrive/MyDrive/george_ds/george/200.jpg removed\n",
            "/content/gdrive/MyDrive/george_ds/george/204.jpg removed\n",
            "/content/gdrive/MyDrive/george_ds/george/193.jpg removed\n",
            "/content/gdrive/MyDrive/george_ds/george/192.jpg removed\n",
            "/content/gdrive/MyDrive/george_ds/george/270.jpg removed\n"
          ]
        },
        {
          "output_type": "stream",
          "name": "stderr",
          "text": [
            " 74%|███████▍  | 3607/4842 [01:32<00:26, 47.29it/s]"
          ]
        },
        {
          "output_type": "stream",
          "name": "stdout",
          "text": [
            "/content/gdrive/MyDrive/george_ds/george/255.jpg removed\n",
            "/content/gdrive/MyDrive/george_ds/george/166.jpg removed\n",
            "/content/gdrive/MyDrive/george_ds/george/161.jpg removed\n",
            "/content/gdrive/MyDrive/george_ds/george/163.jpg removed\n",
            "/content/gdrive/MyDrive/george_ds/george/164.jpg removed\n",
            "/content/gdrive/MyDrive/george_ds/george/240.jpg removed\n",
            "/content/gdrive/MyDrive/george_ds/george/150.jpg removed\n",
            "/content/gdrive/MyDrive/george_ds/george/149.jpg removed\n",
            "/content/gdrive/MyDrive/george_ds/george/152.jpg removed\n",
            "/content/gdrive/MyDrive/george_ds/george/154.jpg removed\n",
            "/content/gdrive/MyDrive/george_ds/george/147.jpg removed\n"
          ]
        },
        {
          "output_type": "stream",
          "name": "stderr",
          "text": [
            " 75%|███████▍  | 3617/4842 [01:32<00:28, 42.89it/s]"
          ]
        },
        {
          "output_type": "stream",
          "name": "stdout",
          "text": [
            "/content/gdrive/MyDrive/george_ds/george/156.jpg removed\n",
            "/content/gdrive/MyDrive/george_ds/george/300.jpg removed\n",
            "/content/gdrive/MyDrive/george_ds/george/223.jpg removed\n",
            "/content/gdrive/MyDrive/george_ds/george/222.jpg removed\n",
            "/content/gdrive/MyDrive/george_ds/george/224.jpg removed\n",
            "/content/gdrive/MyDrive/george_ds/george/158.jpg removed\n",
            "/content/gdrive/MyDrive/george_ds/george/160.jpg removed\n",
            "/content/gdrive/MyDrive/george_ds/george/162.jpg removed\n",
            "/content/gdrive/MyDrive/george_ds/george/165.jpg removed\n"
          ]
        },
        {
          "output_type": "stream",
          "name": "stderr",
          "text": [
            "\r 75%|███████▍  | 3623/4842 [01:33<00:27, 44.64it/s]"
          ]
        },
        {
          "output_type": "stream",
          "name": "stdout",
          "text": [
            "/content/gdrive/MyDrive/george_ds/george/159.jpg removed\n",
            "/content/gdrive/MyDrive/george_ds/george/174.jpg removed\n",
            "/content/gdrive/MyDrive/george_ds/george/176.jpg removed\n",
            "/content/gdrive/MyDrive/george_ds/george/177.jpg removed\n",
            "/content/gdrive/MyDrive/george_ds/george/175.jpg removed\n",
            "/content/gdrive/MyDrive/george_ds/george/178.jpg removed\n",
            "/content/gdrive/MyDrive/george_ds/george/179.jpg removed\n",
            "/content/gdrive/MyDrive/george_ds/george/180.jpg removed\n",
            "/content/gdrive/MyDrive/george_ds/george/172.jpg removed\n",
            "/content/gdrive/MyDrive/george_ds/george/170.jpg removed\n"
          ]
        },
        {
          "output_type": "stream",
          "name": "stderr",
          "text": [
            " 75%|███████▌  | 3634/4842 [01:33<00:25, 47.55it/s]"
          ]
        },
        {
          "output_type": "stream",
          "name": "stdout",
          "text": [
            "/content/gdrive/MyDrive/george_ds/george/168.jpg removed\n",
            "/content/gdrive/MyDrive/george_ds/george/285.jpg removed\n",
            "/content/gdrive/MyDrive/george_ds/george/330.jpg removed\n",
            "/content/gdrive/MyDrive/george_ds/george/315.jpg removed\n",
            "/content/gdrive/MyDrive/george_ds/george/169.jpg removed\n",
            "/content/gdrive/MyDrive/george_ds/george/173.jpg removed\n",
            "/content/gdrive/MyDrive/george_ds/george/190.jpg removed\n",
            "/content/gdrive/MyDrive/george_ds/george/191.jpg removed\n",
            "/content/gdrive/MyDrive/george_ds/george/221.jpg removed\n",
            "/content/gdrive/MyDrive/george_ds/george/206.jpg removed\n"
          ]
        },
        {
          "output_type": "stream",
          "name": "stderr",
          "text": [
            " 75%|███████▌  | 3644/4842 [01:33<00:29, 41.22it/s]"
          ]
        },
        {
          "output_type": "stream",
          "name": "stdout",
          "text": [
            "/content/gdrive/MyDrive/george_ds/george/225.jpg removed\n",
            "/content/gdrive/MyDrive/george_ds/george/184.jpg removed\n",
            "/content/gdrive/MyDrive/george_ds/george/183.jpg removed\n",
            "/content/gdrive/MyDrive/george_ds/george/186.jpg removed\n",
            "/content/gdrive/MyDrive/george_ds/george/187.jpg removed\n",
            "/content/gdrive/MyDrive/george_ds/george/185.jpg removed\n",
            "/content/gdrive/MyDrive/george_ds/george/189.jpg removed\n",
            "/content/gdrive/MyDrive/george_ds/george/125.jpg removed\n"
          ]
        },
        {
          "output_type": "stream",
          "name": "stderr",
          "text": [
            "\r 75%|███████▌  | 3649/4842 [01:33<00:28, 42.01it/s]"
          ]
        },
        {
          "output_type": "stream",
          "name": "stdout",
          "text": [
            "/content/gdrive/MyDrive/george_ds/george/129.jpg removed\n",
            "/content/gdrive/MyDrive/george_ds/george/122.jpg removed\n",
            "/content/gdrive/MyDrive/george_ds/george/127.jpg removed\n",
            "/content/gdrive/MyDrive/george_ds/george/132.jpg removed\n",
            "/content/gdrive/MyDrive/george_ds/george/128.jpg removed\n",
            "/content/gdrive/MyDrive/george_ds/george/155.jpg removed\n",
            "/content/gdrive/MyDrive/george_ds/george/153.jpg removed\n",
            "/content/gdrive/MyDrive/george_ds/george/151.jpg removed\n"
          ]
        },
        {
          "output_type": "stream",
          "name": "stderr",
          "text": [
            " 76%|███████▌  | 3659/4842 [01:33<00:30, 39.18it/s]"
          ]
        },
        {
          "output_type": "stream",
          "name": "stdout",
          "text": [
            "/content/gdrive/MyDrive/george_ds/george/148.jpg removed\n",
            "/content/gdrive/MyDrive/george_ds/george/131.jpg removed\n",
            "/content/gdrive/MyDrive/george_ds/george/126.jpg removed\n",
            "/content/gdrive/MyDrive/george_ds/george/130.jpg removed\n",
            "/content/gdrive/MyDrive/george_ds/george/124.jpg removed\n",
            "/content/gdrive/MyDrive/george_ds/george/123.jpg removed\n",
            "/content/gdrive/MyDrive/george_ds/george/2098.jpg removed\n",
            "/content/gdrive/MyDrive/george_ds/george/2103.jpg removed\n"
          ]
        },
        {
          "output_type": "stream",
          "name": "stderr",
          "text": [
            " 76%|███████▌  | 3669/4842 [01:34<00:31, 37.00it/s]"
          ]
        },
        {
          "output_type": "stream",
          "name": "stdout",
          "text": [
            "/content/gdrive/MyDrive/george_ds/george/2094.jpg removed\n",
            "/content/gdrive/MyDrive/george_ds/george/2096.jpg removed\n",
            "/content/gdrive/MyDrive/george_ds/george/2099.jpg removed\n",
            "/content/gdrive/MyDrive/george_ds/george/2104.jpg removed\n",
            "/content/gdrive/MyDrive/george_ds/george/2095.jpg removed\n",
            "/content/gdrive/MyDrive/george_ds/george/2092.jpg removed\n",
            "/content/gdrive/MyDrive/george_ds/george/2329.jpg removed\n",
            "/content/gdrive/MyDrive/george_ds/george/2328.jpg removed\n"
          ]
        },
        {
          "output_type": "stream",
          "name": "stderr",
          "text": [
            "\r 76%|███████▌  | 3673/4842 [01:34<00:34, 34.13it/s]"
          ]
        },
        {
          "output_type": "stream",
          "name": "stdout",
          "text": [
            "/content/gdrive/MyDrive/george_ds/george/2326.jpg removed\n",
            "/content/gdrive/MyDrive/george_ds/george/2322.jpg removed\n",
            "/content/gdrive/MyDrive/george_ds/george/2318.jpg removed\n",
            "/content/gdrive/MyDrive/george_ds/george/2321.jpg removed\n",
            "/content/gdrive/MyDrive/george_ds/george/2319.jpg removed\n"
          ]
        },
        {
          "output_type": "stream",
          "name": "stderr",
          "text": [
            " 76%|███████▌  | 3681/4842 [01:34<00:37, 30.66it/s]"
          ]
        },
        {
          "output_type": "stream",
          "name": "stdout",
          "text": [
            "/content/gdrive/MyDrive/george_ds/george/2325.jpg removed\n",
            "/content/gdrive/MyDrive/george_ds/george/2320.jpg removed\n",
            "/content/gdrive/MyDrive/george_ds/george/2327.jpg removed\n",
            "/content/gdrive/MyDrive/george_ds/george/2324.jpg removed\n",
            "/content/gdrive/MyDrive/george_ds/george/2317.jpg removed\n",
            "/content/gdrive/MyDrive/george_ds/george/2316.jpg removed\n"
          ]
        },
        {
          "output_type": "stream",
          "name": "stderr",
          "text": [
            "\r 76%|███████▌  | 3685/4842 [01:34<00:36, 31.43it/s]"
          ]
        },
        {
          "output_type": "stream",
          "name": "stdout",
          "text": [
            "/content/gdrive/MyDrive/george_ds/george/2338.jpg removed\n",
            "/content/gdrive/MyDrive/george_ds/george/2341.jpg removed\n",
            "/content/gdrive/MyDrive/george_ds/george/2343.jpg removed\n",
            "/content/gdrive/MyDrive/george_ds/george/2342.jpg removed\n",
            "/content/gdrive/MyDrive/george_ds/george/2337.jpg removed\n",
            "/content/gdrive/MyDrive/george_ds/george/2339.jpg removed\n",
            "/content/gdrive/MyDrive/george_ds/george/2336.jpg removed\n"
          ]
        },
        {
          "output_type": "stream",
          "name": "stderr",
          "text": [
            " 76%|███████▌  | 3692/4842 [01:35<00:41, 27.77it/s]"
          ]
        },
        {
          "output_type": "stream",
          "name": "stdout",
          "text": [
            "/content/gdrive/MyDrive/george_ds/george/2333.jpg removed\n",
            "/content/gdrive/MyDrive/george_ds/george/2344.jpg removed\n",
            "/content/gdrive/MyDrive/george_ds/george/2335.jpg removed\n",
            "/content/gdrive/MyDrive/george_ds/george/2340.jpg removed\n",
            "/content/gdrive/MyDrive/george_ds/george/2334.jpg removed\n"
          ]
        },
        {
          "output_type": "stream",
          "name": "stderr",
          "text": [
            " 76%|███████▋  | 3698/4842 [01:35<00:44, 25.72it/s]"
          ]
        },
        {
          "output_type": "stream",
          "name": "stdout",
          "text": [
            "/content/gdrive/MyDrive/george_ds/george/2332.jpg removed\n",
            "/content/gdrive/MyDrive/george_ds/george/2331.jpg removed\n",
            "/content/gdrive/MyDrive/george_ds/george/2450.jpg removed\n",
            "/content/gdrive/MyDrive/george_ds/george/2036.jpg removed\n",
            "/content/gdrive/MyDrive/george_ds/george/2037.jpg removed\n",
            "/content/gdrive/MyDrive/george_ds/george/2038.jpg removed\n"
          ]
        },
        {
          "output_type": "stream",
          "name": "stderr",
          "text": [
            "\r 76%|███████▋  | 3702/4842 [01:35<00:39, 29.15it/s]"
          ]
        },
        {
          "output_type": "stream",
          "name": "stdout",
          "text": [
            "/content/gdrive/MyDrive/george_ds/george/2040.jpg removed\n",
            "/content/gdrive/MyDrive/george_ds/george/2044.jpg removed\n",
            "/content/gdrive/MyDrive/george_ds/george/2042.jpg removed\n",
            "/content/gdrive/MyDrive/george_ds/george/2070.jpg removed\n",
            "/content/gdrive/MyDrive/george_ds/george/2073.jpg removed\n",
            "/content/gdrive/MyDrive/george_ds/george/2061.jpg removed\n"
          ]
        },
        {
          "output_type": "stream",
          "name": "stderr",
          "text": [
            " 77%|███████▋  | 3710/4842 [01:35<00:41, 27.22it/s]"
          ]
        },
        {
          "output_type": "stream",
          "name": "stdout",
          "text": [
            "/content/gdrive/MyDrive/george_ds/george/2071.jpg removed\n",
            "/content/gdrive/MyDrive/george_ds/george/2072.jpg removed\n",
            "/content/gdrive/MyDrive/george_ds/george/2435.jpg removed\n",
            "/content/gdrive/MyDrive/george_ds/george/2420.jpg removed\n",
            "/content/gdrive/MyDrive/george_ds/george/2405.jpg removed\n",
            "/content/gdrive/MyDrive/george_ds/george/2089.jpg removed\n"
          ]
        },
        {
          "output_type": "stream",
          "name": "stderr",
          "text": [
            " 77%|███████▋  | 3716/4842 [01:36<00:43, 25.70it/s]"
          ]
        },
        {
          "output_type": "stream",
          "name": "stdout",
          "text": [
            "/content/gdrive/MyDrive/george_ds/george/2076.jpg removed\n",
            "/content/gdrive/MyDrive/george_ds/george/2079.jpg removed\n",
            "/content/gdrive/MyDrive/george_ds/george/2087.jpg removed\n",
            "/content/gdrive/MyDrive/george_ds/george/2080.jpg removed\n",
            "/content/gdrive/MyDrive/george_ds/george/2049.jpg removed\n"
          ]
        },
        {
          "output_type": "stream",
          "name": "stderr",
          "text": [
            " 77%|███████▋  | 3722/4842 [01:36<00:42, 26.36it/s]"
          ]
        },
        {
          "output_type": "stream",
          "name": "stdout",
          "text": [
            "/content/gdrive/MyDrive/george_ds/george/2052.jpg removed\n",
            "/content/gdrive/MyDrive/george_ds/george/2053.jpg removed\n",
            "/content/gdrive/MyDrive/george_ds/george/2050.jpg removed\n",
            "/content/gdrive/MyDrive/george_ds/george/2058.jpg removed\n",
            "/content/gdrive/MyDrive/george_ds/george/2051.jpg removed\n",
            "/content/gdrive/MyDrive/george_ds/george/2057.jpg removed\n"
          ]
        },
        {
          "output_type": "stream",
          "name": "stderr",
          "text": [
            " 77%|███████▋  | 3728/4842 [01:36<00:41, 26.94it/s]"
          ]
        },
        {
          "output_type": "stream",
          "name": "stdout",
          "text": [
            "/content/gdrive/MyDrive/george_ds/george/2046.jpg removed\n",
            "/content/gdrive/MyDrive/george_ds/george/2314.jpg removed\n",
            "/content/gdrive/MyDrive/george_ds/george/2306.jpg removed\n",
            "/content/gdrive/MyDrive/george_ds/george/2313.jpg removed\n",
            "/content/gdrive/MyDrive/george_ds/george/2303.jpg removed\n",
            "/content/gdrive/MyDrive/george_ds/george/2308.jpg removed\n",
            "/content/gdrive/MyDrive/george_ds/george/2310.jpg removed\n",
            "/content/gdrive/MyDrive/george_ds/george/2305.jpg removed\n"
          ]
        },
        {
          "output_type": "stream",
          "name": "stderr",
          "text": [
            " 77%|███████▋  | 3736/4842 [01:36<00:38, 29.03it/s]"
          ]
        },
        {
          "output_type": "stream",
          "name": "stdout",
          "text": [
            "/content/gdrive/MyDrive/george_ds/george/2309.jpg removed\n",
            "/content/gdrive/MyDrive/george_ds/george/2307.jpg removed\n",
            "/content/gdrive/MyDrive/george_ds/george/2311.jpg removed\n",
            "/content/gdrive/MyDrive/george_ds/george/2302.jpg removed\n",
            "/content/gdrive/MyDrive/george_ds/george/2304.jpg removed\n",
            "/content/gdrive/MyDrive/george_ds/george/2312.jpg removed\n"
          ]
        },
        {
          "output_type": "stream",
          "name": "stderr",
          "text": [
            "\r 77%|███████▋  | 3739/4842 [01:36<00:41, 26.29it/s]"
          ]
        },
        {
          "output_type": "stream",
          "name": "stdout",
          "text": [
            "/content/gdrive/MyDrive/george_ds/george/2301.jpg removed\n",
            "/content/gdrive/MyDrive/george_ds/george/2269.jpg removed\n",
            "/content/gdrive/MyDrive/george_ds/george/2262.jpg removed\n",
            "/content/gdrive/MyDrive/george_ds/george/2268.jpg removed\n"
          ]
        },
        {
          "output_type": "stream",
          "name": "stderr",
          "text": [
            " 77%|███████▋  | 3746/4842 [01:37<00:40, 27.36it/s]"
          ]
        },
        {
          "output_type": "stream",
          "name": "stdout",
          "text": [
            "/content/gdrive/MyDrive/george_ds/george/2266.jpg removed\n",
            "/content/gdrive/MyDrive/george_ds/george/2267.jpg removed\n",
            "/content/gdrive/MyDrive/george_ds/george/2261.jpg removed\n",
            "/content/gdrive/MyDrive/george_ds/george/2265.jpg removed\n",
            "/content/gdrive/MyDrive/george_ds/george/2264.jpg removed\n",
            "/content/gdrive/MyDrive/george_ds/george/2259.jpg removed\n",
            "/content/gdrive/MyDrive/george_ds/george/2260.jpg removed\n",
            "/content/gdrive/MyDrive/george_ds/george/2263.jpg removed\n"
          ]
        },
        {
          "output_type": "stream",
          "name": "stderr",
          "text": [
            " 77%|███████▋  | 3752/4842 [01:37<00:42, 25.73it/s]"
          ]
        },
        {
          "output_type": "stream",
          "name": "stdout",
          "text": [
            "/content/gdrive/MyDrive/george_ds/george/2258.jpg removed\n",
            "/content/gdrive/MyDrive/george_ds/george/2257.jpg removed\n",
            "/content/gdrive/MyDrive/george_ds/george/2256.jpg removed\n",
            "/content/gdrive/MyDrive/george_ds/george/2296.jpg removed\n",
            "/content/gdrive/MyDrive/george_ds/george/2290.jpg removed\n",
            "/content/gdrive/MyDrive/george_ds/george/2293.jpg removed\n"
          ]
        },
        {
          "output_type": "stream",
          "name": "stderr",
          "text": [
            "\r 78%|███████▊  | 3756/4842 [01:37<00:40, 26.91it/s]"
          ]
        },
        {
          "output_type": "stream",
          "name": "stdout",
          "text": [
            "/content/gdrive/MyDrive/george_ds/george/2294.jpg removed\n",
            "/content/gdrive/MyDrive/george_ds/george/2297.jpg removed\n",
            "/content/gdrive/MyDrive/george_ds/george/2298.jpg removed\n",
            "/content/gdrive/MyDrive/george_ds/george/2291.jpg removed\n"
          ]
        },
        {
          "output_type": "stream",
          "name": "stderr",
          "text": [
            " 78%|███████▊  | 3762/4842 [01:37<00:45, 23.67it/s]"
          ]
        },
        {
          "output_type": "stream",
          "name": "stdout",
          "text": [
            "/content/gdrive/MyDrive/george_ds/george/2299.jpg removed\n",
            "/content/gdrive/MyDrive/george_ds/george/2295.jpg removed\n",
            "/content/gdrive/MyDrive/george_ds/george/2292.jpg removed\n",
            "/content/gdrive/MyDrive/george_ds/george/2289.jpg removed\n",
            "/content/gdrive/MyDrive/george_ds/george/2288.jpg removed\n"
          ]
        },
        {
          "output_type": "stream",
          "name": "stderr",
          "text": [
            " 78%|███████▊  | 3768/4842 [01:38<00:48, 21.97it/s]"
          ]
        },
        {
          "output_type": "stream",
          "name": "stdout",
          "text": [
            "/content/gdrive/MyDrive/george_ds/george/2287.jpg removed\n",
            "/content/gdrive/MyDrive/george_ds/george/2286.jpg removed\n",
            "/content/gdrive/MyDrive/george_ds/george/2279.jpg removed\n",
            "/content/gdrive/MyDrive/george_ds/george/2284.jpg removed\n",
            "/content/gdrive/MyDrive/george_ds/george/2283.jpg removed\n"
          ]
        },
        {
          "output_type": "stream",
          "name": "stderr",
          "text": [
            " 78%|███████▊  | 3774/4842 [01:38<00:46, 22.85it/s]"
          ]
        },
        {
          "output_type": "stream",
          "name": "stdout",
          "text": [
            "/content/gdrive/MyDrive/george_ds/george/2278.jpg removed\n",
            "/content/gdrive/MyDrive/george_ds/george/2280.jpg removed\n",
            "/content/gdrive/MyDrive/george_ds/george/2277.jpg removed\n",
            "/content/gdrive/MyDrive/george_ds/george/2275.jpg removed\n",
            "/content/gdrive/MyDrive/george_ds/george/2273.jpg removed\n",
            "/content/gdrive/MyDrive/george_ds/george/2276.jpg removed\n"
          ]
        },
        {
          "output_type": "stream",
          "name": "stderr",
          "text": [
            "\r 78%|███████▊  | 3777/4842 [01:38<00:48, 21.91it/s]"
          ]
        },
        {
          "output_type": "stream",
          "name": "stdout",
          "text": [
            "/content/gdrive/MyDrive/george_ds/george/2281.jpg removed\n",
            "/content/gdrive/MyDrive/george_ds/george/2282.jpg removed\n",
            "/content/gdrive/MyDrive/george_ds/george/2274.jpg removed\n",
            "/content/gdrive/MyDrive/george_ds/george/2272.jpg removed\n",
            "/content/gdrive/MyDrive/george_ds/george/2271.jpg removed\n"
          ]
        },
        {
          "output_type": "stream",
          "name": "stderr",
          "text": [
            " 78%|███████▊  | 3784/4842 [01:38<00:41, 25.50it/s]"
          ]
        },
        {
          "output_type": "stream",
          "name": "stdout",
          "text": [
            "/content/gdrive/MyDrive/george_ds/george/2390.jpg removed\n",
            "/content/gdrive/MyDrive/george_ds/george/2360.jpg removed\n",
            "/content/gdrive/MyDrive/george_ds/george/2375.jpg removed\n",
            "/content/gdrive/MyDrive/george_ds/george/1974.jpg removed\n",
            "/content/gdrive/MyDrive/george_ds/george/1982.jpg removed\n",
            "/content/gdrive/MyDrive/george_ds/george/1976.jpg removed\n",
            "/content/gdrive/MyDrive/george_ds/george/2074.jpg removed\n"
          ]
        },
        {
          "output_type": "stream",
          "name": "stderr",
          "text": [
            " 78%|███████▊  | 3791/4842 [01:39<00:41, 25.59it/s]"
          ]
        },
        {
          "output_type": "stream",
          "name": "stdout",
          "text": [
            "/content/gdrive/MyDrive/george_ds/george/2066.jpg removed\n",
            "/content/gdrive/MyDrive/george_ds/george/2082.jpg removed\n",
            "/content/gdrive/MyDrive/george_ds/george/2081.jpg removed\n",
            "/content/gdrive/MyDrive/george_ds/george/2088.jpg removed\n",
            "/content/gdrive/MyDrive/george_ds/george/2170.jpg removed\n"
          ]
        },
        {
          "output_type": "stream",
          "name": "stderr",
          "text": [
            "\r 78%|███████▊  | 3794/4842 [01:39<00:42, 24.47it/s]"
          ]
        },
        {
          "output_type": "stream",
          "name": "stdout",
          "text": [
            "/content/gdrive/MyDrive/george_ds/george/2177.jpg removed\n",
            "/content/gdrive/MyDrive/george_ds/george/2171.jpg removed\n",
            "/content/gdrive/MyDrive/george_ds/george/2174.jpg removed\n",
            "/content/gdrive/MyDrive/george_ds/george/2173.jpg removed\n",
            "/content/gdrive/MyDrive/george_ds/george/2168.jpg removed\n"
          ]
        },
        {
          "output_type": "stream",
          "name": "stderr",
          "text": [
            " 79%|███████▊  | 3801/4842 [01:39<00:39, 26.48it/s]"
          ]
        },
        {
          "output_type": "stream",
          "name": "stdout",
          "text": [
            "/content/gdrive/MyDrive/george_ds/george/2175.jpg removed\n",
            "/content/gdrive/MyDrive/george_ds/george/2179.jpg removed\n",
            "/content/gdrive/MyDrive/george_ds/george/2178.jpg removed\n",
            "/content/gdrive/MyDrive/george_ds/george/2176.jpg removed\n",
            "/content/gdrive/MyDrive/george_ds/george/2172.jpg removed\n",
            "/content/gdrive/MyDrive/george_ds/george/2169.jpg removed\n",
            "/content/gdrive/MyDrive/george_ds/george/2167.jpg removed\n",
            "/content/gdrive/MyDrive/george_ds/george/2166.jpg removed\n",
            "/content/gdrive/MyDrive/george_ds/george/2184.jpg removed\n"
          ]
        },
        {
          "output_type": "stream",
          "name": "stderr",
          "text": [
            " 79%|███████▊  | 3811/4842 [01:39<00:31, 32.34it/s]"
          ]
        },
        {
          "output_type": "stream",
          "name": "stdout",
          "text": [
            "/content/gdrive/MyDrive/george_ds/george/2194.jpg removed\n",
            "/content/gdrive/MyDrive/george_ds/george/2191.jpg removed\n",
            "/content/gdrive/MyDrive/george_ds/george/2190.jpg removed\n",
            "/content/gdrive/MyDrive/george_ds/george/2189.jpg removed\n",
            "/content/gdrive/MyDrive/george_ds/george/2185.jpg removed\n",
            "/content/gdrive/MyDrive/george_ds/george/2186.jpg removed\n",
            "/content/gdrive/MyDrive/george_ds/george/2192.jpg removed\n"
          ]
        },
        {
          "output_type": "stream",
          "name": "stderr",
          "text": [
            " 79%|███████▉  | 3821/4842 [01:39<00:26, 37.86it/s]"
          ]
        },
        {
          "output_type": "stream",
          "name": "stdout",
          "text": [
            "/content/gdrive/MyDrive/george_ds/george/2193.jpg removed\n",
            "/content/gdrive/MyDrive/george_ds/george/2182.jpg removed\n",
            "/content/gdrive/MyDrive/george_ds/george/2183.jpg removed\n",
            "/content/gdrive/MyDrive/george_ds/george/2188.jpg removed\n",
            "/content/gdrive/MyDrive/george_ds/george/2187.jpg removed\n",
            "/content/gdrive/MyDrive/george_ds/george/2181.jpg removed\n",
            "/content/gdrive/MyDrive/george_ds/george/2246.jpg removed\n",
            "/content/gdrive/MyDrive/george_ds/george/2250.jpg removed\n",
            "/content/gdrive/MyDrive/george_ds/george/2252.jpg removed\n"
          ]
        },
        {
          "output_type": "stream",
          "name": "stderr",
          "text": [
            "\r 79%|███████▉  | 3825/4842 [01:40<00:29, 34.47it/s]"
          ]
        },
        {
          "output_type": "stream",
          "name": "stdout",
          "text": [
            "/content/gdrive/MyDrive/george_ds/george/2251.jpg removed\n",
            "/content/gdrive/MyDrive/george_ds/george/2249.jpg removed\n",
            "/content/gdrive/MyDrive/george_ds/george/2253.jpg removed\n",
            "/content/gdrive/MyDrive/george_ds/george/2244.jpg removed\n",
            "/content/gdrive/MyDrive/george_ds/george/2247.jpg removed\n",
            "/content/gdrive/MyDrive/george_ds/george/2248.jpg removed\n"
          ]
        },
        {
          "output_type": "stream",
          "name": "stderr",
          "text": [
            " 79%|███████▉  | 3834/4842 [01:40<00:28, 35.67it/s]"
          ]
        },
        {
          "output_type": "stream",
          "name": "stdout",
          "text": [
            "/content/gdrive/MyDrive/george_ds/george/2254.jpg removed\n",
            "/content/gdrive/MyDrive/george_ds/george/2243.jpg removed\n",
            "/content/gdrive/MyDrive/george_ds/george/2242.jpg removed\n",
            "/content/gdrive/MyDrive/george_ds/george/2241.jpg removed\n",
            "/content/gdrive/MyDrive/george_ds/george/2024.jpg removed\n",
            "/content/gdrive/MyDrive/george_ds/george/2022.jpg removed\n",
            "/content/gdrive/MyDrive/george_ds/george/2028.jpg removed\n",
            "/content/gdrive/MyDrive/george_ds/george/2345.jpg removed\n",
            "/content/gdrive/MyDrive/george_ds/george/2330.jpg removed\n"
          ]
        },
        {
          "output_type": "stream",
          "name": "stderr",
          "text": [
            " 79%|███████▉  | 3843/4842 [01:40<00:26, 38.09it/s]"
          ]
        },
        {
          "output_type": "stream",
          "name": "stdout",
          "text": [
            "/content/gdrive/MyDrive/george_ds/george/2315.jpg removed\n",
            "/content/gdrive/MyDrive/george_ds/george/2008.jpg removed\n",
            "/content/gdrive/MyDrive/george_ds/george/2003.jpg removed\n",
            "/content/gdrive/MyDrive/george_ds/george/2006.jpg removed\n",
            "/content/gdrive/MyDrive/george_ds/george/2001.jpg removed\n",
            "/content/gdrive/MyDrive/george_ds/george/1987.jpg removed\n",
            "/content/gdrive/MyDrive/george_ds/george/1991.jpg removed\n",
            "/content/gdrive/MyDrive/george_ds/george/2009.jpg removed\n"
          ]
        },
        {
          "output_type": "stream",
          "name": "stderr",
          "text": [
            " 80%|███████▉  | 3852/4842 [01:40<00:25, 39.43it/s]"
          ]
        },
        {
          "output_type": "stream",
          "name": "stdout",
          "text": [
            "/content/gdrive/MyDrive/george_ds/george/2236.jpg removed\n",
            "/content/gdrive/MyDrive/george_ds/george/2239.jpg removed\n",
            "/content/gdrive/MyDrive/george_ds/george/2238.jpg removed\n",
            "/content/gdrive/MyDrive/george_ds/george/2237.jpg removed\n",
            "/content/gdrive/MyDrive/george_ds/george/2232.jpg removed\n",
            "/content/gdrive/MyDrive/george_ds/george/2233.jpg removed\n",
            "/content/gdrive/MyDrive/george_ds/george/2230.jpg removed\n",
            "/content/gdrive/MyDrive/george_ds/george/2234.jpg removed\n",
            "/content/gdrive/MyDrive/george_ds/george/2231.jpg removed\n",
            "/content/gdrive/MyDrive/george_ds/george/2235.jpg removed\n"
          ]
        },
        {
          "output_type": "stream",
          "name": "stderr",
          "text": [
            " 80%|███████▉  | 3862/4842 [01:40<00:25, 38.82it/s]"
          ]
        },
        {
          "output_type": "stream",
          "name": "stdout",
          "text": [
            "/content/gdrive/MyDrive/george_ds/george/2229.jpg removed\n",
            "/content/gdrive/MyDrive/george_ds/george/2228.jpg removed\n",
            "/content/gdrive/MyDrive/george_ds/george/2227.jpg removed\n",
            "/content/gdrive/MyDrive/george_ds/george/2226.jpg removed\n",
            "/content/gdrive/MyDrive/george_ds/george/2203.jpg removed\n",
            "/content/gdrive/MyDrive/george_ds/george/2205.jpg removed\n",
            "/content/gdrive/MyDrive/george_ds/george/2202.jpg removed\n",
            "/content/gdrive/MyDrive/george_ds/george/2206.jpg removed\n"
          ]
        },
        {
          "output_type": "stream",
          "name": "stderr",
          "text": [
            " 80%|███████▉  | 3870/4842 [01:41<00:26, 36.23it/s]"
          ]
        },
        {
          "output_type": "stream",
          "name": "stdout",
          "text": [
            "/content/gdrive/MyDrive/george_ds/george/2198.jpg removed\n",
            "/content/gdrive/MyDrive/george_ds/george/2199.jpg removed\n",
            "/content/gdrive/MyDrive/george_ds/george/2207.jpg removed\n",
            "/content/gdrive/MyDrive/george_ds/george/2204.jpg removed\n",
            "/content/gdrive/MyDrive/george_ds/george/2209.jpg removed\n",
            "/content/gdrive/MyDrive/george_ds/george/2208.jpg removed\n",
            "/content/gdrive/MyDrive/george_ds/george/2200.jpg removed\n"
          ]
        },
        {
          "output_type": "stream",
          "name": "stderr",
          "text": [
            " 80%|████████  | 3878/4842 [01:41<00:27, 35.61it/s]"
          ]
        },
        {
          "output_type": "stream",
          "name": "stdout",
          "text": [
            "/content/gdrive/MyDrive/george_ds/george/2201.jpg removed\n",
            "/content/gdrive/MyDrive/george_ds/george/2197.jpg removed\n",
            "/content/gdrive/MyDrive/george_ds/george/2196.jpg removed\n",
            "/content/gdrive/MyDrive/george_ds/george/1967.jpg removed\n",
            "/content/gdrive/MyDrive/george_ds/george/1958.jpg removed\n",
            "/content/gdrive/MyDrive/george_ds/george/1964.jpg removed\n",
            "/content/gdrive/MyDrive/george_ds/george/1960.jpg removed\n",
            "/content/gdrive/MyDrive/george_ds/george/1961.jpg removed\n"
          ]
        },
        {
          "output_type": "stream",
          "name": "stderr",
          "text": [
            " 80%|████████  | 3886/4842 [01:41<00:26, 35.91it/s]"
          ]
        },
        {
          "output_type": "stream",
          "name": "stdout",
          "text": [
            "/content/gdrive/MyDrive/george_ds/george/2224.jpg removed\n",
            "/content/gdrive/MyDrive/george_ds/george/2215.jpg removed\n",
            "/content/gdrive/MyDrive/george_ds/george/2220.jpg removed\n",
            "/content/gdrive/MyDrive/george_ds/george/2216.jpg removed\n",
            "/content/gdrive/MyDrive/george_ds/george/2218.jpg removed\n",
            "/content/gdrive/MyDrive/george_ds/george/2214.jpg removed\n",
            "/content/gdrive/MyDrive/george_ds/george/2217.jpg removed\n",
            "/content/gdrive/MyDrive/george_ds/george/2222.jpg removed\n"
          ]
        },
        {
          "output_type": "stream",
          "name": "stderr",
          "text": [
            "\r 80%|████████  | 3890/4842 [01:41<00:28, 33.89it/s]"
          ]
        },
        {
          "output_type": "stream",
          "name": "stdout",
          "text": [
            "/content/gdrive/MyDrive/george_ds/george/2219.jpg removed\n",
            "/content/gdrive/MyDrive/george_ds/george/2223.jpg removed\n",
            "/content/gdrive/MyDrive/george_ds/george/2221.jpg removed\n",
            "/content/gdrive/MyDrive/george_ds/george/2213.jpg removed\n",
            "/content/gdrive/MyDrive/george_ds/george/2212.jpg removed\n",
            "/content/gdrive/MyDrive/george_ds/george/2211.jpg removed\n",
            "/content/gdrive/MyDrive/george_ds/george/1969.jpg removed\n",
            "/content/gdrive/MyDrive/george_ds/george/1956.jpg removed"
          ]
        },
        {
          "output_type": "stream",
          "name": "stderr",
          "text": [
            " 81%|████████  | 3898/4842 [01:42<00:30, 30.93it/s]"
          ]
        },
        {
          "output_type": "stream",
          "name": "stdout",
          "text": [
            "\n",
            "/content/gdrive/MyDrive/george_ds/george/2300.jpg removed\n",
            "/content/gdrive/MyDrive/george_ds/george/2255.jpg removed\n",
            "/content/gdrive/MyDrive/george_ds/george/2160.jpg removed\n",
            "/content/gdrive/MyDrive/george_ds/george/2157.jpg removed\n",
            "/content/gdrive/MyDrive/george_ds/george/2155.jpg removed\n"
          ]
        },
        {
          "output_type": "stream",
          "name": "stderr",
          "text": [
            " 81%|████████  | 3906/4842 [01:42<00:30, 31.15it/s]"
          ]
        },
        {
          "output_type": "stream",
          "name": "stdout",
          "text": [
            "/content/gdrive/MyDrive/george_ds/george/2158.jpg removed\n",
            "/content/gdrive/MyDrive/george_ds/george/2153.jpg removed\n",
            "/content/gdrive/MyDrive/george_ds/george/2164.jpg removed\n",
            "/content/gdrive/MyDrive/george_ds/george/2154.jpg removed\n",
            "/content/gdrive/MyDrive/george_ds/george/2161.jpg removed\n",
            "/content/gdrive/MyDrive/george_ds/george/2162.jpg removed\n",
            "/content/gdrive/MyDrive/george_ds/george/2163.jpg removed\n"
          ]
        },
        {
          "output_type": "stream",
          "name": "stderr",
          "text": [
            " 81%|████████  | 3916/4842 [01:42<00:24, 37.55it/s]"
          ]
        },
        {
          "output_type": "stream",
          "name": "stdout",
          "text": [
            "/content/gdrive/MyDrive/george_ds/george/2159.jpg removed\n",
            "/content/gdrive/MyDrive/george_ds/george/2152.jpg removed\n",
            "/content/gdrive/MyDrive/george_ds/george/2156.jpg removed\n",
            "/content/gdrive/MyDrive/george_ds/george/2151.jpg removed\n",
            "/content/gdrive/MyDrive/george_ds/george/2285.jpg removed\n",
            "/content/gdrive/MyDrive/george_ds/george/1891.jpg removed\n",
            "/content/gdrive/MyDrive/george_ds/george/1890.jpg removed\n",
            "/content/gdrive/MyDrive/george_ds/george/1888.jpg removed\n",
            "/content/gdrive/MyDrive/george_ds/george/1883.jpg removed\n",
            "/content/gdrive/MyDrive/george_ds/george/1884.jpg removed\n"
          ]
        },
        {
          "output_type": "stream",
          "name": "stderr",
          "text": [
            "\r 81%|████████  | 3921/4842 [01:42<00:23, 38.40it/s]"
          ]
        },
        {
          "output_type": "stream",
          "name": "stdout",
          "text": [
            "/content/gdrive/MyDrive/george_ds/george/2270.jpg removed\n",
            "/content/gdrive/MyDrive/george_ds/george/1951.jpg removed\n",
            "/content/gdrive/MyDrive/george_ds/george/1942.jpg removed\n",
            "/content/gdrive/MyDrive/george_ds/george/2147.jpg removed\n",
            "/content/gdrive/MyDrive/george_ds/george/2138.jpg removed\n",
            "/content/gdrive/MyDrive/george_ds/george/2144.jpg removed\n",
            "/content/gdrive/MyDrive/george_ds/george/2149.jpg removed\n"
          ]
        },
        {
          "output_type": "stream",
          "name": "stderr",
          "text": [
            " 81%|████████  | 3930/4842 [01:42<00:24, 36.88it/s]"
          ]
        },
        {
          "output_type": "stream",
          "name": "stdout",
          "text": [
            "/content/gdrive/MyDrive/george_ds/george/2140.jpg removed\n",
            "/content/gdrive/MyDrive/george_ds/george/2145.jpg removed\n",
            "/content/gdrive/MyDrive/george_ds/george/2142.jpg removed\n",
            "/content/gdrive/MyDrive/george_ds/george/2143.jpg removed\n",
            "/content/gdrive/MyDrive/george_ds/george/2139.jpg removed\n",
            "/content/gdrive/MyDrive/george_ds/george/2146.jpg removed\n",
            "/content/gdrive/MyDrive/george_ds/george/2141.jpg removed\n",
            "/content/gdrive/MyDrive/george_ds/george/2148.jpg removed\n"
          ]
        },
        {
          "output_type": "stream",
          "name": "stderr",
          "text": [
            " 81%|████████▏ | 3938/4842 [01:43<00:25, 35.59it/s]"
          ]
        },
        {
          "output_type": "stream",
          "name": "stdout",
          "text": [
            "/content/gdrive/MyDrive/george_ds/george/2137.jpg removed\n",
            "/content/gdrive/MyDrive/george_ds/george/2136.jpg removed\n",
            "/content/gdrive/MyDrive/george_ds/george/1952.jpg removed\n",
            "/content/gdrive/MyDrive/george_ds/george/1944.jpg removed\n",
            "/content/gdrive/MyDrive/george_ds/george/1945.jpg removed\n",
            "/content/gdrive/MyDrive/george_ds/george/1948.jpg removed\n",
            "/content/gdrive/MyDrive/george_ds/george/1950.jpg removed\n",
            "/content/gdrive/MyDrive/george_ds/george/1949.jpg removed\n"
          ]
        },
        {
          "output_type": "stream",
          "name": "stderr",
          "text": [
            "\r 81%|████████▏ | 3943/4842 [01:43<00:23, 37.74it/s]"
          ]
        },
        {
          "output_type": "stream",
          "name": "stdout",
          "text": [
            "/content/gdrive/MyDrive/george_ds/george/2133.jpg removed\n",
            "/content/gdrive/MyDrive/george_ds/george/2130.jpg removed\n",
            "/content/gdrive/MyDrive/george_ds/george/2126.jpg removed\n",
            "/content/gdrive/MyDrive/george_ds/george/2123.jpg removed\n",
            "/content/gdrive/MyDrive/george_ds/george/2125.jpg removed\n",
            "/content/gdrive/MyDrive/george_ds/george/2131.jpg removed\n",
            "/content/gdrive/MyDrive/george_ds/george/2128.jpg removed\n"
          ]
        },
        {
          "output_type": "stream",
          "name": "stderr",
          "text": [
            " 82%|████████▏ | 3951/4842 [01:43<00:25, 34.75it/s]"
          ]
        },
        {
          "output_type": "stream",
          "name": "stdout",
          "text": [
            "/content/gdrive/MyDrive/george_ds/george/2127.jpg removed\n",
            "/content/gdrive/MyDrive/george_ds/george/2122.jpg removed\n",
            "/content/gdrive/MyDrive/george_ds/george/2124.jpg removed\n",
            "/content/gdrive/MyDrive/george_ds/george/2134.jpg removed\n",
            "/content/gdrive/MyDrive/george_ds/george/2129.jpg removed\n",
            "/content/gdrive/MyDrive/george_ds/george/2132.jpg removed\n",
            "/content/gdrive/MyDrive/george_ds/george/2121.jpg removed\n"
          ]
        },
        {
          "output_type": "stream",
          "name": "stderr",
          "text": [
            "\r 82%|████████▏ | 3955/4842 [01:43<00:37, 23.92it/s]"
          ]
        },
        {
          "output_type": "stream",
          "name": "stdout",
          "text": [
            "/content/gdrive/MyDrive/george_ds/george/2165.jpg removed\n",
            "/content/gdrive/MyDrive/george_ds/george/2180.jpg removed\n"
          ]
        },
        {
          "output_type": "stream",
          "name": "stderr",
          "text": [
            " 82%|████████▏ | 3963/4842 [01:44<00:31, 27.87it/s]"
          ]
        },
        {
          "output_type": "stream",
          "name": "stdout",
          "text": [
            "/content/gdrive/MyDrive/george_ds/george/2240.jpg removed\n",
            "/content/gdrive/MyDrive/george_ds/george/2115.jpg removed\n",
            "/content/gdrive/MyDrive/george_ds/george/2112.jpg removed\n",
            "/content/gdrive/MyDrive/george_ds/george/2114.jpg removed\n",
            "/content/gdrive/MyDrive/george_ds/george/2116.jpg removed\n",
            "/content/gdrive/MyDrive/george_ds/george/2111.jpg removed\n",
            "/content/gdrive/MyDrive/george_ds/george/2110.jpg removed\n",
            "/content/gdrive/MyDrive/george_ds/george/2107.jpg removed\n"
          ]
        },
        {
          "output_type": "stream",
          "name": "stderr",
          "text": [
            "\r 82%|████████▏ | 3967/4842 [01:44<00:30, 28.35it/s]"
          ]
        },
        {
          "output_type": "stream",
          "name": "stdout",
          "text": [
            "/content/gdrive/MyDrive/george_ds/george/2117.jpg removed\n",
            "/content/gdrive/MyDrive/george_ds/george/2119.jpg removed\n",
            "/content/gdrive/MyDrive/george_ds/george/2113.jpg removed\n",
            "/content/gdrive/MyDrive/george_ds/george/2118.jpg removed\n",
            "/content/gdrive/MyDrive/george_ds/george/2109.jpg removed\n",
            "/content/gdrive/MyDrive/george_ds/george/2108.jpg removed\n",
            "/content/gdrive/MyDrive/george_ds/george/2106.jpg removed\n"
          ]
        },
        {
          "output_type": "stream",
          "name": "stderr",
          "text": [
            " 82%|████████▏ | 3975/4842 [01:44<00:27, 31.33it/s]"
          ]
        },
        {
          "output_type": "stream",
          "name": "stdout",
          "text": [
            "/content/gdrive/MyDrive/george_ds/george/2100.jpg removed\n",
            "/content/gdrive/MyDrive/george_ds/george/2101.jpg removed\n",
            "/content/gdrive/MyDrive/george_ds/george/2102.jpg removed\n",
            "/content/gdrive/MyDrive/george_ds/george/2093.jpg removed\n",
            "/content/gdrive/MyDrive/george_ds/george/2097.jpg removed\n",
            "/content/gdrive/MyDrive/george_ds/george/2091.jpg removed\n",
            "/content/gdrive/MyDrive/george_ds/george/2225.jpg removed\n",
            "/content/gdrive/MyDrive/george_ds/george/2195.jpg removed\n",
            "/content/gdrive/MyDrive/george_ds/george/1929.jpg removed\n"
          ]
        },
        {
          "output_type": "stream",
          "name": "stderr",
          "text": [
            " 82%|████████▏ | 3986/4842 [01:44<00:20, 40.88it/s]"
          ]
        },
        {
          "output_type": "stream",
          "name": "stdout",
          "text": [
            "/content/gdrive/MyDrive/george_ds/george/1939.jpg removed\n",
            "/content/gdrive/MyDrive/george_ds/george/1936.jpg removed\n",
            "/content/gdrive/MyDrive/george_ds/george/1927.jpg removed\n",
            "/content/gdrive/MyDrive/george_ds/george/1932.jpg removed\n",
            "/content/gdrive/MyDrive/george_ds/george/1933.jpg removed\n",
            "/content/gdrive/MyDrive/george_ds/george/2210.jpg removed\n",
            "/content/gdrive/MyDrive/george_ds/george/2043.jpg removed\n",
            "/content/gdrive/MyDrive/george_ds/george/2033.jpg removed\n",
            "/content/gdrive/MyDrive/george_ds/george/2034.jpg removed\n"
          ]
        },
        {
          "output_type": "stream",
          "name": "stderr",
          "text": [
            " 83%|████████▎ | 3995/4842 [01:44<00:24, 34.47it/s]"
          ]
        },
        {
          "output_type": "stream",
          "name": "stdout",
          "text": [
            "/content/gdrive/MyDrive/george_ds/george/2035.jpg removed\n",
            "/content/gdrive/MyDrive/george_ds/george/2041.jpg removed\n",
            "/content/gdrive/MyDrive/george_ds/george/2039.jpg removed\n",
            "/content/gdrive/MyDrive/george_ds/george/2032.jpg removed\n",
            "/content/gdrive/MyDrive/george_ds/george/2031.jpg removed\n",
            "/content/gdrive/MyDrive/george_ds/george/2056.jpg removed\n",
            "/content/gdrive/MyDrive/george_ds/george/2054.jpg removed\n"
          ]
        },
        {
          "output_type": "stream",
          "name": "stderr",
          "text": [
            "\r 83%|████████▎ | 3999/4842 [01:45<00:24, 33.77it/s]"
          ]
        },
        {
          "output_type": "stream",
          "name": "stdout",
          "text": [
            "/content/gdrive/MyDrive/george_ds/george/2048.jpg removed\n",
            "/content/gdrive/MyDrive/george_ds/george/2055.jpg removed\n",
            "/content/gdrive/MyDrive/george_ds/george/2059.jpg removed\n",
            "/content/gdrive/MyDrive/george_ds/george/2047.jpg removed\n",
            "/content/gdrive/MyDrive/george_ds/george/2083.jpg removed\n",
            "/content/gdrive/MyDrive/george_ds/george/2084.jpg removed\n",
            "/content/gdrive/MyDrive/george_ds/george/2078.jpg removed\n",
            "/content/gdrive/MyDrive/george_ds/george/2085.jpg removed\n",
            "/content/gdrive/MyDrive/george_ds/george/2086.jpg removed\n"
          ]
        },
        {
          "output_type": "stream",
          "name": "stderr",
          "text": [
            " 83%|████████▎ | 4008/4842 [01:45<00:25, 32.11it/s]"
          ]
        },
        {
          "output_type": "stream",
          "name": "stdout",
          "text": [
            "/content/gdrive/MyDrive/george_ds/george/2077.jpg removed\n",
            "/content/gdrive/MyDrive/george_ds/george/2063.jpg removed\n",
            "/content/gdrive/MyDrive/george_ds/george/2069.jpg removed\n",
            "/content/gdrive/MyDrive/george_ds/george/2068.jpg removed\n",
            "/content/gdrive/MyDrive/george_ds/george/2064.jpg removed\n",
            "/content/gdrive/MyDrive/george_ds/george/2065.jpg removed\n"
          ]
        },
        {
          "output_type": "stream",
          "name": "stderr",
          "text": [
            " 83%|████████▎ | 4016/4842 [01:45<00:24, 34.37it/s]"
          ]
        },
        {
          "output_type": "stream",
          "name": "stdout",
          "text": [
            "/content/gdrive/MyDrive/george_ds/george/2067.jpg removed\n",
            "/content/gdrive/MyDrive/george_ds/george/2062.jpg removed\n",
            "/content/gdrive/MyDrive/george_ds/george/1914.jpg removed\n",
            "/content/gdrive/MyDrive/george_ds/george/1923.jpg removed\n",
            "/content/gdrive/MyDrive/george_ds/george/1924.jpg removed\n",
            "/content/gdrive/MyDrive/george_ds/george/1917.jpg removed\n",
            "/content/gdrive/MyDrive/george_ds/george/1919.jpg removed\n",
            "/content/gdrive/MyDrive/george_ds/george/1912.jpg removed\n",
            "/content/gdrive/MyDrive/george_ds/george/1920.jpg removed\n"
          ]
        },
        {
          "output_type": "stream",
          "name": "stderr",
          "text": [
            " 83%|████████▎ | 4024/4842 [01:45<00:24, 33.60it/s]"
          ]
        },
        {
          "output_type": "stream",
          "name": "stdout",
          "text": [
            "/content/gdrive/MyDrive/george_ds/george/1897.jpg removed\n",
            "/content/gdrive/MyDrive/george_ds/george/1901.jpg removed\n",
            "/content/gdrive/MyDrive/george_ds/george/2023.jpg removed\n",
            "/content/gdrive/MyDrive/george_ds/george/2027.jpg removed\n",
            "/content/gdrive/MyDrive/george_ds/george/2026.jpg removed\n",
            "/content/gdrive/MyDrive/george_ds/george/2021.jpg removed\n",
            "/content/gdrive/MyDrive/george_ds/george/2029.jpg removed\n"
          ]
        },
        {
          "output_type": "stream",
          "name": "stderr",
          "text": [
            " 83%|████████▎ | 4034/4842 [01:46<00:20, 40.29it/s]"
          ]
        },
        {
          "output_type": "stream",
          "name": "stdout",
          "text": [
            "/content/gdrive/MyDrive/george_ds/george/2025.jpg removed\n",
            "/content/gdrive/MyDrive/george_ds/george/2020.jpg removed\n",
            "/content/gdrive/MyDrive/george_ds/george/2019.jpg removed\n",
            "/content/gdrive/MyDrive/george_ds/george/2017.jpg removed\n",
            "/content/gdrive/MyDrive/george_ds/george/2016.jpg removed\n",
            "/content/gdrive/MyDrive/george_ds/george/2018.jpg removed\n",
            "/content/gdrive/MyDrive/george_ds/george/1916.jpg removed\n",
            "/content/gdrive/MyDrive/george_ds/george/1913.jpg removed\n",
            "/content/gdrive/MyDrive/george_ds/george/2150.jpg removed\n",
            "/content/gdrive/MyDrive/george_ds/george/2135.jpg removed"
          ]
        },
        {
          "output_type": "stream",
          "name": "stderr",
          "text": [
            " 84%|████████▎ | 4044/4842 [01:46<00:18, 42.04it/s]"
          ]
        },
        {
          "output_type": "stream",
          "name": "stdout",
          "text": [
            "\n",
            "/content/gdrive/MyDrive/george_ds/george/1854.jpg removed\n",
            "/content/gdrive/MyDrive/george_ds/george/1857.jpg removed\n",
            "/content/gdrive/MyDrive/george_ds/george/1864.jpg removed\n",
            "/content/gdrive/MyDrive/george_ds/george/1853.jpg removed\n",
            "/content/gdrive/MyDrive/george_ds/george/1861.jpg removed\n",
            "/content/gdrive/MyDrive/george_ds/george/1859.jpg removed\n",
            "/content/gdrive/MyDrive/george_ds/george/1852.jpg removed\n",
            "/content/gdrive/MyDrive/george_ds/george/1877.jpg removed\n",
            "/content/gdrive/MyDrive/george_ds/george/1873.jpg removed\n"
          ]
        },
        {
          "output_type": "stream",
          "name": "stderr",
          "text": [
            " 84%|████████▎ | 4054/4842 [01:46<00:19, 41.16it/s]"
          ]
        },
        {
          "output_type": "stream",
          "name": "stdout",
          "text": [
            "/content/gdrive/MyDrive/george_ds/george/1879.jpg removed\n",
            "/content/gdrive/MyDrive/george_ds/george/1876.jpg removed\n",
            "/content/gdrive/MyDrive/george_ds/george/2004.jpg removed\n",
            "/content/gdrive/MyDrive/george_ds/george/2013.jpg removed\n",
            "/content/gdrive/MyDrive/george_ds/george/2011.jpg removed\n",
            "/content/gdrive/MyDrive/george_ds/george/2002.jpg removed\n",
            "/content/gdrive/MyDrive/george_ds/george/2010.jpg removed\n",
            "/content/gdrive/MyDrive/george_ds/george/2007.jpg removed\n",
            "/content/gdrive/MyDrive/george_ds/george/2005.jpg removed\n"
          ]
        },
        {
          "output_type": "stream",
          "name": "stderr",
          "text": [
            " 84%|████████▍ | 4065/4842 [01:46<00:17, 43.55it/s]"
          ]
        },
        {
          "output_type": "stream",
          "name": "stdout",
          "text": [
            "/content/gdrive/MyDrive/george_ds/george/2014.jpg removed\n",
            "/content/gdrive/MyDrive/george_ds/george/2012.jpg removed\n",
            "/content/gdrive/MyDrive/george_ds/george/1993.jpg removed\n",
            "/content/gdrive/MyDrive/george_ds/george/1996.jpg removed\n",
            "/content/gdrive/MyDrive/george_ds/george/1995.jpg removed\n",
            "/content/gdrive/MyDrive/george_ds/george/1988.jpg removed\n",
            "/content/gdrive/MyDrive/george_ds/george/1994.jpg removed\n",
            "/content/gdrive/MyDrive/george_ds/george/1999.jpg removed\n",
            "/content/gdrive/MyDrive/george_ds/george/1992.jpg removed\n",
            "/content/gdrive/MyDrive/george_ds/george/1990.jpg removed\n",
            "/content/gdrive/MyDrive/george_ds/george/1989.jpg removed\n"
          ]
        },
        {
          "output_type": "stream",
          "name": "stderr",
          "text": [
            "\r 84%|████████▍ | 4070/4842 [01:46<00:19, 39.38it/s]"
          ]
        },
        {
          "output_type": "stream",
          "name": "stdout",
          "text": [
            "/content/gdrive/MyDrive/george_ds/george/1998.jpg removed\n",
            "/content/gdrive/MyDrive/george_ds/george/1997.jpg removed\n",
            "/content/gdrive/MyDrive/george_ds/george/1986.jpg removed\n",
            "/content/gdrive/MyDrive/george_ds/george/2120.jpg removed\n",
            "/content/gdrive/MyDrive/george_ds/george/2090.jpg removed\n",
            "/content/gdrive/MyDrive/george_ds/george/1828.jpg removed\n",
            "/content/gdrive/MyDrive/george_ds/george/1832.jpg removed\n",
            "/content/gdrive/MyDrive/george_ds/george/1821.jpg removed\n",
            "/content/gdrive/MyDrive/george_ds/george/1830.jpg removed\n",
            "/content/gdrive/MyDrive/george_ds/george/1831.jpg removed\n"
          ]
        },
        {
          "output_type": "stream",
          "name": "stderr",
          "text": [
            " 84%|████████▍ | 4082/4842 [01:47<00:17, 43.78it/s]"
          ]
        },
        {
          "output_type": "stream",
          "name": "stdout",
          "text": [
            "/content/gdrive/MyDrive/george_ds/george/1823.jpg removed\n",
            "/content/gdrive/MyDrive/george_ds/george/1827.jpg removed\n",
            "/content/gdrive/MyDrive/george_ds/george/1829.jpg removed\n",
            "/content/gdrive/MyDrive/george_ds/george/1825.jpg removed\n",
            "/content/gdrive/MyDrive/george_ds/george/2105.jpg removed\n",
            "/content/gdrive/MyDrive/george_ds/george/1981.jpg removed\n",
            "/content/gdrive/MyDrive/george_ds/george/1977.jpg removed\n",
            "/content/gdrive/MyDrive/george_ds/george/1975.jpg removed\n",
            "/content/gdrive/MyDrive/george_ds/george/1984.jpg removed\n",
            "/content/gdrive/MyDrive/george_ds/george/1983.jpg removed\n"
          ]
        },
        {
          "output_type": "stream",
          "name": "stderr",
          "text": [
            " 85%|████████▍ | 4093/4842 [01:47<00:16, 45.51it/s]"
          ]
        },
        {
          "output_type": "stream",
          "name": "stdout",
          "text": [
            "/content/gdrive/MyDrive/george_ds/george/1978.jpg removed\n",
            "/content/gdrive/MyDrive/george_ds/george/1980.jpg removed\n",
            "/content/gdrive/MyDrive/george_ds/george/1979.jpg removed\n",
            "/content/gdrive/MyDrive/george_ds/george/1973.jpg removed\n",
            "/content/gdrive/MyDrive/george_ds/george/1972.jpg removed\n",
            "/content/gdrive/MyDrive/george_ds/george/1971.jpg removed\n",
            "/content/gdrive/MyDrive/george_ds/george/1963.jpg removed\n",
            "/content/gdrive/MyDrive/george_ds/george/1959.jpg removed\n",
            "/content/gdrive/MyDrive/george_ds/george/1962.jpg removed\n"
          ]
        },
        {
          "output_type": "stream",
          "name": "stderr",
          "text": [
            " 85%|████████▍ | 4103/4842 [01:47<00:18, 40.82it/s]"
          ]
        },
        {
          "output_type": "stream",
          "name": "stdout",
          "text": [
            "/content/gdrive/MyDrive/george_ds/george/1968.jpg removed\n",
            "/content/gdrive/MyDrive/george_ds/george/1965.jpg removed\n",
            "/content/gdrive/MyDrive/george_ds/george/1966.jpg removed\n",
            "/content/gdrive/MyDrive/george_ds/george/1957.jpg removed\n",
            "/content/gdrive/MyDrive/george_ds/george/2030.jpg removed\n",
            "/content/gdrive/MyDrive/george_ds/george/2075.jpg removed\n",
            "/content/gdrive/MyDrive/george_ds/george/2045.jpg removed\n",
            "/content/gdrive/MyDrive/george_ds/george/1887.jpg removed\n",
            "/content/gdrive/MyDrive/george_ds/george/1893.jpg removed\n"
          ]
        },
        {
          "output_type": "stream",
          "name": "stderr",
          "text": [
            " 85%|████████▍ | 4114/4842 [01:47<00:15, 45.67it/s]"
          ]
        },
        {
          "output_type": "stream",
          "name": "stdout",
          "text": [
            "/content/gdrive/MyDrive/george_ds/george/1885.jpg removed\n",
            "/content/gdrive/MyDrive/george_ds/george/1889.jpg removed\n",
            "/content/gdrive/MyDrive/george_ds/george/1886.jpg removed\n",
            "/content/gdrive/MyDrive/george_ds/george/1892.jpg removed\n",
            "/content/gdrive/MyDrive/george_ds/george/1894.jpg removed\n",
            "/content/gdrive/MyDrive/george_ds/george/2060.jpg removed\n",
            "/content/gdrive/MyDrive/george_ds/george/1848.jpg removed\n",
            "/content/gdrive/MyDrive/george_ds/george/1845.jpg removed\n",
            "/content/gdrive/MyDrive/george_ds/george/1843.jpg removed\n",
            "/content/gdrive/MyDrive/george_ds/george/1849.jpg removed\n",
            "/content/gdrive/MyDrive/george_ds/george/1847.jpg removed\n"
          ]
        },
        {
          "output_type": "stream",
          "name": "stderr",
          "text": [
            "\r 85%|████████▌ | 4119/4842 [01:47<00:15, 45.36it/s]"
          ]
        },
        {
          "output_type": "stream",
          "name": "stdout",
          "text": [
            "/content/gdrive/MyDrive/george_ds/george/1837.jpg removed\n",
            "/content/gdrive/MyDrive/george_ds/george/1838.jpg removed\n",
            "/content/gdrive/MyDrive/george_ds/george/1836.jpg removed\n",
            "/content/gdrive/MyDrive/george_ds/george/1954.jpg removed\n",
            "/content/gdrive/MyDrive/george_ds/george/1947.jpg removed\n",
            "/content/gdrive/MyDrive/george_ds/george/1953.jpg removed\n",
            "/content/gdrive/MyDrive/george_ds/george/1946.jpg removed\n",
            "/content/gdrive/MyDrive/george_ds/george/1943.jpg removed\n"
          ]
        },
        {
          "output_type": "stream",
          "name": "stderr",
          "text": [
            " 85%|████████▌ | 4129/4842 [01:48<00:19, 36.78it/s]"
          ]
        },
        {
          "output_type": "stream",
          "name": "stdout",
          "text": [
            "/content/gdrive/MyDrive/george_ds/george/1941.jpg removed\n",
            "/content/gdrive/MyDrive/george_ds/george/1935.jpg removed\n",
            "/content/gdrive/MyDrive/george_ds/george/1930.jpg removed\n",
            "/content/gdrive/MyDrive/george_ds/george/1934.jpg removed\n",
            "/content/gdrive/MyDrive/george_ds/george/1928.jpg removed\n",
            "/content/gdrive/MyDrive/george_ds/george/1938.jpg removed\n",
            "/content/gdrive/MyDrive/george_ds/george/1931.jpg removed\n"
          ]
        },
        {
          "output_type": "stream",
          "name": "stderr",
          "text": [
            "\r 85%|████████▌ | 4136/4842 [01:48<00:16, 42.33it/s]"
          ]
        },
        {
          "output_type": "stream",
          "name": "stdout",
          "text": [
            "/content/gdrive/MyDrive/george_ds/george/1937.jpg removed\n",
            "/content/gdrive/MyDrive/george_ds/george/1926.jpg removed\n",
            "/content/gdrive/MyDrive/george_ds/george/1909.jpg removed\n",
            "/content/gdrive/MyDrive/george_ds/george/1899.jpg removed\n",
            "/content/gdrive/MyDrive/george_ds/george/1904.jpg removed\n",
            "/content/gdrive/MyDrive/george_ds/george/1908.jpg removed\n",
            "/content/gdrive/MyDrive/george_ds/george/1902.jpg removed\n",
            "/content/gdrive/MyDrive/george_ds/george/1906.jpg removed\n",
            "/content/gdrive/MyDrive/george_ds/george/1905.jpg removed\n",
            "/content/gdrive/MyDrive/george_ds/george/1903.jpg removed\n",
            "/content/gdrive/MyDrive/george_ds/george/1907.jpg removed\n"
          ]
        },
        {
          "output_type": "stream",
          "name": "stderr",
          "text": [
            " 86%|████████▌ | 4146/4842 [01:48<00:16, 42.30it/s]"
          ]
        },
        {
          "output_type": "stream",
          "name": "stdout",
          "text": [
            "/content/gdrive/MyDrive/george_ds/george/1900.jpg removed\n",
            "/content/gdrive/MyDrive/george_ds/george/1898.jpg removed\n",
            "/content/gdrive/MyDrive/george_ds/george/1896.jpg removed\n",
            "/content/gdrive/MyDrive/george_ds/george/1921.jpg removed\n",
            "/content/gdrive/MyDrive/george_ds/george/1915.jpg removed\n",
            "/content/gdrive/MyDrive/george_ds/george/1918.jpg removed\n",
            "/content/gdrive/MyDrive/george_ds/george/1922.jpg removed\n",
            "/content/gdrive/MyDrive/george_ds/george/1911.jpg removed\n",
            "/content/gdrive/MyDrive/george_ds/george/2015.jpg removed\n"
          ]
        },
        {
          "output_type": "stream",
          "name": "stderr",
          "text": [
            " 86%|████████▌ | 4157/4842 [01:48<00:15, 45.61it/s]"
          ]
        },
        {
          "output_type": "stream",
          "name": "stdout",
          "text": [
            "/content/gdrive/MyDrive/george_ds/george/2000.jpg removed\n",
            "/content/gdrive/MyDrive/george_ds/george/1756.jpg removed\n",
            "/content/gdrive/MyDrive/george_ds/george/1746.jpg removed\n",
            "/content/gdrive/MyDrive/george_ds/george/1755.jpg removed\n",
            "/content/gdrive/MyDrive/george_ds/george/1759.jpg removed\n",
            "/content/gdrive/MyDrive/george_ds/george/1748.jpg removed\n",
            "/content/gdrive/MyDrive/george_ds/george/1747.jpg removed\n",
            "/content/gdrive/MyDrive/george_ds/george/1791.jpg removed\n",
            "/content/gdrive/MyDrive/george_ds/george/1804.jpg removed\n",
            "/content/gdrive/MyDrive/george_ds/george/1795.jpg removed\n"
          ]
        },
        {
          "output_type": "stream",
          "name": "stderr",
          "text": [
            " 86%|████████▌ | 4167/4842 [01:49<00:15, 42.38it/s]"
          ]
        },
        {
          "output_type": "stream",
          "name": "stdout",
          "text": [
            "/content/gdrive/MyDrive/george_ds/george/1799.jpg removed\n",
            "/content/gdrive/MyDrive/george_ds/george/1803.jpg removed\n",
            "/content/gdrive/MyDrive/george_ds/george/1797.jpg removed\n",
            "/content/gdrive/MyDrive/george_ds/george/1985.jpg removed\n",
            "/content/gdrive/MyDrive/george_ds/george/1769.jpg removed\n",
            "/content/gdrive/MyDrive/george_ds/george/1762.jpg removed\n",
            "/content/gdrive/MyDrive/george_ds/george/1764.jpg removed\n",
            "/content/gdrive/MyDrive/george_ds/george/1773.jpg removed\n",
            "/content/gdrive/MyDrive/george_ds/george/1766.jpg removed\n"
          ]
        },
        {
          "output_type": "stream",
          "name": "stderr",
          "text": [
            "\r 86%|████████▌ | 4172/4842 [01:49<00:17, 38.78it/s]"
          ]
        },
        {
          "output_type": "stream",
          "name": "stdout",
          "text": [
            "/content/gdrive/MyDrive/george_ds/george/1758.jpg removed\n",
            "/content/gdrive/MyDrive/george_ds/george/1858.jpg removed\n",
            "/content/gdrive/MyDrive/george_ds/george/1860.jpg removed\n",
            "/content/gdrive/MyDrive/george_ds/george/1862.jpg removed\n",
            "/content/gdrive/MyDrive/george_ds/george/1856.jpg removed\n",
            "/content/gdrive/MyDrive/george_ds/george/1863.jpg removed\n"
          ]
        },
        {
          "output_type": "stream",
          "name": "stderr",
          "text": [
            " 86%|████████▋ | 4180/4842 [01:49<00:18, 36.20it/s]"
          ]
        },
        {
          "output_type": "stream",
          "name": "stdout",
          "text": [
            "/content/gdrive/MyDrive/george_ds/george/1855.jpg removed\n",
            "/content/gdrive/MyDrive/george_ds/george/1851.jpg removed\n",
            "/content/gdrive/MyDrive/george_ds/george/1871.jpg removed\n",
            "/content/gdrive/MyDrive/george_ds/george/1870.jpg removed\n",
            "/content/gdrive/MyDrive/george_ds/george/1872.jpg removed\n",
            "/content/gdrive/MyDrive/george_ds/george/1875.jpg removed\n",
            "/content/gdrive/MyDrive/george_ds/george/1869.jpg removed\n"
          ]
        },
        {
          "output_type": "stream",
          "name": "stderr",
          "text": [
            "\r 86%|████████▋ | 4184/4842 [01:49<00:21, 30.93it/s]"
          ]
        },
        {
          "output_type": "stream",
          "name": "stdout",
          "text": [
            "/content/gdrive/MyDrive/george_ds/george/1878.jpg removed\n",
            "/content/gdrive/MyDrive/george_ds/george/1874.jpg removed\n",
            "/content/gdrive/MyDrive/george_ds/george/1868.jpg removed\n",
            "/content/gdrive/MyDrive/george_ds/george/1867.jpg removed\n",
            "/content/gdrive/MyDrive/george_ds/george/1866.jpg removed\n",
            "/content/gdrive/MyDrive/george_ds/george/1834.jpg removed\n"
          ]
        },
        {
          "output_type": "stream",
          "name": "stderr",
          "text": [
            " 87%|████████▋ | 4193/4842 [01:50<00:20, 32.25it/s]"
          ]
        },
        {
          "output_type": "stream",
          "name": "stdout",
          "text": [
            "/content/gdrive/MyDrive/george_ds/george/1822.jpg removed\n",
            "/content/gdrive/MyDrive/george_ds/george/1826.jpg removed\n",
            "/content/gdrive/MyDrive/george_ds/george/1824.jpg removed\n",
            "/content/gdrive/MyDrive/george_ds/george/1833.jpg removed\n",
            "/content/gdrive/MyDrive/george_ds/george/1970.jpg removed\n",
            "/content/gdrive/MyDrive/george_ds/george/1955.jpg removed\n",
            "/content/gdrive/MyDrive/george_ds/george/1776.jpg removed\n",
            "/content/gdrive/MyDrive/george_ds/george/1789.jpg removed\n"
          ]
        },
        {
          "output_type": "stream",
          "name": "stderr",
          "text": [
            " 87%|████████▋ | 4202/4842 [01:50<00:17, 35.84it/s]"
          ]
        },
        {
          "output_type": "stream",
          "name": "stdout",
          "text": [
            "/content/gdrive/MyDrive/george_ds/george/1779.jpg removed\n",
            "/content/gdrive/MyDrive/george_ds/george/1786.jpg removed\n",
            "/content/gdrive/MyDrive/george_ds/george/1787.jpg removed\n",
            "/content/gdrive/MyDrive/george_ds/george/1785.jpg removed\n",
            "/content/gdrive/MyDrive/george_ds/george/1784.jpg removed\n",
            "/content/gdrive/MyDrive/george_ds/george/1783.jpg removed\n",
            "/content/gdrive/MyDrive/george_ds/george/1817.jpg removed\n",
            "/content/gdrive/MyDrive/george_ds/george/1818.jpg removed\n",
            "/content/gdrive/MyDrive/george_ds/george/1809.jpg removed\n"
          ]
        },
        {
          "output_type": "stream",
          "name": "stderr",
          "text": [
            " 87%|████████▋ | 4211/4842 [01:50<00:18, 33.57it/s]"
          ]
        },
        {
          "output_type": "stream",
          "name": "stdout",
          "text": [
            "/content/gdrive/MyDrive/george_ds/george/1808.jpg removed\n",
            "/content/gdrive/MyDrive/george_ds/george/1815.jpg removed\n",
            "/content/gdrive/MyDrive/george_ds/george/1814.jpg removed\n",
            "/content/gdrive/MyDrive/george_ds/george/1813.jpg removed\n",
            "/content/gdrive/MyDrive/george_ds/george/1811.jpg removed\n",
            "/content/gdrive/MyDrive/george_ds/george/1819.jpg removed\n",
            "/content/gdrive/MyDrive/george_ds/george/1810.jpg removed\n"
          ]
        },
        {
          "output_type": "stream",
          "name": "stderr",
          "text": [
            "\r 87%|████████▋ | 4215/4842 [01:50<00:20, 31.28it/s]"
          ]
        },
        {
          "output_type": "stream",
          "name": "stdout",
          "text": [
            "/content/gdrive/MyDrive/george_ds/george/1816.jpg removed\n",
            "/content/gdrive/MyDrive/george_ds/george/1812.jpg removed\n",
            "/content/gdrive/MyDrive/george_ds/george/1807.jpg removed\n",
            "/content/gdrive/MyDrive/george_ds/george/1806.jpg removed\n",
            "/content/gdrive/MyDrive/george_ds/george/1713.jpg removed\n",
            "/content/gdrive/MyDrive/george_ds/george/1706.jpg removed\n",
            "/content/gdrive/MyDrive/george_ds/george/1710.jpg removed\n"
          ]
        },
        {
          "output_type": "stream",
          "name": "stderr",
          "text": [
            " 87%|████████▋ | 4224/4842 [01:50<00:17, 35.51it/s]"
          ]
        },
        {
          "output_type": "stream",
          "name": "stdout",
          "text": [
            "/content/gdrive/MyDrive/george_ds/george/1712.jpg removed\n",
            "/content/gdrive/MyDrive/george_ds/george/1703.jpg removed\n",
            "/content/gdrive/MyDrive/george_ds/george/1839.jpg removed\n",
            "/content/gdrive/MyDrive/george_ds/george/1840.jpg removed\n",
            "/content/gdrive/MyDrive/george_ds/george/1846.jpg removed\n",
            "/content/gdrive/MyDrive/george_ds/george/1841.jpg removed\n",
            "/content/gdrive/MyDrive/george_ds/george/1844.jpg removed\n",
            "/content/gdrive/MyDrive/george_ds/george/1842.jpg removed\n"
          ]
        },
        {
          "output_type": "stream",
          "name": "stderr",
          "text": [
            " 87%|████████▋ | 4232/4842 [01:51<00:18, 33.53it/s]"
          ]
        },
        {
          "output_type": "stream",
          "name": "stdout",
          "text": [
            "/content/gdrive/MyDrive/george_ds/george/1882.jpg removed\n",
            "/content/gdrive/MyDrive/george_ds/george/1881.jpg removed\n",
            "/content/gdrive/MyDrive/george_ds/george/1704.jpg removed\n",
            "/content/gdrive/MyDrive/george_ds/george/1701.jpg removed\n",
            "/content/gdrive/MyDrive/george_ds/george/1940.jpg removed\n",
            "/content/gdrive/MyDrive/george_ds/george/1895.jpg removed\n",
            "/content/gdrive/MyDrive/george_ds/george/1925.jpg removed\n"
          ]
        },
        {
          "output_type": "stream",
          "name": "stderr",
          "text": [
            "\r 87%|████████▋ | 4236/4842 [01:51<00:19, 31.48it/s]"
          ]
        },
        {
          "output_type": "stream",
          "name": "stdout",
          "text": [
            "/content/gdrive/MyDrive/george_ds/george/1721.jpg removed\n",
            "/content/gdrive/MyDrive/george_ds/george/1729.jpg removed\n",
            "/content/gdrive/MyDrive/george_ds/george/1720.jpg removed\n",
            "/content/gdrive/MyDrive/george_ds/george/1716.jpg removed\n",
            "/content/gdrive/MyDrive/george_ds/george/1719.jpg removed\n",
            "/content/gdrive/MyDrive/george_ds/george/1726.jpg removed\n"
          ]
        },
        {
          "output_type": "stream",
          "name": "stderr",
          "text": [
            " 88%|████████▊ | 4243/4842 [01:51<00:21, 27.89it/s]"
          ]
        },
        {
          "output_type": "stream",
          "name": "stdout",
          "text": [
            "/content/gdrive/MyDrive/george_ds/george/1734.jpg removed\n",
            "/content/gdrive/MyDrive/george_ds/george/1739.jpg removed\n",
            "/content/gdrive/MyDrive/george_ds/george/1736.jpg removed\n",
            "/content/gdrive/MyDrive/george_ds/george/1741.jpg removed\n",
            "/content/gdrive/MyDrive/george_ds/george/1738.jpg removed\n",
            "/content/gdrive/MyDrive/george_ds/george/1737.jpg removed\n"
          ]
        },
        {
          "output_type": "stream",
          "name": "stderr",
          "text": [
            " 88%|████████▊ | 4249/4842 [01:51<00:22, 26.72it/s]"
          ]
        },
        {
          "output_type": "stream",
          "name": "stdout",
          "text": [
            "/content/gdrive/MyDrive/george_ds/george/1740.jpg removed\n",
            "/content/gdrive/MyDrive/george_ds/george/1731.jpg removed\n",
            "/content/gdrive/MyDrive/george_ds/george/1910.jpg removed\n",
            "/content/gdrive/MyDrive/george_ds/george/1794.jpg removed\n",
            "/content/gdrive/MyDrive/george_ds/george/1801.jpg removed\n",
            "/content/gdrive/MyDrive/george_ds/george/1798.jpg removed\n"
          ]
        },
        {
          "output_type": "stream",
          "name": "stderr",
          "text": [
            " 88%|████████▊ | 4255/4842 [01:52<00:21, 27.91it/s]"
          ]
        },
        {
          "output_type": "stream",
          "name": "stdout",
          "text": [
            "/content/gdrive/MyDrive/george_ds/george/1800.jpg removed\n",
            "/content/gdrive/MyDrive/george_ds/george/1796.jpg removed\n",
            "/content/gdrive/MyDrive/george_ds/george/1802.jpg removed\n",
            "/content/gdrive/MyDrive/george_ds/george/1793.jpg removed\n",
            "/content/gdrive/MyDrive/george_ds/george/1792.jpg removed\n",
            "/content/gdrive/MyDrive/george_ds/george/1757.jpg removed\n",
            "/content/gdrive/MyDrive/george_ds/george/1754.jpg removed\n",
            "/content/gdrive/MyDrive/george_ds/george/1749.jpg removed\n"
          ]
        },
        {
          "output_type": "stream",
          "name": "stderr",
          "text": [
            " 88%|████████▊ | 4264/4842 [01:52<00:17, 33.26it/s]"
          ]
        },
        {
          "output_type": "stream",
          "name": "stdout",
          "text": [
            "/content/gdrive/MyDrive/george_ds/george/1751.jpg removed\n",
            "/content/gdrive/MyDrive/george_ds/george/1752.jpg removed\n",
            "/content/gdrive/MyDrive/george_ds/george/1750.jpg removed\n",
            "/content/gdrive/MyDrive/george_ds/george/1753.jpg removed\n",
            "/content/gdrive/MyDrive/george_ds/george/1774.jpg removed\n",
            "/content/gdrive/MyDrive/george_ds/george/1767.jpg removed\n",
            "/content/gdrive/MyDrive/george_ds/george/1772.jpg removed\n",
            "/content/gdrive/MyDrive/george_ds/george/1768.jpg removed\n"
          ]
        },
        {
          "output_type": "stream",
          "name": "stderr",
          "text": [
            " 88%|████████▊ | 4272/4842 [01:52<00:16, 33.56it/s]"
          ]
        },
        {
          "output_type": "stream",
          "name": "stdout",
          "text": [
            "/content/gdrive/MyDrive/george_ds/george/1771.jpg removed\n",
            "/content/gdrive/MyDrive/george_ds/george/1770.jpg removed\n",
            "/content/gdrive/MyDrive/george_ds/george/1765.jpg removed\n",
            "/content/gdrive/MyDrive/george_ds/george/1763.jpg removed\n",
            "/content/gdrive/MyDrive/george_ds/george/1761.jpg removed\n",
            "/content/gdrive/MyDrive/george_ds/george/1781.jpg removed\n",
            "/content/gdrive/MyDrive/george_ds/george/1778.jpg removed\n",
            "/content/gdrive/MyDrive/george_ds/george/1780.jpg removed\n",
            "/content/gdrive/MyDrive/george_ds/george/1788.jpg removed\n"
          ]
        },
        {
          "output_type": "stream",
          "name": "stderr",
          "text": [
            "\r 88%|████████▊ | 4278/4842 [01:52<00:19, 28.79it/s]"
          ]
        },
        {
          "output_type": "stream",
          "name": "stdout",
          "text": [
            "/content/gdrive/MyDrive/george_ds/george/1782.jpg removed\n",
            "/content/gdrive/MyDrive/george_ds/george/1777.jpg removed\n",
            "/content/gdrive/MyDrive/george_ds/george/1850.jpg removed\n",
            "/content/gdrive/MyDrive/george_ds/george/1880.jpg removed\n"
          ]
        },
        {
          "output_type": "stream",
          "name": "stderr",
          "text": [
            "\r 88%|████████▊ | 4282/4842 [01:53<00:42, 13.17it/s]"
          ]
        },
        {
          "output_type": "stream",
          "name": "stdout",
          "text": [
            "/content/gdrive/MyDrive/george_ds/george/1865.jpg removed\n",
            "/content/gdrive/MyDrive/george_ds/george/1659.jpg removed\n"
          ]
        },
        {
          "output_type": "stream",
          "name": "stderr",
          "text": [
            " 89%|████████▊ | 4289/4842 [01:53<00:33, 16.49it/s]"
          ]
        },
        {
          "output_type": "stream",
          "name": "stdout",
          "text": [
            "/content/gdrive/MyDrive/george_ds/george/1664.jpg removed\n",
            "/content/gdrive/MyDrive/george_ds/george/1667.jpg removed\n",
            "/content/gdrive/MyDrive/george_ds/george/1668.jpg removed\n",
            "/content/gdrive/MyDrive/george_ds/george/1665.jpg removed\n",
            "/content/gdrive/MyDrive/george_ds/george/1657.jpg removed\n",
            "/content/gdrive/MyDrive/george_ds/george/1661.jpg removed\n",
            "/content/gdrive/MyDrive/george_ds/george/1697.jpg removed\n"
          ]
        },
        {
          "output_type": "stream",
          "name": "stderr",
          "text": [
            " 89%|████████▊ | 4295/4842 [01:54<00:27, 19.68it/s]"
          ]
        },
        {
          "output_type": "stream",
          "name": "stdout",
          "text": [
            "/content/gdrive/MyDrive/george_ds/george/1695.jpg removed\n",
            "/content/gdrive/MyDrive/george_ds/george/1691.jpg removed\n",
            "/content/gdrive/MyDrive/george_ds/george/1694.jpg removed\n",
            "/content/gdrive/MyDrive/george_ds/george/1693.jpg removed\n",
            "/content/gdrive/MyDrive/george_ds/george/1688.jpg removed\n",
            "/content/gdrive/MyDrive/george_ds/george/1699.jpg removed\n"
          ]
        },
        {
          "output_type": "stream",
          "name": "stderr",
          "text": [
            "\r 89%|████████▉ | 4298/4842 [01:54<00:39, 13.85it/s]"
          ]
        },
        {
          "output_type": "stream",
          "name": "stdout",
          "text": [
            "/content/gdrive/MyDrive/george_ds/george/1820.jpg removed\n",
            "/content/gdrive/MyDrive/george_ds/george/1702.jpg removed\n",
            "/content/gdrive/MyDrive/george_ds/george/1709.jpg removed\n",
            "/content/gdrive/MyDrive/george_ds/george/1711.jpg removed\n",
            "/content/gdrive/MyDrive/george_ds/george/1707.jpg removed\n",
            "/content/gdrive/MyDrive/george_ds/george/1708.jpg removed\n"
          ]
        },
        {
          "output_type": "stream",
          "name": "stderr",
          "text": [
            " 89%|████████▉ | 4308/4842 [01:54<00:23, 23.11it/s]"
          ]
        },
        {
          "output_type": "stream",
          "name": "stdout",
          "text": [
            "/content/gdrive/MyDrive/george_ds/george/1714.jpg removed\n",
            "/content/gdrive/MyDrive/george_ds/george/1705.jpg removed\n",
            "/content/gdrive/MyDrive/george_ds/george/1683.jpg removed\n",
            "/content/gdrive/MyDrive/george_ds/george/1671.jpg removed\n",
            "/content/gdrive/MyDrive/george_ds/george/1744.jpg removed\n",
            "/content/gdrive/MyDrive/george_ds/george/1742.jpg removed\n",
            "/content/gdrive/MyDrive/george_ds/george/1735.jpg removed\n"
          ]
        },
        {
          "output_type": "stream",
          "name": "stderr",
          "text": [
            " 89%|████████▉ | 4318/4842 [01:54<00:16, 32.48it/s]"
          ]
        },
        {
          "output_type": "stream",
          "name": "stdout",
          "text": [
            "/content/gdrive/MyDrive/george_ds/george/1743.jpg removed\n",
            "/content/gdrive/MyDrive/george_ds/george/1733.jpg removed\n",
            "/content/gdrive/MyDrive/george_ds/george/1732.jpg removed\n",
            "/content/gdrive/MyDrive/george_ds/george/1728.jpg removed\n",
            "/content/gdrive/MyDrive/george_ds/george/1724.jpg removed\n",
            "/content/gdrive/MyDrive/george_ds/george/1725.jpg removed\n",
            "/content/gdrive/MyDrive/george_ds/george/1723.jpg removed\n",
            "/content/gdrive/MyDrive/george_ds/george/1727.jpg removed\n",
            "/content/gdrive/MyDrive/george_ds/george/1722.jpg removed\n",
            "/content/gdrive/MyDrive/george_ds/george/1718.jpg removed\n"
          ]
        },
        {
          "output_type": "stream",
          "name": "stderr",
          "text": [
            " 89%|████████▉ | 4329/4842 [01:55<00:12, 42.28it/s]"
          ]
        },
        {
          "output_type": "stream",
          "name": "stdout",
          "text": [
            "/content/gdrive/MyDrive/george_ds/george/1717.jpg removed\n",
            "/content/gdrive/MyDrive/george_ds/george/1835.jpg removed\n",
            "/content/gdrive/MyDrive/george_ds/george/1805.jpg removed\n",
            "/content/gdrive/MyDrive/george_ds/george/1681.jpg removed\n",
            "/content/gdrive/MyDrive/george_ds/george/1674.jpg removed\n",
            "/content/gdrive/MyDrive/george_ds/george/1676.jpg removed\n",
            "/content/gdrive/MyDrive/george_ds/george/1673.jpg removed\n",
            "/content/gdrive/MyDrive/george_ds/george/1663.jpg removed\n",
            "/content/gdrive/MyDrive/george_ds/george/1666.jpg removed\n",
            "/content/gdrive/MyDrive/george_ds/george/1660.jpg removed\n",
            "/content/gdrive/MyDrive/george_ds/george/1662.jpg removed\n"
          ]
        },
        {
          "output_type": "stream",
          "name": "stderr",
          "text": [
            "\r 90%|████████▉ | 4334/4842 [01:55<00:12, 40.14it/s]"
          ]
        },
        {
          "output_type": "stream",
          "name": "stdout",
          "text": [
            "/content/gdrive/MyDrive/george_ds/george/1669.jpg removed\n",
            "/content/gdrive/MyDrive/george_ds/george/1658.jpg removed\n",
            "/content/gdrive/MyDrive/george_ds/george/1656.jpg removed\n",
            "/content/gdrive/MyDrive/george_ds/george/1696.jpg removed\n",
            "/content/gdrive/MyDrive/george_ds/george/1698.jpg removed\n",
            "/content/gdrive/MyDrive/george_ds/george/1692.jpg removed\n",
            "/content/gdrive/MyDrive/george_ds/george/1690.jpg removed\n",
            "/content/gdrive/MyDrive/george_ds/george/1689.jpg removed\n",
            "/content/gdrive/MyDrive/george_ds/george/1687.jpg removed\n",
            "/content/gdrive/MyDrive/george_ds/george/1686.jpg removed\n"
          ]
        },
        {
          "output_type": "stream",
          "name": "stderr",
          "text": [
            " 90%|████████▉ | 4345/4842 [01:55<00:11, 42.17it/s]"
          ]
        },
        {
          "output_type": "stream",
          "name": "stdout",
          "text": [
            "/content/gdrive/MyDrive/george_ds/george/1679.jpg removed\n",
            "/content/gdrive/MyDrive/george_ds/george/1680.jpg removed\n",
            "/content/gdrive/MyDrive/george_ds/george/1677.jpg removed\n",
            "/content/gdrive/MyDrive/george_ds/george/1682.jpg removed\n",
            "/content/gdrive/MyDrive/george_ds/george/1684.jpg removed\n",
            "/content/gdrive/MyDrive/george_ds/george/1675.jpg removed\n",
            "/content/gdrive/MyDrive/george_ds/george/1678.jpg removed\n",
            "/content/gdrive/MyDrive/george_ds/george/1672.jpg removed\n",
            "/content/gdrive/MyDrive/george_ds/george/1745.jpg removed\n"
          ]
        },
        {
          "output_type": "stream",
          "name": "stderr",
          "text": [
            " 90%|████████▉ | 4356/4842 [01:55<00:10, 45.62it/s]"
          ]
        },
        {
          "output_type": "stream",
          "name": "stdout",
          "text": [
            "/content/gdrive/MyDrive/george_ds/george/1631.jpg removed\n",
            "/content/gdrive/MyDrive/george_ds/george/1627.jpg removed\n",
            "/content/gdrive/MyDrive/george_ds/george/1636.jpg removed\n",
            "/content/gdrive/MyDrive/george_ds/george/1630.jpg removed\n",
            "/content/gdrive/MyDrive/george_ds/george/1632.jpg removed\n",
            "/content/gdrive/MyDrive/george_ds/george/1626.jpg removed\n",
            "/content/gdrive/MyDrive/george_ds/george/1614.jpg removed\n",
            "/content/gdrive/MyDrive/george_ds/george/1624.jpg removed\n",
            "/content/gdrive/MyDrive/george_ds/george/1621.jpg removed\n",
            "/content/gdrive/MyDrive/george_ds/george/1615.jpg removed\n"
          ]
        },
        {
          "output_type": "stream",
          "name": "stderr",
          "text": [
            " 90%|█████████ | 4366/4842 [01:55<00:11, 42.06it/s]"
          ]
        },
        {
          "output_type": "stream",
          "name": "stdout",
          "text": [
            "/content/gdrive/MyDrive/george_ds/george/1622.jpg removed\n",
            "/content/gdrive/MyDrive/george_ds/george/1790.jpg removed\n",
            "/content/gdrive/MyDrive/george_ds/george/1760.jpg removed\n",
            "/content/gdrive/MyDrive/george_ds/george/1577.jpg removed\n",
            "/content/gdrive/MyDrive/george_ds/george/1575.jpg removed\n",
            "/content/gdrive/MyDrive/george_ds/george/1568.jpg removed\n",
            "/content/gdrive/MyDrive/george_ds/george/1570.jpg removed\n",
            "/content/gdrive/MyDrive/george_ds/george/1646.jpg removed\n",
            "/content/gdrive/MyDrive/george_ds/george/1645.jpg removed\n",
            "/content/gdrive/MyDrive/george_ds/george/1644.jpg removed\n"
          ]
        },
        {
          "output_type": "stream",
          "name": "stderr",
          "text": [
            " 90%|█████████ | 4376/4842 [01:56<00:11, 41.66it/s]"
          ]
        },
        {
          "output_type": "stream",
          "name": "stdout",
          "text": [
            "/content/gdrive/MyDrive/george_ds/george/1651.jpg removed\n",
            "/content/gdrive/MyDrive/george_ds/george/1650.jpg removed\n",
            "/content/gdrive/MyDrive/george_ds/george/1613.jpg removed\n",
            "/content/gdrive/MyDrive/george_ds/george/1775.jpg removed\n",
            "/content/gdrive/MyDrive/george_ds/george/1605.jpg removed\n",
            "/content/gdrive/MyDrive/george_ds/george/1609.jpg removed\n",
            "/content/gdrive/MyDrive/george_ds/george/1608.jpg removed\n",
            "/content/gdrive/MyDrive/george_ds/george/1599.jpg removed\n",
            "/content/gdrive/MyDrive/george_ds/george/1602.jpg removed\n"
          ]
        },
        {
          "output_type": "stream",
          "name": "stderr",
          "text": [
            " 91%|█████████ | 4386/4842 [01:56<00:10, 41.63it/s]"
          ]
        },
        {
          "output_type": "stream",
          "name": "stdout",
          "text": [
            "/content/gdrive/MyDrive/george_ds/george/1604.jpg removed\n",
            "/content/gdrive/MyDrive/george_ds/george/1603.jpg removed\n",
            "/content/gdrive/MyDrive/george_ds/george/1569.jpg removed\n",
            "/content/gdrive/MyDrive/george_ds/george/1576.jpg removed\n",
            "/content/gdrive/MyDrive/george_ds/george/1571.jpg removed\n",
            "/content/gdrive/MyDrive/george_ds/george/1572.jpg removed\n",
            "/content/gdrive/MyDrive/george_ds/george/1634.jpg removed\n",
            "/content/gdrive/MyDrive/george_ds/george/1638.jpg removed\n",
            "/content/gdrive/MyDrive/george_ds/george/1635.jpg removed\n"
          ]
        },
        {
          "output_type": "stream",
          "name": "stderr",
          "text": [
            "\r 91%|█████████ | 4391/4842 [01:56<00:11, 39.28it/s]"
          ]
        },
        {
          "output_type": "stream",
          "name": "stdout",
          "text": [
            "/content/gdrive/MyDrive/george_ds/george/1629.jpg removed\n",
            "/content/gdrive/MyDrive/george_ds/george/1633.jpg removed\n",
            "/content/gdrive/MyDrive/george_ds/george/1637.jpg removed\n",
            "/content/gdrive/MyDrive/george_ds/george/1639.jpg removed\n",
            "/content/gdrive/MyDrive/george_ds/george/1628.jpg removed\n",
            "/content/gdrive/MyDrive/george_ds/george/1594.jpg removed\n",
            "/content/gdrive/MyDrive/george_ds/george/1582.jpg removed\n",
            "/content/gdrive/MyDrive/george_ds/george/1581.jpg removed\n",
            "/content/gdrive/MyDrive/george_ds/george/1585.jpg removed\n"
          ]
        },
        {
          "output_type": "stream",
          "name": "stderr",
          "text": [
            " 91%|█████████ | 4403/4842 [01:56<00:09, 45.40it/s]"
          ]
        },
        {
          "output_type": "stream",
          "name": "stdout",
          "text": [
            "/content/gdrive/MyDrive/george_ds/george/1586.jpg removed\n",
            "/content/gdrive/MyDrive/george_ds/george/1619.jpg removed\n",
            "/content/gdrive/MyDrive/george_ds/george/1618.jpg removed\n",
            "/content/gdrive/MyDrive/george_ds/george/1616.jpg removed\n",
            "/content/gdrive/MyDrive/george_ds/george/1620.jpg removed\n",
            "/content/gdrive/MyDrive/george_ds/george/1623.jpg removed\n",
            "/content/gdrive/MyDrive/george_ds/george/1617.jpg removed\n",
            "/content/gdrive/MyDrive/george_ds/george/1612.jpg removed\n",
            "/content/gdrive/MyDrive/george_ds/george/1611.jpg removed\n",
            "/content/gdrive/MyDrive/george_ds/george/1647.jpg removed\n",
            "/content/gdrive/MyDrive/george_ds/george/1653.jpg removed\n"
          ]
        },
        {
          "output_type": "stream",
          "name": "stderr",
          "text": [
            " 91%|█████████ | 4413/4842 [01:57<00:09, 45.48it/s]"
          ]
        },
        {
          "output_type": "stream",
          "name": "stdout",
          "text": [
            "/content/gdrive/MyDrive/george_ds/george/1643.jpg removed\n",
            "/content/gdrive/MyDrive/george_ds/george/1654.jpg removed\n",
            "/content/gdrive/MyDrive/george_ds/george/1648.jpg removed\n",
            "/content/gdrive/MyDrive/george_ds/george/1652.jpg removed\n",
            "/content/gdrive/MyDrive/george_ds/george/1649.jpg removed\n",
            "/content/gdrive/MyDrive/george_ds/george/1642.jpg removed\n",
            "/content/gdrive/MyDrive/george_ds/george/1641.jpg removed\n",
            "/content/gdrive/MyDrive/george_ds/george/1700.jpg removed\n",
            "/content/gdrive/MyDrive/george_ds/george/1715.jpg removed\n",
            "/content/gdrive/MyDrive/george_ds/george/1730.jpg removed\n"
          ]
        },
        {
          "output_type": "stream",
          "name": "stderr",
          "text": [
            " 91%|█████████▏| 4424/4842 [01:57<00:09, 45.52it/s]"
          ]
        },
        {
          "output_type": "stream",
          "name": "stdout",
          "text": [
            "/content/gdrive/MyDrive/george_ds/george/1540.jpg removed\n",
            "/content/gdrive/MyDrive/george_ds/george/1578.jpg removed\n",
            "/content/gdrive/MyDrive/george_ds/george/1574.jpg removed\n",
            "/content/gdrive/MyDrive/george_ds/george/1573.jpg removed\n",
            "/content/gdrive/MyDrive/george_ds/george/1579.jpg removed\n",
            "/content/gdrive/MyDrive/george_ds/george/1567.jpg removed\n",
            "/content/gdrive/MyDrive/george_ds/george/1566.jpg removed\n",
            "/content/gdrive/MyDrive/george_ds/george/1607.jpg removed\n"
          ]
        },
        {
          "output_type": "stream",
          "name": "stderr",
          "text": [
            "\r 91%|█████████▏| 4429/4842 [01:57<00:10, 41.13it/s]"
          ]
        },
        {
          "output_type": "stream",
          "name": "stdout",
          "text": [
            "/content/gdrive/MyDrive/george_ds/george/1598.jpg removed\n",
            "/content/gdrive/MyDrive/george_ds/george/1597.jpg removed\n",
            "/content/gdrive/MyDrive/george_ds/george/1601.jpg removed\n",
            "/content/gdrive/MyDrive/george_ds/george/1606.jpg removed\n",
            "/content/gdrive/MyDrive/george_ds/george/1600.jpg removed\n",
            "/content/gdrive/MyDrive/george_ds/george/1596.jpg removed\n",
            "/content/gdrive/MyDrive/george_ds/george/1584.jpg removed\n",
            "/content/gdrive/MyDrive/george_ds/george/1591.jpg removed\n"
          ]
        },
        {
          "output_type": "stream",
          "name": "stderr",
          "text": [
            " 92%|█████████▏| 4438/4842 [01:57<00:10, 37.33it/s]"
          ]
        },
        {
          "output_type": "stream",
          "name": "stdout",
          "text": [
            "/content/gdrive/MyDrive/george_ds/george/1592.jpg removed\n",
            "/content/gdrive/MyDrive/george_ds/george/1593.jpg removed\n",
            "/content/gdrive/MyDrive/george_ds/george/1587.jpg removed\n",
            "/content/gdrive/MyDrive/george_ds/george/1590.jpg removed\n",
            "/content/gdrive/MyDrive/george_ds/george/1588.jpg removed\n",
            "/content/gdrive/MyDrive/george_ds/george/1589.jpg removed\n",
            "/content/gdrive/MyDrive/george_ds/george/1583.jpg removed\n",
            "/content/gdrive/MyDrive/george_ds/george/1655.jpg removed\n",
            "/content/gdrive/MyDrive/george_ds/george/1553.jpg removed\n",
            "/content/gdrive/MyDrive/george_ds/george/1564.jpg removed\n"
          ]
        },
        {
          "output_type": "stream",
          "name": "stderr",
          "text": [
            " 92%|█████████▏| 4449/4842 [01:57<00:08, 44.43it/s]"
          ]
        },
        {
          "output_type": "stream",
          "name": "stdout",
          "text": [
            "/content/gdrive/MyDrive/george_ds/george/1559.jpg removed\n",
            "/content/gdrive/MyDrive/george_ds/george/1558.jpg removed\n",
            "/content/gdrive/MyDrive/george_ds/george/1562.jpg removed\n",
            "/content/gdrive/MyDrive/george_ds/george/1555.jpg removed\n",
            "/content/gdrive/MyDrive/george_ds/george/1551.jpg removed\n",
            "/content/gdrive/MyDrive/george_ds/george/1556.jpg removed\n",
            "/content/gdrive/MyDrive/george_ds/george/1670.jpg removed\n",
            "/content/gdrive/MyDrive/george_ds/george/1685.jpg removed\n",
            "/content/gdrive/MyDrive/george_ds/george/1529.jpg removed\n",
            "/content/gdrive/MyDrive/george_ds/george/1521.jpg removed\n"
          ]
        },
        {
          "output_type": "stream",
          "name": "stderr",
          "text": [
            " 92%|█████████▏| 4459/4842 [01:58<00:08, 45.56it/s]"
          ]
        },
        {
          "output_type": "stream",
          "name": "stdout",
          "text": [
            "/content/gdrive/MyDrive/george_ds/george/1527.jpg removed\n",
            "/content/gdrive/MyDrive/george_ds/george/1523.jpg removed\n",
            "/content/gdrive/MyDrive/george_ds/george/1528.jpg removed\n",
            "/content/gdrive/MyDrive/george_ds/george/1539.jpg removed\n",
            "/content/gdrive/MyDrive/george_ds/george/1544.jpg removed\n",
            "/content/gdrive/MyDrive/george_ds/george/1537.jpg removed\n",
            "/content/gdrive/MyDrive/george_ds/george/1546.jpg removed\n",
            "/content/gdrive/MyDrive/george_ds/george/1543.jpg removed\n",
            "/content/gdrive/MyDrive/george_ds/george/1549.jpg removed\n",
            "/content/gdrive/MyDrive/george_ds/george/1541.jpg removed\n"
          ]
        },
        {
          "output_type": "stream",
          "name": "stderr",
          "text": [
            " 92%|█████████▏| 4469/4842 [01:58<00:09, 41.34it/s]"
          ]
        },
        {
          "output_type": "stream",
          "name": "stdout",
          "text": [
            "/content/gdrive/MyDrive/george_ds/george/1538.jpg removed\n",
            "/content/gdrive/MyDrive/george_ds/george/1548.jpg removed\n",
            "/content/gdrive/MyDrive/george_ds/george/1547.jpg removed\n",
            "/content/gdrive/MyDrive/george_ds/george/1545.jpg removed\n",
            "/content/gdrive/MyDrive/george_ds/george/1542.jpg removed\n",
            "/content/gdrive/MyDrive/george_ds/george/1536.jpg removed\n",
            "/content/gdrive/MyDrive/george_ds/george/1561.jpg removed\n",
            "/content/gdrive/MyDrive/george_ds/george/1563.jpg removed\n"
          ]
        },
        {
          "output_type": "stream",
          "name": "stderr",
          "text": [
            " 93%|█████████▎| 4480/4842 [01:58<00:08, 44.21it/s]"
          ]
        },
        {
          "output_type": "stream",
          "name": "stdout",
          "text": [
            "/content/gdrive/MyDrive/george_ds/george/1552.jpg removed\n",
            "/content/gdrive/MyDrive/george_ds/george/1560.jpg removed\n",
            "/content/gdrive/MyDrive/george_ds/george/1557.jpg removed\n",
            "/content/gdrive/MyDrive/george_ds/george/1554.jpg removed\n",
            "/content/gdrive/MyDrive/george_ds/george/1524.jpg removed\n",
            "/content/gdrive/MyDrive/george_ds/george/1530.jpg removed\n",
            "/content/gdrive/MyDrive/george_ds/george/1534.jpg removed\n",
            "/content/gdrive/MyDrive/george_ds/george/1532.jpg removed\n",
            "/content/gdrive/MyDrive/george_ds/george/1531.jpg removed\n",
            "/content/gdrive/MyDrive/george_ds/george/1526.jpg removed\n",
            "/content/gdrive/MyDrive/george_ds/george/1525.jpg removed\n"
          ]
        },
        {
          "output_type": "stream",
          "name": "stderr",
          "text": [
            " 93%|█████████▎| 4490/4842 [01:58<00:08, 43.45it/s]"
          ]
        },
        {
          "output_type": "stream",
          "name": "stdout",
          "text": [
            "/content/gdrive/MyDrive/george_ds/george/1533.jpg removed\n",
            "/content/gdrive/MyDrive/george_ds/george/1522.jpg removed\n",
            "/content/gdrive/MyDrive/george_ds/george/1640.jpg removed\n",
            "/content/gdrive/MyDrive/george_ds/george/1610.jpg removed\n",
            "/content/gdrive/MyDrive/george_ds/george/1625.jpg removed\n",
            "/content/gdrive/MyDrive/george_ds/george/1519.jpg removed\n",
            "/content/gdrive/MyDrive/george_ds/george/1509.jpg removed\n",
            "/content/gdrive/MyDrive/george_ds/george/1511.jpg removed\n"
          ]
        },
        {
          "output_type": "stream",
          "name": "stderr",
          "text": [
            "\r 93%|█████████▎| 4495/4842 [01:59<00:08, 39.58it/s]"
          ]
        },
        {
          "output_type": "stream",
          "name": "stdout",
          "text": [
            "/content/gdrive/MyDrive/george_ds/george/1467.jpg removed\n",
            "/content/gdrive/MyDrive/george_ds/george/1470.jpg removed\n",
            "/content/gdrive/MyDrive/george_ds/george/1461.jpg removed\n",
            "/content/gdrive/MyDrive/george_ds/george/1465.jpg removed\n",
            "/content/gdrive/MyDrive/george_ds/george/1464.jpg removed\n",
            "/content/gdrive/MyDrive/george_ds/george/1469.jpg removed\n",
            "/content/gdrive/MyDrive/george_ds/george/1513.jpg removed\n"
          ]
        },
        {
          "output_type": "stream",
          "name": "stderr",
          "text": [
            " 93%|█████████▎| 4504/4842 [01:59<00:09, 36.77it/s]"
          ]
        },
        {
          "output_type": "stream",
          "name": "stdout",
          "text": [
            "/content/gdrive/MyDrive/george_ds/george/1508.jpg removed\n",
            "/content/gdrive/MyDrive/george_ds/george/1474.jpg removed\n",
            "/content/gdrive/MyDrive/george_ds/george/1473.jpg removed\n",
            "/content/gdrive/MyDrive/george_ds/george/1472.jpg removed\n",
            "/content/gdrive/MyDrive/george_ds/george/1462.jpg removed\n",
            "/content/gdrive/MyDrive/george_ds/george/1466.jpg removed\n",
            "/content/gdrive/MyDrive/george_ds/george/1463.jpg removed\n",
            "/content/gdrive/MyDrive/george_ds/george/1468.jpg removed\n",
            "/content/gdrive/MyDrive/george_ds/george/1517.jpg removed\n"
          ]
        },
        {
          "output_type": "stream",
          "name": "stderr",
          "text": [
            " 93%|█████████▎| 4516/4842 [01:59<00:07, 44.42it/s]"
          ]
        },
        {
          "output_type": "stream",
          "name": "stdout",
          "text": [
            "/content/gdrive/MyDrive/george_ds/george/1516.jpg removed\n",
            "/content/gdrive/MyDrive/george_ds/george/1514.jpg removed\n",
            "/content/gdrive/MyDrive/george_ds/george/1512.jpg removed\n",
            "/content/gdrive/MyDrive/george_ds/george/1518.jpg removed\n",
            "/content/gdrive/MyDrive/george_ds/george/1510.jpg removed\n",
            "/content/gdrive/MyDrive/george_ds/george/1507.jpg removed\n",
            "/content/gdrive/MyDrive/george_ds/george/1506.jpg removed\n",
            "/content/gdrive/MyDrive/george_ds/george/2680.jpg removed\n",
            "/content/gdrive/MyDrive/george_ds/george/2676.jpg removed\n",
            "/content/gdrive/MyDrive/george_ds/george/2664.jpg removed\n",
            "/content/gdrive/MyDrive/george_ds/george/2669.jpg removed"
          ]
        },
        {
          "output_type": "stream",
          "name": "stderr",
          "text": [
            " 93%|█████████▎| 4527/4842 [01:59<00:06, 47.19it/s]"
          ]
        },
        {
          "output_type": "stream",
          "name": "stdout",
          "text": [
            "\n",
            "/content/gdrive/MyDrive/george_ds/george/2663.jpg removed\n",
            "/content/gdrive/MyDrive/george_ds/george/2662.jpg removed\n",
            "/content/gdrive/MyDrive/george_ds/george/2672.jpg removed\n",
            "/content/gdrive/MyDrive/george_ds/george/2673.jpg removed\n",
            "/content/gdrive/MyDrive/george_ds/george/2665.jpg removed\n",
            "/content/gdrive/MyDrive/george_ds/george/2668.jpg removed\n",
            "/content/gdrive/MyDrive/george_ds/george/2655.jpg removed\n",
            "/content/gdrive/MyDrive/george_ds/george/2656.jpg removed\n",
            "/content/gdrive/MyDrive/george_ds/george/2650.jpg removed\n"
          ]
        },
        {
          "output_type": "stream",
          "name": "stderr",
          "text": [
            "\r 94%|█████████▎| 4532/4842 [01:59<00:07, 43.86it/s]"
          ]
        },
        {
          "output_type": "stream",
          "name": "stdout",
          "text": [
            "/content/gdrive/MyDrive/george_ds/george/2657.jpg removed\n",
            "/content/gdrive/MyDrive/george_ds/george/2651.jpg removed\n",
            "/content/gdrive/MyDrive/george_ds/george/2659.jpg removed\n",
            "/content/gdrive/MyDrive/george_ds/george/2654.jpg removed\n",
            "/content/gdrive/MyDrive/george_ds/george/2648.jpg removed\n",
            "/content/gdrive/MyDrive/george_ds/george/2649.jpg removed\n",
            "/content/gdrive/MyDrive/george_ds/george/2647.jpg removed\n",
            "/content/gdrive/MyDrive/george_ds/george/2658.jpg removed\n",
            "/content/gdrive/MyDrive/george_ds/george/2614.jpg removed\n"
          ]
        },
        {
          "output_type": "stream",
          "name": "stderr",
          "text": [
            " 94%|█████████▍| 4542/4842 [02:00<00:07, 38.01it/s]"
          ]
        },
        {
          "output_type": "stream",
          "name": "stdout",
          "text": [
            "/content/gdrive/MyDrive/george_ds/george/2608.jpg removed\n",
            "/content/gdrive/MyDrive/george_ds/george/2603.jpg removed\n",
            "/content/gdrive/MyDrive/george_ds/george/2605.jpg removed\n",
            "/content/gdrive/MyDrive/george_ds/george/2609.jpg removed\n",
            "/content/gdrive/MyDrive/george_ds/george/2612.jpg removed\n",
            "/content/gdrive/MyDrive/george_ds/george/2613.jpg removed\n",
            "/content/gdrive/MyDrive/george_ds/george/2602.jpg removed\n",
            "/content/gdrive/MyDrive/george_ds/george/2643.jpg removed\n"
          ]
        },
        {
          "output_type": "stream",
          "name": "stderr",
          "text": [
            "\r 94%|█████████▍| 4548/4842 [02:00<00:07, 38.45it/s]"
          ]
        },
        {
          "output_type": "stream",
          "name": "stdout",
          "text": [
            "/content/gdrive/MyDrive/george_ds/george/2632.jpg removed\n",
            "/content/gdrive/MyDrive/george_ds/george/2638.jpg removed\n",
            "/content/gdrive/MyDrive/george_ds/george/2641.jpg removed\n",
            "/content/gdrive/MyDrive/george_ds/george/2611.jpg removed\n",
            "/content/gdrive/MyDrive/george_ds/george/2606.jpg removed\n",
            "/content/gdrive/MyDrive/george_ds/george/2610.jpg removed\n",
            "/content/gdrive/MyDrive/george_ds/george/2633.jpg removed\n",
            "/content/gdrive/MyDrive/george_ds/george/2631.jpg removed\n"
          ]
        },
        {
          "output_type": "stream",
          "name": "stderr",
          "text": [
            " 94%|█████████▍| 4559/4842 [02:00<00:06, 41.87it/s]"
          ]
        },
        {
          "output_type": "stream",
          "name": "stdout",
          "text": [
            "/content/gdrive/MyDrive/george_ds/george/2636.jpg removed\n",
            "/content/gdrive/MyDrive/george_ds/george/2634.jpg removed\n",
            "/content/gdrive/MyDrive/george_ds/george/2637.jpg removed\n",
            "/content/gdrive/MyDrive/george_ds/george/2623.jpg removed\n",
            "/content/gdrive/MyDrive/george_ds/george/2626.jpg removed\n",
            "/content/gdrive/MyDrive/george_ds/george/2622.jpg removed\n",
            "/content/gdrive/MyDrive/george_ds/george/2617.jpg removed\n",
            "/content/gdrive/MyDrive/george_ds/george/2629.jpg removed\n",
            "/content/gdrive/MyDrive/george_ds/george/2625.jpg removed\n"
          ]
        },
        {
          "output_type": "stream",
          "name": "stderr",
          "text": [
            " 94%|█████████▍| 4569/4842 [02:00<00:06, 40.87it/s]"
          ]
        },
        {
          "output_type": "stream",
          "name": "stdout",
          "text": [
            "/content/gdrive/MyDrive/george_ds/george/2621.jpg removed\n",
            "/content/gdrive/MyDrive/george_ds/george/2620.jpg removed\n",
            "/content/gdrive/MyDrive/george_ds/george/2619.jpg removed\n",
            "/content/gdrive/MyDrive/george_ds/george/2578.jpg removed\n",
            "/content/gdrive/MyDrive/george_ds/george/2572.jpg removed\n",
            "/content/gdrive/MyDrive/george_ds/george/2583.jpg removed\n",
            "/content/gdrive/MyDrive/george_ds/george/2574.jpg removed\n",
            "/content/gdrive/MyDrive/george_ds/george/2580.jpg removed\n",
            "/content/gdrive/MyDrive/george_ds/george/2581.jpg removed\n"
          ]
        },
        {
          "output_type": "stream",
          "name": "stderr",
          "text": [
            " 95%|█████████▍| 4579/4842 [02:01<00:06, 40.37it/s]"
          ]
        },
        {
          "output_type": "stream",
          "name": "stdout",
          "text": [
            "/content/gdrive/MyDrive/george_ds/george/2579.jpg removed\n",
            "/content/gdrive/MyDrive/george_ds/george/2577.jpg removed\n",
            "/content/gdrive/MyDrive/george_ds/george/2558.jpg removed\n",
            "/content/gdrive/MyDrive/george_ds/george/2565.jpg removed\n",
            "/content/gdrive/MyDrive/george_ds/george/2560.jpg removed\n",
            "/content/gdrive/MyDrive/george_ds/george/2564.jpg removed\n",
            "/content/gdrive/MyDrive/george_ds/george/2557.jpg removed\n",
            "/content/gdrive/MyDrive/george_ds/george/2556.jpg removed\n",
            "/content/gdrive/MyDrive/george_ds/george/2562.jpg removed\n"
          ]
        },
        {
          "output_type": "stream",
          "name": "stderr",
          "text": [
            "\r 95%|█████████▍| 4584/4842 [02:01<00:06, 40.17it/s]"
          ]
        },
        {
          "output_type": "stream",
          "name": "stdout",
          "text": [
            "/content/gdrive/MyDrive/george_ds/george/2568.jpg removed\n",
            "/content/gdrive/MyDrive/george_ds/george/2569.jpg removed\n",
            "/content/gdrive/MyDrive/george_ds/george/2567.jpg removed\n",
            "/content/gdrive/MyDrive/george_ds/george/2561.jpg removed\n",
            "/content/gdrive/MyDrive/george_ds/george/2559.jpg removed\n",
            "/content/gdrive/MyDrive/george_ds/george/2597.jpg removed\n",
            "/content/gdrive/MyDrive/george_ds/george/2587.jpg removed\n",
            "/content/gdrive/MyDrive/george_ds/george/2592.jpg removed\n",
            "/content/gdrive/MyDrive/george_ds/george/2596.jpg removed\n"
          ]
        },
        {
          "output_type": "stream",
          "name": "stderr",
          "text": [
            " 95%|█████████▍| 4595/4842 [02:01<00:05, 43.12it/s]"
          ]
        },
        {
          "output_type": "stream",
          "name": "stdout",
          "text": [
            "/content/gdrive/MyDrive/george_ds/george/2594.jpg removed\n",
            "/content/gdrive/MyDrive/george_ds/george/2588.jpg removed\n",
            "/content/gdrive/MyDrive/george_ds/george/2586.jpg removed\n",
            "/content/gdrive/MyDrive/george_ds/george/2598.jpg removed\n",
            "/content/gdrive/MyDrive/george_ds/george/2517.jpg removed\n",
            "/content/gdrive/MyDrive/george_ds/george/2519.jpg removed\n",
            "/content/gdrive/MyDrive/george_ds/george/2514.jpg removed\n",
            "/content/gdrive/MyDrive/george_ds/george/2520.jpg removed\n",
            "/content/gdrive/MyDrive/george_ds/george/2518.jpg removed\n",
            "/content/gdrive/MyDrive/george_ds/george/2522.jpg removed\n"
          ]
        },
        {
          "output_type": "stream",
          "name": "stderr",
          "text": [
            " 95%|█████████▌| 4605/4842 [02:01<00:05, 40.34it/s]"
          ]
        },
        {
          "output_type": "stream",
          "name": "stdout",
          "text": [
            "/content/gdrive/MyDrive/george_ds/george/2535.jpg removed\n",
            "/content/gdrive/MyDrive/george_ds/george/2528.jpg removed\n",
            "/content/gdrive/MyDrive/george_ds/george/2536.jpg removed\n",
            "/content/gdrive/MyDrive/george_ds/george/2537.jpg removed\n",
            "/content/gdrive/MyDrive/george_ds/george/2526.jpg removed\n",
            "/content/gdrive/MyDrive/george_ds/george/2534.jpg removed\n",
            "/content/gdrive/MyDrive/george_ds/george/2539.jpg removed\n",
            "/content/gdrive/MyDrive/george_ds/george/2538.jpg removed\n"
          ]
        },
        {
          "output_type": "stream",
          "name": "stderr",
          "text": [
            " 95%|█████████▌| 4616/4842 [02:01<00:05, 42.66it/s]"
          ]
        },
        {
          "output_type": "stream",
          "name": "stdout",
          "text": [
            "/content/gdrive/MyDrive/george_ds/george/2531.jpg removed\n",
            "/content/gdrive/MyDrive/george_ds/george/2533.jpg removed\n",
            "/content/gdrive/MyDrive/george_ds/george/2552.jpg removed\n",
            "/content/gdrive/MyDrive/george_ds/george/2544.jpg removed\n",
            "/content/gdrive/MyDrive/george_ds/george/2542.jpg removed\n",
            "/content/gdrive/MyDrive/george_ds/george/2551.jpg removed\n",
            "/content/gdrive/MyDrive/george_ds/george/2478.jpg removed\n",
            "/content/gdrive/MyDrive/george_ds/george/2472.jpg removed\n",
            "/content/gdrive/MyDrive/george_ds/george/2474.jpg removed\n",
            "/content/gdrive/MyDrive/george_ds/george/2475.jpg removed\n"
          ]
        },
        {
          "output_type": "stream",
          "name": "stderr",
          "text": [
            "\r 95%|█████████▌| 4621/4842 [02:02<00:05, 41.18it/s]"
          ]
        },
        {
          "output_type": "stream",
          "name": "stdout",
          "text": [
            "/content/gdrive/MyDrive/george_ds/george/2479.jpg removed\n",
            "/content/gdrive/MyDrive/george_ds/george/2470.jpg removed\n",
            "/content/gdrive/MyDrive/george_ds/george/2502.jpg removed\n",
            "/content/gdrive/MyDrive/george_ds/george/2501.jpg removed\n",
            "/content/gdrive/MyDrive/george_ds/george/2506.jpg removed\n",
            "/content/gdrive/MyDrive/george_ds/george/2503.jpg removed\n",
            "/content/gdrive/MyDrive/george_ds/george/2496.jpg removed\n",
            "/content/gdrive/MyDrive/george_ds/george/2504.jpg removed\n",
            "/content/gdrive/MyDrive/george_ds/george/2505.jpg removed\n"
          ]
        },
        {
          "output_type": "stream",
          "name": "stderr",
          "text": [
            " 96%|█████████▌| 4631/4842 [02:02<00:05, 38.47it/s]"
          ]
        },
        {
          "output_type": "stream",
          "name": "stdout",
          "text": [
            "/content/gdrive/MyDrive/george_ds/george/2498.jpg removed\n",
            "/content/gdrive/MyDrive/george_ds/george/2497.jpg removed\n",
            "/content/gdrive/MyDrive/george_ds/george/2509.jpg removed\n",
            "/content/gdrive/MyDrive/george_ds/george/2499.jpg removed\n",
            "/content/gdrive/MyDrive/george_ds/george/2487.jpg removed\n",
            "/content/gdrive/MyDrive/george_ds/george/2484.jpg removed\n",
            "/content/gdrive/MyDrive/george_ds/george/2482.jpg removed\n"
          ]
        },
        {
          "output_type": "stream",
          "name": "stderr",
          "text": [
            " 96%|█████████▌| 4642/4842 [02:02<00:04, 41.89it/s]"
          ]
        },
        {
          "output_type": "stream",
          "name": "stdout",
          "text": [
            "/content/gdrive/MyDrive/george_ds/george/2494.jpg removed\n",
            "/content/gdrive/MyDrive/george_ds/george/2476.jpg removed\n",
            "/content/gdrive/MyDrive/george_ds/george/2471.jpg removed\n",
            "/content/gdrive/MyDrive/george_ds/george/2671.jpg removed\n",
            "/content/gdrive/MyDrive/george_ds/george/2674.jpg removed\n",
            "/content/gdrive/MyDrive/george_ds/george/2670.jpg removed\n",
            "/content/gdrive/MyDrive/george_ds/george/2666.jpg removed\n",
            "/content/gdrive/MyDrive/george_ds/george/2667.jpg removed\n",
            "/content/gdrive/MyDrive/george_ds/george/2661.jpg removed\n",
            "/content/gdrive/MyDrive/george_ds/george/2455.jpg removed\n"
          ]
        },
        {
          "output_type": "stream",
          "name": "stderr",
          "text": [
            "\r 96%|█████████▌| 4647/4842 [02:02<00:05, 39.00it/s]"
          ]
        },
        {
          "output_type": "stream",
          "name": "stdout",
          "text": [
            "/content/gdrive/MyDrive/george_ds/george/2456.jpg removed\n",
            "/content/gdrive/MyDrive/george_ds/george/2462.jpg removed\n",
            "/content/gdrive/MyDrive/george_ds/george/2458.jpg removed\n",
            "/content/gdrive/MyDrive/george_ds/george/2452.jpg removed\n",
            "/content/gdrive/MyDrive/george_ds/george/2454.jpg removed\n",
            "/content/gdrive/MyDrive/george_ds/george/2463.jpg removed\n",
            "/content/gdrive/MyDrive/george_ds/george/2459.jpg removed\n"
          ]
        },
        {
          "output_type": "stream",
          "name": "stderr",
          "text": [
            " 96%|█████████▌| 4655/4842 [02:03<00:05, 37.33it/s]"
          ]
        },
        {
          "output_type": "stream",
          "name": "stdout",
          "text": [
            "/content/gdrive/MyDrive/george_ds/george/2453.jpg removed\n",
            "/content/gdrive/MyDrive/george_ds/george/2461.jpg removed\n",
            "/content/gdrive/MyDrive/george_ds/george/2679.jpg removed\n",
            "/content/gdrive/MyDrive/george_ds/george/2678.jpg removed\n",
            "/content/gdrive/MyDrive/george_ds/george/2677.jpg removed\n",
            "/content/gdrive/MyDrive/george_ds/george/2415.jpg removed\n",
            "/content/gdrive/MyDrive/george_ds/george/2412.jpg removed\n",
            "/content/gdrive/MyDrive/george_ds/george/2408.jpg removed\n",
            "/content/gdrive/MyDrive/george_ds/george/2413.jpg removed\n",
            "/content/gdrive/MyDrive/george_ds/george/2419.jpg removed\n"
          ]
        },
        {
          "output_type": "stream",
          "name": "stderr",
          "text": [
            " 96%|█████████▋| 4666/4842 [02:03<00:04, 40.30it/s]"
          ]
        },
        {
          "output_type": "stream",
          "name": "stdout",
          "text": [
            "/content/gdrive/MyDrive/george_ds/george/2410.jpg removed\n",
            "/content/gdrive/MyDrive/george_ds/george/2414.jpg removed\n",
            "/content/gdrive/MyDrive/george_ds/george/2421.jpg removed\n",
            "/content/gdrive/MyDrive/george_ds/george/2424.jpg removed\n",
            "/content/gdrive/MyDrive/george_ds/george/2433.jpg removed\n",
            "/content/gdrive/MyDrive/george_ds/george/2425.jpg removed\n",
            "/content/gdrive/MyDrive/george_ds/george/2427.jpg removed\n",
            "/content/gdrive/MyDrive/george_ds/george/2431.jpg removed\n",
            "/content/gdrive/MyDrive/george_ds/george/2426.jpg removed\n"
          ]
        },
        {
          "output_type": "stream",
          "name": "stderr",
          "text": [
            " 97%|█████████▋| 4676/4842 [02:03<00:04, 40.37it/s]"
          ]
        },
        {
          "output_type": "stream",
          "name": "stdout",
          "text": [
            "/content/gdrive/MyDrive/george_ds/george/2445.jpg removed\n",
            "/content/gdrive/MyDrive/george_ds/george/2443.jpg removed\n",
            "/content/gdrive/MyDrive/george_ds/george/2441.jpg removed\n",
            "/content/gdrive/MyDrive/george_ds/george/2438.jpg removed\n",
            "/content/gdrive/MyDrive/george_ds/george/2442.jpg removed\n",
            "/content/gdrive/MyDrive/george_ds/george/2448.jpg removed\n",
            "/content/gdrive/MyDrive/george_ds/george/2436.jpg removed\n",
            "/content/gdrive/MyDrive/george_ds/george/2437.jpg removed\n"
          ]
        },
        {
          "output_type": "stream",
          "name": "stderr",
          "text": [
            "\r 97%|█████████▋| 4681/4842 [02:03<00:04, 39.86it/s]"
          ]
        },
        {
          "output_type": "stream",
          "name": "stdout",
          "text": [
            "/content/gdrive/MyDrive/george_ds/george/2418.jpg removed\n",
            "/content/gdrive/MyDrive/george_ds/george/2417.jpg removed\n",
            "/content/gdrive/MyDrive/george_ds/george/2628.jpg removed\n",
            "/content/gdrive/MyDrive/george_ds/george/2627.jpg removed\n",
            "/content/gdrive/MyDrive/george_ds/george/2624.jpg removed\n",
            "/content/gdrive/MyDrive/george_ds/george/2618.jpg removed\n",
            "/content/gdrive/MyDrive/george_ds/george/2616.jpg removed\n",
            "/content/gdrive/MyDrive/george_ds/george/2642.jpg removed\n"
          ]
        },
        {
          "output_type": "stream",
          "name": "stderr",
          "text": [
            " 97%|█████████▋| 4694/4842 [02:03<00:03, 46.45it/s]"
          ]
        },
        {
          "output_type": "stream",
          "name": "stdout",
          "text": [
            "/content/gdrive/MyDrive/george_ds/george/2644.jpg removed\n",
            "/content/gdrive/MyDrive/george_ds/george/2635.jpg removed\n",
            "/content/gdrive/MyDrive/george_ds/george/2639.jpg removed\n",
            "/content/gdrive/MyDrive/george_ds/george/2640.jpg removed\n",
            "/content/gdrive/MyDrive/george_ds/george/2391.jpg removed\n",
            "/content/gdrive/MyDrive/george_ds/george/2399.jpg removed\n",
            "/content/gdrive/MyDrive/george_ds/george/2396.jpg removed\n",
            "/content/gdrive/MyDrive/george_ds/george/2403.jpg removed\n",
            "/content/gdrive/MyDrive/george_ds/george/2393.jpg removed\n",
            "/content/gdrive/MyDrive/george_ds/george/2397.jpg removed\n",
            "/content/gdrive/MyDrive/george_ds/george/2401.jpg removed\n",
            "/content/gdrive/MyDrive/george_ds/george/2607.jpg removed\n",
            "/content/gdrive/MyDrive/george_ds/george/2604.jpg removed\n"
          ]
        },
        {
          "output_type": "stream",
          "name": "stderr",
          "text": [
            " 97%|█████████▋| 4705/4842 [02:04<00:02, 48.62it/s]"
          ]
        },
        {
          "output_type": "stream",
          "name": "stdout",
          "text": [
            "/content/gdrive/MyDrive/george_ds/george/2601.jpg removed\n",
            "/content/gdrive/MyDrive/george_ds/george/2652.jpg removed\n",
            "/content/gdrive/MyDrive/george_ds/george/2653.jpg removed\n",
            "/content/gdrive/MyDrive/george_ds/george/2646.jpg removed\n",
            "/content/gdrive/MyDrive/george_ds/george/2379.jpg removed\n",
            "/content/gdrive/MyDrive/george_ds/george/2377.jpg removed\n",
            "/content/gdrive/MyDrive/george_ds/george/2388.jpg removed\n",
            "/content/gdrive/MyDrive/george_ds/george/2376.jpg removed\n",
            "/content/gdrive/MyDrive/george_ds/george/2389.jpg removed\n",
            "/content/gdrive/MyDrive/george_ds/george/2381.jpg removed\n"
          ]
        },
        {
          "output_type": "stream",
          "name": "stderr",
          "text": [
            " 97%|█████████▋| 4715/4842 [02:04<00:02, 43.93it/s]"
          ]
        },
        {
          "output_type": "stream",
          "name": "stdout",
          "text": [
            "/content/gdrive/MyDrive/george_ds/george/2380.jpg removed\n",
            "/content/gdrive/MyDrive/george_ds/george/2387.jpg removed\n",
            "/content/gdrive/MyDrive/george_ds/george/2366.jpg removed\n",
            "/content/gdrive/MyDrive/george_ds/george/2367.jpg removed\n",
            "/content/gdrive/MyDrive/george_ds/george/2369.jpg removed\n",
            "/content/gdrive/MyDrive/george_ds/george/2372.jpg removed\n",
            "/content/gdrive/MyDrive/george_ds/george/2368.jpg removed\n",
            "/content/gdrive/MyDrive/george_ds/george/2362.jpg removed\n"
          ]
        },
        {
          "output_type": "stream",
          "name": "stderr",
          "text": [
            "\r 97%|█████████▋| 4720/4842 [02:04<00:02, 41.82it/s]"
          ]
        },
        {
          "output_type": "stream",
          "name": "stdout",
          "text": [
            "/content/gdrive/MyDrive/george_ds/george/2374.jpg removed\n",
            "/content/gdrive/MyDrive/george_ds/george/2373.jpg removed\n",
            "/content/gdrive/MyDrive/george_ds/george/2371.jpg removed\n",
            "/content/gdrive/MyDrive/george_ds/george/2563.jpg removed\n",
            "/content/gdrive/MyDrive/george_ds/george/2566.jpg removed\n",
            "/content/gdrive/MyDrive/george_ds/george/2584.jpg removed\n",
            "/content/gdrive/MyDrive/george_ds/george/2575.jpg removed\n",
            "/content/gdrive/MyDrive/george_ds/george/2573.jpg removed\n"
          ]
        },
        {
          "output_type": "stream",
          "name": "stderr",
          "text": [
            " 98%|█████████▊| 4730/4842 [02:04<00:02, 38.24it/s]"
          ]
        },
        {
          "output_type": "stream",
          "name": "stdout",
          "text": [
            "/content/gdrive/MyDrive/george_ds/george/2582.jpg removed\n",
            "/content/gdrive/MyDrive/george_ds/george/2576.jpg removed\n",
            "/content/gdrive/MyDrive/george_ds/george/2571.jpg removed\n",
            "/content/gdrive/MyDrive/george_ds/george/2352.jpg removed\n",
            "/content/gdrive/MyDrive/george_ds/george/2356.jpg removed\n",
            "/content/gdrive/MyDrive/george_ds/george/2346.jpg removed\n",
            "/content/gdrive/MyDrive/george_ds/george/2350.jpg removed\n",
            "/content/gdrive/MyDrive/george_ds/george/2354.jpg removed\n"
          ]
        },
        {
          "output_type": "stream",
          "name": "stderr",
          "text": [
            "\r 98%|█████████▊| 4734/4842 [02:04<00:03, 35.78it/s]"
          ]
        },
        {
          "output_type": "stream",
          "name": "stdout",
          "text": [
            "/content/gdrive/MyDrive/george_ds/george/2358.jpg removed\n",
            "/content/gdrive/MyDrive/george_ds/george/2355.jpg removed\n",
            "/content/gdrive/MyDrive/george_ds/george/2351.jpg removed\n",
            "/content/gdrive/MyDrive/george_ds/george/2591.jpg removed\n",
            "/content/gdrive/MyDrive/george_ds/george/2599.jpg removed\n",
            "/content/gdrive/MyDrive/george_ds/george/2595.jpg removed\n"
          ]
        },
        {
          "output_type": "stream",
          "name": "stderr",
          "text": [
            " 98%|█████████▊| 4742/4842 [02:05<00:03, 32.94it/s]"
          ]
        },
        {
          "output_type": "stream",
          "name": "stdout",
          "text": [
            "/content/gdrive/MyDrive/george_ds/george/2593.jpg removed\n",
            "/content/gdrive/MyDrive/george_ds/george/2589.jpg removed\n",
            "/content/gdrive/MyDrive/george_ds/george/2590.jpg removed\n",
            "/content/gdrive/MyDrive/george_ds/george/2675.jpg removed\n",
            "/content/gdrive/MyDrive/george_ds/george/2660.jpg removed\n",
            "/content/gdrive/MyDrive/george_ds/george/2546.jpg removed\n"
          ]
        },
        {
          "output_type": "stream",
          "name": "stderr",
          "text": [
            " 98%|█████████▊| 4750/4842 [02:05<00:02, 33.41it/s]"
          ]
        },
        {
          "output_type": "stream",
          "name": "stdout",
          "text": [
            "/content/gdrive/MyDrive/george_ds/george/2554.jpg removed\n",
            "/content/gdrive/MyDrive/george_ds/george/2553.jpg removed\n",
            "/content/gdrive/MyDrive/george_ds/george/2547.jpg removed\n",
            "/content/gdrive/MyDrive/george_ds/george/2543.jpg removed\n",
            "/content/gdrive/MyDrive/george_ds/george/2550.jpg removed\n",
            "/content/gdrive/MyDrive/george_ds/george/2545.jpg removed\n",
            "/content/gdrive/MyDrive/george_ds/george/2549.jpg removed\n",
            "/content/gdrive/MyDrive/george_ds/george/2548.jpg removed\n"
          ]
        },
        {
          "output_type": "stream",
          "name": "stderr",
          "text": [
            "\r 98%|█████████▊| 4754/4842 [02:05<00:03, 28.73it/s]"
          ]
        },
        {
          "output_type": "stream",
          "name": "stdout",
          "text": [
            "/content/gdrive/MyDrive/george_ds/george/2541.jpg removed\n",
            "/content/gdrive/MyDrive/george_ds/george/2529.jpg removed\n",
            "/content/gdrive/MyDrive/george_ds/george/2532.jpg removed\n",
            "/content/gdrive/MyDrive/george_ds/george/2530.jpg removed\n",
            "/content/gdrive/MyDrive/george_ds/george/2527.jpg removed\n"
          ]
        },
        {
          "output_type": "stream",
          "name": "stderr",
          "text": [
            " 98%|█████████▊| 4762/4842 [02:05<00:02, 27.81it/s]"
          ]
        },
        {
          "output_type": "stream",
          "name": "stdout",
          "text": [
            "/content/gdrive/MyDrive/george_ds/george/2523.jpg removed\n",
            "/content/gdrive/MyDrive/george_ds/george/2516.jpg removed\n",
            "/content/gdrive/MyDrive/george_ds/george/2524.jpg removed\n",
            "/content/gdrive/MyDrive/george_ds/george/2515.jpg removed\n",
            "/content/gdrive/MyDrive/george_ds/george/2521.jpg removed\n",
            "/content/gdrive/MyDrive/george_ds/george/2513.jpg removed\n",
            "/content/gdrive/MyDrive/george_ds/george/2511.jpg removed\n"
          ]
        },
        {
          "output_type": "stream",
          "name": "stderr",
          "text": [
            " 98%|█████████▊| 4768/4842 [02:06<00:02, 26.82it/s]"
          ]
        },
        {
          "output_type": "stream",
          "name": "stdout",
          "text": [
            "/content/gdrive/MyDrive/george_ds/george/2512.jpg removed\n",
            "/content/gdrive/MyDrive/george_ds/george/2645.jpg removed\n",
            "/content/gdrive/MyDrive/george_ds/george/2615.jpg removed\n",
            "/content/gdrive/MyDrive/george_ds/george/2630.jpg removed\n",
            "/content/gdrive/MyDrive/george_ds/george/2600.jpg removed\n",
            "/content/gdrive/MyDrive/george_ds/george/2468.jpg removed\n"
          ]
        },
        {
          "output_type": "stream",
          "name": "stderr",
          "text": [
            " 99%|█████████▊| 4775/4842 [02:06<00:02, 27.01it/s]"
          ]
        },
        {
          "output_type": "stream",
          "name": "stdout",
          "text": [
            "/content/gdrive/MyDrive/george_ds/george/2469.jpg removed\n",
            "/content/gdrive/MyDrive/george_ds/george/2473.jpg removed\n",
            "/content/gdrive/MyDrive/george_ds/george/2477.jpg removed\n",
            "/content/gdrive/MyDrive/george_ds/george/2467.jpg removed\n",
            "/content/gdrive/MyDrive/george_ds/george/2466.jpg removed\n",
            "/content/gdrive/MyDrive/george_ds/george/2493.jpg removed\n"
          ]
        },
        {
          "output_type": "stream",
          "name": "stderr",
          "text": [
            "\r 99%|█████████▊| 4778/4842 [02:06<00:02, 23.72it/s]"
          ]
        },
        {
          "output_type": "stream",
          "name": "stdout",
          "text": [
            "/content/gdrive/MyDrive/george_ds/george/2492.jpg removed\n",
            "/content/gdrive/MyDrive/george_ds/george/2491.jpg removed\n",
            "/content/gdrive/MyDrive/george_ds/george/2488.jpg removed\n",
            "/content/gdrive/MyDrive/george_ds/george/2485.jpg removed\n",
            "/content/gdrive/MyDrive/george_ds/george/2483.jpg removed\n",
            "/content/gdrive/MyDrive/george_ds/george/2489.jpg removed\n"
          ]
        },
        {
          "output_type": "stream",
          "name": "stderr",
          "text": [
            " 99%|█████████▉| 4785/4842 [02:06<00:02, 23.49it/s]"
          ]
        },
        {
          "output_type": "stream",
          "name": "stdout",
          "text": [
            "/content/gdrive/MyDrive/george_ds/george/2486.jpg removed\n",
            "/content/gdrive/MyDrive/george_ds/george/2490.jpg removed\n",
            "/content/gdrive/MyDrive/george_ds/george/2481.jpg removed\n",
            "/content/gdrive/MyDrive/george_ds/george/2507.jpg removed\n",
            "/content/gdrive/MyDrive/george_ds/george/2500.jpg removed\n"
          ]
        },
        {
          "output_type": "stream",
          "name": "stderr",
          "text": [
            "\r 99%|█████████▉| 4789/4842 [02:07<00:02, 25.53it/s]"
          ]
        },
        {
          "output_type": "stream",
          "name": "stdout",
          "text": [
            "/content/gdrive/MyDrive/george_ds/george/2508.jpg removed\n",
            "/content/gdrive/MyDrive/george_ds/george/2585.jpg removed\n",
            "/content/gdrive/MyDrive/george_ds/george/2570.jpg removed\n",
            "/content/gdrive/MyDrive/george_ds/george/2555.jpg removed\n",
            "/content/gdrive/MyDrive/george_ds/george/2464.jpg removed\n"
          ]
        },
        {
          "output_type": "stream",
          "name": "stderr",
          "text": [
            " 99%|█████████▉| 4795/4842 [02:07<00:01, 24.54it/s]"
          ]
        },
        {
          "output_type": "stream",
          "name": "stdout",
          "text": [
            "/content/gdrive/MyDrive/george_ds/george/2460.jpg removed\n",
            "/content/gdrive/MyDrive/george_ds/george/2457.jpg removed\n",
            "/content/gdrive/MyDrive/george_ds/george/2451.jpg removed\n",
            "/content/gdrive/MyDrive/george_ds/george/2447.jpg removed\n",
            "/content/gdrive/MyDrive/george_ds/george/2449.jpg removed\n",
            "/content/gdrive/MyDrive/george_ds/george/2440.jpg removed\n"
          ]
        },
        {
          "output_type": "stream",
          "name": "stderr",
          "text": [
            " 99%|█████████▉| 4801/4842 [02:07<00:01, 24.75it/s]"
          ]
        },
        {
          "output_type": "stream",
          "name": "stdout",
          "text": [
            "/content/gdrive/MyDrive/george_ds/george/2446.jpg removed\n",
            "/content/gdrive/MyDrive/george_ds/george/2444.jpg removed\n",
            "/content/gdrive/MyDrive/george_ds/george/2439.jpg removed\n",
            "/content/gdrive/MyDrive/george_ds/george/2434.jpg removed\n",
            "/content/gdrive/MyDrive/george_ds/george/2432.jpg removed\n"
          ]
        },
        {
          "output_type": "stream",
          "name": "stderr",
          "text": [
            " 99%|█████████▉| 4807/4842 [02:07<00:01, 23.92it/s]"
          ]
        },
        {
          "output_type": "stream",
          "name": "stdout",
          "text": [
            "/content/gdrive/MyDrive/george_ds/george/2429.jpg removed\n",
            "/content/gdrive/MyDrive/george_ds/george/2428.jpg removed\n",
            "/content/gdrive/MyDrive/george_ds/george/2423.jpg removed\n",
            "/content/gdrive/MyDrive/george_ds/george/2430.jpg removed\n",
            "/content/gdrive/MyDrive/george_ds/george/2422.jpg removed\n"
          ]
        },
        {
          "output_type": "stream",
          "name": "stderr",
          "text": [
            "\r 99%|█████████▉| 4810/4842 [02:07<00:01, 21.88it/s]"
          ]
        },
        {
          "output_type": "stream",
          "name": "stdout",
          "text": [
            "/content/gdrive/MyDrive/george_ds/george/2416.jpg removed\n",
            "/content/gdrive/MyDrive/george_ds/george/2409.jpg removed\n",
            "/content/gdrive/MyDrive/george_ds/george/2411.jpg removed\n",
            "/content/gdrive/MyDrive/george_ds/george/2407.jpg removed\n",
            "/content/gdrive/MyDrive/george_ds/george/2406.jpg removed\n",
            "/content/gdrive/MyDrive/george_ds/george/2540.jpg removed\n",
            "/content/gdrive/MyDrive/george_ds/george/2525.jpg removed\n",
            "/content/gdrive/MyDrive/george_ds/george/2510.jpg removed\n"
          ]
        },
        {
          "output_type": "stream",
          "name": "stderr",
          "text": [
            "100%|█████████▉| 4819/4842 [02:08<00:00, 27.21it/s]"
          ]
        },
        {
          "output_type": "stream",
          "name": "stdout",
          "text": [
            "/content/gdrive/MyDrive/george_ds/george/2402.jpg removed\n",
            "/content/gdrive/MyDrive/george_ds/george/2394.jpg removed\n",
            "/content/gdrive/MyDrive/george_ds/george/2400.jpg removed\n",
            "/content/gdrive/MyDrive/george_ds/george/2398.jpg removed\n",
            "/content/gdrive/MyDrive/george_ds/george/2404.jpg removed\n",
            "/content/gdrive/MyDrive/george_ds/george/2395.jpg removed\n"
          ]
        },
        {
          "output_type": "stream",
          "name": "stderr",
          "text": [
            "100%|█████████▉| 4825/4842 [02:08<00:00, 26.63it/s]"
          ]
        },
        {
          "output_type": "stream",
          "name": "stdout",
          "text": [
            "/content/gdrive/MyDrive/george_ds/george/2392.jpg removed\n",
            "/content/gdrive/MyDrive/george_ds/george/2370.jpg removed\n",
            "/content/gdrive/MyDrive/george_ds/george/2365.jpg removed\n",
            "/content/gdrive/MyDrive/george_ds/george/2364.jpg removed\n",
            "/content/gdrive/MyDrive/george_ds/george/2363.jpg removed\n",
            "/content/gdrive/MyDrive/george_ds/george/2361.jpg removed\n"
          ]
        },
        {
          "output_type": "stream",
          "name": "stderr",
          "text": [
            "100%|█████████▉| 4834/4842 [02:08<00:00, 32.88it/s]"
          ]
        },
        {
          "output_type": "stream",
          "name": "stdout",
          "text": [
            "/content/gdrive/MyDrive/george_ds/george/2385.jpg removed\n",
            "/content/gdrive/MyDrive/george_ds/george/2384.jpg removed\n",
            "/content/gdrive/MyDrive/george_ds/george/2383.jpg removed\n",
            "/content/gdrive/MyDrive/george_ds/george/2382.jpg removed\n",
            "/content/gdrive/MyDrive/george_ds/george/2386.jpg removed\n",
            "/content/gdrive/MyDrive/george_ds/george/2378.jpg removed\n",
            "/content/gdrive/MyDrive/george_ds/george/2465.jpg removed\n",
            "/content/gdrive/MyDrive/george_ds/george/2495.jpg removed\n",
            "/content/gdrive/MyDrive/george_ds/george/2480.jpg removed\n",
            "/content/gdrive/MyDrive/george_ds/george/2359.jpg removed\n",
            "/content/gdrive/MyDrive/george_ds/george/2357.jpg removed\n"
          ]
        },
        {
          "output_type": "stream",
          "name": "stderr",
          "text": [
            "100%|██████████| 4842/4842 [02:08<00:00, 37.58it/s]\n"
          ]
        },
        {
          "output_type": "stream",
          "name": "stdout",
          "text": [
            "/content/gdrive/MyDrive/george_ds/george/2349.jpg removed\n",
            "/content/gdrive/MyDrive/george_ds/george/2353.jpg removed\n",
            "/content/gdrive/MyDrive/george_ds/george/2348.jpg removed\n",
            "/content/gdrive/MyDrive/george_ds/george/2347.jpg removed\n"
          ]
        },
        {
          "output_type": "stream",
          "name": "stderr",
          "text": [
            "  3%|▎         | 185/6721 [00:31<02:04, 52.64it/s]"
          ]
        },
        {
          "output_type": "stream",
          "name": "stdout",
          "text": [
            "/content/gdrive/MyDrive/george_ds/no_george/045889e86d9711a81bc5c6f42cf2312d.jpg removed\n"
          ]
        },
        {
          "output_type": "stream",
          "name": "stderr",
          "text": [
            "  3%|▎         | 226/6721 [00:32<02:06, 51.46it/s]"
          ]
        },
        {
          "output_type": "stream",
          "name": "stdout",
          "text": [
            "/content/gdrive/MyDrive/george_ds/no_george/d50f3c0c9aaaa5f9072368d4c73ba8d6.jpg.1 removed\n"
          ]
        },
        {
          "output_type": "stream",
          "name": "stderr",
          "text": [
            "  4%|▎         | 251/6721 [00:32<02:08, 50.37it/s]"
          ]
        },
        {
          "output_type": "stream",
          "name": "stdout",
          "text": [
            "/content/gdrive/MyDrive/george_ds/no_george/bbeb06853284d1f2b64ee27d896460fe.jpg removed\n"
          ]
        },
        {
          "output_type": "stream",
          "name": "stderr",
          "text": [
            "  6%|▌         | 379/6721 [00:35<02:04, 51.07it/s]"
          ]
        },
        {
          "output_type": "stream",
          "name": "stdout",
          "text": [
            "/content/gdrive/MyDrive/george_ds/no_george/5862409e91e45444eee17454e74085b3.jpg removed\n"
          ]
        },
        {
          "output_type": "stream",
          "name": "stderr",
          "text": [
            "  7%|▋         | 454/6721 [00:36<02:09, 48.46it/s]"
          ]
        },
        {
          "output_type": "stream",
          "name": "stdout",
          "text": [
            "/content/gdrive/MyDrive/george_ds/no_george/a514986e7e3039d279cf57ec67065560.jpg removed\n"
          ]
        },
        {
          "output_type": "stream",
          "name": "stderr",
          "text": [
            "  7%|▋         | 471/6721 [00:37<02:27, 42.50it/s]"
          ]
        },
        {
          "output_type": "stream",
          "name": "stdout",
          "text": [
            "/content/gdrive/MyDrive/george_ds/no_george/3e47b311ebf96722730850456e2203e6.jpg removed\n"
          ]
        },
        {
          "output_type": "stream",
          "name": "stderr",
          "text": [
            "  8%|▊         | 512/6721 [00:37<02:15, 45.90it/s]"
          ]
        },
        {
          "output_type": "stream",
          "name": "stdout",
          "text": [
            "/content/gdrive/MyDrive/george_ds/no_george/69be2188bac84c9d2614b7976ecc003e.jpg removed\n"
          ]
        },
        {
          "output_type": "stream",
          "name": "stderr",
          "text": [
            "  8%|▊         | 540/6721 [00:38<02:02, 50.61it/s]"
          ]
        },
        {
          "output_type": "stream",
          "name": "stdout",
          "text": [
            "/content/gdrive/MyDrive/george_ds/no_george/bc3af41444c7d8e4403691eb324941fb.jpg removed\n"
          ]
        },
        {
          "output_type": "stream",
          "name": "stderr",
          "text": [
            "  8%|▊         | 571/6721 [00:39<02:08, 48.01it/s]"
          ]
        },
        {
          "output_type": "stream",
          "name": "stdout",
          "text": [
            "/content/gdrive/MyDrive/george_ds/no_george/cbf015487ba0b7db0d2a1775da03f236.jpg removed\n"
          ]
        },
        {
          "output_type": "stream",
          "name": "stderr",
          "text": [
            "  9%|▉         | 635/6721 [00:40<01:47, 56.45it/s]"
          ]
        },
        {
          "output_type": "stream",
          "name": "stdout",
          "text": [
            "/content/gdrive/MyDrive/george_ds/no_george/6bd2fd0629cfe0677c99116dd1da5680.jpg removed\n"
          ]
        },
        {
          "output_type": "stream",
          "name": "stderr",
          "text": [
            " 10%|█         | 691/6721 [00:41<03:10, 31.58it/s]"
          ]
        },
        {
          "output_type": "stream",
          "name": "stdout",
          "text": [
            "/content/gdrive/MyDrive/george_ds/no_george/765880961814685c8a3c58b8775b67ae.jpg removed\n"
          ]
        },
        {
          "output_type": "stream",
          "name": "stderr",
          "text": [
            " 11%|█         | 753/6721 [00:43<02:50, 34.91it/s]"
          ]
        },
        {
          "output_type": "stream",
          "name": "stdout",
          "text": [
            "/content/gdrive/MyDrive/george_ds/no_george/4c3104a25b3e0d21ef8580d991531d8e.jpg removed\n"
          ]
        },
        {
          "output_type": "stream",
          "name": "stderr",
          "text": [
            " 12%|█▏        | 805/6721 [00:45<02:49, 34.91it/s]"
          ]
        },
        {
          "output_type": "stream",
          "name": "stdout",
          "text": [
            "/content/gdrive/MyDrive/george_ds/no_george/f89d574d19ebcf1c02c30c480d1195ea.jpg removed\n"
          ]
        },
        {
          "output_type": "stream",
          "name": "stderr",
          "text": [
            " 12%|█▏        | 835/6721 [00:45<02:07, 46.17it/s]"
          ]
        },
        {
          "output_type": "stream",
          "name": "stdout",
          "text": [
            "/content/gdrive/MyDrive/george_ds/no_george/e2c9142403959291dc9768d9ec2a6b8b.jpg removed\n",
            "/content/gdrive/MyDrive/george_ds/no_george/644b578a4fe52955eecd5b6c3d3e4687.jpg removed\n",
            "/content/gdrive/MyDrive/george_ds/no_george/99f3cf318e24a265ec38fb82e42ee9e2.jpg removed\n"
          ]
        },
        {
          "output_type": "stream",
          "name": "stderr",
          "text": [
            " 13%|█▎        | 871/6721 [00:46<02:03, 47.42it/s]"
          ]
        },
        {
          "output_type": "stream",
          "name": "stdout",
          "text": [
            "/content/gdrive/MyDrive/george_ds/no_george/96ef0d549eab98c42929a6572fabdaf8.jpg removed\n"
          ]
        },
        {
          "output_type": "stream",
          "name": "stderr",
          "text": [
            " 13%|█▎        | 888/6721 [00:46<01:57, 49.68it/s]"
          ]
        },
        {
          "output_type": "stream",
          "name": "stdout",
          "text": [
            "/content/gdrive/MyDrive/george_ds/no_george/f800f0ff93ef80414d12343d159aab1a.jpg removed\n"
          ]
        },
        {
          "output_type": "stream",
          "name": "stderr",
          "text": [
            " 13%|█▎        | 906/6721 [00:47<02:02, 47.47it/s]"
          ]
        },
        {
          "output_type": "stream",
          "name": "stdout",
          "text": [
            "/content/gdrive/MyDrive/george_ds/no_george/f3756c44ece2cbdc9feadd6f6d7908f6.jpg removed\n",
            "/content/gdrive/MyDrive/george_ds/no_george/454e6e443c007eb99345839b50691f9f.jpg removed\n"
          ]
        },
        {
          "output_type": "stream",
          "name": "stderr",
          "text": [
            " 14%|█▍        | 927/6721 [00:47<01:46, 54.37it/s]"
          ]
        },
        {
          "output_type": "stream",
          "name": "stdout",
          "text": [
            "/content/gdrive/MyDrive/george_ds/no_george/e6ca3708da38d94fd33ee60db112535f.jpg removed\n"
          ]
        },
        {
          "output_type": "stream",
          "name": "stderr",
          "text": [
            " 14%|█▍        | 970/6721 [00:48<01:58, 48.73it/s]"
          ]
        },
        {
          "output_type": "stream",
          "name": "stdout",
          "text": [
            "/content/gdrive/MyDrive/george_ds/no_george/e690063a729041623dd0ec5cb7d7ee2c.jpg removed\n",
            "/content/gdrive/MyDrive/george_ds/no_george/b942ba78f7bb0bc29f49a0f7b21ee4e9.jpg removed\n"
          ]
        },
        {
          "output_type": "stream",
          "name": "stderr",
          "text": [
            " 16%|█▌        | 1053/6721 [00:50<01:48, 52.46it/s]"
          ]
        },
        {
          "output_type": "stream",
          "name": "stdout",
          "text": [
            "/content/gdrive/MyDrive/george_ds/no_george/0c5a48ec23230c2955193926ff534c09.jpg removed\n",
            "/content/gdrive/MyDrive/george_ds/no_george/f387289e41e653dc755de9c8e5671443.jpg removed\n"
          ]
        },
        {
          "output_type": "stream",
          "name": "stderr",
          "text": [
            " 16%|█▌        | 1071/6721 [00:50<01:53, 49.79it/s]"
          ]
        },
        {
          "output_type": "stream",
          "name": "stdout",
          "text": [
            "/content/gdrive/MyDrive/george_ds/no_george/8ae86a1fa333511dc6c1c2b9ed7d9fcb.jpg removed\n",
            "/content/gdrive/MyDrive/george_ds/no_george/fa20f267ecff9b82ab7b57ffae7a1a2c.jpg removed\n"
          ]
        },
        {
          "output_type": "stream",
          "name": "stderr",
          "text": [
            " 16%|█▋        | 1106/6721 [00:51<01:47, 52.25it/s]"
          ]
        },
        {
          "output_type": "stream",
          "name": "stdout",
          "text": [
            "/content/gdrive/MyDrive/george_ds/no_george/f07782cfcf3f3c08e8b02206efcf0d16.jpg removed\n",
            "/content/gdrive/MyDrive/george_ds/no_george/f25787a3dff82de90246fff8a726f1ef.jpg removed\n"
          ]
        },
        {
          "output_type": "stream",
          "name": "stderr",
          "text": [
            " 18%|█▊        | 1229/6721 [00:53<01:43, 53.27it/s]"
          ]
        },
        {
          "output_type": "stream",
          "name": "stdout",
          "text": [
            "/content/gdrive/MyDrive/george_ds/no_george/d4d7fef67367985b0ef534e15f3c6f9e.jpg removed\n"
          ]
        },
        {
          "output_type": "stream",
          "name": "stderr",
          "text": [
            " 18%|█▊        | 1241/6721 [00:53<01:50, 49.75it/s]"
          ]
        },
        {
          "output_type": "stream",
          "name": "stdout",
          "text": [
            "/content/gdrive/MyDrive/george_ds/no_george/c484f6ec04f0ec58b4c8010c84917ce1.jpg removed\n",
            "/content/gdrive/MyDrive/george_ds/no_george/8e7cb41a5b5d7bb386891b0bed31cc2a.jpg removed\n"
          ]
        },
        {
          "output_type": "stream",
          "name": "stderr",
          "text": [
            " 19%|█▉        | 1287/6721 [00:54<02:04, 43.53it/s]"
          ]
        },
        {
          "output_type": "stream",
          "name": "stdout",
          "text": [
            "/content/gdrive/MyDrive/george_ds/no_george/cbb86bcfe44f0248e17c560aa30a2b04.jpg removed\n"
          ]
        },
        {
          "output_type": "stream",
          "name": "stderr",
          "text": [
            " 20%|█▉        | 1329/6721 [00:55<02:13, 40.44it/s]"
          ]
        },
        {
          "output_type": "stream",
          "name": "stdout",
          "text": [
            "/content/gdrive/MyDrive/george_ds/no_george/8dc898234ee5939efeeb2eb35762b442.jpg removed\n"
          ]
        },
        {
          "output_type": "stream",
          "name": "stderr",
          "text": [
            " 21%|██        | 1379/6721 [00:57<03:09, 28.14it/s]"
          ]
        },
        {
          "output_type": "stream",
          "name": "stdout",
          "text": [
            "/content/gdrive/MyDrive/george_ds/no_george/38c1bb8439fbc24c5eaf694f973d2d8e.jpg removed\n"
          ]
        },
        {
          "output_type": "stream",
          "name": "stderr",
          "text": [
            " 22%|██▏       | 1469/6721 [00:59<02:34, 34.02it/s]"
          ]
        },
        {
          "output_type": "stream",
          "name": "stdout",
          "text": [
            "/content/gdrive/MyDrive/george_ds/no_george/9a6d5142245e9ae9a157d9f18297833b.jpg removed\n"
          ]
        },
        {
          "output_type": "stream",
          "name": "stderr",
          "text": [
            " 23%|██▎       | 1519/6721 [01:01<01:42, 50.55it/s]"
          ]
        },
        {
          "output_type": "stream",
          "name": "stdout",
          "text": [
            "/content/gdrive/MyDrive/george_ds/no_george/763ed4f6bc144b9998197ee14d34bb52.jpg removed\n",
            "/content/gdrive/MyDrive/george_ds/no_george/bf9a390b3c8fddd422d47012f0b8cbff.jpg removed\n"
          ]
        },
        {
          "output_type": "stream",
          "name": "stderr",
          "text": [
            " 23%|██▎       | 1532/6721 [01:01<01:36, 53.66it/s]"
          ]
        },
        {
          "output_type": "stream",
          "name": "stdout",
          "text": [
            "/content/gdrive/MyDrive/george_ds/no_george/0a6d5828d03fdc8b600ba250baee71fa.jpg.1 removed\n"
          ]
        },
        {
          "output_type": "stream",
          "name": "stderr",
          "text": [
            " 24%|██▎       | 1594/6721 [01:02<01:43, 49.48it/s]"
          ]
        },
        {
          "output_type": "stream",
          "name": "stdout",
          "text": [
            "/content/gdrive/MyDrive/george_ds/no_george/34d4408f9e9050578e2a09b5b3ab7b37.jpg removed\n",
            "/content/gdrive/MyDrive/george_ds/no_george/f75b985b2e36a0726efd64634f60349f.jpg removed\n"
          ]
        },
        {
          "output_type": "stream",
          "name": "stderr",
          "text": [
            " 25%|██▍       | 1658/6721 [01:03<01:41, 49.77it/s]"
          ]
        },
        {
          "output_type": "stream",
          "name": "stdout",
          "text": [
            "/content/gdrive/MyDrive/george_ds/no_george/cbdf00d77467ff1677520cf6600c2d39.jpg removed\n",
            "/content/gdrive/MyDrive/george_ds/no_george/69eeb4bbc0800fcfccb7b87d6f321f94.jpg removed\n",
            "/content/gdrive/MyDrive/george_ds/no_george/311baed2c0720ed6c4e4f3bea38dadcd.jpg removed\n"
          ]
        },
        {
          "output_type": "stream",
          "name": "stderr",
          "text": [
            " 25%|██▍       | 1676/6721 [01:04<01:37, 51.54it/s]"
          ]
        },
        {
          "output_type": "stream",
          "name": "stdout",
          "text": [
            "/content/gdrive/MyDrive/george_ds/no_george/9424e0916689738e2fa0771a4d73e112.jpg removed\n",
            "/content/gdrive/MyDrive/george_ds/no_george/5e21e5004b202f49c3e465c0d2361bbc.jpg removed\n",
            "/content/gdrive/MyDrive/george_ds/no_george/17053928f5acad8704642d9c3478cb2f.jpg removed\n",
            "/content/gdrive/MyDrive/george_ds/no_george/cdfae0d96e0f130c16b52775d152faab.jpg.1 removed\n"
          ]
        },
        {
          "output_type": "stream",
          "name": "stderr",
          "text": [
            " 25%|██▌       | 1694/6721 [01:04<01:45, 47.77it/s]"
          ]
        },
        {
          "output_type": "stream",
          "name": "stdout",
          "text": [
            "/content/gdrive/MyDrive/george_ds/no_george/55f8e32524a34b5f627455a7de61e412.jpg removed\n"
          ]
        },
        {
          "output_type": "stream",
          "name": "stderr",
          "text": [
            " 26%|██▌       | 1741/6721 [01:05<01:31, 54.60it/s]"
          ]
        },
        {
          "output_type": "stream",
          "name": "stdout",
          "text": [
            "/content/gdrive/MyDrive/george_ds/no_george/16bda5cdc7e36ac85274ae212d74b723.jpg.1 removed\n",
            "/content/gdrive/MyDrive/george_ds/no_george/06a9c540193794bc250bd4bf77019be8.jpg removed\n",
            "/content/gdrive/MyDrive/george_ds/no_george/8fe25bf2716f2a4309790725f2ff4227.jpg removed\n"
          ]
        },
        {
          "output_type": "stream",
          "name": "stderr",
          "text": [
            " 26%|██▌       | 1761/6721 [01:05<01:32, 53.79it/s]"
          ]
        },
        {
          "output_type": "stream",
          "name": "stdout",
          "text": [
            "/content/gdrive/MyDrive/george_ds/no_george/5ed8853235c80ae6a66d7a665b82ba96.jpg removed\n",
            "/content/gdrive/MyDrive/george_ds/no_george/791e8a50e046fb78e43632efc7ea8840.jpg removed\n"
          ]
        },
        {
          "output_type": "stream",
          "name": "stderr",
          "text": [
            " 27%|██▋       | 1785/6721 [01:06<01:43, 47.84it/s]"
          ]
        },
        {
          "output_type": "stream",
          "name": "stdout",
          "text": [
            "/content/gdrive/MyDrive/george_ds/no_george/fa4b07e5dad00d6775917ea794c67e22.jpg removed\n",
            "/content/gdrive/MyDrive/george_ds/no_george/4edc0031d63a5d97af4662b3f400765c.jpg removed\n"
          ]
        },
        {
          "output_type": "stream",
          "name": "stderr",
          "text": [
            " 27%|██▋       | 1802/6721 [01:06<01:41, 48.24it/s]"
          ]
        },
        {
          "output_type": "stream",
          "name": "stdout",
          "text": [
            "/content/gdrive/MyDrive/george_ds/no_george/6c5366dc4cb036c23a6c927bef7610c1.jpg removed\n",
            "/content/gdrive/MyDrive/george_ds/no_george/1bb38303612ff9594e29db952bafe814.jpg removed\n"
          ]
        },
        {
          "output_type": "stream",
          "name": "stderr",
          "text": [
            " 27%|██▋       | 1837/6721 [01:07<01:36, 50.41it/s]"
          ]
        },
        {
          "output_type": "stream",
          "name": "stdout",
          "text": [
            "/content/gdrive/MyDrive/george_ds/no_george/8dd4f3d4046443280e736d002cfd52dc.jpg removed\n"
          ]
        },
        {
          "output_type": "stream",
          "name": "stderr",
          "text": [
            " 29%|██▉       | 1968/6721 [01:10<01:23, 56.83it/s]"
          ]
        },
        {
          "output_type": "stream",
          "name": "stdout",
          "text": [
            "/content/gdrive/MyDrive/george_ds/no_george/38cdf2ebeb7ccd16e4de5234c6b4d463.jpg removed\n"
          ]
        },
        {
          "output_type": "stream",
          "name": "stderr",
          "text": [
            " 30%|██▉       | 2015/6721 [01:11<01:42, 45.71it/s]"
          ]
        },
        {
          "output_type": "stream",
          "name": "stdout",
          "text": [
            "/content/gdrive/MyDrive/george_ds/no_george/350042a6fa85f02cb327c9fd3a5c466d.jpg removed\n"
          ]
        },
        {
          "output_type": "stream",
          "name": "stderr",
          "text": [
            " 30%|███       | 2041/6721 [01:11<01:57, 39.91it/s]"
          ]
        },
        {
          "output_type": "stream",
          "name": "stdout",
          "text": [
            "/content/gdrive/MyDrive/george_ds/no_george/6874d4e57bdc2f0e72f465d02ee35109.jpg removed\n",
            "/content/gdrive/MyDrive/george_ds/no_george/2e873a34346181327731c1f83738dda5.jpg removed\n"
          ]
        },
        {
          "output_type": "stream",
          "name": "stderr",
          "text": [
            " 31%|███       | 2059/6721 [01:12<02:10, 35.70it/s]"
          ]
        },
        {
          "output_type": "stream",
          "name": "stdout",
          "text": [
            "/content/gdrive/MyDrive/george_ds/no_george/ba10ade76b96e613cb83f6c3a6f439fe.jpg removed\n"
          ]
        },
        {
          "output_type": "stream",
          "name": "stderr",
          "text": [
            " 31%|███       | 2077/6721 [01:12<01:57, 39.48it/s]"
          ]
        },
        {
          "output_type": "stream",
          "name": "stdout",
          "text": [
            "/content/gdrive/MyDrive/george_ds/no_george/55fe812543da219be0c8269007dd3b0e.jpg removed\n"
          ]
        },
        {
          "output_type": "stream",
          "name": "stderr",
          "text": [
            " 31%|███       | 2085/6721 [01:12<02:28, 31.19it/s]"
          ]
        },
        {
          "output_type": "stream",
          "name": "stdout",
          "text": [
            "/content/gdrive/MyDrive/george_ds/no_george/b3b496cc3f84dc55ddaf8c29db6eb636.jpg removed\n",
            "/content/gdrive/MyDrive/george_ds/no_george/d4b4689c32f70d5dd275325b19e418f6.jpg removed\n",
            "/content/gdrive/MyDrive/george_ds/no_george/5b583c7fef5c8e1ea1ed2dac2d1b0ad4.jpg removed\n",
            "/content/gdrive/MyDrive/george_ds/no_george/7c8c4213fd2cc1286cbcfd6d6a5e1e8d.jpg removed\n"
          ]
        },
        {
          "output_type": "stream",
          "name": "stderr",
          "text": [
            " 32%|███▏      | 2120/6721 [01:13<01:59, 38.50it/s]"
          ]
        },
        {
          "output_type": "stream",
          "name": "stdout",
          "text": [
            "/content/gdrive/MyDrive/george_ds/no_george/2aa844f434d20d60c3e9d2bd8c937e89.jpg removed\n"
          ]
        },
        {
          "output_type": "stream",
          "name": "stderr",
          "text": [
            " 32%|███▏      | 2140/6721 [01:14<01:54, 40.05it/s]"
          ]
        },
        {
          "output_type": "stream",
          "name": "stdout",
          "text": [
            "/content/gdrive/MyDrive/george_ds/no_george/19c0764e56d95eff56ce5c8f9169a0ec.jpg.1 removed\n"
          ]
        },
        {
          "output_type": "stream",
          "name": "stderr",
          "text": [
            " 32%|███▏      | 2163/6721 [01:15<01:57, 38.75it/s]"
          ]
        },
        {
          "output_type": "stream",
          "name": "stdout",
          "text": [
            "/content/gdrive/MyDrive/george_ds/no_george/80ea98f1e3bde859a58a219802c3a49b.jpg.1 removed\n"
          ]
        },
        {
          "output_type": "stream",
          "name": "stderr",
          "text": [
            " 32%|███▏      | 2175/6721 [01:15<02:14, 33.91it/s]"
          ]
        },
        {
          "output_type": "stream",
          "name": "stdout",
          "text": [
            "/content/gdrive/MyDrive/george_ds/no_george/129bb57784357c90b48a7e7e3403c548.jpg removed\n"
          ]
        },
        {
          "output_type": "stream",
          "name": "stderr",
          "text": [
            " 33%|███▎      | 2191/6721 [01:15<02:08, 35.16it/s]"
          ]
        },
        {
          "output_type": "stream",
          "name": "stdout",
          "text": [
            "/content/gdrive/MyDrive/george_ds/no_george/d50f3c0c9aaaa5f9072368d4c73ba8d6.jpg removed\n"
          ]
        },
        {
          "output_type": "stream",
          "name": "stderr",
          "text": [
            " 33%|███▎      | 2211/6721 [01:16<01:48, 41.66it/s]"
          ]
        },
        {
          "output_type": "stream",
          "name": "stdout",
          "text": [
            "/content/gdrive/MyDrive/george_ds/no_george/72c8fc209c59161f54c2eb1db845afb6.jpg removed\n",
            "/content/gdrive/MyDrive/george_ds/no_george/66c246b6abbd40500a1e7d6cbe69af19.jpg removed\n"
          ]
        },
        {
          "output_type": "stream",
          "name": "stderr",
          "text": [
            " 33%|███▎      | 2232/6721 [01:16<01:39, 44.91it/s]"
          ]
        },
        {
          "output_type": "stream",
          "name": "stdout",
          "text": [
            "/content/gdrive/MyDrive/george_ds/no_george/f9f6049087fb1571812867cd75c201ee.jpg removed\n"
          ]
        },
        {
          "output_type": "stream",
          "name": "stderr",
          "text": [
            " 34%|███▍      | 2274/6721 [01:17<01:35, 46.61it/s]"
          ]
        },
        {
          "output_type": "stream",
          "name": "stdout",
          "text": [
            "/content/gdrive/MyDrive/george_ds/no_george/d845a913042e4ad85acc3110fb997db9.jpg removed\n"
          ]
        },
        {
          "output_type": "stream",
          "name": "stderr",
          "text": [
            " 34%|███▍      | 2301/6721 [01:18<01:32, 47.88it/s]"
          ]
        },
        {
          "output_type": "stream",
          "name": "stdout",
          "text": [
            "/content/gdrive/MyDrive/george_ds/no_george/bb2abc4553437ce1014c3ed86a4716db.jpg.1 removed\n",
            "/content/gdrive/MyDrive/george_ds/no_george/f3bb701c56d2ace51586f5a0e6ba9f26.jpg removed\n"
          ]
        },
        {
          "output_type": "stream",
          "name": "stderr",
          "text": [
            " 34%|███▍      | 2316/6721 [01:18<01:33, 46.98it/s]"
          ]
        },
        {
          "output_type": "stream",
          "name": "stdout",
          "text": [
            "/content/gdrive/MyDrive/george_ds/no_george/de7336598c2813d75fea6d0b816416ae.jpg removed\n"
          ]
        },
        {
          "output_type": "stream",
          "name": "stderr",
          "text": [
            " 35%|███▍      | 2346/6721 [01:19<01:33, 46.82it/s]"
          ]
        },
        {
          "output_type": "stream",
          "name": "stdout",
          "text": [
            "/content/gdrive/MyDrive/george_ds/no_george/e4ce78fecd1b26160f5c564b4adc795e.jpg removed\n",
            "/content/gdrive/MyDrive/george_ds/no_george/61ab1a2740937a02f1a9a40e5e0474a9.jpg.1 removed\n"
          ]
        },
        {
          "output_type": "stream",
          "name": "stderr",
          "text": [
            " 35%|███▌      | 2385/6721 [01:20<01:24, 51.53it/s]"
          ]
        },
        {
          "output_type": "stream",
          "name": "stdout",
          "text": [
            "/content/gdrive/MyDrive/george_ds/no_george/cf6c38ad18b8fc8d22d1a64898111a4f.jpg removed\n",
            "/content/gdrive/MyDrive/george_ds/no_george/3c12964370b966737eba19b7b0076ce6.jpg removed\n",
            "/content/gdrive/MyDrive/george_ds/no_george/a55a8dc05c5b54713f50896422423378.jpg removed\n"
          ]
        },
        {
          "output_type": "stream",
          "name": "stderr",
          "text": [
            " 37%|███▋      | 2464/6721 [01:21<01:16, 55.46it/s]"
          ]
        },
        {
          "output_type": "stream",
          "name": "stdout",
          "text": [
            "/content/gdrive/MyDrive/george_ds/no_george/daeb929b3f23bfbbc4f63642000dc0e2.jpg removed\n"
          ]
        },
        {
          "output_type": "stream",
          "name": "stderr",
          "text": [
            " 37%|███▋      | 2478/6721 [01:21<01:19, 53.57it/s]"
          ]
        },
        {
          "output_type": "stream",
          "name": "stdout",
          "text": [
            "/content/gdrive/MyDrive/george_ds/no_george/2f49d692d5fcf8e7320b65d70e03ca89.jpg removed\n"
          ]
        },
        {
          "output_type": "stream",
          "name": "stderr",
          "text": [
            "\r 37%|███▋      | 2484/6721 [01:21<01:27, 48.27it/s]"
          ]
        },
        {
          "output_type": "stream",
          "name": "stdout",
          "text": [
            "/content/gdrive/MyDrive/george_ds/no_george/47390e98552d624994a734d4b827705a.jpg removed\n",
            "/content/gdrive/MyDrive/george_ds/no_george/73dacd531119b82845a5e4126df78dae.jpg removed\n"
          ]
        },
        {
          "output_type": "stream",
          "name": "stderr",
          "text": [
            " 37%|███▋      | 2503/6721 [01:22<01:18, 53.67it/s]"
          ]
        },
        {
          "output_type": "stream",
          "name": "stdout",
          "text": [
            "/content/gdrive/MyDrive/george_ds/no_george/d12e1666ad0de04f7ded1510f5364e05.jpg removed\n"
          ]
        },
        {
          "output_type": "stream",
          "name": "stderr",
          "text": [
            " 37%|███▋      | 2520/6721 [01:22<01:27, 47.85it/s]"
          ]
        },
        {
          "output_type": "stream",
          "name": "stdout",
          "text": [
            "/content/gdrive/MyDrive/george_ds/no_george/39f74923b01afad09921007550ab9d83.jpg removed\n",
            "/content/gdrive/MyDrive/george_ds/no_george/7aea6e39eebde36f0cdfb6b6541b343c.jpg removed\n"
          ]
        },
        {
          "output_type": "stream",
          "name": "stderr",
          "text": [
            " 38%|███▊      | 2571/6721 [01:23<01:13, 56.22it/s]"
          ]
        },
        {
          "output_type": "stream",
          "name": "stdout",
          "text": [
            "/content/gdrive/MyDrive/george_ds/no_george/61ab1a2740937a02f1a9a40e5e0474a9.jpg removed\n",
            "/content/gdrive/MyDrive/george_ds/no_george/43c84e088bf76b4a3a51b59dd2e05bf6.jpg removed\n"
          ]
        },
        {
          "output_type": "stream",
          "name": "stderr",
          "text": [
            " 38%|███▊      | 2583/6721 [01:23<01:20, 51.18it/s]"
          ]
        },
        {
          "output_type": "stream",
          "name": "stdout",
          "text": [
            "/content/gdrive/MyDrive/george_ds/no_george/8f1cc9dd15560b7fb97b7bba3e5361eb.jpg.1 removed\n"
          ]
        },
        {
          "output_type": "stream",
          "name": "stderr",
          "text": [
            " 39%|███▊      | 2601/6721 [01:24<01:22, 49.65it/s]"
          ]
        },
        {
          "output_type": "stream",
          "name": "stdout",
          "text": [
            "/content/gdrive/MyDrive/george_ds/no_george/e2054c5ad0ec6e0bef5b085fcc0e7eb8.jpg removed\n"
          ]
        },
        {
          "output_type": "stream",
          "name": "stderr",
          "text": [
            " 39%|███▉      | 2630/6721 [01:24<01:21, 49.96it/s]"
          ]
        },
        {
          "output_type": "stream",
          "name": "stdout",
          "text": [
            "/content/gdrive/MyDrive/george_ds/no_george/10a6d89ccf6804553f2e52adf85e6b79.jpg removed\n"
          ]
        },
        {
          "output_type": "stream",
          "name": "stderr",
          "text": [
            " 40%|███▉      | 2662/6721 [01:25<01:30, 44.84it/s]"
          ]
        },
        {
          "output_type": "stream",
          "name": "stdout",
          "text": [
            "/content/gdrive/MyDrive/george_ds/no_george/53ab295566447fd0faeab623ef87c49f.jpg removed\n",
            "/content/gdrive/MyDrive/george_ds/no_george/b064eaafa46f472cb4dcc98d212c64a0.jpg removed\n"
          ]
        },
        {
          "output_type": "stream",
          "name": "stderr",
          "text": [
            " 40%|████      | 2705/6721 [01:26<02:16, 29.35it/s]"
          ]
        },
        {
          "output_type": "stream",
          "name": "stdout",
          "text": [
            "/content/gdrive/MyDrive/george_ds/no_george/118ad18cb4948ca4d6a6bb707041e2ff.jpg removed\n"
          ]
        },
        {
          "output_type": "stream",
          "name": "stderr",
          "text": [
            " 41%|████      | 2723/6721 [01:27<02:09, 30.86it/s]"
          ]
        },
        {
          "output_type": "stream",
          "name": "stdout",
          "text": [
            "/content/gdrive/MyDrive/george_ds/no_george/9af5ca34780ca71166201f67668432ea.jpg removed\n",
            "/content/gdrive/MyDrive/george_ds/no_george/bf9a390b3c8fddd422d47012f0b8cbff.jpg.1 removed\n"
          ]
        },
        {
          "output_type": "stream",
          "name": "stderr",
          "text": [
            " 41%|████      | 2732/6721 [01:27<01:51, 35.70it/s]"
          ]
        },
        {
          "output_type": "stream",
          "name": "stdout",
          "text": [
            "/content/gdrive/MyDrive/george_ds/no_george/80ea98f1e3bde859a58a219802c3a49b.jpg removed\n",
            "/content/gdrive/MyDrive/george_ds/no_george/c5f6562e51c7521736c5f665a7f6b885.jpg removed\n"
          ]
        },
        {
          "output_type": "stream",
          "name": "stderr",
          "text": [
            " 41%|████      | 2745/6721 [01:28<01:45, 37.86it/s]"
          ]
        },
        {
          "output_type": "stream",
          "name": "stdout",
          "text": [
            "/content/gdrive/MyDrive/george_ds/no_george/3958d6a897ea88404c9be4ef6a5091c0.jpg removed\n"
          ]
        },
        {
          "output_type": "stream",
          "name": "stderr",
          "text": [
            " 41%|████      | 2763/6721 [01:28<01:49, 36.10it/s]"
          ]
        },
        {
          "output_type": "stream",
          "name": "stdout",
          "text": [
            "/content/gdrive/MyDrive/george_ds/no_george/4cd4e2f0ad0992f8e20f21a68860834b.jpg removed\n"
          ]
        },
        {
          "output_type": "stream",
          "name": "stderr",
          "text": [
            " 41%|████▏     | 2789/6721 [01:29<02:07, 30.85it/s]"
          ]
        },
        {
          "output_type": "stream",
          "name": "stdout",
          "text": [
            "/content/gdrive/MyDrive/george_ds/no_george/ae47f899361d82043f912b0190ea7abd.jpg removed\n",
            "/content/gdrive/MyDrive/george_ds/no_george/e5062ae4896fd459f56de9b5b555ef94.jpg removed\n",
            "/content/gdrive/MyDrive/george_ds/no_george/da9423d88c5208c1ddf531e512414ce6.jpg removed\n"
          ]
        },
        {
          "output_type": "stream",
          "name": "stderr",
          "text": [
            " 42%|████▏     | 2808/6721 [01:29<01:40, 39.10it/s]"
          ]
        },
        {
          "output_type": "stream",
          "name": "stdout",
          "text": [
            "/content/gdrive/MyDrive/george_ds/no_george/95b08fb29ea56072555fe19e0eef947d.jpg removed\n"
          ]
        },
        {
          "output_type": "stream",
          "name": "stderr",
          "text": [
            " 42%|████▏     | 2827/6721 [01:30<01:40, 38.93it/s]"
          ]
        },
        {
          "output_type": "stream",
          "name": "stdout",
          "text": [
            "/content/gdrive/MyDrive/george_ds/no_george/584645bd37342fb30c52c8cef9d4c810.jpg removed\n"
          ]
        },
        {
          "output_type": "stream",
          "name": "stderr",
          "text": [
            " 42%|████▏     | 2840/6721 [01:30<01:47, 36.20it/s]"
          ]
        },
        {
          "output_type": "stream",
          "name": "stdout",
          "text": [
            "/content/gdrive/MyDrive/george_ds/no_george/5fa5c21334a084bb0cf5e42fe61285cc.jpg removed\n",
            "/content/gdrive/MyDrive/george_ds/no_george/2d6b83ada0b8d2f2e786723505cc8807.jpg removed\n"
          ]
        },
        {
          "output_type": "stream",
          "name": "stderr",
          "text": [
            " 43%|████▎     | 2883/6721 [01:31<01:19, 48.13it/s]"
          ]
        },
        {
          "output_type": "stream",
          "name": "stdout",
          "text": [
            "/content/gdrive/MyDrive/george_ds/no_george/17032a39d5ed12d7267093ea4e071ebc.jpg.1 removed\n"
          ]
        },
        {
          "output_type": "stream",
          "name": "stderr",
          "text": [
            " 43%|████▎     | 2898/6721 [01:31<01:05, 58.64it/s]"
          ]
        },
        {
          "output_type": "stream",
          "name": "stdout",
          "text": [
            "/content/gdrive/MyDrive/george_ds/no_george/8e6e60f590e116b24d12352debb24234.jpg.1 removed\n"
          ]
        },
        {
          "output_type": "stream",
          "name": "stderr",
          "text": [
            " 43%|████▎     | 2916/6721 [01:32<01:25, 44.49it/s]"
          ]
        },
        {
          "output_type": "stream",
          "name": "stdout",
          "text": [
            "/content/gdrive/MyDrive/george_ds/no_george/e0674bf811a9052ecb88a4380017d0d1.jpg removed\n",
            "/content/gdrive/MyDrive/george_ds/no_george/1549a0a1ca77aaa562aca58f299ac5dd.jpg removed\n"
          ]
        },
        {
          "output_type": "stream",
          "name": "stderr",
          "text": [
            " 44%|████▍     | 2959/6721 [01:33<01:13, 51.08it/s]"
          ]
        },
        {
          "output_type": "stream",
          "name": "stdout",
          "text": [
            "/content/gdrive/MyDrive/george_ds/no_george/ac185dad69348f226674c20e93e958c8.jpg removed\n",
            "/content/gdrive/MyDrive/george_ds/no_george/bb8148ac390a5e95a557512f53ae8965.jpg removed\n",
            "/content/gdrive/MyDrive/george_ds/no_george/e62f65b80265c6e158030eddaf408577.jpg removed\n"
          ]
        },
        {
          "output_type": "stream",
          "name": "stderr",
          "text": [
            " 44%|████▍     | 2971/6721 [01:33<01:25, 44.00it/s]"
          ]
        },
        {
          "output_type": "stream",
          "name": "stdout",
          "text": [
            "/content/gdrive/MyDrive/george_ds/no_george/2a74d5a08158c6cd76e01a5f2c5b63c9.jpg removed\n"
          ]
        },
        {
          "output_type": "stream",
          "name": "stderr",
          "text": [
            " 44%|████▍     | 2984/6721 [01:33<01:15, 49.31it/s]"
          ]
        },
        {
          "output_type": "stream",
          "name": "stdout",
          "text": [
            "/content/gdrive/MyDrive/george_ds/no_george/742d44bfc3725163252c1e9743aad581.jpg removed\n"
          ]
        },
        {
          "output_type": "stream",
          "name": "stderr",
          "text": [
            " 45%|████▍     | 2997/6721 [01:34<01:10, 52.60it/s]"
          ]
        },
        {
          "output_type": "stream",
          "name": "stdout",
          "text": [
            "/content/gdrive/MyDrive/george_ds/no_george/e99a2eee960ab87d8aae9c88eda74be3.jpg removed\n"
          ]
        },
        {
          "output_type": "stream",
          "name": "stderr",
          "text": [
            " 45%|████▍     | 3009/6721 [01:34<01:17, 48.03it/s]"
          ]
        },
        {
          "output_type": "stream",
          "name": "stdout",
          "text": [
            "/content/gdrive/MyDrive/george_ds/no_george/5705761daa23017e5cc7bc3951e81a25.jpg removed\n",
            "/content/gdrive/MyDrive/george_ds/no_george/b25d6b2987ca9ff00aa0fd0d303c25f1.jpg removed\n"
          ]
        },
        {
          "output_type": "stream",
          "name": "stderr",
          "text": [
            " 45%|████▌     | 3044/6721 [01:35<01:20, 45.59it/s]"
          ]
        },
        {
          "output_type": "stream",
          "name": "stdout",
          "text": [
            "/content/gdrive/MyDrive/george_ds/no_george/75a914177840c901da78bdcca60e1710.jpg removed\n"
          ]
        },
        {
          "output_type": "stream",
          "name": "stderr",
          "text": [
            " 46%|████▋     | 3114/6721 [01:36<01:17, 46.60it/s]"
          ]
        },
        {
          "output_type": "stream",
          "name": "stdout",
          "text": [
            "/content/gdrive/MyDrive/george_ds/no_george/3ae5b914fcd8a2d9f185842eaafb9b0c.jpg removed\n"
          ]
        },
        {
          "output_type": "stream",
          "name": "stderr",
          "text": [
            " 47%|████▋     | 3130/6721 [01:36<01:18, 45.63it/s]"
          ]
        },
        {
          "output_type": "stream",
          "name": "stdout",
          "text": [
            "/content/gdrive/MyDrive/george_ds/no_george/1422d1cad8ee7331a569353670abc9a5.jpg.1 removed\n",
            "/content/gdrive/MyDrive/george_ds/no_george/72d800df829cde541db46e418ab21410.jpg removed\n"
          ]
        },
        {
          "output_type": "stream",
          "name": "stderr",
          "text": [
            " 47%|████▋     | 3148/6721 [01:37<01:06, 53.60it/s]"
          ]
        },
        {
          "output_type": "stream",
          "name": "stdout",
          "text": [
            "/content/gdrive/MyDrive/george_ds/no_george/fe11ca454252af25cff5d4b24fcd1694.jpg removed\n"
          ]
        },
        {
          "output_type": "stream",
          "name": "stderr",
          "text": [
            " 47%|████▋     | 3170/6721 [01:37<00:58, 61.17it/s]"
          ]
        },
        {
          "output_type": "stream",
          "name": "stdout",
          "text": [
            "/content/gdrive/MyDrive/george_ds/no_george/c4b2123972f55b8e2812dd64b6d65861.jpg removed\n"
          ]
        },
        {
          "output_type": "stream",
          "name": "stderr",
          "text": [
            " 47%|████▋     | 3189/6721 [01:37<01:09, 51.09it/s]"
          ]
        },
        {
          "output_type": "stream",
          "name": "stdout",
          "text": [
            "/content/gdrive/MyDrive/george_ds/no_george/e18548e19959fc01bb009ff790cb53bd.jpg removed\n"
          ]
        },
        {
          "output_type": "stream",
          "name": "stderr",
          "text": [
            " 49%|████▊     | 3264/6721 [01:39<01:07, 50.93it/s]"
          ]
        },
        {
          "output_type": "stream",
          "name": "stdout",
          "text": [
            "/content/gdrive/MyDrive/george_ds/no_george/09a51df0d22064b5d2a0e0dc489e2d44.jpg.1 removed\n"
          ]
        },
        {
          "output_type": "stream",
          "name": "stderr",
          "text": [
            " 49%|████▉     | 3290/6721 [01:40<01:16, 44.63it/s]"
          ]
        },
        {
          "output_type": "stream",
          "name": "stdout",
          "text": [
            "/content/gdrive/MyDrive/george_ds/no_george/11d3718b36151a77fe223c81c4f93cc0.jpg removed\n",
            "/content/gdrive/MyDrive/george_ds/no_george/8c5826dc2571d12e25312156cd219009.jpg removed\n"
          ]
        },
        {
          "output_type": "stream",
          "name": "stderr",
          "text": [
            " 49%|████▉     | 3310/6721 [01:40<01:15, 45.34it/s]"
          ]
        },
        {
          "output_type": "stream",
          "name": "stdout",
          "text": [
            "/content/gdrive/MyDrive/george_ds/no_george/9b297154d887feea37adf6e59fdf138d.jpg removed\n"
          ]
        },
        {
          "output_type": "stream",
          "name": "stderr",
          "text": [
            " 50%|████▉     | 3336/6721 [01:40<01:04, 52.38it/s]"
          ]
        },
        {
          "output_type": "stream",
          "name": "stdout",
          "text": [
            "/content/gdrive/MyDrive/george_ds/no_george/53e7a41406bdb7c0b45485eafb7ca1a7.jpg removed\n",
            "/content/gdrive/MyDrive/george_ds/no_george/12425deb43243b4734d1c5d561bfcbf7.jpg removed\n"
          ]
        },
        {
          "output_type": "stream",
          "name": "stderr",
          "text": [
            " 50%|████▉     | 3348/6721 [01:41<01:14, 45.28it/s]"
          ]
        },
        {
          "output_type": "stream",
          "name": "stdout",
          "text": [
            "/content/gdrive/MyDrive/george_ds/no_george/40c58f6b15b143d6b28a55aeeafe6fa0.jpg removed\n"
          ]
        },
        {
          "output_type": "stream",
          "name": "stderr",
          "text": [
            " 50%|█████     | 3362/6721 [01:41<01:38, 34.03it/s]"
          ]
        },
        {
          "output_type": "stream",
          "name": "stdout",
          "text": [
            "/content/gdrive/MyDrive/george_ds/no_george/aeb7dc2e96354e0d3b84a6228a46da6d.jpg removed\n"
          ]
        },
        {
          "output_type": "stream",
          "name": "stderr",
          "text": [
            " 50%|█████     | 3375/6721 [01:42<01:29, 37.45it/s]"
          ]
        },
        {
          "output_type": "stream",
          "name": "stdout",
          "text": [
            "/content/gdrive/MyDrive/george_ds/no_george/1419.jpg removed\n",
            "/content/gdrive/MyDrive/george_ds/no_george/1343.jpg removed\n",
            "/content/gdrive/MyDrive/george_ds/no_george/1340.jpg removed\n",
            "/content/gdrive/MyDrive/george_ds/no_george/1336.jpg removed\n",
            "/content/gdrive/MyDrive/george_ds/no_george/1341.jpg removed\n",
            "/content/gdrive/MyDrive/george_ds/no_george/1338.jpg removed\n",
            "/content/gdrive/MyDrive/george_ds/no_george/1332.jpg removed\n",
            "/content/gdrive/MyDrive/george_ds/no_george/1337.jpg removed\n",
            "/content/gdrive/MyDrive/george_ds/no_george/1342.jpg removed\n",
            "/content/gdrive/MyDrive/george_ds/no_george/1334.jpg removed\n"
          ]
        },
        {
          "output_type": "stream",
          "name": "stderr",
          "text": [
            " 50%|█████     | 3383/6721 [01:42<01:34, 35.19it/s]"
          ]
        },
        {
          "output_type": "stream",
          "name": "stdout",
          "text": [
            "/content/gdrive/MyDrive/george_ds/no_george/1339.jpg removed\n",
            "/content/gdrive/MyDrive/george_ds/no_george/1333.jpg removed\n",
            "/content/gdrive/MyDrive/george_ds/no_george/1331.jpg removed\n",
            "/content/gdrive/MyDrive/george_ds/no_george/1330.jpg removed\n",
            "/content/gdrive/MyDrive/george_ds/no_george/1160.jpg removed\n",
            "/content/gdrive/MyDrive/george_ds/no_george/1181.jpg removed\n"
          ]
        },
        {
          "output_type": "stream",
          "name": "stderr",
          "text": [
            " 50%|█████     | 3392/6721 [01:42<01:27, 38.18it/s]"
          ]
        },
        {
          "output_type": "stream",
          "name": "stdout",
          "text": [
            "/content/gdrive/MyDrive/george_ds/no_george/1191.jpg removed\n",
            "/content/gdrive/MyDrive/george_ds/no_george/1329.jpg removed\n",
            "/content/gdrive/MyDrive/george_ds/no_george/1192.jpg removed\n",
            "/content/gdrive/MyDrive/george_ds/no_george/1193.jpg removed\n",
            "/content/gdrive/MyDrive/george_ds/no_george/1184.jpg removed\n",
            "/content/gdrive/MyDrive/george_ds/no_george/1044.jpg removed\n",
            "/content/gdrive/MyDrive/george_ds/no_george/3176.jpg removed\n",
            "/content/gdrive/MyDrive/george_ds/no_george/3177.jpg removed\n",
            "/content/gdrive/MyDrive/george_ds/no_george/3173.jpg removed"
          ]
        },
        {
          "output_type": "stream",
          "name": "stderr",
          "text": [
            "\r 51%|█████     | 3396/6721 [01:42<01:35, 34.77it/s]"
          ]
        },
        {
          "output_type": "stream",
          "name": "stdout",
          "text": [
            "\n",
            "/content/gdrive/MyDrive/george_ds/no_george/3171.jpg removed\n",
            "/content/gdrive/MyDrive/george_ds/no_george/3169.jpg removed\n",
            "/content/gdrive/MyDrive/george_ds/no_george/3167.jpg removed\n",
            "/content/gdrive/MyDrive/george_ds/no_george/3170.jpg removed\n",
            "/content/gdrive/MyDrive/george_ds/no_george/3178.jpg removed\n",
            "/content/gdrive/MyDrive/george_ds/no_george/3168.jpg removed\n"
          ]
        },
        {
          "output_type": "stream",
          "name": "stderr",
          "text": [
            " 51%|█████     | 3404/6721 [01:42<01:42, 32.51it/s]"
          ]
        },
        {
          "output_type": "stream",
          "name": "stdout",
          "text": [
            "/content/gdrive/MyDrive/george_ds/no_george/3175.jpg removed\n",
            "/content/gdrive/MyDrive/george_ds/no_george/3174.jpg removed\n",
            "/content/gdrive/MyDrive/george_ds/no_george/3172.jpg removed\n",
            "/content/gdrive/MyDrive/george_ds/no_george/3166.jpg removed\n",
            "/content/gdrive/MyDrive/george_ds/no_george/3165.jpg removed\n",
            "/content/gdrive/MyDrive/george_ds/no_george/3150.jpg removed\n",
            "/content/gdrive/MyDrive/george_ds/no_george/3156.jpg removed\n",
            "/content/gdrive/MyDrive/george_ds/no_george/3299.jpg removed\n"
          ]
        },
        {
          "output_type": "stream",
          "name": "stderr",
          "text": [
            " 51%|█████     | 3412/6721 [01:43<01:42, 32.44it/s]"
          ]
        },
        {
          "output_type": "stream",
          "name": "stdout",
          "text": [
            "/content/gdrive/MyDrive/george_ds/no_george/3152.jpg removed\n",
            "/content/gdrive/MyDrive/george_ds/no_george/3163.jpg removed\n",
            "/content/gdrive/MyDrive/george_ds/no_george/3154.jpg removed\n",
            "/content/gdrive/MyDrive/george_ds/no_george/3162.jpg removed\n",
            "/content/gdrive/MyDrive/george_ds/no_george/3157.jpg removed\n",
            "/content/gdrive/MyDrive/george_ds/no_george/3284.jpg removed\n"
          ]
        },
        {
          "output_type": "stream",
          "name": "stderr",
          "text": [
            " 51%|█████     | 3420/6721 [01:43<01:45, 31.28it/s]"
          ]
        },
        {
          "output_type": "stream",
          "name": "stdout",
          "text": [
            "/content/gdrive/MyDrive/george_ds/no_george/3121.jpg removed\n",
            "/content/gdrive/MyDrive/george_ds/no_george/3164.jpg removed\n",
            "/content/gdrive/MyDrive/george_ds/no_george/3037.jpg removed\n",
            "/content/gdrive/MyDrive/george_ds/no_george/3042.jpg removed\n",
            "/content/gdrive/MyDrive/george_ds/no_george/3151.jpg removed\n",
            "/content/gdrive/MyDrive/george_ds/no_george/3161.jpg removed\n",
            "/content/gdrive/MyDrive/george_ds/no_george/3158.jpg removed\n"
          ]
        },
        {
          "output_type": "stream",
          "name": "stderr",
          "text": [
            "\r 51%|█████     | 3424/6721 [01:43<01:54, 28.84it/s]"
          ]
        },
        {
          "output_type": "stream",
          "name": "stdout",
          "text": [
            "/content/gdrive/MyDrive/george_ds/no_george/3160.jpg removed\n",
            "/content/gdrive/MyDrive/george_ds/no_george/3153.jpg removed\n",
            "/content/gdrive/MyDrive/george_ds/no_george/3159.jpg removed\n",
            "/content/gdrive/MyDrive/george_ds/no_george/3155.jpg removed\n",
            "/content/gdrive/MyDrive/george_ds/no_george/1907.jpg removed\n",
            "/content/gdrive/MyDrive/george_ds/no_george/1908.jpg removed\n"
          ]
        },
        {
          "output_type": "stream",
          "name": "stderr",
          "text": [
            " 51%|█████     | 3433/6721 [01:43<01:36, 33.94it/s]"
          ]
        },
        {
          "output_type": "stream",
          "name": "stdout",
          "text": [
            "/content/gdrive/MyDrive/george_ds/no_george/3363.jpg removed\n",
            "/content/gdrive/MyDrive/george_ds/no_george/3360.jpg removed\n",
            "/content/gdrive/MyDrive/george_ds/no_george/3365.jpg removed\n",
            "/content/gdrive/MyDrive/george_ds/no_george/3310.jpg removed\n",
            "/content/gdrive/MyDrive/george_ds/no_george/3305.jpg removed\n",
            "/content/gdrive/MyDrive/george_ds/no_george/3308.jpg removed\n",
            "/content/gdrive/MyDrive/george_ds/no_george/3306.jpg removed\n",
            "/content/gdrive/MyDrive/george_ds/no_george/3312.jpg removed\n",
            "/content/gdrive/MyDrive/george_ds/no_george/3292.jpg removed\n"
          ]
        },
        {
          "output_type": "stream",
          "name": "stderr",
          "text": [
            " 51%|█████     | 3441/6721 [01:44<01:48, 30.35it/s]"
          ]
        },
        {
          "output_type": "stream",
          "name": "stdout",
          "text": [
            "/content/gdrive/MyDrive/george_ds/no_george/3293.jpg removed\n",
            "/content/gdrive/MyDrive/george_ds/no_george/3288.jpg removed\n",
            "/content/gdrive/MyDrive/george_ds/no_george/3283.jpg removed\n",
            "/content/gdrive/MyDrive/george_ds/no_george/3282.jpg removed\n",
            "/content/gdrive/MyDrive/george_ds/no_george/3279.jpg removed\n",
            "/content/gdrive/MyDrive/george_ds/no_george/3276.jpg removed\n"
          ]
        },
        {
          "output_type": "stream",
          "name": "stderr",
          "text": [
            "\r 51%|█████▏    | 3445/6721 [01:44<01:53, 28.98it/s]"
          ]
        },
        {
          "output_type": "stream",
          "name": "stdout",
          "text": [
            "/content/gdrive/MyDrive/george_ds/no_george/3277.jpg removed\n",
            "/content/gdrive/MyDrive/george_ds/no_george/3280.jpg removed\n",
            "/content/gdrive/MyDrive/george_ds/no_george/3281.jpg removed\n",
            "/content/gdrive/MyDrive/george_ds/no_george/3273.jpg removed\n",
            "/content/gdrive/MyDrive/george_ds/no_george/3271.jpg removed\n",
            "/content/gdrive/MyDrive/george_ds/no_george/3270.jpg removed\n"
          ]
        },
        {
          "output_type": "stream",
          "name": "stderr",
          "text": [
            " 51%|█████▏    | 3451/6721 [01:44<01:57, 27.92it/s]"
          ]
        },
        {
          "output_type": "stream",
          "name": "stdout",
          "text": [
            "/content/gdrive/MyDrive/george_ds/no_george/3324.jpg removed\n",
            "/content/gdrive/MyDrive/george_ds/no_george/3319.jpg removed\n",
            "/content/gdrive/MyDrive/george_ds/no_george/3318.jpg removed\n",
            "/content/gdrive/MyDrive/george_ds/no_george/3326.jpg removed\n",
            "/content/gdrive/MyDrive/george_ds/no_george/3316.jpg removed\n",
            "/content/gdrive/MyDrive/george_ds/no_george/3315.jpg removed\n",
            "/content/gdrive/MyDrive/george_ds/no_george/3356.jpg removed\n"
          ]
        },
        {
          "output_type": "stream",
          "name": "stderr",
          "text": [
            " 51%|█████▏    | 3459/6721 [01:44<01:52, 29.00it/s]"
          ]
        },
        {
          "output_type": "stream",
          "name": "stdout",
          "text": [
            "/content/gdrive/MyDrive/george_ds/no_george/3355.jpg removed\n",
            "/content/gdrive/MyDrive/george_ds/no_george/3346.jpg removed\n",
            "/content/gdrive/MyDrive/george_ds/no_george/3347.jpg removed\n",
            "/content/gdrive/MyDrive/george_ds/no_george/3353.jpg removed\n",
            "/content/gdrive/MyDrive/george_ds/no_george/3286.jpg removed\n",
            "/content/gdrive/MyDrive/george_ds/no_george/3289.jpg removed\n",
            "/content/gdrive/MyDrive/george_ds/no_george/3295.jpg removed\n"
          ]
        },
        {
          "output_type": "stream",
          "name": "stderr",
          "text": [
            " 52%|█████▏    | 3469/6721 [01:45<01:36, 33.85it/s]"
          ]
        },
        {
          "output_type": "stream",
          "name": "stdout",
          "text": [
            "/content/gdrive/MyDrive/george_ds/no_george/3285.jpg removed\n",
            "/content/gdrive/MyDrive/george_ds/no_george/3296.jpg removed\n",
            "/content/gdrive/MyDrive/george_ds/no_george/3287.jpg removed\n",
            "/content/gdrive/MyDrive/george_ds/no_george/3278.jpg removed\n",
            "/content/gdrive/MyDrive/george_ds/no_george/3272.jpg removed\n",
            "/content/gdrive/MyDrive/george_ds/no_george/3275.jpg removed\n",
            "/content/gdrive/MyDrive/george_ds/no_george/3274.jpg removed\n",
            "/content/gdrive/MyDrive/george_ds/no_george/3342.jpg removed\n"
          ]
        },
        {
          "output_type": "stream",
          "name": "stderr",
          "text": [
            "\r 52%|█████▏    | 3473/6721 [01:45<01:55, 28.22it/s]"
          ]
        },
        {
          "output_type": "stream",
          "name": "stdout",
          "text": [
            "/content/gdrive/MyDrive/george_ds/no_george/3343.jpg removed\n",
            "/content/gdrive/MyDrive/george_ds/no_george/3334.jpg removed\n",
            "/content/gdrive/MyDrive/george_ds/no_george/3339.jpg removed\n",
            "/content/gdrive/MyDrive/george_ds/no_george/3336.jpg removed\n",
            "/content/gdrive/MyDrive/george_ds/no_george/3333.jpg removed\n"
          ]
        },
        {
          "output_type": "stream",
          "name": "stderr",
          "text": [
            " 52%|█████▏    | 3481/6721 [01:45<01:44, 30.93it/s]"
          ]
        },
        {
          "output_type": "stream",
          "name": "stdout",
          "text": [
            "/content/gdrive/MyDrive/george_ds/no_george/3330.jpg removed\n",
            "/content/gdrive/MyDrive/george_ds/no_george/3322.jpg removed\n",
            "/content/gdrive/MyDrive/george_ds/no_george/3321.jpg removed\n",
            "/content/gdrive/MyDrive/george_ds/no_george/3327.jpg removed\n",
            "/content/gdrive/MyDrive/george_ds/no_george/3325.jpg removed\n",
            "/content/gdrive/MyDrive/george_ds/no_george/3317.jpg removed\n",
            "/content/gdrive/MyDrive/george_ds/no_george/3328.jpg removed\n",
            "/content/gdrive/MyDrive/george_ds/no_george/3323.jpg removed\n"
          ]
        },
        {
          "output_type": "stream",
          "name": "stderr",
          "text": [
            " 52%|█████▏    | 3490/6721 [01:45<01:35, 33.95it/s]"
          ]
        },
        {
          "output_type": "stream",
          "name": "stdout",
          "text": [
            "/content/gdrive/MyDrive/george_ds/no_george/3320.jpg removed\n",
            "/content/gdrive/MyDrive/george_ds/no_george/3350.jpg removed\n",
            "/content/gdrive/MyDrive/george_ds/no_george/3345.jpg removed\n",
            "/content/gdrive/MyDrive/george_ds/no_george/3351.jpg removed\n",
            "/content/gdrive/MyDrive/george_ds/no_george/3354.jpg removed\n",
            "/content/gdrive/MyDrive/george_ds/no_george/3358.jpg removed\n",
            "/content/gdrive/MyDrive/george_ds/no_george/3357.jpg removed\n",
            "/content/gdrive/MyDrive/george_ds/no_george/3348.jpg removed\n"
          ]
        },
        {
          "output_type": "stream",
          "name": "stderr",
          "text": [
            "\r 52%|█████▏    | 3495/6721 [01:45<01:32, 34.75it/s]"
          ]
        },
        {
          "output_type": "stream",
          "name": "stdout",
          "text": [
            "/content/gdrive/MyDrive/george_ds/no_george/3352.jpg removed\n",
            "/content/gdrive/MyDrive/george_ds/no_george/3349.jpg removed\n",
            "/content/gdrive/MyDrive/george_ds/no_george/3332.jpg removed\n",
            "/content/gdrive/MyDrive/george_ds/no_george/3338.jpg removed\n",
            "/content/gdrive/MyDrive/george_ds/no_george/3341.jpg removed\n",
            "/content/gdrive/MyDrive/george_ds/no_george/3340.jpg removed\n",
            "/content/gdrive/MyDrive/george_ds/no_george/3331.jpg removed\n",
            "/content/gdrive/MyDrive/george_ds/no_george/3335.jpg removed\n"
          ]
        },
        {
          "output_type": "stream",
          "name": "stderr",
          "text": [
            " 52%|█████▏    | 3505/6721 [01:46<01:30, 35.35it/s]"
          ]
        },
        {
          "output_type": "stream",
          "name": "stdout",
          "text": [
            "/content/gdrive/MyDrive/george_ds/no_george/3337.jpg removed\n",
            "/content/gdrive/MyDrive/george_ds/no_george/3298.jpg removed\n",
            "/content/gdrive/MyDrive/george_ds/no_george/3294.jpg removed\n",
            "/content/gdrive/MyDrive/george_ds/no_george/3297.jpg removed\n",
            "/content/gdrive/MyDrive/george_ds/no_george/3291.jpg removed\n",
            "/content/gdrive/MyDrive/george_ds/no_george/3290.jpg removed\n",
            "/content/gdrive/MyDrive/george_ds/no_george/3237.jpg removed\n"
          ]
        },
        {
          "output_type": "stream",
          "name": "stderr",
          "text": [
            " 52%|█████▏    | 3516/6721 [01:46<01:16, 41.78it/s]"
          ]
        },
        {
          "output_type": "stream",
          "name": "stdout",
          "text": [
            "/content/gdrive/MyDrive/george_ds/no_george/3233.jpg removed\n",
            "/content/gdrive/MyDrive/george_ds/no_george/3238.jpg removed\n",
            "/content/gdrive/MyDrive/george_ds/no_george/3236.jpg removed\n",
            "/content/gdrive/MyDrive/george_ds/no_george/3231.jpg removed\n",
            "/content/gdrive/MyDrive/george_ds/no_george/3229.jpg removed\n",
            "/content/gdrive/MyDrive/george_ds/no_george/3232.jpg removed\n",
            "/content/gdrive/MyDrive/george_ds/no_george/3230.jpg removed\n",
            "/content/gdrive/MyDrive/george_ds/no_george/3219.jpg removed\n",
            "/content/gdrive/MyDrive/george_ds/no_george/3214.jpg removed\n",
            "/content/gdrive/MyDrive/george_ds/no_george/3210.jpg removed\n",
            "/content/gdrive/MyDrive/george_ds/no_george/3220.jpg removed\n"
          ]
        },
        {
          "output_type": "stream",
          "name": "stderr",
          "text": [
            "\r 52%|█████▏    | 3521/6721 [01:46<01:17, 41.25it/s]"
          ]
        },
        {
          "output_type": "stream",
          "name": "stdout",
          "text": [
            "/content/gdrive/MyDrive/george_ds/no_george/3221.jpg removed\n",
            "/content/gdrive/MyDrive/george_ds/no_george/3217.jpg removed\n",
            "/content/gdrive/MyDrive/george_ds/no_george/3212.jpg removed\n",
            "/content/gdrive/MyDrive/george_ds/no_george/3211.jpg removed\n",
            "/content/gdrive/MyDrive/george_ds/no_george/3260.jpg removed\n",
            "/content/gdrive/MyDrive/george_ds/no_george/3364.jpg removed\n",
            "/content/gdrive/MyDrive/george_ds/no_george/3362.jpg removed\n",
            "/content/gdrive/MyDrive/george_ds/no_george/3361.jpg removed\n",
            "/content/gdrive/MyDrive/george_ds/no_george/3226.jpg removed\n"
          ]
        },
        {
          "output_type": "stream",
          "name": "stderr",
          "text": [
            " 53%|█████▎    | 3531/6721 [01:46<01:16, 41.77it/s]"
          ]
        },
        {
          "output_type": "stream",
          "name": "stdout",
          "text": [
            "/content/gdrive/MyDrive/george_ds/no_george/3227.jpg removed\n",
            "/content/gdrive/MyDrive/george_ds/no_george/3228.jpg removed\n",
            "/content/gdrive/MyDrive/george_ds/no_george/3225.jpg removed\n",
            "/content/gdrive/MyDrive/george_ds/no_george/3235.jpg removed\n",
            "/content/gdrive/MyDrive/george_ds/no_george/3234.jpg removed\n",
            "/content/gdrive/MyDrive/george_ds/no_george/3302.jpg removed\n",
            "/content/gdrive/MyDrive/george_ds/no_george/3309.jpg removed\n",
            "/content/gdrive/MyDrive/george_ds/no_george/3311.jpg removed\n",
            "/content/gdrive/MyDrive/george_ds/no_george/3304.jpg removed\n"
          ]
        },
        {
          "output_type": "stream",
          "name": "stderr",
          "text": [
            " 53%|█████▎    | 3543/6721 [01:47<01:10, 44.95it/s]"
          ]
        },
        {
          "output_type": "stream",
          "name": "stdout",
          "text": [
            "/content/gdrive/MyDrive/george_ds/no_george/3303.jpg removed\n",
            "/content/gdrive/MyDrive/george_ds/no_george/3307.jpg removed\n",
            "/content/gdrive/MyDrive/george_ds/no_george/3313.jpg removed\n",
            "/content/gdrive/MyDrive/george_ds/no_george/3301.jpg removed\n",
            "/content/gdrive/MyDrive/george_ds/no_george/3300.jpg removed\n",
            "/content/gdrive/MyDrive/george_ds/no_george/3268.jpg removed\n",
            "/content/gdrive/MyDrive/george_ds/no_george/3267.jpg removed\n",
            "/content/gdrive/MyDrive/george_ds/no_george/3265.jpg removed\n",
            "/content/gdrive/MyDrive/george_ds/no_george/3196.jpg removed\n",
            "/content/gdrive/MyDrive/george_ds/no_george/3197.jpg removed\n",
            "/content/gdrive/MyDrive/george_ds/no_george/3208.jpg removed\n",
            "/content/gdrive/MyDrive/george_ds/no_george/3202.jpg removed\n"
          ]
        },
        {
          "output_type": "stream",
          "name": "stderr",
          "text": [
            " 53%|█████▎    | 3555/6721 [01:47<01:05, 48.33it/s]"
          ]
        },
        {
          "output_type": "stream",
          "name": "stdout",
          "text": [
            "/content/gdrive/MyDrive/george_ds/no_george/3200.jpg removed\n",
            "/content/gdrive/MyDrive/george_ds/no_george/3198.jpg removed\n",
            "/content/gdrive/MyDrive/george_ds/no_george/3206.jpg removed\n",
            "/content/gdrive/MyDrive/george_ds/no_george/3181.jpg removed\n",
            "/content/gdrive/MyDrive/george_ds/no_george/3187.jpg removed\n",
            "/content/gdrive/MyDrive/george_ds/no_george/3180.jpg removed\n",
            "/content/gdrive/MyDrive/george_ds/no_george/1082.jpg removed\n",
            "/content/gdrive/MyDrive/george_ds/no_george/1088.jpg removed\n",
            "/content/gdrive/MyDrive/george_ds/no_george/1084.jpg removed\n",
            "/content/gdrive/MyDrive/george_ds/no_george/3193.jpg removed\n",
            "/content/gdrive/MyDrive/george_ds/no_george/3188.jpg removed\n",
            "/content/gdrive/MyDrive/george_ds/no_george/3189.jpg removed\n"
          ]
        },
        {
          "output_type": "stream",
          "name": "stderr",
          "text": [
            " 53%|█████▎    | 3566/6721 [01:47<01:09, 45.58it/s]"
          ]
        },
        {
          "output_type": "stream",
          "name": "stdout",
          "text": [
            "/content/gdrive/MyDrive/george_ds/no_george/3192.jpg removed\n",
            "/content/gdrive/MyDrive/george_ds/no_george/3314.jpg removed\n",
            "/content/gdrive/MyDrive/george_ds/no_george/3249.jpg removed\n",
            "/content/gdrive/MyDrive/george_ds/no_george/3248.jpg removed\n",
            "/content/gdrive/MyDrive/george_ds/no_george/3250.jpg removed\n",
            "/content/gdrive/MyDrive/george_ds/no_george/3252.jpg removed\n",
            "/content/gdrive/MyDrive/george_ds/no_george/3241.jpg removed\n",
            "/content/gdrive/MyDrive/george_ds/no_george/3240.jpg removed\n",
            "/content/gdrive/MyDrive/george_ds/no_george/3255.jpg removed\n"
          ]
        },
        {
          "output_type": "stream",
          "name": "stderr",
          "text": [
            " 53%|█████▎    | 3576/6721 [01:47<01:08, 45.96it/s]"
          ]
        },
        {
          "output_type": "stream",
          "name": "stdout",
          "text": [
            "/content/gdrive/MyDrive/george_ds/no_george/3256.jpg removed\n",
            "/content/gdrive/MyDrive/george_ds/no_george/3262.jpg removed\n",
            "/content/gdrive/MyDrive/george_ds/no_george/3266.jpg removed\n",
            "/content/gdrive/MyDrive/george_ds/no_george/3263.jpg removed\n",
            "/content/gdrive/MyDrive/george_ds/no_george/3216.jpg removed\n",
            "/content/gdrive/MyDrive/george_ds/no_george/3223.jpg removed\n",
            "/content/gdrive/MyDrive/george_ds/no_george/3222.jpg removed\n",
            "/content/gdrive/MyDrive/george_ds/no_george/3215.jpg removed\n",
            "/content/gdrive/MyDrive/george_ds/no_george/3218.jpg removed\n",
            "/content/gdrive/MyDrive/george_ds/no_george/3213.jpg removed\n"
          ]
        },
        {
          "output_type": "stream",
          "name": "stderr",
          "text": [
            " 53%|█████▎    | 3587/6721 [01:47<01:07, 46.11it/s]"
          ]
        },
        {
          "output_type": "stream",
          "name": "stdout",
          "text": [
            "/content/gdrive/MyDrive/george_ds/no_george/3253.jpg removed\n",
            "/content/gdrive/MyDrive/george_ds/no_george/3242.jpg removed\n",
            "/content/gdrive/MyDrive/george_ds/no_george/3243.jpg removed\n",
            "/content/gdrive/MyDrive/george_ds/no_george/3246.jpg removed\n",
            "/content/gdrive/MyDrive/george_ds/no_george/3251.jpg removed\n",
            "/content/gdrive/MyDrive/george_ds/no_george/3247.jpg removed\n",
            "/content/gdrive/MyDrive/george_ds/no_george/3245.jpg removed\n",
            "/content/gdrive/MyDrive/george_ds/no_george/3244.jpg removed\n",
            "/content/gdrive/MyDrive/george_ds/no_george/3359.jpg removed\n",
            "/content/gdrive/MyDrive/george_ds/no_george/3261.jpg removed\n"
          ]
        },
        {
          "output_type": "stream",
          "name": "stderr",
          "text": [
            "\r 53%|█████▎    | 3592/6721 [01:48<01:10, 44.60it/s]"
          ]
        },
        {
          "output_type": "stream",
          "name": "stdout",
          "text": [
            "/content/gdrive/MyDrive/george_ds/no_george/3264.jpg removed\n",
            "/content/gdrive/MyDrive/george_ds/no_george/3258.jpg removed\n",
            "/content/gdrive/MyDrive/george_ds/no_george/3259.jpg removed\n",
            "/content/gdrive/MyDrive/george_ds/no_george/3257.jpg removed\n",
            "/content/gdrive/MyDrive/george_ds/no_george/3079.jpg removed\n",
            "/content/gdrive/MyDrive/george_ds/no_george/3199.jpg removed\n",
            "/content/gdrive/MyDrive/george_ds/no_george/3204.jpg removed\n",
            "/content/gdrive/MyDrive/george_ds/no_george/3097.jpg removed\n",
            "/content/gdrive/MyDrive/george_ds/no_george/3064.jpg removed\n"
          ]
        },
        {
          "output_type": "stream",
          "name": "stderr",
          "text": [
            " 54%|█████▎    | 3603/6721 [01:48<01:07, 46.00it/s]"
          ]
        },
        {
          "output_type": "stream",
          "name": "stdout",
          "text": [
            "/content/gdrive/MyDrive/george_ds/no_george/3051.jpg removed\n",
            "/content/gdrive/MyDrive/george_ds/no_george/3102.jpg removed\n",
            "/content/gdrive/MyDrive/george_ds/no_george/3056.jpg removed\n",
            "/content/gdrive/MyDrive/george_ds/no_george/3100.jpg removed\n",
            "/content/gdrive/MyDrive/george_ds/no_george/3086.jpg removed\n",
            "/content/gdrive/MyDrive/george_ds/no_george/3087.jpg removed\n",
            "/content/gdrive/MyDrive/george_ds/no_george/1081.jpg removed\n",
            "/content/gdrive/MyDrive/george_ds/no_george/3076.jpg removed\n",
            "/content/gdrive/MyDrive/george_ds/no_george/3049.jpg removed\n"
          ]
        },
        {
          "output_type": "stream",
          "name": "stderr",
          "text": [
            " 54%|█████▍    | 3614/6721 [01:48<01:05, 47.49it/s]"
          ]
        },
        {
          "output_type": "stream",
          "name": "stdout",
          "text": [
            "/content/gdrive/MyDrive/george_ds/no_george/3071.jpg removed\n",
            "/content/gdrive/MyDrive/george_ds/no_george/3108.jpg removed\n",
            "/content/gdrive/MyDrive/george_ds/no_george/3093.jpg removed\n",
            "/content/gdrive/MyDrive/george_ds/no_george/3110.jpg removed\n",
            "/content/gdrive/MyDrive/george_ds/no_george/3082.jpg removed\n",
            "/content/gdrive/MyDrive/george_ds/no_george/3062.jpg removed\n",
            "/content/gdrive/MyDrive/george_ds/no_george/3209.jpg removed\n",
            "/content/gdrive/MyDrive/george_ds/no_george/3060.jpg removed\n",
            "/content/gdrive/MyDrive/george_ds/no_george/3098.jpg removed\n",
            "/content/gdrive/MyDrive/george_ds/no_george/3057.jpg removed\n",
            "/content/gdrive/MyDrive/george_ds/no_george/3096.jpg removed\n"
          ]
        },
        {
          "output_type": "stream",
          "name": "stderr",
          "text": [
            " 54%|█████▍    | 3624/6721 [01:48<01:11, 43.57it/s]"
          ]
        },
        {
          "output_type": "stream",
          "name": "stdout",
          "text": [
            "/content/gdrive/MyDrive/george_ds/no_george/3072.jpg removed\n",
            "/content/gdrive/MyDrive/george_ds/no_george/3118.jpg removed\n",
            "/content/gdrive/MyDrive/george_ds/no_george/3146.jpg removed\n",
            "/content/gdrive/MyDrive/george_ds/no_george/3073.jpg removed\n",
            "/content/gdrive/MyDrive/george_ds/no_george/3117.jpg removed\n",
            "/content/gdrive/MyDrive/george_ds/no_george/3080.jpg removed\n",
            "/content/gdrive/MyDrive/george_ds/no_george/3048.jpg removed\n",
            "/content/gdrive/MyDrive/george_ds/no_george/3145.jpg removed\n"
          ]
        },
        {
          "output_type": "stream",
          "name": "stderr",
          "text": [
            "\r 54%|█████▍    | 3629/6721 [01:48<01:11, 43.42it/s]"
          ]
        },
        {
          "output_type": "stream",
          "name": "stdout",
          "text": [
            "/content/gdrive/MyDrive/george_ds/no_george/3133.jpg removed\n",
            "/content/gdrive/MyDrive/george_ds/no_george/3205.jpg removed\n",
            "/content/gdrive/MyDrive/george_ds/no_george/3207.jpg removed\n",
            "/content/gdrive/MyDrive/george_ds/no_george/3203.jpg removed\n",
            "/content/gdrive/MyDrive/george_ds/no_george/3201.jpg removed\n",
            "/content/gdrive/MyDrive/george_ds/no_george/3195.jpg removed\n",
            "/content/gdrive/MyDrive/george_ds/no_george/3184.jpg removed\n",
            "/content/gdrive/MyDrive/george_ds/no_george/3183.jpg removed\n",
            "/content/gdrive/MyDrive/george_ds/no_george/3186.jpg removed\n"
          ]
        },
        {
          "output_type": "stream",
          "name": "stderr",
          "text": [
            " 54%|█████▍    | 3639/6721 [01:49<01:13, 42.16it/s]"
          ]
        },
        {
          "output_type": "stream",
          "name": "stdout",
          "text": [
            "/content/gdrive/MyDrive/george_ds/no_george/3191.jpg removed\n",
            "/content/gdrive/MyDrive/george_ds/no_george/3185.jpg removed\n",
            "/content/gdrive/MyDrive/george_ds/no_george/3182.jpg removed\n",
            "/content/gdrive/MyDrive/george_ds/no_george/3269.jpg removed\n",
            "/content/gdrive/MyDrive/george_ds/no_george/3125.jpg removed\n",
            "/content/gdrive/MyDrive/george_ds/no_george/3129.jpg removed\n",
            "/content/gdrive/MyDrive/george_ds/no_george/3224.jpg removed\n",
            "/content/gdrive/MyDrive/george_ds/no_george/3132.jpg removed\n"
          ]
        },
        {
          "output_type": "stream",
          "name": "stderr",
          "text": [
            " 54%|█████▍    | 3649/6721 [01:49<01:22, 37.04it/s]"
          ]
        },
        {
          "output_type": "stream",
          "name": "stdout",
          "text": [
            "/content/gdrive/MyDrive/george_ds/no_george/3139.jpg removed\n",
            "/content/gdrive/MyDrive/george_ds/no_george/3112.jpg removed\n",
            "/content/gdrive/MyDrive/george_ds/no_george/3075.jpg removed\n",
            "/content/gdrive/MyDrive/george_ds/no_george/3106.jpg removed\n",
            "/content/gdrive/MyDrive/george_ds/no_george/3329.jpg removed\n",
            "/content/gdrive/MyDrive/george_ds/no_george/3344.jpg removed\n",
            "/content/gdrive/MyDrive/george_ds/no_george/3128.jpg removed\n"
          ]
        },
        {
          "output_type": "stream",
          "name": "stderr",
          "text": [
            " 54%|█████▍    | 3657/6721 [01:49<01:28, 34.65it/s]"
          ]
        },
        {
          "output_type": "stream",
          "name": "stdout",
          "text": [
            "/content/gdrive/MyDrive/george_ds/no_george/3052.jpg removed\n",
            "/content/gdrive/MyDrive/george_ds/no_george/3131.jpg removed\n",
            "/content/gdrive/MyDrive/george_ds/no_george/3103.jpg removed\n",
            "/content/gdrive/MyDrive/george_ds/no_george/3194.jpg removed\n",
            "/content/gdrive/MyDrive/george_ds/no_george/3126.jpg removed\n",
            "/content/gdrive/MyDrive/george_ds/no_george/2415.jpg removed\n",
            "/content/gdrive/MyDrive/george_ds/no_george/1917.jpg removed\n",
            "/content/gdrive/MyDrive/george_ds/no_george/1905.jpg removed\n"
          ]
        },
        {
          "output_type": "stream",
          "name": "stderr",
          "text": [
            " 55%|█████▍    | 3667/6721 [01:49<01:15, 40.41it/s]"
          ]
        },
        {
          "output_type": "stream",
          "name": "stdout",
          "text": [
            "/content/gdrive/MyDrive/george_ds/no_george/3116.jpg removed\n",
            "/content/gdrive/MyDrive/george_ds/no_george/2417.jpg removed\n",
            "/content/gdrive/MyDrive/george_ds/no_george/825.jpg removed\n",
            "/content/gdrive/MyDrive/george_ds/no_george/822.jpg removed\n",
            "/content/gdrive/MyDrive/george_ds/no_george/832.jpg removed\n",
            "/content/gdrive/MyDrive/george_ds/no_george/823.jpg removed\n",
            "/content/gdrive/MyDrive/george_ds/no_george/829.jpg removed\n",
            "/content/gdrive/MyDrive/george_ds/no_george/826.jpg removed\n",
            "/content/gdrive/MyDrive/george_ds/no_george/828.jpg removed\n",
            "/content/gdrive/MyDrive/george_ds/no_george/833.jpg removed\n"
          ]
        },
        {
          "output_type": "stream",
          "name": "stderr",
          "text": [
            "\r 55%|█████▍    | 3672/6721 [01:50<01:18, 39.02it/s]"
          ]
        },
        {
          "output_type": "stream",
          "name": "stdout",
          "text": [
            "/content/gdrive/MyDrive/george_ds/no_george/821.jpg removed\n",
            "/content/gdrive/MyDrive/george_ds/no_george/818.jpg removed\n",
            "/content/gdrive/MyDrive/george_ds/no_george/816.jpg removed\n",
            "/content/gdrive/MyDrive/george_ds/no_george/807.jpg removed\n",
            "/content/gdrive/MyDrive/george_ds/no_george/814.jpg removed\n",
            "/content/gdrive/MyDrive/george_ds/no_george/817.jpg removed\n",
            "/content/gdrive/MyDrive/george_ds/no_george/809.jpg removed\n",
            "/content/gdrive/MyDrive/george_ds/no_george/806.jpg removed\n",
            "/content/gdrive/MyDrive/george_ds/no_george/812.jpg removed\n",
            "/content/gdrive/MyDrive/george_ds/no_george/811.jpg removed\n"
          ]
        },
        {
          "output_type": "stream",
          "name": "stderr",
          "text": [
            " 55%|█████▍    | 3684/6721 [01:50<01:11, 42.21it/s]"
          ]
        },
        {
          "output_type": "stream",
          "name": "stdout",
          "text": [
            "/content/gdrive/MyDrive/george_ds/no_george/808.jpg removed\n",
            "/content/gdrive/MyDrive/george_ds/no_george/815.jpg removed\n",
            "/content/gdrive/MyDrive/george_ds/no_george/842.jpg removed\n",
            "/content/gdrive/MyDrive/george_ds/no_george/844.jpg removed\n",
            "/content/gdrive/MyDrive/george_ds/no_george/841.jpg removed\n",
            "/content/gdrive/MyDrive/george_ds/no_george/845.jpg removed\n",
            "/content/gdrive/MyDrive/george_ds/no_george/1073.jpg removed\n",
            "/content/gdrive/MyDrive/george_ds/no_george/1066.jpg removed\n"
          ]
        },
        {
          "output_type": "stream",
          "name": "stderr",
          "text": [
            " 55%|█████▍    | 3693/6721 [01:50<01:21, 37.31it/s]"
          ]
        },
        {
          "output_type": "stream",
          "name": "stdout",
          "text": [
            "/content/gdrive/MyDrive/george_ds/no_george/1063.jpg removed\n",
            "/content/gdrive/MyDrive/george_ds/no_george/1070.jpg removed\n",
            "/content/gdrive/MyDrive/george_ds/no_george/1065.jpg removed\n",
            "/content/gdrive/MyDrive/george_ds/no_george/1068.jpg removed\n",
            "/content/gdrive/MyDrive/george_ds/no_george/1069.jpg removed\n",
            "/content/gdrive/MyDrive/george_ds/no_george/1071.jpg removed\n",
            "/content/gdrive/MyDrive/george_ds/no_george/1067.jpg removed\n",
            "/content/gdrive/MyDrive/george_ds/no_george/1064.jpg removed\n"
          ]
        },
        {
          "output_type": "stream",
          "name": "stderr",
          "text": [
            " 55%|█████▌    | 3702/6721 [01:50<01:17, 38.75it/s]"
          ]
        },
        {
          "output_type": "stream",
          "name": "stdout",
          "text": [
            "/content/gdrive/MyDrive/george_ds/no_george/1072.jpg removed\n",
            "/content/gdrive/MyDrive/george_ds/no_george/1062.jpg removed\n",
            "/content/gdrive/MyDrive/george_ds/no_george/1061.jpg removed\n",
            "/content/gdrive/MyDrive/george_ds/no_george/1060.jpg removed\n",
            "/content/gdrive/MyDrive/george_ds/no_george/831.jpg removed\n",
            "/content/gdrive/MyDrive/george_ds/no_george/771.jpg removed\n",
            "/content/gdrive/MyDrive/george_ds/no_george/773.jpg removed\n",
            "/content/gdrive/MyDrive/george_ds/no_george/762.jpg removed\n",
            "/content/gdrive/MyDrive/george_ds/no_george/760.jpg removed\n"
          ]
        },
        {
          "output_type": "stream",
          "name": "stderr",
          "text": [
            " 55%|█████▌    | 3712/6721 [01:51<01:09, 43.56it/s]"
          ]
        },
        {
          "output_type": "stream",
          "name": "stdout",
          "text": [
            "/content/gdrive/MyDrive/george_ds/no_george/766.jpg removed\n",
            "/content/gdrive/MyDrive/george_ds/no_george/767.jpg removed\n",
            "/content/gdrive/MyDrive/george_ds/no_george/772.jpg removed\n",
            "/content/gdrive/MyDrive/george_ds/no_george/761.jpg removed\n",
            "/content/gdrive/MyDrive/george_ds/no_george/796.jpg removed\n",
            "/content/gdrive/MyDrive/george_ds/no_george/802.jpg removed\n",
            "/content/gdrive/MyDrive/george_ds/no_george/797.jpg removed\n",
            "/content/gdrive/MyDrive/george_ds/no_george/798.jpg removed\n",
            "/content/gdrive/MyDrive/george_ds/no_george/799.jpg removed\n",
            "/content/gdrive/MyDrive/george_ds/no_george/801.jpg removed\n"
          ]
        },
        {
          "output_type": "stream",
          "name": "stderr",
          "text": [
            "\r 55%|█████▌    | 3717/6721 [01:51<01:15, 39.57it/s]"
          ]
        },
        {
          "output_type": "stream",
          "name": "stdout",
          "text": [
            "/content/gdrive/MyDrive/george_ds/no_george/1149.jpg removed\n",
            "/content/gdrive/MyDrive/george_ds/no_george/1134.jpg removed\n",
            "/content/gdrive/MyDrive/george_ds/no_george/1164.jpg removed\n",
            "/content/gdrive/MyDrive/george_ds/no_george/1179.jpg removed\n",
            "/content/gdrive/MyDrive/george_ds/no_george/794.jpg removed\n",
            "/content/gdrive/MyDrive/george_ds/no_george/800.jpg removed\n",
            "/content/gdrive/MyDrive/george_ds/no_george/790.jpg removed\n",
            "/content/gdrive/MyDrive/george_ds/no_george/791.jpg removed\n"
          ]
        },
        {
          "output_type": "stream",
          "name": "stderr",
          "text": [
            " 55%|█████▌    | 3728/6721 [01:51<01:14, 40.38it/s]"
          ]
        },
        {
          "output_type": "stream",
          "name": "stdout",
          "text": [
            "/content/gdrive/MyDrive/george_ds/no_george/782.jpg removed\n",
            "/content/gdrive/MyDrive/george_ds/no_george/785.jpg removed\n",
            "/content/gdrive/MyDrive/george_ds/no_george/775.jpg removed\n",
            "/content/gdrive/MyDrive/george_ds/no_george/779.jpg removed\n",
            "/content/gdrive/MyDrive/george_ds/no_george/784.jpg removed\n",
            "/content/gdrive/MyDrive/george_ds/no_george/786.jpg removed\n",
            "/content/gdrive/MyDrive/george_ds/no_george/783.jpg removed\n",
            "/content/gdrive/MyDrive/george_ds/no_george/778.jpg removed\n"
          ]
        },
        {
          "output_type": "stream",
          "name": "stderr",
          "text": [
            "\r 56%|█████▌    | 3733/6721 [01:51<01:11, 41.64it/s]"
          ]
        },
        {
          "output_type": "stream",
          "name": "stdout",
          "text": [
            "/content/gdrive/MyDrive/george_ds/no_george/777.jpg removed\n",
            "/content/gdrive/MyDrive/george_ds/no_george/787.jpg removed\n",
            "/content/gdrive/MyDrive/george_ds/no_george/1057.jpg removed\n",
            "/content/gdrive/MyDrive/george_ds/no_george/1056.jpg removed\n",
            "/content/gdrive/MyDrive/george_ds/no_george/1054.jpg removed\n",
            "/content/gdrive/MyDrive/george_ds/no_george/1055.jpg removed\n",
            "/content/gdrive/MyDrive/george_ds/no_george/1051.jpg removed\n",
            "/content/gdrive/MyDrive/george_ds/no_george/1053.jpg removed\n",
            "/content/gdrive/MyDrive/george_ds/no_george/1050.jpg removed\n"
          ]
        },
        {
          "output_type": "stream",
          "name": "stderr",
          "text": [
            " 56%|█████▌    | 3743/6721 [01:51<01:12, 41.01it/s]"
          ]
        },
        {
          "output_type": "stream",
          "name": "stdout",
          "text": [
            "/content/gdrive/MyDrive/george_ds/no_george/1049.jpg removed\n",
            "/content/gdrive/MyDrive/george_ds/no_george/1058.jpg removed\n",
            "/content/gdrive/MyDrive/george_ds/no_george/1048.jpg removed\n",
            "/content/gdrive/MyDrive/george_ds/no_george/1052.jpg removed\n",
            "/content/gdrive/MyDrive/george_ds/no_george/1047.jpg removed\n",
            "/content/gdrive/MyDrive/george_ds/no_george/1046.jpg removed\n",
            "/content/gdrive/MyDrive/george_ds/no_george/1045.jpg removed\n",
            "/content/gdrive/MyDrive/george_ds/no_george/1033.jpg removed\n",
            "/content/gdrive/MyDrive/george_ds/no_george/1039.jpg removed\n"
          ]
        },
        {
          "output_type": "stream",
          "name": "stderr",
          "text": [
            " 56%|█████▌    | 3753/6721 [01:52<01:11, 41.26it/s]"
          ]
        },
        {
          "output_type": "stream",
          "name": "stdout",
          "text": [
            "/content/gdrive/MyDrive/george_ds/no_george/1041.jpg removed\n",
            "/content/gdrive/MyDrive/george_ds/no_george/1038.jpg removed\n",
            "/content/gdrive/MyDrive/george_ds/no_george/1036.jpg removed\n",
            "/content/gdrive/MyDrive/george_ds/no_george/1037.jpg removed\n",
            "/content/gdrive/MyDrive/george_ds/no_george/1034.jpg removed\n",
            "/content/gdrive/MyDrive/george_ds/no_george/1040.jpg removed\n",
            "/content/gdrive/MyDrive/george_ds/no_george/1035.jpg removed\n",
            "/content/gdrive/MyDrive/george_ds/no_george/1043.jpg removed\n",
            "/content/gdrive/MyDrive/george_ds/no_george/1042.jpg removed\n"
          ]
        },
        {
          "output_type": "stream",
          "name": "stderr",
          "text": [
            " 56%|█████▌    | 3763/6721 [01:52<01:16, 38.72it/s]"
          ]
        },
        {
          "output_type": "stream",
          "name": "stdout",
          "text": [
            "/content/gdrive/MyDrive/george_ds/no_george/1032.jpg removed\n",
            "/content/gdrive/MyDrive/george_ds/no_george/1031.jpg removed\n",
            "/content/gdrive/MyDrive/george_ds/no_george/1030.jpg removed\n",
            "/content/gdrive/MyDrive/george_ds/no_george/770.jpg removed\n",
            "/content/gdrive/MyDrive/george_ds/no_george/765.jpg removed\n",
            "/content/gdrive/MyDrive/george_ds/no_george/781.jpg removed\n",
            "/content/gdrive/MyDrive/george_ds/no_george/776.jpg removed\n",
            "/content/gdrive/MyDrive/george_ds/no_george/788.jpg removed\n"
          ]
        },
        {
          "output_type": "stream",
          "name": "stderr",
          "text": [
            " 56%|█████▌    | 3771/6721 [01:52<01:16, 38.61it/s]"
          ]
        },
        {
          "output_type": "stream",
          "name": "stdout",
          "text": [
            "/content/gdrive/MyDrive/george_ds/no_george/780.jpg removed\n",
            "/content/gdrive/MyDrive/george_ds/no_george/1027.jpg removed\n",
            "/content/gdrive/MyDrive/george_ds/no_george/1028.jpg removed\n",
            "/content/gdrive/MyDrive/george_ds/no_george/1021.jpg removed\n",
            "/content/gdrive/MyDrive/george_ds/no_george/1023.jpg removed\n",
            "/content/gdrive/MyDrive/george_ds/no_george/1022.jpg removed\n",
            "/content/gdrive/MyDrive/george_ds/no_george/1024.jpg removed\n",
            "/content/gdrive/MyDrive/george_ds/no_george/1025.jpg removed\n"
          ]
        },
        {
          "output_type": "stream",
          "name": "stderr",
          "text": [
            "\r 56%|█████▌    | 3775/6721 [01:52<01:22, 35.50it/s]"
          ]
        },
        {
          "output_type": "stream",
          "name": "stdout",
          "text": [
            "/content/gdrive/MyDrive/george_ds/no_george/1026.jpg removed\n",
            "/content/gdrive/MyDrive/george_ds/no_george/1018.jpg removed\n",
            "/content/gdrive/MyDrive/george_ds/no_george/1019.jpg removed\n",
            "/content/gdrive/MyDrive/george_ds/no_george/1020.jpg removed\n",
            "/content/gdrive/MyDrive/george_ds/no_george/1017.jpg removed\n",
            "/content/gdrive/MyDrive/george_ds/no_george/1016.jpg removed\n",
            "/content/gdrive/MyDrive/george_ds/no_george/1015.jpg removed\n"
          ]
        },
        {
          "output_type": "stream",
          "name": "stderr",
          "text": [
            " 56%|█████▋    | 3783/6721 [01:52<01:24, 34.76it/s]"
          ]
        },
        {
          "output_type": "stream",
          "name": "stdout",
          "text": [
            "/content/gdrive/MyDrive/george_ds/no_george/1002.jpg removed\n",
            "/content/gdrive/MyDrive/george_ds/no_george/1011.jpg removed\n",
            "/content/gdrive/MyDrive/george_ds/no_george/1012.jpg removed\n",
            "/content/gdrive/MyDrive/george_ds/no_george/1005.jpg removed\n",
            "/content/gdrive/MyDrive/george_ds/no_george/1004.jpg removed\n",
            "/content/gdrive/MyDrive/george_ds/no_george/1010.jpg removed\n",
            "/content/gdrive/MyDrive/george_ds/no_george/1006.jpg removed\n",
            "/content/gdrive/MyDrive/george_ds/no_george/1009.jpg removed\n"
          ]
        },
        {
          "output_type": "stream",
          "name": "stderr",
          "text": [
            " 56%|█████▋    | 3792/6721 [01:53<01:18, 37.11it/s]"
          ]
        },
        {
          "output_type": "stream",
          "name": "stdout",
          "text": [
            "/content/gdrive/MyDrive/george_ds/no_george/1003.jpg removed\n",
            "/content/gdrive/MyDrive/george_ds/no_george/1013.jpg removed\n",
            "/content/gdrive/MyDrive/george_ds/no_george/1007.jpg removed\n",
            "/content/gdrive/MyDrive/george_ds/no_george/1008.jpg removed\n",
            "/content/gdrive/MyDrive/george_ds/no_george/1001.jpg removed\n",
            "/content/gdrive/MyDrive/george_ds/no_george/1000.jpg removed\n",
            "/content/gdrive/MyDrive/george_ds/no_george/670.jpg removed\n",
            "/content/gdrive/MyDrive/george_ds/no_george/736.jpg removed\n",
            "/content/gdrive/MyDrive/george_ds/no_george/742.jpg removed\n"
          ]
        },
        {
          "output_type": "stream",
          "name": "stderr",
          "text": [
            " 57%|█████▋    | 3801/6721 [01:53<01:18, 37.25it/s]"
          ]
        },
        {
          "output_type": "stream",
          "name": "stdout",
          "text": [
            "/content/gdrive/MyDrive/george_ds/no_george/735.jpg removed\n",
            "/content/gdrive/MyDrive/george_ds/no_george/740.jpg removed\n",
            "/content/gdrive/MyDrive/george_ds/no_george/739.jpg removed\n",
            "/content/gdrive/MyDrive/george_ds/no_george/731.jpg removed\n",
            "/content/gdrive/MyDrive/george_ds/no_george/996.jpg removed\n",
            "/content/gdrive/MyDrive/george_ds/no_george/992.jpg removed\n",
            "/content/gdrive/MyDrive/george_ds/no_george/997.jpg removed\n",
            "/content/gdrive/MyDrive/george_ds/no_george/989.jpg removed\n"
          ]
        },
        {
          "output_type": "stream",
          "name": "stderr",
          "text": [
            " 57%|█████▋    | 3809/6721 [01:53<01:21, 35.80it/s]"
          ]
        },
        {
          "output_type": "stream",
          "name": "stdout",
          "text": [
            "/content/gdrive/MyDrive/george_ds/no_george/993.jpg removed\n",
            "/content/gdrive/MyDrive/george_ds/no_george/991.jpg removed\n",
            "/content/gdrive/MyDrive/george_ds/no_george/994.jpg removed\n",
            "/content/gdrive/MyDrive/george_ds/no_george/988.jpg removed\n",
            "/content/gdrive/MyDrive/george_ds/no_george/995.jpg removed\n",
            "/content/gdrive/MyDrive/george_ds/no_george/998.jpg removed\n",
            "/content/gdrive/MyDrive/george_ds/no_george/990.jpg removed\n"
          ]
        },
        {
          "output_type": "stream",
          "name": "stderr",
          "text": [
            " 57%|█████▋    | 3817/6721 [01:53<01:22, 35.00it/s]"
          ]
        },
        {
          "output_type": "stream",
          "name": "stdout",
          "text": [
            "/content/gdrive/MyDrive/george_ds/no_george/987.jpg removed\n",
            "/content/gdrive/MyDrive/george_ds/no_george/986.jpg removed\n",
            "/content/gdrive/MyDrive/george_ds/no_george/985.jpg removed\n",
            "/content/gdrive/MyDrive/george_ds/no_george/1089.jpg removed\n",
            "/content/gdrive/MyDrive/george_ds/no_george/1119.jpg removed\n",
            "/content/gdrive/MyDrive/george_ds/no_george/1104.jpg removed\n",
            "/content/gdrive/MyDrive/george_ds/no_george/737.jpg removed\n",
            "/content/gdrive/MyDrive/george_ds/no_george/738.jpg removed\n"
          ]
        },
        {
          "output_type": "stream",
          "name": "stderr",
          "text": [
            "\r 57%|█████▋    | 3822/6721 [01:53<01:19, 36.48it/s]"
          ]
        },
        {
          "output_type": "stream",
          "name": "stdout",
          "text": [
            "/content/gdrive/MyDrive/george_ds/no_george/741.jpg removed\n",
            "/content/gdrive/MyDrive/george_ds/no_george/734.jpg removed\n",
            "/content/gdrive/MyDrive/george_ds/no_george/689.jpg removed\n",
            "/content/gdrive/MyDrive/george_ds/no_george/708.jpg removed\n",
            "/content/gdrive/MyDrive/george_ds/no_george/749.jpg removed\n",
            "/content/gdrive/MyDrive/george_ds/no_george/748.jpg removed\n",
            "/content/gdrive/MyDrive/george_ds/no_george/750.jpg removed\n"
          ]
        },
        {
          "output_type": "stream",
          "name": "stderr",
          "text": [
            " 57%|█████▋    | 3830/6721 [01:54<01:18, 36.78it/s]"
          ]
        },
        {
          "output_type": "stream",
          "name": "stdout",
          "text": [
            "/content/gdrive/MyDrive/george_ds/no_george/758.jpg removed\n",
            "/content/gdrive/MyDrive/george_ds/no_george/757.jpg removed\n",
            "/content/gdrive/MyDrive/george_ds/no_george/751.jpg removed\n",
            "/content/gdrive/MyDrive/george_ds/no_george/755.jpg removed\n",
            "/content/gdrive/MyDrive/george_ds/no_george/753.jpg removed\n",
            "/content/gdrive/MyDrive/george_ds/no_george/754.jpg removed\n",
            "/content/gdrive/MyDrive/george_ds/no_george/745.jpg removed\n",
            "/content/gdrive/MyDrive/george_ds/no_george/958.jpg removed\n"
          ]
        },
        {
          "output_type": "stream",
          "name": "stderr",
          "text": [
            " 57%|█████▋    | 3839/6721 [01:54<01:16, 37.71it/s]"
          ]
        },
        {
          "output_type": "stream",
          "name": "stdout",
          "text": [
            "/content/gdrive/MyDrive/george_ds/no_george/968.jpg removed\n",
            "/content/gdrive/MyDrive/george_ds/no_george/963.jpg removed\n",
            "/content/gdrive/MyDrive/george_ds/no_george/959.jpg removed\n",
            "/content/gdrive/MyDrive/george_ds/no_george/961.jpg removed\n",
            "/content/gdrive/MyDrive/george_ds/no_george/964.jpg removed\n",
            "/content/gdrive/MyDrive/george_ds/no_george/967.jpg removed\n",
            "/content/gdrive/MyDrive/george_ds/no_george/965.jpg removed\n",
            "/content/gdrive/MyDrive/george_ds/no_george/966.jpg removed\n"
          ]
        },
        {
          "output_type": "stream",
          "name": "stderr",
          "text": [
            " 57%|█████▋    | 3848/6721 [01:54<01:14, 38.60it/s]"
          ]
        },
        {
          "output_type": "stream",
          "name": "stdout",
          "text": [
            "/content/gdrive/MyDrive/george_ds/no_george/962.jpg removed\n",
            "/content/gdrive/MyDrive/george_ds/no_george/960.jpg removed\n",
            "/content/gdrive/MyDrive/george_ds/no_george/957.jpg removed\n",
            "/content/gdrive/MyDrive/george_ds/no_george/956.jpg removed\n",
            "/content/gdrive/MyDrive/george_ds/no_george/955.jpg removed\n",
            "/content/gdrive/MyDrive/george_ds/no_george/700.jpg removed\n",
            "/content/gdrive/MyDrive/george_ds/no_george/707.jpg removed\n",
            "/content/gdrive/MyDrive/george_ds/no_george/711.jpg removed\n",
            "/content/gdrive/MyDrive/george_ds/no_george/710.jpg removed\n"
          ]
        },
        {
          "output_type": "stream",
          "name": "stderr",
          "text": [
            " 57%|█████▋    | 3858/6721 [01:54<01:05, 44.04it/s]"
          ]
        },
        {
          "output_type": "stream",
          "name": "stdout",
          "text": [
            "/content/gdrive/MyDrive/george_ds/no_george/712.jpg removed\n",
            "/content/gdrive/MyDrive/george_ds/no_george/713.jpg removed\n",
            "/content/gdrive/MyDrive/george_ds/no_george/701.jpg removed\n",
            "/content/gdrive/MyDrive/george_ds/no_george/687.jpg removed\n",
            "/content/gdrive/MyDrive/george_ds/no_george/698.jpg removed\n",
            "/content/gdrive/MyDrive/george_ds/no_george/691.jpg removed\n",
            "/content/gdrive/MyDrive/george_ds/no_george/696.jpg removed\n",
            "/content/gdrive/MyDrive/george_ds/no_george/688.jpg removed\n",
            "/content/gdrive/MyDrive/george_ds/no_george/979.jpg removed\n"
          ]
        },
        {
          "output_type": "stream",
          "name": "stderr",
          "text": [
            "\r 57%|█████▋    | 3863/6721 [01:55<01:11, 39.86it/s]"
          ]
        },
        {
          "output_type": "stream",
          "name": "stdout",
          "text": [
            "/content/gdrive/MyDrive/george_ds/no_george/981.jpg removed\n",
            "/content/gdrive/MyDrive/george_ds/no_george/980.jpg removed\n",
            "/content/gdrive/MyDrive/george_ds/no_george/982.jpg removed\n",
            "/content/gdrive/MyDrive/george_ds/no_george/976.jpg removed\n",
            "/content/gdrive/MyDrive/george_ds/no_george/974.jpg removed\n",
            "/content/gdrive/MyDrive/george_ds/no_george/983.jpg removed\n",
            "/content/gdrive/MyDrive/george_ds/no_george/978.jpg removed\n",
            "/content/gdrive/MyDrive/george_ds/no_george/977.jpg removed\n"
          ]
        },
        {
          "output_type": "stream",
          "name": "stderr",
          "text": [
            " 58%|█████▊    | 3872/6721 [01:55<01:17, 36.79it/s]"
          ]
        },
        {
          "output_type": "stream",
          "name": "stdout",
          "text": [
            "/content/gdrive/MyDrive/george_ds/no_george/975.jpg removed\n",
            "/content/gdrive/MyDrive/george_ds/no_george/973.jpg removed\n",
            "/content/gdrive/MyDrive/george_ds/no_george/972.jpg removed\n",
            "/content/gdrive/MyDrive/george_ds/no_george/971.jpg removed\n",
            "/content/gdrive/MyDrive/george_ds/no_george/970.jpg removed\n",
            "/content/gdrive/MyDrive/george_ds/no_george/1059.jpg removed\n",
            "/content/gdrive/MyDrive/george_ds/no_george/1074.jpg removed\n",
            "/content/gdrive/MyDrive/george_ds/no_george/721.jpg removed\n"
          ]
        },
        {
          "output_type": "stream",
          "name": "stderr",
          "text": [
            " 58%|█████▊    | 3881/6721 [01:55<01:14, 38.36it/s]"
          ]
        },
        {
          "output_type": "stream",
          "name": "stdout",
          "text": [
            "/content/gdrive/MyDrive/george_ds/no_george/725.jpg removed\n",
            "/content/gdrive/MyDrive/george_ds/no_george/722.jpg removed\n",
            "/content/gdrive/MyDrive/george_ds/no_george/726.jpg removed\n",
            "/content/gdrive/MyDrive/george_ds/no_george/727.jpg removed\n",
            "/content/gdrive/MyDrive/george_ds/no_george/719.jpg removed\n",
            "/content/gdrive/MyDrive/george_ds/no_george/718.jpg removed\n",
            "/content/gdrive/MyDrive/george_ds/no_george/715.jpg removed\n",
            "/content/gdrive/MyDrive/george_ds/no_george/723.jpg removed\n",
            "/content/gdrive/MyDrive/george_ds/no_george/661.jpg removed\n"
          ]
        },
        {
          "output_type": "stream",
          "name": "stderr",
          "text": [
            " 58%|█████▊    | 3890/6721 [01:55<01:15, 37.26it/s]"
          ]
        },
        {
          "output_type": "stream",
          "name": "stdout",
          "text": [
            "/content/gdrive/MyDrive/george_ds/no_george/662.jpg removed\n",
            "/content/gdrive/MyDrive/george_ds/no_george/657.jpg removed\n",
            "/content/gdrive/MyDrive/george_ds/no_george/658.jpg removed\n",
            "/content/gdrive/MyDrive/george_ds/no_george/655.jpg removed\n",
            "/content/gdrive/MyDrive/george_ds/no_george/663.jpg removed\n",
            "/content/gdrive/MyDrive/george_ds/no_george/656.jpg removed\n",
            "/content/gdrive/MyDrive/george_ds/no_george/666.jpg removed\n",
            "/content/gdrive/MyDrive/george_ds/no_george/920.jpg removed\n"
          ]
        },
        {
          "output_type": "stream",
          "name": "stderr",
          "text": [
            " 58%|█████▊    | 3900/6721 [01:56<01:10, 39.93it/s]"
          ]
        },
        {
          "output_type": "stream",
          "name": "stdout",
          "text": [
            "/content/gdrive/MyDrive/george_ds/no_george/916.jpg removed\n",
            "/content/gdrive/MyDrive/george_ds/no_george/914.jpg removed\n",
            "/content/gdrive/MyDrive/george_ds/no_george/917.jpg removed\n",
            "/content/gdrive/MyDrive/george_ds/no_george/918.jpg removed\n",
            "/content/gdrive/MyDrive/george_ds/no_george/913.jpg removed\n",
            "/content/gdrive/MyDrive/george_ds/no_george/923.jpg removed\n",
            "/content/gdrive/MyDrive/george_ds/no_george/921.jpg removed\n",
            "/content/gdrive/MyDrive/george_ds/no_george/922.jpg removed\n",
            "/content/gdrive/MyDrive/george_ds/no_george/912.jpg removed\n",
            "/content/gdrive/MyDrive/george_ds/no_george/919.jpg removed\n"
          ]
        },
        {
          "output_type": "stream",
          "name": "stderr",
          "text": [
            " 58%|█████▊    | 3910/6721 [01:56<01:11, 39.40it/s]"
          ]
        },
        {
          "output_type": "stream",
          "name": "stdout",
          "text": [
            "/content/gdrive/MyDrive/george_ds/no_george/911.jpg removed\n",
            "/content/gdrive/MyDrive/george_ds/no_george/915.jpg removed\n",
            "/content/gdrive/MyDrive/george_ds/no_george/909.jpg removed\n",
            "/content/gdrive/MyDrive/george_ds/no_george/623.jpg removed\n",
            "/content/gdrive/MyDrive/george_ds/no_george/620.jpg removed\n",
            "/content/gdrive/MyDrive/george_ds/no_george/622.jpg removed\n",
            "/content/gdrive/MyDrive/george_ds/no_george/621.jpg removed\n",
            "/content/gdrive/MyDrive/george_ds/no_george/619.jpg removed\n",
            "/content/gdrive/MyDrive/george_ds/no_george/616.jpg removed\n"
          ]
        },
        {
          "output_type": "stream",
          "name": "stderr",
          "text": [
            "\r 58%|█████▊    | 3915/6721 [01:56<01:10, 39.70it/s]"
          ]
        },
        {
          "output_type": "stream",
          "name": "stdout",
          "text": [
            "/content/gdrive/MyDrive/george_ds/no_george/615.jpg removed\n",
            "/content/gdrive/MyDrive/george_ds/no_george/617.jpg removed\n",
            "/content/gdrive/MyDrive/george_ds/no_george/952.jpg removed\n",
            "/content/gdrive/MyDrive/george_ds/no_george/948.jpg removed\n",
            "/content/gdrive/MyDrive/george_ds/no_george/942.jpg removed\n",
            "/content/gdrive/MyDrive/george_ds/no_george/944.jpg removed\n",
            "/content/gdrive/MyDrive/george_ds/no_george/950.jpg removed\n"
          ]
        },
        {
          "output_type": "stream",
          "name": "stderr",
          "text": [
            " 58%|█████▊    | 3923/6721 [01:56<01:29, 31.36it/s]"
          ]
        },
        {
          "output_type": "stream",
          "name": "stdout",
          "text": [
            "/content/gdrive/MyDrive/george_ds/no_george/947.jpg removed\n",
            "/content/gdrive/MyDrive/george_ds/no_george/945.jpg removed\n",
            "/content/gdrive/MyDrive/george_ds/no_george/951.jpg removed\n",
            "/content/gdrive/MyDrive/george_ds/no_george/953.jpg removed\n",
            "/content/gdrive/MyDrive/george_ds/no_george/943.jpg removed\n"
          ]
        },
        {
          "output_type": "stream",
          "name": "stderr",
          "text": [
            "\r 58%|█████▊    | 3927/6721 [01:56<01:37, 28.63it/s]"
          ]
        },
        {
          "output_type": "stream",
          "name": "stdout",
          "text": [
            "/content/gdrive/MyDrive/george_ds/no_george/949.jpg removed\n",
            "/content/gdrive/MyDrive/george_ds/no_george/946.jpg removed\n",
            "/content/gdrive/MyDrive/george_ds/no_george/941.jpg removed\n",
            "/content/gdrive/MyDrive/george_ds/no_george/940.jpg removed\n",
            "/content/gdrive/MyDrive/george_ds/no_george/937.jpg removed\n",
            "/content/gdrive/MyDrive/george_ds/no_george/936.jpg removed\n",
            "/content/gdrive/MyDrive/george_ds/no_george/930.jpg removed\n"
          ]
        },
        {
          "output_type": "stream",
          "name": "stderr",
          "text": [
            " 59%|█████▊    | 3936/6721 [01:57<01:23, 33.29it/s]"
          ]
        },
        {
          "output_type": "stream",
          "name": "stdout",
          "text": [
            "/content/gdrive/MyDrive/george_ds/no_george/929.jpg removed\n",
            "/content/gdrive/MyDrive/george_ds/no_george/933.jpg removed\n",
            "/content/gdrive/MyDrive/george_ds/no_george/934.jpg removed\n",
            "/content/gdrive/MyDrive/george_ds/no_george/932.jpg removed\n",
            "/content/gdrive/MyDrive/george_ds/no_george/938.jpg removed\n",
            "/content/gdrive/MyDrive/george_ds/no_george/935.jpg removed\n",
            "/content/gdrive/MyDrive/george_ds/no_george/931.jpg removed\n",
            "/content/gdrive/MyDrive/george_ds/no_george/928.jpg removed\n"
          ]
        },
        {
          "output_type": "stream",
          "name": "stderr",
          "text": [
            " 59%|█████▊    | 3944/6721 [01:57<01:22, 33.53it/s]"
          ]
        },
        {
          "output_type": "stream",
          "name": "stdout",
          "text": [
            "/content/gdrive/MyDrive/george_ds/no_george/927.jpg removed\n",
            "/content/gdrive/MyDrive/george_ds/no_george/926.jpg removed\n",
            "/content/gdrive/MyDrive/george_ds/no_george/925.jpg removed\n",
            "/content/gdrive/MyDrive/george_ds/no_george/648.jpg removed\n",
            "/content/gdrive/MyDrive/george_ds/no_george/644.jpg removed\n",
            "/content/gdrive/MyDrive/george_ds/no_george/641.jpg removed\n",
            "/content/gdrive/MyDrive/george_ds/no_george/642.jpg removed\n"
          ]
        },
        {
          "output_type": "stream",
          "name": "stderr",
          "text": [
            " 59%|█████▉    | 3952/6721 [01:57<01:30, 30.48it/s]"
          ]
        },
        {
          "output_type": "stream",
          "name": "stdout",
          "text": [
            "/content/gdrive/MyDrive/george_ds/no_george/650.jpg removed\n",
            "/content/gdrive/MyDrive/george_ds/no_george/652.jpg removed\n",
            "/content/gdrive/MyDrive/george_ds/no_george/643.jpg removed\n",
            "/content/gdrive/MyDrive/george_ds/no_george/646.jpg removed\n",
            "/content/gdrive/MyDrive/george_ds/no_george/651.jpg removed\n",
            "/content/gdrive/MyDrive/george_ds/no_george/647.jpg removed\n",
            "/content/gdrive/MyDrive/george_ds/no_george/984.jpg removed\n"
          ]
        },
        {
          "output_type": "stream",
          "name": "stderr",
          "text": [
            "\r 59%|█████▉    | 3956/6721 [01:57<01:38, 28.04it/s]"
          ]
        },
        {
          "output_type": "stream",
          "name": "stdout",
          "text": [
            "/content/gdrive/MyDrive/george_ds/no_george/1029.jpg removed\n",
            "/content/gdrive/MyDrive/george_ds/no_george/1014.jpg removed\n",
            "/content/gdrive/MyDrive/george_ds/no_george/999.jpg removed\n",
            "/content/gdrive/MyDrive/george_ds/no_george/605.jpg removed\n",
            "/content/gdrive/MyDrive/george_ds/no_george/599.jpg removed\n",
            "/content/gdrive/MyDrive/george_ds/no_george/600.jpg removed\n"
          ]
        },
        {
          "output_type": "stream",
          "name": "stderr",
          "text": [
            " 59%|█████▉    | 3966/6721 [01:58<01:17, 35.70it/s]"
          ]
        },
        {
          "output_type": "stream",
          "name": "stdout",
          "text": [
            "/content/gdrive/MyDrive/george_ds/no_george/607.jpg removed\n",
            "/content/gdrive/MyDrive/george_ds/no_george/608.jpg removed\n",
            "/content/gdrive/MyDrive/george_ds/no_george/597.jpg removed\n",
            "/content/gdrive/MyDrive/george_ds/no_george/603.jpg removed\n",
            "/content/gdrive/MyDrive/george_ds/no_george/634.jpg removed\n",
            "/content/gdrive/MyDrive/george_ds/no_george/631.jpg removed\n",
            "/content/gdrive/MyDrive/george_ds/no_george/625.jpg removed\n",
            "/content/gdrive/MyDrive/george_ds/no_george/627.jpg removed\n",
            "/content/gdrive/MyDrive/george_ds/no_george/626.jpg removed\n",
            "/content/gdrive/MyDrive/george_ds/no_george/630.jpg removed\n"
          ]
        },
        {
          "output_type": "stream",
          "name": "stderr",
          "text": [
            " 59%|█████▉    | 3975/6721 [01:58<01:18, 34.79it/s]"
          ]
        },
        {
          "output_type": "stream",
          "name": "stdout",
          "text": [
            "/content/gdrive/MyDrive/george_ds/no_george/587.jpg removed\n",
            "/content/gdrive/MyDrive/george_ds/no_george/593.jpg removed\n",
            "/content/gdrive/MyDrive/george_ds/no_george/581.jpg removed\n",
            "/content/gdrive/MyDrive/george_ds/no_george/902.jpg removed\n",
            "/content/gdrive/MyDrive/george_ds/no_george/904.jpg removed\n",
            "/content/gdrive/MyDrive/george_ds/no_george/899.jpg removed\n",
            "/content/gdrive/MyDrive/george_ds/no_george/906.jpg removed\n"
          ]
        },
        {
          "output_type": "stream",
          "name": "stderr",
          "text": [
            " 59%|█████▉    | 3985/6721 [01:58<01:09, 39.28it/s]"
          ]
        },
        {
          "output_type": "stream",
          "name": "stdout",
          "text": [
            "/content/gdrive/MyDrive/george_ds/no_george/905.jpg removed\n",
            "/content/gdrive/MyDrive/george_ds/no_george/903.jpg removed\n",
            "/content/gdrive/MyDrive/george_ds/no_george/898.jpg removed\n",
            "/content/gdrive/MyDrive/george_ds/no_george/908.jpg removed\n",
            "/content/gdrive/MyDrive/george_ds/no_george/901.jpg removed\n",
            "/content/gdrive/MyDrive/george_ds/no_george/907.jpg removed\n",
            "/content/gdrive/MyDrive/george_ds/no_george/900.jpg removed\n",
            "/content/gdrive/MyDrive/george_ds/no_george/897.jpg removed\n",
            "/content/gdrive/MyDrive/george_ds/no_george/896.jpg removed\n",
            "/content/gdrive/MyDrive/george_ds/no_george/895.jpg removed\n"
          ]
        },
        {
          "output_type": "stream",
          "name": "stderr",
          "text": [
            "\r 59%|█████▉    | 3990/6721 [01:58<01:16, 35.51it/s]"
          ]
        },
        {
          "output_type": "stream",
          "name": "stdout",
          "text": [
            "/content/gdrive/MyDrive/george_ds/no_george/891.jpg removed\n",
            "/content/gdrive/MyDrive/george_ds/no_george/890.jpg removed\n",
            "/content/gdrive/MyDrive/george_ds/no_george/888.jpg removed\n",
            "/content/gdrive/MyDrive/george_ds/no_george/887.jpg removed\n",
            "/content/gdrive/MyDrive/george_ds/no_george/889.jpg removed\n",
            "/content/gdrive/MyDrive/george_ds/no_george/893.jpg removed\n"
          ]
        },
        {
          "output_type": "stream",
          "name": "stderr",
          "text": [
            " 59%|█████▉    | 3998/6721 [01:58<01:23, 32.55it/s]"
          ]
        },
        {
          "output_type": "stream",
          "name": "stdout",
          "text": [
            "/content/gdrive/MyDrive/george_ds/no_george/885.jpg removed\n",
            "/content/gdrive/MyDrive/george_ds/no_george/886.jpg removed\n",
            "/content/gdrive/MyDrive/george_ds/no_george/892.jpg removed\n",
            "/content/gdrive/MyDrive/george_ds/no_george/884.jpg removed\n",
            "/content/gdrive/MyDrive/george_ds/no_george/883.jpg removed\n",
            "/content/gdrive/MyDrive/george_ds/no_george/882.jpg removed\n",
            "/content/gdrive/MyDrive/george_ds/no_george/881.jpg removed\n",
            "/content/gdrive/MyDrive/george_ds/no_george/880.jpg removed\n"
          ]
        },
        {
          "output_type": "stream",
          "name": "stderr",
          "text": [
            " 60%|█████▉    | 4006/6721 [01:59<01:21, 33.46it/s]"
          ]
        },
        {
          "output_type": "stream",
          "name": "stdout",
          "text": [
            "/content/gdrive/MyDrive/george_ds/no_george/585.jpg removed\n",
            "/content/gdrive/MyDrive/george_ds/no_george/584.jpg removed\n",
            "/content/gdrive/MyDrive/george_ds/no_george/583.jpg removed\n",
            "/content/gdrive/MyDrive/george_ds/no_george/860.jpg removed\n",
            "/content/gdrive/MyDrive/george_ds/no_george/863.jpg removed\n",
            "/content/gdrive/MyDrive/george_ds/no_george/862.jpg removed\n",
            "/content/gdrive/MyDrive/george_ds/no_george/853.jpg removed\n"
          ]
        },
        {
          "output_type": "stream",
          "name": "stderr",
          "text": [
            "\r 60%|█████▉    | 4010/6721 [01:59<01:23, 32.47it/s]"
          ]
        },
        {
          "output_type": "stream",
          "name": "stdout",
          "text": [
            "/content/gdrive/MyDrive/george_ds/no_george/858.jpg removed\n",
            "/content/gdrive/MyDrive/george_ds/no_george/854.jpg removed\n",
            "/content/gdrive/MyDrive/george_ds/no_george/855.jpg removed\n",
            "/content/gdrive/MyDrive/george_ds/no_george/859.jpg removed\n",
            "/content/gdrive/MyDrive/george_ds/no_george/857.jpg removed\n",
            "/content/gdrive/MyDrive/george_ds/no_george/861.jpg removed\n"
          ]
        },
        {
          "output_type": "stream",
          "name": "stderr",
          "text": [
            " 60%|█████▉    | 4018/6721 [01:59<01:39, 27.12it/s]"
          ]
        },
        {
          "output_type": "stream",
          "name": "stdout",
          "text": [
            "/content/gdrive/MyDrive/george_ds/no_george/856.jpg removed\n",
            "/content/gdrive/MyDrive/george_ds/no_george/852.jpg removed\n",
            "/content/gdrive/MyDrive/george_ds/no_george/851.jpg removed\n",
            "/content/gdrive/MyDrive/george_ds/no_george/850.jpg removed\n",
            "/content/gdrive/MyDrive/george_ds/no_george/872.jpg removed\n",
            "/content/gdrive/MyDrive/george_ds/no_george/873.jpg removed\n"
          ]
        },
        {
          "output_type": "stream",
          "name": "stderr",
          "text": [
            " 60%|█████▉    | 4025/6721 [01:59<01:34, 28.43it/s]"
          ]
        },
        {
          "output_type": "stream",
          "name": "stdout",
          "text": [
            "/content/gdrive/MyDrive/george_ds/no_george/871.jpg removed\n",
            "/content/gdrive/MyDrive/george_ds/no_george/867.jpg removed\n",
            "/content/gdrive/MyDrive/george_ds/no_george/869.jpg removed\n",
            "/content/gdrive/MyDrive/george_ds/no_george/870.jpg removed\n",
            "/content/gdrive/MyDrive/george_ds/no_george/877.jpg removed\n",
            "/content/gdrive/MyDrive/george_ds/no_george/874.jpg removed\n",
            "/content/gdrive/MyDrive/george_ds/no_george/878.jpg removed\n"
          ]
        },
        {
          "output_type": "stream",
          "name": "stderr",
          "text": [
            " 60%|█████▉    | 4031/6721 [02:00<01:39, 27.06it/s]"
          ]
        },
        {
          "output_type": "stream",
          "name": "stdout",
          "text": [
            "/content/gdrive/MyDrive/george_ds/no_george/875.jpg removed\n",
            "/content/gdrive/MyDrive/george_ds/no_george/876.jpg removed\n",
            "/content/gdrive/MyDrive/george_ds/no_george/868.jpg removed\n",
            "/content/gdrive/MyDrive/george_ds/no_george/866.jpg removed\n",
            "/content/gdrive/MyDrive/george_ds/no_george/865.jpg removed\n",
            "/content/gdrive/MyDrive/george_ds/no_george/954.jpg removed\n"
          ]
        },
        {
          "output_type": "stream",
          "name": "stderr",
          "text": [
            "\r 60%|██████    | 4035/6721 [02:00<01:32, 29.08it/s]"
          ]
        },
        {
          "output_type": "stream",
          "name": "stdout",
          "text": [
            "/content/gdrive/MyDrive/george_ds/no_george/969.jpg removed\n",
            "/content/gdrive/MyDrive/george_ds/no_george/847.jpg removed\n",
            "/content/gdrive/MyDrive/george_ds/no_george/839.jpg removed\n",
            "/content/gdrive/MyDrive/george_ds/no_george/843.jpg removed\n",
            "/content/gdrive/MyDrive/george_ds/no_george/838.jpg removed\n",
            "/content/gdrive/MyDrive/george_ds/no_george/846.jpg removed\n",
            "/content/gdrive/MyDrive/george_ds/no_george/840.jpg removed\n",
            "/content/gdrive/MyDrive/george_ds/no_george/848.jpg removed\n",
            "/content/gdrive/MyDrive/george_ds/no_george/837.jpg removed\n"
          ]
        },
        {
          "output_type": "stream",
          "name": "stderr",
          "text": [
            " 60%|██████    | 4044/6721 [02:00<01:22, 32.49it/s]"
          ]
        },
        {
          "output_type": "stream",
          "name": "stdout",
          "text": [
            "/content/gdrive/MyDrive/george_ds/no_george/836.jpg removed\n",
            "/content/gdrive/MyDrive/george_ds/no_george/835.jpg removed\n",
            "/content/gdrive/MyDrive/george_ds/no_george/813.jpg removed\n",
            "/content/gdrive/MyDrive/george_ds/no_george/810.jpg removed\n",
            "/content/gdrive/MyDrive/george_ds/no_george/805.jpg removed\n",
            "/content/gdrive/MyDrive/george_ds/no_george/570.jpg removed\n"
          ]
        },
        {
          "output_type": "stream",
          "name": "stderr",
          "text": [
            " 60%|██████    | 4052/6721 [02:00<01:21, 32.72it/s]"
          ]
        },
        {
          "output_type": "stream",
          "name": "stdout",
          "text": [
            "/content/gdrive/MyDrive/george_ds/no_george/577.jpg removed\n",
            "/content/gdrive/MyDrive/george_ds/no_george/568.jpg removed\n",
            "/content/gdrive/MyDrive/george_ds/no_george/578.jpg removed\n",
            "/content/gdrive/MyDrive/george_ds/no_george/566.jpg removed\n",
            "/content/gdrive/MyDrive/george_ds/no_george/571.jpg removed\n",
            "/content/gdrive/MyDrive/george_ds/no_george/576.jpg removed\n",
            "/content/gdrive/MyDrive/george_ds/no_george/573.jpg removed\n"
          ]
        },
        {
          "output_type": "stream",
          "name": "stderr",
          "text": [
            "\r 60%|██████    | 4056/6721 [02:00<01:25, 31.08it/s]"
          ]
        },
        {
          "output_type": "stream",
          "name": "stdout",
          "text": [
            "/content/gdrive/MyDrive/george_ds/no_george/574.jpg removed\n",
            "/content/gdrive/MyDrive/george_ds/no_george/824.jpg removed\n",
            "/content/gdrive/MyDrive/george_ds/no_george/830.jpg removed\n",
            "/content/gdrive/MyDrive/george_ds/no_george/827.jpg removed\n",
            "/content/gdrive/MyDrive/george_ds/no_george/820.jpg removed\n",
            "/content/gdrive/MyDrive/george_ds/no_george/939.jpg removed\n"
          ]
        },
        {
          "output_type": "stream",
          "name": "stderr",
          "text": [
            " 60%|██████    | 4064/6721 [02:01<01:23, 31.83it/s]"
          ]
        },
        {
          "output_type": "stream",
          "name": "stdout",
          "text": [
            "/content/gdrive/MyDrive/george_ds/no_george/910.jpg removed\n",
            "/content/gdrive/MyDrive/george_ds/no_george/517.jpg removed\n",
            "/content/gdrive/MyDrive/george_ds/no_george/508.jpg removed\n",
            "/content/gdrive/MyDrive/george_ds/no_george/509.jpg removed\n",
            "/content/gdrive/MyDrive/george_ds/no_george/507.jpg removed\n",
            "/content/gdrive/MyDrive/george_ds/no_george/924.jpg removed\n",
            "/content/gdrive/MyDrive/george_ds/no_george/544.jpg removed\n",
            "/content/gdrive/MyDrive/george_ds/no_george/539.jpg removed\n",
            "/content/gdrive/MyDrive/george_ds/no_george/543.jpg removed"
          ]
        },
        {
          "output_type": "stream",
          "name": "stderr",
          "text": [
            " 61%|██████    | 4073/6721 [02:01<01:25, 31.00it/s]"
          ]
        },
        {
          "output_type": "stream",
          "name": "stdout",
          "text": [
            "\n",
            "/content/gdrive/MyDrive/george_ds/no_george/535.jpg removed\n",
            "/content/gdrive/MyDrive/george_ds/no_george/611.jpg removed\n",
            "/content/gdrive/MyDrive/george_ds/no_george/506.jpg removed\n",
            "/content/gdrive/MyDrive/george_ds/no_george/516.jpg removed\n",
            "/content/gdrive/MyDrive/george_ds/no_george/515.jpg removed\n"
          ]
        },
        {
          "output_type": "stream",
          "name": "stderr",
          "text": [
            " 61%|██████    | 4081/6721 [02:01<01:16, 34.57it/s]"
          ]
        },
        {
          "output_type": "stream",
          "name": "stdout",
          "text": [
            "/content/gdrive/MyDrive/george_ds/no_george/551.jpg removed\n",
            "/content/gdrive/MyDrive/george_ds/no_george/558.jpg removed\n",
            "/content/gdrive/MyDrive/george_ds/no_george/552.jpg removed\n",
            "/content/gdrive/MyDrive/george_ds/no_george/795.jpg removed\n",
            "/content/gdrive/MyDrive/george_ds/no_george/803.jpg removed\n",
            "/content/gdrive/MyDrive/george_ds/no_george/793.jpg removed\n",
            "/content/gdrive/MyDrive/george_ds/no_george/792.jpg removed\n",
            "/content/gdrive/MyDrive/george_ds/no_george/526.jpg removed\n",
            "/content/gdrive/MyDrive/george_ds/no_george/521.jpg removed\n"
          ]
        },
        {
          "output_type": "stream",
          "name": "stderr",
          "text": [
            " 61%|██████    | 4089/6721 [02:01<01:20, 32.83it/s]"
          ]
        },
        {
          "output_type": "stream",
          "name": "stdout",
          "text": [
            "/content/gdrive/MyDrive/george_ds/no_george/522.jpg removed\n",
            "/content/gdrive/MyDrive/george_ds/no_george/525.jpg removed\n",
            "/content/gdrive/MyDrive/george_ds/no_george/530.jpg removed\n",
            "/content/gdrive/MyDrive/george_ds/no_george/520.jpg removed\n",
            "/content/gdrive/MyDrive/george_ds/no_george/527.jpg removed\n",
            "/content/gdrive/MyDrive/george_ds/no_george/529.jpg removed\n",
            "/content/gdrive/MyDrive/george_ds/no_george/532.jpg removed\n"
          ]
        },
        {
          "output_type": "stream",
          "name": "stderr",
          "text": [
            "\r 61%|██████    | 4095/6721 [02:02<01:10, 37.29it/s]"
          ]
        },
        {
          "output_type": "stream",
          "name": "stdout",
          "text": [
            "/content/gdrive/MyDrive/george_ds/no_george/524.jpg removed\n",
            "/content/gdrive/MyDrive/george_ds/no_george/562.jpg removed\n",
            "/content/gdrive/MyDrive/george_ds/no_george/553.jpg removed\n",
            "/content/gdrive/MyDrive/george_ds/no_george/555.jpg removed\n",
            "/content/gdrive/MyDrive/george_ds/no_george/769.jpg removed\n",
            "/content/gdrive/MyDrive/george_ds/no_george/764.jpg removed\n",
            "/content/gdrive/MyDrive/george_ds/no_george/768.jpg removed\n",
            "/content/gdrive/MyDrive/george_ds/no_george/763.jpg removed\n",
            "/content/gdrive/MyDrive/george_ds/no_george/879.jpg removed\n"
          ]
        },
        {
          "output_type": "stream",
          "name": "stderr",
          "text": [
            " 61%|██████    | 4104/6721 [02:02<01:06, 39.64it/s]"
          ]
        },
        {
          "output_type": "stream",
          "name": "stdout",
          "text": [
            "/content/gdrive/MyDrive/george_ds/no_george/894.jpg removed\n",
            "/content/gdrive/MyDrive/george_ds/no_george/849.jpg removed\n",
            "/content/gdrive/MyDrive/george_ds/no_george/864.jpg removed\n",
            "/content/gdrive/MyDrive/george_ds/no_george/482.jpg removed\n",
            "/content/gdrive/MyDrive/george_ds/no_george/476.jpg removed\n",
            "/content/gdrive/MyDrive/george_ds/no_george/475.jpg removed\n",
            "/content/gdrive/MyDrive/george_ds/no_george/488.jpg removed\n",
            "/content/gdrive/MyDrive/george_ds/no_george/480.jpg removed\n"
          ]
        },
        {
          "output_type": "stream",
          "name": "stderr",
          "text": [
            " 61%|██████    | 4114/6721 [02:02<01:05, 39.77it/s]"
          ]
        },
        {
          "output_type": "stream",
          "name": "stdout",
          "text": [
            "/content/gdrive/MyDrive/george_ds/no_george/497.jpg removed\n",
            "/content/gdrive/MyDrive/george_ds/no_george/501.jpg removed\n",
            "/content/gdrive/MyDrive/george_ds/no_george/490.jpg removed\n",
            "/content/gdrive/MyDrive/george_ds/no_george/499.jpg removed\n",
            "/content/gdrive/MyDrive/george_ds/no_george/492.jpg removed\n",
            "/content/gdrive/MyDrive/george_ds/no_george/500.jpg removed\n",
            "/content/gdrive/MyDrive/george_ds/no_george/470.jpg removed\n",
            "/content/gdrive/MyDrive/george_ds/no_george/469.jpg removed\n",
            "/content/gdrive/MyDrive/george_ds/no_george/463.jpg removed\n",
            "/content/gdrive/MyDrive/george_ds/no_george/471.jpg removed\n"
          ]
        },
        {
          "output_type": "stream",
          "name": "stderr",
          "text": [
            " 61%|██████▏   | 4125/6721 [02:02<00:56, 46.19it/s]"
          ]
        },
        {
          "output_type": "stream",
          "name": "stdout",
          "text": [
            "/content/gdrive/MyDrive/george_ds/no_george/465.jpg removed\n",
            "/content/gdrive/MyDrive/george_ds/no_george/467.jpg removed\n",
            "/content/gdrive/MyDrive/george_ds/no_george/472.jpg removed\n",
            "/content/gdrive/MyDrive/george_ds/no_george/460.jpg removed\n",
            "/content/gdrive/MyDrive/george_ds/no_george/466.jpg removed\n",
            "/content/gdrive/MyDrive/george_ds/no_george/743.jpg removed\n",
            "/content/gdrive/MyDrive/george_ds/no_george/733.jpg removed\n",
            "/content/gdrive/MyDrive/george_ds/no_george/732.jpg removed\n",
            "/content/gdrive/MyDrive/george_ds/no_george/730.jpg removed\n",
            "/content/gdrive/MyDrive/george_ds/no_george/756.jpg removed\n"
          ]
        },
        {
          "output_type": "stream",
          "name": "stderr",
          "text": [
            "\r 61%|██████▏   | 4130/6721 [02:02<01:07, 38.47it/s]"
          ]
        },
        {
          "output_type": "stream",
          "name": "stdout",
          "text": [
            "/content/gdrive/MyDrive/george_ds/no_george/752.jpg removed\n",
            "/content/gdrive/MyDrive/george_ds/no_george/747.jpg removed\n",
            "/content/gdrive/MyDrive/george_ds/no_george/746.jpg removed\n",
            "/content/gdrive/MyDrive/george_ds/no_george/706.jpg removed\n",
            "/content/gdrive/MyDrive/george_ds/no_george/703.jpg removed\n",
            "/content/gdrive/MyDrive/george_ds/no_george/704.jpg removed\n",
            "/content/gdrive/MyDrive/george_ds/no_george/705.jpg removed\n"
          ]
        },
        {
          "output_type": "stream",
          "name": "stderr",
          "text": [
            " 62%|██████▏   | 4140/6721 [02:03<01:05, 39.24it/s]"
          ]
        },
        {
          "output_type": "stream",
          "name": "stdout",
          "text": [
            "/content/gdrive/MyDrive/george_ds/no_george/709.jpg removed\n",
            "/content/gdrive/MyDrive/george_ds/no_george/702.jpg removed\n",
            "/content/gdrive/MyDrive/george_ds/no_george/676.jpg removed\n",
            "/content/gdrive/MyDrive/george_ds/no_george/682.jpg removed\n",
            "/content/gdrive/MyDrive/george_ds/no_george/681.jpg removed\n",
            "/content/gdrive/MyDrive/george_ds/no_george/677.jpg removed\n",
            "/content/gdrive/MyDrive/george_ds/no_george/674.jpg removed\n",
            "/content/gdrive/MyDrive/george_ds/no_george/673.jpg removed\n",
            "/content/gdrive/MyDrive/george_ds/no_george/683.jpg removed\n",
            "/content/gdrive/MyDrive/george_ds/no_george/678.jpg removed"
          ]
        },
        {
          "output_type": "stream",
          "name": "stderr",
          "text": [
            "\r 62%|██████▏   | 4146/6721 [02:03<01:00, 42.62it/s]"
          ]
        },
        {
          "output_type": "stream",
          "name": "stdout",
          "text": [
            "\n",
            "/content/gdrive/MyDrive/george_ds/no_george/680.jpg removed\n",
            "/content/gdrive/MyDrive/george_ds/no_george/679.jpg removed\n",
            "/content/gdrive/MyDrive/george_ds/no_george/675.jpg removed\n",
            "/content/gdrive/MyDrive/george_ds/no_george/672.jpg removed\n",
            "/content/gdrive/MyDrive/george_ds/no_george/671.jpg removed\n",
            "/content/gdrive/MyDrive/george_ds/no_george/434.jpg removed\n",
            "/content/gdrive/MyDrive/george_ds/no_george/431.jpg removed\n"
          ]
        },
        {
          "output_type": "stream",
          "name": "stderr",
          "text": [
            " 62%|██████▏   | 4156/6721 [02:03<01:06, 38.74it/s]"
          ]
        },
        {
          "output_type": "stream",
          "name": "stdout",
          "text": [
            "/content/gdrive/MyDrive/george_ds/no_george/457.jpg removed\n",
            "/content/gdrive/MyDrive/george_ds/no_george/453.jpg removed\n",
            "/content/gdrive/MyDrive/george_ds/no_george/452.jpg removed\n",
            "/content/gdrive/MyDrive/george_ds/no_george/449.jpg removed\n",
            "/content/gdrive/MyDrive/george_ds/no_george/435.jpg removed\n",
            "/content/gdrive/MyDrive/george_ds/no_george/439.jpg removed\n",
            "/content/gdrive/MyDrive/george_ds/no_george/437.jpg removed\n",
            "/content/gdrive/MyDrive/george_ds/no_george/430.jpg removed\n"
          ]
        },
        {
          "output_type": "stream",
          "name": "stderr",
          "text": [
            " 62%|██████▏   | 4164/6721 [02:03<01:07, 38.04it/s]"
          ]
        },
        {
          "output_type": "stream",
          "name": "stdout",
          "text": [
            "/content/gdrive/MyDrive/george_ds/no_george/804.jpg removed\n",
            "/content/gdrive/MyDrive/george_ds/no_george/819.jpg removed\n",
            "/content/gdrive/MyDrive/george_ds/no_george/834.jpg removed\n",
            "/content/gdrive/MyDrive/george_ds/no_george/695.jpg removed\n",
            "/content/gdrive/MyDrive/george_ds/no_george/692.jpg removed\n",
            "/content/gdrive/MyDrive/george_ds/no_george/690.jpg removed\n",
            "/content/gdrive/MyDrive/george_ds/no_george/686.jpg removed\n",
            "/content/gdrive/MyDrive/george_ds/no_george/694.jpg removed"
          ]
        },
        {
          "output_type": "stream",
          "name": "stderr",
          "text": [
            " 62%|██████▏   | 4175/6721 [02:04<00:57, 44.57it/s]"
          ]
        },
        {
          "output_type": "stream",
          "name": "stdout",
          "text": [
            "\n",
            "/content/gdrive/MyDrive/george_ds/no_george/697.jpg removed\n",
            "/content/gdrive/MyDrive/george_ds/no_george/693.jpg removed\n",
            "/content/gdrive/MyDrive/george_ds/no_george/685.jpg removed\n",
            "/content/gdrive/MyDrive/george_ds/no_george/448.jpg removed\n",
            "/content/gdrive/MyDrive/george_ds/no_george/447.jpg removed\n",
            "/content/gdrive/MyDrive/george_ds/no_george/455.jpg removed\n",
            "/content/gdrive/MyDrive/george_ds/no_george/454.jpg removed\n",
            "/content/gdrive/MyDrive/george_ds/no_george/456.jpg removed\n",
            "/content/gdrive/MyDrive/george_ds/no_george/427.jpg removed\n",
            "/content/gdrive/MyDrive/george_ds/no_george/426.jpg removed\n"
          ]
        },
        {
          "output_type": "stream",
          "name": "stderr",
          "text": [
            " 62%|██████▏   | 4185/6721 [02:04<00:55, 45.31it/s]"
          ]
        },
        {
          "output_type": "stream",
          "name": "stdout",
          "text": [
            "/content/gdrive/MyDrive/george_ds/no_george/420.jpg removed\n",
            "/content/gdrive/MyDrive/george_ds/no_george/415.jpg removed\n",
            "/content/gdrive/MyDrive/george_ds/no_george/774.jpg removed\n",
            "/content/gdrive/MyDrive/george_ds/no_george/365.jpg removed\n",
            "/content/gdrive/MyDrive/george_ds/no_george/359.jpg removed\n",
            "/content/gdrive/MyDrive/george_ds/no_george/356.jpg removed\n",
            "/content/gdrive/MyDrive/george_ds/no_george/368.jpg removed\n",
            "/content/gdrive/MyDrive/george_ds/no_george/358.jpg removed\n",
            "/content/gdrive/MyDrive/george_ds/no_george/361.jpg removed\n",
            "/content/gdrive/MyDrive/george_ds/no_george/363.jpg removed\n",
            "/content/gdrive/MyDrive/george_ds/no_george/366.jpg removed\n",
            "/content/gdrive/MyDrive/george_ds/no_george/789.jpg removed\n",
            "/content/gdrive/MyDrive/george_ds/no_george/659.jpg removed\n"
          ]
        },
        {
          "output_type": "stream",
          "name": "stderr",
          "text": [
            " 62%|██████▏   | 4195/6721 [02:04<01:17, 32.42it/s]"
          ]
        },
        {
          "output_type": "stream",
          "name": "stdout",
          "text": [
            "/content/gdrive/MyDrive/george_ds/no_george/660.jpg removed\n",
            "/content/gdrive/MyDrive/george_ds/no_george/668.jpg removed\n",
            "/content/gdrive/MyDrive/george_ds/no_george/665.jpg removed\n",
            "/content/gdrive/MyDrive/george_ds/no_george/664.jpg removed\n",
            "/content/gdrive/MyDrive/george_ds/no_george/667.jpg removed\n",
            "/content/gdrive/MyDrive/george_ds/no_george/728.jpg removed\n",
            "/content/gdrive/MyDrive/george_ds/no_george/720.jpg removed\n",
            "/content/gdrive/MyDrive/george_ds/no_george/717.jpg removed\n"
          ]
        },
        {
          "output_type": "stream",
          "name": "stderr",
          "text": [
            " 63%|██████▎   | 4205/6721 [02:04<01:05, 38.67it/s]"
          ]
        },
        {
          "output_type": "stream",
          "name": "stdout",
          "text": [
            "/content/gdrive/MyDrive/george_ds/no_george/724.jpg removed\n",
            "/content/gdrive/MyDrive/george_ds/no_george/716.jpg removed\n",
            "/content/gdrive/MyDrive/george_ds/no_george/416.jpg removed\n",
            "/content/gdrive/MyDrive/george_ds/no_george/328.jpg removed\n",
            "/content/gdrive/MyDrive/george_ds/no_george/338.jpg removed\n",
            "/content/gdrive/MyDrive/george_ds/no_george/326.jpg removed\n",
            "/content/gdrive/MyDrive/george_ds/no_george/699.jpg removed\n",
            "/content/gdrive/MyDrive/george_ds/no_george/744.jpg removed\n",
            "/content/gdrive/MyDrive/george_ds/no_george/352.jpg removed\n",
            "/content/gdrive/MyDrive/george_ds/no_george/345.jpg removed\n",
            "/content/gdrive/MyDrive/george_ds/no_george/729.jpg removed\n"
          ]
        },
        {
          "output_type": "stream",
          "name": "stderr",
          "text": [
            " 63%|██████▎   | 4216/6721 [02:05<01:04, 38.57it/s]"
          ]
        },
        {
          "output_type": "stream",
          "name": "stdout",
          "text": [
            "/content/gdrive/MyDrive/george_ds/no_george/347.jpg removed\n",
            "/content/gdrive/MyDrive/george_ds/no_george/353.jpg removed\n",
            "/content/gdrive/MyDrive/george_ds/no_george/344.jpg removed\n",
            "/content/gdrive/MyDrive/george_ds/no_george/340.jpg removed\n",
            "/content/gdrive/MyDrive/george_ds/no_george/317.jpg removed\n",
            "/content/gdrive/MyDrive/george_ds/no_george/318.jpg removed\n",
            "/content/gdrive/MyDrive/george_ds/no_george/313.jpg removed\n",
            "/content/gdrive/MyDrive/george_ds/no_george/316.jpg removed\n"
          ]
        },
        {
          "output_type": "stream",
          "name": "stderr",
          "text": [
            "\r 63%|██████▎   | 4221/6721 [02:05<01:09, 36.00it/s]"
          ]
        },
        {
          "output_type": "stream",
          "name": "stdout",
          "text": [
            "/content/gdrive/MyDrive/george_ds/no_george/321.jpg removed\n",
            "/content/gdrive/MyDrive/george_ds/no_george/312.jpg removed\n",
            "/content/gdrive/MyDrive/george_ds/no_george/638.jpg removed\n",
            "/content/gdrive/MyDrive/george_ds/no_george/637.jpg removed\n",
            "/content/gdrive/MyDrive/george_ds/no_george/633.jpg removed\n",
            "/content/gdrive/MyDrive/george_ds/no_george/636.jpg removed\n",
            "/content/gdrive/MyDrive/george_ds/no_george/632.jpg removed\n"
          ]
        },
        {
          "output_type": "stream",
          "name": "stderr",
          "text": [
            " 63%|██████▎   | 4230/6721 [02:05<01:04, 38.84it/s]"
          ]
        },
        {
          "output_type": "stream",
          "name": "stdout",
          "text": [
            "/content/gdrive/MyDrive/george_ds/no_george/629.jpg removed\n",
            "/content/gdrive/MyDrive/george_ds/no_george/635.jpg removed\n",
            "/content/gdrive/MyDrive/george_ds/no_george/628.jpg removed\n",
            "/content/gdrive/MyDrive/george_ds/no_george/649.jpg removed\n",
            "/content/gdrive/MyDrive/george_ds/no_george/645.jpg removed\n",
            "/content/gdrive/MyDrive/george_ds/no_george/653.jpg removed\n",
            "/content/gdrive/MyDrive/george_ds/no_george/640.jpg removed\n",
            "/content/gdrive/MyDrive/george_ds/no_george/410.jpg removed\n",
            "/content/gdrive/MyDrive/george_ds/no_george/413.jpg removed\n"
          ]
        },
        {
          "output_type": "stream",
          "name": "stderr",
          "text": [
            " 63%|██████▎   | 4239/6721 [02:05<01:05, 38.03it/s]"
          ]
        },
        {
          "output_type": "stream",
          "name": "stdout",
          "text": [
            "/content/gdrive/MyDrive/george_ds/no_george/378.jpg removed\n",
            "/content/gdrive/MyDrive/george_ds/no_george/380.jpg removed\n",
            "/content/gdrive/MyDrive/george_ds/no_george/382.jpg removed\n",
            "/content/gdrive/MyDrive/george_ds/no_george/381.jpg removed\n",
            "/content/gdrive/MyDrive/george_ds/no_george/370.jpg removed\n",
            "/content/gdrive/MyDrive/george_ds/no_george/375.jpg removed\n",
            "/content/gdrive/MyDrive/george_ds/no_george/371.jpg removed\n",
            "/content/gdrive/MyDrive/george_ds/no_george/374.jpg removed\n"
          ]
        },
        {
          "output_type": "stream",
          "name": "stderr",
          "text": [
            " 63%|██████▎   | 4247/6721 [02:05<01:04, 38.25it/s]"
          ]
        },
        {
          "output_type": "stream",
          "name": "stdout",
          "text": [
            "/content/gdrive/MyDrive/george_ds/no_george/759.jpg removed\n",
            "/content/gdrive/MyDrive/george_ds/no_george/389.jpg removed\n",
            "/content/gdrive/MyDrive/george_ds/no_george/397.jpg removed\n",
            "/content/gdrive/MyDrive/george_ds/no_george/412.jpg removed\n",
            "/content/gdrive/MyDrive/george_ds/no_george/409.jpg removed\n",
            "/content/gdrive/MyDrive/george_ds/no_george/405.jpg removed\n",
            "/content/gdrive/MyDrive/george_ds/no_george/411.jpg removed\n",
            "/content/gdrive/MyDrive/george_ds/no_george/403.jpg removed\n"
          ]
        },
        {
          "output_type": "stream",
          "name": "stderr",
          "text": [
            " 63%|██████▎   | 4257/6721 [02:06<00:56, 43.49it/s]"
          ]
        },
        {
          "output_type": "stream",
          "name": "stdout",
          "text": [
            "/content/gdrive/MyDrive/george_ds/no_george/408.jpg removed\n",
            "/content/gdrive/MyDrive/george_ds/no_george/400.jpg removed\n",
            "/content/gdrive/MyDrive/george_ds/no_george/391.jpg removed\n",
            "/content/gdrive/MyDrive/george_ds/no_george/388.jpg removed\n",
            "/content/gdrive/MyDrive/george_ds/no_george/386.jpg removed\n",
            "/content/gdrive/MyDrive/george_ds/no_george/392.jpg removed\n",
            "/content/gdrive/MyDrive/george_ds/no_george/394.jpg removed\n",
            "/content/gdrive/MyDrive/george_ds/no_george/385.jpg removed\n",
            "/content/gdrive/MyDrive/george_ds/no_george/618.jpg removed\n",
            "/content/gdrive/MyDrive/george_ds/no_george/614.jpg removed\n",
            "/content/gdrive/MyDrive/george_ds/no_george/337.jpg removed\n",
            "/content/gdrive/MyDrive/george_ds/no_george/336.jpg removed\n"
          ]
        },
        {
          "output_type": "stream",
          "name": "stderr",
          "text": [
            " 64%|██████▎   | 4269/6721 [02:06<00:49, 49.96it/s]"
          ]
        },
        {
          "output_type": "stream",
          "name": "stdout",
          "text": [
            "/content/gdrive/MyDrive/george_ds/no_george/330.jpg removed\n",
            "/content/gdrive/MyDrive/george_ds/no_george/714.jpg removed\n",
            "/content/gdrive/MyDrive/george_ds/no_george/669.jpg removed\n",
            "/content/gdrive/MyDrive/george_ds/no_george/591.jpg removed\n",
            "/content/gdrive/MyDrive/george_ds/no_george/582.jpg removed\n",
            "/content/gdrive/MyDrive/george_ds/no_george/589.jpg removed\n",
            "/content/gdrive/MyDrive/george_ds/no_george/590.jpg removed\n",
            "/content/gdrive/MyDrive/george_ds/no_george/592.jpg removed\n",
            "/content/gdrive/MyDrive/george_ds/no_george/588.jpg removed\n",
            "/content/gdrive/MyDrive/george_ds/no_george/586.jpg removed\n"
          ]
        },
        {
          "output_type": "stream",
          "name": "stderr",
          "text": [
            " 64%|██████▎   | 4280/6721 [02:06<00:53, 45.72it/s]"
          ]
        },
        {
          "output_type": "stream",
          "name": "stdout",
          "text": [
            "/content/gdrive/MyDrive/george_ds/no_george/580.jpg removed\n",
            "/content/gdrive/MyDrive/george_ds/no_george/684.jpg removed\n",
            "/content/gdrive/MyDrive/george_ds/no_george/604.jpg removed\n",
            "/content/gdrive/MyDrive/george_ds/no_george/601.jpg removed\n",
            "/content/gdrive/MyDrive/george_ds/no_george/602.jpg removed\n",
            "/content/gdrive/MyDrive/george_ds/no_george/606.jpg removed\n",
            "/content/gdrive/MyDrive/george_ds/no_george/598.jpg removed\n",
            "/content/gdrive/MyDrive/george_ds/no_george/596.jpg removed\n",
            "/content/gdrive/MyDrive/george_ds/no_george/595.jpg removed\n",
            "/content/gdrive/MyDrive/george_ds/no_george/654.jpg removed\n"
          ]
        },
        {
          "output_type": "stream",
          "name": "stderr",
          "text": [
            "\r 64%|██████▍   | 4285/6721 [02:06<01:02, 38.81it/s]"
          ]
        },
        {
          "output_type": "stream",
          "name": "stdout",
          "text": [
            "/content/gdrive/MyDrive/george_ds/no_george/546.jpg removed\n",
            "/content/gdrive/MyDrive/george_ds/no_george/545.jpg removed\n",
            "/content/gdrive/MyDrive/george_ds/no_george/547.jpg removed\n",
            "/content/gdrive/MyDrive/george_ds/no_george/540.jpg removed\n",
            "/content/gdrive/MyDrive/george_ds/no_george/542.jpg removed\n",
            "/content/gdrive/MyDrive/george_ds/no_george/541.jpg removed\n",
            "/content/gdrive/MyDrive/george_ds/no_george/548.jpg removed\n"
          ]
        },
        {
          "output_type": "stream",
          "name": "stderr",
          "text": [
            " 64%|██████▍   | 4295/6721 [02:07<00:59, 40.80it/s]"
          ]
        },
        {
          "output_type": "stream",
          "name": "stdout",
          "text": [
            "/content/gdrive/MyDrive/george_ds/no_george/538.jpg removed\n",
            "/content/gdrive/MyDrive/george_ds/no_george/537.jpg removed\n",
            "/content/gdrive/MyDrive/george_ds/no_george/536.jpg removed\n",
            "/content/gdrive/MyDrive/george_ds/no_george/613.jpg removed\n",
            "/content/gdrive/MyDrive/george_ds/no_george/612.jpg removed\n",
            "/content/gdrive/MyDrive/george_ds/no_george/610.jpg removed\n",
            "/content/gdrive/MyDrive/george_ds/no_george/292.jpg removed\n",
            "/content/gdrive/MyDrive/george_ds/no_george/284.jpg removed\n",
            "/content/gdrive/MyDrive/george_ds/no_george/289.jpg removed\n",
            "/content/gdrive/MyDrive/george_ds/no_george/514.jpg removed\n"
          ]
        },
        {
          "output_type": "stream",
          "name": "stderr",
          "text": [
            " 64%|██████▍   | 4305/6721 [02:07<00:56, 42.82it/s]"
          ]
        },
        {
          "output_type": "stream",
          "name": "stdout",
          "text": [
            "/content/gdrive/MyDrive/george_ds/no_george/518.jpg removed\n",
            "/content/gdrive/MyDrive/george_ds/no_george/513.jpg removed\n",
            "/content/gdrive/MyDrive/george_ds/no_george/511.jpg removed\n",
            "/content/gdrive/MyDrive/george_ds/no_george/512.jpg removed\n",
            "/content/gdrive/MyDrive/george_ds/no_george/510.jpg removed\n",
            "/content/gdrive/MyDrive/george_ds/no_george/505.jpg removed\n",
            "/content/gdrive/MyDrive/george_ds/no_george/569.jpg removed\n",
            "/content/gdrive/MyDrive/george_ds/no_george/575.jpg removed\n"
          ]
        },
        {
          "output_type": "stream",
          "name": "stderr",
          "text": [
            " 64%|██████▍   | 4316/6721 [02:07<00:55, 43.36it/s]"
          ]
        },
        {
          "output_type": "stream",
          "name": "stdout",
          "text": [
            "/content/gdrive/MyDrive/george_ds/no_george/572.jpg removed\n",
            "/content/gdrive/MyDrive/george_ds/no_george/567.jpg removed\n",
            "/content/gdrive/MyDrive/george_ds/no_george/565.jpg removed\n",
            "/content/gdrive/MyDrive/george_ds/no_george/287.jpg removed\n",
            "/content/gdrive/MyDrive/george_ds/no_george/283.jpg removed\n",
            "/content/gdrive/MyDrive/george_ds/no_george/290.jpg removed\n",
            "/content/gdrive/MyDrive/george_ds/no_george/280.jpg removed\n",
            "/content/gdrive/MyDrive/george_ds/no_george/293.jpg removed\n",
            "/content/gdrive/MyDrive/george_ds/no_george/285.jpg removed\n",
            "/content/gdrive/MyDrive/george_ds/no_george/624.jpg removed\n",
            "/content/gdrive/MyDrive/george_ds/no_george/639.jpg removed\n"
          ]
        },
        {
          "output_type": "stream",
          "name": "stderr",
          "text": [
            "\r 64%|██████▍   | 4321/6721 [02:07<00:56, 42.71it/s]"
          ]
        },
        {
          "output_type": "stream",
          "name": "stdout",
          "text": [
            "/content/gdrive/MyDrive/george_ds/no_george/301.jpg removed\n",
            "/content/gdrive/MyDrive/george_ds/no_george/300.jpg removed\n",
            "/content/gdrive/MyDrive/george_ds/no_george/306.jpg removed\n",
            "/content/gdrive/MyDrive/george_ds/no_george/298.jpg removed\n",
            "/content/gdrive/MyDrive/george_ds/no_george/295.jpg removed\n",
            "/content/gdrive/MyDrive/george_ds/no_george/299.jpg removed\n",
            "/content/gdrive/MyDrive/george_ds/no_george/297.jpg removed\n",
            "/content/gdrive/MyDrive/george_ds/no_george/308.jpg removed\n",
            "/content/gdrive/MyDrive/george_ds/no_george/302.jpg removed\n",
            "/content/gdrive/MyDrive/george_ds/no_george/528.jpg removed\n"
          ]
        },
        {
          "output_type": "stream",
          "name": "stderr",
          "text": [
            " 64%|██████▍   | 4332/6721 [02:07<00:58, 40.95it/s]"
          ]
        },
        {
          "output_type": "stream",
          "name": "stdout",
          "text": [
            "/content/gdrive/MyDrive/george_ds/no_george/531.jpg removed\n",
            "/content/gdrive/MyDrive/george_ds/no_george/533.jpg removed\n",
            "/content/gdrive/MyDrive/george_ds/no_george/523.jpg removed\n",
            "/content/gdrive/MyDrive/george_ds/no_george/560.jpg removed\n",
            "/content/gdrive/MyDrive/george_ds/no_george/557.jpg removed\n",
            "/content/gdrive/MyDrive/george_ds/no_george/556.jpg removed\n",
            "/content/gdrive/MyDrive/george_ds/no_george/554.jpg removed\n",
            "/content/gdrive/MyDrive/george_ds/no_george/561.jpg removed\n"
          ]
        },
        {
          "output_type": "stream",
          "name": "stderr",
          "text": [
            " 65%|██████▍   | 4342/6721 [02:08<00:59, 39.91it/s]"
          ]
        },
        {
          "output_type": "stream",
          "name": "stdout",
          "text": [
            "/content/gdrive/MyDrive/george_ds/no_george/563.jpg removed\n",
            "/content/gdrive/MyDrive/george_ds/no_george/559.jpg removed\n",
            "/content/gdrive/MyDrive/george_ds/no_george/550.jpg removed\n",
            "/content/gdrive/MyDrive/george_ds/no_george/498.jpg removed\n",
            "/content/gdrive/MyDrive/george_ds/no_george/503.jpg removed\n",
            "/content/gdrive/MyDrive/george_ds/no_george/493.jpg removed\n",
            "/content/gdrive/MyDrive/george_ds/no_george/496.jpg removed\n",
            "/content/gdrive/MyDrive/george_ds/no_george/502.jpg removed\n"
          ]
        },
        {
          "output_type": "stream",
          "name": "stderr",
          "text": [
            "\r 65%|██████▍   | 4347/6721 [02:08<00:59, 39.61it/s]"
          ]
        },
        {
          "output_type": "stream",
          "name": "stdout",
          "text": [
            "/content/gdrive/MyDrive/george_ds/no_george/495.jpg removed\n",
            "/content/gdrive/MyDrive/george_ds/no_george/494.jpg removed\n",
            "/content/gdrive/MyDrive/george_ds/no_george/491.jpg removed\n",
            "/content/gdrive/MyDrive/george_ds/no_george/256.jpg removed\n",
            "/content/gdrive/MyDrive/george_ds/no_george/257.jpg removed\n",
            "/content/gdrive/MyDrive/george_ds/no_george/250.jpg removed\n",
            "/content/gdrive/MyDrive/george_ds/no_george/252.jpg removed\n",
            "/content/gdrive/MyDrive/george_ds/no_george/594.jpg removed\n",
            "/content/gdrive/MyDrive/george_ds/no_george/464.jpg removed\n"
          ]
        },
        {
          "output_type": "stream",
          "name": "stderr",
          "text": [
            " 65%|██████▍   | 4356/6721 [02:08<01:00, 38.80it/s]"
          ]
        },
        {
          "output_type": "stream",
          "name": "stdout",
          "text": [
            "/content/gdrive/MyDrive/george_ds/no_george/462.jpg removed\n",
            "/content/gdrive/MyDrive/george_ds/no_george/461.jpg removed\n",
            "/content/gdrive/MyDrive/george_ds/no_george/473.jpg removed\n",
            "/content/gdrive/MyDrive/george_ds/no_george/468.jpg removed\n",
            "/content/gdrive/MyDrive/george_ds/no_george/277.jpg removed\n",
            "/content/gdrive/MyDrive/george_ds/no_george/265.jpg removed\n",
            "/content/gdrive/MyDrive/george_ds/no_george/270.jpg removed\n",
            "/content/gdrive/MyDrive/george_ds/no_george/267.jpg removed\n"
          ]
        },
        {
          "output_type": "stream",
          "name": "stderr",
          "text": [
            " 65%|██████▍   | 4364/6721 [02:08<01:04, 36.79it/s]"
          ]
        },
        {
          "output_type": "stream",
          "name": "stdout",
          "text": [
            "/content/gdrive/MyDrive/george_ds/no_george/275.jpg removed\n",
            "/content/gdrive/MyDrive/george_ds/no_george/276.jpg removed\n",
            "/content/gdrive/MyDrive/george_ds/no_george/268.jpg removed\n",
            "/content/gdrive/MyDrive/george_ds/no_george/271.jpg removed\n",
            "/content/gdrive/MyDrive/george_ds/no_george/272.jpg removed\n",
            "/content/gdrive/MyDrive/george_ds/no_george/273.jpg removed\n",
            "/content/gdrive/MyDrive/george_ds/no_george/609.jpg removed\n",
            "/content/gdrive/MyDrive/george_ds/no_george/478.jpg removed\n",
            "/content/gdrive/MyDrive/george_ds/no_george/486.jpg removed\n"
          ]
        },
        {
          "output_type": "stream",
          "name": "stderr",
          "text": [
            " 65%|██████▌   | 4373/6721 [02:09<00:59, 39.18it/s]"
          ]
        },
        {
          "output_type": "stream",
          "name": "stdout",
          "text": [
            "/content/gdrive/MyDrive/george_ds/no_george/479.jpg removed\n",
            "/content/gdrive/MyDrive/george_ds/no_george/483.jpg removed\n",
            "/content/gdrive/MyDrive/george_ds/no_george/481.jpg removed\n",
            "/content/gdrive/MyDrive/george_ds/no_george/487.jpg removed\n",
            "/content/gdrive/MyDrive/george_ds/no_george/485.jpg removed\n",
            "/content/gdrive/MyDrive/george_ds/no_george/484.jpg removed\n",
            "/content/gdrive/MyDrive/george_ds/no_george/477.jpg removed\n"
          ]
        },
        {
          "output_type": "stream",
          "name": "stderr",
          "text": [
            " 65%|██████▌   | 4381/6721 [02:09<01:06, 35.26it/s]"
          ]
        },
        {
          "output_type": "stream",
          "name": "stdout",
          "text": [
            "/content/gdrive/MyDrive/george_ds/no_george/579.jpg removed\n",
            "/content/gdrive/MyDrive/george_ds/no_george/364.jpg removed\n",
            "/content/gdrive/MyDrive/george_ds/no_george/367.jpg removed\n",
            "/content/gdrive/MyDrive/george_ds/no_george/357.jpg removed\n",
            "/content/gdrive/MyDrive/george_ds/no_george/360.jpg removed\n",
            "/content/gdrive/MyDrive/george_ds/no_george/362.jpg removed\n",
            "/content/gdrive/MyDrive/george_ds/no_george/355.jpg removed\n"
          ]
        },
        {
          "output_type": "stream",
          "name": "stderr",
          "text": [
            " 65%|██████▌   | 4390/6721 [02:09<01:01, 38.04it/s]"
          ]
        },
        {
          "output_type": "stream",
          "name": "stdout",
          "text": [
            "/content/gdrive/MyDrive/george_ds/no_george/194.jpg removed\n",
            "/content/gdrive/MyDrive/george_ds/no_george/200.jpg removed\n",
            "/content/gdrive/MyDrive/george_ds/no_george/196.jpg removed\n",
            "/content/gdrive/MyDrive/george_ds/no_george/195.jpg removed\n",
            "/content/gdrive/MyDrive/george_ds/no_george/171.jpg removed\n",
            "/content/gdrive/MyDrive/george_ds/no_george/519.jpg removed\n",
            "/content/gdrive/MyDrive/george_ds/no_george/504.jpg removed\n",
            "/content/gdrive/MyDrive/george_ds/no_george/534.jpg removed\n",
            "/content/gdrive/MyDrive/george_ds/no_george/549.jpg removed\n",
            "/content/gdrive/MyDrive/george_ds/no_george/166.jpg removed\n",
            "/content/gdrive/MyDrive/george_ds/no_george/168.jpg removed\n"
          ]
        },
        {
          "output_type": "stream",
          "name": "stderr",
          "text": [
            " 65%|██████▌   | 4401/6721 [02:09<00:55, 42.07it/s]"
          ]
        },
        {
          "output_type": "stream",
          "name": "stdout",
          "text": [
            "/content/gdrive/MyDrive/george_ds/no_george/248.jpg removed\n",
            "/content/gdrive/MyDrive/george_ds/no_george/237.jpg removed\n",
            "/content/gdrive/MyDrive/george_ds/no_george/235.jpg removed\n",
            "/content/gdrive/MyDrive/george_ds/no_george/244.jpg removed\n",
            "/content/gdrive/MyDrive/george_ds/no_george/240.jpg removed\n",
            "/content/gdrive/MyDrive/george_ds/no_george/245.jpg removed\n",
            "/content/gdrive/MyDrive/george_ds/no_george/247.jpg removed\n",
            "/content/gdrive/MyDrive/george_ds/no_george/236.jpg removed\n",
            "/content/gdrive/MyDrive/george_ds/no_george/241.jpg removed\n",
            "/content/gdrive/MyDrive/george_ds/no_george/185.jpg removed\n",
            "/content/gdrive/MyDrive/george_ds/no_george/186.jpg removed\n"
          ]
        },
        {
          "output_type": "stream",
          "name": "stderr",
          "text": [
            " 66%|██████▌   | 4412/6721 [02:09<00:53, 43.26it/s]"
          ]
        },
        {
          "output_type": "stream",
          "name": "stdout",
          "text": [
            "/content/gdrive/MyDrive/george_ds/no_george/564.jpg removed\n",
            "/content/gdrive/MyDrive/george_ds/no_george/188.jpg removed\n",
            "/content/gdrive/MyDrive/george_ds/no_george/187.jpg removed\n",
            "/content/gdrive/MyDrive/george_ds/no_george/176.jpg removed\n",
            "/content/gdrive/MyDrive/george_ds/no_george/182.jpg removed\n",
            "/content/gdrive/MyDrive/george_ds/no_george/177.jpg removed\n",
            "/content/gdrive/MyDrive/george_ds/no_george/175.jpg removed\n",
            "/content/gdrive/MyDrive/george_ds/no_george/178.jpg removed\n"
          ]
        },
        {
          "output_type": "stream",
          "name": "stderr",
          "text": [
            "\r 66%|██████▌   | 4417/6721 [02:10<00:52, 43.93it/s]"
          ]
        },
        {
          "output_type": "stream",
          "name": "stdout",
          "text": [
            "/content/gdrive/MyDrive/george_ds/no_george/450.jpg removed\n",
            "/content/gdrive/MyDrive/george_ds/no_george/458.jpg removed\n",
            "/content/gdrive/MyDrive/george_ds/no_george/451.jpg removed\n",
            "/content/gdrive/MyDrive/george_ds/no_george/446.jpg removed\n",
            "/content/gdrive/MyDrive/george_ds/no_george/445.jpg removed\n",
            "/content/gdrive/MyDrive/george_ds/no_george/443.jpg removed\n",
            "/content/gdrive/MyDrive/george_ds/no_george/440.jpg removed\n",
            "/content/gdrive/MyDrive/george_ds/no_george/432.jpg removed\n",
            "/content/gdrive/MyDrive/george_ds/no_george/436.jpg removed\n"
          ]
        },
        {
          "output_type": "stream",
          "name": "stderr",
          "text": [
            " 66%|██████▌   | 4427/6721 [02:10<00:52, 43.87it/s]"
          ]
        },
        {
          "output_type": "stream",
          "name": "stdout",
          "text": [
            "/content/gdrive/MyDrive/george_ds/no_george/438.jpg removed\n",
            "/content/gdrive/MyDrive/george_ds/no_george/442.jpg removed\n",
            "/content/gdrive/MyDrive/george_ds/no_george/441.jpg removed\n",
            "/content/gdrive/MyDrive/george_ds/no_george/433.jpg removed\n",
            "/content/gdrive/MyDrive/george_ds/no_george/209.jpg removed\n",
            "/content/gdrive/MyDrive/george_ds/no_george/215.jpg removed\n",
            "/content/gdrive/MyDrive/george_ds/no_george/210.jpg removed\n",
            "/content/gdrive/MyDrive/george_ds/no_george/213.jpg removed\n",
            "/content/gdrive/MyDrive/george_ds/no_george/214.jpg removed\n",
            "/content/gdrive/MyDrive/george_ds/no_george/218.jpg removed\n"
          ]
        },
        {
          "output_type": "stream",
          "name": "stderr",
          "text": [
            " 66%|██████▌   | 4437/6721 [02:10<00:52, 43.50it/s]"
          ]
        },
        {
          "output_type": "stream",
          "name": "stdout",
          "text": [
            "/content/gdrive/MyDrive/george_ds/no_george/227.jpg removed\n",
            "/content/gdrive/MyDrive/george_ds/no_george/221.jpg removed\n",
            "/content/gdrive/MyDrive/george_ds/no_george/223.jpg removed\n",
            "/content/gdrive/MyDrive/george_ds/no_george/229.jpg removed\n",
            "/content/gdrive/MyDrive/george_ds/no_george/231.jpg removed\n",
            "/content/gdrive/MyDrive/george_ds/no_george/224.jpg removed\n",
            "/content/gdrive/MyDrive/george_ds/no_george/228.jpg removed\n",
            "/content/gdrive/MyDrive/george_ds/no_george/425.jpg removed\n",
            "/content/gdrive/MyDrive/george_ds/no_george/422.jpg removed\n"
          ]
        },
        {
          "output_type": "stream",
          "name": "stderr",
          "text": [
            " 66%|██████▌   | 4447/6721 [02:10<00:53, 42.50it/s]"
          ]
        },
        {
          "output_type": "stream",
          "name": "stdout",
          "text": [
            "/content/gdrive/MyDrive/george_ds/no_george/424.jpg removed\n",
            "/content/gdrive/MyDrive/george_ds/no_george/419.jpg removed\n",
            "/content/gdrive/MyDrive/george_ds/no_george/423.jpg removed\n",
            "/content/gdrive/MyDrive/george_ds/no_george/421.jpg removed\n",
            "/content/gdrive/MyDrive/george_ds/no_george/428.jpg removed\n",
            "/content/gdrive/MyDrive/george_ds/no_george/418.jpg removed\n",
            "/content/gdrive/MyDrive/george_ds/no_george/417.jpg removed\n",
            "/content/gdrive/MyDrive/george_ds/no_george/396.jpg removed\n"
          ]
        },
        {
          "output_type": "stream",
          "name": "stderr",
          "text": [
            " 66%|██████▋   | 4457/6721 [02:11<00:56, 39.82it/s]"
          ]
        },
        {
          "output_type": "stream",
          "name": "stdout",
          "text": [
            "/content/gdrive/MyDrive/george_ds/no_george/398.jpg removed\n",
            "/content/gdrive/MyDrive/george_ds/no_george/393.jpg removed\n",
            "/content/gdrive/MyDrive/george_ds/no_george/395.jpg removed\n",
            "/content/gdrive/MyDrive/george_ds/no_george/390.jpg removed\n",
            "/content/gdrive/MyDrive/george_ds/no_george/387.jpg removed\n",
            "/content/gdrive/MyDrive/george_ds/no_george/127.jpg removed\n",
            "/content/gdrive/MyDrive/george_ds/no_george/119.jpg removed\n",
            "/content/gdrive/MyDrive/george_ds/no_george/122.jpg removed\n",
            "/content/gdrive/MyDrive/george_ds/no_george/115.jpg removed\n"
          ]
        },
        {
          "output_type": "stream",
          "name": "stderr",
          "text": [
            " 66%|██████▋   | 4467/6721 [02:11<00:53, 42.23it/s]"
          ]
        },
        {
          "output_type": "stream",
          "name": "stdout",
          "text": [
            "/content/gdrive/MyDrive/george_ds/no_george/123.jpg removed\n",
            "/content/gdrive/MyDrive/george_ds/no_george/116.jpg removed\n",
            "/content/gdrive/MyDrive/george_ds/no_george/315.jpg removed\n",
            "/content/gdrive/MyDrive/george_ds/no_george/320.jpg removed\n",
            "/content/gdrive/MyDrive/george_ds/no_george/322.jpg removed\n",
            "/content/gdrive/MyDrive/george_ds/no_george/314.jpg removed\n",
            "/content/gdrive/MyDrive/george_ds/no_george/323.jpg removed\n",
            "/content/gdrive/MyDrive/george_ds/no_george/319.jpg removed\n",
            "/content/gdrive/MyDrive/george_ds/no_george/311.jpg removed\n",
            "/content/gdrive/MyDrive/george_ds/no_george/310.jpg removed\n"
          ]
        },
        {
          "output_type": "stream",
          "name": "stderr",
          "text": [
            "\r 67%|██████▋   | 4472/6721 [02:11<00:53, 42.16it/s]"
          ]
        },
        {
          "output_type": "stream",
          "name": "stdout",
          "text": [
            "/content/gdrive/MyDrive/george_ds/no_george/134.jpg removed\n",
            "/content/gdrive/MyDrive/george_ds/no_george/132.jpg removed\n",
            "/content/gdrive/MyDrive/george_ds/no_george/142.jpg removed\n",
            "/content/gdrive/MyDrive/george_ds/no_george/135.jpg removed\n",
            "/content/gdrive/MyDrive/george_ds/no_george/474.jpg removed\n",
            "/content/gdrive/MyDrive/george_ds/no_george/459.jpg removed\n",
            "/content/gdrive/MyDrive/george_ds/no_george/489.jpg removed\n",
            "/content/gdrive/MyDrive/george_ds/no_george/148.jpg removed\n",
            "/content/gdrive/MyDrive/george_ds/no_george/146.jpg removed\n"
          ]
        },
        {
          "output_type": "stream",
          "name": "stderr",
          "text": [
            " 67%|██████▋   | 4482/6721 [02:11<00:56, 39.75it/s]"
          ]
        },
        {
          "output_type": "stream",
          "name": "stdout",
          "text": [
            "/content/gdrive/MyDrive/george_ds/no_george/404.jpg removed\n",
            "/content/gdrive/MyDrive/george_ds/no_george/406.jpg removed\n",
            "/content/gdrive/MyDrive/george_ds/no_george/407.jpg removed\n",
            "/content/gdrive/MyDrive/george_ds/no_george/402.jpg removed\n",
            "/content/gdrive/MyDrive/george_ds/no_george/401.jpg removed\n",
            "/content/gdrive/MyDrive/george_ds/no_george/155.jpg removed\n"
          ]
        },
        {
          "output_type": "stream",
          "name": "stderr",
          "text": [
            " 67%|██████▋   | 4491/6721 [02:11<00:58, 38.15it/s]"
          ]
        },
        {
          "output_type": "stream",
          "name": "stdout",
          "text": [
            "/content/gdrive/MyDrive/george_ds/no_george/156.jpg removed\n",
            "/content/gdrive/MyDrive/george_ds/no_george/147.jpg removed\n",
            "/content/gdrive/MyDrive/george_ds/no_george/150.jpg removed\n",
            "/content/gdrive/MyDrive/george_ds/no_george/149.jpg removed\n",
            "/content/gdrive/MyDrive/george_ds/no_george/140.jpg removed\n",
            "/content/gdrive/MyDrive/george_ds/no_george/139.jpg removed\n",
            "/content/gdrive/MyDrive/george_ds/no_george/131.jpg removed\n",
            "/content/gdrive/MyDrive/george_ds/no_george/372.jpg removed\n",
            "/content/gdrive/MyDrive/george_ds/no_george/377.jpg removed\n",
            "/content/gdrive/MyDrive/george_ds/no_george/379.jpg removed\n"
          ]
        },
        {
          "output_type": "stream",
          "name": "stderr",
          "text": [
            "\r 67%|██████▋   | 4495/6721 [02:12<01:01, 36.07it/s]"
          ]
        },
        {
          "output_type": "stream",
          "name": "stdout",
          "text": [
            "/content/gdrive/MyDrive/george_ds/no_george/383.jpg removed\n",
            "/content/gdrive/MyDrive/george_ds/no_george/373.jpg removed\n",
            "/content/gdrive/MyDrive/george_ds/no_george/376.jpg removed\n",
            "/content/gdrive/MyDrive/george_ds/no_george/124.jpg removed\n",
            "/content/gdrive/MyDrive/george_ds/no_george/120.jpg removed\n",
            "/content/gdrive/MyDrive/george_ds/no_george/125.jpg removed\n"
          ]
        },
        {
          "output_type": "stream",
          "name": "stderr",
          "text": [
            " 67%|██████▋   | 4503/6721 [02:12<01:05, 33.69it/s]"
          ]
        },
        {
          "output_type": "stream",
          "name": "stdout",
          "text": [
            "/content/gdrive/MyDrive/george_ds/no_george/70.jpg removed\n",
            "/content/gdrive/MyDrive/george_ds/no_george/78.jpg removed\n",
            "/content/gdrive/MyDrive/george_ds/no_george/79.jpg removed\n",
            "/content/gdrive/MyDrive/george_ds/no_george/82.jpg removed\n",
            "/content/gdrive/MyDrive/george_ds/no_george/83.jpg removed\n",
            "/content/gdrive/MyDrive/george_ds/no_george/71.jpg removed\n",
            "/content/gdrive/MyDrive/george_ds/no_george/81.jpg removed\n",
            "/content/gdrive/MyDrive/george_ds/no_george/90.jpg removed"
          ]
        },
        {
          "output_type": "stream",
          "name": "stderr",
          "text": [
            " 67%|██████▋   | 4511/6721 [02:12<01:07, 32.65it/s]"
          ]
        },
        {
          "output_type": "stream",
          "name": "stdout",
          "text": [
            "\n",
            "/content/gdrive/MyDrive/george_ds/no_george/444.jpg removed\n",
            "/content/gdrive/MyDrive/george_ds/no_george/93.jpg removed\n",
            "/content/gdrive/MyDrive/george_ds/no_george/98.jpg removed\n",
            "/content/gdrive/MyDrive/george_ds/no_george/92.jpg removed\n",
            "/content/gdrive/MyDrive/george_ds/no_george/96.jpg removed\n",
            "/content/gdrive/MyDrive/george_ds/no_george/331.jpg removed\n"
          ]
        },
        {
          "output_type": "stream",
          "name": "stderr",
          "text": [
            "\r 67%|██████▋   | 4515/6721 [02:12<01:10, 31.33it/s]"
          ]
        },
        {
          "output_type": "stream",
          "name": "stdout",
          "text": [
            "/content/gdrive/MyDrive/george_ds/no_george/333.jpg removed\n",
            "/content/gdrive/MyDrive/george_ds/no_george/335.jpg removed\n",
            "/content/gdrive/MyDrive/george_ds/no_george/327.jpg removed\n",
            "/content/gdrive/MyDrive/george_ds/no_george/334.jpg removed\n",
            "/content/gdrive/MyDrive/george_ds/no_george/332.jpg removed\n",
            "/content/gdrive/MyDrive/george_ds/no_george/329.jpg removed\n"
          ]
        },
        {
          "output_type": "stream",
          "name": "stderr",
          "text": [
            "\r 67%|██████▋   | 4519/6721 [02:12<01:13, 29.92it/s]"
          ]
        },
        {
          "output_type": "stream",
          "name": "stdout",
          "text": [
            "/content/gdrive/MyDrive/george_ds/no_george/325.jpg removed\n",
            "/content/gdrive/MyDrive/george_ds/no_george/108.jpg removed\n",
            "/content/gdrive/MyDrive/george_ds/no_george/113.jpg removed\n",
            "/content/gdrive/MyDrive/george_ds/no_george/109.jpg removed\n"
          ]
        },
        {
          "output_type": "stream",
          "name": "stderr",
          "text": [
            " 67%|██████▋   | 4526/6721 [02:13<01:26, 25.46it/s]"
          ]
        },
        {
          "output_type": "stream",
          "name": "stdout",
          "text": [
            "/content/gdrive/MyDrive/george_ds/no_george/343.jpg removed\n",
            "/content/gdrive/MyDrive/george_ds/no_george/351.jpg removed\n",
            "/content/gdrive/MyDrive/george_ds/no_george/350.jpg removed\n",
            "/content/gdrive/MyDrive/george_ds/no_george/348.jpg removed\n",
            "/content/gdrive/MyDrive/george_ds/no_george/346.jpg removed\n",
            "/content/gdrive/MyDrive/george_ds/no_george/349.jpg removed\n",
            "/content/gdrive/MyDrive/george_ds/no_george/342.jpg removed"
          ]
        },
        {
          "output_type": "stream",
          "name": "stderr",
          "text": [
            " 67%|██████▋   | 4535/6721 [02:13<01:09, 31.29it/s]"
          ]
        },
        {
          "output_type": "stream",
          "name": "stdout",
          "text": [
            "\n",
            "/content/gdrive/MyDrive/george_ds/no_george/341.jpg removed\n",
            "/content/gdrive/MyDrive/george_ds/no_george/429.jpg removed\n",
            "/content/gdrive/MyDrive/george_ds/no_george/7.jpg removed\n",
            "/content/gdrive/MyDrive/george_ds/no_george/3.jpg removed\n",
            "/content/gdrive/MyDrive/george_ds/no_george/2.jpg removed\n",
            "/content/gdrive/MyDrive/george_ds/no_george/4.jpg removed\n",
            "/content/gdrive/MyDrive/george_ds/no_george/1.jpg removed\n"
          ]
        },
        {
          "output_type": "stream",
          "name": "stderr",
          "text": [
            "\r 68%|██████▊   | 4539/6721 [02:13<01:14, 29.27it/s]"
          ]
        },
        {
          "output_type": "stream",
          "name": "stdout",
          "text": [
            "/content/gdrive/MyDrive/george_ds/no_george/11.jpg removed\n",
            "/content/gdrive/MyDrive/george_ds/no_george/16.jpg removed\n",
            "/content/gdrive/MyDrive/george_ds/no_george/399.jpg removed\n",
            "/content/gdrive/MyDrive/george_ds/no_george/384.jpg removed\n",
            "/content/gdrive/MyDrive/george_ds/no_george/369.jpg removed\n",
            "/content/gdrive/MyDrive/george_ds/no_george/33.jpg removed\n",
            "/content/gdrive/MyDrive/george_ds/no_george/414.jpg removed\n"
          ]
        },
        {
          "output_type": "stream",
          "name": "stderr",
          "text": [
            " 68%|██████▊   | 4548/6721 [02:13<01:05, 33.24it/s]"
          ]
        },
        {
          "output_type": "stream",
          "name": "stdout",
          "text": [
            "/content/gdrive/MyDrive/george_ds/no_george/13.jpg removed\n",
            "/content/gdrive/MyDrive/george_ds/no_george/12.jpg removed\n",
            "/content/gdrive/MyDrive/george_ds/no_george/20.jpg removed\n",
            "/content/gdrive/MyDrive/george_ds/no_george/19.jpg removed\n",
            "/content/gdrive/MyDrive/george_ds/no_george/354.jpg removed\n",
            "/content/gdrive/MyDrive/george_ds/no_george/288.jpg removed\n",
            "/content/gdrive/MyDrive/george_ds/no_george/282.jpg removed\n",
            "/content/gdrive/MyDrive/george_ds/no_george/291.jpg removed"
          ]
        },
        {
          "output_type": "stream",
          "name": "stderr",
          "text": [
            " 68%|██████▊   | 4557/6721 [02:14<01:03, 34.32it/s]"
          ]
        },
        {
          "output_type": "stream",
          "name": "stdout",
          "text": [
            "\n",
            "/content/gdrive/MyDrive/george_ds/no_george/286.jpg removed\n",
            "/content/gdrive/MyDrive/george_ds/no_george/281.jpg removed\n",
            "/content/gdrive/MyDrive/george_ds/no_george/29.jpg removed\n",
            "/content/gdrive/MyDrive/george_ds/no_george/27.jpg removed\n",
            "/content/gdrive/MyDrive/george_ds/no_george/37.jpg removed\n",
            "/content/gdrive/MyDrive/george_ds/no_george/26.jpg removed\n",
            "/content/gdrive/MyDrive/george_ds/no_george/38.jpg removed\n",
            "/content/gdrive/MyDrive/george_ds/no_george/28.jpg removed\n"
          ]
        },
        {
          "output_type": "stream",
          "name": "stderr",
          "text": [
            " 68%|██████▊   | 4565/6721 [02:14<01:04, 33.59it/s]"
          ]
        },
        {
          "output_type": "stream",
          "name": "stdout",
          "text": [
            "/content/gdrive/MyDrive/george_ds/no_george/49.jpg removed\n",
            "/content/gdrive/MyDrive/george_ds/no_george/53.jpg removed\n",
            "/content/gdrive/MyDrive/george_ds/no_george/41.jpg removed\n",
            "/content/gdrive/MyDrive/george_ds/no_george/43.jpg removed\n",
            "/content/gdrive/MyDrive/george_ds/no_george/47.jpg removed\n",
            "/content/gdrive/MyDrive/george_ds/no_george/48.jpg removed\n"
          ]
        },
        {
          "output_type": "stream",
          "name": "stderr",
          "text": [
            " 68%|██████▊   | 4573/6721 [02:14<01:03, 33.95it/s]"
          ]
        },
        {
          "output_type": "stream",
          "name": "stdout",
          "text": [
            "/content/gdrive/MyDrive/george_ds/no_george/44.jpg removed\n",
            "/content/gdrive/MyDrive/george_ds/no_george/46.jpg removed\n",
            "/content/gdrive/MyDrive/george_ds/no_george/40.jpg removed\n",
            "/content/gdrive/MyDrive/george_ds/no_george/45.jpg removed\n",
            "/content/gdrive/MyDrive/george_ds/no_george/307.jpg removed\n",
            "/content/gdrive/MyDrive/george_ds/no_george/304.jpg removed\n",
            "/content/gdrive/MyDrive/george_ds/no_george/303.jpg removed\n",
            "/content/gdrive/MyDrive/george_ds/no_george/305.jpg removed\n"
          ]
        },
        {
          "output_type": "stream",
          "name": "stderr",
          "text": [
            "\r 68%|██████▊   | 4578/6721 [02:14<00:59, 36.17it/s]"
          ]
        },
        {
          "output_type": "stream",
          "name": "stdout",
          "text": [
            "/content/gdrive/MyDrive/george_ds/no_george/296.jpg removed\n",
            "/content/gdrive/MyDrive/george_ds/no_george/58.jpg removed\n",
            "/content/gdrive/MyDrive/george_ds/no_george/59.jpg removed\n",
            "/content/gdrive/MyDrive/george_ds/no_george/62.jpg removed\n",
            "/content/gdrive/MyDrive/george_ds/no_george/278.jpg removed\n",
            "/content/gdrive/MyDrive/george_ds/no_george/274.jpg removed\n",
            "/content/gdrive/MyDrive/george_ds/no_george/269.jpg removed\n",
            "/content/gdrive/MyDrive/george_ds/no_george/266.jpg removed\n"
          ]
        },
        {
          "output_type": "stream",
          "name": "stderr",
          "text": [
            " 68%|██████▊   | 4586/6721 [02:15<01:07, 31.40it/s]"
          ]
        },
        {
          "output_type": "stream",
          "name": "stdout",
          "text": [
            "/content/gdrive/MyDrive/george_ds/no_george/225.jpg removed\n",
            "/content/gdrive/MyDrive/george_ds/no_george/233.jpg removed\n",
            "/content/gdrive/MyDrive/george_ds/no_george/226.jpg removed\n",
            "/content/gdrive/MyDrive/george_ds/no_george/230.jpg removed\n",
            "/content/gdrive/MyDrive/george_ds/no_george/232.jpg removed\n",
            "/content/gdrive/MyDrive/george_ds/no_george/222.jpg removed\n",
            "/content/gdrive/MyDrive/george_ds/no_george/220.jpg removed\n"
          ]
        },
        {
          "output_type": "stream",
          "name": "stderr",
          "text": [
            "\r 68%|██████▊   | 4590/6721 [02:15<01:11, 29.95it/s]"
          ]
        },
        {
          "output_type": "stream",
          "name": "stdout",
          "text": [
            "/content/gdrive/MyDrive/george_ds/no_george/258.jpg removed\n",
            "/content/gdrive/MyDrive/george_ds/no_george/263.jpg removed\n",
            "/content/gdrive/MyDrive/george_ds/no_george/254.jpg removed\n",
            "/content/gdrive/MyDrive/george_ds/no_george/259.jpg removed\n",
            "/content/gdrive/MyDrive/george_ds/no_george/261.jpg removed\n"
          ]
        },
        {
          "output_type": "stream",
          "name": "stderr",
          "text": [
            " 68%|██████▊   | 4598/6721 [02:15<01:14, 28.52it/s]"
          ]
        },
        {
          "output_type": "stream",
          "name": "stdout",
          "text": [
            "/content/gdrive/MyDrive/george_ds/no_george/255.jpg removed\n",
            "/content/gdrive/MyDrive/george_ds/no_george/253.jpg removed\n",
            "/content/gdrive/MyDrive/george_ds/no_george/260.jpg removed\n",
            "/content/gdrive/MyDrive/george_ds/no_george/262.jpg removed\n",
            "/content/gdrive/MyDrive/george_ds/no_george/251.jpg removed\n",
            "/content/gdrive/MyDrive/george_ds/no_george/211.jpg removed\n",
            "/content/gdrive/MyDrive/george_ds/no_george/217.jpg removed\n"
          ]
        },
        {
          "output_type": "stream",
          "name": "stderr",
          "text": [
            " 69%|██████▊   | 4606/6721 [02:15<01:12, 29.02it/s]"
          ]
        },
        {
          "output_type": "stream",
          "name": "stdout",
          "text": [
            "/content/gdrive/MyDrive/george_ds/no_george/212.jpg removed\n",
            "/content/gdrive/MyDrive/george_ds/no_george/216.jpg removed\n",
            "/content/gdrive/MyDrive/george_ds/no_george/208.jpg removed\n",
            "/content/gdrive/MyDrive/george_ds/no_george/207.jpg removed\n",
            "/content/gdrive/MyDrive/george_ds/no_george/206.jpg removed\n",
            "/content/gdrive/MyDrive/george_ds/no_george/205.jpg removed\n",
            "/content/gdrive/MyDrive/george_ds/no_george/183.jpg removed"
          ]
        },
        {
          "output_type": "stream",
          "name": "stderr",
          "text": [
            "\r 69%|██████▊   | 4610/6721 [02:15<01:25, 24.58it/s]"
          ]
        },
        {
          "output_type": "stream",
          "name": "stdout",
          "text": [
            "\n",
            "/content/gdrive/MyDrive/george_ds/no_george/181.jpg removed\n",
            "/content/gdrive/MyDrive/george_ds/no_george/180.jpg removed\n",
            "/content/gdrive/MyDrive/george_ds/no_george/184.jpg removed\n"
          ]
        },
        {
          "output_type": "stream",
          "name": "stderr",
          "text": [
            " 69%|██████▊   | 4617/6721 [02:16<01:16, 27.48it/s]"
          ]
        },
        {
          "output_type": "stream",
          "name": "stdout",
          "text": [
            "/content/gdrive/MyDrive/george_ds/no_george/179.jpg removed\n",
            "/content/gdrive/MyDrive/george_ds/no_george/324.jpg removed\n",
            "/content/gdrive/MyDrive/george_ds/no_george/339.jpg removed\n",
            "/content/gdrive/MyDrive/george_ds/no_george/309.jpg removed\n",
            "/content/gdrive/MyDrive/george_ds/no_george/238.jpg removed\n",
            "/content/gdrive/MyDrive/george_ds/no_george/246.jpg removed\n",
            "/content/gdrive/MyDrive/george_ds/no_george/239.jpg removed\n"
          ]
        },
        {
          "output_type": "stream",
          "name": "stderr",
          "text": [
            " 69%|██████▉   | 4623/6721 [02:16<01:13, 28.46it/s]"
          ]
        },
        {
          "output_type": "stream",
          "name": "stdout",
          "text": [
            "/content/gdrive/MyDrive/george_ds/no_george/242.jpg removed\n",
            "/content/gdrive/MyDrive/george_ds/no_george/243.jpg removed\n",
            "/content/gdrive/MyDrive/george_ds/no_george/279.jpg removed\n",
            "/content/gdrive/MyDrive/george_ds/no_george/294.jpg removed\n",
            "/content/gdrive/MyDrive/george_ds/no_george/203.jpg removed\n",
            "/content/gdrive/MyDrive/george_ds/no_george/197.jpg removed\n",
            "/content/gdrive/MyDrive/george_ds/no_george/193.jpg removed\n"
          ]
        },
        {
          "output_type": "stream",
          "name": "stderr",
          "text": [
            " 69%|██████▉   | 4631/6721 [02:16<01:10, 29.62it/s]"
          ]
        },
        {
          "output_type": "stream",
          "name": "stdout",
          "text": [
            "/content/gdrive/MyDrive/george_ds/no_george/201.jpg removed\n",
            "/content/gdrive/MyDrive/george_ds/no_george/198.jpg removed\n",
            "/content/gdrive/MyDrive/george_ds/no_george/202.jpg removed\n",
            "/content/gdrive/MyDrive/george_ds/no_george/199.jpg removed\n",
            "/content/gdrive/MyDrive/george_ds/no_george/192.jpg removed\n",
            "/content/gdrive/MyDrive/george_ds/no_george/191.jpg removed\n",
            "/content/gdrive/MyDrive/george_ds/no_george/190.jpg removed\n",
            "/content/gdrive/MyDrive/george_ds/no_george/163.jpg removed\n"
          ]
        },
        {
          "output_type": "stream",
          "name": "stderr",
          "text": [
            " 69%|██████▉   | 4639/6721 [02:16<01:08, 30.33it/s]"
          ]
        },
        {
          "output_type": "stream",
          "name": "stdout",
          "text": [
            "/content/gdrive/MyDrive/george_ds/no_george/173.jpg removed\n",
            "/content/gdrive/MyDrive/george_ds/no_george/172.jpg removed\n",
            "/content/gdrive/MyDrive/george_ds/no_george/169.jpg removed\n",
            "/content/gdrive/MyDrive/george_ds/no_george/164.jpg removed\n",
            "/content/gdrive/MyDrive/george_ds/no_george/170.jpg removed\n",
            "/content/gdrive/MyDrive/george_ds/no_george/162.jpg removed\n",
            "/content/gdrive/MyDrive/george_ds/no_george/167.jpg removed\n"
          ]
        },
        {
          "output_type": "stream",
          "name": "stderr",
          "text": [
            "\r 69%|██████▉   | 4643/6721 [02:17<01:09, 29.79it/s]"
          ]
        },
        {
          "output_type": "stream",
          "name": "stdout",
          "text": [
            "/content/gdrive/MyDrive/george_ds/no_george/165.jpg removed\n",
            "/content/gdrive/MyDrive/george_ds/no_george/161.jpg removed\n",
            "/content/gdrive/MyDrive/george_ds/no_george/160.jpg removed\n",
            "/content/gdrive/MyDrive/george_ds/no_george/158.jpg removed\n",
            "/content/gdrive/MyDrive/george_ds/no_george/151.jpg removed\n",
            "/content/gdrive/MyDrive/george_ds/no_george/157.jpg removed\n"
          ]
        },
        {
          "output_type": "stream",
          "name": "stderr",
          "text": [
            " 69%|██████▉   | 4651/6721 [02:17<01:10, 29.52it/s]"
          ]
        },
        {
          "output_type": "stream",
          "name": "stdout",
          "text": [
            "/content/gdrive/MyDrive/george_ds/no_george/154.jpg removed\n",
            "/content/gdrive/MyDrive/george_ds/no_george/153.jpg removed\n",
            "/content/gdrive/MyDrive/george_ds/no_george/152.jpg removed\n",
            "/content/gdrive/MyDrive/george_ds/no_george/145.jpg removed\n",
            "/content/gdrive/MyDrive/george_ds/no_george/121.jpg removed\n",
            "/content/gdrive/MyDrive/george_ds/no_george/128.jpg removed\n",
            "/content/gdrive/MyDrive/george_ds/no_george/117.jpg removed\n"
          ]
        },
        {
          "output_type": "stream",
          "name": "stderr",
          "text": [
            " 69%|██████▉   | 4657/6721 [02:17<01:14, 27.71it/s]"
          ]
        },
        {
          "output_type": "stream",
          "name": "stdout",
          "text": [
            "/content/gdrive/MyDrive/george_ds/no_george/118.jpg removed\n",
            "/content/gdrive/MyDrive/george_ds/no_george/126.jpg removed\n",
            "/content/gdrive/MyDrive/george_ds/no_george/249.jpg removed\n",
            "/content/gdrive/MyDrive/george_ds/no_george/264.jpg removed\n",
            "/content/gdrive/MyDrive/george_ds/no_george/137.jpg removed\n"
          ]
        },
        {
          "output_type": "stream",
          "name": "stderr",
          "text": [
            " 69%|██████▉   | 4667/6721 [02:17<01:01, 33.20it/s]"
          ]
        },
        {
          "output_type": "stream",
          "name": "stdout",
          "text": [
            "/content/gdrive/MyDrive/george_ds/no_george/136.jpg removed\n",
            "/content/gdrive/MyDrive/george_ds/no_george/143.jpg removed\n",
            "/content/gdrive/MyDrive/george_ds/no_george/138.jpg removed\n",
            "/content/gdrive/MyDrive/george_ds/no_george/141.jpg removed\n",
            "/content/gdrive/MyDrive/george_ds/no_george/133.jpg removed\n",
            "/content/gdrive/MyDrive/george_ds/no_george/130.jpg removed\n",
            "/content/gdrive/MyDrive/george_ds/no_george/219.jpg removed\n",
            "/content/gdrive/MyDrive/george_ds/no_george/189.jpg removed\n",
            "/content/gdrive/MyDrive/george_ds/no_george/77.jpg removed\n",
            "/content/gdrive/MyDrive/george_ds/no_george/75.jpg removed\n"
          ]
        },
        {
          "output_type": "stream",
          "name": "stderr",
          "text": [
            " 70%|██████▉   | 4675/6721 [02:18<00:58, 35.10it/s]"
          ]
        },
        {
          "output_type": "stream",
          "name": "stdout",
          "text": [
            "/content/gdrive/MyDrive/george_ds/no_george/73.jpg removed\n",
            "/content/gdrive/MyDrive/george_ds/no_george/72.jpg removed\n",
            "/content/gdrive/MyDrive/george_ds/no_george/80.jpg removed\n",
            "/content/gdrive/MyDrive/george_ds/no_george/74.jpg removed\n",
            "/content/gdrive/MyDrive/george_ds/no_george/76.jpg removed\n",
            "/content/gdrive/MyDrive/george_ds/no_george/97.jpg removed\n",
            "/content/gdrive/MyDrive/george_ds/no_george/87.jpg removed\n",
            "/content/gdrive/MyDrive/george_ds/no_george/95.jpg removed\n",
            "/content/gdrive/MyDrive/george_ds/no_george/94.jpg removed\n"
          ]
        },
        {
          "output_type": "stream",
          "name": "stderr",
          "text": [
            " 70%|██████▉   | 4684/6721 [02:18<00:52, 38.89it/s]"
          ]
        },
        {
          "output_type": "stream",
          "name": "stdout",
          "text": [
            "/content/gdrive/MyDrive/george_ds/no_george/88.jpg removed\n",
            "/content/gdrive/MyDrive/george_ds/no_george/91.jpg removed\n",
            "/content/gdrive/MyDrive/george_ds/no_george/89.jpg removed\n",
            "/content/gdrive/MyDrive/george_ds/no_george/86.jpg removed\n",
            "/content/gdrive/MyDrive/george_ds/no_george/85.jpg removed\n",
            "/content/gdrive/MyDrive/george_ds/no_george/159.jpg removed\n",
            "/content/gdrive/MyDrive/george_ds/no_george/234.jpg removed\n",
            "/content/gdrive/MyDrive/george_ds/no_george/174.jpg removed\n",
            "/content/gdrive/MyDrive/george_ds/no_george/112.jpg removed\n"
          ]
        },
        {
          "output_type": "stream",
          "name": "stderr",
          "text": [
            "\r 70%|██████▉   | 4690/6721 [02:18<00:47, 42.53it/s]"
          ]
        },
        {
          "output_type": "stream",
          "name": "stdout",
          "text": [
            "/content/gdrive/MyDrive/george_ds/no_george/106.jpg removed\n",
            "/content/gdrive/MyDrive/george_ds/no_george/107.jpg removed\n",
            "/content/gdrive/MyDrive/george_ds/no_george/110.jpg removed\n",
            "/content/gdrive/MyDrive/george_ds/no_george/111.jpg removed\n",
            "/content/gdrive/MyDrive/george_ds/no_george/105.jpg removed\n",
            "/content/gdrive/MyDrive/george_ds/no_george/103.jpg removed\n",
            "/content/gdrive/MyDrive/george_ds/no_george/104.jpg removed\n",
            "/content/gdrive/MyDrive/george_ds/no_george/102.jpg removed\n"
          ]
        },
        {
          "output_type": "stream",
          "name": "stderr",
          "text": [
            " 70%|██████▉   | 4699/6721 [02:18<00:57, 35.07it/s]"
          ]
        },
        {
          "output_type": "stream",
          "name": "stdout",
          "text": [
            "/content/gdrive/MyDrive/george_ds/no_george/101.jpg removed\n",
            "/content/gdrive/MyDrive/george_ds/no_george/100.jpg removed\n",
            "/content/gdrive/MyDrive/george_ds/no_george/204.jpg removed\n",
            "/content/gdrive/MyDrive/george_ds/no_george/61.jpg removed\n",
            "/content/gdrive/MyDrive/george_ds/no_george/65.jpg removed\n",
            "/content/gdrive/MyDrive/george_ds/no_george/60.jpg removed\n"
          ]
        },
        {
          "output_type": "stream",
          "name": "stderr",
          "text": [
            " 70%|███████   | 4707/6721 [02:18<01:01, 32.87it/s]"
          ]
        },
        {
          "output_type": "stream",
          "name": "stdout",
          "text": [
            "/content/gdrive/MyDrive/george_ds/no_george/64.jpg removed\n",
            "/content/gdrive/MyDrive/george_ds/no_george/68.jpg removed\n",
            "/content/gdrive/MyDrive/george_ds/no_george/67.jpg removed\n",
            "/content/gdrive/MyDrive/george_ds/no_george/66.jpg removed\n",
            "/content/gdrive/MyDrive/george_ds/no_george/63.jpg removed\n",
            "/content/gdrive/MyDrive/george_ds/no_george/57.jpg removed\n",
            "/content/gdrive/MyDrive/george_ds/no_george/56.jpg removed\n",
            "/content/gdrive/MyDrive/george_ds/no_george/55.jpg removed\n"
          ]
        },
        {
          "output_type": "stream",
          "name": "stderr",
          "text": [
            "\r 70%|███████   | 4711/6721 [02:19<00:59, 33.65it/s]"
          ]
        },
        {
          "output_type": "stream",
          "name": "stdout",
          "text": [
            "/content/gdrive/MyDrive/george_ds/no_george/52.jpg removed\n",
            "/content/gdrive/MyDrive/george_ds/no_george/51.jpg removed\n",
            "/content/gdrive/MyDrive/george_ds/no_george/50.jpg removed\n",
            "/content/gdrive/MyDrive/george_ds/no_george/42.jpg removed\n",
            "/content/gdrive/MyDrive/george_ds/no_george/129.jpg removed\n",
            "/content/gdrive/MyDrive/george_ds/no_george/17.jpg removed\n",
            "/content/gdrive/MyDrive/george_ds/no_george/14.jpg removed\n"
          ]
        },
        {
          "output_type": "stream",
          "name": "stderr",
          "text": [
            " 70%|███████   | 4719/6721 [02:19<01:02, 32.28it/s]"
          ]
        },
        {
          "output_type": "stream",
          "name": "stdout",
          "text": [
            "/content/gdrive/MyDrive/george_ds/no_george/22.jpg removed\n",
            "/content/gdrive/MyDrive/george_ds/no_george/21.jpg removed\n",
            "/content/gdrive/MyDrive/george_ds/no_george/18.jpg removed\n",
            "/content/gdrive/MyDrive/george_ds/no_george/15.jpg removed\n",
            "/content/gdrive/MyDrive/george_ds/no_george/23.jpg removed\n",
            "/content/gdrive/MyDrive/george_ds/no_george/10.jpg removed\n",
            "/content/gdrive/MyDrive/george_ds/no_george/144.jpg removed\n"
          ]
        },
        {
          "output_type": "stream",
          "name": "stderr",
          "text": [
            " 70%|███████   | 4728/6721 [02:19<00:56, 35.21it/s]"
          ]
        },
        {
          "output_type": "stream",
          "name": "stdout",
          "text": [
            "/content/gdrive/MyDrive/george_ds/no_george/36.jpg removed\n",
            "/content/gdrive/MyDrive/george_ds/no_george/35.jpg removed\n",
            "/content/gdrive/MyDrive/george_ds/no_george/32.jpg removed\n",
            "/content/gdrive/MyDrive/george_ds/no_george/34.jpg removed\n",
            "/content/gdrive/MyDrive/george_ds/no_george/31.jpg removed\n",
            "/content/gdrive/MyDrive/george_ds/no_george/30.jpg removed\n",
            "/content/gdrive/MyDrive/george_ds/no_george/25.jpg removed\n",
            "/content/gdrive/MyDrive/george_ds/no_george/5.jpg removed\n",
            "/content/gdrive/MyDrive/george_ds/no_george/0.jpg removed\n"
          ]
        },
        {
          "output_type": "stream",
          "name": "stderr",
          "text": [
            " 70%|███████   | 4738/6721 [02:19<00:48, 40.61it/s]"
          ]
        },
        {
          "output_type": "stream",
          "name": "stdout",
          "text": [
            "/content/gdrive/MyDrive/george_ds/no_george/8.jpg removed\n",
            "/content/gdrive/MyDrive/george_ds/no_george/6.jpg removed\n",
            "/content/gdrive/MyDrive/george_ds/no_george/114.jpg removed\n",
            "/content/gdrive/MyDrive/george_ds/no_george/99.jpg removed\n",
            "/content/gdrive/MyDrive/george_ds/no_george/84.jpg removed\n",
            "/content/gdrive/MyDrive/george_ds/no_george/69.jpg removed\n",
            "/content/gdrive/MyDrive/george_ds/no_george/24.jpg removed\n",
            "/content/gdrive/MyDrive/george_ds/no_george/39.jpg removed\n",
            "/content/gdrive/MyDrive/george_ds/no_george/54.jpg removed\n"
          ]
        },
        {
          "output_type": "stream",
          "name": "stderr",
          "text": [
            " 71%|███████   | 4748/6721 [02:20<00:50, 39.40it/s]"
          ]
        },
        {
          "output_type": "stream",
          "name": "stdout",
          "text": [
            "/content/gdrive/MyDrive/george_ds/no_george/9.jpg removed\n",
            "/content/gdrive/MyDrive/george_ds/no_george/1806.jpg removed\n",
            "/content/gdrive/MyDrive/george_ds/no_george/1809.jpg removed\n",
            "/content/gdrive/MyDrive/george_ds/no_george/1805.jpg removed\n",
            "/content/gdrive/MyDrive/george_ds/no_george/1808.jpg removed\n",
            "/content/gdrive/MyDrive/george_ds/no_george/1812.jpg removed\n",
            "/content/gdrive/MyDrive/george_ds/no_george/1807.jpg removed\n",
            "/content/gdrive/MyDrive/george_ds/no_george/1804.jpg removed\n",
            "/content/gdrive/MyDrive/george_ds/no_george/1813.jpg removed\n"
          ]
        },
        {
          "output_type": "stream",
          "name": "stderr",
          "text": [
            "\r 71%|███████   | 4752/6721 [02:20<00:54, 35.93it/s]"
          ]
        },
        {
          "output_type": "stream",
          "name": "stdout",
          "text": [
            "/content/gdrive/MyDrive/george_ds/no_george/1803.jpg removed\n",
            "/content/gdrive/MyDrive/george_ds/no_george/1811.jpg removed\n",
            "/content/gdrive/MyDrive/george_ds/no_george/1810.jpg removed\n",
            "/content/gdrive/MyDrive/george_ds/no_george/1802.jpg removed\n",
            "/content/gdrive/MyDrive/george_ds/no_george/1801.jpg removed\n",
            "/content/gdrive/MyDrive/george_ds/no_george/1800.jpg removed\n",
            "/content/gdrive/MyDrive/george_ds/no_george/1849.jpg removed\n",
            "/content/gdrive/MyDrive/george_ds/no_george/1855.jpg removed\n"
          ]
        },
        {
          "output_type": "stream",
          "name": "stderr",
          "text": [
            " 71%|███████   | 4761/6721 [02:20<00:55, 35.22it/s]"
          ]
        },
        {
          "output_type": "stream",
          "name": "stdout",
          "text": [
            "/content/gdrive/MyDrive/george_ds/no_george/1851.jpg removed\n",
            "/content/gdrive/MyDrive/george_ds/no_george/1848.jpg removed\n",
            "/content/gdrive/MyDrive/george_ds/no_george/1853.jpg removed\n",
            "/content/gdrive/MyDrive/george_ds/no_george/1858.jpg removed\n",
            "/content/gdrive/MyDrive/george_ds/no_george/1856.jpg removed\n",
            "/content/gdrive/MyDrive/george_ds/no_george/1852.jpg removed\n",
            "/content/gdrive/MyDrive/george_ds/no_george/1854.jpg removed\n",
            "/content/gdrive/MyDrive/george_ds/no_george/1850.jpg removed\n"
          ]
        },
        {
          "output_type": "stream",
          "name": "stderr",
          "text": [
            " 71%|███████   | 4769/6721 [02:20<00:59, 32.68it/s]"
          ]
        },
        {
          "output_type": "stream",
          "name": "stdout",
          "text": [
            "/content/gdrive/MyDrive/george_ds/no_george/1857.jpg removed\n",
            "/content/gdrive/MyDrive/george_ds/no_george/1847.jpg removed\n",
            "/content/gdrive/MyDrive/george_ds/no_george/1846.jpg removed\n",
            "/content/gdrive/MyDrive/george_ds/no_george/1845.jpg removed\n",
            "/content/gdrive/MyDrive/george_ds/no_george/1889.jpg removed\n",
            "/content/gdrive/MyDrive/george_ds/no_george/1904.jpg removed\n",
            "/content/gdrive/MyDrive/george_ds/no_george/1723.jpg removed\n"
          ]
        },
        {
          "output_type": "stream",
          "name": "stderr",
          "text": [
            "\r 71%|███████   | 4774/6721 [02:20<01:04, 30.09it/s]"
          ]
        },
        {
          "output_type": "stream",
          "name": "stdout",
          "text": [
            "/content/gdrive/MyDrive/george_ds/no_george/1720.jpg removed\n",
            "/content/gdrive/MyDrive/george_ds/no_george/1722.jpg removed\n",
            "/content/gdrive/MyDrive/george_ds/no_george/1721.jpg removed\n",
            "/content/gdrive/MyDrive/george_ds/no_george/1711.jpg removed\n",
            "/content/gdrive/MyDrive/george_ds/no_george/1755.jpg removed\n"
          ]
        },
        {
          "output_type": "stream",
          "name": "stderr",
          "text": [
            " 71%|███████   | 4784/6721 [02:21<00:51, 37.29it/s]"
          ]
        },
        {
          "output_type": "stream",
          "name": "stdout",
          "text": [
            "/content/gdrive/MyDrive/george_ds/no_george/1752.jpg removed\n",
            "/content/gdrive/MyDrive/george_ds/no_george/1749.jpg removed\n",
            "/content/gdrive/MyDrive/george_ds/no_george/1740.jpg removed\n",
            "/content/gdrive/MyDrive/george_ds/no_george/1750.jpg removed\n",
            "/content/gdrive/MyDrive/george_ds/no_george/1746.jpg removed\n",
            "/content/gdrive/MyDrive/george_ds/no_george/1757.jpg removed\n",
            "/content/gdrive/MyDrive/george_ds/no_george/1764.jpg removed\n",
            "/content/gdrive/MyDrive/george_ds/no_george/1763.jpg removed\n",
            "/content/gdrive/MyDrive/george_ds/no_george/1782.jpg removed\n",
            "/content/gdrive/MyDrive/george_ds/no_george/1777.jpg removed\n"
          ]
        },
        {
          "output_type": "stream",
          "name": "stderr",
          "text": [
            " 71%|███████▏  | 4793/6721 [02:21<00:49, 38.68it/s]"
          ]
        },
        {
          "output_type": "stream",
          "name": "stdout",
          "text": [
            "/content/gdrive/MyDrive/george_ds/no_george/1778.jpg removed\n",
            "/content/gdrive/MyDrive/george_ds/no_george/1776.jpg removed\n",
            "/content/gdrive/MyDrive/george_ds/no_george/1771.jpg removed\n",
            "/content/gdrive/MyDrive/george_ds/no_george/1780.jpg removed\n",
            "/content/gdrive/MyDrive/george_ds/no_george/1773.jpg removed\n",
            "/content/gdrive/MyDrive/george_ds/no_george/1779.jpg removed\n",
            "/content/gdrive/MyDrive/george_ds/no_george/1774.jpg removed\n",
            "/content/gdrive/MyDrive/george_ds/no_george/1770.jpg removed\n"
          ]
        },
        {
          "output_type": "stream",
          "name": "stderr",
          "text": [
            " 71%|███████▏  | 4801/6721 [02:21<00:51, 37.09it/s]"
          ]
        },
        {
          "output_type": "stream",
          "name": "stdout",
          "text": [
            "/content/gdrive/MyDrive/george_ds/no_george/1796.jpg removed\n",
            "/content/gdrive/MyDrive/george_ds/no_george/1798.jpg removed\n",
            "/content/gdrive/MyDrive/george_ds/no_george/1795.jpg removed\n",
            "/content/gdrive/MyDrive/george_ds/no_george/1793.jpg removed\n",
            "/content/gdrive/MyDrive/george_ds/no_george/1787.jpg removed\n",
            "/content/gdrive/MyDrive/george_ds/no_george/1791.jpg removed\n",
            "/content/gdrive/MyDrive/george_ds/no_george/1792.jpg removed\n",
            "/content/gdrive/MyDrive/george_ds/no_george/1789.jpg removed\n"
          ]
        },
        {
          "output_type": "stream",
          "name": "stderr",
          "text": [
            " 72%|███████▏  | 4813/6721 [02:21<00:41, 46.35it/s]"
          ]
        },
        {
          "output_type": "stream",
          "name": "stdout",
          "text": [
            "/content/gdrive/MyDrive/george_ds/no_george/1786.jpg removed\n",
            "/content/gdrive/MyDrive/george_ds/no_george/1788.jpg removed\n",
            "/content/gdrive/MyDrive/george_ds/no_george/1785.jpg removed\n",
            "/content/gdrive/MyDrive/george_ds/no_george/1775.jpg removed\n",
            "/content/gdrive/MyDrive/george_ds/no_george/1772.jpg removed\n",
            "/content/gdrive/MyDrive/george_ds/no_george/1781.jpg removed\n",
            "/content/gdrive/MyDrive/george_ds/no_george/1783.jpg removed\n",
            "/content/gdrive/MyDrive/george_ds/no_george/1919.jpg removed\n",
            "/content/gdrive/MyDrive/george_ds/no_george/1790.jpg removed\n",
            "/content/gdrive/MyDrive/george_ds/no_george/1794.jpg removed\n",
            "/content/gdrive/MyDrive/george_ds/no_george/1797.jpg removed\n"
          ]
        },
        {
          "output_type": "stream",
          "name": "stderr",
          "text": [
            "\r 72%|███████▏  | 4818/6721 [02:21<00:44, 42.41it/s]"
          ]
        },
        {
          "output_type": "stream",
          "name": "stdout",
          "text": [
            "/content/gdrive/MyDrive/george_ds/no_george/1934.jpg removed\n",
            "/content/gdrive/MyDrive/george_ds/no_george/1843.jpg removed\n",
            "/content/gdrive/MyDrive/george_ds/no_george/1836.jpg removed\n",
            "/content/gdrive/MyDrive/george_ds/no_george/1835.jpg removed\n",
            "/content/gdrive/MyDrive/george_ds/no_george/1834.jpg removed\n",
            "/content/gdrive/MyDrive/george_ds/no_george/1833.jpg removed\n",
            "/content/gdrive/MyDrive/george_ds/no_george/1841.jpg removed\n",
            "/content/gdrive/MyDrive/george_ds/no_george/1840.jpg removed\n"
          ]
        },
        {
          "output_type": "stream",
          "name": "stderr",
          "text": [
            " 72%|███████▏  | 4827/6721 [02:22<00:50, 37.53it/s]"
          ]
        },
        {
          "output_type": "stream",
          "name": "stdout",
          "text": [
            "/content/gdrive/MyDrive/george_ds/no_george/1839.jpg removed\n",
            "/content/gdrive/MyDrive/george_ds/no_george/1842.jpg removed\n",
            "/content/gdrive/MyDrive/george_ds/no_george/1838.jpg removed\n",
            "/content/gdrive/MyDrive/george_ds/no_george/1837.jpg removed\n",
            "/content/gdrive/MyDrive/george_ds/no_george/1832.jpg removed\n",
            "/content/gdrive/MyDrive/george_ds/no_george/1831.jpg removed\n",
            "/content/gdrive/MyDrive/george_ds/no_george/1830.jpg removed\n",
            "/content/gdrive/MyDrive/george_ds/no_george/1859.jpg removed\n"
          ]
        },
        {
          "output_type": "stream",
          "name": "stderr",
          "text": [
            " 72%|███████▏  | 4837/6721 [02:22<00:47, 39.41it/s]"
          ]
        },
        {
          "output_type": "stream",
          "name": "stdout",
          "text": [
            "/content/gdrive/MyDrive/george_ds/no_george/1705.jpg removed\n",
            "/content/gdrive/MyDrive/george_ds/no_george/1699.jpg removed\n",
            "/content/gdrive/MyDrive/george_ds/no_george/1704.jpg removed\n",
            "/content/gdrive/MyDrive/george_ds/no_george/1707.jpg removed\n",
            "/content/gdrive/MyDrive/george_ds/no_george/1730.jpg removed\n",
            "/content/gdrive/MyDrive/george_ds/no_george/1727.jpg removed\n",
            "/content/gdrive/MyDrive/george_ds/no_george/1735.jpg removed\n",
            "/content/gdrive/MyDrive/george_ds/no_george/1731.jpg removed\n"
          ]
        },
        {
          "output_type": "stream",
          "name": "stderr",
          "text": [
            "\r 72%|███████▏  | 4842/6721 [02:22<00:50, 36.93it/s]"
          ]
        },
        {
          "output_type": "stream",
          "name": "stdout",
          "text": [
            "/content/gdrive/MyDrive/george_ds/no_george/1714.jpg removed\n",
            "/content/gdrive/MyDrive/george_ds/no_george/1715.jpg removed\n",
            "/content/gdrive/MyDrive/george_ds/no_george/1765.jpg removed\n",
            "/content/gdrive/MyDrive/george_ds/no_george/1760.jpg removed\n",
            "/content/gdrive/MyDrive/george_ds/no_george/1767.jpg removed\n",
            "/content/gdrive/MyDrive/george_ds/no_george/1759.jpg removed\n",
            "/content/gdrive/MyDrive/george_ds/no_george/1768.jpg removed\n",
            "/content/gdrive/MyDrive/george_ds/no_george/1758.jpg removed\n"
          ]
        },
        {
          "output_type": "stream",
          "name": "stderr",
          "text": [
            " 72%|███████▏  | 4851/6721 [02:22<00:47, 39.63it/s]"
          ]
        },
        {
          "output_type": "stream",
          "name": "stdout",
          "text": [
            "/content/gdrive/MyDrive/george_ds/no_george/1766.jpg removed\n",
            "/content/gdrive/MyDrive/george_ds/no_george/1761.jpg removed\n",
            "/content/gdrive/MyDrive/george_ds/no_george/1762.jpg removed\n",
            "/content/gdrive/MyDrive/george_ds/no_george/1756.jpg removed\n",
            "/content/gdrive/MyDrive/george_ds/no_george/1745.jpg removed\n",
            "/content/gdrive/MyDrive/george_ds/no_george/1747.jpg removed\n",
            "/content/gdrive/MyDrive/george_ds/no_george/1751.jpg removed\n",
            "/content/gdrive/MyDrive/george_ds/no_george/1689.jpg removed\n",
            "/content/gdrive/MyDrive/george_ds/no_george/1686.jpg removed\n",
            "/content/gdrive/MyDrive/george_ds/no_george/1685.jpg removed\n",
            "/content/gdrive/MyDrive/george_ds/no_george/1684.jpg removed\n"
          ]
        },
        {
          "output_type": "stream",
          "name": "stderr",
          "text": [
            " 72%|███████▏  | 4862/6721 [02:23<00:42, 43.35it/s]"
          ]
        },
        {
          "output_type": "stream",
          "name": "stdout",
          "text": [
            "/content/gdrive/MyDrive/george_ds/no_george/1681.jpg removed\n",
            "/content/gdrive/MyDrive/george_ds/no_george/1874.jpg removed\n",
            "/content/gdrive/MyDrive/george_ds/no_george/1753.jpg removed\n",
            "/content/gdrive/MyDrive/george_ds/no_george/1743.jpg removed\n",
            "/content/gdrive/MyDrive/george_ds/no_george/1748.jpg removed\n",
            "/content/gdrive/MyDrive/george_ds/no_george/1744.jpg removed\n",
            "/content/gdrive/MyDrive/george_ds/no_george/1742.jpg removed\n",
            "/content/gdrive/MyDrive/george_ds/no_george/1741.jpg removed\n",
            "/content/gdrive/MyDrive/george_ds/no_george/1829.jpg removed\n"
          ]
        },
        {
          "output_type": "stream",
          "name": "stderr",
          "text": [
            " 72%|███████▏  | 4872/6721 [02:23<00:40, 45.38it/s]"
          ]
        },
        {
          "output_type": "stream",
          "name": "stdout",
          "text": [
            "/content/gdrive/MyDrive/george_ds/no_george/1733.jpg removed\n",
            "/content/gdrive/MyDrive/george_ds/no_george/1738.jpg removed\n",
            "/content/gdrive/MyDrive/george_ds/no_george/1734.jpg removed\n",
            "/content/gdrive/MyDrive/george_ds/no_george/1728.jpg removed\n",
            "/content/gdrive/MyDrive/george_ds/no_george/1729.jpg removed\n",
            "/content/gdrive/MyDrive/george_ds/no_george/1732.jpg removed\n",
            "/content/gdrive/MyDrive/george_ds/no_george/1736.jpg removed\n",
            "/content/gdrive/MyDrive/george_ds/no_george/1725.jpg removed\n",
            "/content/gdrive/MyDrive/george_ds/no_george/1691.jpg removed\n",
            "/content/gdrive/MyDrive/george_ds/no_george/1682.jpg removed\n"
          ]
        },
        {
          "output_type": "stream",
          "name": "stderr",
          "text": [
            " 73%|███████▎  | 4882/6721 [02:23<00:42, 43.73it/s]"
          ]
        },
        {
          "output_type": "stream",
          "name": "stdout",
          "text": [
            "/content/gdrive/MyDrive/george_ds/no_george/1844.jpg removed\n",
            "/content/gdrive/MyDrive/george_ds/no_george/1737.jpg removed\n",
            "/content/gdrive/MyDrive/george_ds/no_george/1662.jpg removed\n",
            "/content/gdrive/MyDrive/george_ds/no_george/1658.jpg removed\n",
            "/content/gdrive/MyDrive/george_ds/no_george/1799.jpg removed\n",
            "/content/gdrive/MyDrive/george_ds/no_george/1648.jpg removed\n",
            "/content/gdrive/MyDrive/george_ds/no_george/1635.jpg removed\n",
            "/content/gdrive/MyDrive/george_ds/no_george/1641.jpg removed\n",
            "/content/gdrive/MyDrive/george_ds/no_george/1640.jpg removed\n",
            "/content/gdrive/MyDrive/george_ds/no_george/1638.jpg removed\n"
          ]
        },
        {
          "output_type": "stream",
          "name": "stderr",
          "text": [
            " 73%|███████▎  | 4893/6721 [02:23<00:40, 45.64it/s]"
          ]
        },
        {
          "output_type": "stream",
          "name": "stdout",
          "text": [
            "/content/gdrive/MyDrive/george_ds/no_george/1636.jpg removed\n",
            "/content/gdrive/MyDrive/george_ds/no_george/1726.jpg removed\n",
            "/content/gdrive/MyDrive/george_ds/no_george/1651.jpg removed\n",
            "/content/gdrive/MyDrive/george_ds/no_george/1659.jpg removed\n",
            "/content/gdrive/MyDrive/george_ds/no_george/1650.jpg removed\n",
            "/content/gdrive/MyDrive/george_ds/no_george/1814.jpg removed\n",
            "/content/gdrive/MyDrive/george_ds/no_george/1718.jpg removed\n",
            "/content/gdrive/MyDrive/george_ds/no_george/1716.jpg removed\n",
            "/content/gdrive/MyDrive/george_ds/no_george/1713.jpg removed\n"
          ]
        },
        {
          "output_type": "stream",
          "name": "stderr",
          "text": [
            " 73%|███████▎  | 4903/6721 [02:24<00:44, 40.73it/s]"
          ]
        },
        {
          "output_type": "stream",
          "name": "stdout",
          "text": [
            "/content/gdrive/MyDrive/george_ds/no_george/1712.jpg removed\n",
            "/content/gdrive/MyDrive/george_ds/no_george/1719.jpg removed\n",
            "/content/gdrive/MyDrive/george_ds/no_george/1717.jpg removed\n",
            "/content/gdrive/MyDrive/george_ds/no_george/1710.jpg removed\n",
            "/content/gdrive/MyDrive/george_ds/no_george/1663.jpg removed\n",
            "/content/gdrive/MyDrive/george_ds/no_george/1654.jpg removed\n",
            "/content/gdrive/MyDrive/george_ds/no_george/1656.jpg removed\n",
            "/content/gdrive/MyDrive/george_ds/no_george/1652.jpg removed\n",
            "/content/gdrive/MyDrive/george_ds/no_george/1655.jpg removed\n"
          ]
        },
        {
          "output_type": "stream",
          "name": "stderr",
          "text": [
            "\r 73%|███████▎  | 4908/6721 [02:24<00:47, 38.11it/s]"
          ]
        },
        {
          "output_type": "stream",
          "name": "stdout",
          "text": [
            "/content/gdrive/MyDrive/george_ds/no_george/1657.jpg removed\n",
            "/content/gdrive/MyDrive/george_ds/no_george/1653.jpg removed\n",
            "/content/gdrive/MyDrive/george_ds/no_george/1661.jpg removed\n",
            "/content/gdrive/MyDrive/george_ds/no_george/1660.jpg removed\n",
            "/content/gdrive/MyDrive/george_ds/no_george/1621.jpg removed\n",
            "/content/gdrive/MyDrive/george_ds/no_george/1625.jpg removed\n",
            "/content/gdrive/MyDrive/george_ds/no_george/1622.jpg removed\n",
            "/content/gdrive/MyDrive/george_ds/no_george/1629.jpg removed\n",
            "/content/gdrive/MyDrive/george_ds/no_george/1631.jpg removed\n"
          ]
        },
        {
          "output_type": "stream",
          "name": "stderr",
          "text": [
            " 73%|███████▎  | 4917/6721 [02:24<00:47, 38.07it/s]"
          ]
        },
        {
          "output_type": "stream",
          "name": "stdout",
          "text": [
            "/content/gdrive/MyDrive/george_ds/no_george/1784.jpg removed\n",
            "/content/gdrive/MyDrive/george_ds/no_george/1692.jpg removed\n",
            "/content/gdrive/MyDrive/george_ds/no_george/1687.jpg removed\n",
            "/content/gdrive/MyDrive/george_ds/no_george/1693.jpg removed\n",
            "/content/gdrive/MyDrive/george_ds/no_george/1683.jpg removed\n",
            "/content/gdrive/MyDrive/george_ds/no_george/1688.jpg removed\n",
            "/content/gdrive/MyDrive/george_ds/no_george/1690.jpg removed\n",
            "/content/gdrive/MyDrive/george_ds/no_george/1680.jpg removed\n",
            "/content/gdrive/MyDrive/george_ds/no_george/1639.jpg removed\n",
            "/content/gdrive/MyDrive/george_ds/no_george/1703.jpg removed\n"
          ]
        },
        {
          "output_type": "stream",
          "name": "stderr",
          "text": [
            " 73%|███████▎  | 4928/6721 [02:24<00:41, 42.71it/s]"
          ]
        },
        {
          "output_type": "stream",
          "name": "stdout",
          "text": [
            "/content/gdrive/MyDrive/george_ds/no_george/1700.jpg removed\n",
            "/content/gdrive/MyDrive/george_ds/no_george/1697.jpg removed\n",
            "/content/gdrive/MyDrive/george_ds/no_george/1701.jpg removed\n",
            "/content/gdrive/MyDrive/george_ds/no_george/1698.jpg removed\n",
            "/content/gdrive/MyDrive/george_ds/no_george/1706.jpg removed\n",
            "/content/gdrive/MyDrive/george_ds/no_george/1702.jpg removed\n",
            "/content/gdrive/MyDrive/george_ds/no_george/1708.jpg removed\n",
            "/content/gdrive/MyDrive/george_ds/no_george/1696.jpg removed\n",
            "/content/gdrive/MyDrive/george_ds/no_george/1695.jpg removed\n",
            "/content/gdrive/MyDrive/george_ds/no_george/1626.jpg removed\n"
          ]
        },
        {
          "output_type": "stream",
          "name": "stderr",
          "text": [
            " 74%|███████▎  | 4940/6721 [02:24<00:38, 46.77it/s]"
          ]
        },
        {
          "output_type": "stream",
          "name": "stdout",
          "text": [
            "/content/gdrive/MyDrive/george_ds/no_george/1633.jpg removed\n",
            "/content/gdrive/MyDrive/george_ds/no_george/1519.jpg removed\n",
            "/content/gdrive/MyDrive/george_ds/no_george/1517.jpg removed\n",
            "/content/gdrive/MyDrive/george_ds/no_george/1514.jpg removed\n",
            "/content/gdrive/MyDrive/george_ds/no_george/1518.jpg removed\n",
            "/content/gdrive/MyDrive/george_ds/no_george/1599.jpg removed\n",
            "/content/gdrive/MyDrive/george_ds/no_george/1590.jpg removed\n",
            "/content/gdrive/MyDrive/george_ds/no_george/1596.jpg removed\n",
            "/content/gdrive/MyDrive/george_ds/no_george/1739.jpg removed\n",
            "/content/gdrive/MyDrive/george_ds/no_george/1530.jpg removed\n",
            "/content/gdrive/MyDrive/george_ds/no_george/1528.jpg removed\n",
            "/content/gdrive/MyDrive/george_ds/no_george/1527.jpg removed\n",
            "/content/gdrive/MyDrive/george_ds/no_george/1532.jpg removed\n"
          ]
        },
        {
          "output_type": "stream",
          "name": "stderr",
          "text": [
            " 74%|███████▎  | 4951/6721 [02:25<00:36, 47.97it/s]"
          ]
        },
        {
          "output_type": "stream",
          "name": "stdout",
          "text": [
            "/content/gdrive/MyDrive/george_ds/no_george/1531.jpg removed\n",
            "/content/gdrive/MyDrive/george_ds/no_george/1524.jpg removed\n",
            "/content/gdrive/MyDrive/george_ds/no_george/1536.jpg removed\n",
            "/content/gdrive/MyDrive/george_ds/no_george/1543.jpg removed\n",
            "/content/gdrive/MyDrive/george_ds/no_george/1538.jpg removed\n",
            "/content/gdrive/MyDrive/george_ds/no_george/1544.jpg removed\n",
            "/content/gdrive/MyDrive/george_ds/no_george/1535.jpg removed\n",
            "/content/gdrive/MyDrive/george_ds/no_george/1754.jpg removed\n"
          ]
        },
        {
          "output_type": "stream",
          "name": "stderr",
          "text": [
            " 74%|███████▍  | 4961/6721 [02:25<00:42, 41.06it/s]"
          ]
        },
        {
          "output_type": "stream",
          "name": "stdout",
          "text": [
            "/content/gdrive/MyDrive/george_ds/no_george/1552.jpg removed\n",
            "/content/gdrive/MyDrive/george_ds/no_george/1554.jpg removed\n",
            "/content/gdrive/MyDrive/george_ds/no_george/1551.jpg removed\n",
            "/content/gdrive/MyDrive/george_ds/no_george/1555.jpg removed\n",
            "/content/gdrive/MyDrive/george_ds/no_george/1611.jpg removed\n",
            "/content/gdrive/MyDrive/george_ds/no_george/1609.jpg removed\n",
            "/content/gdrive/MyDrive/george_ds/no_george/1618.jpg removed\n",
            "/content/gdrive/MyDrive/george_ds/no_george/1557.jpg removed\n"
          ]
        },
        {
          "output_type": "stream",
          "name": "stderr",
          "text": [
            " 74%|███████▍  | 4973/6721 [02:25<00:35, 49.53it/s]"
          ]
        },
        {
          "output_type": "stream",
          "name": "stdout",
          "text": [
            "/content/gdrive/MyDrive/george_ds/no_george/1563.jpg removed\n",
            "/content/gdrive/MyDrive/george_ds/no_george/1564.jpg removed\n",
            "/content/gdrive/MyDrive/george_ds/no_george/1559.jpg removed\n",
            "/content/gdrive/MyDrive/george_ds/no_george/1574.jpg removed\n",
            "/content/gdrive/MyDrive/george_ds/no_george/1571.jpg removed\n",
            "/content/gdrive/MyDrive/george_ds/no_george/1575.jpg removed\n",
            "/content/gdrive/MyDrive/george_ds/no_george/1576.jpg removed\n",
            "/content/gdrive/MyDrive/george_ds/no_george/1572.jpg removed\n",
            "/content/gdrive/MyDrive/george_ds/no_george/1568.jpg removed\n",
            "/content/gdrive/MyDrive/george_ds/no_george/1587.jpg removed\n",
            "/content/gdrive/MyDrive/george_ds/no_george/1581.jpg removed\n",
            "/content/gdrive/MyDrive/george_ds/no_george/1595.jpg removed\n",
            "/content/gdrive/MyDrive/george_ds/no_george/1594.jpg removed"
          ]
        },
        {
          "output_type": "stream",
          "name": "stderr",
          "text": [
            "\r 74%|███████▍  | 4979/6721 [02:25<00:35, 48.65it/s]"
          ]
        },
        {
          "output_type": "stream",
          "name": "stdout",
          "text": [
            "\n",
            "/content/gdrive/MyDrive/george_ds/no_george/1602.jpg removed\n",
            "/content/gdrive/MyDrive/george_ds/no_george/1603.jpg removed\n",
            "/content/gdrive/MyDrive/george_ds/no_george/1612.jpg removed\n",
            "/content/gdrive/MyDrive/george_ds/no_george/1608.jpg removed\n",
            "/content/gdrive/MyDrive/george_ds/no_george/1607.jpg removed\n",
            "/content/gdrive/MyDrive/george_ds/no_george/1606.jpg removed\n",
            "/content/gdrive/MyDrive/george_ds/no_george/1614.jpg removed\n",
            "/content/gdrive/MyDrive/george_ds/no_george/1610.jpg removed\n",
            "/content/gdrive/MyDrive/george_ds/no_george/1605.jpg removed\n"
          ]
        },
        {
          "output_type": "stream",
          "name": "stderr",
          "text": [
            " 74%|███████▍  | 4989/6721 [02:25<00:38, 45.47it/s]"
          ]
        },
        {
          "output_type": "stream",
          "name": "stdout",
          "text": [
            "/content/gdrive/MyDrive/george_ds/no_george/1671.jpg removed\n",
            "/content/gdrive/MyDrive/george_ds/no_george/1672.jpg removed\n",
            "/content/gdrive/MyDrive/george_ds/no_george/1668.jpg removed\n",
            "/content/gdrive/MyDrive/george_ds/no_george/1674.jpg removed\n",
            "/content/gdrive/MyDrive/george_ds/no_george/1676.jpg removed\n",
            "/content/gdrive/MyDrive/george_ds/no_george/1666.jpg removed\n",
            "/content/gdrive/MyDrive/george_ds/no_george/1665.jpg removed\n",
            "/content/gdrive/MyDrive/george_ds/no_george/1628.jpg removed\n",
            "/content/gdrive/MyDrive/george_ds/no_george/1630.jpg removed\n",
            "/content/gdrive/MyDrive/george_ds/no_george/1623.jpg removed\n"
          ]
        },
        {
          "output_type": "stream",
          "name": "stderr",
          "text": [
            " 74%|███████▍  | 4999/6721 [02:26<00:38, 44.42it/s]"
          ]
        },
        {
          "output_type": "stream",
          "name": "stdout",
          "text": [
            "/content/gdrive/MyDrive/george_ds/no_george/1624.jpg removed\n",
            "/content/gdrive/MyDrive/george_ds/no_george/1627.jpg removed\n",
            "/content/gdrive/MyDrive/george_ds/no_george/1632.jpg removed\n",
            "/content/gdrive/MyDrive/george_ds/no_george/1620.jpg removed\n",
            "/content/gdrive/MyDrive/george_ds/no_george/1769.jpg removed\n",
            "/content/gdrive/MyDrive/george_ds/no_george/1667.jpg removed\n",
            "/content/gdrive/MyDrive/george_ds/no_george/1677.jpg removed\n",
            "/content/gdrive/MyDrive/george_ds/no_george/1678.jpg removed\n",
            "/content/gdrive/MyDrive/george_ds/no_george/1669.jpg removed\n"
          ]
        },
        {
          "output_type": "stream",
          "name": "stderr",
          "text": [
            " 75%|███████▍  | 5009/6721 [02:26<00:41, 41.50it/s]"
          ]
        },
        {
          "output_type": "stream",
          "name": "stdout",
          "text": [
            "/content/gdrive/MyDrive/george_ds/no_george/1675.jpg removed\n",
            "/content/gdrive/MyDrive/george_ds/no_george/1670.jpg removed\n",
            "/content/gdrive/MyDrive/george_ds/no_george/1673.jpg removed\n",
            "/content/gdrive/MyDrive/george_ds/no_george/1643.jpg removed\n",
            "/content/gdrive/MyDrive/george_ds/no_george/1642.jpg removed\n",
            "/content/gdrive/MyDrive/george_ds/no_george/1644.jpg removed\n",
            "/content/gdrive/MyDrive/george_ds/no_george/1647.jpg removed\n",
            "/content/gdrive/MyDrive/george_ds/no_george/1645.jpg removed\n",
            "/content/gdrive/MyDrive/george_ds/no_george/1646.jpg removed\n"
          ]
        },
        {
          "output_type": "stream",
          "name": "stderr",
          "text": [
            " 75%|███████▍  | 5019/6721 [02:26<00:41, 40.86it/s]"
          ]
        },
        {
          "output_type": "stream",
          "name": "stdout",
          "text": [
            "/content/gdrive/MyDrive/george_ds/no_george/1637.jpg removed\n",
            "/content/gdrive/MyDrive/george_ds/no_george/1506.jpg removed\n",
            "/content/gdrive/MyDrive/george_ds/no_george/1507.jpg removed\n",
            "/content/gdrive/MyDrive/george_ds/no_george/1510.jpg removed\n",
            "/content/gdrive/MyDrive/george_ds/no_george/1511.jpg removed\n",
            "/content/gdrive/MyDrive/george_ds/no_george/1472.jpg removed\n",
            "/content/gdrive/MyDrive/george_ds/no_george/1475.jpg removed\n",
            "/content/gdrive/MyDrive/george_ds/no_george/1496.jpg removed\n",
            "/content/gdrive/MyDrive/george_ds/no_george/1494.jpg removed\n",
            "/content/gdrive/MyDrive/george_ds/no_george/1497.jpg removed\n"
          ]
        },
        {
          "output_type": "stream",
          "name": "stderr",
          "text": [
            " 75%|███████▍  | 5029/6721 [02:26<00:39, 42.65it/s]"
          ]
        },
        {
          "output_type": "stream",
          "name": "stdout",
          "text": [
            "/content/gdrive/MyDrive/george_ds/no_george/1504.jpg removed\n",
            "/content/gdrive/MyDrive/george_ds/no_george/1500.jpg removed\n",
            "/content/gdrive/MyDrive/george_ds/no_george/1499.jpg removed\n",
            "/content/gdrive/MyDrive/george_ds/no_george/1709.jpg removed\n",
            "/content/gdrive/MyDrive/george_ds/no_george/1617.jpg removed\n",
            "/content/gdrive/MyDrive/george_ds/no_george/1616.jpg removed\n",
            "/content/gdrive/MyDrive/george_ds/no_george/1613.jpg removed\n",
            "/content/gdrive/MyDrive/george_ds/no_george/1615.jpg removed\n",
            "/content/gdrive/MyDrive/george_ds/no_george/1471.jpg removed\n"
          ]
        },
        {
          "output_type": "stream",
          "name": "stderr",
          "text": [
            " 75%|███████▍  | 5039/6721 [02:27<00:40, 41.95it/s]"
          ]
        },
        {
          "output_type": "stream",
          "name": "stdout",
          "text": [
            "/content/gdrive/MyDrive/george_ds/no_george/1573.jpg removed\n",
            "/content/gdrive/MyDrive/george_ds/no_george/1577.jpg removed\n",
            "/content/gdrive/MyDrive/george_ds/no_george/1570.jpg removed\n",
            "/content/gdrive/MyDrive/george_ds/no_george/1569.jpg removed\n",
            "/content/gdrive/MyDrive/george_ds/no_george/1323.jpg removed\n",
            "/content/gdrive/MyDrive/george_ds/no_george/1092.jpg removed\n",
            "/content/gdrive/MyDrive/george_ds/no_george/1299.jpg removed\n",
            "/content/gdrive/MyDrive/george_ds/no_george/1151.jpg removed\n",
            "/content/gdrive/MyDrive/george_ds/no_george/1370.jpg removed\n"
          ]
        },
        {
          "output_type": "stream",
          "name": "stderr",
          "text": [
            " 75%|███████▌  | 5051/6721 [02:27<00:34, 48.79it/s]"
          ]
        },
        {
          "output_type": "stream",
          "name": "stdout",
          "text": [
            "/content/gdrive/MyDrive/george_ds/no_george/1373.jpg removed\n",
            "/content/gdrive/MyDrive/george_ds/no_george/1368.jpg removed\n",
            "/content/gdrive/MyDrive/george_ds/no_george/1372.jpg removed\n",
            "/content/gdrive/MyDrive/george_ds/no_george/1365.jpg removed\n",
            "/content/gdrive/MyDrive/george_ds/no_george/1362.jpg removed\n",
            "/content/gdrive/MyDrive/george_ds/no_george/1694.jpg removed\n",
            "/content/gdrive/MyDrive/george_ds/no_george/1679.jpg removed\n",
            "/content/gdrive/MyDrive/george_ds/no_george/1380.jpg removed\n",
            "/content/gdrive/MyDrive/george_ds/no_george/1388.jpg removed\n",
            "/content/gdrive/MyDrive/george_ds/no_george/1386.jpg removed\n",
            "/content/gdrive/MyDrive/george_ds/no_george/1378.jpg removed\n",
            "/content/gdrive/MyDrive/george_ds/no_george/1387.jpg removed\n"
          ]
        },
        {
          "output_type": "stream",
          "name": "stderr",
          "text": [
            "\r 75%|███████▌  | 5056/6721 [02:27<00:36, 45.85it/s]"
          ]
        },
        {
          "output_type": "stream",
          "name": "stdout",
          "text": [
            "/content/gdrive/MyDrive/george_ds/no_george/1384.jpg removed\n",
            "/content/gdrive/MyDrive/george_ds/no_george/1377.jpg removed\n",
            "/content/gdrive/MyDrive/george_ds/no_george/1490.jpg removed\n",
            "/content/gdrive/MyDrive/george_ds/no_george/1488.jpg removed\n",
            "/content/gdrive/MyDrive/george_ds/no_george/1396.jpg removed\n",
            "/content/gdrive/MyDrive/george_ds/no_george/1390.jpg removed\n",
            "/content/gdrive/MyDrive/george_ds/no_george/1406.jpg removed\n",
            "/content/gdrive/MyDrive/george_ds/no_george/1417.jpg removed\n"
          ]
        },
        {
          "output_type": "stream",
          "name": "stderr",
          "text": [
            " 75%|███████▌  | 5066/6721 [02:27<00:43, 38.38it/s]"
          ]
        },
        {
          "output_type": "stream",
          "name": "stdout",
          "text": [
            "/content/gdrive/MyDrive/george_ds/no_george/1418.jpg removed\n",
            "/content/gdrive/MyDrive/george_ds/no_george/1402.jpg removed\n",
            "/content/gdrive/MyDrive/george_ds/no_george/1398.jpg removed\n",
            "/content/gdrive/MyDrive/george_ds/no_george/1401.jpg removed\n",
            "/content/gdrive/MyDrive/george_ds/no_george/1399.jpg removed\n",
            "/content/gdrive/MyDrive/george_ds/no_george/1481.jpg removed\n",
            "/content/gdrive/MyDrive/george_ds/no_george/1482.jpg removed\n",
            "/content/gdrive/MyDrive/george_ds/no_george/1313.jpg removed\n"
          ]
        },
        {
          "output_type": "stream",
          "name": "stderr",
          "text": [
            " 76%|███████▌  | 5076/6721 [02:28<00:41, 39.60it/s]"
          ]
        },
        {
          "output_type": "stream",
          "name": "stdout",
          "text": [
            "/content/gdrive/MyDrive/george_ds/no_george/1483.jpg removed\n",
            "/content/gdrive/MyDrive/george_ds/no_george/1649.jpg removed\n",
            "/content/gdrive/MyDrive/george_ds/no_george/1410.jpg removed\n",
            "/content/gdrive/MyDrive/george_ds/no_george/1411.jpg removed\n",
            "/content/gdrive/MyDrive/george_ds/no_george/1416.jpg removed\n",
            "/content/gdrive/MyDrive/george_ds/no_george/1407.jpg removed\n",
            "/content/gdrive/MyDrive/george_ds/no_george/1457.jpg removed\n",
            "/content/gdrive/MyDrive/george_ds/no_george/1580.jpg removed\n",
            "/content/gdrive/MyDrive/george_ds/no_george/1582.jpg removed\n"
          ]
        },
        {
          "output_type": "stream",
          "name": "stderr",
          "text": [
            "\r 76%|███████▌  | 5081/6721 [02:28<00:43, 37.98it/s]"
          ]
        },
        {
          "output_type": "stream",
          "name": "stdout",
          "text": [
            "/content/gdrive/MyDrive/george_ds/no_george/1586.jpg removed\n",
            "/content/gdrive/MyDrive/george_ds/no_george/1583.jpg removed\n",
            "/content/gdrive/MyDrive/george_ds/no_george/1584.jpg removed\n",
            "/content/gdrive/MyDrive/george_ds/no_george/1585.jpg removed\n",
            "/content/gdrive/MyDrive/george_ds/no_george/1588.jpg removed\n",
            "/content/gdrive/MyDrive/george_ds/no_george/1579.jpg removed\n",
            "/content/gdrive/MyDrive/george_ds/no_george/1452.jpg removed\n",
            "/content/gdrive/MyDrive/george_ds/no_george/1438.jpg removed\n",
            "/content/gdrive/MyDrive/george_ds/no_george/1440.jpg removed\n"
          ]
        },
        {
          "output_type": "stream",
          "name": "stderr",
          "text": [
            " 76%|███████▌  | 5090/6721 [02:28<00:45, 35.82it/s]"
          ]
        },
        {
          "output_type": "stream",
          "name": "stdout",
          "text": [
            "/content/gdrive/MyDrive/george_ds/no_george/1446.jpg removed\n",
            "/content/gdrive/MyDrive/george_ds/no_george/1444.jpg removed\n",
            "/content/gdrive/MyDrive/george_ds/no_george/1443.jpg removed\n",
            "/content/gdrive/MyDrive/george_ds/no_george/1724.jpg removed\n",
            "/content/gdrive/MyDrive/george_ds/no_george/1428.jpg removed\n",
            "/content/gdrive/MyDrive/george_ds/no_george/1432.jpg removed\n",
            "/content/gdrive/MyDrive/george_ds/no_george/1433.jpg removed\n"
          ]
        },
        {
          "output_type": "stream",
          "name": "stderr",
          "text": [
            " 76%|███████▌  | 5098/6721 [02:28<00:49, 32.71it/s]"
          ]
        },
        {
          "output_type": "stream",
          "name": "stdout",
          "text": [
            "/content/gdrive/MyDrive/george_ds/no_george/1427.jpg removed\n",
            "/content/gdrive/MyDrive/george_ds/no_george/1601.jpg removed\n",
            "/content/gdrive/MyDrive/george_ds/no_george/1600.jpg removed\n",
            "/content/gdrive/MyDrive/george_ds/no_george/1597.jpg removed\n",
            "/content/gdrive/MyDrive/george_ds/no_george/1592.jpg removed\n",
            "/content/gdrive/MyDrive/george_ds/no_george/1591.jpg removed\n"
          ]
        },
        {
          "output_type": "stream",
          "name": "stderr",
          "text": [
            " 76%|███████▌  | 5107/6721 [02:28<00:43, 36.84it/s]"
          ]
        },
        {
          "output_type": "stream",
          "name": "stdout",
          "text": [
            "/content/gdrive/MyDrive/george_ds/no_george/1598.jpg removed\n",
            "/content/gdrive/MyDrive/george_ds/no_george/1593.jpg removed\n",
            "/content/gdrive/MyDrive/george_ds/no_george/1561.jpg removed\n",
            "/content/gdrive/MyDrive/george_ds/no_george/1560.jpg removed\n",
            "/content/gdrive/MyDrive/george_ds/no_george/1565.jpg removed\n",
            "/content/gdrive/MyDrive/george_ds/no_george/1566.jpg removed\n",
            "/content/gdrive/MyDrive/george_ds/no_george/1562.jpg removed\n",
            "/content/gdrive/MyDrive/george_ds/no_george/1558.jpg removed\n",
            "/content/gdrive/MyDrive/george_ds/no_george/1131.jpg removed\n"
          ]
        },
        {
          "output_type": "stream",
          "name": "stderr",
          "text": [
            "\r 76%|███████▌  | 5112/6721 [02:29<00:41, 38.48it/s]"
          ]
        },
        {
          "output_type": "stream",
          "name": "stdout",
          "text": [
            "/content/gdrive/MyDrive/george_ds/no_george/1101.jpg removed\n",
            "/content/gdrive/MyDrive/george_ds/no_george/1133.jpg removed\n",
            "/content/gdrive/MyDrive/george_ds/no_george/1106.jpg removed\n",
            "/content/gdrive/MyDrive/george_ds/no_george/1664.jpg removed\n",
            "/content/gdrive/MyDrive/george_ds/no_george/1619.jpg removed\n",
            "/content/gdrive/MyDrive/george_ds/no_george/1548.jpg removed\n",
            "/content/gdrive/MyDrive/george_ds/no_george/1549.jpg removed\n",
            "/content/gdrive/MyDrive/george_ds/no_george/1553.jpg removed\n"
          ]
        },
        {
          "output_type": "stream",
          "name": "stderr",
          "text": [
            " 76%|███████▌  | 5120/6721 [02:29<00:45, 34.88it/s]"
          ]
        },
        {
          "output_type": "stream",
          "name": "stdout",
          "text": [
            "/content/gdrive/MyDrive/george_ds/no_george/1550.jpg removed\n",
            "/content/gdrive/MyDrive/george_ds/no_george/1547.jpg removed\n",
            "/content/gdrive/MyDrive/george_ds/no_george/1546.jpg removed\n",
            "/content/gdrive/MyDrive/george_ds/no_george/1267.jpg removed\n",
            "/content/gdrive/MyDrive/george_ds/no_george/1325.jpg removed\n",
            "/content/gdrive/MyDrive/george_ds/no_george/1261.jpg removed\n",
            "/content/gdrive/MyDrive/george_ds/no_george/1229.jpg removed\n"
          ]
        },
        {
          "output_type": "stream",
          "name": "stderr",
          "text": [
            " 76%|███████▋  | 5129/6721 [02:29<00:42, 37.58it/s]"
          ]
        },
        {
          "output_type": "stream",
          "name": "stdout",
          "text": [
            "/content/gdrive/MyDrive/george_ds/no_george/1155.jpg removed\n",
            "/content/gdrive/MyDrive/george_ds/no_george/1268.jpg removed\n",
            "/content/gdrive/MyDrive/george_ds/no_george/1158.jpg removed\n",
            "/content/gdrive/MyDrive/george_ds/no_george/1288.jpg removed\n",
            "/content/gdrive/MyDrive/george_ds/no_george/1234.jpg removed\n",
            "/content/gdrive/MyDrive/george_ds/no_george/1143.jpg removed\n",
            "/content/gdrive/MyDrive/george_ds/no_george/1281.jpg removed\n",
            "/content/gdrive/MyDrive/george_ds/no_george/1211.jpg removed\n"
          ]
        },
        {
          "output_type": "stream",
          "name": "stderr",
          "text": [
            " 76%|███████▋  | 5137/6721 [02:29<00:42, 37.48it/s]"
          ]
        },
        {
          "output_type": "stream",
          "name": "stdout",
          "text": [
            "/content/gdrive/MyDrive/george_ds/no_george/1358.jpg removed\n",
            "/content/gdrive/MyDrive/george_ds/no_george/1355.jpg removed\n",
            "/content/gdrive/MyDrive/george_ds/no_george/1347.jpg removed\n",
            "/content/gdrive/MyDrive/george_ds/no_george/1346.jpg removed\n",
            "/content/gdrive/MyDrive/george_ds/no_george/1354.jpg removed\n",
            "/content/gdrive/MyDrive/george_ds/no_george/1345.jpg removed\n",
            "/content/gdrive/MyDrive/george_ds/no_george/1634.jpg removed\n",
            "/content/gdrive/MyDrive/george_ds/no_george/1537.jpg removed\n"
          ]
        },
        {
          "output_type": "stream",
          "name": "stderr",
          "text": [
            " 77%|███████▋  | 5145/6721 [02:30<00:44, 35.33it/s]"
          ]
        },
        {
          "output_type": "stream",
          "name": "stdout",
          "text": [
            "/content/gdrive/MyDrive/george_ds/no_george/1539.jpg removed\n",
            "/content/gdrive/MyDrive/george_ds/no_george/1540.jpg removed\n",
            "/content/gdrive/MyDrive/george_ds/no_george/1542.jpg removed\n",
            "/content/gdrive/MyDrive/george_ds/no_george/1541.jpg removed\n",
            "/content/gdrive/MyDrive/george_ds/no_george/1115.jpg removed\n",
            "/content/gdrive/MyDrive/george_ds/no_george/1109.jpg removed\n",
            "/content/gdrive/MyDrive/george_ds/no_george/1105.jpg removed\n"
          ]
        },
        {
          "output_type": "stream",
          "name": "stderr",
          "text": [
            " 77%|███████▋  | 5154/6721 [02:30<00:41, 38.12it/s]"
          ]
        },
        {
          "output_type": "stream",
          "name": "stdout",
          "text": [
            "/content/gdrive/MyDrive/george_ds/no_george/1523.jpg removed\n",
            "/content/gdrive/MyDrive/george_ds/no_george/1503.jpg removed\n",
            "/content/gdrive/MyDrive/george_ds/no_george/1502.jpg removed\n",
            "/content/gdrive/MyDrive/george_ds/no_george/1501.jpg removed\n",
            "/content/gdrive/MyDrive/george_ds/no_george/1534.jpg removed\n",
            "/content/gdrive/MyDrive/george_ds/no_george/1103.jpg removed\n",
            "/content/gdrive/MyDrive/george_ds/no_george/1110.jpg removed\n",
            "/content/gdrive/MyDrive/george_ds/no_george/1113.jpg removed\n",
            "/content/gdrive/MyDrive/george_ds/no_george/1161.jpg removed\n"
          ]
        },
        {
          "output_type": "stream",
          "name": "stderr",
          "text": [
            "\r 77%|███████▋  | 5158/6721 [02:30<00:46, 33.47it/s]"
          ]
        },
        {
          "output_type": "stream",
          "name": "stdout",
          "text": [
            "/content/gdrive/MyDrive/george_ds/no_george/1154.jpg removed\n",
            "/content/gdrive/MyDrive/george_ds/no_george/1124.jpg removed\n",
            "/content/gdrive/MyDrive/george_ds/no_george/1125.jpg removed\n",
            "/content/gdrive/MyDrive/george_ds/no_george/1350.jpg removed\n",
            "/content/gdrive/MyDrive/george_ds/no_george/1352.jpg removed\n",
            "/content/gdrive/MyDrive/george_ds/no_george/1545.jpg removed\n"
          ]
        },
        {
          "output_type": "stream",
          "name": "stderr",
          "text": [
            " 77%|███████▋  | 5166/6721 [02:30<00:43, 35.70it/s]"
          ]
        },
        {
          "output_type": "stream",
          "name": "stdout",
          "text": [
            "/content/gdrive/MyDrive/george_ds/no_george/1156.jpg removed\n",
            "/content/gdrive/MyDrive/george_ds/no_george/1145.jpg removed\n",
            "/content/gdrive/MyDrive/george_ds/no_george/1137.jpg removed\n",
            "/content/gdrive/MyDrive/george_ds/no_george/1132.jpg removed\n",
            "/content/gdrive/MyDrive/george_ds/no_george/1239.jpg removed\n",
            "/content/gdrive/MyDrive/george_ds/no_george/1121.jpg removed\n",
            "/content/gdrive/MyDrive/george_ds/no_george/1100.jpg removed\n",
            "/content/gdrive/MyDrive/george_ds/no_george/1567.jpg removed\n"
          ]
        },
        {
          "output_type": "stream",
          "name": "stderr",
          "text": [
            " 77%|███████▋  | 5174/6721 [02:30<00:44, 34.48it/s]"
          ]
        },
        {
          "output_type": "stream",
          "name": "stdout",
          "text": [
            "/content/gdrive/MyDrive/george_ds/no_george/1556.jpg removed\n",
            "/content/gdrive/MyDrive/george_ds/no_george/1521.jpg removed\n",
            "/content/gdrive/MyDrive/george_ds/no_george/1516.jpg removed\n",
            "/content/gdrive/MyDrive/george_ds/no_george/1515.jpg removed\n",
            "/content/gdrive/MyDrive/george_ds/no_george/1522.jpg removed\n",
            "/content/gdrive/MyDrive/george_ds/no_george/1520.jpg removed\n",
            "/content/gdrive/MyDrive/george_ds/no_george/1513.jpg removed\n",
            "/content/gdrive/MyDrive/george_ds/no_george/1232.jpg removed\n"
          ]
        },
        {
          "output_type": "stream",
          "name": "stderr",
          "text": [
            "\r 77%|███████▋  | 5179/6721 [02:30<00:41, 36.99it/s]"
          ]
        },
        {
          "output_type": "stream",
          "name": "stdout",
          "text": [
            "/content/gdrive/MyDrive/george_ds/no_george/1099.jpg removed\n",
            "/content/gdrive/MyDrive/george_ds/no_george/1228.jpg removed\n",
            "/content/gdrive/MyDrive/george_ds/no_george/1260.jpg removed\n",
            "/content/gdrive/MyDrive/george_ds/no_george/1389.jpg removed\n",
            "/content/gdrive/MyDrive/george_ds/no_george/1509.jpg removed\n",
            "/content/gdrive/MyDrive/george_ds/no_george/1508.jpg removed\n"
          ]
        },
        {
          "output_type": "stream",
          "name": "stderr",
          "text": [
            " 77%|███████▋  | 5187/6721 [02:31<00:50, 30.48it/s]"
          ]
        },
        {
          "output_type": "stream",
          "name": "stdout",
          "text": [
            "/content/gdrive/MyDrive/george_ds/no_george/1589.jpg removed\n",
            "/content/gdrive/MyDrive/george_ds/no_george/1578.jpg removed\n",
            "/content/gdrive/MyDrive/george_ds/no_george/1604.jpg removed\n",
            "/content/gdrive/MyDrive/george_ds/no_george/1529.jpg removed\n",
            "/content/gdrive/MyDrive/george_ds/no_george/1526.jpg removed\n",
            "/content/gdrive/MyDrive/george_ds/no_george/1533.jpg removed\n",
            "/content/gdrive/MyDrive/george_ds/no_george/1525.jpg removed\n"
          ]
        },
        {
          "output_type": "stream",
          "name": "stderr",
          "text": [
            "\r 77%|███████▋  | 5192/6721 [02:31<00:44, 34.16it/s]"
          ]
        },
        {
          "output_type": "stream",
          "name": "stdout",
          "text": [
            "/content/gdrive/MyDrive/george_ds/no_george/1495.jpg removed\n",
            "/content/gdrive/MyDrive/george_ds/no_george/1493.jpg removed\n",
            "/content/gdrive/MyDrive/george_ds/no_george/1492.jpg removed\n",
            "/content/gdrive/MyDrive/george_ds/no_george/1505.jpg removed\n",
            "/content/gdrive/MyDrive/george_ds/no_george/1424.jpg removed\n",
            "/content/gdrive/MyDrive/george_ds/no_george/1431.jpg removed\n"
          ]
        },
        {
          "output_type": "stream",
          "name": "stderr",
          "text": [
            " 77%|███████▋  | 5200/6721 [02:31<00:46, 32.42it/s]"
          ]
        },
        {
          "output_type": "stream",
          "name": "stdout",
          "text": [
            "/content/gdrive/MyDrive/george_ds/no_george/1426.jpg removed\n",
            "/content/gdrive/MyDrive/george_ds/no_george/1429.jpg removed\n",
            "/content/gdrive/MyDrive/george_ds/no_george/1425.jpg removed\n",
            "/content/gdrive/MyDrive/george_ds/no_george/1423.jpg removed\n",
            "/content/gdrive/MyDrive/george_ds/no_george/1430.jpg removed\n",
            "/content/gdrive/MyDrive/george_ds/no_george/1421.jpg removed\n"
          ]
        },
        {
          "output_type": "stream",
          "name": "stderr",
          "text": [
            " 77%|███████▋  | 5208/6721 [02:31<00:51, 29.33it/s]"
          ]
        },
        {
          "output_type": "stream",
          "name": "stdout",
          "text": [
            "/content/gdrive/MyDrive/george_ds/no_george/1422.jpg removed\n",
            "/content/gdrive/MyDrive/george_ds/no_george/1420.jpg removed\n",
            "/content/gdrive/MyDrive/george_ds/no_george/1474.jpg removed\n",
            "/content/gdrive/MyDrive/george_ds/no_george/1478.jpg removed\n",
            "/content/gdrive/MyDrive/george_ds/no_george/1476.jpg removed\n",
            "/content/gdrive/MyDrive/george_ds/no_george/1468.jpg removed\n",
            "/content/gdrive/MyDrive/george_ds/no_george/1470.jpg removed\n"
          ]
        },
        {
          "output_type": "stream",
          "name": "stderr",
          "text": [
            "\r 78%|███████▊  | 5212/6721 [02:32<00:51, 29.41it/s]"
          ]
        },
        {
          "output_type": "stream",
          "name": "stdout",
          "text": [
            "/content/gdrive/MyDrive/george_ds/no_george/1473.jpg removed\n",
            "/content/gdrive/MyDrive/george_ds/no_george/1466.jpg removed\n",
            "/content/gdrive/MyDrive/george_ds/no_george/1477.jpg removed\n",
            "/content/gdrive/MyDrive/george_ds/no_george/1467.jpg removed\n",
            "/content/gdrive/MyDrive/george_ds/no_george/1469.jpg removed\n",
            "/content/gdrive/MyDrive/george_ds/no_george/1465.jpg removed\n"
          ]
        },
        {
          "output_type": "stream",
          "name": "stderr",
          "text": [
            " 78%|███████▊  | 5219/6721 [02:32<01:00, 24.91it/s]"
          ]
        },
        {
          "output_type": "stream",
          "name": "stdout",
          "text": [
            "/content/gdrive/MyDrive/george_ds/no_george/1437.jpg removed\n",
            "/content/gdrive/MyDrive/george_ds/no_george/1447.jpg removed\n",
            "/content/gdrive/MyDrive/george_ds/no_george/1448.jpg removed\n",
            "/content/gdrive/MyDrive/george_ds/no_george/1439.jpg removed\n",
            "/content/gdrive/MyDrive/george_ds/no_george/1445.jpg removed\n",
            "/content/gdrive/MyDrive/george_ds/no_george/1442.jpg removed\n"
          ]
        },
        {
          "output_type": "stream",
          "name": "stderr",
          "text": [
            " 78%|███████▊  | 5226/6721 [02:32<00:55, 27.04it/s]"
          ]
        },
        {
          "output_type": "stream",
          "name": "stdout",
          "text": [
            "/content/gdrive/MyDrive/george_ds/no_george/1441.jpg removed\n",
            "/content/gdrive/MyDrive/george_ds/no_george/1436.jpg removed\n",
            "/content/gdrive/MyDrive/george_ds/no_george/1435.jpg removed\n",
            "/content/gdrive/MyDrive/george_ds/no_george/1392.jpg removed\n",
            "/content/gdrive/MyDrive/george_ds/no_george/1397.jpg removed\n",
            "/content/gdrive/MyDrive/george_ds/no_george/1403.jpg removed\n"
          ]
        },
        {
          "output_type": "stream",
          "name": "stderr",
          "text": [
            " 78%|███████▊  | 5236/6721 [02:32<00:43, 34.45it/s]"
          ]
        },
        {
          "output_type": "stream",
          "name": "stdout",
          "text": [
            "/content/gdrive/MyDrive/george_ds/no_george/1395.jpg removed\n",
            "/content/gdrive/MyDrive/george_ds/no_george/1394.jpg removed\n",
            "/content/gdrive/MyDrive/george_ds/no_george/1400.jpg removed\n",
            "/content/gdrive/MyDrive/george_ds/no_george/1393.jpg removed\n",
            "/content/gdrive/MyDrive/george_ds/no_george/1391.jpg removed\n",
            "/content/gdrive/MyDrive/george_ds/no_george/1480.jpg removed\n",
            "/content/gdrive/MyDrive/george_ds/no_george/1479.jpg removed\n",
            "/content/gdrive/MyDrive/george_ds/no_george/1512.jpg removed\n",
            "/content/gdrive/MyDrive/george_ds/no_george/1219.jpg removed\n",
            "/content/gdrive/MyDrive/george_ds/no_george/1197.jpg removed\n"
          ]
        },
        {
          "output_type": "stream",
          "name": "stderr",
          "text": [
            "\r 78%|███████▊  | 5240/6721 [02:33<00:49, 29.86it/s]"
          ]
        },
        {
          "output_type": "stream",
          "name": "stdout",
          "text": [
            "/content/gdrive/MyDrive/george_ds/no_george/1227.jpg removed\n",
            "/content/gdrive/MyDrive/george_ds/no_george/1462.jpg removed\n",
            "/content/gdrive/MyDrive/george_ds/no_george/1456.jpg removed\n",
            "/content/gdrive/MyDrive/george_ds/no_george/1461.jpg removed\n",
            "/content/gdrive/MyDrive/george_ds/no_george/1458.jpg removed\n",
            "/content/gdrive/MyDrive/george_ds/no_george/1459.jpg removed\n"
          ]
        },
        {
          "output_type": "stream",
          "name": "stderr",
          "text": [
            " 78%|███████▊  | 5248/6721 [02:33<00:47, 30.94it/s]"
          ]
        },
        {
          "output_type": "stream",
          "name": "stdout",
          "text": [
            "/content/gdrive/MyDrive/george_ds/no_george/1460.jpg removed\n",
            "/content/gdrive/MyDrive/george_ds/no_george/1463.jpg removed\n",
            "/content/gdrive/MyDrive/george_ds/no_george/1455.jpg removed\n",
            "/content/gdrive/MyDrive/george_ds/no_george/1454.jpg removed\n",
            "/content/gdrive/MyDrive/george_ds/no_george/1453.jpg removed\n",
            "/content/gdrive/MyDrive/george_ds/no_george/1451.jpg removed\n",
            "/content/gdrive/MyDrive/george_ds/no_george/1450.jpg removed\n",
            "/content/gdrive/MyDrive/george_ds/no_george/1491.jpg removed\n",
            "/content/gdrive/MyDrive/george_ds/no_george/1217.jpg removed\n",
            "/content/gdrive/MyDrive/george_ds/no_george/1165.jpg removed\n"
          ]
        },
        {
          "output_type": "stream",
          "name": "stderr",
          "text": [
            " 78%|███████▊  | 5260/6721 [02:33<00:36, 39.55it/s]"
          ]
        },
        {
          "output_type": "stream",
          "name": "stdout",
          "text": [
            "/content/gdrive/MyDrive/george_ds/no_george/1195.jpg removed\n",
            "/content/gdrive/MyDrive/george_ds/no_george/1140.jpg removed\n",
            "/content/gdrive/MyDrive/george_ds/no_george/1210.jpg removed\n",
            "/content/gdrive/MyDrive/george_ds/no_george/1489.jpg removed\n",
            "/content/gdrive/MyDrive/george_ds/no_george/1487.jpg removed\n",
            "/content/gdrive/MyDrive/george_ds/no_george/1486.jpg removed\n",
            "/content/gdrive/MyDrive/george_ds/no_george/1485.jpg removed\n",
            "/content/gdrive/MyDrive/george_ds/no_george/1498.jpg removed\n",
            "/content/gdrive/MyDrive/george_ds/no_george/1327.jpg removed\n"
          ]
        },
        {
          "output_type": "stream",
          "name": "stderr",
          "text": [
            " 78%|███████▊  | 5270/6721 [02:33<00:36, 39.65it/s]"
          ]
        },
        {
          "output_type": "stream",
          "name": "stdout",
          "text": [
            "/content/gdrive/MyDrive/george_ds/no_george/1107.jpg removed\n",
            "/content/gdrive/MyDrive/george_ds/no_george/1413.jpg removed\n",
            "/content/gdrive/MyDrive/george_ds/no_george/1414.jpg removed\n",
            "/content/gdrive/MyDrive/george_ds/no_george/1412.jpg removed\n",
            "/content/gdrive/MyDrive/george_ds/no_george/1408.jpg removed\n",
            "/content/gdrive/MyDrive/george_ds/no_george/1409.jpg removed\n",
            "/content/gdrive/MyDrive/george_ds/no_george/1415.jpg removed\n",
            "/content/gdrive/MyDrive/george_ds/no_george/1405.jpg removed\n",
            "/content/gdrive/MyDrive/george_ds/no_george/1449.jpg removed\n"
          ]
        },
        {
          "output_type": "stream",
          "name": "stderr",
          "text": [
            "\r 78%|███████▊  | 5275/6721 [02:33<00:37, 38.13it/s]"
          ]
        },
        {
          "output_type": "stream",
          "name": "stdout",
          "text": [
            "/content/gdrive/MyDrive/george_ds/no_george/1434.jpg removed\n",
            "/content/gdrive/MyDrive/george_ds/no_george/1079.jpg removed\n",
            "/content/gdrive/MyDrive/george_ds/no_george/1083.jpg removed\n",
            "/content/gdrive/MyDrive/george_ds/no_george/1078.jpg removed\n",
            "/content/gdrive/MyDrive/george_ds/no_george/1077.jpg removed\n",
            "/content/gdrive/MyDrive/george_ds/no_george/1075.jpg removed\n",
            "/content/gdrive/MyDrive/george_ds/no_george/1076.jpg removed\n",
            "/content/gdrive/MyDrive/george_ds/no_george/1085.jpg removed\n"
          ]
        },
        {
          "output_type": "stream",
          "name": "stderr",
          "text": [
            " 79%|███████▊  | 5285/6721 [02:34<00:34, 41.60it/s]"
          ]
        },
        {
          "output_type": "stream",
          "name": "stdout",
          "text": [
            "/content/gdrive/MyDrive/george_ds/no_george/1464.jpg removed\n",
            "/content/gdrive/MyDrive/george_ds/no_george/1255.jpg removed\n",
            "/content/gdrive/MyDrive/george_ds/no_george/1263.jpg removed\n",
            "/content/gdrive/MyDrive/george_ds/no_george/1266.jpg removed\n",
            "/content/gdrive/MyDrive/george_ds/no_george/1246.jpg removed\n",
            "/content/gdrive/MyDrive/george_ds/no_george/1250.jpg removed\n",
            "/content/gdrive/MyDrive/george_ds/no_george/1251.jpg removed\n",
            "/content/gdrive/MyDrive/george_ds/no_george/1293.jpg removed\n",
            "/content/gdrive/MyDrive/george_ds/no_george/1295.jpg removed\n",
            "/content/gdrive/MyDrive/george_ds/no_george/1172.jpg removed\n"
          ]
        },
        {
          "output_type": "stream",
          "name": "stderr",
          "text": [
            " 79%|███████▉  | 5297/6721 [02:34<00:30, 46.36it/s]"
          ]
        },
        {
          "output_type": "stream",
          "name": "stdout",
          "text": [
            "/content/gdrive/MyDrive/george_ds/no_george/1356.jpg removed\n",
            "/content/gdrive/MyDrive/george_ds/no_george/1353.jpg removed\n",
            "/content/gdrive/MyDrive/george_ds/no_george/1357.jpg removed\n",
            "/content/gdrive/MyDrive/george_ds/no_george/1349.jpg removed\n",
            "/content/gdrive/MyDrive/george_ds/no_george/1351.jpg removed\n",
            "/content/gdrive/MyDrive/george_ds/no_george/1348.jpg removed\n",
            "/content/gdrive/MyDrive/george_ds/no_george/1253.jpg removed\n",
            "/content/gdrive/MyDrive/george_ds/no_george/1252.jpg removed\n",
            "/content/gdrive/MyDrive/george_ds/no_george/1240.jpg removed\n",
            "/content/gdrive/MyDrive/george_ds/no_george/1243.jpg removed\n",
            "/content/gdrive/MyDrive/george_ds/no_george/1245.jpg removed\n"
          ]
        },
        {
          "output_type": "stream",
          "name": "stderr",
          "text": [
            " 79%|███████▉  | 5308/6721 [02:34<00:29, 47.50it/s]"
          ]
        },
        {
          "output_type": "stream",
          "name": "stdout",
          "text": [
            "/content/gdrive/MyDrive/george_ds/no_george/1176.jpg removed\n",
            "/content/gdrive/MyDrive/george_ds/no_george/1201.jpg removed\n",
            "/content/gdrive/MyDrive/george_ds/no_george/1308.jpg removed\n",
            "/content/gdrive/MyDrive/george_ds/no_george/1484.jpg removed\n",
            "/content/gdrive/MyDrive/george_ds/no_george/1212.jpg removed\n",
            "/content/gdrive/MyDrive/george_ds/no_george/1215.jpg removed\n",
            "/content/gdrive/MyDrive/george_ds/no_george/1277.jpg removed\n",
            "/content/gdrive/MyDrive/george_ds/no_george/1138.jpg removed\n",
            "/content/gdrive/MyDrive/george_ds/no_george/1344.jpg removed\n"
          ]
        },
        {
          "output_type": "stream",
          "name": "stderr",
          "text": [
            "\r 79%|███████▉  | 5313/6721 [02:34<00:32, 43.85it/s]"
          ]
        },
        {
          "output_type": "stream",
          "name": "stdout",
          "text": [
            "/content/gdrive/MyDrive/george_ds/no_george/1270.jpg removed\n",
            "/content/gdrive/MyDrive/george_ds/no_george/1203.jpg removed\n",
            "/content/gdrive/MyDrive/george_ds/no_george/1208.jpg removed\n",
            "/content/gdrive/MyDrive/george_ds/no_george/1206.jpg removed\n",
            "/content/gdrive/MyDrive/george_ds/no_george/1218.jpg removed\n",
            "/content/gdrive/MyDrive/george_ds/no_george/1262.jpg removed\n",
            "/content/gdrive/MyDrive/george_ds/no_george/1369.jpg removed\n",
            "/content/gdrive/MyDrive/george_ds/no_george/1364.jpg removed\n",
            "/content/gdrive/MyDrive/george_ds/no_george/1371.jpg removed\n"
          ]
        },
        {
          "output_type": "stream",
          "name": "stderr",
          "text": [
            " 79%|███████▉  | 5324/6721 [02:35<00:32, 43.23it/s]"
          ]
        },
        {
          "output_type": "stream",
          "name": "stdout",
          "text": [
            "/content/gdrive/MyDrive/george_ds/no_george/1367.jpg removed\n",
            "/content/gdrive/MyDrive/george_ds/no_george/1366.jpg removed\n",
            "/content/gdrive/MyDrive/george_ds/no_george/1363.jpg removed\n",
            "/content/gdrive/MyDrive/george_ds/no_george/1361.jpg removed\n",
            "/content/gdrive/MyDrive/george_ds/no_george/1360.jpg removed\n",
            "/content/gdrive/MyDrive/george_ds/no_george/1383.jpg removed\n",
            "/content/gdrive/MyDrive/george_ds/no_george/1379.jpg removed\n",
            "/content/gdrive/MyDrive/george_ds/no_george/1376.jpg removed\n",
            "/content/gdrive/MyDrive/george_ds/no_george/1381.jpg removed\n",
            "/content/gdrive/MyDrive/george_ds/no_george/1385.jpg removed\n"
          ]
        },
        {
          "output_type": "stream",
          "name": "stderr",
          "text": [
            "\r 79%|███████▉  | 5329/6721 [02:35<00:34, 40.51it/s]"
          ]
        },
        {
          "output_type": "stream",
          "name": "stdout",
          "text": [
            "/content/gdrive/MyDrive/george_ds/no_george/1382.jpg removed\n",
            "/content/gdrive/MyDrive/george_ds/no_george/1375.jpg removed\n",
            "/content/gdrive/MyDrive/george_ds/no_george/1326.jpg removed\n",
            "/content/gdrive/MyDrive/george_ds/no_george/1328.jpg removed\n",
            "/content/gdrive/MyDrive/george_ds/no_george/1321.jpg removed\n",
            "/content/gdrive/MyDrive/george_ds/no_george/1322.jpg removed\n"
          ]
        },
        {
          "output_type": "stream",
          "name": "stderr",
          "text": [
            " 79%|███████▉  | 5339/6721 [02:35<00:35, 38.45it/s]"
          ]
        },
        {
          "output_type": "stream",
          "name": "stdout",
          "text": [
            "/content/gdrive/MyDrive/george_ds/no_george/1319.jpg removed\n",
            "/content/gdrive/MyDrive/george_ds/no_george/1324.jpg removed\n",
            "/content/gdrive/MyDrive/george_ds/no_george/1318.jpg removed\n",
            "/content/gdrive/MyDrive/george_ds/no_george/1316.jpg removed\n",
            "/content/gdrive/MyDrive/george_ds/no_george/1320.jpg removed\n",
            "/content/gdrive/MyDrive/george_ds/no_george/1317.jpg removed\n",
            "/content/gdrive/MyDrive/george_ds/no_george/1315.jpg removed\n",
            "/content/gdrive/MyDrive/george_ds/no_george/1298.jpg removed\n",
            "/content/gdrive/MyDrive/george_ds/no_george/1291.jpg removed\n"
          ]
        },
        {
          "output_type": "stream",
          "name": "stderr",
          "text": [
            " 80%|███████▉  | 5349/6721 [02:35<00:36, 37.67it/s]"
          ]
        },
        {
          "output_type": "stream",
          "name": "stdout",
          "text": [
            "/content/gdrive/MyDrive/george_ds/no_george/1292.jpg removed\n",
            "/content/gdrive/MyDrive/george_ds/no_george/1296.jpg removed\n",
            "/content/gdrive/MyDrive/george_ds/no_george/1287.jpg removed\n",
            "/content/gdrive/MyDrive/george_ds/no_george/1286.jpg removed\n",
            "/content/gdrive/MyDrive/george_ds/no_george/1289.jpg removed\n",
            "/content/gdrive/MyDrive/george_ds/no_george/1290.jpg removed\n",
            "/content/gdrive/MyDrive/george_ds/no_george/1297.jpg removed\n"
          ]
        },
        {
          "output_type": "stream",
          "name": "stderr",
          "text": [
            " 80%|███████▉  | 5358/6721 [02:36<00:35, 37.89it/s]"
          ]
        },
        {
          "output_type": "stream",
          "name": "stdout",
          "text": [
            "/content/gdrive/MyDrive/george_ds/no_george/1294.jpg removed\n",
            "/content/gdrive/MyDrive/george_ds/no_george/1285.jpg removed\n",
            "/content/gdrive/MyDrive/george_ds/no_george/1404.jpg removed\n",
            "/content/gdrive/MyDrive/george_ds/no_george/1259.jpg removed\n",
            "/content/gdrive/MyDrive/george_ds/no_george/1258.jpg removed\n",
            "/content/gdrive/MyDrive/george_ds/no_george/1257.jpg removed\n",
            "/content/gdrive/MyDrive/george_ds/no_george/1264.jpg removed\n",
            "/content/gdrive/MyDrive/george_ds/no_george/1265.jpg removed\n",
            "/content/gdrive/MyDrive/george_ds/no_george/1256.jpg removed\n"
          ]
        },
        {
          "output_type": "stream",
          "name": "stderr",
          "text": [
            " 80%|███████▉  | 5368/6721 [02:36<00:33, 40.04it/s]"
          ]
        },
        {
          "output_type": "stream",
          "name": "stdout",
          "text": [
            "/content/gdrive/MyDrive/george_ds/no_george/1275.jpg removed\n",
            "/content/gdrive/MyDrive/george_ds/no_george/1278.jpg removed\n",
            "/content/gdrive/MyDrive/george_ds/no_george/1279.jpg removed\n",
            "/content/gdrive/MyDrive/george_ds/no_george/1272.jpg removed\n",
            "/content/gdrive/MyDrive/george_ds/no_george/1282.jpg removed\n",
            "/content/gdrive/MyDrive/george_ds/no_george/1274.jpg removed\n",
            "/content/gdrive/MyDrive/george_ds/no_george/1280.jpg removed\n",
            "/content/gdrive/MyDrive/george_ds/no_george/1273.jpg removed\n",
            "/content/gdrive/MyDrive/george_ds/no_george/1283.jpg removed\n",
            "/content/gdrive/MyDrive/george_ds/no_george/1276.jpg removed\n"
          ]
        },
        {
          "output_type": "stream",
          "name": "stderr",
          "text": [
            "\r 80%|███████▉  | 5373/6721 [02:36<00:34, 39.05it/s]"
          ]
        },
        {
          "output_type": "stream",
          "name": "stdout",
          "text": [
            "/content/gdrive/MyDrive/george_ds/no_george/1271.jpg removed\n",
            "/content/gdrive/MyDrive/george_ds/no_george/1249.jpg removed\n",
            "/content/gdrive/MyDrive/george_ds/no_george/1247.jpg removed\n",
            "/content/gdrive/MyDrive/george_ds/no_george/1248.jpg removed\n",
            "/content/gdrive/MyDrive/george_ds/no_george/1244.jpg removed\n",
            "/content/gdrive/MyDrive/george_ds/no_george/1242.jpg removed\n",
            "/content/gdrive/MyDrive/george_ds/no_george/1241.jpg removed\n"
          ]
        },
        {
          "output_type": "stream",
          "name": "stderr",
          "text": [
            " 80%|████████  | 5382/6721 [02:36<00:33, 39.68it/s]"
          ]
        },
        {
          "output_type": "stream",
          "name": "stdout",
          "text": [
            "/content/gdrive/MyDrive/george_ds/no_george/1374.jpg removed\n",
            "/content/gdrive/MyDrive/george_ds/no_george/1359.jpg removed\n",
            "/content/gdrive/MyDrive/george_ds/no_george/1199.jpg removed\n",
            "/content/gdrive/MyDrive/george_ds/no_george/1200.jpg removed\n",
            "/content/gdrive/MyDrive/george_ds/no_george/1198.jpg removed\n",
            "/content/gdrive/MyDrive/george_ds/no_george/1207.jpg removed\n",
            "/content/gdrive/MyDrive/george_ds/no_george/1204.jpg removed\n",
            "/content/gdrive/MyDrive/george_ds/no_george/1205.jpg removed\n",
            "/content/gdrive/MyDrive/george_ds/no_george/1202.jpg removed\n",
            "/content/gdrive/MyDrive/george_ds/no_george/1196.jpg removed\n"
          ]
        },
        {
          "output_type": "stream",
          "name": "stderr",
          "text": [
            " 80%|████████  | 5391/6721 [02:36<00:36, 36.67it/s]"
          ]
        },
        {
          "output_type": "stream",
          "name": "stdout",
          "text": [
            "/content/gdrive/MyDrive/george_ds/no_george/1237.jpg removed\n",
            "/content/gdrive/MyDrive/george_ds/no_george/1236.jpg removed\n",
            "/content/gdrive/MyDrive/george_ds/no_george/1230.jpg removed\n",
            "/content/gdrive/MyDrive/george_ds/no_george/1235.jpg removed\n",
            "/content/gdrive/MyDrive/george_ds/no_george/1231.jpg removed\n",
            "/content/gdrive/MyDrive/george_ds/no_george/1238.jpg removed\n",
            "/content/gdrive/MyDrive/george_ds/no_george/1233.jpg removed\n"
          ]
        },
        {
          "output_type": "stream",
          "name": "stderr",
          "text": [
            " 80%|████████  | 5400/6721 [02:37<00:34, 37.82it/s]"
          ]
        },
        {
          "output_type": "stream",
          "name": "stdout",
          "text": [
            "/content/gdrive/MyDrive/george_ds/no_george/1226.jpg removed\n",
            "/content/gdrive/MyDrive/george_ds/no_george/1225.jpg removed\n",
            "/content/gdrive/MyDrive/george_ds/no_george/1221.jpg removed\n",
            "/content/gdrive/MyDrive/george_ds/no_george/1222.jpg removed\n",
            "/content/gdrive/MyDrive/george_ds/no_george/1223.jpg removed\n",
            "/content/gdrive/MyDrive/george_ds/no_george/1214.jpg removed\n",
            "/content/gdrive/MyDrive/george_ds/no_george/1216.jpg removed\n",
            "/content/gdrive/MyDrive/george_ds/no_george/1213.jpg removed\n",
            "/content/gdrive/MyDrive/george_ds/no_george/1220.jpg removed\n"
          ]
        },
        {
          "output_type": "stream",
          "name": "stderr",
          "text": [
            " 80%|████████  | 5409/6721 [02:37<00:33, 38.66it/s]"
          ]
        },
        {
          "output_type": "stream",
          "name": "stdout",
          "text": [
            "/content/gdrive/MyDrive/george_ds/no_george/1314.jpg removed\n",
            "/content/gdrive/MyDrive/george_ds/no_george/1284.jpg removed\n",
            "/content/gdrive/MyDrive/george_ds/no_george/1168.jpg removed\n",
            "/content/gdrive/MyDrive/george_ds/no_george/1167.jpg removed\n",
            "/content/gdrive/MyDrive/george_ds/no_george/1177.jpg removed\n",
            "/content/gdrive/MyDrive/george_ds/no_george/1178.jpg removed\n",
            "/content/gdrive/MyDrive/george_ds/no_george/1174.jpg removed\n",
            "/content/gdrive/MyDrive/george_ds/no_george/1171.jpg removed\n",
            "/content/gdrive/MyDrive/george_ds/no_george/1170.jpg removed\n"
          ]
        },
        {
          "output_type": "stream",
          "name": "stderr",
          "text": [
            " 81%|████████  | 5419/6721 [02:37<00:33, 38.86it/s]"
          ]
        },
        {
          "output_type": "stream",
          "name": "stdout",
          "text": [
            "/content/gdrive/MyDrive/george_ds/no_george/1173.jpg removed\n",
            "/content/gdrive/MyDrive/george_ds/no_george/1175.jpg removed\n",
            "/content/gdrive/MyDrive/george_ds/no_george/1169.jpg removed\n",
            "/content/gdrive/MyDrive/george_ds/no_george/1166.jpg removed\n",
            "/content/gdrive/MyDrive/george_ds/no_george/1139.jpg removed\n",
            "/content/gdrive/MyDrive/george_ds/no_george/1144.jpg removed\n",
            "/content/gdrive/MyDrive/george_ds/no_george/1148.jpg removed\n",
            "/content/gdrive/MyDrive/george_ds/no_george/1141.jpg removed\n",
            "/content/gdrive/MyDrive/george_ds/no_george/1136.jpg removed\n"
          ]
        },
        {
          "output_type": "stream",
          "name": "stderr",
          "text": [
            " 81%|████████  | 5428/6721 [02:37<00:31, 40.87it/s]"
          ]
        },
        {
          "output_type": "stream",
          "name": "stdout",
          "text": [
            "/content/gdrive/MyDrive/george_ds/no_george/1147.jpg removed\n",
            "/content/gdrive/MyDrive/george_ds/no_george/1142.jpg removed\n",
            "/content/gdrive/MyDrive/george_ds/no_george/1146.jpg removed\n",
            "/content/gdrive/MyDrive/george_ds/no_george/1135.jpg removed\n",
            "/content/gdrive/MyDrive/george_ds/no_george/1163.jpg removed\n",
            "/content/gdrive/MyDrive/george_ds/no_george/1162.jpg removed\n",
            "/content/gdrive/MyDrive/george_ds/no_george/1153.jpg removed\n",
            "/content/gdrive/MyDrive/george_ds/no_george/1157.jpg removed\n",
            "/content/gdrive/MyDrive/george_ds/no_george/1152.jpg removed\n"
          ]
        },
        {
          "output_type": "stream",
          "name": "stderr",
          "text": [
            "\r 81%|████████  | 5433/6721 [02:37<00:32, 39.27it/s]"
          ]
        },
        {
          "output_type": "stream",
          "name": "stdout",
          "text": [
            "/content/gdrive/MyDrive/george_ds/no_george/1159.jpg removed\n",
            "/content/gdrive/MyDrive/george_ds/no_george/1150.jpg removed\n",
            "/content/gdrive/MyDrive/george_ds/no_george/1183.jpg removed\n",
            "/content/gdrive/MyDrive/george_ds/no_george/1190.jpg removed\n",
            "/content/gdrive/MyDrive/george_ds/no_george/1187.jpg removed\n",
            "/content/gdrive/MyDrive/george_ds/no_george/1189.jpg removed\n",
            "/content/gdrive/MyDrive/george_ds/no_george/1182.jpg removed\n",
            "/content/gdrive/MyDrive/george_ds/no_george/1188.jpg removed\n"
          ]
        },
        {
          "output_type": "stream",
          "name": "stderr",
          "text": [
            " 81%|████████  | 5442/6721 [02:38<00:34, 37.55it/s]"
          ]
        },
        {
          "output_type": "stream",
          "name": "stdout",
          "text": [
            "/content/gdrive/MyDrive/george_ds/no_george/1186.jpg removed\n",
            "/content/gdrive/MyDrive/george_ds/no_george/1185.jpg removed\n",
            "/content/gdrive/MyDrive/george_ds/no_george/1180.jpg removed\n",
            "/content/gdrive/MyDrive/george_ds/no_george/1254.jpg removed\n",
            "/content/gdrive/MyDrive/george_ds/no_george/1269.jpg removed\n",
            "/content/gdrive/MyDrive/george_ds/no_george/1102.jpg removed\n",
            "/content/gdrive/MyDrive/george_ds/no_george/1093.jpg removed\n",
            "/content/gdrive/MyDrive/george_ds/no_george/1098.jpg removed\n",
            "/content/gdrive/MyDrive/george_ds/no_george/1094.jpg removed\n",
            "/content/gdrive/MyDrive/george_ds/no_george/1097.jpg removed\n"
          ]
        },
        {
          "output_type": "stream",
          "name": "stderr",
          "text": [
            " 81%|████████  | 5453/6721 [02:38<00:33, 37.45it/s]"
          ]
        },
        {
          "output_type": "stream",
          "name": "stdout",
          "text": [
            "/content/gdrive/MyDrive/george_ds/no_george/1096.jpg removed\n",
            "/content/gdrive/MyDrive/george_ds/no_george/1095.jpg removed\n",
            "/content/gdrive/MyDrive/george_ds/no_george/1091.jpg removed\n",
            "/content/gdrive/MyDrive/george_ds/no_george/1090.jpg removed\n",
            "/content/gdrive/MyDrive/george_ds/no_george/1127.jpg removed\n",
            "/content/gdrive/MyDrive/george_ds/no_george/1126.jpg removed\n",
            "/content/gdrive/MyDrive/george_ds/no_george/1130.jpg removed\n"
          ]
        },
        {
          "output_type": "stream",
          "name": "stderr",
          "text": [
            "\r 81%|████████  | 5459/6721 [02:38<00:30, 41.16it/s]"
          ]
        },
        {
          "output_type": "stream",
          "name": "stdout",
          "text": [
            "/content/gdrive/MyDrive/george_ds/no_george/1128.jpg removed\n",
            "/content/gdrive/MyDrive/george_ds/no_george/1129.jpg removed\n",
            "/content/gdrive/MyDrive/george_ds/no_george/1123.jpg removed\n",
            "/content/gdrive/MyDrive/george_ds/no_george/1122.jpg removed\n",
            "/content/gdrive/MyDrive/george_ds/no_george/1120.jpg removed\n",
            "/content/gdrive/MyDrive/george_ds/no_george/1111.jpg removed\n",
            "/content/gdrive/MyDrive/george_ds/no_george/1114.jpg removed\n",
            "/content/gdrive/MyDrive/george_ds/no_george/1118.jpg removed\n",
            "/content/gdrive/MyDrive/george_ds/no_george/1116.jpg removed\n"
          ]
        },
        {
          "output_type": "stream",
          "name": "stderr",
          "text": [
            " 81%|████████▏ | 5469/6721 [02:38<00:30, 41.34it/s]"
          ]
        },
        {
          "output_type": "stream",
          "name": "stdout",
          "text": [
            "/content/gdrive/MyDrive/george_ds/no_george/1117.jpg removed\n",
            "/content/gdrive/MyDrive/george_ds/no_george/1112.jpg removed\n",
            "/content/gdrive/MyDrive/george_ds/no_george/1108.jpg removed\n",
            "/content/gdrive/MyDrive/george_ds/no_george/1194.jpg removed\n",
            "/content/gdrive/MyDrive/george_ds/no_george/1224.jpg removed\n",
            "/content/gdrive/MyDrive/george_ds/no_george/1209.jpg removed\n",
            "/content/gdrive/MyDrive/george_ds/no_george/1086.jpg removed\n",
            "/content/gdrive/MyDrive/george_ds/no_george/1080.jpg removed\n",
            "/content/gdrive/MyDrive/george_ds/no_george/1087.jpg removed\n"
          ]
        },
        {
          "output_type": "stream",
          "name": "stderr",
          "text": [
            " 82%|████████▏ | 5479/6721 [02:39<00:31, 39.93it/s]"
          ]
        },
        {
          "output_type": "stream",
          "name": "stdout",
          "text": [
            "/content/gdrive/MyDrive/george_ds/no_george/2923.jpg removed\n",
            "/content/gdrive/MyDrive/george_ds/no_george/2915.jpg removed\n",
            "/content/gdrive/MyDrive/george_ds/no_george/2922.jpg removed\n",
            "/content/gdrive/MyDrive/george_ds/no_george/2918.jpg removed\n",
            "/content/gdrive/MyDrive/george_ds/no_george/2911.jpg removed\n",
            "/content/gdrive/MyDrive/george_ds/no_george/3099.jpg removed\n",
            "/content/gdrive/MyDrive/george_ds/no_george/3101.jpg removed\n",
            "/content/gdrive/MyDrive/george_ds/no_george/3094.jpg removed\n",
            "/content/gdrive/MyDrive/george_ds/no_george/3095.jpg removed\n"
          ]
        },
        {
          "output_type": "stream",
          "name": "stderr",
          "text": [
            " 82%|████████▏ | 5489/6721 [02:39<00:30, 39.75it/s]"
          ]
        },
        {
          "output_type": "stream",
          "name": "stdout",
          "text": [
            "/content/gdrive/MyDrive/george_ds/no_george/3092.jpg removed\n",
            "/content/gdrive/MyDrive/george_ds/no_george/3091.jpg removed\n",
            "/content/gdrive/MyDrive/george_ds/no_george/3090.jpg removed\n",
            "/content/gdrive/MyDrive/george_ds/no_george/3063.jpg removed\n",
            "/content/gdrive/MyDrive/george_ds/no_george/3070.jpg removed\n",
            "/content/gdrive/MyDrive/george_ds/no_george/3065.jpg removed\n",
            "/content/gdrive/MyDrive/george_ds/no_george/3069.jpg removed\n",
            "/content/gdrive/MyDrive/george_ds/no_george/3067.jpg removed\n",
            "/content/gdrive/MyDrive/george_ds/no_george/3068.jpg removed\n"
          ]
        },
        {
          "output_type": "stream",
          "name": "stderr",
          "text": [
            "\r 82%|████████▏ | 5494/6721 [02:39<00:34, 35.63it/s]"
          ]
        },
        {
          "output_type": "stream",
          "name": "stdout",
          "text": [
            "/content/gdrive/MyDrive/george_ds/no_george/3066.jpg removed\n",
            "/content/gdrive/MyDrive/george_ds/no_george/3061.jpg removed\n",
            "/content/gdrive/MyDrive/george_ds/no_george/3081.jpg removed\n",
            "/content/gdrive/MyDrive/george_ds/no_george/3077.jpg removed\n",
            "/content/gdrive/MyDrive/george_ds/no_george/3078.jpg removed\n",
            "/content/gdrive/MyDrive/george_ds/no_george/3083.jpg removed\n",
            "/content/gdrive/MyDrive/george_ds/no_george/3084.jpg removed\n"
          ]
        },
        {
          "output_type": "stream",
          "name": "stderr",
          "text": [
            " 82%|████████▏ | 5506/6721 [02:39<00:26, 45.34it/s]"
          ]
        },
        {
          "output_type": "stream",
          "name": "stdout",
          "text": [
            "/content/gdrive/MyDrive/george_ds/no_george/3085.jpg removed\n",
            "/content/gdrive/MyDrive/george_ds/no_george/3088.jpg removed\n",
            "/content/gdrive/MyDrive/george_ds/no_george/2902.jpg removed\n",
            "/content/gdrive/MyDrive/george_ds/no_george/2898.jpg removed\n",
            "/content/gdrive/MyDrive/george_ds/no_george/2901.jpg removed\n",
            "/content/gdrive/MyDrive/george_ds/no_george/2895.jpg removed\n",
            "/content/gdrive/MyDrive/george_ds/no_george/2904.jpg removed\n",
            "/content/gdrive/MyDrive/george_ds/no_george/2900.jpg removed\n",
            "/content/gdrive/MyDrive/george_ds/no_george/2905.jpg removed\n",
            "/content/gdrive/MyDrive/george_ds/no_george/2873.jpg removed\n",
            "/content/gdrive/MyDrive/george_ds/no_george/2869.jpg removed\n",
            "/content/gdrive/MyDrive/george_ds/no_george/2876.jpg removed\n"
          ]
        },
        {
          "output_type": "stream",
          "name": "stderr",
          "text": [
            " 82%|████████▏ | 5516/6721 [02:40<00:27, 44.13it/s]"
          ]
        },
        {
          "output_type": "stream",
          "name": "stdout",
          "text": [
            "/content/gdrive/MyDrive/george_ds/no_george/3053.jpg removed\n",
            "/content/gdrive/MyDrive/george_ds/no_george/3047.jpg removed\n",
            "/content/gdrive/MyDrive/george_ds/no_george/3058.jpg removed\n",
            "/content/gdrive/MyDrive/george_ds/no_george/3054.jpg removed\n",
            "/content/gdrive/MyDrive/george_ds/no_george/3055.jpg removed\n",
            "/content/gdrive/MyDrive/george_ds/no_george/3050.jpg removed\n",
            "/content/gdrive/MyDrive/george_ds/no_george/3046.jpg removed\n",
            "/content/gdrive/MyDrive/george_ds/no_george/3045.jpg removed\n",
            "/content/gdrive/MyDrive/george_ds/no_george/2870.jpg removed\n"
          ]
        },
        {
          "output_type": "stream",
          "name": "stderr",
          "text": [
            "\r 82%|████████▏ | 5521/6721 [02:40<00:30, 39.33it/s]"
          ]
        },
        {
          "output_type": "stream",
          "name": "stdout",
          "text": [
            "/content/gdrive/MyDrive/george_ds/no_george/2877.jpg removed\n",
            "/content/gdrive/MyDrive/george_ds/no_george/2866.jpg removed\n",
            "/content/gdrive/MyDrive/george_ds/no_george/2875.jpg removed\n",
            "/content/gdrive/MyDrive/george_ds/no_george/3179.jpg removed\n",
            "/content/gdrive/MyDrive/george_ds/no_george/2936.jpg removed\n",
            "/content/gdrive/MyDrive/george_ds/no_george/2926.jpg removed\n",
            "/content/gdrive/MyDrive/george_ds/no_george/2934.jpg removed\n"
          ]
        },
        {
          "output_type": "stream",
          "name": "stderr",
          "text": [
            " 82%|████████▏ | 5530/6721 [02:40<00:31, 37.39it/s]"
          ]
        },
        {
          "output_type": "stream",
          "name": "stdout",
          "text": [
            "/content/gdrive/MyDrive/george_ds/no_george/2925.jpg removed\n",
            "/content/gdrive/MyDrive/george_ds/no_george/2928.jpg removed\n",
            "/content/gdrive/MyDrive/george_ds/no_george/2935.jpg removed\n",
            "/content/gdrive/MyDrive/george_ds/no_george/2927.jpg removed\n",
            "/content/gdrive/MyDrive/george_ds/no_george/2937.jpg removed\n",
            "/content/gdrive/MyDrive/george_ds/no_george/2931.jpg removed\n",
            "/content/gdrive/MyDrive/george_ds/no_george/2942.jpg removed\n",
            "/content/gdrive/MyDrive/george_ds/no_george/2953.jpg removed\n"
          ]
        },
        {
          "output_type": "stream",
          "name": "stderr",
          "text": [
            " 82%|████████▏ | 5541/6721 [02:40<00:28, 41.10it/s]"
          ]
        },
        {
          "output_type": "stream",
          "name": "stdout",
          "text": [
            "/content/gdrive/MyDrive/george_ds/no_george/2949.jpg removed\n",
            "/content/gdrive/MyDrive/george_ds/no_george/2944.jpg removed\n",
            "/content/gdrive/MyDrive/george_ds/no_george/2943.jpg removed\n",
            "/content/gdrive/MyDrive/george_ds/no_george/2947.jpg removed\n",
            "/content/gdrive/MyDrive/george_ds/no_george/2913.jpg removed\n",
            "/content/gdrive/MyDrive/george_ds/no_george/2910.jpg removed\n",
            "/content/gdrive/MyDrive/george_ds/no_george/2916.jpg removed\n",
            "/content/gdrive/MyDrive/george_ds/no_george/3041.jpg removed\n",
            "/content/gdrive/MyDrive/george_ds/no_george/3043.jpg removed\n"
          ]
        },
        {
          "output_type": "stream",
          "name": "stderr",
          "text": [
            "\r 83%|████████▎ | 5546/6721 [02:40<00:28, 41.46it/s]"
          ]
        },
        {
          "output_type": "stream",
          "name": "stdout",
          "text": [
            "/content/gdrive/MyDrive/george_ds/no_george/3039.jpg removed\n",
            "/content/gdrive/MyDrive/george_ds/no_george/3034.jpg removed\n",
            "/content/gdrive/MyDrive/george_ds/no_george/3033.jpg removed\n",
            "/content/gdrive/MyDrive/george_ds/no_george/3032.jpg removed\n",
            "/content/gdrive/MyDrive/george_ds/no_george/3036.jpg removed\n",
            "/content/gdrive/MyDrive/george_ds/no_george/3040.jpg removed\n",
            "/content/gdrive/MyDrive/george_ds/no_george/3035.jpg removed\n",
            "/content/gdrive/MyDrive/george_ds/no_george/3038.jpg removed\n"
          ]
        },
        {
          "output_type": "stream",
          "name": "stderr",
          "text": [
            " 83%|████████▎ | 5555/6721 [02:41<00:34, 34.09it/s]"
          ]
        },
        {
          "output_type": "stream",
          "name": "stdout",
          "text": [
            "/content/gdrive/MyDrive/george_ds/no_george/3031.jpg removed\n",
            "/content/gdrive/MyDrive/george_ds/no_george/3030.jpg removed\n",
            "/content/gdrive/MyDrive/george_ds/no_george/3004.jpg removed\n",
            "/content/gdrive/MyDrive/george_ds/no_george/3009.jpg removed\n",
            "/content/gdrive/MyDrive/george_ds/no_george/3012.jpg removed\n",
            "/content/gdrive/MyDrive/george_ds/no_george/3011.jpg removed\n",
            "/content/gdrive/MyDrive/george_ds/no_george/3003.jpg removed\n"
          ]
        },
        {
          "output_type": "stream",
          "name": "stderr",
          "text": [
            "\r 83%|████████▎ | 5561/6721 [02:41<00:31, 37.39it/s]"
          ]
        },
        {
          "output_type": "stream",
          "name": "stdout",
          "text": [
            "/content/gdrive/MyDrive/george_ds/no_george/3005.jpg removed\n",
            "/content/gdrive/MyDrive/george_ds/no_george/3006.jpg removed\n",
            "/content/gdrive/MyDrive/george_ds/no_george/3010.jpg removed\n",
            "/content/gdrive/MyDrive/george_ds/no_george/3008.jpg removed\n",
            "/content/gdrive/MyDrive/george_ds/no_george/3007.jpg removed\n",
            "/content/gdrive/MyDrive/george_ds/no_george/3013.jpg removed\n",
            "/content/gdrive/MyDrive/george_ds/no_george/3002.jpg removed\n",
            "/content/gdrive/MyDrive/george_ds/no_george/3001.jpg removed\n",
            "/content/gdrive/MyDrive/george_ds/no_george/3000.jpg removed\n"
          ]
        },
        {
          "output_type": "stream",
          "name": "stderr",
          "text": [
            " 83%|████████▎ | 5570/6721 [02:41<00:32, 35.84it/s]"
          ]
        },
        {
          "output_type": "stream",
          "name": "stdout",
          "text": [
            "/content/gdrive/MyDrive/george_ds/no_george/3134.jpg removed\n",
            "/content/gdrive/MyDrive/george_ds/no_george/3119.jpg removed\n",
            "/content/gdrive/MyDrive/george_ds/no_george/3149.jpg removed\n",
            "/content/gdrive/MyDrive/george_ds/no_george/3022.jpg removed\n",
            "/content/gdrive/MyDrive/george_ds/no_george/3028.jpg removed\n",
            "/content/gdrive/MyDrive/george_ds/no_george/3020.jpg removed\n",
            "/content/gdrive/MyDrive/george_ds/no_george/3023.jpg removed\n"
          ]
        },
        {
          "output_type": "stream",
          "name": "stderr",
          "text": [
            " 83%|████████▎ | 5578/6721 [02:41<00:30, 36.94it/s]"
          ]
        },
        {
          "output_type": "stream",
          "name": "stdout",
          "text": [
            "/content/gdrive/MyDrive/george_ds/no_george/3016.jpg removed\n",
            "/content/gdrive/MyDrive/george_ds/no_george/3018.jpg removed\n",
            "/content/gdrive/MyDrive/george_ds/no_george/3017.jpg removed\n",
            "/content/gdrive/MyDrive/george_ds/no_george/3025.jpg removed\n",
            "/content/gdrive/MyDrive/george_ds/no_george/3021.jpg removed\n",
            "/content/gdrive/MyDrive/george_ds/no_george/3027.jpg removed\n",
            "/content/gdrive/MyDrive/george_ds/no_george/3024.jpg removed\n",
            "/content/gdrive/MyDrive/george_ds/no_george/3026.jpg removed\n"
          ]
        },
        {
          "output_type": "stream",
          "name": "stderr",
          "text": [
            " 83%|████████▎ | 5588/6721 [02:41<00:28, 39.58it/s]"
          ]
        },
        {
          "output_type": "stream",
          "name": "stdout",
          "text": [
            "/content/gdrive/MyDrive/george_ds/no_george/3019.jpg removed\n",
            "/content/gdrive/MyDrive/george_ds/no_george/3015.jpg removed\n",
            "/content/gdrive/MyDrive/george_ds/no_george/2861.jpg removed\n",
            "/content/gdrive/MyDrive/george_ds/no_george/2859.jpg removed\n",
            "/content/gdrive/MyDrive/george_ds/no_george/2854.jpg removed\n",
            "/content/gdrive/MyDrive/george_ds/no_george/2852.jpg removed\n",
            "/content/gdrive/MyDrive/george_ds/no_george/2860.jpg removed\n",
            "/content/gdrive/MyDrive/george_ds/no_george/2850.jpg removed\n"
          ]
        },
        {
          "output_type": "stream",
          "name": "stderr",
          "text": [
            "\r 83%|████████▎ | 5593/6721 [02:42<00:29, 38.60it/s]"
          ]
        },
        {
          "output_type": "stream",
          "name": "stdout",
          "text": [
            "/content/gdrive/MyDrive/george_ds/no_george/2957.jpg removed\n",
            "/content/gdrive/MyDrive/george_ds/no_george/2960.jpg removed\n",
            "/content/gdrive/MyDrive/george_ds/no_george/2968.jpg removed\n",
            "/content/gdrive/MyDrive/george_ds/no_george/2963.jpg removed\n",
            "/content/gdrive/MyDrive/george_ds/no_george/2962.jpg removed\n",
            "/content/gdrive/MyDrive/george_ds/no_george/2961.jpg removed\n",
            "/content/gdrive/MyDrive/george_ds/no_george/2959.jpg removed\n",
            "/content/gdrive/MyDrive/george_ds/no_george/2967.jpg removed\n",
            "/content/gdrive/MyDrive/george_ds/no_george/2958.jpg removed\n",
            "/content/gdrive/MyDrive/george_ds/no_george/2966.jpg removed\n"
          ]
        },
        {
          "output_type": "stream",
          "name": "stderr",
          "text": [
            " 83%|████████▎ | 5606/6721 [02:42<00:24, 44.68it/s]"
          ]
        },
        {
          "output_type": "stream",
          "name": "stdout",
          "text": [
            "/content/gdrive/MyDrive/george_ds/no_george/2965.jpg removed\n",
            "/content/gdrive/MyDrive/george_ds/no_george/2964.jpg removed\n",
            "/content/gdrive/MyDrive/george_ds/no_george/2956.jpg removed\n",
            "/content/gdrive/MyDrive/george_ds/no_george/2955.jpg removed\n",
            "/content/gdrive/MyDrive/george_ds/no_george/3074.jpg removed\n",
            "/content/gdrive/MyDrive/george_ds/no_george/3089.jpg removed\n",
            "/content/gdrive/MyDrive/george_ds/no_george/3059.jpg removed\n",
            "/content/gdrive/MyDrive/george_ds/no_george/3104.jpg removed\n",
            "/content/gdrive/MyDrive/george_ds/no_george/2983.jpg removed\n",
            "/content/gdrive/MyDrive/george_ds/no_george/2975.jpg removed\n"
          ]
        },
        {
          "output_type": "stream",
          "name": "stderr",
          "text": [
            "\r 83%|████████▎ | 5611/6721 [02:42<00:26, 42.14it/s]"
          ]
        },
        {
          "output_type": "stream",
          "name": "stdout",
          "text": [
            "/content/gdrive/MyDrive/george_ds/no_george/2971.jpg removed\n",
            "/content/gdrive/MyDrive/george_ds/no_george/2982.jpg removed\n",
            "/content/gdrive/MyDrive/george_ds/no_george/2979.jpg removed\n",
            "/content/gdrive/MyDrive/george_ds/no_george/2976.jpg removed\n",
            "/content/gdrive/MyDrive/george_ds/no_george/2981.jpg removed\n",
            "/content/gdrive/MyDrive/george_ds/no_george/2973.jpg removed\n"
          ]
        },
        {
          "output_type": "stream",
          "name": "stderr",
          "text": [
            " 84%|████████▎ | 5621/6721 [02:42<00:28, 38.99it/s]"
          ]
        },
        {
          "output_type": "stream",
          "name": "stdout",
          "text": [
            "/content/gdrive/MyDrive/george_ds/no_george/2974.jpg removed\n",
            "/content/gdrive/MyDrive/george_ds/no_george/2972.jpg removed\n",
            "/content/gdrive/MyDrive/george_ds/no_george/2980.jpg removed\n",
            "/content/gdrive/MyDrive/george_ds/no_george/2978.jpg removed\n",
            "/content/gdrive/MyDrive/george_ds/no_george/2977.jpg removed\n",
            "/content/gdrive/MyDrive/george_ds/no_george/2970.jpg removed\n",
            "/content/gdrive/MyDrive/george_ds/no_george/2998.jpg removed\n",
            "/content/gdrive/MyDrive/george_ds/no_george/2996.jpg removed\n",
            "/content/gdrive/MyDrive/george_ds/no_george/2987.jpg removed\n"
          ]
        },
        {
          "output_type": "stream",
          "name": "stderr",
          "text": [
            " 84%|████████▍ | 5631/6721 [02:43<00:26, 40.55it/s]"
          ]
        },
        {
          "output_type": "stream",
          "name": "stdout",
          "text": [
            "/content/gdrive/MyDrive/george_ds/no_george/2993.jpg removed\n",
            "/content/gdrive/MyDrive/george_ds/no_george/2995.jpg removed\n",
            "/content/gdrive/MyDrive/george_ds/no_george/2990.jpg removed\n",
            "/content/gdrive/MyDrive/george_ds/no_george/2991.jpg removed\n",
            "/content/gdrive/MyDrive/george_ds/no_george/2989.jpg removed\n",
            "/content/gdrive/MyDrive/george_ds/no_george/2997.jpg removed\n",
            "/content/gdrive/MyDrive/george_ds/no_george/2988.jpg removed\n",
            "/content/gdrive/MyDrive/george_ds/no_george/2994.jpg removed\n",
            "/content/gdrive/MyDrive/george_ds/no_george/2992.jpg removed\n"
          ]
        },
        {
          "output_type": "stream",
          "name": "stderr",
          "text": [
            "\r 84%|████████▍ | 5636/6721 [02:43<00:27, 39.30it/s]"
          ]
        },
        {
          "output_type": "stream",
          "name": "stdout",
          "text": [
            "/content/gdrive/MyDrive/george_ds/no_george/2986.jpg removed\n",
            "/content/gdrive/MyDrive/george_ds/no_george/2985.jpg removed\n",
            "/content/gdrive/MyDrive/george_ds/no_george/2921.jpg removed\n",
            "/content/gdrive/MyDrive/george_ds/no_george/2917.jpg removed\n",
            "/content/gdrive/MyDrive/george_ds/no_george/2919.jpg removed\n",
            "/content/gdrive/MyDrive/george_ds/no_george/2912.jpg removed\n",
            "/content/gdrive/MyDrive/george_ds/no_george/2914.jpg removed\n"
          ]
        },
        {
          "output_type": "stream",
          "name": "stderr",
          "text": [
            " 84%|████████▍ | 5646/6721 [02:43<00:26, 40.59it/s]"
          ]
        },
        {
          "output_type": "stream",
          "name": "stdout",
          "text": [
            "/content/gdrive/MyDrive/george_ds/no_george/2920.jpg removed\n",
            "/content/gdrive/MyDrive/george_ds/no_george/2948.jpg removed\n",
            "/content/gdrive/MyDrive/george_ds/no_george/2952.jpg removed\n",
            "/content/gdrive/MyDrive/george_ds/no_george/2951.jpg removed\n",
            "/content/gdrive/MyDrive/george_ds/no_george/2945.jpg removed\n",
            "/content/gdrive/MyDrive/george_ds/no_george/2950.jpg removed\n",
            "/content/gdrive/MyDrive/george_ds/no_george/2946.jpg removed\n",
            "/content/gdrive/MyDrive/george_ds/no_george/2941.jpg removed\n",
            "/content/gdrive/MyDrive/george_ds/no_george/2940.jpg removed\n",
            "/content/gdrive/MyDrive/george_ds/no_george/2693.jpg removed\n"
          ]
        },
        {
          "output_type": "stream",
          "name": "stderr",
          "text": [
            "\r 84%|████████▍ | 5651/6721 [02:43<00:29, 36.86it/s]"
          ]
        },
        {
          "output_type": "stream",
          "name": "stdout",
          "text": [
            "/content/gdrive/MyDrive/george_ds/no_george/3014.jpg removed\n",
            "/content/gdrive/MyDrive/george_ds/no_george/2878.jpg removed\n",
            "/content/gdrive/MyDrive/george_ds/no_george/2874.jpg removed\n",
            "/content/gdrive/MyDrive/george_ds/no_george/2868.jpg removed\n",
            "/content/gdrive/MyDrive/george_ds/no_george/2871.jpg removed\n"
          ]
        },
        {
          "output_type": "stream",
          "name": "stderr",
          "text": [
            " 84%|████████▍ | 5659/6721 [02:43<00:34, 31.01it/s]"
          ]
        },
        {
          "output_type": "stream",
          "name": "stdout",
          "text": [
            "/content/gdrive/MyDrive/george_ds/no_george/2872.jpg removed\n",
            "/content/gdrive/MyDrive/george_ds/no_george/2867.jpg removed\n",
            "/content/gdrive/MyDrive/george_ds/no_george/2865.jpg removed\n",
            "/content/gdrive/MyDrive/george_ds/no_george/2685.jpg removed\n",
            "/content/gdrive/MyDrive/george_ds/no_george/2692.jpg removed\n",
            "/content/gdrive/MyDrive/george_ds/no_george/3029.jpg removed\n",
            "/content/gdrive/MyDrive/george_ds/no_george/2674.jpg removed\n"
          ]
        },
        {
          "output_type": "stream",
          "name": "stderr",
          "text": [
            "\r 84%|████████▍ | 5664/6721 [02:44<00:32, 32.31it/s]"
          ]
        },
        {
          "output_type": "stream",
          "name": "stdout",
          "text": [
            "/content/gdrive/MyDrive/george_ds/no_george/2681.jpg removed\n",
            "/content/gdrive/MyDrive/george_ds/no_george/2682.jpg removed\n",
            "/content/gdrive/MyDrive/george_ds/no_george/2680.jpg removed\n",
            "/content/gdrive/MyDrive/george_ds/no_george/2678.jpg removed\n",
            "/content/gdrive/MyDrive/george_ds/no_george/2676.jpg removed\n",
            "/content/gdrive/MyDrive/george_ds/no_george/2683.jpg removed\n"
          ]
        },
        {
          "output_type": "stream",
          "name": "stderr",
          "text": [
            " 84%|████████▍ | 5672/6721 [02:44<00:34, 30.22it/s]"
          ]
        },
        {
          "output_type": "stream",
          "name": "stdout",
          "text": [
            "/content/gdrive/MyDrive/george_ds/no_george/2671.jpg removed\n",
            "/content/gdrive/MyDrive/george_ds/no_george/2703.jpg removed\n",
            "/content/gdrive/MyDrive/george_ds/no_george/2713.jpg removed\n",
            "/content/gdrive/MyDrive/george_ds/no_george/2706.jpg removed\n",
            "/content/gdrive/MyDrive/george_ds/no_george/3044.jpg removed\n",
            "/content/gdrive/MyDrive/george_ds/no_george/2707.jpg removed\n",
            "/content/gdrive/MyDrive/george_ds/no_george/2708.jpg removed\n"
          ]
        },
        {
          "output_type": "stream",
          "name": "stderr",
          "text": [
            " 85%|████████▍ | 5680/6721 [02:44<00:34, 30.03it/s]"
          ]
        },
        {
          "output_type": "stream",
          "name": "stdout",
          "text": [
            "/content/gdrive/MyDrive/george_ds/no_george/2712.jpg removed\n",
            "/content/gdrive/MyDrive/george_ds/no_george/2700.jpg removed\n",
            "/content/gdrive/MyDrive/george_ds/no_george/2710.jpg removed\n",
            "/content/gdrive/MyDrive/george_ds/no_george/2711.jpg removed\n",
            "/content/gdrive/MyDrive/george_ds/no_george/2705.jpg removed\n",
            "/content/gdrive/MyDrive/george_ds/no_george/2709.jpg removed\n",
            "/content/gdrive/MyDrive/george_ds/no_george/2704.jpg removed\n"
          ]
        },
        {
          "output_type": "stream",
          "name": "stderr",
          "text": [
            " 85%|████████▍ | 5688/6721 [02:44<00:31, 32.55it/s]"
          ]
        },
        {
          "output_type": "stream",
          "name": "stdout",
          "text": [
            "/content/gdrive/MyDrive/george_ds/no_george/2938.jpg removed\n",
            "/content/gdrive/MyDrive/george_ds/no_george/2933.jpg removed\n",
            "/content/gdrive/MyDrive/george_ds/no_george/2932.jpg removed\n",
            "/content/gdrive/MyDrive/george_ds/no_george/2929.jpg removed\n",
            "/content/gdrive/MyDrive/george_ds/no_george/2930.jpg removed\n",
            "/content/gdrive/MyDrive/george_ds/no_george/2907.jpg removed\n",
            "/content/gdrive/MyDrive/george_ds/no_george/2906.jpg removed\n",
            "/content/gdrive/MyDrive/george_ds/no_george/2903.jpg removed\n"
          ]
        },
        {
          "output_type": "stream",
          "name": "stderr",
          "text": [
            " 85%|████████▍ | 5696/6721 [02:45<00:33, 30.53it/s]"
          ]
        },
        {
          "output_type": "stream",
          "name": "stdout",
          "text": [
            "/content/gdrive/MyDrive/george_ds/no_george/2899.jpg removed\n",
            "/content/gdrive/MyDrive/george_ds/no_george/2908.jpg removed\n",
            "/content/gdrive/MyDrive/george_ds/no_george/2897.jpg removed\n",
            "/content/gdrive/MyDrive/george_ds/no_george/2896.jpg removed\n",
            "/content/gdrive/MyDrive/george_ds/no_george/2862.jpg removed\n",
            "/content/gdrive/MyDrive/george_ds/no_george/2857.jpg removed\n",
            "/content/gdrive/MyDrive/george_ds/no_george/2863.jpg removed\n"
          ]
        },
        {
          "output_type": "stream",
          "name": "stderr",
          "text": [
            "\r 85%|████████▍ | 5700/6721 [02:45<00:31, 32.12it/s]"
          ]
        },
        {
          "output_type": "stream",
          "name": "stdout",
          "text": [
            "/content/gdrive/MyDrive/george_ds/no_george/2858.jpg removed\n",
            "/content/gdrive/MyDrive/george_ds/no_george/2853.jpg removed\n",
            "/content/gdrive/MyDrive/george_ds/no_george/2855.jpg removed\n",
            "/content/gdrive/MyDrive/george_ds/no_george/2856.jpg removed\n",
            "/content/gdrive/MyDrive/george_ds/no_george/2851.jpg removed\n",
            "/content/gdrive/MyDrive/george_ds/no_george/2655.jpg removed\n",
            "/content/gdrive/MyDrive/george_ds/no_george/2662.jpg removed\n"
          ]
        },
        {
          "output_type": "stream",
          "name": "stderr",
          "text": [
            " 85%|████████▍ | 5708/6721 [02:45<00:34, 29.01it/s]"
          ]
        },
        {
          "output_type": "stream",
          "name": "stdout",
          "text": [
            "/content/gdrive/MyDrive/george_ds/no_george/2665.jpg removed\n",
            "/content/gdrive/MyDrive/george_ds/no_george/2666.jpg removed\n",
            "/content/gdrive/MyDrive/george_ds/no_george/2660.jpg removed\n",
            "/content/gdrive/MyDrive/george_ds/no_george/2760.jpg removed\n",
            "/content/gdrive/MyDrive/george_ds/no_george/2969.jpg removed\n",
            "/content/gdrive/MyDrive/george_ds/no_george/2984.jpg removed\n"
          ]
        },
        {
          "output_type": "stream",
          "name": "stderr",
          "text": [
            " 85%|████████▌ | 5714/6721 [02:45<00:35, 28.62it/s]"
          ]
        },
        {
          "output_type": "stream",
          "name": "stdout",
          "text": [
            "/content/gdrive/MyDrive/george_ds/no_george/2999.jpg removed\n",
            "/content/gdrive/MyDrive/george_ds/no_george/2893.jpg removed\n",
            "/content/gdrive/MyDrive/george_ds/no_george/2892.jpg removed\n",
            "/content/gdrive/MyDrive/george_ds/no_george/2883.jpg removed\n",
            "/content/gdrive/MyDrive/george_ds/no_george/2890.jpg removed\n"
          ]
        },
        {
          "output_type": "stream",
          "name": "stderr",
          "text": [
            " 85%|████████▌ | 5722/6721 [02:45<00:31, 31.27it/s]"
          ]
        },
        {
          "output_type": "stream",
          "name": "stdout",
          "text": [
            "/content/gdrive/MyDrive/george_ds/no_george/2891.jpg removed\n",
            "/content/gdrive/MyDrive/george_ds/no_george/2888.jpg removed\n",
            "/content/gdrive/MyDrive/george_ds/no_george/2889.jpg removed\n",
            "/content/gdrive/MyDrive/george_ds/no_george/2887.jpg removed\n",
            "/content/gdrive/MyDrive/george_ds/no_george/2885.jpg removed\n",
            "/content/gdrive/MyDrive/george_ds/no_george/2882.jpg removed\n",
            "/content/gdrive/MyDrive/george_ds/no_george/2884.jpg removed\n",
            "/content/gdrive/MyDrive/george_ds/no_george/2886.jpg removed\n"
          ]
        },
        {
          "output_type": "stream",
          "name": "stderr",
          "text": [
            "\r 85%|████████▌ | 5726/6721 [02:46<00:32, 30.81it/s]"
          ]
        },
        {
          "output_type": "stream",
          "name": "stdout",
          "text": [
            "/content/gdrive/MyDrive/george_ds/no_george/2881.jpg removed\n",
            "/content/gdrive/MyDrive/george_ds/no_george/2880.jpg removed\n",
            "/content/gdrive/MyDrive/george_ds/no_george/2832.jpg removed\n",
            "/content/gdrive/MyDrive/george_ds/no_george/2830.jpg removed\n",
            "/content/gdrive/MyDrive/george_ds/no_george/2827.jpg removed\n",
            "/content/gdrive/MyDrive/george_ds/no_george/2831.jpg removed\n",
            "/content/gdrive/MyDrive/george_ds/no_george/2821.jpg removed\n"
          ]
        },
        {
          "output_type": "stream",
          "name": "stderr",
          "text": [
            " 85%|████████▌ | 5734/6721 [02:46<00:30, 32.59it/s]"
          ]
        },
        {
          "output_type": "stream",
          "name": "stdout",
          "text": [
            "/content/gdrive/MyDrive/george_ds/no_george/2822.jpg removed\n",
            "/content/gdrive/MyDrive/george_ds/no_george/2824.jpg removed\n",
            "/content/gdrive/MyDrive/george_ds/no_george/2833.jpg removed\n",
            "/content/gdrive/MyDrive/george_ds/no_george/2829.jpg removed\n",
            "/content/gdrive/MyDrive/george_ds/no_george/2826.jpg removed\n",
            "/content/gdrive/MyDrive/george_ds/no_george/2823.jpg removed\n",
            "/content/gdrive/MyDrive/george_ds/no_george/2825.jpg removed\n"
          ]
        },
        {
          "output_type": "stream",
          "name": "stderr",
          "text": [
            " 85%|████████▌ | 5743/6721 [02:46<00:28, 34.73it/s]"
          ]
        },
        {
          "output_type": "stream",
          "name": "stdout",
          "text": [
            "/content/gdrive/MyDrive/george_ds/no_george/2828.jpg removed\n",
            "/content/gdrive/MyDrive/george_ds/no_george/2820.jpg removed\n",
            "/content/gdrive/MyDrive/george_ds/no_george/2809.jpg removed\n",
            "/content/gdrive/MyDrive/george_ds/no_george/2813.jpg removed\n",
            "/content/gdrive/MyDrive/george_ds/no_george/2815.jpg removed\n",
            "/content/gdrive/MyDrive/george_ds/no_george/2811.jpg removed\n",
            "/content/gdrive/MyDrive/george_ds/no_george/2812.jpg removed\n",
            "/content/gdrive/MyDrive/george_ds/no_george/2810.jpg removed\n",
            "/content/gdrive/MyDrive/george_ds/no_george/2814.jpg removed\n"
          ]
        },
        {
          "output_type": "stream",
          "name": "stderr",
          "text": [
            " 86%|████████▌ | 5752/6721 [02:46<00:27, 35.81it/s]"
          ]
        },
        {
          "output_type": "stream",
          "name": "stdout",
          "text": [
            "/content/gdrive/MyDrive/george_ds/no_george/2816.jpg removed\n",
            "/content/gdrive/MyDrive/george_ds/no_george/2818.jpg removed\n",
            "/content/gdrive/MyDrive/george_ds/no_george/2808.jpg removed\n",
            "/content/gdrive/MyDrive/george_ds/no_george/2817.jpg removed\n",
            "/content/gdrive/MyDrive/george_ds/no_george/2807.jpg removed\n",
            "/content/gdrive/MyDrive/george_ds/no_george/2806.jpg removed\n",
            "/content/gdrive/MyDrive/george_ds/no_george/2805.jpg removed\n"
          ]
        },
        {
          "output_type": "stream",
          "name": "stderr",
          "text": [
            " 86%|████████▌ | 5760/6721 [02:47<00:28, 34.02it/s]"
          ]
        },
        {
          "output_type": "stream",
          "name": "stdout",
          "text": [
            "/content/gdrive/MyDrive/george_ds/no_george/2257.jpg removed\n",
            "/content/gdrive/MyDrive/george_ds/no_george/2256.jpg removed\n",
            "/content/gdrive/MyDrive/george_ds/no_george/2250.jpg removed\n",
            "/content/gdrive/MyDrive/george_ds/no_george/2260.jpg removed\n",
            "/content/gdrive/MyDrive/george_ds/no_george/2251.jpg removed\n",
            "/content/gdrive/MyDrive/george_ds/no_george/2252.jpg removed\n",
            "/content/gdrive/MyDrive/george_ds/no_george/2924.jpg removed\n",
            "/content/gdrive/MyDrive/george_ds/no_george/2939.jpg removed\n"
          ]
        },
        {
          "output_type": "stream",
          "name": "stderr",
          "text": [
            "\r 86%|████████▌ | 5764/6721 [02:47<00:27, 34.57it/s]"
          ]
        },
        {
          "output_type": "stream",
          "name": "stdout",
          "text": [
            "/content/gdrive/MyDrive/george_ds/no_george/2909.jpg removed\n",
            "/content/gdrive/MyDrive/george_ds/no_george/2628.jpg removed\n",
            "/content/gdrive/MyDrive/george_ds/no_george/2635.jpg removed\n",
            "/content/gdrive/MyDrive/george_ds/no_george/2632.jpg removed\n",
            "/content/gdrive/MyDrive/george_ds/no_george/2633.jpg removed\n",
            "/content/gdrive/MyDrive/george_ds/no_george/2637.jpg removed\n",
            "/content/gdrive/MyDrive/george_ds/no_george/2954.jpg removed\n"
          ]
        },
        {
          "output_type": "stream",
          "name": "stderr",
          "text": [
            " 86%|████████▌ | 5772/6721 [02:47<00:27, 34.49it/s]"
          ]
        },
        {
          "output_type": "stream",
          "name": "stdout",
          "text": [
            "/content/gdrive/MyDrive/george_ds/no_george/2646.jpg removed\n",
            "/content/gdrive/MyDrive/george_ds/no_george/2647.jpg removed\n",
            "/content/gdrive/MyDrive/george_ds/no_george/2644.jpg removed\n",
            "/content/gdrive/MyDrive/george_ds/no_george/2651.jpg removed\n",
            "/content/gdrive/MyDrive/george_ds/no_george/2650.jpg removed\n",
            "/content/gdrive/MyDrive/george_ds/no_george/2648.jpg removed\n",
            "/content/gdrive/MyDrive/george_ds/no_george/2652.jpg removed\n",
            "/content/gdrive/MyDrive/george_ds/no_george/2641.jpg removed"
          ]
        },
        {
          "output_type": "stream",
          "name": "stderr",
          "text": [
            " 86%|████████▌ | 5780/6721 [02:47<00:28, 32.82it/s]"
          ]
        },
        {
          "output_type": "stream",
          "name": "stdout",
          "text": [
            "\n",
            "/content/gdrive/MyDrive/george_ds/no_george/2837.jpg removed\n",
            "/content/gdrive/MyDrive/george_ds/no_george/2848.jpg removed\n",
            "/content/gdrive/MyDrive/george_ds/no_george/2839.jpg removed\n",
            "/content/gdrive/MyDrive/george_ds/no_george/2845.jpg removed\n",
            "/content/gdrive/MyDrive/george_ds/no_george/2842.jpg removed\n",
            "/content/gdrive/MyDrive/george_ds/no_george/2838.jpg removed\n"
          ]
        },
        {
          "output_type": "stream",
          "name": "stderr",
          "text": [
            "\r 86%|████████▌ | 5784/6721 [02:47<00:29, 31.29it/s]"
          ]
        },
        {
          "output_type": "stream",
          "name": "stdout",
          "text": [
            "/content/gdrive/MyDrive/george_ds/no_george/2844.jpg removed\n",
            "/content/gdrive/MyDrive/george_ds/no_george/2847.jpg removed\n",
            "/content/gdrive/MyDrive/george_ds/no_george/2846.jpg removed\n",
            "/content/gdrive/MyDrive/george_ds/no_george/2840.jpg removed\n",
            "/content/gdrive/MyDrive/george_ds/no_george/2843.jpg removed\n",
            "/content/gdrive/MyDrive/george_ds/no_george/2841.jpg removed\n"
          ]
        },
        {
          "output_type": "stream",
          "name": "stderr",
          "text": [
            " 86%|████████▌ | 5792/6721 [02:48<00:32, 28.81it/s]"
          ]
        },
        {
          "output_type": "stream",
          "name": "stdout",
          "text": [
            "/content/gdrive/MyDrive/george_ds/no_george/2836.jpg removed\n",
            "/content/gdrive/MyDrive/george_ds/no_george/2835.jpg removed\n",
            "/content/gdrive/MyDrive/george_ds/no_george/2779.jpg removed\n",
            "/content/gdrive/MyDrive/george_ds/no_george/2787.jpg removed\n",
            "/content/gdrive/MyDrive/george_ds/no_george/2785.jpg removed\n"
          ]
        },
        {
          "output_type": "stream",
          "name": "stderr",
          "text": [
            " 86%|████████▋ | 5798/6721 [02:48<00:35, 25.99it/s]"
          ]
        },
        {
          "output_type": "stream",
          "name": "stdout",
          "text": [
            "/content/gdrive/MyDrive/george_ds/no_george/2784.jpg removed\n",
            "/content/gdrive/MyDrive/george_ds/no_george/2782.jpg removed\n",
            "/content/gdrive/MyDrive/george_ds/no_george/2786.jpg removed\n",
            "/content/gdrive/MyDrive/george_ds/no_george/2781.jpg removed\n",
            "/content/gdrive/MyDrive/george_ds/no_george/2783.jpg removed\n",
            "/content/gdrive/MyDrive/george_ds/no_george/2780.jpg removed\n"
          ]
        },
        {
          "output_type": "stream",
          "name": "stderr",
          "text": [
            "\r 86%|████████▋ | 5801/6721 [02:48<00:35, 25.56it/s]"
          ]
        },
        {
          "output_type": "stream",
          "name": "stdout",
          "text": [
            "/content/gdrive/MyDrive/george_ds/no_george/2788.jpg removed\n",
            "/content/gdrive/MyDrive/george_ds/no_george/2778.jpg removed\n",
            "/content/gdrive/MyDrive/george_ds/no_george/2777.jpg removed\n",
            "/content/gdrive/MyDrive/george_ds/no_george/2776.jpg removed\n"
          ]
        },
        {
          "output_type": "stream",
          "name": "stderr",
          "text": [
            "\r 86%|████████▋ | 5804/6721 [02:48<00:41, 21.97it/s]"
          ]
        },
        {
          "output_type": "stream",
          "name": "stdout",
          "text": [
            "/content/gdrive/MyDrive/george_ds/no_george/2775.jpg removed\n",
            "/content/gdrive/MyDrive/george_ds/no_george/2864.jpg removed\n",
            "/content/gdrive/MyDrive/george_ds/no_george/2879.jpg removed\n",
            "/content/gdrive/MyDrive/george_ds/no_george/2894.jpg removed\n"
          ]
        },
        {
          "output_type": "stream",
          "name": "stderr",
          "text": [
            " 86%|████████▋ | 5810/6721 [02:48<00:41, 22.12it/s]"
          ]
        },
        {
          "output_type": "stream",
          "name": "stdout",
          "text": [
            "/content/gdrive/MyDrive/george_ds/no_george/2772.jpg removed\n",
            "/content/gdrive/MyDrive/george_ds/no_george/2773.jpg removed\n",
            "/content/gdrive/MyDrive/george_ds/no_george/2769.jpg removed\n",
            "/content/gdrive/MyDrive/george_ds/no_george/2767.jpg removed\n",
            "/content/gdrive/MyDrive/george_ds/no_george/2766.jpg removed\n"
          ]
        },
        {
          "output_type": "stream",
          "name": "stderr",
          "text": [
            "\r 86%|████████▋ | 5813/6721 [02:49<00:45, 20.15it/s]"
          ]
        },
        {
          "output_type": "stream",
          "name": "stdout",
          "text": [
            "/content/gdrive/MyDrive/george_ds/no_george/2768.jpg removed\n",
            "/content/gdrive/MyDrive/george_ds/no_george/2762.jpg removed\n",
            "/content/gdrive/MyDrive/george_ds/no_george/2765.jpg removed\n",
            "/content/gdrive/MyDrive/george_ds/no_george/2764.jpg removed\n"
          ]
        },
        {
          "output_type": "stream",
          "name": "stderr",
          "text": [
            "\r 87%|████████▋ | 5816/6721 [02:49<00:44, 20.40it/s]"
          ]
        },
        {
          "output_type": "stream",
          "name": "stdout",
          "text": [
            "/content/gdrive/MyDrive/george_ds/no_george/2771.jpg removed\n",
            "/content/gdrive/MyDrive/george_ds/no_george/2770.jpg removed\n",
            "/content/gdrive/MyDrive/george_ds/no_george/2763.jpg removed\n"
          ]
        },
        {
          "output_type": "stream",
          "name": "stderr",
          "text": [
            " 87%|████████▋ | 5823/6721 [02:49<00:43, 20.64it/s]"
          ]
        },
        {
          "output_type": "stream",
          "name": "stdout",
          "text": [
            "/content/gdrive/MyDrive/george_ds/no_george/2798.jpg removed\n",
            "/content/gdrive/MyDrive/george_ds/no_george/2802.jpg removed\n",
            "/content/gdrive/MyDrive/george_ds/no_george/2793.jpg removed\n",
            "/content/gdrive/MyDrive/george_ds/no_george/2796.jpg removed\n",
            "/content/gdrive/MyDrive/george_ds/no_george/2797.jpg removed\n",
            "/content/gdrive/MyDrive/george_ds/no_george/2799.jpg removed\n",
            "/content/gdrive/MyDrive/george_ds/no_george/2800.jpg removed\n"
          ]
        },
        {
          "output_type": "stream",
          "name": "stderr",
          "text": [
            " 87%|████████▋ | 5831/6721 [02:49<00:33, 26.85it/s]"
          ]
        },
        {
          "output_type": "stream",
          "name": "stdout",
          "text": [
            "/content/gdrive/MyDrive/george_ds/no_george/2794.jpg removed\n",
            "/content/gdrive/MyDrive/george_ds/no_george/2795.jpg removed\n",
            "/content/gdrive/MyDrive/george_ds/no_george/2803.jpg removed\n",
            "/content/gdrive/MyDrive/george_ds/no_george/2801.jpg removed\n",
            "/content/gdrive/MyDrive/george_ds/no_george/2792.jpg removed\n",
            "/content/gdrive/MyDrive/george_ds/no_george/2791.jpg removed\n",
            "/content/gdrive/MyDrive/george_ds/no_george/2790.jpg removed\n",
            "/content/gdrive/MyDrive/george_ds/no_george/2756.jpg removed"
          ]
        },
        {
          "output_type": "stream",
          "name": "stderr",
          "text": [
            " 87%|████████▋ | 5839/6721 [02:50<00:29, 29.97it/s]"
          ]
        },
        {
          "output_type": "stream",
          "name": "stdout",
          "text": [
            "\n",
            "/content/gdrive/MyDrive/george_ds/no_george/2757.jpg removed\n",
            "/content/gdrive/MyDrive/george_ds/no_george/2752.jpg removed\n",
            "/content/gdrive/MyDrive/george_ds/no_george/2751.jpg removed\n",
            "/content/gdrive/MyDrive/george_ds/no_george/2749.jpg removed\n",
            "/content/gdrive/MyDrive/george_ds/no_george/2748.jpg removed\n",
            "/content/gdrive/MyDrive/george_ds/no_george/2758.jpg removed\n"
          ]
        },
        {
          "output_type": "stream",
          "name": "stderr",
          "text": [
            " 87%|████████▋ | 5848/6721 [02:50<00:24, 34.98it/s]"
          ]
        },
        {
          "output_type": "stream",
          "name": "stdout",
          "text": [
            "/content/gdrive/MyDrive/george_ds/no_george/2755.jpg removed\n",
            "/content/gdrive/MyDrive/george_ds/no_george/2750.jpg removed\n",
            "/content/gdrive/MyDrive/george_ds/no_george/2754.jpg removed\n",
            "/content/gdrive/MyDrive/george_ds/no_george/2753.jpg removed\n",
            "/content/gdrive/MyDrive/george_ds/no_george/2747.jpg removed\n",
            "/content/gdrive/MyDrive/george_ds/no_george/2746.jpg removed\n",
            "/content/gdrive/MyDrive/george_ds/no_george/2745.jpg removed\n",
            "/content/gdrive/MyDrive/george_ds/no_george/2819.jpg removed\n",
            "/content/gdrive/MyDrive/george_ds/no_george/2849.jpg removed\n"
          ]
        },
        {
          "output_type": "stream",
          "name": "stderr",
          "text": [
            " 87%|████████▋ | 5856/6721 [02:50<00:25, 34.20it/s]"
          ]
        },
        {
          "output_type": "stream",
          "name": "stdout",
          "text": [
            "/content/gdrive/MyDrive/george_ds/no_george/2723.jpg removed\n",
            "/content/gdrive/MyDrive/george_ds/no_george/2726.jpg removed\n",
            "/content/gdrive/MyDrive/george_ds/no_george/2718.jpg removed\n",
            "/content/gdrive/MyDrive/george_ds/no_george/2727.jpg removed\n",
            "/content/gdrive/MyDrive/george_ds/no_george/2720.jpg removed\n",
            "/content/gdrive/MyDrive/george_ds/no_george/2721.jpg removed\n",
            "/content/gdrive/MyDrive/george_ds/no_george/2724.jpg removed\n",
            "/content/gdrive/MyDrive/george_ds/no_george/2722.jpg removed\n"
          ]
        },
        {
          "output_type": "stream",
          "name": "stderr",
          "text": [
            "\r 87%|████████▋ | 5860/6721 [02:50<00:25, 34.36it/s]"
          ]
        },
        {
          "output_type": "stream",
          "name": "stdout",
          "text": [
            "/content/gdrive/MyDrive/george_ds/no_george/2725.jpg removed\n",
            "/content/gdrive/MyDrive/george_ds/no_george/2728.jpg removed\n",
            "/content/gdrive/MyDrive/george_ds/no_george/2719.jpg removed\n",
            "/content/gdrive/MyDrive/george_ds/no_george/2717.jpg removed\n",
            "/content/gdrive/MyDrive/george_ds/no_george/2716.jpg removed\n",
            "/content/gdrive/MyDrive/george_ds/no_george/2715.jpg removed\n",
            "/content/gdrive/MyDrive/george_ds/no_george/2738.jpg removed\n",
            "/content/gdrive/MyDrive/george_ds/no_george/2743.jpg removed\n",
            "/content/gdrive/MyDrive/george_ds/no_george/2741.jpg removed\n",
            "/content/gdrive/MyDrive/george_ds/no_george/2740.jpg removed\n"
          ]
        },
        {
          "output_type": "stream",
          "name": "stderr",
          "text": [
            " 87%|████████▋ | 5872/6721 [02:50<00:20, 41.18it/s]"
          ]
        },
        {
          "output_type": "stream",
          "name": "stdout",
          "text": [
            "/content/gdrive/MyDrive/george_ds/no_george/2732.jpg removed\n",
            "/content/gdrive/MyDrive/george_ds/no_george/2737.jpg removed\n",
            "/content/gdrive/MyDrive/george_ds/no_george/2739.jpg removed\n",
            "/content/gdrive/MyDrive/george_ds/no_george/2733.jpg removed\n",
            "/content/gdrive/MyDrive/george_ds/no_george/2735.jpg removed\n",
            "/content/gdrive/MyDrive/george_ds/no_george/2736.jpg removed\n",
            "/content/gdrive/MyDrive/george_ds/no_george/2742.jpg removed\n",
            "/content/gdrive/MyDrive/george_ds/no_george/2734.jpg removed\n",
            "/content/gdrive/MyDrive/george_ds/no_george/2731.jpg removed\n"
          ]
        },
        {
          "output_type": "stream",
          "name": "stderr",
          "text": [
            " 88%|████████▊ | 5882/6721 [02:51<00:19, 43.16it/s]"
          ]
        },
        {
          "output_type": "stream",
          "name": "stdout",
          "text": [
            "/content/gdrive/MyDrive/george_ds/no_george/2730.jpg removed\n",
            "/content/gdrive/MyDrive/george_ds/no_george/2610.jpg removed\n",
            "/content/gdrive/MyDrive/george_ds/no_george/2615.jpg removed\n",
            "/content/gdrive/MyDrive/george_ds/no_george/2612.jpg removed\n",
            "/content/gdrive/MyDrive/george_ds/no_george/2614.jpg removed\n",
            "/content/gdrive/MyDrive/george_ds/no_george/2834.jpg removed\n",
            "/content/gdrive/MyDrive/george_ds/no_george/2774.jpg removed\n",
            "/content/gdrive/MyDrive/george_ds/no_george/2599.jpg removed\n",
            "/content/gdrive/MyDrive/george_ds/no_george/2595.jpg removed\n",
            "/content/gdrive/MyDrive/george_ds/no_george/2605.jpg removed\n"
          ]
        },
        {
          "output_type": "stream",
          "name": "stderr",
          "text": [
            " 88%|████████▊ | 5892/6721 [02:51<00:19, 42.30it/s]"
          ]
        },
        {
          "output_type": "stream",
          "name": "stdout",
          "text": [
            "/content/gdrive/MyDrive/george_ds/no_george/2597.jpg removed\n",
            "/content/gdrive/MyDrive/george_ds/no_george/2600.jpg removed\n",
            "/content/gdrive/MyDrive/george_ds/no_george/2804.jpg removed\n",
            "/content/gdrive/MyDrive/george_ds/no_george/2572.jpg removed\n",
            "/content/gdrive/MyDrive/george_ds/no_george/2570.jpg removed\n",
            "/content/gdrive/MyDrive/george_ds/no_george/2569.jpg removed\n",
            "/content/gdrive/MyDrive/george_ds/no_george/2575.jpg removed\n",
            "/content/gdrive/MyDrive/george_ds/no_george/2578.jpg removed\n",
            "/content/gdrive/MyDrive/george_ds/no_george/2568.jpg removed\n"
          ]
        },
        {
          "output_type": "stream",
          "name": "stderr",
          "text": [
            " 88%|████████▊ | 5902/6721 [02:51<00:20, 40.73it/s]"
          ]
        },
        {
          "output_type": "stream",
          "name": "stdout",
          "text": [
            "/content/gdrive/MyDrive/george_ds/no_george/2567.jpg removed\n",
            "/content/gdrive/MyDrive/george_ds/no_george/2695.jpg removed\n",
            "/content/gdrive/MyDrive/george_ds/no_george/2697.jpg removed\n",
            "/content/gdrive/MyDrive/george_ds/no_george/2686.jpg removed\n",
            "/content/gdrive/MyDrive/george_ds/no_george/2687.jpg removed\n",
            "/content/gdrive/MyDrive/george_ds/no_george/2688.jpg removed\n",
            "/content/gdrive/MyDrive/george_ds/no_george/2698.jpg removed\n",
            "/content/gdrive/MyDrive/george_ds/no_george/2690.jpg removed\n"
          ]
        },
        {
          "output_type": "stream",
          "name": "stderr",
          "text": [
            "\r 88%|████████▊ | 5907/6721 [02:51<00:20, 38.80it/s]"
          ]
        },
        {
          "output_type": "stream",
          "name": "stdout",
          "text": [
            "/content/gdrive/MyDrive/george_ds/no_george/2689.jpg removed\n",
            "/content/gdrive/MyDrive/george_ds/no_george/2691.jpg removed\n",
            "/content/gdrive/MyDrive/george_ds/no_george/2696.jpg removed\n",
            "/content/gdrive/MyDrive/george_ds/no_george/2694.jpg removed\n",
            "/content/gdrive/MyDrive/george_ds/no_george/2675.jpg removed\n",
            "/content/gdrive/MyDrive/george_ds/no_george/2673.jpg removed\n",
            "/content/gdrive/MyDrive/george_ds/no_george/2677.jpg removed\n",
            "/content/gdrive/MyDrive/george_ds/no_george/2679.jpg removed\n",
            "/content/gdrive/MyDrive/george_ds/no_george/2672.jpg removed\n"
          ]
        },
        {
          "output_type": "stream",
          "name": "stderr",
          "text": [
            " 88%|████████▊ | 5917/6721 [02:52<00:21, 37.14it/s]"
          ]
        },
        {
          "output_type": "stream",
          "name": "stdout",
          "text": [
            "/content/gdrive/MyDrive/george_ds/no_george/2670.jpg removed\n",
            "/content/gdrive/MyDrive/george_ds/no_george/2702.jpg removed\n",
            "/content/gdrive/MyDrive/george_ds/no_george/2701.jpg removed\n",
            "/content/gdrive/MyDrive/george_ds/no_george/2761.jpg removed\n",
            "/content/gdrive/MyDrive/george_ds/no_george/2583.jpg removed\n",
            "/content/gdrive/MyDrive/george_ds/no_george/2593.jpg removed\n"
          ]
        },
        {
          "output_type": "stream",
          "name": "stderr",
          "text": [
            "\r 88%|████████▊ | 5921/6721 [02:52<00:22, 34.79it/s]"
          ]
        },
        {
          "output_type": "stream",
          "name": "stdout",
          "text": [
            "/content/gdrive/MyDrive/george_ds/no_george/2590.jpg removed\n",
            "/content/gdrive/MyDrive/george_ds/no_george/2663.jpg removed\n",
            "/content/gdrive/MyDrive/george_ds/no_george/2661.jpg removed\n",
            "/content/gdrive/MyDrive/george_ds/no_george/2659.jpg removed\n",
            "/content/gdrive/MyDrive/george_ds/no_george/2664.jpg removed\n",
            "/content/gdrive/MyDrive/george_ds/no_george/2658.jpg removed\n",
            "/content/gdrive/MyDrive/george_ds/no_george/2668.jpg removed\n"
          ]
        },
        {
          "output_type": "stream",
          "name": "stderr",
          "text": [
            " 88%|████████▊ | 5929/6721 [02:52<00:22, 35.57it/s]"
          ]
        },
        {
          "output_type": "stream",
          "name": "stdout",
          "text": [
            "/content/gdrive/MyDrive/george_ds/no_george/2667.jpg removed\n",
            "/content/gdrive/MyDrive/george_ds/no_george/2657.jpg removed\n",
            "/content/gdrive/MyDrive/george_ds/no_george/2656.jpg removed\n",
            "/content/gdrive/MyDrive/george_ds/no_george/2601.jpg removed\n",
            "/content/gdrive/MyDrive/george_ds/no_george/2604.jpg removed\n",
            "/content/gdrive/MyDrive/george_ds/no_george/2592.jpg removed\n",
            "/content/gdrive/MyDrive/george_ds/no_george/2580.jpg removed\n",
            "/content/gdrive/MyDrive/george_ds/no_george/2588.jpg removed\n",
            "/content/gdrive/MyDrive/george_ds/no_george/2581.jpg removed\n"
          ]
        },
        {
          "output_type": "stream",
          "name": "stderr",
          "text": [
            " 88%|████████▊ | 5939/6721 [02:52<00:19, 39.15it/s]"
          ]
        },
        {
          "output_type": "stream",
          "name": "stdout",
          "text": [
            "/content/gdrive/MyDrive/george_ds/no_george/2789.jpg removed\n",
            "/content/gdrive/MyDrive/george_ds/no_george/2653.jpg removed\n",
            "/content/gdrive/MyDrive/george_ds/no_george/2645.jpg removed\n",
            "/content/gdrive/MyDrive/george_ds/no_george/2643.jpg removed\n",
            "/content/gdrive/MyDrive/george_ds/no_george/2642.jpg removed\n",
            "/content/gdrive/MyDrive/george_ds/no_george/2649.jpg removed\n",
            "/content/gdrive/MyDrive/george_ds/no_george/2640.jpg removed\n",
            "/content/gdrive/MyDrive/george_ds/no_george/2562.jpg removed\n",
            "/content/gdrive/MyDrive/george_ds/no_george/2557.jpg removed\n"
          ]
        },
        {
          "output_type": "stream",
          "name": "stderr",
          "text": [
            " 89%|████████▊ | 5950/6721 [02:52<00:17, 44.04it/s]"
          ]
        },
        {
          "output_type": "stream",
          "name": "stdout",
          "text": [
            "/content/gdrive/MyDrive/george_ds/no_george/2550.jpg removed\n",
            "/content/gdrive/MyDrive/george_ds/no_george/2559.jpg removed\n",
            "/content/gdrive/MyDrive/george_ds/no_george/2556.jpg removed\n",
            "/content/gdrive/MyDrive/george_ds/no_george/2555.jpg removed\n",
            "/content/gdrive/MyDrive/george_ds/no_george/2714.jpg removed\n",
            "/content/gdrive/MyDrive/george_ds/no_george/2729.jpg removed\n",
            "/content/gdrive/MyDrive/george_ds/no_george/2536.jpg removed\n",
            "/content/gdrive/MyDrive/george_ds/no_george/2618.jpg removed\n",
            "/content/gdrive/MyDrive/george_ds/no_george/2616.jpg removed\n"
          ]
        },
        {
          "output_type": "stream",
          "name": "stderr",
          "text": [
            " 89%|████████▊ | 5960/6721 [02:53<00:18, 40.36it/s]"
          ]
        },
        {
          "output_type": "stream",
          "name": "stdout",
          "text": [
            "/content/gdrive/MyDrive/george_ds/no_george/2623.jpg removed\n",
            "/content/gdrive/MyDrive/george_ds/no_george/2620.jpg removed\n",
            "/content/gdrive/MyDrive/george_ds/no_george/2617.jpg removed\n",
            "/content/gdrive/MyDrive/george_ds/no_george/2622.jpg removed\n",
            "/content/gdrive/MyDrive/george_ds/no_george/2621.jpg removed\n",
            "/content/gdrive/MyDrive/george_ds/no_george/2619.jpg removed\n",
            "/content/gdrive/MyDrive/george_ds/no_george/2613.jpg removed\n",
            "/content/gdrive/MyDrive/george_ds/no_george/2611.jpg removed\n",
            "/content/gdrive/MyDrive/george_ds/no_george/2541.jpg removed\n"
          ]
        },
        {
          "output_type": "stream",
          "name": "stderr",
          "text": [
            "\r 89%|████████▉ | 5965/6721 [02:53<00:20, 37.04it/s]"
          ]
        },
        {
          "output_type": "stream",
          "name": "stdout",
          "text": [
            "/content/gdrive/MyDrive/george_ds/no_george/2540.jpg removed\n",
            "/content/gdrive/MyDrive/george_ds/no_george/2546.jpg removed\n",
            "/content/gdrive/MyDrive/george_ds/no_george/2744.jpg removed\n",
            "/content/gdrive/MyDrive/george_ds/no_george/2759.jpg removed\n",
            "/content/gdrive/MyDrive/george_ds/no_george/2630.jpg removed\n",
            "/content/gdrive/MyDrive/george_ds/no_george/2631.jpg removed\n",
            "/content/gdrive/MyDrive/george_ds/no_george/2627.jpg removed\n"
          ]
        },
        {
          "output_type": "stream",
          "name": "stderr",
          "text": [
            " 89%|████████▉ | 5975/6721 [02:53<00:20, 37.15it/s]"
          ]
        },
        {
          "output_type": "stream",
          "name": "stdout",
          "text": [
            "/content/gdrive/MyDrive/george_ds/no_george/2629.jpg removed\n",
            "/content/gdrive/MyDrive/george_ds/no_george/2636.jpg removed\n",
            "/content/gdrive/MyDrive/george_ds/no_george/2626.jpg removed\n",
            "/content/gdrive/MyDrive/george_ds/no_george/2634.jpg removed\n",
            "/content/gdrive/MyDrive/george_ds/no_george/2638.jpg removed\n",
            "/content/gdrive/MyDrive/george_ds/no_george/2625.jpg removed\n",
            "/content/gdrive/MyDrive/george_ds/no_george/2558.jpg removed\n",
            "/content/gdrive/MyDrive/george_ds/no_george/2561.jpg removed\n"
          ]
        },
        {
          "output_type": "stream",
          "name": "stderr",
          "text": [
            " 89%|████████▉ | 5983/6721 [02:53<00:20, 36.38it/s]"
          ]
        },
        {
          "output_type": "stream",
          "name": "stdout",
          "text": [
            "/content/gdrive/MyDrive/george_ds/no_george/2446.jpg removed\n",
            "/content/gdrive/MyDrive/george_ds/no_george/2447.jpg removed\n",
            "/content/gdrive/MyDrive/george_ds/no_george/2450.jpg removed\n",
            "/content/gdrive/MyDrive/george_ds/no_george/2457.jpg removed\n",
            "/content/gdrive/MyDrive/george_ds/no_george/2465.jpg removed\n",
            "/content/gdrive/MyDrive/george_ds/no_george/2461.jpg removed\n",
            "/content/gdrive/MyDrive/george_ds/no_george/2466.jpg removed\n",
            "/content/gdrive/MyDrive/george_ds/no_george/2669.jpg removed\n"
          ]
        },
        {
          "output_type": "stream",
          "name": "stderr",
          "text": [
            " 89%|████████▉ | 5993/6721 [02:53<00:17, 40.96it/s]"
          ]
        },
        {
          "output_type": "stream",
          "name": "stdout",
          "text": [
            "/content/gdrive/MyDrive/george_ds/no_george/2684.jpg removed\n",
            "/content/gdrive/MyDrive/george_ds/no_george/2472.jpg removed\n",
            "/content/gdrive/MyDrive/george_ds/no_george/2467.jpg removed\n",
            "/content/gdrive/MyDrive/george_ds/no_george/2469.jpg removed\n",
            "/content/gdrive/MyDrive/george_ds/no_george/2460.jpg removed\n",
            "/content/gdrive/MyDrive/george_ds/no_george/2463.jpg removed\n",
            "/content/gdrive/MyDrive/george_ds/no_george/2462.jpg removed\n",
            "/content/gdrive/MyDrive/george_ds/no_george/2490.jpg removed\n",
            "/content/gdrive/MyDrive/george_ds/no_george/2496.jpg removed\n",
            "/content/gdrive/MyDrive/george_ds/no_george/2497.jpg removed\n"
          ]
        },
        {
          "output_type": "stream",
          "name": "stderr",
          "text": [
            "\r 89%|████████▉ | 5998/6721 [02:54<00:18, 39.76it/s]"
          ]
        },
        {
          "output_type": "stream",
          "name": "stdout",
          "text": [
            "/content/gdrive/MyDrive/george_ds/no_george/2492.jpg removed\n",
            "/content/gdrive/MyDrive/george_ds/no_george/2498.jpg removed\n",
            "/content/gdrive/MyDrive/george_ds/no_george/2495.jpg removed\n",
            "/content/gdrive/MyDrive/george_ds/no_george/2493.jpg removed\n",
            "/content/gdrive/MyDrive/george_ds/no_george/2491.jpg removed\n",
            "/content/gdrive/MyDrive/george_ds/no_george/2502.jpg removed\n",
            "/content/gdrive/MyDrive/george_ds/no_george/2487.jpg removed\n",
            "/content/gdrive/MyDrive/george_ds/no_george/2479.jpg removed\n",
            "/content/gdrive/MyDrive/george_ds/no_george/2488.jpg removed\n",
            "/content/gdrive/MyDrive/george_ds/no_george/2484.jpg removed\n"
          ]
        },
        {
          "output_type": "stream",
          "name": "stderr",
          "text": [
            " 89%|████████▉ | 6011/6721 [02:54<00:15, 46.34it/s]"
          ]
        },
        {
          "output_type": "stream",
          "name": "stdout",
          "text": [
            "/content/gdrive/MyDrive/george_ds/no_george/2485.jpg removed\n",
            "/content/gdrive/MyDrive/george_ds/no_george/2483.jpg removed\n",
            "/content/gdrive/MyDrive/george_ds/no_george/2482.jpg removed\n",
            "/content/gdrive/MyDrive/george_ds/no_george/2699.jpg removed\n",
            "/content/gdrive/MyDrive/george_ds/no_george/2517.jpg removed\n",
            "/content/gdrive/MyDrive/george_ds/no_george/2505.jpg removed\n",
            "/content/gdrive/MyDrive/george_ds/no_george/2514.jpg removed\n",
            "/content/gdrive/MyDrive/george_ds/no_george/2507.jpg removed\n",
            "/content/gdrive/MyDrive/george_ds/no_george/2512.jpg removed\n",
            "/content/gdrive/MyDrive/george_ds/no_george/2513.jpg removed\n"
          ]
        },
        {
          "output_type": "stream",
          "name": "stderr",
          "text": [
            " 90%|████████▉ | 6021/6721 [02:54<00:16, 41.53it/s]"
          ]
        },
        {
          "output_type": "stream",
          "name": "stdout",
          "text": [
            "/content/gdrive/MyDrive/george_ds/no_george/2516.jpg removed\n",
            "/content/gdrive/MyDrive/george_ds/no_george/2587.jpg removed\n",
            "/content/gdrive/MyDrive/george_ds/no_george/2589.jpg removed\n",
            "/content/gdrive/MyDrive/george_ds/no_george/2591.jpg removed\n",
            "/content/gdrive/MyDrive/george_ds/no_george/2582.jpg removed\n",
            "/content/gdrive/MyDrive/george_ds/no_george/2586.jpg removed\n",
            "/content/gdrive/MyDrive/george_ds/no_george/2585.jpg removed\n",
            "/content/gdrive/MyDrive/george_ds/no_george/2584.jpg removed\n"
          ]
        },
        {
          "output_type": "stream",
          "name": "stderr",
          "text": [
            " 90%|████████▉ | 6032/6721 [02:54<00:15, 45.04it/s]"
          ]
        },
        {
          "output_type": "stream",
          "name": "stdout",
          "text": [
            "/content/gdrive/MyDrive/george_ds/no_george/2608.jpg removed\n",
            "/content/gdrive/MyDrive/george_ds/no_george/2598.jpg removed\n",
            "/content/gdrive/MyDrive/george_ds/no_george/2603.jpg removed\n",
            "/content/gdrive/MyDrive/george_ds/no_george/2607.jpg removed\n",
            "/content/gdrive/MyDrive/george_ds/no_george/2606.jpg removed\n",
            "/content/gdrive/MyDrive/george_ds/no_george/2602.jpg removed\n",
            "/content/gdrive/MyDrive/george_ds/no_george/2596.jpg removed\n",
            "/content/gdrive/MyDrive/george_ds/no_george/2523.jpg removed\n",
            "/content/gdrive/MyDrive/george_ds/no_george/2532.jpg removed\n",
            "/content/gdrive/MyDrive/george_ds/no_george/2525.jpg removed\n",
            "/content/gdrive/MyDrive/george_ds/no_george/2530.jpg removed\n"
          ]
        },
        {
          "output_type": "stream",
          "name": "stderr",
          "text": [
            "\r 90%|████████▉ | 6037/6721 [02:54<00:16, 42.35it/s]"
          ]
        },
        {
          "output_type": "stream",
          "name": "stdout",
          "text": [
            "/content/gdrive/MyDrive/george_ds/no_george/2522.jpg removed\n",
            "/content/gdrive/MyDrive/george_ds/no_george/2529.jpg removed\n",
            "/content/gdrive/MyDrive/george_ds/no_george/2533.jpg removed\n",
            "/content/gdrive/MyDrive/george_ds/no_george/2576.jpg removed\n",
            "/content/gdrive/MyDrive/george_ds/no_george/2577.jpg removed\n",
            "/content/gdrive/MyDrive/george_ds/no_george/2573.jpg removed\n",
            "/content/gdrive/MyDrive/george_ds/no_george/2574.jpg removed\n",
            "/content/gdrive/MyDrive/george_ds/no_george/2571.jpg removed\n",
            "/content/gdrive/MyDrive/george_ds/no_george/2566.jpg removed\n"
          ]
        },
        {
          "output_type": "stream",
          "name": "stderr",
          "text": [
            " 90%|████████▉ | 6047/6721 [02:55<00:17, 37.61it/s]"
          ]
        },
        {
          "output_type": "stream",
          "name": "stdout",
          "text": [
            "/content/gdrive/MyDrive/george_ds/no_george/2565.jpg removed\n",
            "/content/gdrive/MyDrive/george_ds/no_george/2433.jpg removed\n",
            "/content/gdrive/MyDrive/george_ds/no_george/2436.jpg removed\n",
            "/content/gdrive/MyDrive/george_ds/no_george/2654.jpg removed\n",
            "/content/gdrive/MyDrive/george_ds/no_george/2531.jpg removed\n",
            "/content/gdrive/MyDrive/george_ds/no_george/2524.jpg removed\n",
            "/content/gdrive/MyDrive/george_ds/no_george/2526.jpg removed\n"
          ]
        },
        {
          "output_type": "stream",
          "name": "stderr",
          "text": [
            " 90%|█████████ | 6057/6721 [02:55<00:16, 41.47it/s]"
          ]
        },
        {
          "output_type": "stream",
          "name": "stdout",
          "text": [
            "/content/gdrive/MyDrive/george_ds/no_george/2528.jpg removed\n",
            "/content/gdrive/MyDrive/george_ds/no_george/2527.jpg removed\n",
            "/content/gdrive/MyDrive/george_ds/no_george/2521.jpg removed\n",
            "/content/gdrive/MyDrive/george_ds/no_george/2520.jpg removed\n",
            "/content/gdrive/MyDrive/george_ds/no_george/2545.jpg removed\n",
            "/content/gdrive/MyDrive/george_ds/no_george/2548.jpg removed\n",
            "/content/gdrive/MyDrive/george_ds/no_george/2539.jpg removed\n",
            "/content/gdrive/MyDrive/george_ds/no_george/2543.jpg removed\n",
            "/content/gdrive/MyDrive/george_ds/no_george/2542.jpg removed\n"
          ]
        },
        {
          "output_type": "stream",
          "name": "stderr",
          "text": [
            "\r 90%|█████████ | 6062/6721 [02:55<00:16, 39.31it/s]"
          ]
        },
        {
          "output_type": "stream",
          "name": "stdout",
          "text": [
            "/content/gdrive/MyDrive/george_ds/no_george/2547.jpg removed\n",
            "/content/gdrive/MyDrive/george_ds/no_george/2538.jpg removed\n",
            "/content/gdrive/MyDrive/george_ds/no_george/2544.jpg removed\n",
            "/content/gdrive/MyDrive/george_ds/no_george/2537.jpg removed\n",
            "/content/gdrive/MyDrive/george_ds/no_george/2535.jpg removed\n",
            "/content/gdrive/MyDrive/george_ds/no_george/2426.jpg removed\n",
            "/content/gdrive/MyDrive/george_ds/no_george/2418.jpg removed\n",
            "/content/gdrive/MyDrive/george_ds/no_george/2435.jpg removed\n"
          ]
        },
        {
          "output_type": "stream",
          "name": "stderr",
          "text": [
            " 90%|█████████ | 6071/6721 [02:55<00:18, 36.11it/s]"
          ]
        },
        {
          "output_type": "stream",
          "name": "stdout",
          "text": [
            "/content/gdrive/MyDrive/george_ds/no_george/2439.jpg removed\n",
            "/content/gdrive/MyDrive/george_ds/no_george/2451.jpg removed\n",
            "/content/gdrive/MyDrive/george_ds/no_george/2452.jpg removed\n",
            "/content/gdrive/MyDrive/george_ds/no_george/2445.jpg removed\n",
            "/content/gdrive/MyDrive/george_ds/no_george/2560.jpg removed\n",
            "/content/gdrive/MyDrive/george_ds/no_george/2554.jpg removed\n",
            "/content/gdrive/MyDrive/george_ds/no_george/2553.jpg removed\n"
          ]
        },
        {
          "output_type": "stream",
          "name": "stderr",
          "text": [
            " 90%|█████████ | 6080/6721 [02:56<00:16, 39.70it/s]"
          ]
        },
        {
          "output_type": "stream",
          "name": "stdout",
          "text": [
            "/content/gdrive/MyDrive/george_ds/no_george/2552.jpg removed\n",
            "/content/gdrive/MyDrive/george_ds/no_george/2563.jpg removed\n",
            "/content/gdrive/MyDrive/george_ds/no_george/2551.jpg removed\n",
            "/content/gdrive/MyDrive/george_ds/no_george/2407.jpg removed\n",
            "/content/gdrive/MyDrive/george_ds/no_george/2411.jpg removed\n",
            "/content/gdrive/MyDrive/george_ds/no_george/2409.jpg removed\n",
            "/content/gdrive/MyDrive/george_ds/no_george/2412.jpg removed\n",
            "/content/gdrive/MyDrive/george_ds/no_george/2401.jpg removed\n",
            "/content/gdrive/MyDrive/george_ds/no_george/2410.jpg removed\n"
          ]
        },
        {
          "output_type": "stream",
          "name": "stderr",
          "text": [
            " 91%|█████████ | 6090/6721 [02:56<00:16, 37.29it/s]"
          ]
        },
        {
          "output_type": "stream",
          "name": "stdout",
          "text": [
            "/content/gdrive/MyDrive/george_ds/no_george/2406.jpg removed\n",
            "/content/gdrive/MyDrive/george_ds/no_george/2382.jpg removed\n",
            "/content/gdrive/MyDrive/george_ds/no_george/2380.jpg removed\n",
            "/content/gdrive/MyDrive/george_ds/no_george/2374.jpg removed\n",
            "/content/gdrive/MyDrive/george_ds/no_george/2477.jpg removed\n",
            "/content/gdrive/MyDrive/george_ds/no_george/2480.jpg removed\n",
            "/content/gdrive/MyDrive/george_ds/no_george/2481.jpg removed\n",
            "/content/gdrive/MyDrive/george_ds/no_george/2478.jpg removed\n",
            "/content/gdrive/MyDrive/george_ds/no_george/2486.jpg removed\n"
          ]
        },
        {
          "output_type": "stream",
          "name": "stderr",
          "text": [
            " 91%|█████████ | 6099/6721 [02:56<00:16, 36.69it/s]"
          ]
        },
        {
          "output_type": "stream",
          "name": "stdout",
          "text": [
            "/content/gdrive/MyDrive/george_ds/no_george/2476.jpg removed\n",
            "/content/gdrive/MyDrive/george_ds/no_george/2475.jpg removed\n",
            "/content/gdrive/MyDrive/george_ds/no_george/2509.jpg removed\n",
            "/content/gdrive/MyDrive/george_ds/no_george/2515.jpg removed\n",
            "/content/gdrive/MyDrive/george_ds/no_george/2508.jpg removed\n",
            "/content/gdrive/MyDrive/george_ds/no_george/2518.jpg removed\n",
            "/content/gdrive/MyDrive/george_ds/no_george/2510.jpg removed\n",
            "/content/gdrive/MyDrive/george_ds/no_george/2511.jpg removed\n",
            "/content/gdrive/MyDrive/george_ds/no_george/2506.jpg removed\n"
          ]
        },
        {
          "output_type": "stream",
          "name": "stderr",
          "text": [
            " 91%|█████████ | 6108/6721 [02:56<00:15, 39.32it/s]"
          ]
        },
        {
          "output_type": "stream",
          "name": "stdout",
          "text": [
            "/content/gdrive/MyDrive/george_ds/no_george/2405.jpg removed\n",
            "/content/gdrive/MyDrive/george_ds/no_george/2639.jpg removed\n",
            "/content/gdrive/MyDrive/george_ds/no_george/2624.jpg removed\n",
            "/content/gdrive/MyDrive/george_ds/no_george/2375.jpg removed\n",
            "/content/gdrive/MyDrive/george_ds/no_george/2383.jpg removed\n",
            "/content/gdrive/MyDrive/george_ds/no_george/2377.jpg removed\n",
            "/content/gdrive/MyDrive/george_ds/no_george/2370.jpg removed\n",
            "/content/gdrive/MyDrive/george_ds/no_george/2376.jpg removed\n",
            "/content/gdrive/MyDrive/george_ds/no_george/2378.jpg removed\n"
          ]
        },
        {
          "output_type": "stream",
          "name": "stderr",
          "text": [
            "\r 91%|█████████ | 6113/6721 [02:56<00:14, 41.12it/s]"
          ]
        },
        {
          "output_type": "stream",
          "name": "stdout",
          "text": [
            "/content/gdrive/MyDrive/george_ds/no_george/2355.jpg removed\n",
            "/content/gdrive/MyDrive/george_ds/no_george/2366.jpg removed\n",
            "/content/gdrive/MyDrive/george_ds/no_george/2363.jpg removed\n",
            "/content/gdrive/MyDrive/george_ds/no_george/2579.jpg removed\n",
            "/content/gdrive/MyDrive/george_ds/no_george/2564.jpg removed\n",
            "/content/gdrive/MyDrive/george_ds/no_george/2594.jpg removed\n",
            "/content/gdrive/MyDrive/george_ds/no_george/2468.jpg removed\n",
            "/content/gdrive/MyDrive/george_ds/no_george/2471.jpg removed\n",
            "/content/gdrive/MyDrive/george_ds/no_george/2464.jpg removed\n",
            "/content/gdrive/MyDrive/george_ds/no_george/2470.jpg removed\n"
          ]
        },
        {
          "output_type": "stream",
          "name": "stderr",
          "text": [
            " 91%|█████████ | 6124/6721 [02:57<00:13, 43.63it/s]"
          ]
        },
        {
          "output_type": "stream",
          "name": "stdout",
          "text": [
            "/content/gdrive/MyDrive/george_ds/no_george/2473.jpg removed\n",
            "/content/gdrive/MyDrive/george_ds/no_george/2391.jpg removed\n",
            "/content/gdrive/MyDrive/george_ds/no_george/2387.jpg removed\n",
            "/content/gdrive/MyDrive/george_ds/no_george/2386.jpg removed\n",
            "/content/gdrive/MyDrive/george_ds/no_george/2395.jpg removed\n",
            "/content/gdrive/MyDrive/george_ds/no_george/2385.jpg removed\n",
            "/content/gdrive/MyDrive/george_ds/no_george/2398.jpg removed\n",
            "/content/gdrive/MyDrive/george_ds/no_george/2609.jpg removed\n",
            "/content/gdrive/MyDrive/george_ds/no_george/2360.jpg removed\n",
            "/content/gdrive/MyDrive/george_ds/no_george/2501.jpg removed\n"
          ]
        },
        {
          "output_type": "stream",
          "name": "stderr",
          "text": [
            " 91%|█████████▏| 6134/6721 [02:57<00:14, 41.67it/s]"
          ]
        },
        {
          "output_type": "stream",
          "name": "stdout",
          "text": [
            "/content/gdrive/MyDrive/george_ds/no_george/2499.jpg removed\n",
            "/content/gdrive/MyDrive/george_ds/no_george/2503.jpg removed\n",
            "/content/gdrive/MyDrive/george_ds/no_george/2500.jpg removed\n",
            "/content/gdrive/MyDrive/george_ds/no_george/2494.jpg removed\n",
            "/content/gdrive/MyDrive/george_ds/no_george/2443.jpg removed\n",
            "/content/gdrive/MyDrive/george_ds/no_george/2432.jpg removed\n",
            "/content/gdrive/MyDrive/george_ds/no_george/2437.jpg removed\n",
            "/content/gdrive/MyDrive/george_ds/no_george/2434.jpg removed\n",
            "/content/gdrive/MyDrive/george_ds/no_george/2440.jpg removed\n"
          ]
        },
        {
          "output_type": "stream",
          "name": "stderr",
          "text": [
            " 91%|█████████▏| 6144/6721 [02:57<00:13, 41.77it/s]"
          ]
        },
        {
          "output_type": "stream",
          "name": "stdout",
          "text": [
            "/content/gdrive/MyDrive/george_ds/no_george/2441.jpg removed\n",
            "/content/gdrive/MyDrive/george_ds/no_george/2438.jpg removed\n",
            "/content/gdrive/MyDrive/george_ds/no_george/2442.jpg removed\n",
            "/content/gdrive/MyDrive/george_ds/no_george/2431.jpg removed\n",
            "/content/gdrive/MyDrive/george_ds/no_george/2430.jpg removed\n",
            "/content/gdrive/MyDrive/george_ds/no_george/2349.jpg removed\n",
            "/content/gdrive/MyDrive/george_ds/no_george/2534.jpg removed\n",
            "/content/gdrive/MyDrive/george_ds/no_george/2519.jpg removed\n",
            "/content/gdrive/MyDrive/george_ds/no_george/2549.jpg removed\n"
          ]
        },
        {
          "output_type": "stream",
          "name": "stderr",
          "text": [
            "\r 91%|█████████▏| 6149/6721 [02:57<00:15, 37.57it/s]"
          ]
        },
        {
          "output_type": "stream",
          "name": "stdout",
          "text": [
            "/content/gdrive/MyDrive/george_ds/no_george/2425.jpg removed\n",
            "/content/gdrive/MyDrive/george_ds/no_george/2427.jpg removed\n",
            "/content/gdrive/MyDrive/george_ds/no_george/2422.jpg removed\n",
            "/content/gdrive/MyDrive/george_ds/no_george/2428.jpg removed\n",
            "/content/gdrive/MyDrive/george_ds/no_george/2421.jpg removed\n",
            "/content/gdrive/MyDrive/george_ds/no_george/2420.jpg removed\n",
            "/content/gdrive/MyDrive/george_ds/no_george/2419.jpg removed\n"
          ]
        },
        {
          "output_type": "stream",
          "name": "stderr",
          "text": [
            " 92%|█████████▏| 6158/6721 [02:58<00:16, 34.79it/s]"
          ]
        },
        {
          "output_type": "stream",
          "name": "stdout",
          "text": [
            "/content/gdrive/MyDrive/george_ds/no_george/2424.jpg removed\n",
            "/content/gdrive/MyDrive/george_ds/no_george/2423.jpg removed\n",
            "/content/gdrive/MyDrive/george_ds/no_george/2416.jpg removed\n",
            "/content/gdrive/MyDrive/george_ds/no_george/2456.jpg removed\n",
            "/content/gdrive/MyDrive/george_ds/no_george/2454.jpg removed\n",
            "/content/gdrive/MyDrive/george_ds/no_george/2453.jpg removed\n"
          ]
        },
        {
          "output_type": "stream",
          "name": "stderr",
          "text": [
            " 92%|█████████▏| 6167/6721 [02:58<00:15, 35.55it/s]"
          ]
        },
        {
          "output_type": "stream",
          "name": "stdout",
          "text": [
            "/content/gdrive/MyDrive/george_ds/no_george/2458.jpg removed\n",
            "/content/gdrive/MyDrive/george_ds/no_george/2449.jpg removed\n",
            "/content/gdrive/MyDrive/george_ds/no_george/2455.jpg removed\n",
            "/content/gdrive/MyDrive/george_ds/no_george/2448.jpg removed\n",
            "/content/gdrive/MyDrive/george_ds/no_george/2404.jpg removed\n",
            "/content/gdrive/MyDrive/george_ds/no_george/2413.jpg removed\n",
            "/content/gdrive/MyDrive/george_ds/no_george/2408.jpg removed\n",
            "/content/gdrive/MyDrive/george_ds/no_george/2403.jpg removed\n",
            "/content/gdrive/MyDrive/george_ds/no_george/2402.jpg removed\n"
          ]
        },
        {
          "output_type": "stream",
          "name": "stderr",
          "text": [
            " 92%|█████████▏| 6175/6721 [02:58<00:15, 36.28it/s]"
          ]
        },
        {
          "output_type": "stream",
          "name": "stdout",
          "text": [
            "/content/gdrive/MyDrive/george_ds/no_george/2400.jpg removed\n",
            "/content/gdrive/MyDrive/george_ds/no_george/2325.jpg removed\n",
            "/content/gdrive/MyDrive/george_ds/no_george/2331.jpg removed\n",
            "/content/gdrive/MyDrive/george_ds/no_george/2330.jpg removed\n",
            "/content/gdrive/MyDrive/george_ds/no_george/2474.jpg removed\n",
            "/content/gdrive/MyDrive/george_ds/no_george/2489.jpg removed\n",
            "/content/gdrive/MyDrive/george_ds/no_george/2345.jpg removed\n",
            "/content/gdrive/MyDrive/george_ds/no_george/2340.jpg removed\n",
            "/content/gdrive/MyDrive/george_ds/no_george/2504.jpg removed\n"
          ]
        },
        {
          "output_type": "stream",
          "name": "stderr",
          "text": [
            " 92%|█████████▏| 6185/6721 [02:58<00:13, 38.54it/s]"
          ]
        },
        {
          "output_type": "stream",
          "name": "stdout",
          "text": [
            "/content/gdrive/MyDrive/george_ds/no_george/2393.jpg removed\n",
            "/content/gdrive/MyDrive/george_ds/no_george/2389.jpg removed\n",
            "/content/gdrive/MyDrive/george_ds/no_george/2397.jpg removed\n",
            "/content/gdrive/MyDrive/george_ds/no_george/2396.jpg removed\n",
            "/content/gdrive/MyDrive/george_ds/no_george/2388.jpg removed\n",
            "/content/gdrive/MyDrive/george_ds/no_george/2394.jpg removed\n",
            "/content/gdrive/MyDrive/george_ds/no_george/2390.jpg removed\n",
            "/content/gdrive/MyDrive/george_ds/no_george/2392.jpg removed\n"
          ]
        },
        {
          "output_type": "stream",
          "name": "stderr",
          "text": [
            "\r 92%|█████████▏| 6189/6721 [02:58<00:14, 37.69it/s]"
          ]
        },
        {
          "output_type": "stream",
          "name": "stdout",
          "text": [
            "/content/gdrive/MyDrive/george_ds/no_george/2381.jpg removed\n",
            "/content/gdrive/MyDrive/george_ds/no_george/2379.jpg removed\n",
            "/content/gdrive/MyDrive/george_ds/no_george/2373.jpg removed\n",
            "/content/gdrive/MyDrive/george_ds/no_george/2372.jpg removed\n",
            "/content/gdrive/MyDrive/george_ds/no_george/2371.jpg removed\n",
            "/content/gdrive/MyDrive/george_ds/no_george/2365.jpg removed\n",
            "/content/gdrive/MyDrive/george_ds/no_george/2362.jpg removed\n"
          ]
        },
        {
          "output_type": "stream",
          "name": "stderr",
          "text": [
            " 92%|█████████▏| 6197/6721 [02:59<00:16, 32.52it/s]"
          ]
        },
        {
          "output_type": "stream",
          "name": "stdout",
          "text": [
            "/content/gdrive/MyDrive/george_ds/no_george/2367.jpg removed\n",
            "/content/gdrive/MyDrive/george_ds/no_george/2364.jpg removed\n",
            "/content/gdrive/MyDrive/george_ds/no_george/2361.jpg removed\n",
            "/content/gdrive/MyDrive/george_ds/no_george/2368.jpg removed\n",
            "/content/gdrive/MyDrive/george_ds/no_george/2358.jpg removed\n",
            "/content/gdrive/MyDrive/george_ds/no_george/2359.jpg removed\n"
          ]
        },
        {
          "output_type": "stream",
          "name": "stderr",
          "text": [
            " 92%|█████████▏| 6205/6721 [02:59<00:15, 32.59it/s]"
          ]
        },
        {
          "output_type": "stream",
          "name": "stdout",
          "text": [
            "/content/gdrive/MyDrive/george_ds/no_george/2357.jpg removed\n",
            "/content/gdrive/MyDrive/george_ds/no_george/2356.jpg removed\n",
            "/content/gdrive/MyDrive/george_ds/no_george/2459.jpg removed\n",
            "/content/gdrive/MyDrive/george_ds/no_george/2353.jpg removed\n",
            "/content/gdrive/MyDrive/george_ds/no_george/2347.jpg removed\n",
            "/content/gdrive/MyDrive/george_ds/no_george/2352.jpg removed\n",
            "/content/gdrive/MyDrive/george_ds/no_george/2346.jpg removed\n"
          ]
        },
        {
          "output_type": "stream",
          "name": "stderr",
          "text": [
            " 92%|█████████▏| 6213/6721 [02:59<00:15, 33.57it/s]"
          ]
        },
        {
          "output_type": "stream",
          "name": "stdout",
          "text": [
            "/content/gdrive/MyDrive/george_ds/no_george/2343.jpg removed\n",
            "/content/gdrive/MyDrive/george_ds/no_george/2351.jpg removed\n",
            "/content/gdrive/MyDrive/george_ds/no_george/2348.jpg removed\n",
            "/content/gdrive/MyDrive/george_ds/no_george/2344.jpg removed\n",
            "/content/gdrive/MyDrive/george_ds/no_george/2350.jpg removed\n",
            "/content/gdrive/MyDrive/george_ds/no_george/2342.jpg removed\n",
            "/content/gdrive/MyDrive/george_ds/no_george/2341.jpg removed\n",
            "/content/gdrive/MyDrive/george_ds/no_george/2317.jpg removed\n"
          ]
        },
        {
          "output_type": "stream",
          "name": "stderr",
          "text": [
            "\r 93%|█████████▎| 6217/6721 [02:59<00:15, 31.91it/s]"
          ]
        },
        {
          "output_type": "stream",
          "name": "stdout",
          "text": [
            "/content/gdrive/MyDrive/george_ds/no_george/2311.jpg removed\n",
            "/content/gdrive/MyDrive/george_ds/no_george/2323.jpg removed\n",
            "/content/gdrive/MyDrive/george_ds/no_george/2314.jpg removed\n",
            "/content/gdrive/MyDrive/george_ds/no_george/2312.jpg removed\n",
            "/content/gdrive/MyDrive/george_ds/no_george/2327.jpg removed\n",
            "/content/gdrive/MyDrive/george_ds/no_george/2332.jpg removed\n",
            "/content/gdrive/MyDrive/george_ds/no_george/2337.jpg removed\n",
            "/content/gdrive/MyDrive/george_ds/no_george/2335.jpg removed\n",
            "/content/gdrive/MyDrive/george_ds/no_george/2328.jpg removed\n"
          ]
        },
        {
          "output_type": "stream",
          "name": "stderr",
          "text": [
            " 93%|█████████▎| 6226/6721 [03:00<00:13, 35.43it/s]"
          ]
        },
        {
          "output_type": "stream",
          "name": "stdout",
          "text": [
            "/content/gdrive/MyDrive/george_ds/no_george/2329.jpg removed\n",
            "/content/gdrive/MyDrive/george_ds/no_george/2333.jpg removed\n",
            "/content/gdrive/MyDrive/george_ds/no_george/2336.jpg removed\n",
            "/content/gdrive/MyDrive/george_ds/no_george/2334.jpg removed\n",
            "/content/gdrive/MyDrive/george_ds/no_george/2338.jpg removed\n",
            "/content/gdrive/MyDrive/george_ds/no_george/2326.jpg removed\n",
            "/content/gdrive/MyDrive/george_ds/no_george/2297.jpg removed\n",
            "/content/gdrive/MyDrive/george_ds/no_george/2304.jpg removed\n",
            "/content/gdrive/MyDrive/george_ds/no_george/2307.jpg removed\n"
          ]
        },
        {
          "output_type": "stream",
          "name": "stderr",
          "text": [
            " 93%|█████████▎| 6237/6721 [03:00<00:13, 36.51it/s]"
          ]
        },
        {
          "output_type": "stream",
          "name": "stdout",
          "text": [
            "/content/gdrive/MyDrive/george_ds/no_george/2302.jpg removed\n",
            "/content/gdrive/MyDrive/george_ds/no_george/2301.jpg removed\n",
            "/content/gdrive/MyDrive/george_ds/no_george/2299.jpg removed\n",
            "/content/gdrive/MyDrive/george_ds/no_george/2300.jpg removed\n",
            "/content/gdrive/MyDrive/george_ds/no_george/2296.jpg removed\n",
            "/content/gdrive/MyDrive/george_ds/no_george/2295.jpg removed\n"
          ]
        },
        {
          "output_type": "stream",
          "name": "stderr",
          "text": [
            "\r 93%|█████████▎| 6241/6721 [03:00<00:13, 35.16it/s]"
          ]
        },
        {
          "output_type": "stream",
          "name": "stdout",
          "text": [
            "/content/gdrive/MyDrive/george_ds/no_george/2283.jpg removed\n",
            "/content/gdrive/MyDrive/george_ds/no_george/2289.jpg removed\n",
            "/content/gdrive/MyDrive/george_ds/no_george/2287.jpg removed\n",
            "/content/gdrive/MyDrive/george_ds/no_george/2288.jpg removed\n",
            "/content/gdrive/MyDrive/george_ds/no_george/2291.jpg removed\n",
            "/content/gdrive/MyDrive/george_ds/no_george/2270.jpg removed\n"
          ]
        },
        {
          "output_type": "stream",
          "name": "stderr",
          "text": [
            " 93%|█████████▎| 6249/6721 [03:00<00:16, 29.16it/s]"
          ]
        },
        {
          "output_type": "stream",
          "name": "stdout",
          "text": [
            "/content/gdrive/MyDrive/george_ds/no_george/2265.jpg removed\n",
            "/content/gdrive/MyDrive/george_ds/no_george/2414.jpg removed\n",
            "/content/gdrive/MyDrive/george_ds/no_george/2305.jpg removed\n",
            "/content/gdrive/MyDrive/george_ds/no_george/2303.jpg removed\n",
            "/content/gdrive/MyDrive/george_ds/no_george/2306.jpg removed\n",
            "/content/gdrive/MyDrive/george_ds/no_george/2298.jpg removed\n"
          ]
        },
        {
          "output_type": "stream",
          "name": "stderr",
          "text": [
            "\r 93%|█████████▎| 6253/6721 [03:01<00:16, 27.68it/s]"
          ]
        },
        {
          "output_type": "stream",
          "name": "stdout",
          "text": [
            "/content/gdrive/MyDrive/george_ds/no_george/2308.jpg removed\n",
            "/content/gdrive/MyDrive/george_ds/no_george/2429.jpg removed\n",
            "/content/gdrive/MyDrive/george_ds/no_george/2444.jpg removed\n",
            "/content/gdrive/MyDrive/george_ds/no_george/2321.jpg removed\n",
            "/content/gdrive/MyDrive/george_ds/no_george/2316.jpg removed\n",
            "/content/gdrive/MyDrive/george_ds/no_george/2322.jpg removed\n"
          ]
        },
        {
          "output_type": "stream",
          "name": "stderr",
          "text": [
            " 93%|█████████▎| 6261/6721 [03:01<00:16, 28.70it/s]"
          ]
        },
        {
          "output_type": "stream",
          "name": "stdout",
          "text": [
            "/content/gdrive/MyDrive/george_ds/no_george/2319.jpg removed\n",
            "/content/gdrive/MyDrive/george_ds/no_george/2315.jpg removed\n",
            "/content/gdrive/MyDrive/george_ds/no_george/2318.jpg removed\n",
            "/content/gdrive/MyDrive/george_ds/no_george/2320.jpg removed\n",
            "/content/gdrive/MyDrive/george_ds/no_george/2313.jpg removed\n",
            "/content/gdrive/MyDrive/george_ds/no_george/2310.jpg removed\n"
          ]
        },
        {
          "output_type": "stream",
          "name": "stderr",
          "text": [
            "\r 93%|█████████▎| 6264/6721 [03:01<00:17, 26.49it/s]"
          ]
        },
        {
          "output_type": "stream",
          "name": "stdout",
          "text": [
            "/content/gdrive/MyDrive/george_ds/no_george/2277.jpg removed\n",
            "/content/gdrive/MyDrive/george_ds/no_george/2278.jpg removed\n",
            "/content/gdrive/MyDrive/george_ds/no_george/2274.jpg removed\n",
            "/content/gdrive/MyDrive/george_ds/no_george/2272.jpg removed\n",
            "/content/gdrive/MyDrive/george_ds/no_george/2273.jpg removed\n",
            "/content/gdrive/MyDrive/george_ds/no_george/2271.jpg removed\n"
          ]
        },
        {
          "output_type": "stream",
          "name": "stderr",
          "text": [
            " 93%|█████████▎| 6272/6721 [03:01<00:15, 29.15it/s]"
          ]
        },
        {
          "output_type": "stream",
          "name": "stdout",
          "text": [
            "/content/gdrive/MyDrive/george_ds/no_george/2268.jpg removed\n",
            "/content/gdrive/MyDrive/george_ds/no_george/2267.jpg removed\n",
            "/content/gdrive/MyDrive/george_ds/no_george/2275.jpg removed\n",
            "/content/gdrive/MyDrive/george_ds/no_george/2269.jpg removed\n",
            "/content/gdrive/MyDrive/george_ds/no_george/2276.jpg removed\n",
            "/content/gdrive/MyDrive/george_ds/no_george/2266.jpg removed\n"
          ]
        },
        {
          "output_type": "stream",
          "name": "stderr",
          "text": [
            " 93%|█████████▎| 6279/6721 [03:01<00:15, 29.17it/s]"
          ]
        },
        {
          "output_type": "stream",
          "name": "stdout",
          "text": [
            "/content/gdrive/MyDrive/george_ds/no_george/2238.jpg removed\n",
            "/content/gdrive/MyDrive/george_ds/no_george/2246.jpg removed\n",
            "/content/gdrive/MyDrive/george_ds/no_george/2244.jpg removed\n",
            "/content/gdrive/MyDrive/george_ds/no_george/2243.jpg removed\n",
            "/content/gdrive/MyDrive/george_ds/no_george/2248.jpg removed\n",
            "/content/gdrive/MyDrive/george_ds/no_george/2242.jpg removed\n",
            "/content/gdrive/MyDrive/george_ds/no_george/2241.jpg removed\n"
          ]
        },
        {
          "output_type": "stream",
          "name": "stderr",
          "text": [
            " 94%|█████████▎| 6286/6721 [03:02<00:15, 28.32it/s]"
          ]
        },
        {
          "output_type": "stream",
          "name": "stdout",
          "text": [
            "/content/gdrive/MyDrive/george_ds/no_george/2236.jpg removed\n",
            "/content/gdrive/MyDrive/george_ds/no_george/2235.jpg removed\n",
            "/content/gdrive/MyDrive/george_ds/no_george/2232.jpg removed\n",
            "/content/gdrive/MyDrive/george_ds/no_george/2227.jpg removed\n",
            "/content/gdrive/MyDrive/george_ds/no_george/2221.jpg removed\n",
            "/content/gdrive/MyDrive/george_ds/no_george/2253.jpg removed\n"
          ]
        },
        {
          "output_type": "stream",
          "name": "stderr",
          "text": [
            " 94%|█████████▎| 6294/6721 [03:02<00:12, 32.88it/s]"
          ]
        },
        {
          "output_type": "stream",
          "name": "stdout",
          "text": [
            "/content/gdrive/MyDrive/george_ds/no_george/2255.jpg removed\n",
            "/content/gdrive/MyDrive/george_ds/no_george/2384.jpg removed\n",
            "/content/gdrive/MyDrive/george_ds/no_george/2369.jpg removed\n",
            "/content/gdrive/MyDrive/george_ds/no_george/2240.jpg removed\n",
            "/content/gdrive/MyDrive/george_ds/no_george/2245.jpg removed\n",
            "/content/gdrive/MyDrive/george_ds/no_george/2239.jpg removed\n",
            "/content/gdrive/MyDrive/george_ds/no_george/2237.jpg removed\n",
            "/content/gdrive/MyDrive/george_ds/no_george/2247.jpg removed\n"
          ]
        },
        {
          "output_type": "stream",
          "name": "stderr",
          "text": [
            "\r 94%|█████████▎| 6298/6721 [03:02<00:13, 32.29it/s]"
          ]
        },
        {
          "output_type": "stream",
          "name": "stdout",
          "text": [
            "/content/gdrive/MyDrive/george_ds/no_george/2399.jpg removed\n",
            "/content/gdrive/MyDrive/george_ds/no_george/2286.jpg removed\n",
            "/content/gdrive/MyDrive/george_ds/no_george/2284.jpg removed\n",
            "/content/gdrive/MyDrive/george_ds/no_george/2292.jpg removed\n",
            "/content/gdrive/MyDrive/george_ds/no_george/2285.jpg removed\n"
          ]
        },
        {
          "output_type": "stream",
          "name": "stderr",
          "text": [
            " 94%|█████████▍| 6306/6721 [03:02<00:13, 29.82it/s]"
          ]
        },
        {
          "output_type": "stream",
          "name": "stdout",
          "text": [
            "/content/gdrive/MyDrive/george_ds/no_george/2293.jpg removed\n",
            "/content/gdrive/MyDrive/george_ds/no_george/2290.jpg removed\n",
            "/content/gdrive/MyDrive/george_ds/no_george/2282.jpg removed\n",
            "/content/gdrive/MyDrive/george_ds/no_george/2281.jpg removed\n",
            "/content/gdrive/MyDrive/george_ds/no_george/2280.jpg removed\n",
            "/content/gdrive/MyDrive/george_ds/no_george/2262.jpg removed\n",
            "/content/gdrive/MyDrive/george_ds/no_george/2263.jpg removed\n"
          ]
        },
        {
          "output_type": "stream",
          "name": "stderr",
          "text": [
            "\r 94%|█████████▍| 6310/6721 [03:02<00:13, 30.56it/s]"
          ]
        },
        {
          "output_type": "stream",
          "name": "stdout",
          "text": [
            "/content/gdrive/MyDrive/george_ds/no_george/2261.jpg removed\n",
            "/content/gdrive/MyDrive/george_ds/no_george/2254.jpg removed\n",
            "/content/gdrive/MyDrive/george_ds/no_george/2259.jpg removed\n",
            "/content/gdrive/MyDrive/george_ds/no_george/2258.jpg removed\n",
            "/content/gdrive/MyDrive/george_ds/no_george/2213.jpg removed\n",
            "/content/gdrive/MyDrive/george_ds/no_george/2206.jpg removed\n",
            "/content/gdrive/MyDrive/george_ds/no_george/2212.jpg removed\n"
          ]
        },
        {
          "output_type": "stream",
          "name": "stderr",
          "text": [
            " 94%|█████████▍| 6318/6721 [03:03<00:13, 30.50it/s]"
          ]
        },
        {
          "output_type": "stream",
          "name": "stdout",
          "text": [
            "/content/gdrive/MyDrive/george_ds/no_george/2228.jpg removed\n",
            "/content/gdrive/MyDrive/george_ds/no_george/2230.jpg removed\n",
            "/content/gdrive/MyDrive/george_ds/no_george/2233.jpg removed\n",
            "/content/gdrive/MyDrive/george_ds/no_george/2231.jpg removed\n",
            "/content/gdrive/MyDrive/george_ds/no_george/2223.jpg removed\n"
          ]
        },
        {
          "output_type": "stream",
          "name": "stderr",
          "text": [
            "\r 94%|█████████▍| 6322/6721 [03:03<00:15, 25.47it/s]"
          ]
        },
        {
          "output_type": "stream",
          "name": "stdout",
          "text": [
            "/content/gdrive/MyDrive/george_ds/no_george/2225.jpg removed\n",
            "/content/gdrive/MyDrive/george_ds/no_george/2224.jpg removed\n",
            "/content/gdrive/MyDrive/george_ds/no_george/2229.jpg removed\n",
            "/content/gdrive/MyDrive/george_ds/no_george/2226.jpg removed\n",
            "/content/gdrive/MyDrive/george_ds/no_george/2187.jpg removed\n"
          ]
        },
        {
          "output_type": "stream",
          "name": "stderr",
          "text": [
            " 94%|█████████▍| 6329/6721 [03:03<00:14, 27.58it/s]"
          ]
        },
        {
          "output_type": "stream",
          "name": "stdout",
          "text": [
            "/content/gdrive/MyDrive/george_ds/no_george/2180.jpg removed\n",
            "/content/gdrive/MyDrive/george_ds/no_george/2185.jpg removed\n",
            "/content/gdrive/MyDrive/george_ds/no_george/2172.jpg removed\n",
            "/content/gdrive/MyDrive/george_ds/no_george/2184.jpg removed\n",
            "/content/gdrive/MyDrive/george_ds/no_george/2179.jpg removed\n",
            "/content/gdrive/MyDrive/george_ds/no_george/2183.jpg removed\n",
            "/content/gdrive/MyDrive/george_ds/no_george/2177.jpg removed\n",
            "/content/gdrive/MyDrive/george_ds/no_george/2176.jpg removed\n"
          ]
        },
        {
          "output_type": "stream",
          "name": "stderr",
          "text": [
            " 94%|█████████▍| 6337/6721 [03:03<00:12, 30.06it/s]"
          ]
        },
        {
          "output_type": "stream",
          "name": "stdout",
          "text": [
            "/content/gdrive/MyDrive/george_ds/no_george/2339.jpg removed\n",
            "/content/gdrive/MyDrive/george_ds/no_george/2354.jpg removed\n",
            "/content/gdrive/MyDrive/george_ds/no_george/2164.jpg removed\n",
            "/content/gdrive/MyDrive/george_ds/no_george/2162.jpg removed\n",
            "/content/gdrive/MyDrive/george_ds/no_george/2169.jpg removed\n",
            "/content/gdrive/MyDrive/george_ds/no_george/2166.jpg removed\n"
          ]
        },
        {
          "output_type": "stream",
          "name": "stderr",
          "text": [
            "\r 94%|█████████▍| 6341/6721 [03:04<00:12, 30.40it/s]"
          ]
        },
        {
          "output_type": "stream",
          "name": "stdout",
          "text": [
            "/content/gdrive/MyDrive/george_ds/no_george/2170.jpg removed\n",
            "/content/gdrive/MyDrive/george_ds/no_george/2222.jpg removed\n",
            "/content/gdrive/MyDrive/george_ds/no_george/2220.jpg removed\n",
            "/content/gdrive/MyDrive/george_ds/no_george/2173.jpg removed\n",
            "/content/gdrive/MyDrive/george_ds/no_george/2163.jpg removed\n",
            "/content/gdrive/MyDrive/george_ds/no_george/2167.jpg removed\n"
          ]
        },
        {
          "output_type": "stream",
          "name": "stderr",
          "text": [
            " 94%|█████████▍| 6351/6721 [03:04<00:10, 35.47it/s]"
          ]
        },
        {
          "output_type": "stream",
          "name": "stdout",
          "text": [
            "/content/gdrive/MyDrive/george_ds/no_george/2171.jpg removed\n",
            "/content/gdrive/MyDrive/george_ds/no_george/2165.jpg removed\n",
            "/content/gdrive/MyDrive/george_ds/no_george/2168.jpg removed\n",
            "/content/gdrive/MyDrive/george_ds/no_george/2161.jpg removed\n",
            "/content/gdrive/MyDrive/george_ds/no_george/2160.jpg removed\n",
            "/content/gdrive/MyDrive/george_ds/no_george/2119.jpg removed\n",
            "/content/gdrive/MyDrive/george_ds/no_george/2122.jpg removed\n",
            "/content/gdrive/MyDrive/george_ds/no_george/2152.jpg removed\n",
            "/content/gdrive/MyDrive/george_ds/no_george/2150.jpg removed\n",
            "/content/gdrive/MyDrive/george_ds/no_george/2146.jpg removed\n"
          ]
        },
        {
          "output_type": "stream",
          "name": "stderr",
          "text": [
            " 95%|█████████▍| 6360/6721 [03:04<00:10, 35.25it/s]"
          ]
        },
        {
          "output_type": "stream",
          "name": "stdout",
          "text": [
            "/content/gdrive/MyDrive/george_ds/no_george/2147.jpg removed\n",
            "/content/gdrive/MyDrive/george_ds/no_george/2155.jpg removed\n",
            "/content/gdrive/MyDrive/george_ds/no_george/2294.jpg removed\n",
            "/content/gdrive/MyDrive/george_ds/no_george/2203.jpg removed\n",
            "/content/gdrive/MyDrive/george_ds/no_george/2202.jpg removed\n",
            "/content/gdrive/MyDrive/george_ds/no_george/2199.jpg removed\n",
            "/content/gdrive/MyDrive/george_ds/no_george/2200.jpg removed\n"
          ]
        },
        {
          "output_type": "stream",
          "name": "stderr",
          "text": [
            "\r 95%|█████████▍| 6364/6721 [03:04<00:10, 34.23it/s]"
          ]
        },
        {
          "output_type": "stream",
          "name": "stdout",
          "text": [
            "/content/gdrive/MyDrive/george_ds/no_george/2195.jpg removed\n",
            "/content/gdrive/MyDrive/george_ds/no_george/2193.jpg removed\n",
            "/content/gdrive/MyDrive/george_ds/no_george/2196.jpg removed\n",
            "/content/gdrive/MyDrive/george_ds/no_george/2192.jpg removed\n",
            "/content/gdrive/MyDrive/george_ds/no_george/2197.jpg removed\n",
            "/content/gdrive/MyDrive/george_ds/no_george/2214.jpg removed\n"
          ]
        },
        {
          "output_type": "stream",
          "name": "stderr",
          "text": [
            " 95%|█████████▍| 6372/6721 [03:04<00:11, 30.37it/s]"
          ]
        },
        {
          "output_type": "stream",
          "name": "stdout",
          "text": [
            "/content/gdrive/MyDrive/george_ds/no_george/2215.jpg removed\n",
            "/content/gdrive/MyDrive/george_ds/no_george/2217.jpg removed\n",
            "/content/gdrive/MyDrive/george_ds/no_george/2218.jpg removed\n",
            "/content/gdrive/MyDrive/george_ds/no_george/2211.jpg removed\n",
            "/content/gdrive/MyDrive/george_ds/no_george/2208.jpg removed\n",
            "/content/gdrive/MyDrive/george_ds/no_george/2210.jpg removed\n"
          ]
        },
        {
          "output_type": "stream",
          "name": "stderr",
          "text": [
            " 95%|█████████▍| 6379/6721 [03:05<00:11, 29.00it/s]"
          ]
        },
        {
          "output_type": "stream",
          "name": "stdout",
          "text": [
            "/content/gdrive/MyDrive/george_ds/no_george/2209.jpg removed\n",
            "/content/gdrive/MyDrive/george_ds/no_george/2205.jpg removed\n",
            "/content/gdrive/MyDrive/george_ds/no_george/2309.jpg removed\n",
            "/content/gdrive/MyDrive/george_ds/no_george/2191.jpg removed\n",
            "/content/gdrive/MyDrive/george_ds/no_george/2198.jpg removed\n",
            "/content/gdrive/MyDrive/george_ds/no_george/2194.jpg removed\n",
            "/content/gdrive/MyDrive/george_ds/no_george/2190.jpg removed\n"
          ]
        },
        {
          "output_type": "stream",
          "name": "stderr",
          "text": [
            " 95%|█████████▌| 6386/6721 [03:05<00:11, 29.59it/s]"
          ]
        },
        {
          "output_type": "stream",
          "name": "stdout",
          "text": [
            "/content/gdrive/MyDrive/george_ds/no_george/2201.jpg removed\n",
            "/content/gdrive/MyDrive/george_ds/no_george/2324.jpg removed\n",
            "/content/gdrive/MyDrive/george_ds/no_george/2216.jpg removed\n",
            "/content/gdrive/MyDrive/george_ds/no_george/2207.jpg removed\n",
            "/content/gdrive/MyDrive/george_ds/no_george/2181.jpg removed\n",
            "/content/gdrive/MyDrive/george_ds/no_george/2182.jpg removed\n",
            "/content/gdrive/MyDrive/george_ds/no_george/2186.jpg removed\n"
          ]
        },
        {
          "output_type": "stream",
          "name": "stderr",
          "text": [
            "\r 95%|█████████▌| 6391/6721 [03:05<00:09, 33.71it/s]"
          ]
        },
        {
          "output_type": "stream",
          "name": "stdout",
          "text": [
            "/content/gdrive/MyDrive/george_ds/no_george/2188.jpg removed\n",
            "/content/gdrive/MyDrive/george_ds/no_george/2178.jpg removed\n",
            "/content/gdrive/MyDrive/george_ds/no_george/2175.jpg removed\n",
            "/content/gdrive/MyDrive/george_ds/no_george/2118.jpg removed\n",
            "/content/gdrive/MyDrive/george_ds/no_george/2125.jpg removed\n",
            "/content/gdrive/MyDrive/george_ds/no_george/2116.jpg removed\n",
            "/content/gdrive/MyDrive/george_ds/no_george/2123.jpg removed\n",
            "/content/gdrive/MyDrive/george_ds/no_george/2124.jpg removed\n"
          ]
        },
        {
          "output_type": "stream",
          "name": "stderr",
          "text": [
            " 95%|█████████▌| 6399/6721 [03:05<00:10, 29.52it/s]"
          ]
        },
        {
          "output_type": "stream",
          "name": "stdout",
          "text": [
            "/content/gdrive/MyDrive/george_ds/no_george/2121.jpg removed\n",
            "/content/gdrive/MyDrive/george_ds/no_george/2127.jpg removed\n",
            "/content/gdrive/MyDrive/george_ds/no_george/2158.jpg removed\n",
            "/content/gdrive/MyDrive/george_ds/no_george/2157.jpg removed\n",
            "/content/gdrive/MyDrive/george_ds/no_george/2156.jpg removed\n",
            "/content/gdrive/MyDrive/george_ds/no_george/2153.jpg removed\n"
          ]
        },
        {
          "output_type": "stream",
          "name": "stderr",
          "text": [
            " 95%|█████████▌| 6406/6721 [03:06<00:10, 28.66it/s]"
          ]
        },
        {
          "output_type": "stream",
          "name": "stdout",
          "text": [
            "/content/gdrive/MyDrive/george_ds/no_george/2149.jpg removed\n",
            "/content/gdrive/MyDrive/george_ds/no_george/2154.jpg removed\n",
            "/content/gdrive/MyDrive/george_ds/no_george/2151.jpg removed\n",
            "/content/gdrive/MyDrive/george_ds/no_george/2148.jpg removed\n",
            "/content/gdrive/MyDrive/george_ds/no_george/2145.jpg removed\n",
            "/content/gdrive/MyDrive/george_ds/no_george/2103.jpg removed\n"
          ]
        },
        {
          "output_type": "stream",
          "name": "stderr",
          "text": [
            " 95%|█████████▌| 6412/6721 [03:06<00:11, 25.96it/s]"
          ]
        },
        {
          "output_type": "stream",
          "name": "stdout",
          "text": [
            "/content/gdrive/MyDrive/george_ds/no_george/2110.jpg removed\n",
            "/content/gdrive/MyDrive/george_ds/no_george/2104.jpg removed\n",
            "/content/gdrive/MyDrive/george_ds/no_george/2130.jpg removed\n",
            "/content/gdrive/MyDrive/george_ds/no_george/2131.jpg removed\n",
            "/content/gdrive/MyDrive/george_ds/no_george/2136.jpg removed\n",
            "/content/gdrive/MyDrive/george_ds/no_george/2140.jpg removed\n"
          ]
        },
        {
          "output_type": "stream",
          "name": "stderr",
          "text": [
            "\r 95%|█████████▌| 6415/6721 [03:06<00:11, 26.63it/s]"
          ]
        },
        {
          "output_type": "stream",
          "name": "stdout",
          "text": [
            "/content/gdrive/MyDrive/george_ds/no_george/2264.jpg removed\n",
            "/content/gdrive/MyDrive/george_ds/no_george/2279.jpg removed\n",
            "/content/gdrive/MyDrive/george_ds/no_george/2117.jpg removed\n",
            "/content/gdrive/MyDrive/george_ds/no_george/2120.jpg removed\n",
            "/content/gdrive/MyDrive/george_ds/no_george/2128.jpg removed\n"
          ]
        },
        {
          "output_type": "stream",
          "name": "stderr",
          "text": [
            " 96%|█████████▌| 6423/6721 [03:06<00:09, 30.59it/s]"
          ]
        },
        {
          "output_type": "stream",
          "name": "stdout",
          "text": [
            "/content/gdrive/MyDrive/george_ds/no_george/2126.jpg removed\n",
            "/content/gdrive/MyDrive/george_ds/no_george/2115.jpg removed\n",
            "/content/gdrive/MyDrive/george_ds/no_george/2159.jpg removed\n",
            "/content/gdrive/MyDrive/george_ds/no_george/2077.jpg removed\n",
            "/content/gdrive/MyDrive/george_ds/no_george/2080.jpg removed\n",
            "/content/gdrive/MyDrive/george_ds/no_george/2079.jpg removed\n",
            "/content/gdrive/MyDrive/george_ds/no_george/2075.jpg removed\n",
            "/content/gdrive/MyDrive/george_ds/no_george/2076.jpg removed\n",
            "/content/gdrive/MyDrive/george_ds/no_george/2083.jpg removed\n",
            "/content/gdrive/MyDrive/george_ds/no_george/2078.jpg removed\n"
          ]
        },
        {
          "output_type": "stream",
          "name": "stderr",
          "text": [
            " 96%|█████████▌| 6432/6721 [03:06<00:08, 35.52it/s]"
          ]
        },
        {
          "output_type": "stream",
          "name": "stdout",
          "text": [
            "/content/gdrive/MyDrive/george_ds/no_george/2071.jpg removed\n",
            "/content/gdrive/MyDrive/george_ds/no_george/2219.jpg removed\n",
            "/content/gdrive/MyDrive/george_ds/no_george/2089.jpg removed\n",
            "/content/gdrive/MyDrive/george_ds/no_george/2097.jpg removed\n",
            "/content/gdrive/MyDrive/george_ds/no_george/2090.jpg removed\n",
            "/content/gdrive/MyDrive/george_ds/no_george/2092.jpg removed\n",
            "/content/gdrive/MyDrive/george_ds/no_george/2088.jpg removed\n",
            "/content/gdrive/MyDrive/george_ds/no_george/2096.jpg removed\n",
            "/content/gdrive/MyDrive/george_ds/no_george/2094.jpg removed\n"
          ]
        },
        {
          "output_type": "stream",
          "name": "stderr",
          "text": [
            " 96%|█████████▌| 6442/6721 [03:07<00:07, 37.47it/s]"
          ]
        },
        {
          "output_type": "stream",
          "name": "stdout",
          "text": [
            "/content/gdrive/MyDrive/george_ds/no_george/2108.jpg removed\n",
            "/content/gdrive/MyDrive/george_ds/no_george/2106.jpg removed\n",
            "/content/gdrive/MyDrive/george_ds/no_george/2107.jpg removed\n",
            "/content/gdrive/MyDrive/george_ds/no_george/2112.jpg removed\n",
            "/content/gdrive/MyDrive/george_ds/no_george/2113.jpg removed\n",
            "/content/gdrive/MyDrive/george_ds/no_george/2111.jpg removed\n",
            "/content/gdrive/MyDrive/george_ds/no_george/2105.jpg removed\n",
            "/content/gdrive/MyDrive/george_ds/no_george/2102.jpg removed\n",
            "/content/gdrive/MyDrive/george_ds/no_george/2101.jpg removed\n"
          ]
        },
        {
          "output_type": "stream",
          "name": "stderr",
          "text": [
            " 96%|█████████▌| 6452/6721 [03:07<00:06, 39.56it/s]"
          ]
        },
        {
          "output_type": "stream",
          "name": "stdout",
          "text": [
            "/content/gdrive/MyDrive/george_ds/no_george/2100.jpg removed\n",
            "/content/gdrive/MyDrive/george_ds/no_george/2234.jpg removed\n",
            "/content/gdrive/MyDrive/george_ds/no_george/2249.jpg removed\n",
            "/content/gdrive/MyDrive/george_ds/no_george/2109.jpg removed\n",
            "/content/gdrive/MyDrive/george_ds/no_george/2132.jpg removed\n",
            "/content/gdrive/MyDrive/george_ds/no_george/2142.jpg removed\n",
            "/content/gdrive/MyDrive/george_ds/no_george/2141.jpg removed\n",
            "/content/gdrive/MyDrive/george_ds/no_george/2143.jpg removed\n"
          ]
        },
        {
          "output_type": "stream",
          "name": "stderr",
          "text": [
            " 96%|█████████▌| 6460/6721 [03:07<00:06, 38.06it/s]"
          ]
        },
        {
          "output_type": "stream",
          "name": "stdout",
          "text": [
            "/content/gdrive/MyDrive/george_ds/no_george/2137.jpg removed\n",
            "/content/gdrive/MyDrive/george_ds/no_george/2138.jpg removed\n",
            "/content/gdrive/MyDrive/george_ds/no_george/2133.jpg removed\n",
            "/content/gdrive/MyDrive/george_ds/no_george/2134.jpg removed\n",
            "/content/gdrive/MyDrive/george_ds/no_george/2139.jpg removed\n",
            "/content/gdrive/MyDrive/george_ds/no_george/2135.jpg removed\n",
            "/content/gdrive/MyDrive/george_ds/no_george/2174.jpg removed\n",
            "/content/gdrive/MyDrive/george_ds/no_george/2030.jpg removed\n",
            "/content/gdrive/MyDrive/george_ds/no_george/2035.jpg removed\n"
          ]
        },
        {
          "output_type": "stream",
          "name": "stderr",
          "text": [
            " 96%|█████████▋| 6470/6721 [03:07<00:06, 41.59it/s]"
          ]
        },
        {
          "output_type": "stream",
          "name": "stdout",
          "text": [
            "/content/gdrive/MyDrive/george_ds/no_george/2189.jpg removed\n",
            "/content/gdrive/MyDrive/george_ds/no_george/1959.jpg removed\n",
            "/content/gdrive/MyDrive/george_ds/no_george/1954.jpg removed\n",
            "/content/gdrive/MyDrive/george_ds/no_george/1953.jpg removed\n",
            "/content/gdrive/MyDrive/george_ds/no_george/1956.jpg removed\n",
            "/content/gdrive/MyDrive/george_ds/no_george/2045.jpg removed\n",
            "/content/gdrive/MyDrive/george_ds/no_george/2038.jpg removed\n",
            "/content/gdrive/MyDrive/george_ds/no_george/2033.jpg removed\n",
            "/content/gdrive/MyDrive/george_ds/no_george/2025.jpg removed\n"
          ]
        },
        {
          "output_type": "stream",
          "name": "stderr",
          "text": [
            " 96%|█████████▋| 6480/6721 [03:08<00:05, 40.51it/s]"
          ]
        },
        {
          "output_type": "stream",
          "name": "stdout",
          "text": [
            "/content/gdrive/MyDrive/george_ds/no_george/2026.jpg removed\n",
            "/content/gdrive/MyDrive/george_ds/no_george/2029.jpg removed\n",
            "/content/gdrive/MyDrive/george_ds/no_george/2031.jpg removed\n",
            "/content/gdrive/MyDrive/george_ds/no_george/2204.jpg removed\n",
            "/content/gdrive/MyDrive/george_ds/no_george/2042.jpg removed\n",
            "/content/gdrive/MyDrive/george_ds/no_george/2050.jpg removed\n",
            "/content/gdrive/MyDrive/george_ds/no_george/2041.jpg removed\n",
            "/content/gdrive/MyDrive/george_ds/no_george/2047.jpg removed\n",
            "/content/gdrive/MyDrive/george_ds/no_george/2021.jpg removed\n"
          ]
        },
        {
          "output_type": "stream",
          "name": "stderr",
          "text": [
            " 97%|█████████▋| 6490/6721 [03:08<00:05, 40.32it/s]"
          ]
        },
        {
          "output_type": "stream",
          "name": "stdout",
          "text": [
            "/content/gdrive/MyDrive/george_ds/no_george/2022.jpg removed\n",
            "/content/gdrive/MyDrive/george_ds/no_george/2017.jpg removed\n",
            "/content/gdrive/MyDrive/george_ds/no_george/2010.jpg removed\n",
            "/content/gdrive/MyDrive/george_ds/no_george/2013.jpg removed\n",
            "/content/gdrive/MyDrive/george_ds/no_george/2011.jpg removed\n",
            "/content/gdrive/MyDrive/george_ds/no_george/2023.jpg removed\n",
            "/content/gdrive/MyDrive/george_ds/no_george/2057.jpg removed\n",
            "/content/gdrive/MyDrive/george_ds/no_george/2061.jpg removed\n",
            "/content/gdrive/MyDrive/george_ds/no_george/2060.jpg removed\n",
            "/content/gdrive/MyDrive/george_ds/no_george/2062.jpg removed\n"
          ]
        },
        {
          "output_type": "stream",
          "name": "stderr",
          "text": [
            "\r 97%|█████████▋| 6495/6721 [03:08<00:05, 40.73it/s]"
          ]
        },
        {
          "output_type": "stream",
          "name": "stdout",
          "text": [
            "/content/gdrive/MyDrive/george_ds/no_george/2056.jpg removed\n",
            "/content/gdrive/MyDrive/george_ds/no_george/2065.jpg removed\n",
            "/content/gdrive/MyDrive/george_ds/no_george/2064.jpg removed\n",
            "/content/gdrive/MyDrive/george_ds/no_george/2081.jpg removed\n",
            "/content/gdrive/MyDrive/george_ds/no_george/2074.jpg removed\n",
            "/content/gdrive/MyDrive/george_ds/no_george/2082.jpg removed\n",
            "/content/gdrive/MyDrive/george_ds/no_george/2073.jpg removed\n",
            "/content/gdrive/MyDrive/george_ds/no_george/2072.jpg removed\n"
          ]
        },
        {
          "output_type": "stream",
          "name": "stderr",
          "text": [
            " 97%|█████████▋| 6505/6721 [03:08<00:05, 37.61it/s]"
          ]
        },
        {
          "output_type": "stream",
          "name": "stdout",
          "text": [
            "/content/gdrive/MyDrive/george_ds/no_george/2070.jpg removed\n",
            "/content/gdrive/MyDrive/george_ds/no_george/2098.jpg removed\n",
            "/content/gdrive/MyDrive/george_ds/no_george/2093.jpg removed\n",
            "/content/gdrive/MyDrive/george_ds/no_george/2095.jpg removed\n",
            "/content/gdrive/MyDrive/george_ds/no_george/2091.jpg removed\n",
            "/content/gdrive/MyDrive/george_ds/no_george/2087.jpg removed\n",
            "/content/gdrive/MyDrive/george_ds/no_george/2086.jpg removed\n",
            "/content/gdrive/MyDrive/george_ds/no_george/2085.jpg removed\n"
          ]
        },
        {
          "output_type": "stream",
          "name": "stderr",
          "text": [
            " 97%|█████████▋| 6513/6721 [03:09<00:06, 34.26it/s]"
          ]
        },
        {
          "output_type": "stream",
          "name": "stdout",
          "text": [
            "/content/gdrive/MyDrive/george_ds/no_george/2066.jpg removed\n",
            "/content/gdrive/MyDrive/george_ds/no_george/2063.jpg removed\n",
            "/content/gdrive/MyDrive/george_ds/no_george/2067.jpg removed\n",
            "/content/gdrive/MyDrive/george_ds/no_george/2059.jpg removed\n",
            "/content/gdrive/MyDrive/george_ds/no_george/2058.jpg removed\n",
            "/content/gdrive/MyDrive/george_ds/no_george/2068.jpg removed\n",
            "/content/gdrive/MyDrive/george_ds/no_george/2055.jpg removed\n"
          ]
        },
        {
          "output_type": "stream",
          "name": "stderr",
          "text": [
            " 97%|█████████▋| 6522/6721 [03:09<00:05, 37.36it/s]"
          ]
        },
        {
          "output_type": "stream",
          "name": "stdout",
          "text": [
            "/content/gdrive/MyDrive/george_ds/no_george/1940.jpg removed\n",
            "/content/gdrive/MyDrive/george_ds/no_george/1948.jpg removed\n",
            "/content/gdrive/MyDrive/george_ds/no_george/1947.jpg removed\n",
            "/content/gdrive/MyDrive/george_ds/no_george/1944.jpg removed\n",
            "/content/gdrive/MyDrive/george_ds/no_george/1943.jpg removed\n",
            "/content/gdrive/MyDrive/george_ds/no_george/1939.jpg removed\n",
            "/content/gdrive/MyDrive/george_ds/no_george/2004.jpg removed\n",
            "/content/gdrive/MyDrive/george_ds/no_george/2114.jpg removed\n",
            "/content/gdrive/MyDrive/george_ds/no_george/2129.jpg removed\n"
          ]
        },
        {
          "output_type": "stream",
          "name": "stderr",
          "text": [
            "\r 97%|█████████▋| 6526/6721 [03:09<00:05, 33.84it/s]"
          ]
        },
        {
          "output_type": "stream",
          "name": "stdout",
          "text": [
            "/content/gdrive/MyDrive/george_ds/no_george/1995.jpg removed\n",
            "/content/gdrive/MyDrive/george_ds/no_george/2001.jpg removed\n",
            "/content/gdrive/MyDrive/george_ds/no_george/2002.jpg removed\n",
            "/content/gdrive/MyDrive/george_ds/no_george/1996.jpg removed\n",
            "/content/gdrive/MyDrive/george_ds/no_george/1978.jpg removed\n",
            "/content/gdrive/MyDrive/george_ds/no_george/1965.jpg removed\n",
            "/content/gdrive/MyDrive/george_ds/no_george/1972.jpg removed\n",
            "/content/gdrive/MyDrive/george_ds/no_george/2144.jpg removed\n"
          ]
        },
        {
          "output_type": "stream",
          "name": "stderr",
          "text": [
            " 97%|█████████▋| 6536/6721 [03:09<00:04, 38.20it/s]"
          ]
        },
        {
          "output_type": "stream",
          "name": "stdout",
          "text": [
            "/content/gdrive/MyDrive/george_ds/no_george/1950.jpg removed\n",
            "/content/gdrive/MyDrive/george_ds/no_george/2028.jpg removed\n",
            "/content/gdrive/MyDrive/george_ds/no_george/2037.jpg removed\n",
            "/content/gdrive/MyDrive/george_ds/no_george/2036.jpg removed\n",
            "/content/gdrive/MyDrive/george_ds/no_george/2034.jpg removed\n",
            "/content/gdrive/MyDrive/george_ds/no_george/2032.jpg removed\n",
            "/content/gdrive/MyDrive/george_ds/no_george/2027.jpg removed\n",
            "/content/gdrive/MyDrive/george_ds/no_george/2051.jpg removed\n",
            "/content/gdrive/MyDrive/george_ds/no_george/2049.jpg removed\n",
            "/content/gdrive/MyDrive/george_ds/no_george/2048.jpg removed\n"
          ]
        },
        {
          "output_type": "stream",
          "name": "stderr",
          "text": [
            " 97%|█████████▋| 6546/6721 [03:09<00:04, 39.25it/s]"
          ]
        },
        {
          "output_type": "stream",
          "name": "stdout",
          "text": [
            "/content/gdrive/MyDrive/george_ds/no_george/2043.jpg removed\n",
            "/content/gdrive/MyDrive/george_ds/no_george/2046.jpg removed\n",
            "/content/gdrive/MyDrive/george_ds/no_george/2044.jpg removed\n",
            "/content/gdrive/MyDrive/george_ds/no_george/2053.jpg removed\n",
            "/content/gdrive/MyDrive/george_ds/no_george/2052.jpg removed\n",
            "/content/gdrive/MyDrive/george_ds/no_george/2040.jpg removed\n",
            "/content/gdrive/MyDrive/george_ds/no_george/2016.jpg removed\n"
          ]
        },
        {
          "output_type": "stream",
          "name": "stderr",
          "text": [
            " 98%|█████████▊| 6555/6721 [03:10<00:04, 39.18it/s]"
          ]
        },
        {
          "output_type": "stream",
          "name": "stdout",
          "text": [
            "/content/gdrive/MyDrive/george_ds/no_george/2018.jpg removed\n",
            "/content/gdrive/MyDrive/george_ds/no_george/2020.jpg removed\n",
            "/content/gdrive/MyDrive/george_ds/no_george/2019.jpg removed\n",
            "/content/gdrive/MyDrive/george_ds/no_george/2015.jpg removed\n",
            "/content/gdrive/MyDrive/george_ds/no_george/2014.jpg removed\n",
            "/content/gdrive/MyDrive/george_ds/no_george/2012.jpg removed\n",
            "/content/gdrive/MyDrive/george_ds/no_george/1980.jpg removed\n",
            "/content/gdrive/MyDrive/george_ds/no_george/1988.jpg removed\n",
            "/content/gdrive/MyDrive/george_ds/no_george/2099.jpg removed\n"
          ]
        },
        {
          "output_type": "stream",
          "name": "stderr",
          "text": [
            " 98%|█████████▊| 6563/6721 [03:10<00:04, 36.95it/s]"
          ]
        },
        {
          "output_type": "stream",
          "name": "stdout",
          "text": [
            "/content/gdrive/MyDrive/george_ds/no_george/2005.jpg removed\n",
            "/content/gdrive/MyDrive/george_ds/no_george/1997.jpg removed\n",
            "/content/gdrive/MyDrive/george_ds/no_george/1998.jpg removed\n",
            "/content/gdrive/MyDrive/george_ds/no_george/2000.jpg removed\n",
            "/content/gdrive/MyDrive/george_ds/no_george/2006.jpg removed\n",
            "/content/gdrive/MyDrive/george_ds/no_george/1999.jpg removed\n",
            "/content/gdrive/MyDrive/george_ds/no_george/2007.jpg removed\n",
            "/content/gdrive/MyDrive/george_ds/no_george/2008.jpg removed\n"
          ]
        },
        {
          "output_type": "stream",
          "name": "stderr",
          "text": [
            "\r 98%|█████████▊| 6567/6721 [03:10<00:04, 35.47it/s]"
          ]
        },
        {
          "output_type": "stream",
          "name": "stdout",
          "text": [
            "/content/gdrive/MyDrive/george_ds/no_george/2003.jpg removed\n",
            "/content/gdrive/MyDrive/george_ds/no_george/1967.jpg removed\n",
            "/content/gdrive/MyDrive/george_ds/no_george/1961.jpg removed\n",
            "/content/gdrive/MyDrive/george_ds/no_george/1955.jpg removed\n",
            "/content/gdrive/MyDrive/george_ds/no_george/1963.jpg removed\n",
            "/content/gdrive/MyDrive/george_ds/no_george/1962.jpg removed\n"
          ]
        },
        {
          "output_type": "stream",
          "name": "stderr",
          "text": [
            " 98%|█████████▊| 6575/6721 [03:10<00:04, 33.92it/s]"
          ]
        },
        {
          "output_type": "stream",
          "name": "stdout",
          "text": [
            "/content/gdrive/MyDrive/george_ds/no_george/1958.jpg removed\n",
            "/content/gdrive/MyDrive/george_ds/no_george/1960.jpg removed\n",
            "/content/gdrive/MyDrive/george_ds/no_george/1957.jpg removed\n",
            "/content/gdrive/MyDrive/george_ds/no_george/1952.jpg removed\n",
            "/content/gdrive/MyDrive/george_ds/no_george/1951.jpg removed\n",
            "/content/gdrive/MyDrive/george_ds/no_george/1973.jpg removed\n",
            "/content/gdrive/MyDrive/george_ds/no_george/1975.jpg removed\n",
            "/content/gdrive/MyDrive/george_ds/no_george/1974.jpg removed\n",
            "/content/gdrive/MyDrive/george_ds/no_george/1970.jpg removed\n"
          ]
        },
        {
          "output_type": "stream",
          "name": "stderr",
          "text": [
            " 98%|█████████▊| 6586/6721 [03:10<00:03, 40.72it/s]"
          ]
        },
        {
          "output_type": "stream",
          "name": "stdout",
          "text": [
            "/content/gdrive/MyDrive/george_ds/no_george/1977.jpg removed\n",
            "/content/gdrive/MyDrive/george_ds/no_george/1976.jpg removed\n",
            "/content/gdrive/MyDrive/george_ds/no_george/1971.jpg removed\n",
            "/content/gdrive/MyDrive/george_ds/no_george/1969.jpg removed\n",
            "/content/gdrive/MyDrive/george_ds/no_george/1968.jpg removed\n",
            "/content/gdrive/MyDrive/george_ds/no_george/1966.jpg removed\n",
            "/content/gdrive/MyDrive/george_ds/no_george/2069.jpg removed\n",
            "/content/gdrive/MyDrive/george_ds/no_george/1921.jpg removed\n",
            "/content/gdrive/MyDrive/george_ds/no_george/1928.jpg removed\n",
            "/content/gdrive/MyDrive/george_ds/no_george/1920.jpg removed\n"
          ]
        },
        {
          "output_type": "stream",
          "name": "stderr",
          "text": [
            " 98%|█████████▊| 6596/6721 [03:11<00:02, 42.09it/s]"
          ]
        },
        {
          "output_type": "stream",
          "name": "stdout",
          "text": [
            "/content/gdrive/MyDrive/george_ds/no_george/1927.jpg removed\n",
            "/content/gdrive/MyDrive/george_ds/no_george/1926.jpg removed\n",
            "/content/gdrive/MyDrive/george_ds/no_george/2084.jpg removed\n",
            "/content/gdrive/MyDrive/george_ds/no_george/1945.jpg removed\n",
            "/content/gdrive/MyDrive/george_ds/no_george/1938.jpg removed\n",
            "/content/gdrive/MyDrive/george_ds/no_george/1942.jpg removed\n",
            "/content/gdrive/MyDrive/george_ds/no_george/1992.jpg removed\n",
            "/content/gdrive/MyDrive/george_ds/no_george/1983.jpg removed\n",
            "/content/gdrive/MyDrive/george_ds/no_george/1987.jpg removed\n",
            "/content/gdrive/MyDrive/george_ds/no_george/1993.jpg removed\n"
          ]
        },
        {
          "output_type": "stream",
          "name": "stderr",
          "text": [
            " 98%|█████████▊| 6607/6721 [03:11<00:02, 44.55it/s]"
          ]
        },
        {
          "output_type": "stream",
          "name": "stdout",
          "text": [
            "/content/gdrive/MyDrive/george_ds/no_george/1985.jpg removed\n",
            "/content/gdrive/MyDrive/george_ds/no_george/1989.jpg removed\n",
            "/content/gdrive/MyDrive/george_ds/no_george/1984.jpg removed\n",
            "/content/gdrive/MyDrive/george_ds/no_george/1986.jpg removed\n",
            "/content/gdrive/MyDrive/george_ds/no_george/1991.jpg removed\n",
            "/content/gdrive/MyDrive/george_ds/no_george/1990.jpg removed\n",
            "/content/gdrive/MyDrive/george_ds/no_george/1982.jpg removed\n",
            "/content/gdrive/MyDrive/george_ds/no_george/1981.jpg removed\n",
            "/content/gdrive/MyDrive/george_ds/no_george/1946.jpg removed\n",
            "/content/gdrive/MyDrive/george_ds/no_george/1937.jpg removed\n"
          ]
        },
        {
          "output_type": "stream",
          "name": "stderr",
          "text": [
            " 98%|█████████▊| 6617/6721 [03:11<00:02, 40.59it/s]"
          ]
        },
        {
          "output_type": "stream",
          "name": "stdout",
          "text": [
            "/content/gdrive/MyDrive/george_ds/no_george/1941.jpg removed\n",
            "/content/gdrive/MyDrive/george_ds/no_george/1936.jpg removed\n",
            "/content/gdrive/MyDrive/george_ds/no_george/1935.jpg removed\n",
            "/content/gdrive/MyDrive/george_ds/no_george/1871.jpg removed\n",
            "/content/gdrive/MyDrive/george_ds/no_george/1863.jpg removed\n",
            "/content/gdrive/MyDrive/george_ds/no_george/1869.jpg removed\n",
            "/content/gdrive/MyDrive/george_ds/no_george/1864.jpg removed\n",
            "/content/gdrive/MyDrive/george_ds/no_george/1866.jpg removed\n",
            "/content/gdrive/MyDrive/george_ds/no_george/1868.jpg removed"
          ]
        },
        {
          "output_type": "stream",
          "name": "stderr",
          "text": [
            " 99%|█████████▊| 6627/6721 [03:11<00:02, 42.58it/s]"
          ]
        },
        {
          "output_type": "stream",
          "name": "stdout",
          "text": [
            "\n",
            "/content/gdrive/MyDrive/george_ds/no_george/1865.jpg removed\n",
            "/content/gdrive/MyDrive/george_ds/no_george/1862.jpg removed\n",
            "/content/gdrive/MyDrive/george_ds/no_george/1860.jpg removed\n",
            "/content/gdrive/MyDrive/george_ds/no_george/1882.jpg removed\n",
            "/content/gdrive/MyDrive/george_ds/no_george/1875.jpg removed\n",
            "/content/gdrive/MyDrive/george_ds/no_george/1887.jpg removed\n",
            "/content/gdrive/MyDrive/george_ds/no_george/1883.jpg removed\n",
            "/content/gdrive/MyDrive/george_ds/no_george/1885.jpg removed\n",
            "/content/gdrive/MyDrive/george_ds/no_george/1876.jpg removed\n"
          ]
        },
        {
          "output_type": "stream",
          "name": "stderr",
          "text": [
            "\r 99%|█████████▊| 6632/6721 [03:12<00:02, 39.41it/s]"
          ]
        },
        {
          "output_type": "stream",
          "name": "stdout",
          "text": [
            "/content/gdrive/MyDrive/george_ds/no_george/1877.jpg removed\n",
            "/content/gdrive/MyDrive/george_ds/no_george/1884.jpg removed\n",
            "/content/gdrive/MyDrive/george_ds/no_george/1881.jpg removed\n",
            "/content/gdrive/MyDrive/george_ds/no_george/1878.jpg removed\n",
            "/content/gdrive/MyDrive/george_ds/no_george/1886.jpg removed\n",
            "/content/gdrive/MyDrive/george_ds/no_george/1910.jpg removed\n",
            "/content/gdrive/MyDrive/george_ds/no_george/2024.jpg removed\n",
            "/content/gdrive/MyDrive/george_ds/no_george/2009.jpg removed\n",
            "/content/gdrive/MyDrive/george_ds/no_george/2039.jpg removed\n",
            "/content/gdrive/MyDrive/george_ds/no_george/1898.jpg removed"
          ]
        },
        {
          "output_type": "stream",
          "name": "stderr",
          "text": [
            " 99%|█████████▉| 6643/6721 [03:12<00:01, 40.82it/s]"
          ]
        },
        {
          "output_type": "stream",
          "name": "stdout",
          "text": [
            "\n",
            "/content/gdrive/MyDrive/george_ds/no_george/1890.jpg removed\n",
            "/content/gdrive/MyDrive/george_ds/no_george/1901.jpg removed\n",
            "/content/gdrive/MyDrive/george_ds/no_george/1899.jpg removed\n",
            "/content/gdrive/MyDrive/george_ds/no_george/1873.jpg removed\n",
            "/content/gdrive/MyDrive/george_ds/no_george/1870.jpg removed\n",
            "/content/gdrive/MyDrive/george_ds/no_george/1872.jpg removed\n",
            "/content/gdrive/MyDrive/george_ds/no_george/2054.jpg removed\n"
          ]
        },
        {
          "output_type": "stream",
          "name": "stderr",
          "text": [
            " 99%|█████████▉| 6653/6721 [03:12<00:01, 41.78it/s]"
          ]
        },
        {
          "output_type": "stream",
          "name": "stdout",
          "text": [
            "/content/gdrive/MyDrive/george_ds/no_george/1867.jpg removed\n",
            "/content/gdrive/MyDrive/george_ds/no_george/1861.jpg removed\n",
            "/content/gdrive/MyDrive/george_ds/no_george/1933.jpg removed\n",
            "/content/gdrive/MyDrive/george_ds/no_george/1931.jpg removed\n",
            "/content/gdrive/MyDrive/george_ds/no_george/1929.jpg removed\n",
            "/content/gdrive/MyDrive/george_ds/no_george/1932.jpg removed\n",
            "/content/gdrive/MyDrive/george_ds/no_george/1930.jpg removed\n",
            "/content/gdrive/MyDrive/george_ds/no_george/1924.jpg removed\n",
            "/content/gdrive/MyDrive/george_ds/no_george/1925.jpg removed\n"
          ]
        },
        {
          "output_type": "stream",
          "name": "stderr",
          "text": [
            "\r 99%|█████████▉| 6658/6721 [03:12<00:01, 37.50it/s]"
          ]
        },
        {
          "output_type": "stream",
          "name": "stdout",
          "text": [
            "/content/gdrive/MyDrive/george_ds/no_george/1923.jpg removed\n",
            "/content/gdrive/MyDrive/george_ds/no_george/1922.jpg removed\n",
            "/content/gdrive/MyDrive/george_ds/no_george/1903.jpg removed\n",
            "/content/gdrive/MyDrive/george_ds/no_george/1896.jpg removed\n",
            "/content/gdrive/MyDrive/george_ds/no_george/1894.jpg removed\n",
            "/content/gdrive/MyDrive/george_ds/no_george/1900.jpg removed\n",
            "/content/gdrive/MyDrive/george_ds/no_george/1892.jpg removed\n",
            "/content/gdrive/MyDrive/george_ds/no_george/1902.jpg removed\n",
            "/content/gdrive/MyDrive/george_ds/no_george/1895.jpg removed\n",
            "/content/gdrive/MyDrive/george_ds/no_george/1897.jpg removed\n"
          ]
        },
        {
          "output_type": "stream",
          "name": "stderr",
          "text": [
            " 99%|█████████▉| 6668/6721 [03:12<00:01, 40.57it/s]"
          ]
        },
        {
          "output_type": "stream",
          "name": "stdout",
          "text": [
            "/content/gdrive/MyDrive/george_ds/no_george/1893.jpg removed\n",
            "/content/gdrive/MyDrive/george_ds/no_george/1891.jpg removed\n",
            "/content/gdrive/MyDrive/george_ds/no_george/1979.jpg removed\n",
            "/content/gdrive/MyDrive/george_ds/no_george/1964.jpg removed\n",
            "/content/gdrive/MyDrive/george_ds/no_george/1994.jpg removed\n",
            "/content/gdrive/MyDrive/george_ds/no_george/1816.jpg removed\n",
            "/content/gdrive/MyDrive/george_ds/no_george/1822.jpg removed\n",
            "/content/gdrive/MyDrive/george_ds/no_george/1821.jpg removed\n",
            "/content/gdrive/MyDrive/george_ds/no_george/1880.jpg removed\n"
          ]
        },
        {
          "output_type": "stream",
          "name": "stderr",
          "text": [
            " 99%|█████████▉| 6678/6721 [03:13<00:01, 41.22it/s]"
          ]
        },
        {
          "output_type": "stream",
          "name": "stdout",
          "text": [
            "/content/gdrive/MyDrive/george_ds/no_george/1879.jpg removed\n",
            "/content/gdrive/MyDrive/george_ds/no_george/1888.jpg removed\n",
            "/content/gdrive/MyDrive/george_ds/no_george/1918.jpg removed\n",
            "/content/gdrive/MyDrive/george_ds/no_george/1913.jpg removed\n",
            "/content/gdrive/MyDrive/george_ds/no_george/1911.jpg removed\n",
            "/content/gdrive/MyDrive/george_ds/no_george/1914.jpg removed\n",
            "/content/gdrive/MyDrive/george_ds/no_george/1912.jpg removed\n",
            "/content/gdrive/MyDrive/george_ds/no_george/1916.jpg removed\n",
            "/content/gdrive/MyDrive/george_ds/no_george/1915.jpg removed\n"
          ]
        },
        {
          "output_type": "stream",
          "name": "stderr",
          "text": [
            "100%|█████████▉| 6688/6721 [03:13<00:00, 40.73it/s]"
          ]
        },
        {
          "output_type": "stream",
          "name": "stdout",
          "text": [
            "/content/gdrive/MyDrive/george_ds/no_george/1909.jpg removed\n",
            "/content/gdrive/MyDrive/george_ds/no_george/1906.jpg removed\n",
            "/content/gdrive/MyDrive/george_ds/no_george/1949.jpg removed\n",
            "/content/gdrive/MyDrive/george_ds/no_george/1827.jpg removed\n",
            "/content/gdrive/MyDrive/george_ds/no_george/1823.jpg removed\n",
            "/content/gdrive/MyDrive/george_ds/no_george/1819.jpg removed\n",
            "/content/gdrive/MyDrive/george_ds/no_george/1826.jpg removed\n",
            "/content/gdrive/MyDrive/george_ds/no_george/1817.jpg removed\n"
          ]
        },
        {
          "output_type": "stream",
          "name": "stderr",
          "text": [
            "100%|█████████▉| 6697/6721 [03:13<00:00, 38.33it/s]"
          ]
        },
        {
          "output_type": "stream",
          "name": "stdout",
          "text": [
            "/content/gdrive/MyDrive/george_ds/no_george/1820.jpg removed\n",
            "/content/gdrive/MyDrive/george_ds/no_george/1828.jpg removed\n",
            "/content/gdrive/MyDrive/george_ds/no_george/1824.jpg removed\n",
            "/content/gdrive/MyDrive/george_ds/no_george/1818.jpg removed\n",
            "/content/gdrive/MyDrive/george_ds/no_george/1825.jpg removed\n",
            "/content/gdrive/MyDrive/george_ds/no_george/1815.jpg removed\n",
            "/content/gdrive/MyDrive/george_ds/no_george/3239.jpg removed\n",
            "/content/gdrive/MyDrive/george_ds/no_george/3254.jpg removed\n",
            "/content/gdrive/MyDrive/george_ds/no_george/3148.jpg removed\n"
          ]
        },
        {
          "output_type": "stream",
          "name": "stderr",
          "text": [
            "100%|█████████▉| 6706/6721 [03:13<00:00, 39.90it/s]"
          ]
        },
        {
          "output_type": "stream",
          "name": "stdout",
          "text": [
            "/content/gdrive/MyDrive/george_ds/no_george/3144.jpg removed\n",
            "/content/gdrive/MyDrive/george_ds/no_george/3141.jpg removed\n",
            "/content/gdrive/MyDrive/george_ds/no_george/3138.jpg removed\n",
            "/content/gdrive/MyDrive/george_ds/no_george/3136.jpg removed\n",
            "/content/gdrive/MyDrive/george_ds/no_george/3140.jpg removed\n",
            "/content/gdrive/MyDrive/george_ds/no_george/3137.jpg removed\n",
            "/content/gdrive/MyDrive/george_ds/no_george/3143.jpg removed\n",
            "/content/gdrive/MyDrive/george_ds/no_george/3142.jpg removed\n"
          ]
        },
        {
          "output_type": "stream",
          "name": "stderr",
          "text": [
            "\r100%|█████████▉| 6712/6721 [03:14<00:00, 44.70it/s]"
          ]
        },
        {
          "output_type": "stream",
          "name": "stdout",
          "text": [
            "/content/gdrive/MyDrive/george_ds/no_george/3147.jpg removed\n",
            "/content/gdrive/MyDrive/george_ds/no_george/3135.jpg removed\n",
            "/content/gdrive/MyDrive/george_ds/no_george/3124.jpg removed\n",
            "/content/gdrive/MyDrive/george_ds/no_george/3127.jpg removed\n",
            "/content/gdrive/MyDrive/george_ds/no_george/3122.jpg removed\n",
            "/content/gdrive/MyDrive/george_ds/no_george/3130.jpg removed\n",
            "/content/gdrive/MyDrive/george_ds/no_george/3123.jpg removed\n",
            "/content/gdrive/MyDrive/george_ds/no_george/3120.jpg removed\n",
            "/content/gdrive/MyDrive/george_ds/no_george/3114.jpg removed\n",
            "/content/gdrive/MyDrive/george_ds/no_george/3109.jpg removed\n"
          ]
        },
        {
          "output_type": "stream",
          "name": "stderr",
          "text": [
            "100%|██████████| 6721/6721 [03:14<00:00, 34.59it/s]"
          ]
        },
        {
          "output_type": "stream",
          "name": "stdout",
          "text": [
            "/content/gdrive/MyDrive/george_ds/no_george/3113.jpg removed\n",
            "/content/gdrive/MyDrive/george_ds/no_george/3111.jpg removed\n",
            "/content/gdrive/MyDrive/george_ds/no_george/3115.jpg removed\n",
            "/content/gdrive/MyDrive/george_ds/no_george/3107.jpg removed\n",
            "/content/gdrive/MyDrive/george_ds/no_george/3105.jpg removed\n"
          ]
        },
        {
          "output_type": "stream",
          "name": "stderr",
          "text": [
            "\n"
          ]
        }
      ]
    }
  ]
}
