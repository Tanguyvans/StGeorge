{
  "nbformat": 4,
  "nbformat_minor": 0,
  "metadata": {
    "colab": {
      "provenance": [],
      "authorship_tag": "ABX9TyNCTyd4AhnBLfJAlMDuW2ZL",
      "include_colab_link": true
    },
    "kernelspec": {
      "name": "python3",
      "display_name": "Python 3"
    },
    "language_info": {
      "name": "python"
    }
  },
  "cells": [
    {
      "cell_type": "markdown",
      "metadata": {
        "id": "view-in-github",
        "colab_type": "text"
      },
      "source": [
        "<a href=\"https://colab.research.google.com/github/Tanguyvans/StGeorge/blob/main/Managing_dataset.ipynb\" target=\"_parent\"><img src=\"https://colab.research.google.com/assets/colab-badge.svg\" alt=\"Open In Colab\"/></a>"
      ]
    },
    {
      "cell_type": "markdown",
      "source": [
        "# Imports"
      ],
      "metadata": {
        "id": "g9NdXnsrieO9"
      }
    },
    {
      "cell_type": "code",
      "execution_count": null,
      "metadata": {
        "id": "zKFzK3pB96bV"
      },
      "outputs": [],
      "source": [
        "!pip install -q kaggle\n",
        "!pip install ImageHash\n",
        "\n",
        "import urllib\n",
        "import os\n",
        "import pandas as pd\n",
        "import imagehash\n",
        "from tqdm import tqdm\n",
        "from PIL import Image\n",
        "import random\n",
        "import shutil\n",
        "\n",
        "from traitlets.traitlets import default\n",
        "\n",
        "from google.colab import files\n",
        "from google.colab import drive\n",
        "\n",
        "from os import listdir\n",
        "from os.path import isfile, join"
      ]
    },
    {
      "cell_type": "code",
      "source": [
        "drive.mount('/content/gdrive')\n",
        "\n",
        "!mkdir /content/gdrive/MyDrive/george_ds\n",
        "!mkdir /content/gdrive/MyDrive/george_ds/george\n",
        "!mkdir /content/gdrive/MyDrive/george_ds/no_george"
      ],
      "metadata": {
        "id": "Sf8QgUwF-iLd"
      },
      "execution_count": null,
      "outputs": []
    },
    {
      "cell_type": "markdown",
      "source": [
        "# Adding new data to the dataset from Kaggle"
      ],
      "metadata": {
        "id": "cqFkIE43iXyL"
      }
    },
    {
      "cell_type": "code",
      "source": [
        "add_data = True\n",
        "\n",
        "def adding_data(source, target): \n",
        "  files = [f for f in listdir(source) if isfile(join(source, f))]\n",
        "  targetfiles = [f for f in listdir(target) if isfile(join(target, f))]\n",
        "\n",
        "  for file in files: \n",
        "    if file not in target: \n",
        "      dirpath = source+file\n",
        "      !cp {dirpath} {targetpath}\n",
        "\n",
        "if add_data: \n",
        "  files.upload()\n",
        "  !rm -r ~/.kaggle\n",
        "  !mkdir ~/.kaggle\n",
        "  !mv ./kaggle.json ~/.kaggle/\n",
        "  !chmod 600 ~/.kaggle/kaggle.json\n",
        "  !kaggle datasets list\n",
        "  !kaggle datasets download -d gobsan/st-george-or-not\n",
        "  !unzip st-george-or-not.zip"
      ],
      "metadata": {
        "id": "Cz9H09iOA6tr"
      },
      "execution_count": null,
      "outputs": []
    },
    {
      "cell_type": "code",
      "source": [
        "if add_data: \n",
        "  # For the george data\n",
        "  sourcepath = '/content/data/g/'\n",
        "  targetpath = '/content/gdrive/MyDrive/george_ds/george/'\n",
        "  adding_data(sourcepath, targetpath)\n",
        "\n",
        "  # for no_george data \n",
        "  sourcepath = '/content/data/n_g/'\n",
        "  targetpath = '/content/gdrive/MyDrive/george_ds/no_george/'\n",
        "  adding_data(sourcepath, targetpath)\n"
      ],
      "metadata": {
        "id": "1Zw7s7o7iAwY"
      },
      "execution_count": 12,
      "outputs": []
    },
    {
      "cell_type": "markdown",
      "source": [
        "# Filling Dataset with csv file"
      ],
      "metadata": {
        "id": "CFmXRK_uixh2"
      }
    },
    {
      "cell_type": "code",
      "source": [
        "get_images = True\n",
        "\n",
        "source_path = '/content/gdrive/MyDrive/test_assignment_cv/'\n",
        "dataset_path = '/content/gdrive/MyDrive/george_ds/'\n",
        "\n",
        "if get_images: \n",
        "\n",
        "  # making directories\n",
        "  if os.path.exists(dataset_path) == False:\n",
        "    os.mkdir(dataset_path+'george')\n",
        "    os.mkdir(dataset_path+'no_george')\n",
        "\n",
        "  # reading csv files\n",
        "  george = pd.read_csv(source_path+'georges.csv', header = None)\n",
        "  non_george = pd.read_csv(source_path+'non_georges.csv', header = None)\n",
        "\n",
        "  # george elements\n",
        "  for index, row in george.iterrows(): \n",
        "    urllib.request.urlretrieve(row[0], dataset_path+'george/'+str(index)+'.jpg')\n",
        "\n",
        "  # no george elements\n",
        "  for index, row in non_george.iterrows():\n",
        "    urllib.request.urlretrieve(row[0], dataset_path+'no_george/'+str(index)+'.jpg')"
      ],
      "metadata": {
        "id": "smF_VCpGsf1a"
      },
      "execution_count": 14,
      "outputs": []
    },
    {
      "cell_type": "markdown",
      "source": [
        "# Checking for duplicates"
      ],
      "metadata": {
        "id": "b6zB-Mesi2On"
      }
    },
    {
      "cell_type": "code",
      "source": [
        "check_duplicates = True\n",
        "\n",
        "if check_duplicates: \n",
        "  classes = ['george/', 'no_george/']\n",
        "\n",
        "  # creating a dict with the hash of the images. If hash is allreading in dict than it is a duplicate\n",
        "  hash_dict = {}\n",
        "  for classe in classes:\n",
        "    path = dataset_path + classe\n",
        "    for image in tqdm(os.listdir(path)):\n",
        "      path_image = path + image\n",
        "\n",
        "      # if it is not a jpg file, the file should be deleted\n",
        "      if 'jpg' not in image: \n",
        "        os.remove(path_image)\n",
        "        continue\n",
        "      hash = imagehash.dhash(Image.open(path_image))\n",
        "      if hash not in hash_dict:\n",
        "        hash_dict[hash] = path_image\n",
        "\n",
        "      else:\n",
        "        #print(f'{hash_dict[hash]} is equal to {path_image}')\n",
        "        os.remove(path_image)\n",
        "        print(f'{path_image} removed')"
      ],
      "metadata": {
        "id": "CjpsJTkxs5_o"
      },
      "execution_count": null,
      "outputs": []
    },
    {
      "cell_type": "markdown",
      "source": [
        "# Creating test dataset"
      ],
      "metadata": {
        "id": "cUwhkoDmi-PZ"
      }
    },
    {
      "cell_type": "code",
      "source": [
        "!mkdir /content/gdrive/MyDrive/george_test_ds\n",
        "!mkdir /content/gdrive/MyDrive/george_test_ds/george\n",
        "!mkdir /content/gdrive/MyDrive/george_test_ds/no_george"
      ],
      "metadata": {
        "id": "QBU7q2EjNXaC"
      },
      "execution_count": 16,
      "outputs": []
    },
    {
      "cell_type": "code",
      "source": [
        "source = '/content/gdrive/MyDrive/george_ds/'\n",
        "dest = '/content/gdrive/MyDrive/george_test_ds/'\n",
        "files = os.listdir(source+'george/')\n",
        "no_of_files = len(files) // 10\n",
        "for file_name in random.sample(files, no_of_files):\n",
        "    shutil.move(os.path.join(source+'george/', file_name), dest+'george/')\n",
        "\n",
        "files = os.listdir(source+'no_george/')\n",
        "no_of_files = len(files) // 10\n",
        "for file_name in random.sample(files, no_of_files):\n",
        "    shutil.move(os.path.join(source+'no_george/', file_name), dest+'no_george/')"
      ],
      "metadata": {
        "id": "EloZJBd9NnYs"
      },
      "execution_count": 17,
      "outputs": []
    }
  ]
}