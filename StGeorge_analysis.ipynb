{
  "cells": [
    {
      "cell_type": "markdown",
      "metadata": {
        "id": "view-in-github",
        "colab_type": "text"
      },
      "source": [
        "<a href=\"https://colab.research.google.com/github/Tanguyvans/StGeorge/blob/main/StGeorge_analysis.ipynb\" target=\"_parent\"><img src=\"https://colab.research.google.com/assets/colab-badge.svg\" alt=\"Open In Colab\"/></a>"
      ]
    },
    {
      "cell_type": "markdown",
      "source": [
        "# Imports "
      ],
      "metadata": {
        "id": "Q5YC_QVWkDeK"
      }
    },
    {
      "cell_type": "code",
      "execution_count": 164,
      "metadata": {
        "colab": {
          "base_uri": "https://localhost:8080/"
        },
        "id": "LxnjY0YEKtkZ",
        "outputId": "3c923adc-d685-4a67-ae11-523abe83540d"
      },
      "outputs": [
        {
          "output_type": "stream",
          "name": "stdout",
          "text": [
            "Tue Apr  4 22:13:46 2023       \n",
            "+-----------------------------------------------------------------------------+\n",
            "| NVIDIA-SMI 525.85.12    Driver Version: 525.85.12    CUDA Version: 12.0     |\n",
            "|-------------------------------+----------------------+----------------------+\n",
            "| GPU  Name        Persistence-M| Bus-Id        Disp.A | Volatile Uncorr. ECC |\n",
            "| Fan  Temp  Perf  Pwr:Usage/Cap|         Memory-Usage | GPU-Util  Compute M. |\n",
            "|                               |                      |               MIG M. |\n",
            "|===============================+======================+======================|\n",
            "|   0  Tesla T4            Off  | 00000000:00:04.0 Off |                    0 |\n",
            "| N/A   49C    P0    28W /  70W |  14553MiB / 15360MiB |      0%      Default |\n",
            "|                               |                      |                  N/A |\n",
            "+-------------------------------+----------------------+----------------------+\n",
            "                                                                               \n",
            "+-----------------------------------------------------------------------------+\n",
            "| Processes:                                                                  |\n",
            "|  GPU   GI   CI        PID   Type   Process name                  GPU Memory |\n",
            "|        ID   ID                                                   Usage      |\n",
            "|=============================================================================|\n",
            "+-----------------------------------------------------------------------------+\n"
          ]
        }
      ],
      "source": [
        "!/opt/bin/nvidia-smi\n",
        "!rm -rf sample_data"
      ]
    },
    {
      "cell_type": "code",
      "execution_count": 165,
      "metadata": {
        "id": "p-M9BBXnSTwt"
      },
      "outputs": [],
      "source": [
        "import sys\n",
        "import urllib\n",
        "import os\n",
        "from matplotlib import pyplot as plt\n",
        "import math\n",
        "\n",
        "import zipfile\n",
        "import pandas as pd\n",
        "import csv\n",
        "from google.colab import drive\n",
        "\n",
        "# Deep Learning\n",
        "import tensorflow as tf\n",
        "from tensorflow import keras\n",
        "from keras.preprocessing import image\n",
        "from keras.models import Model, load_model\n",
        "from keras import backend as K\n",
        "from keras.applications.vgg16 import VGG16, preprocess_input # 224*224\n",
        "from keras.applications.xception import Xception, preprocess_input, decode_predictions # 299*299\n",
        "from keras.applications.mobilenet import MobileNet, preprocess_input, decode_predictions # 224*224\n",
        "from keras.applications.densenet import DenseNet121 # 224*224\n",
        "\n",
        "from keras.preprocessing.image import ImageDataGenerator\n",
        "from keras.losses import categorical_crossentropy\n",
        "from keras.layers import Dense, GlobalAveragePooling2D, Activation, Flatten, Dropout\n",
        "from keras.callbacks import ModelCheckpoint, EarlyStopping"
      ]
    },
    {
      "cell_type": "code",
      "execution_count": 166,
      "metadata": {
        "id": "1Kb_VaYPMIs8"
      },
      "outputs": [],
      "source": [
        "!printf '%s\\n' 'george' 'no_george'> classes.txt"
      ]
    },
    {
      "cell_type": "code",
      "source": [
        "source_path = '/content/gdrive/MyDrive/test_assignment_cv/'\n",
        "dataset_path = '/content/gdrive/MyDrive/george_ds/'\n",
        "test_path= '/content/gdrive/MyDrive/george_test_ds/'"
      ],
      "metadata": {
        "id": "9o93SxsXUp0q"
      },
      "execution_count": 167,
      "outputs": []
    },
    {
      "cell_type": "code",
      "execution_count": 168,
      "metadata": {
        "id": "IBeGWQmvTH4X"
      },
      "outputs": [],
      "source": [
        "configs = dict(\n",
        "    nb_classes = 2,\n",
        "    batch_size = 64,\n",
        "    input_dim = 224, \n",
        "    epochs = 2, \n",
        "    dataset_name = dataset_path,\n",
        "    test_name = test_path,\n",
        "    classifier = \"Xception\",\n",
        "    pretrain_weights = 'imagenet',\n",
        "    init_learning_rate = 0.001,\n",
        "    lr_decay_rate = 0.1, \n",
        "    optimizer = 'adam',\n",
        "    loss_fn = 'categorical_crossentropy',\n",
        "    metrics = ['acc'],\n",
        "    seed = 42, \n",
        "    validation_split = 0.2\n",
        ")\n",
        "\n",
        "classes_path = 'classes.txt'\n",
        "csv_path = 'result.csv'\n",
        "log_path='logs'\n",
        "result_path = 'results/' + configs['classifier']"
      ]
    },
    {
      "cell_type": "code",
      "execution_count": 169,
      "metadata": {
        "colab": {
          "base_uri": "https://localhost:8080/"
        },
        "id": "b4va693XLoq7",
        "outputId": "26645a91-7f8d-46b2-ac94-1680c11c1869"
      },
      "outputs": [
        {
          "output_type": "stream",
          "name": "stdout",
          "text": [
            "Classes : ['george', 'no_george']\n",
            "Number of classes : 2\n"
          ]
        }
      ],
      "source": [
        "with open(classes_path, 'r') as f:\n",
        "    classes = f.readlines()\n",
        "    classes = list(map(lambda x: x.strip(), classes))\n",
        "num_classes = len(classes)\n",
        "\n",
        "print(f'Classes : {classes}')\n",
        "print(f'Number of classes : {num_classes}')"
      ]
    },
    {
      "cell_type": "code",
      "execution_count": 170,
      "metadata": {
        "colab": {
          "base_uri": "https://localhost:8080/"
        },
        "id": "EYtc5DCYLmR8",
        "outputId": "1a729529-d747-433d-aa6e-72081b4839d5"
      },
      "outputs": [
        {
          "output_type": "stream",
          "name": "stdout",
          "text": [
            "Found 5094 files belonging to 2 classes.\n",
            "Using 4076 files for training.\n",
            "Found 5094 files belonging to 2 classes.\n",
            "Using 1018 files for validation.\n",
            "Found 521 files belonging to 2 classes.\n"
          ]
        }
      ],
      "source": [
        "train_ds = tf.keras.preprocessing.image_dataset_from_directory(\n",
        "\tconfigs['dataset_name'],          \t\t\t\t\t\t\t\t\t\t\t\t\t\t\t\t\t\t  # Path of the dataset\n",
        "\tvalidation_split = configs['validation_split'],             \t\t\t\t\t\t# Data division : validation (20%), train (80%)\n",
        "\tsubset = 'training',                \t\t\t\t\t\t\t\t\t\t\t\t\t\t\t\t\t\t# Selection of training data\n",
        "\tseed = configs['seed'],                          \t\t\t\t\t\t\t\t\t\t\t\t# Initialization of random generator (for permutations)\n",
        "\timage_size = (configs['input_dim'], configs['input_dim']),    \t\t\t\t\t# Input size of images\n",
        "\tbatch_size = configs['batch_size'],\t\t\t\t\t\t\t\t\t\t\t\t\t\t\t\t\t\t\t# Batch_size\n",
        "  label_mode = 'categorical'     \t\t\t\t\t\t\t\t\t\t\t\t\t\t\t\t\t\t\t\t\t# Conversion to One-Hot format\n",
        ")\n",
        "\n",
        "val_ds = tf.keras.preprocessing.image_dataset_from_directory(\n",
        "\tconfigs['dataset_name'],          \t\t\t\t\t\t\t\t\t\t\t\t\t\t\t\t\t\t  # Path of the dataset\n",
        "\tvalidation_split = configs['validation_split'],             \t\t\t\t\t\t# Data division : validation (20%), train (80%)\n",
        "\tsubset = 'validation',              \t\t\t\t\t\t\t\t\t\t\t\t\t\t\t\t\t\t# Selection of validation data\n",
        "\tseed = configs['seed'],                         \t\t\t\t\t\t\t\t\t\t\t\t# Initialization of random generator (for permutations)\n",
        "\timage_size = (configs['input_dim'], configs['input_dim']),    \t\t\t\t\t# Input size of images\n",
        "\tbatch_size = configs['batch_size'], \t\t\t\t\t\t\t\t\t\t\t\t\t\t\t\t\t\t# Batch_size\n",
        "  label_mode = 'categorical'     \t\t\t\t\t\t\t\t\t\t\t\t\t\t\t\t\t\t\t\t\t# Conversion to One-Hot format\n",
        ")\n",
        "\n",
        "test_ds = tf.keras.preprocessing.image_dataset_from_directory(\n",
        "\tconfigs['test_name'],          \t\t\t\t\t\t\t\t\t\t\t\t\t\t\t\t\t\t  \n",
        "\timage_size = (configs['input_dim'], configs['input_dim']),    \t\t\t\t\t# Input size of images\n",
        "  label_mode = 'categorical'     \t\t\t\t\t\t\t\t\t\t\t\t\t\t\t\t\t\t\t\t\t# Conversion to One-Hot format\n",
        ")"
      ]
    },
    {
      "cell_type": "code",
      "execution_count": 171,
      "metadata": {
        "colab": {
          "base_uri": "https://localhost:8080/"
        },
        "id": "VH7IMx_4Lm3t",
        "outputId": "846f8a88-720a-475d-d40b-6a53fd2972f7"
      },
      "outputs": [
        {
          "output_type": "stream",
          "name": "stdout",
          "text": [
            "Found 4076 images belonging to 2 classes.\n"
          ]
        }
      ],
      "source": [
        "data_gen_args = dict(              \n",
        "    featurewise_center=False,\n",
        "    featurewise_std_normalization=False,\n",
        "    rotation_range=20, \n",
        "    width_shift_range=0.3, \n",
        "    height_shift_range=0.3,\n",
        "    validation_split = 0.2,\n",
        "    horizontal_flip = True,\n",
        "    dtype = 'uint8'\n",
        ")\n",
        "\n",
        "color_datagen = ImageDataGenerator(**data_gen_args)\n",
        "\n",
        "train_generator = color_datagen.flow_from_directory(\n",
        "  configs['dataset_name'],          \t\t\t\t\t\t\t\t\t\t\t\t\t\t\t\t\t\t  # Path of the dataset             \t\t\t\n",
        "\tsubset = 'training',                \t\t\t\t\t\t\t\t\t\t\t\t\t\t\t\t\t\t# Selection of training data\n",
        "\tseed = configs['seed'],                         \t\t\t\t\t\t\t\t\t\t\t\t# Initialization of random generator (for permutations)\n",
        "\ttarget_size = (configs['input_dim'], configs['input_dim']),    \t\t\t\t\t# Input size of images\n",
        "\tbatch_size = configs['batch_size'], \t\t\t\t\t\t\t\t\t\t\t\t\t\t\t\t\t\t# Batch_size\n",
        "  class_mode = 'categorical',\n",
        "  shuffle = True\n",
        "  )"
      ]
    },
    {
      "cell_type": "code",
      "execution_count": 172,
      "metadata": {
        "id": "Rpx38scQQZ_I"
      },
      "outputs": [],
      "source": [
        "def build_model():\n",
        "\n",
        "  base_model = Xception(\n",
        "      include_top = False, \n",
        "      weights = 'imagenet', \n",
        "      input_shape = (configs['input_dim'], configs['input_dim'],3))\n",
        "\n",
        "  model = base_model.output\n",
        "  model = Flatten()(model)\n",
        "  model = Dense(128, activation='relu')(model)\n",
        "  model = Dropout(0.4)(model)\n",
        "  model = Dense(32, activation = 'relu')(model)\n",
        "  model = Dropout(0.4)(model)\n",
        "  predictions = Dense(2, activation = 'softmax')(model)\n",
        "\n",
        "  model = Model(inputs=base_model.inputs, outputs = predictions)\n",
        "\n",
        "  return model"
      ]
    },
    {
      "cell_type": "code",
      "source": [
        "model = build_model()"
      ],
      "metadata": {
        "id": "pP1yrggoZ4XQ"
      },
      "execution_count": 173,
      "outputs": []
    },
    {
      "cell_type": "code",
      "source": [
        "def train(config: dict, callbacks: list, verbose: int=0):\n",
        "  tf.keras.backend.clear_session()                  \n",
        "  model = build_model()\n",
        "  for layer in model.layers:\n",
        "      layer.trainable = False       \n",
        "  \n",
        "  for layer in model.layers[:-6]:\n",
        "      layer.trainable = True\n",
        "\n",
        "\n",
        "  opt = keras.optimizers.SGD(learning_rate = config['init_learning_rate'])\n",
        "  opt2 = keras.optimizers.Adam(learning_rate = config['init_learning_rate'])\n",
        "  opt3 = keras.optimizers.RMSprop(learning_rate = config['init_learning_rate'])\n",
        "\n",
        "  model.compile(loss = config['loss_fn'],\n",
        "                optimizer = opt2,\n",
        "                metrics = config['metrics'])  \n",
        "\n",
        "  if os.path.exists(result_path) == False:\n",
        "      os.makedirs(result_path)\n",
        "\n",
        "  history = model.fit_generator(\n",
        "      train_generator,\n",
        "      steps_per_epoch=math.ceil(len(train_generator)),\n",
        "      epochs=config['epochs'],\n",
        "      validation_data = val_ds,\n",
        "      validation_steps=math.ceil(len(val_ds)),\n",
        "      callbacks = callbacks\n",
        "  )\n",
        "  \n",
        "  return model, history"
      ],
      "metadata": {
        "id": "JIix5kwYaI2c"
      },
      "execution_count": 174,
      "outputs": []
    },
    {
      "cell_type": "code",
      "source": [
        "tensorboard_callback = tf.keras.callbacks.TensorBoard(log_dir = log_path,\n",
        "                                                      histogram_freq = 1)\n",
        "\n",
        "stopper_callback = EarlyStopping(monitor = 'val_loss',\n",
        "                                 patience = 5,\n",
        "                                 mode='auto',\n",
        "                                 restore_best_weights=True)\n",
        "\n",
        "ckpt_save = os.path.join('.', 'model_fine_ep_{epoch}_val_acc_{val_acc:.3f}.h5')\n",
        "ckpt_callbak = ModelCheckpoint(ckpt_save,\n",
        "                               monitor = 'val_acc',\n",
        "                               verbose = 1,\n",
        "                               save_best_only = True,\n",
        "                               mode = 'auto')\n",
        "\n"
      ],
      "metadata": {
        "id": "htDus0dEaNMm"
      },
      "execution_count": 175,
      "outputs": []
    },
    {
      "cell_type": "code",
      "source": [
        "callbacks = [tensorboard_callback,\n",
        "             stopper_callback,\n",
        "             ckpt_callbak]\n",
        "\n",
        "# Start training\n",
        "model, history = train(configs, callbacks, 1)\n",
        "\n",
        "loss, acc = model.evaluate(val_ds)\n",
        "print(f'Validation loss: {loss}, validation accuracy : {acc}')\n",
        "\n",
        "loss, acc = model.evaluate(test_ds)\n",
        "print(f'Validation loss: {loss}, validation accuracy : {acc}')\n",
        "\n",
        "model.save('Xception_64_15.h5')"
      ],
      "metadata": {
        "id": "nAKt-GNlaWMp",
        "outputId": "f6d90900-5ce0-41ed-a845-32fc9587ae00",
        "colab": {
          "base_uri": "https://localhost:8080/"
        }
      },
      "execution_count": 176,
      "outputs": [
        {
          "output_type": "stream",
          "name": "stderr",
          "text": [
            "<ipython-input-174-a9a60c146f89>:22: UserWarning: `Model.fit_generator` is deprecated and will be removed in a future version. Please use `Model.fit`, which supports generators.\n",
            "  history = model.fit_generator(\n"
          ]
        },
        {
          "output_type": "stream",
          "name": "stdout",
          "text": [
            "Epoch 1/2\n",
            "64/64 [==============================] - ETA: 0s - loss: 0.5606 - acc: 0.7176\n",
            "Epoch 1: val_acc improved from -inf to 0.75147, saving model to ./model_fine_ep_1_val_acc_0.751.h5\n",
            "64/64 [==============================] - 182s 2s/step - loss: 0.5606 - acc: 0.7176 - val_loss: 1.6161 - val_acc: 0.7515\n",
            "Epoch 2/2\n",
            "64/64 [==============================] - ETA: 0s - loss: 0.4016 - acc: 0.8337\n",
            "Epoch 2: val_acc improved from 0.75147 to 0.80255, saving model to ./model_fine_ep_2_val_acc_0.803.h5\n",
            "64/64 [==============================] - 132s 2s/step - loss: 0.4016 - acc: 0.8337 - val_loss: 0.7632 - val_acc: 0.8026\n",
            "16/16 [==============================] - 9s 365ms/step - loss: 0.7632 - acc: 0.8026\n",
            "Validation loss: 0.7631840109825134, validation accuracy : 0.8025540113449097\n",
            "17/17 [==============================] - 5s 174ms/step - loss: 0.9104 - acc: 0.7601\n",
            "Validation loss: 0.9104279279708862, validation accuracy : 0.7600767612457275\n"
          ]
        }
      ]
    },
    {
      "cell_type": "code",
      "source": [
        "from google.colab import files\n",
        "model = load_model('Xception_64_15.h5')\n",
        "files.upload()"
      ],
      "metadata": {
        "id": "DRZfzv3_VWbo"
      },
      "execution_count": null,
      "outputs": []
    },
    {
      "cell_type": "code",
      "source": [
        "import numpy as np\n",
        "from PIL import Image\n",
        "\n",
        "classes = train_ds.class_names\n",
        "image_path = \"/content/img.jpg\"\n",
        "img = Image.open(image_path).convert('RGB')\n",
        "x = tf.keras.utils.img_to_array(img,data_format='channels_last')\n",
        "x = tf.keras.preprocessing.image.smart_resize(x, size=(configs['input_dim'], configs['input_dim']))\n",
        "x = np.expand_dims(x, axis=0)\n",
        "\n",
        "# predict\n",
        "pred = model.predict(x,batch_size=1)[0]\n",
        "\n",
        "\n",
        "print(\"THE prediction is: \",classes[np.argmax(pred)])"
      ],
      "metadata": {
        "id": "rJvRmE6CV5Cr",
        "outputId": "cc4e429d-74be-4b68-8136-25a3a536a217",
        "colab": {
          "base_uri": "https://localhost:8080/"
        }
      },
      "execution_count": 188,
      "outputs": [
        {
          "output_type": "stream",
          "name": "stdout",
          "text": [
            "1/1 [==============================] - 0s 99ms/step\n",
            "THE prediction is:  george\n"
          ]
        }
      ]
    }
  ],
  "metadata": {
    "colab": {
      "provenance": [],
      "authorship_tag": "ABX9TyPcBxcsG4kRV4Pa8FLStDWu",
      "include_colab_link": true
    },
    "kernelspec": {
      "display_name": "Python 3",
      "name": "python3"
    },
    "language_info": {
      "name": "python"
    },
    "accelerator": "GPU",
    "gpuClass": "standard"
  },
  "nbformat": 4,
  "nbformat_minor": 0
}