{
  "nbformat": 4,
  "nbformat_minor": 0,
  "metadata": {
    "colab": {
      "provenance": [],
      "authorship_tag": "ABX9TyMHb8f+88yoBZBIAqRkzDEQ",
      "include_colab_link": true
    },
    "kernelspec": {
      "name": "python3",
      "display_name": "Python 3"
    },
    "language_info": {
      "name": "python"
    }
  },
  "cells": [
    {
      "cell_type": "markdown",
      "metadata": {
        "id": "view-in-github",
        "colab_type": "text"
      },
      "source": [
        "<a href=\"https://colab.research.google.com/github/Tanguyvans/StGeorge/blob/main/StGeorge_analysis.ipynb\" target=\"_parent\"><img src=\"https://colab.research.google.com/assets/colab-badge.svg\" alt=\"Open In Colab\"/></a>"
      ]
    },
    {
      "cell_type": "code",
      "execution_count": 25,
      "metadata": {
        "id": "p-M9BBXnSTwt"
      },
      "outputs": [],
      "source": [
        "import sys\n",
        "import urllib\n",
        "import os\n",
        "\n",
        "import pandas as pd\n",
        "import csv\n",
        "from google.colab import drive"
      ]
    },
    {
      "cell_type": "markdown",
      "source": [
        "#1. Data Loader"
      ],
      "metadata": {
        "id": "6LP3WlEFS0Te"
      }
    },
    {
      "cell_type": "code",
      "source": [
        "drive.mount('/content/gdrive')\n",
        "drive_data_folder = '/content/gdrive/MyDrive/george_dataset/'\n",
        "\n",
        "if os.path.exists(drive_data_folder) == False:\n",
        "  os.mkdir('/content/gdrive/MyDrive/george_dataset')\n",
        "  os.mkdir('/content/gdrive/MyDrive/george_dataset/george')\n",
        "  os.mkdir('/content/gdrive/MyDrive/george_dataset/non_george')"
      ],
      "metadata": {
        "colab": {
          "base_uri": "https://localhost:8080/"
        },
        "id": "i6EBxvGaSznR",
        "outputId": "63fd78cb-98c5-45ec-f3b2-2a955559a8c0"
      },
      "execution_count": 28,
      "outputs": [
        {
          "output_type": "stream",
          "name": "stdout",
          "text": [
            "Drive already mounted at /content/gdrive; to attempt to forcibly remount, call drive.mount(\"/content/gdrive\", force_remount=True).\n"
          ]
        }
      ]
    },
    {
      "cell_type": "code",
      "source": [
        "george = pd.read_csv('/content/gdrive/MyDrive/test_assignment_cv/georges.csv', header = None)\n",
        "\n",
        "for index, row in george.iterrows(): \n",
        "  urllib.request.urlretrieve(row[0], '/content/gdrive/MyDrive/george_dataset/george/'+str(index)+'.jpg')"
      ],
      "metadata": {
        "id": "IBeGWQmvTH4X"
      },
      "execution_count": null,
      "outputs": []
    }
  ]
}