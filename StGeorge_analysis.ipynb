{
  "cells": [
    {
      "cell_type": "markdown",
      "metadata": {
        "id": "view-in-github",
        "colab_type": "text"
      },
      "source": [
        "<a href=\"https://colab.research.google.com/github/Tanguyvans/StGeorge/blob/main/StGeorge_analysis.ipynb\" target=\"_parent\"><img src=\"https://colab.research.google.com/assets/colab-badge.svg\" alt=\"Open In Colab\"/></a>"
      ]
    },
    {
      "cell_type": "code",
      "execution_count": 17,
      "metadata": {
        "colab": {
          "base_uri": "https://localhost:8080/"
        },
        "id": "LxnjY0YEKtkZ",
        "outputId": "54ef7812-21c3-4644-e66d-f236e0a442ce"
      },
      "outputs": [
        {
          "output_type": "stream",
          "name": "stdout",
          "text": [
            "/bin/bash: /opt/bin/nvidia-smi: No such file or directory\n"
          ]
        }
      ],
      "source": [
        "!/opt/bin/nvidia-smi\n",
        "!rm -rf sample_data"
      ]
    },
    {
      "cell_type": "code",
      "execution_count": 18,
      "metadata": {
        "id": "p-M9BBXnSTwt"
      },
      "outputs": [],
      "source": [
        "import sys\n",
        "import urllib\n",
        "import os\n",
        "from matplotlib import pyplot as plt\n",
        "import math\n",
        "\n",
        "import zipfile\n",
        "import pandas as pd\n",
        "import csv\n",
        "from google.colab import drive\n",
        "\n",
        "# Deep Learning\n",
        "import tensorflow as tf\n",
        "from tensorflow import keras\n",
        "from keras.preprocessing import image\n",
        "from keras.models import Model, load_model\n",
        "from keras import backend as K\n",
        "from keras.applications.vgg16 import VGG16, preprocess_input # 224*224\n",
        "from keras.applications.xception import Xception, preprocess_input, decode_predictions # 299*299\n",
        "from keras.applications.mobilenet import MobileNet, preprocess_input, decode_predictions # 224*224\n",
        "from keras.applications.densenet import DenseNet121 # 224*224\n",
        "\n",
        "from keras.preprocessing.image import ImageDataGenerator\n",
        "from keras.losses import categorical_crossentropy\n",
        "from keras.layers import Dense, GlobalAveragePooling2D, Activation, Flatten, Dropout\n",
        "from keras.callbacks import ModelCheckpoint, EarlyStopping"
      ]
    },
    {
      "cell_type": "markdown",
      "metadata": {
        "id": "6LP3WlEFS0Te"
      },
      "source": [
        "#1. Data Loader"
      ]
    },
    {
      "cell_type": "code",
      "execution_count": 19,
      "metadata": {
        "colab": {
          "base_uri": "https://localhost:8080/"
        },
        "id": "i6EBxvGaSznR",
        "outputId": "b7625c9b-d250-4cc9-91e0-08634c5bad75"
      },
      "outputs": [
        {
          "output_type": "stream",
          "name": "stdout",
          "text": [
            "Drive already mounted at /content/gdrive; to attempt to forcibly remount, call drive.mount(\"/content/gdrive\", force_remount=True).\n"
          ]
        }
      ],
      "source": [
        "get_images = False\n",
        "unzip = False\n",
        "\n",
        "drive.mount('/content/gdrive')\n",
        "\n",
        "\n",
        "if unzip: \n",
        "  with zipfile.ZipFile('/content/gdrive/MyDrive/test_assignment_cv/george_test_task.zip', 'r') as zip_ref:\n",
        "    zip_ref.extractall('/content/gdrive/MyDrive/george_dataset/')\n",
        "\n",
        "if get_images: \n",
        "  if os.path.exists('/content/gdrive/MyDrive/george_dataset/one') == False:\n",
        "    os.mkdir('/content/gdrive/MyDrive/george_dataset/one/')\n",
        "    os.mkdir('/content/gdrive/MyDrive/george_dataset/one/george')\n",
        "    os.mkdir('/content/gdrive/MyDrive/george_dataset/one/no_george')\n",
        "\n",
        "  george = pd.read_csv('/content/gdrive/MyDrive/test_assignment_cv/georges.csv', header = None)\n",
        "  non_george = pd.read_csv('/content/gdrive/MyDrive/test_assignment_cv/non_georges.csv')\n",
        "\n",
        "  for index, row in george.iterrows(): \n",
        "    urllib.request.urlretrieve(row[0], '/content/gdrive/MyDrive/george_dataset/one/george/'+str(index)+'.jpg')\n",
        "\n",
        "  for index, row in non_george.iterrows():\n",
        "    urllib.request.urlretrieve(row[0], '/content/gdrive/MyDrive/george_dataset/one/no_george/'+str(index)+'.jpg')"
      ]
    },
    {
      "cell_type": "code",
      "execution_count": 20,
      "metadata": {
        "id": "1Kb_VaYPMIs8"
      },
      "outputs": [],
      "source": [
        "!printf '%s\\n' 'george' 'no_george'> classes.txt"
      ]
    },
    {
      "cell_type": "code",
      "execution_count": 21,
      "metadata": {
        "id": "IBeGWQmvTH4X"
      },
      "outputs": [],
      "source": [
        "configs = dict(\n",
        "    nb_classes = 2,\n",
        "    batch_size = 64,\n",
        "    input_dim = 224, \n",
        "    epochs = 5, \n",
        "    dataset_name = '/content/gdrive/MyDrive/george_dataset/one/',\n",
        "    classifier = \"Xception\",\n",
        "    pretrain_weights = 'imagenet',\n",
        "    init_learning_rate = 0.001,\n",
        "    lr_decay_rate = 0.1, \n",
        "    optimizer = 'adam',\n",
        "    loss_fn = 'categorical_crossentropy',\n",
        "    metrics = ['acc'],\n",
        "    seed = 42, \n",
        "    validation_split = 0.2\n",
        ")\n",
        "\n",
        "classes_path = 'classes.txt'\n",
        "csv_path = 'result.csv'\n",
        "log_path='logs'\n",
        "result_path = 'results/' + configs['classifier']"
      ]
    },
    {
      "cell_type": "code",
      "execution_count": 22,
      "metadata": {
        "colab": {
          "base_uri": "https://localhost:8080/"
        },
        "id": "b4va693XLoq7",
        "outputId": "868be166-c245-4d4d-d28c-f67f3ea6b082"
      },
      "outputs": [
        {
          "output_type": "stream",
          "name": "stdout",
          "text": [
            "Classes : ['george', 'no_george']\n",
            "Number of classes : 2\n"
          ]
        }
      ],
      "source": [
        "with open(classes_path, 'r') as f:\n",
        "    classes = f.readlines()\n",
        "    classes = list(map(lambda x: x.strip(), classes))\n",
        "num_classes = len(classes)\n",
        "\n",
        "print(f'Classes : {classes}')\n",
        "print(f'Number of classes : {num_classes}')"
      ]
    },
    {
      "cell_type": "code",
      "execution_count": 23,
      "metadata": {
        "colab": {
          "base_uri": "https://localhost:8080/"
        },
        "id": "EYtc5DCYLmR8",
        "outputId": "0c6d1ab7-c5e8-41d9-ce22-35764caef00f"
      },
      "outputs": [
        {
          "output_type": "stream",
          "name": "stdout",
          "text": [
            "Found 6046 files belonging to 2 classes.\n",
            "Using 4837 files for training.\n",
            "Found 6046 files belonging to 2 classes.\n",
            "Using 1209 files for validation.\n"
          ]
        }
      ],
      "source": [
        "train_ds = tf.keras.preprocessing.image_dataset_from_directory(\n",
        "\tconfigs['dataset_name'],          \t\t\t\t\t\t\t\t\t\t\t\t\t\t\t\t\t\t  # Path of the dataset\n",
        "\tvalidation_split = configs['validation_split'],             \t\t\t\t\t\t# Data division : validation (20%), train (80%)\n",
        "\tsubset = 'training',                \t\t\t\t\t\t\t\t\t\t\t\t\t\t\t\t\t\t# Selection of training data\n",
        "\tseed = configs['seed'],                          \t\t\t\t\t\t\t\t\t\t\t\t# Initialization of random generator (for permutations)\n",
        "\timage_size = (configs['input_dim'], configs['input_dim']),    \t\t\t\t\t# Input size of images\n",
        "\tbatch_size = configs['batch_size'],\t\t\t\t\t\t\t\t\t\t\t\t\t\t\t\t\t\t\t# Batch_size\n",
        "  label_mode = 'categorical'     \t\t\t\t\t\t\t\t\t\t\t\t\t\t\t\t\t\t\t\t\t# Conversion to One-Hot format\n",
        ")\n",
        "\n",
        "val_ds = tf.keras.preprocessing.image_dataset_from_directory(\n",
        "\tconfigs['dataset_name'],          \t\t\t\t\t\t\t\t\t\t\t\t\t\t\t\t\t\t  # Path of the dataset\n",
        "\tvalidation_split = configs['validation_split'],             \t\t\t\t\t\t# Data division : validation (20%), train (80%)\n",
        "\tsubset = 'validation',              \t\t\t\t\t\t\t\t\t\t\t\t\t\t\t\t\t\t# Selection of validation data\n",
        "\tseed = configs['seed'],                         \t\t\t\t\t\t\t\t\t\t\t\t# Initialization of random generator (for permutations)\n",
        "\timage_size = (configs['input_dim'], configs['input_dim']),    \t\t\t\t\t# Input size of images\n",
        "\tbatch_size = configs['batch_size'], \t\t\t\t\t\t\t\t\t\t\t\t\t\t\t\t\t\t# Batch_size\n",
        "  label_mode = 'categorical'     \t\t\t\t\t\t\t\t\t\t\t\t\t\t\t\t\t\t\t\t\t# Conversion to One-Hot format\n",
        ")"
      ]
    },
    {
      "cell_type": "code",
      "execution_count": 24,
      "metadata": {
        "colab": {
          "base_uri": "https://localhost:8080/"
        },
        "id": "VH7IMx_4Lm3t",
        "outputId": "0a302089-9339-4ed2-b09c-0f36e9e36f09"
      },
      "outputs": [
        {
          "output_type": "stream",
          "name": "stdout",
          "text": [
            "Found 4837 images belonging to 2 classes.\n",
            "Found 1209 images belonging to 2 classes.\n"
          ]
        }
      ],
      "source": [
        "data_gen_args = dict(              \n",
        "    featurewise_center=False,\n",
        "    featurewise_std_normalization=False,\n",
        "    rotation_range=20, \n",
        "    width_shift_range=0.3, \n",
        "    height_shift_range=0.3,\n",
        "    validation_split = 0.2,\n",
        "    horizontal_flip = True,\n",
        "    dtype = 'uint8'\n",
        ")\n",
        "\n",
        "color_datagen = ImageDataGenerator(**data_gen_args)\n",
        "\n",
        "train_generator = color_datagen.flow_from_directory(\n",
        "  configs['dataset_name'],          \t\t\t\t\t\t\t\t\t\t\t\t\t\t\t\t\t\t  # Path of the dataset             \t\t\t\n",
        "\tsubset = 'training',                \t\t\t\t\t\t\t\t\t\t\t\t\t\t\t\t\t\t# Selection of training data\n",
        "\tseed = configs['seed'],                         \t\t\t\t\t\t\t\t\t\t\t\t# Initialization of random generator (for permutations)\n",
        "\ttarget_size = (configs['input_dim'], configs['input_dim']),    \t\t\t\t\t# Input size of images\n",
        "\tbatch_size = configs['batch_size'], \t\t\t\t\t\t\t\t\t\t\t\t\t\t\t\t\t\t# Batch_size\n",
        "  class_mode = 'categorical',\n",
        "  shuffle = True\n",
        "  )\n",
        "\n",
        "val_generator = color_datagen.flow_from_directory(\n",
        "  configs['dataset_name'],          \t\t\t\t\t\t\t\t\t\t\t\t\t\t\t\t\t\t  # Path of the dataset             \t\t\t\n",
        "\tsubset = 'validation',                \t\t\t\t\t\t\t\t\t\t\t\t\t\t\t\t\t\t# Selection of training data\n",
        "\tseed = configs['seed'],                         \t\t\t\t\t\t\t\t\t\t\t\t# Initialization of random generator (for permutations)\n",
        "\ttarget_size = (configs['input_dim'], configs['input_dim']),    \t\t\t\t\t# Input size of images\n",
        "\tbatch_size = configs['batch_size'], \t\t\t\t\t\t\t\t\t\t\t\t\t\t\t\t\t\t# Batch_size\n",
        "  class_mode = 'categorical'\n",
        "  )\n"
      ]
    },
    {
      "cell_type": "code",
      "execution_count": 25,
      "metadata": {
        "id": "Rpx38scQQZ_I"
      },
      "outputs": [],
      "source": [
        "def build_model():\n",
        "\n",
        "  base_model = Xception(\n",
        "      include_top = False, \n",
        "      weights = 'imagenet', \n",
        "      input_shape = (configs['input_dim'], configs['input_dim'],3))\n",
        "\n",
        "  model = base_model.output\n",
        "  model = Flatten()(model)\n",
        "  model = Dense(128, activation='relu')(model)\n",
        "  model = Dropout(0.4)(model)\n",
        "  model = Dense(32, activation = 'relu')(model)\n",
        "  model = Dropout(0.4)(model)\n",
        "  predictions = Dense(2, activation = 'softmax')(model)\n",
        "\n",
        "  model = Model(inputs=base_model.inputs, outputs = predictions)\n",
        "\n",
        "  return model"
      ]
    },
    {
      "cell_type": "code",
      "source": [
        "model = build_model()\n"
      ],
      "metadata": {
        "id": "pP1yrggoZ4XQ"
      },
      "execution_count": 26,
      "outputs": []
    },
    {
      "cell_type": "code",
      "source": [
        "def train(config: dict, callbacks: list, verbose: int=0):\n",
        "  \n",
        "  # https://stackoverflow.com/questions/57731214/what-tf-keras-backend-clear-session-actually-do\n",
        "  tf.keras.backend.clear_session()                  \n",
        "  \n",
        "  model = build_model()\n",
        "\n",
        "  # Select layers to be trained\n",
        "  for layer in model.layers:\n",
        "      layer.trainable = False       \n",
        "  \n",
        "  for layer in model.layers[:-6]:\n",
        "      layer.trainable = True\n",
        "\n",
        "\n",
        "  opt = keras.optimizers.SGD(learning_rate = config['init_learning_rate'])\n",
        "  opt2 = keras.optimizers.Adam(learning_rate = config['init_learning_rate'])\n",
        "  opt3 = keras.optimizers.RMSprop(learning_rate = config['init_learning_rate'])\n",
        "\n",
        "  model.compile(loss = config['loss_fn'],\n",
        "                optimizer = opt2,\n",
        "                metrics = config['metrics'])  \n",
        "\n",
        "\n",
        "  # Création du dossier pour sauvegrader le model\n",
        "  if os.path.exists(result_path) == False:\n",
        "      os.makedirs(result_path)\n",
        "\n",
        "  history = model.fit_generator(\n",
        "      train_generator,\n",
        "      steps_per_epoch=math.ceil(len(train_generator)),\n",
        "      epochs=config['epochs'],\n",
        "      validation_data = val_ds,\n",
        "      validation_steps=math.ceil(len(val_ds)),\n",
        "      callbacks = callbacks\n",
        "  )\n",
        "  \n",
        "  return model, history"
      ],
      "metadata": {
        "id": "JIix5kwYaI2c"
      },
      "execution_count": 27,
      "outputs": []
    },
    {
      "cell_type": "code",
      "source": [
        "tensorboard_callback = tf.keras.callbacks.TensorBoard(log_dir = log_path,\n",
        "                                                      histogram_freq = 1)\n",
        "\n",
        "# https://www.tensorflow.org/api_docs/python/tf/keras/callbacks/EarlyStopping\n",
        "stopper_callback = EarlyStopping(monitor = 'val_loss',\n",
        "                                 patience = 5,\n",
        "                                 mode='auto',\n",
        "                                 restore_best_weights=True)\n",
        "# https://www.tensorflow.org/api_docs/python/tf/keras/callbacks/ModelCheckpoint\n",
        "ckpt_save = os.path.join('.', 'model_fine_ep_{epoch}_val_acc_{val_acc:.3f}.h5')\n",
        "ckpt_callbak = ModelCheckpoint(ckpt_save,\n",
        "                               monitor = 'val_acc',\n",
        "                               verbose = 1,\n",
        "                               save_best_only = True,\n",
        "                               mode = 'auto')\n",
        "\n"
      ],
      "metadata": {
        "id": "htDus0dEaNMm"
      },
      "execution_count": 28,
      "outputs": []
    },
    {
      "cell_type": "code",
      "source": [
        "callbacks = [tensorboard_callback,\n",
        "             stopper_callback,\n",
        "             ckpt_callbak]\n",
        "\n",
        "# Start training\n",
        "model, history = train(configs, callbacks, 1)\n",
        "\n",
        "loss, acc = model.evaluate(val_ds)\n",
        "print(f'Validation loss: {loss}, validation accuracy : {acc}')"
      ],
      "metadata": {
        "id": "nAKt-GNlaWMp",
        "outputId": "502a4870-0667-44bb-9ee1-9e6cdf15c726",
        "colab": {
          "base_uri": "https://localhost:8080/"
        }
      },
      "execution_count": null,
      "outputs": [
        {
          "output_type": "stream",
          "name": "stderr",
          "text": [
            "<ipython-input-27-aa8d738f5b22>:29: UserWarning: `Model.fit_generator` is deprecated and will be removed in a future version. Please use `Model.fit`, which supports generators.\n",
            "  history = model.fit_generator(\n"
          ]
        },
        {
          "output_type": "stream",
          "name": "stdout",
          "text": [
            "Epoch 1/5\n"
          ]
        }
      ]
    }
  ],
  "metadata": {
    "colab": {
      "provenance": [],
      "authorship_tag": "ABX9TyN6ejiUP9YkLZvY9XimSv8i",
      "include_colab_link": true
    },
    "kernelspec": {
      "display_name": "Python 3",
      "name": "python3"
    },
    "language_info": {
      "name": "python"
    }
  },
  "nbformat": 4,
  "nbformat_minor": 0
}